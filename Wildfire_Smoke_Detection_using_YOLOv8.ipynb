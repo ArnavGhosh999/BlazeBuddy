{
  "cells": [
    {
      "cell_type": "code",
      "source": [
        "!nvidia-smi"
      ],
      "metadata": {
        "colab": {
          "base_uri": "https://localhost:8080/"
        },
        "id": "qyjES8q8CbwE",
        "outputId": "60e21b6c-c9c3-4229-e5dc-4cea15d58c98"
      },
      "execution_count": 2,
      "outputs": [
        {
          "output_type": "stream",
          "name": "stdout",
          "text": [
            "Sat Aug 31 16:36:57 2024       \n",
            "+---------------------------------------------------------------------------------------+\n",
            "| NVIDIA-SMI 535.104.05             Driver Version: 535.104.05   CUDA Version: 12.2     |\n",
            "|-----------------------------------------+----------------------+----------------------+\n",
            "| GPU  Name                 Persistence-M | Bus-Id        Disp.A | Volatile Uncorr. ECC |\n",
            "| Fan  Temp   Perf          Pwr:Usage/Cap |         Memory-Usage | GPU-Util  Compute M. |\n",
            "|                                         |                      |               MIG M. |\n",
            "|=========================================+======================+======================|\n",
            "|   0  NVIDIA A100-SXM4-40GB          Off | 00000000:00:04.0 Off |                    0 |\n",
            "| N/A   30C    P0              44W / 350W |      2MiB / 40960MiB |      0%      Default |\n",
            "|                                         |                      |             Disabled |\n",
            "+-----------------------------------------+----------------------+----------------------+\n",
            "                                                                                         \n",
            "+---------------------------------------------------------------------------------------+\n",
            "| Processes:                                                                            |\n",
            "|  GPU   GI   CI        PID   Type   Process name                            GPU Memory |\n",
            "|        ID   ID                                                             Usage      |\n",
            "|=======================================================================================|\n",
            "|  No running processes found                                                           |\n",
            "+---------------------------------------------------------------------------------------+\n"
          ]
        }
      ]
    },
    {
      "cell_type": "code",
      "source": [
        "!pip install ultralytics\n",
        "\n",
        "from IPython import display\n",
        "display.clear_output()\n",
        "\n",
        "import ultralytics\n",
        "ultralytics.checks()"
      ],
      "metadata": {
        "colab": {
          "base_uri": "https://localhost:8080/"
        },
        "id": "tvP0KYcfCbym",
        "outputId": "4f1ffdc5-6b9b-4ca5-ebe3-e9c05d2ac2ae"
      },
      "execution_count": 3,
      "outputs": [
        {
          "output_type": "stream",
          "name": "stdout",
          "text": [
            "Ultralytics YOLOv8.2.84 🚀 Python-3.10.12 torch-2.4.0+cu121 CUDA:0 (NVIDIA A100-SXM4-40GB, 40514MiB)\n",
            "Setup complete ✅ (12 CPUs, 83.5 GB RAM, 32.8/201.2 GB disk)\n"
          ]
        }
      ]
    },
    {
      "cell_type": "code",
      "source": [
        "from google.colab import drive\n",
        "drive.mount('/content/drive')"
      ],
      "metadata": {
        "colab": {
          "base_uri": "https://localhost:8080/"
        },
        "id": "VkYY8WrUCb1D",
        "outputId": "0e535cd9-c2bd-4932-a78a-4fc83daaacea"
      },
      "execution_count": 1,
      "outputs": [
        {
          "output_type": "stream",
          "name": "stdout",
          "text": [
            "Mounted at /content/drive\n"
          ]
        }
      ]
    },
    {
      "cell_type": "code",
      "source": [
        "!ls"
      ],
      "metadata": {
        "colab": {
          "base_uri": "https://localhost:8080/"
        },
        "id": "mYO91HViCb3g",
        "outputId": "3e35db73-38d5-463c-fa1a-5e1b21753e16"
      },
      "execution_count": 4,
      "outputs": [
        {
          "output_type": "stream",
          "name": "stdout",
          "text": [
            "drive\n"
          ]
        }
      ]
    },
    {
      "cell_type": "code",
      "source": [
        "from ultralytics import YOLO\n",
        "model = YOLO('yolov8n.pt')\n",
        "model.train(data='/content/drive/MyDrive/WildfireSmoke.v1-raw.yolov8/data.yaml', epochs=50, imgsz=640, batch=16)\n"
      ],
      "metadata": {
        "colab": {
          "base_uri": "https://localhost:8080/"
        },
        "id": "yHB_8jB3LzPB",
        "outputId": "a46480b5-db7c-4112-f2fc-792ada0dcc02"
      },
      "execution_count": 5,
      "outputs": [
        {
          "output_type": "stream",
          "name": "stdout",
          "text": [
            "Downloading https://github.com/ultralytics/assets/releases/download/v8.2.0/yolov8n.pt to 'yolov8n.pt'...\n"
          ]
        },
        {
          "output_type": "stream",
          "name": "stderr",
          "text": [
            "100%|██████████| 6.25M/6.25M [00:00<00:00, 396MB/s]"
          ]
        },
        {
          "output_type": "stream",
          "name": "stdout",
          "text": [
            "Ultralytics YOLOv8.2.84 🚀 Python-3.10.12 torch-2.4.0+cu121 CUDA:0 (NVIDIA A100-SXM4-40GB, 40514MiB)\n",
            "\u001b[34m\u001b[1mengine/trainer: \u001b[0mtask=detect, mode=train, model=yolov8n.pt, data=/content/drive/MyDrive/WildfireSmoke.v1-raw.yolov8/data.yaml, epochs=50, time=None, patience=100, batch=16, imgsz=640, save=True, save_period=-1, cache=False, device=None, workers=8, project=None, name=train, exist_ok=False, pretrained=True, optimizer=auto, verbose=True, seed=0, deterministic=True, single_cls=False, rect=False, cos_lr=False, close_mosaic=10, resume=False, amp=True, fraction=1.0, profile=False, freeze=None, multi_scale=False, overlap_mask=True, mask_ratio=4, dropout=0.0, val=True, split=val, save_json=False, save_hybrid=False, conf=None, iou=0.7, max_det=300, half=False, dnn=False, plots=True, source=None, vid_stride=1, stream_buffer=False, visualize=False, augment=False, agnostic_nms=False, classes=None, retina_masks=False, embed=None, show=False, save_frames=False, save_txt=False, save_conf=False, save_crop=False, show_labels=True, show_conf=True, show_boxes=True, line_width=None, format=torchscript, keras=False, optimize=False, int8=False, dynamic=False, simplify=False, opset=None, workspace=4, nms=False, lr0=0.01, lrf=0.01, momentum=0.937, weight_decay=0.0005, warmup_epochs=3.0, warmup_momentum=0.8, warmup_bias_lr=0.1, box=7.5, cls=0.5, dfl=1.5, pose=12.0, kobj=1.0, label_smoothing=0.0, nbs=64, hsv_h=0.015, hsv_s=0.7, hsv_v=0.4, degrees=0.0, translate=0.1, scale=0.5, shear=0.0, perspective=0.0, flipud=0.0, fliplr=0.5, bgr=0.0, mosaic=1.0, mixup=0.0, copy_paste=0.0, auto_augment=randaugment, erasing=0.4, crop_fraction=1.0, cfg=None, tracker=botsort.yaml, save_dir=runs/detect/train\n"
          ]
        },
        {
          "output_type": "stream",
          "name": "stderr",
          "text": [
            "\n"
          ]
        },
        {
          "output_type": "stream",
          "name": "stdout",
          "text": [
            "Downloading https://ultralytics.com/assets/Arial.ttf to '/root/.config/Ultralytics/Arial.ttf'...\n"
          ]
        },
        {
          "output_type": "stream",
          "name": "stderr",
          "text": [
            "100%|██████████| 755k/755k [00:00<00:00, 131MB/s]\n"
          ]
        },
        {
          "output_type": "stream",
          "name": "stdout",
          "text": [
            "Overriding model.yaml nc=80 with nc=1\n",
            "\n",
            "                   from  n    params  module                                       arguments                     \n",
            "  0                  -1  1       464  ultralytics.nn.modules.conv.Conv             [3, 16, 3, 2]                 \n",
            "  1                  -1  1      4672  ultralytics.nn.modules.conv.Conv             [16, 32, 3, 2]                \n",
            "  2                  -1  1      7360  ultralytics.nn.modules.block.C2f             [32, 32, 1, True]             \n",
            "  3                  -1  1     18560  ultralytics.nn.modules.conv.Conv             [32, 64, 3, 2]                \n",
            "  4                  -1  2     49664  ultralytics.nn.modules.block.C2f             [64, 64, 2, True]             \n",
            "  5                  -1  1     73984  ultralytics.nn.modules.conv.Conv             [64, 128, 3, 2]               \n",
            "  6                  -1  2    197632  ultralytics.nn.modules.block.C2f             [128, 128, 2, True]           \n",
            "  7                  -1  1    295424  ultralytics.nn.modules.conv.Conv             [128, 256, 3, 2]              \n",
            "  8                  -1  1    460288  ultralytics.nn.modules.block.C2f             [256, 256, 1, True]           \n",
            "  9                  -1  1    164608  ultralytics.nn.modules.block.SPPF            [256, 256, 5]                 \n",
            " 10                  -1  1         0  torch.nn.modules.upsampling.Upsample         [None, 2, 'nearest']          \n",
            " 11             [-1, 6]  1         0  ultralytics.nn.modules.conv.Concat           [1]                           \n",
            " 12                  -1  1    148224  ultralytics.nn.modules.block.C2f             [384, 128, 1]                 \n",
            " 13                  -1  1         0  torch.nn.modules.upsampling.Upsample         [None, 2, 'nearest']          \n",
            " 14             [-1, 4]  1         0  ultralytics.nn.modules.conv.Concat           [1]                           \n",
            " 15                  -1  1     37248  ultralytics.nn.modules.block.C2f             [192, 64, 1]                  \n",
            " 16                  -1  1     36992  ultralytics.nn.modules.conv.Conv             [64, 64, 3, 2]                \n",
            " 17            [-1, 12]  1         0  ultralytics.nn.modules.conv.Concat           [1]                           \n",
            " 18                  -1  1    123648  ultralytics.nn.modules.block.C2f             [192, 128, 1]                 \n",
            " 19                  -1  1    147712  ultralytics.nn.modules.conv.Conv             [128, 128, 3, 2]              \n",
            " 20             [-1, 9]  1         0  ultralytics.nn.modules.conv.Concat           [1]                           \n",
            " 21                  -1  1    493056  ultralytics.nn.modules.block.C2f             [384, 256, 1]                 \n",
            " 22        [15, 18, 21]  1    751507  ultralytics.nn.modules.head.Detect           [1, [64, 128, 256]]           \n",
            "Model summary: 225 layers, 3,011,043 parameters, 3,011,027 gradients, 8.2 GFLOPs\n",
            "\n",
            "Transferred 319/355 items from pretrained weights\n",
            "\u001b[34m\u001b[1mTensorBoard: \u001b[0mStart with 'tensorboard --logdir runs/detect/train', view at http://localhost:6006/\n",
            "Freezing layer 'model.22.dfl.conv.weight'\n",
            "\u001b[34m\u001b[1mAMP: \u001b[0mrunning Automatic Mixed Precision (AMP) checks with YOLOv8n...\n",
            "\u001b[34m\u001b[1mAMP: \u001b[0mchecks passed ✅\n"
          ]
        },
        {
          "output_type": "stream",
          "name": "stderr",
          "text": [
            "/usr/local/lib/python3.10/dist-packages/ultralytics/engine/trainer.py:268: FutureWarning: `torch.cuda.amp.GradScaler(args...)` is deprecated. Please use `torch.amp.GradScaler('cuda', args...)` instead.\n",
            "  self.scaler = torch.cuda.amp.GradScaler(enabled=self.amp)\n",
            "\u001b[34m\u001b[1mtrain: \u001b[0mScanning /content/drive/MyDrive/WildfireSmoke.v1-raw.yolov8/train/labels... 516 images, 7 backgrounds, 0 corrupt: 100%|██████████| 523/523 [01:06<00:00,  7.85it/s]\n"
          ]
        },
        {
          "output_type": "stream",
          "name": "stdout",
          "text": [
            "\u001b[34m\u001b[1mtrain: \u001b[0mNew cache created: /content/drive/MyDrive/WildfireSmoke.v1-raw.yolov8/train/labels.cache\n",
            "\u001b[34m\u001b[1malbumentations: \u001b[0mBlur(p=0.01, blur_limit=(3, 7)), MedianBlur(p=0.01, blur_limit=(3, 7)), ToGray(p=0.01), CLAHE(p=0.01, clip_limit=(1, 4.0), tile_grid_size=(8, 8))\n"
          ]
        },
        {
          "output_type": "stream",
          "name": "stderr",
          "text": [
            "/usr/lib/python3.10/multiprocessing/popen_fork.py:66: RuntimeWarning: os.fork() was called. os.fork() is incompatible with multithreaded code, and JAX is multithreaded, so this will likely lead to a deadlock.\n",
            "  self.pid = os.fork()\n",
            "\u001b[34m\u001b[1mval: \u001b[0mScanning /content/drive/MyDrive/WildfireSmoke.v1-raw.yolov8/valid/labels.cache... 147 images, 0 backgrounds, 0 corrupt: 100%|██████████| 147/147 [00:00<?, ?it/s]\n"
          ]
        },
        {
          "output_type": "stream",
          "name": "stdout",
          "text": [
            "Plotting labels to runs/detect/train/labels.jpg... \n",
            "\u001b[34m\u001b[1moptimizer:\u001b[0m 'optimizer=auto' found, ignoring 'lr0=0.01' and 'momentum=0.937' and determining best 'optimizer', 'lr0' and 'momentum' automatically... \n",
            "\u001b[34m\u001b[1moptimizer:\u001b[0m AdamW(lr=0.002, momentum=0.9) with parameter groups 57 weight(decay=0.0), 64 weight(decay=0.0005), 63 bias(decay=0.0)\n",
            "\u001b[34m\u001b[1mTensorBoard: \u001b[0mmodel graph visualization added ✅\n",
            "Image sizes 640 train, 640 val\n",
            "Using 8 dataloader workers\n",
            "Logging results to \u001b[1mruns/detect/train\u001b[0m\n",
            "Starting training for 50 epochs...\n",
            "\n",
            "      Epoch    GPU_mem   box_loss   cls_loss   dfl_loss  Instances       Size\n"
          ]
        },
        {
          "output_type": "stream",
          "name": "stderr",
          "text": [
            "       1/50      2.24G      2.047      3.869      1.691          9        640: 100%|██████████| 33/33 [00:06<00:00,  4.72it/s]\n",
            "                 Class     Images  Instances      Box(P          R      mAP50  mAP50-95): 100%|██████████| 5/5 [00:02<00:00,  2.34it/s]\n"
          ]
        },
        {
          "output_type": "stream",
          "name": "stdout",
          "text": [
            "                   all        147        147    0.00265      0.796     0.0512     0.0194\n",
            "\n",
            "      Epoch    GPU_mem   box_loss   cls_loss   dfl_loss  Instances       Size\n"
          ]
        },
        {
          "output_type": "stream",
          "name": "stderr",
          "text": [
            "       2/50       2.2G      1.857      2.701      1.542         16        640: 100%|██████████| 33/33 [00:03<00:00, 10.04it/s]\n",
            "                 Class     Images  Instances      Box(P          R      mAP50  mAP50-95): 100%|██████████| 5/5 [00:00<00:00,  8.23it/s]"
          ]
        },
        {
          "output_type": "stream",
          "name": "stdout",
          "text": [
            "                   all        147        147       0.12      0.109     0.0484      0.017\n"
          ]
        },
        {
          "output_type": "stream",
          "name": "stderr",
          "text": [
            "\n"
          ]
        },
        {
          "output_type": "stream",
          "name": "stdout",
          "text": [
            "\n",
            "      Epoch    GPU_mem   box_loss   cls_loss   dfl_loss  Instances       Size\n"
          ]
        },
        {
          "output_type": "stream",
          "name": "stderr",
          "text": [
            "       3/50       2.2G      1.875      2.381      1.638         14        640: 100%|██████████| 33/33 [00:03<00:00, 10.52it/s]\n",
            "                 Class     Images  Instances      Box(P          R      mAP50  mAP50-95): 100%|██████████| 5/5 [00:00<00:00,  7.18it/s]"
          ]
        },
        {
          "output_type": "stream",
          "name": "stdout",
          "text": [
            "                   all        147        147      0.366      0.374      0.328      0.133\n"
          ]
        },
        {
          "output_type": "stream",
          "name": "stderr",
          "text": [
            "\n"
          ]
        },
        {
          "output_type": "stream",
          "name": "stdout",
          "text": [
            "\n",
            "      Epoch    GPU_mem   box_loss   cls_loss   dfl_loss  Instances       Size\n"
          ]
        },
        {
          "output_type": "stream",
          "name": "stderr",
          "text": [
            "       4/50       2.2G      1.955      2.258      1.726         16        640: 100%|██████████| 33/33 [00:03<00:00, 10.29it/s]\n",
            "                 Class     Images  Instances      Box(P          R      mAP50  mAP50-95): 100%|██████████| 5/5 [00:00<00:00,  6.97it/s]"
          ]
        },
        {
          "output_type": "stream",
          "name": "stdout",
          "text": [
            "                   all        147        147      0.251     0.0748     0.0439      0.011\n"
          ]
        },
        {
          "output_type": "stream",
          "name": "stderr",
          "text": [
            "\n"
          ]
        },
        {
          "output_type": "stream",
          "name": "stdout",
          "text": [
            "\n",
            "      Epoch    GPU_mem   box_loss   cls_loss   dfl_loss  Instances       Size\n"
          ]
        },
        {
          "output_type": "stream",
          "name": "stderr",
          "text": [
            "       5/50       2.2G      1.902       2.03      1.645         15        640: 100%|██████████| 33/33 [00:03<00:00, 10.07it/s]\n",
            "                 Class     Images  Instances      Box(P          R      mAP50  mAP50-95): 100%|██████████| 5/5 [00:00<00:00,  7.34it/s]"
          ]
        },
        {
          "output_type": "stream",
          "name": "stdout",
          "text": [
            "                   all        147        147      0.208      0.242      0.101     0.0342\n"
          ]
        },
        {
          "output_type": "stream",
          "name": "stderr",
          "text": [
            "\n"
          ]
        },
        {
          "output_type": "stream",
          "name": "stdout",
          "text": [
            "\n",
            "      Epoch    GPU_mem   box_loss   cls_loss   dfl_loss  Instances       Size\n"
          ]
        },
        {
          "output_type": "stream",
          "name": "stderr",
          "text": [
            "       6/50      2.22G      1.844      1.824      1.613         26        640: 100%|██████████| 33/33 [00:03<00:00, 10.44it/s]\n",
            "                 Class     Images  Instances      Box(P          R      mAP50  mAP50-95): 100%|██████████| 5/5 [00:00<00:00,  8.29it/s]"
          ]
        },
        {
          "output_type": "stream",
          "name": "stdout",
          "text": [
            "                   all        147        147      0.427      0.537      0.436      0.158\n"
          ]
        },
        {
          "output_type": "stream",
          "name": "stderr",
          "text": [
            "\n"
          ]
        },
        {
          "output_type": "stream",
          "name": "stdout",
          "text": [
            "\n",
            "      Epoch    GPU_mem   box_loss   cls_loss   dfl_loss  Instances       Size\n"
          ]
        },
        {
          "output_type": "stream",
          "name": "stderr",
          "text": [
            "       7/50       2.2G      1.852      1.748      1.607         19        640: 100%|██████████| 33/33 [00:03<00:00, 10.56it/s]\n",
            "                 Class     Images  Instances      Box(P          R      mAP50  mAP50-95): 100%|██████████| 5/5 [00:00<00:00,  7.65it/s]"
          ]
        },
        {
          "output_type": "stream",
          "name": "stdout",
          "text": [
            "                   all        147        147      0.434       0.34       0.26     0.0918\n"
          ]
        },
        {
          "output_type": "stream",
          "name": "stderr",
          "text": [
            "\n"
          ]
        },
        {
          "output_type": "stream",
          "name": "stdout",
          "text": [
            "\n",
            "      Epoch    GPU_mem   box_loss   cls_loss   dfl_loss  Instances       Size\n"
          ]
        },
        {
          "output_type": "stream",
          "name": "stderr",
          "text": [
            "       8/50       2.2G      1.721      1.576      1.528         23        640: 100%|██████████| 33/33 [00:03<00:00, 10.15it/s]\n",
            "                 Class     Images  Instances      Box(P          R      mAP50  mAP50-95): 100%|██████████| 5/5 [00:00<00:00,  7.52it/s]"
          ]
        },
        {
          "output_type": "stream",
          "name": "stdout",
          "text": [
            "                   all        147        147      0.516      0.585      0.551       0.25\n"
          ]
        },
        {
          "output_type": "stream",
          "name": "stderr",
          "text": [
            "\n"
          ]
        },
        {
          "output_type": "stream",
          "name": "stdout",
          "text": [
            "\n",
            "      Epoch    GPU_mem   box_loss   cls_loss   dfl_loss  Instances       Size\n"
          ]
        },
        {
          "output_type": "stream",
          "name": "stderr",
          "text": [
            "       9/50       2.2G      1.702       1.47      1.522         21        640: 100%|██████████| 33/33 [00:03<00:00,  9.85it/s]\n",
            "                 Class     Images  Instances      Box(P          R      mAP50  mAP50-95): 100%|██████████| 5/5 [00:00<00:00,  7.97it/s]"
          ]
        },
        {
          "output_type": "stream",
          "name": "stdout",
          "text": [
            "                   all        147        147      0.738      0.497      0.638      0.302\n"
          ]
        },
        {
          "output_type": "stream",
          "name": "stderr",
          "text": [
            "\n"
          ]
        },
        {
          "output_type": "stream",
          "name": "stdout",
          "text": [
            "\n",
            "      Epoch    GPU_mem   box_loss   cls_loss   dfl_loss  Instances       Size\n"
          ]
        },
        {
          "output_type": "stream",
          "name": "stderr",
          "text": [
            "      10/50      2.22G      1.709      1.468      1.541         20        640: 100%|██████████| 33/33 [00:03<00:00, 10.81it/s]\n",
            "                 Class     Images  Instances      Box(P          R      mAP50  mAP50-95): 100%|██████████| 5/5 [00:00<00:00,  7.18it/s]"
          ]
        },
        {
          "output_type": "stream",
          "name": "stdout",
          "text": [
            "                   all        147        147      0.691      0.463      0.582      0.287\n"
          ]
        },
        {
          "output_type": "stream",
          "name": "stderr",
          "text": [
            "\n"
          ]
        },
        {
          "output_type": "stream",
          "name": "stdout",
          "text": [
            "\n",
            "      Epoch    GPU_mem   box_loss   cls_loss   dfl_loss  Instances       Size\n"
          ]
        },
        {
          "output_type": "stream",
          "name": "stderr",
          "text": [
            "      11/50       2.2G       1.75      1.451      1.495         19        640: 100%|██████████| 33/33 [00:03<00:00, 10.82it/s]\n",
            "                 Class     Images  Instances      Box(P          R      mAP50  mAP50-95): 100%|██████████| 5/5 [00:00<00:00,  8.32it/s]"
          ]
        },
        {
          "output_type": "stream",
          "name": "stdout",
          "text": [
            "                   all        147        147       0.57      0.569      0.549      0.265\n"
          ]
        },
        {
          "output_type": "stream",
          "name": "stderr",
          "text": [
            "\n"
          ]
        },
        {
          "output_type": "stream",
          "name": "stdout",
          "text": [
            "\n",
            "      Epoch    GPU_mem   box_loss   cls_loss   dfl_loss  Instances       Size\n"
          ]
        },
        {
          "output_type": "stream",
          "name": "stderr",
          "text": [
            "      12/50       2.2G       1.64      1.367      1.441         14        640: 100%|██████████| 33/33 [00:03<00:00, 10.26it/s]\n",
            "                 Class     Images  Instances      Box(P          R      mAP50  mAP50-95): 100%|██████████| 5/5 [00:00<00:00,  7.60it/s]"
          ]
        },
        {
          "output_type": "stream",
          "name": "stdout",
          "text": [
            "                   all        147        147      0.585      0.603       0.55      0.234\n"
          ]
        },
        {
          "output_type": "stream",
          "name": "stderr",
          "text": [
            "\n"
          ]
        },
        {
          "output_type": "stream",
          "name": "stdout",
          "text": [
            "\n",
            "      Epoch    GPU_mem   box_loss   cls_loss   dfl_loss  Instances       Size\n"
          ]
        },
        {
          "output_type": "stream",
          "name": "stderr",
          "text": [
            "      13/50       2.2G      1.678      1.385      1.487         19        640: 100%|██████████| 33/33 [00:03<00:00,  9.90it/s]\n",
            "                 Class     Images  Instances      Box(P          R      mAP50  mAP50-95): 100%|██████████| 5/5 [00:00<00:00,  7.83it/s]"
          ]
        },
        {
          "output_type": "stream",
          "name": "stdout",
          "text": [
            "                   all        147        147      0.669      0.782      0.727      0.346\n"
          ]
        },
        {
          "output_type": "stream",
          "name": "stderr",
          "text": [
            "\n"
          ]
        },
        {
          "output_type": "stream",
          "name": "stdout",
          "text": [
            "\n",
            "      Epoch    GPU_mem   box_loss   cls_loss   dfl_loss  Instances       Size\n"
          ]
        },
        {
          "output_type": "stream",
          "name": "stderr",
          "text": [
            "      14/50      2.22G      1.656      1.324      1.475         12        640: 100%|██████████| 33/33 [00:03<00:00, 10.49it/s]\n",
            "                 Class     Images  Instances      Box(P          R      mAP50  mAP50-95): 100%|██████████| 5/5 [00:00<00:00,  8.09it/s]"
          ]
        },
        {
          "output_type": "stream",
          "name": "stdout",
          "text": [
            "                   all        147        147      0.733      0.729      0.741      0.345\n"
          ]
        },
        {
          "output_type": "stream",
          "name": "stderr",
          "text": [
            "\n"
          ]
        },
        {
          "output_type": "stream",
          "name": "stdout",
          "text": [
            "\n",
            "      Epoch    GPU_mem   box_loss   cls_loss   dfl_loss  Instances       Size\n"
          ]
        },
        {
          "output_type": "stream",
          "name": "stderr",
          "text": [
            "      15/50       2.2G      1.656      1.278      1.514         21        640: 100%|██████████| 33/33 [00:03<00:00, 10.62it/s]\n",
            "                 Class     Images  Instances      Box(P          R      mAP50  mAP50-95): 100%|██████████| 5/5 [00:00<00:00,  7.74it/s]"
          ]
        },
        {
          "output_type": "stream",
          "name": "stdout",
          "text": [
            "                   all        147        147      0.655      0.749      0.723      0.358\n"
          ]
        },
        {
          "output_type": "stream",
          "name": "stderr",
          "text": [
            "\n"
          ]
        },
        {
          "output_type": "stream",
          "name": "stdout",
          "text": [
            "\n",
            "      Epoch    GPU_mem   box_loss   cls_loss   dfl_loss  Instances       Size\n"
          ]
        },
        {
          "output_type": "stream",
          "name": "stderr",
          "text": [
            "      16/50       2.2G      1.534      1.164      1.381         20        640: 100%|██████████| 33/33 [00:03<00:00, 10.00it/s]\n",
            "                 Class     Images  Instances      Box(P          R      mAP50  mAP50-95): 100%|██████████| 5/5 [00:00<00:00,  7.75it/s]"
          ]
        },
        {
          "output_type": "stream",
          "name": "stdout",
          "text": [
            "                   all        147        147      0.735      0.791      0.794       0.42\n"
          ]
        },
        {
          "output_type": "stream",
          "name": "stderr",
          "text": [
            "\n"
          ]
        },
        {
          "output_type": "stream",
          "name": "stdout",
          "text": [
            "\n",
            "      Epoch    GPU_mem   box_loss   cls_loss   dfl_loss  Instances       Size\n"
          ]
        },
        {
          "output_type": "stream",
          "name": "stderr",
          "text": [
            "      17/50       2.2G      1.578       1.18      1.394         17        640: 100%|██████████| 33/33 [00:03<00:00, 10.24it/s]\n",
            "                 Class     Images  Instances      Box(P          R      mAP50  mAP50-95): 100%|██████████| 5/5 [00:00<00:00,  8.29it/s]"
          ]
        },
        {
          "output_type": "stream",
          "name": "stdout",
          "text": [
            "                   all        147        147      0.745      0.728      0.776      0.388\n"
          ]
        },
        {
          "output_type": "stream",
          "name": "stderr",
          "text": [
            "\n"
          ]
        },
        {
          "output_type": "stream",
          "name": "stdout",
          "text": [
            "\n",
            "      Epoch    GPU_mem   box_loss   cls_loss   dfl_loss  Instances       Size\n"
          ]
        },
        {
          "output_type": "stream",
          "name": "stderr",
          "text": [
            "      18/50      2.22G        1.6      1.167      1.413         21        640: 100%|██████████| 33/33 [00:03<00:00, 10.63it/s]\n",
            "                 Class     Images  Instances      Box(P          R      mAP50  mAP50-95): 100%|██████████| 5/5 [00:00<00:00,  8.49it/s]"
          ]
        },
        {
          "output_type": "stream",
          "name": "stdout",
          "text": [
            "                   all        147        147      0.758      0.816      0.816      0.413\n"
          ]
        },
        {
          "output_type": "stream",
          "name": "stderr",
          "text": [
            "\n"
          ]
        },
        {
          "output_type": "stream",
          "name": "stdout",
          "text": [
            "\n",
            "      Epoch    GPU_mem   box_loss   cls_loss   dfl_loss  Instances       Size\n"
          ]
        },
        {
          "output_type": "stream",
          "name": "stderr",
          "text": [
            "      19/50       2.2G      1.548      1.099      1.401         19        640: 100%|██████████| 33/33 [00:03<00:00, 10.79it/s]\n",
            "                 Class     Images  Instances      Box(P          R      mAP50  mAP50-95): 100%|██████████| 5/5 [00:00<00:00,  8.46it/s]"
          ]
        },
        {
          "output_type": "stream",
          "name": "stdout",
          "text": [
            "                   all        147        147       0.74      0.755      0.795      0.388\n"
          ]
        },
        {
          "output_type": "stream",
          "name": "stderr",
          "text": [
            "\n"
          ]
        },
        {
          "output_type": "stream",
          "name": "stdout",
          "text": [
            "\n",
            "      Epoch    GPU_mem   box_loss   cls_loss   dfl_loss  Instances       Size\n"
          ]
        },
        {
          "output_type": "stream",
          "name": "stderr",
          "text": [
            "      20/50       2.2G      1.503      1.064      1.397         24        640: 100%|██████████| 33/33 [00:03<00:00, 10.02it/s]\n",
            "                 Class     Images  Instances      Box(P          R      mAP50  mAP50-95): 100%|██████████| 5/5 [00:00<00:00,  7.64it/s]"
          ]
        },
        {
          "output_type": "stream",
          "name": "stdout",
          "text": [
            "                   all        147        147      0.788      0.789      0.839      0.421\n"
          ]
        },
        {
          "output_type": "stream",
          "name": "stderr",
          "text": [
            "\n"
          ]
        },
        {
          "output_type": "stream",
          "name": "stdout",
          "text": [
            "\n",
            "      Epoch    GPU_mem   box_loss   cls_loss   dfl_loss  Instances       Size\n"
          ]
        },
        {
          "output_type": "stream",
          "name": "stderr",
          "text": [
            "      21/50       2.2G      1.478      1.033      1.338         22        640: 100%|██████████| 33/33 [00:03<00:00, 10.27it/s]\n",
            "                 Class     Images  Instances      Box(P          R      mAP50  mAP50-95): 100%|██████████| 5/5 [00:00<00:00,  8.16it/s]"
          ]
        },
        {
          "output_type": "stream",
          "name": "stdout",
          "text": [
            "                   all        147        147      0.743      0.707       0.76      0.395\n"
          ]
        },
        {
          "output_type": "stream",
          "name": "stderr",
          "text": [
            "\n"
          ]
        },
        {
          "output_type": "stream",
          "name": "stdout",
          "text": [
            "\n",
            "      Epoch    GPU_mem   box_loss   cls_loss   dfl_loss  Instances       Size\n"
          ]
        },
        {
          "output_type": "stream",
          "name": "stderr",
          "text": [
            "      22/50      2.22G      1.536       1.08      1.346         26        640: 100%|██████████| 33/33 [00:03<00:00, 10.46it/s]\n",
            "                 Class     Images  Instances      Box(P          R      mAP50  mAP50-95): 100%|██████████| 5/5 [00:00<00:00,  8.05it/s]"
          ]
        },
        {
          "output_type": "stream",
          "name": "stdout",
          "text": [
            "                   all        147        147      0.789      0.776      0.826      0.381\n"
          ]
        },
        {
          "output_type": "stream",
          "name": "stderr",
          "text": [
            "\n"
          ]
        },
        {
          "output_type": "stream",
          "name": "stdout",
          "text": [
            "\n",
            "      Epoch    GPU_mem   box_loss   cls_loss   dfl_loss  Instances       Size\n"
          ]
        },
        {
          "output_type": "stream",
          "name": "stderr",
          "text": [
            "      23/50       2.2G      1.517      1.044      1.366         25        640: 100%|██████████| 33/33 [00:03<00:00, 10.53it/s]\n",
            "                 Class     Images  Instances      Box(P          R      mAP50  mAP50-95): 100%|██████████| 5/5 [00:00<00:00,  7.98it/s]"
          ]
        },
        {
          "output_type": "stream",
          "name": "stdout",
          "text": [
            "                   all        147        147      0.726      0.823      0.826      0.428\n"
          ]
        },
        {
          "output_type": "stream",
          "name": "stderr",
          "text": [
            "\n"
          ]
        },
        {
          "output_type": "stream",
          "name": "stdout",
          "text": [
            "\n",
            "      Epoch    GPU_mem   box_loss   cls_loss   dfl_loss  Instances       Size\n"
          ]
        },
        {
          "output_type": "stream",
          "name": "stderr",
          "text": [
            "      24/50       2.2G      1.514      1.031      1.378         20        640: 100%|██████████| 33/33 [00:03<00:00, 10.04it/s]\n",
            "                 Class     Images  Instances      Box(P          R      mAP50  mAP50-95): 100%|██████████| 5/5 [00:00<00:00,  7.86it/s]"
          ]
        },
        {
          "output_type": "stream",
          "name": "stdout",
          "text": [
            "                   all        147        147      0.778       0.81      0.839      0.446\n"
          ]
        },
        {
          "output_type": "stream",
          "name": "stderr",
          "text": [
            "\n"
          ]
        },
        {
          "output_type": "stream",
          "name": "stdout",
          "text": [
            "\n",
            "      Epoch    GPU_mem   box_loss   cls_loss   dfl_loss  Instances       Size\n"
          ]
        },
        {
          "output_type": "stream",
          "name": "stderr",
          "text": [
            "      25/50       2.2G      1.434      1.004      1.325         21        640: 100%|██████████| 33/33 [00:03<00:00, 10.16it/s]\n",
            "                 Class     Images  Instances      Box(P          R      mAP50  mAP50-95): 100%|██████████| 5/5 [00:00<00:00,  8.38it/s]"
          ]
        },
        {
          "output_type": "stream",
          "name": "stdout",
          "text": [
            "                   all        147        147      0.836      0.789      0.871      0.482\n"
          ]
        },
        {
          "output_type": "stream",
          "name": "stderr",
          "text": [
            "\n"
          ]
        },
        {
          "output_type": "stream",
          "name": "stdout",
          "text": [
            "\n",
            "      Epoch    GPU_mem   box_loss   cls_loss   dfl_loss  Instances       Size\n"
          ]
        },
        {
          "output_type": "stream",
          "name": "stderr",
          "text": [
            "      26/50      2.22G      1.509      1.026      1.371         22        640: 100%|██████████| 33/33 [00:03<00:00, 10.73it/s]\n",
            "                 Class     Images  Instances      Box(P          R      mAP50  mAP50-95): 100%|██████████| 5/5 [00:00<00:00,  7.85it/s]"
          ]
        },
        {
          "output_type": "stream",
          "name": "stdout",
          "text": [
            "                   all        147        147      0.866      0.864      0.893      0.474\n"
          ]
        },
        {
          "output_type": "stream",
          "name": "stderr",
          "text": [
            "\n"
          ]
        },
        {
          "output_type": "stream",
          "name": "stdout",
          "text": [
            "\n",
            "      Epoch    GPU_mem   box_loss   cls_loss   dfl_loss  Instances       Size\n"
          ]
        },
        {
          "output_type": "stream",
          "name": "stderr",
          "text": [
            "      27/50       2.2G       1.43     0.9774      1.322         18        640: 100%|██████████| 33/33 [00:03<00:00, 10.29it/s]\n",
            "                 Class     Images  Instances      Box(P          R      mAP50  mAP50-95): 100%|██████████| 5/5 [00:00<00:00,  7.34it/s]"
          ]
        },
        {
          "output_type": "stream",
          "name": "stdout",
          "text": [
            "                   all        147        147      0.868       0.83      0.897       0.48\n"
          ]
        },
        {
          "output_type": "stream",
          "name": "stderr",
          "text": [
            "\n"
          ]
        },
        {
          "output_type": "stream",
          "name": "stdout",
          "text": [
            "\n",
            "      Epoch    GPU_mem   box_loss   cls_loss   dfl_loss  Instances       Size\n"
          ]
        },
        {
          "output_type": "stream",
          "name": "stderr",
          "text": [
            "      28/50       2.2G      1.527      1.005      1.359         17        640: 100%|██████████| 33/33 [00:03<00:00, 10.10it/s]\n",
            "                 Class     Images  Instances      Box(P          R      mAP50  mAP50-95): 100%|██████████| 5/5 [00:00<00:00,  7.62it/s]"
          ]
        },
        {
          "output_type": "stream",
          "name": "stdout",
          "text": [
            "                   all        147        147      0.784      0.816      0.846      0.463\n"
          ]
        },
        {
          "output_type": "stream",
          "name": "stderr",
          "text": [
            "\n"
          ]
        },
        {
          "output_type": "stream",
          "name": "stdout",
          "text": [
            "\n",
            "      Epoch    GPU_mem   box_loss   cls_loss   dfl_loss  Instances       Size\n"
          ]
        },
        {
          "output_type": "stream",
          "name": "stderr",
          "text": [
            "      29/50       2.2G      1.464     0.9937      1.341         18        640: 100%|██████████| 33/33 [00:03<00:00, 10.29it/s]\n",
            "                 Class     Images  Instances      Box(P          R      mAP50  mAP50-95): 100%|██████████| 5/5 [00:00<00:00,  8.10it/s]"
          ]
        },
        {
          "output_type": "stream",
          "name": "stdout",
          "text": [
            "                   all        147        147      0.719      0.762      0.792      0.421\n"
          ]
        },
        {
          "output_type": "stream",
          "name": "stderr",
          "text": [
            "\n"
          ]
        },
        {
          "output_type": "stream",
          "name": "stdout",
          "text": [
            "\n",
            "      Epoch    GPU_mem   box_loss   cls_loss   dfl_loss  Instances       Size\n"
          ]
        },
        {
          "output_type": "stream",
          "name": "stderr",
          "text": [
            "      30/50      2.22G      1.402     0.9584      1.307         17        640: 100%|██████████| 33/33 [00:03<00:00, 10.46it/s]\n",
            "                 Class     Images  Instances      Box(P          R      mAP50  mAP50-95): 100%|██████████| 5/5 [00:00<00:00,  8.14it/s]"
          ]
        },
        {
          "output_type": "stream",
          "name": "stdout",
          "text": [
            "                   all        147        147      0.783       0.81      0.851      0.447\n"
          ]
        },
        {
          "output_type": "stream",
          "name": "stderr",
          "text": [
            "\n"
          ]
        },
        {
          "output_type": "stream",
          "name": "stdout",
          "text": [
            "\n",
            "      Epoch    GPU_mem   box_loss   cls_loss   dfl_loss  Instances       Size\n"
          ]
        },
        {
          "output_type": "stream",
          "name": "stderr",
          "text": [
            "      31/50       2.2G       1.38     0.9071      1.277         13        640: 100%|██████████| 33/33 [00:03<00:00, 10.69it/s]\n",
            "                 Class     Images  Instances      Box(P          R      mAP50  mAP50-95): 100%|██████████| 5/5 [00:00<00:00,  7.98it/s]"
          ]
        },
        {
          "output_type": "stream",
          "name": "stdout",
          "text": [
            "                   all        147        147      0.866      0.884      0.902      0.472\n"
          ]
        },
        {
          "output_type": "stream",
          "name": "stderr",
          "text": [
            "\n"
          ]
        },
        {
          "output_type": "stream",
          "name": "stdout",
          "text": [
            "\n",
            "      Epoch    GPU_mem   box_loss   cls_loss   dfl_loss  Instances       Size\n"
          ]
        },
        {
          "output_type": "stream",
          "name": "stderr",
          "text": [
            "      32/50       2.2G      1.381     0.9407      1.297         23        640: 100%|██████████| 33/33 [00:03<00:00, 10.16it/s]\n",
            "                 Class     Images  Instances      Box(P          R      mAP50  mAP50-95): 100%|██████████| 5/5 [00:00<00:00,  7.71it/s]"
          ]
        },
        {
          "output_type": "stream",
          "name": "stdout",
          "text": [
            "                   all        147        147      0.822      0.844      0.873      0.445\n"
          ]
        },
        {
          "output_type": "stream",
          "name": "stderr",
          "text": [
            "\n"
          ]
        },
        {
          "output_type": "stream",
          "name": "stdout",
          "text": [
            "\n",
            "      Epoch    GPU_mem   box_loss   cls_loss   dfl_loss  Instances       Size\n"
          ]
        },
        {
          "output_type": "stream",
          "name": "stderr",
          "text": [
            "      33/50       2.2G      1.364     0.9041        1.3         19        640: 100%|██████████| 33/33 [00:03<00:00, 10.42it/s]\n",
            "                 Class     Images  Instances      Box(P          R      mAP50  mAP50-95): 100%|██████████| 5/5 [00:00<00:00,  8.52it/s]"
          ]
        },
        {
          "output_type": "stream",
          "name": "stdout",
          "text": [
            "                   all        147        147      0.835      0.864      0.902      0.496\n"
          ]
        },
        {
          "output_type": "stream",
          "name": "stderr",
          "text": [
            "\n"
          ]
        },
        {
          "output_type": "stream",
          "name": "stdout",
          "text": [
            "\n",
            "      Epoch    GPU_mem   box_loss   cls_loss   dfl_loss  Instances       Size\n"
          ]
        },
        {
          "output_type": "stream",
          "name": "stderr",
          "text": [
            "      34/50      2.22G      1.357     0.8631      1.286         18        640: 100%|██████████| 33/33 [00:03<00:00, 10.53it/s]\n",
            "                 Class     Images  Instances      Box(P          R      mAP50  mAP50-95): 100%|██████████| 5/5 [00:00<00:00,  8.69it/s]"
          ]
        },
        {
          "output_type": "stream",
          "name": "stdout",
          "text": [
            "                   all        147        147      0.795      0.843       0.87      0.494\n"
          ]
        },
        {
          "output_type": "stream",
          "name": "stderr",
          "text": [
            "\n"
          ]
        },
        {
          "output_type": "stream",
          "name": "stdout",
          "text": [
            "\n",
            "      Epoch    GPU_mem   box_loss   cls_loss   dfl_loss  Instances       Size\n"
          ]
        },
        {
          "output_type": "stream",
          "name": "stderr",
          "text": [
            "      35/50       2.2G      1.368     0.8687      1.288         16        640: 100%|██████████| 33/33 [00:03<00:00, 10.46it/s]\n",
            "                 Class     Images  Instances      Box(P          R      mAP50  mAP50-95): 100%|██████████| 5/5 [00:00<00:00,  7.91it/s]"
          ]
        },
        {
          "output_type": "stream",
          "name": "stdout",
          "text": [
            "                   all        147        147      0.826      0.898      0.906      0.501\n"
          ]
        },
        {
          "output_type": "stream",
          "name": "stderr",
          "text": [
            "\n"
          ]
        },
        {
          "output_type": "stream",
          "name": "stdout",
          "text": [
            "\n",
            "      Epoch    GPU_mem   box_loss   cls_loss   dfl_loss  Instances       Size\n"
          ]
        },
        {
          "output_type": "stream",
          "name": "stderr",
          "text": [
            "      36/50       2.2G      1.345     0.8589      1.273         22        640: 100%|██████████| 33/33 [00:03<00:00,  9.99it/s]\n",
            "                 Class     Images  Instances      Box(P          R      mAP50  mAP50-95): 100%|██████████| 5/5 [00:00<00:00,  7.22it/s]"
          ]
        },
        {
          "output_type": "stream",
          "name": "stdout",
          "text": [
            "                   all        147        147       0.83      0.865      0.896      0.498\n"
          ]
        },
        {
          "output_type": "stream",
          "name": "stderr",
          "text": [
            "\n"
          ]
        },
        {
          "output_type": "stream",
          "name": "stdout",
          "text": [
            "\n",
            "      Epoch    GPU_mem   box_loss   cls_loss   dfl_loss  Instances       Size\n"
          ]
        },
        {
          "output_type": "stream",
          "name": "stderr",
          "text": [
            "      37/50       2.2G      1.311     0.8297      1.248         20        640: 100%|██████████| 33/33 [00:03<00:00, 10.56it/s]\n",
            "                 Class     Images  Instances      Box(P          R      mAP50  mAP50-95): 100%|██████████| 5/5 [00:00<00:00,  8.21it/s]"
          ]
        },
        {
          "output_type": "stream",
          "name": "stdout",
          "text": [
            "                   all        147        147      0.863      0.871      0.926      0.518\n"
          ]
        },
        {
          "output_type": "stream",
          "name": "stderr",
          "text": [
            "\n"
          ]
        },
        {
          "output_type": "stream",
          "name": "stdout",
          "text": [
            "\n",
            "      Epoch    GPU_mem   box_loss   cls_loss   dfl_loss  Instances       Size\n"
          ]
        },
        {
          "output_type": "stream",
          "name": "stderr",
          "text": [
            "      38/50      2.22G      1.294     0.8103      1.236         20        640: 100%|██████████| 33/33 [00:03<00:00, 10.76it/s]\n",
            "                 Class     Images  Instances      Box(P          R      mAP50  mAP50-95): 100%|██████████| 5/5 [00:00<00:00,  8.83it/s]"
          ]
        },
        {
          "output_type": "stream",
          "name": "stdout",
          "text": [
            "                   all        147        147      0.842      0.909      0.923      0.511\n"
          ]
        },
        {
          "output_type": "stream",
          "name": "stderr",
          "text": [
            "\n"
          ]
        },
        {
          "output_type": "stream",
          "name": "stdout",
          "text": [
            "\n",
            "      Epoch    GPU_mem   box_loss   cls_loss   dfl_loss  Instances       Size\n"
          ]
        },
        {
          "output_type": "stream",
          "name": "stderr",
          "text": [
            "      39/50       2.2G      1.292     0.7861      1.254         23        640: 100%|██████████| 33/33 [00:03<00:00, 10.61it/s]\n",
            "                 Class     Images  Instances      Box(P          R      mAP50  mAP50-95): 100%|██████████| 5/5 [00:00<00:00,  7.24it/s]"
          ]
        },
        {
          "output_type": "stream",
          "name": "stdout",
          "text": [
            "                   all        147        147      0.866      0.891       0.94       0.51\n"
          ]
        },
        {
          "output_type": "stream",
          "name": "stderr",
          "text": [
            "\n"
          ]
        },
        {
          "output_type": "stream",
          "name": "stdout",
          "text": [
            "\n",
            "      Epoch    GPU_mem   box_loss   cls_loss   dfl_loss  Instances       Size\n"
          ]
        },
        {
          "output_type": "stream",
          "name": "stderr",
          "text": [
            "      40/50       2.2G      1.344     0.8445      1.258         16        640: 100%|██████████| 33/33 [00:03<00:00,  9.92it/s]\n",
            "                 Class     Images  Instances      Box(P          R      mAP50  mAP50-95): 100%|██████████| 5/5 [00:00<00:00,  7.76it/s]"
          ]
        },
        {
          "output_type": "stream",
          "name": "stdout",
          "text": [
            "                   all        147        147      0.868      0.897      0.923      0.516\n"
          ]
        },
        {
          "output_type": "stream",
          "name": "stderr",
          "text": [
            "\n"
          ]
        },
        {
          "output_type": "stream",
          "name": "stdout",
          "text": [
            "Closing dataloader mosaic\n",
            "\u001b[34m\u001b[1malbumentations: \u001b[0mBlur(p=0.01, blur_limit=(3, 7)), MedianBlur(p=0.01, blur_limit=(3, 7)), ToGray(p=0.01), CLAHE(p=0.01, clip_limit=(1, 4.0), tile_grid_size=(8, 8))\n"
          ]
        },
        {
          "output_type": "stream",
          "name": "stderr",
          "text": [
            "/usr/lib/python3.10/multiprocessing/popen_fork.py:66: RuntimeWarning: os.fork() was called. os.fork() is incompatible with multithreaded code, and JAX is multithreaded, so this will likely lead to a deadlock.\n",
            "  self.pid = os.fork()\n"
          ]
        },
        {
          "output_type": "stream",
          "name": "stdout",
          "text": [
            "\n",
            "      Epoch    GPU_mem   box_loss   cls_loss   dfl_loss  Instances       Size\n"
          ]
        },
        {
          "output_type": "stream",
          "name": "stderr",
          "text": [
            "      41/50       2.2G      1.345      0.814      1.306         10        640: 100%|██████████| 33/33 [00:04<00:00,  7.31it/s]\n",
            "                 Class     Images  Instances      Box(P          R      mAP50  mAP50-95): 100%|██████████| 5/5 [00:00<00:00,  7.93it/s]"
          ]
        },
        {
          "output_type": "stream",
          "name": "stdout",
          "text": [
            "                   all        147        147      0.862      0.878       0.92      0.513\n"
          ]
        },
        {
          "output_type": "stream",
          "name": "stderr",
          "text": [
            "\n"
          ]
        },
        {
          "output_type": "stream",
          "name": "stdout",
          "text": [
            "\n",
            "      Epoch    GPU_mem   box_loss   cls_loss   dfl_loss  Instances       Size\n"
          ]
        },
        {
          "output_type": "stream",
          "name": "stderr",
          "text": [
            "      42/50      2.22G      1.323     0.8004      1.314         11        640: 100%|██████████| 33/33 [00:03<00:00, 10.83it/s]\n",
            "                 Class     Images  Instances      Box(P          R      mAP50  mAP50-95): 100%|██████████| 5/5 [00:00<00:00,  8.16it/s]"
          ]
        },
        {
          "output_type": "stream",
          "name": "stdout",
          "text": [
            "                   all        147        147      0.843      0.891      0.928      0.514\n"
          ]
        },
        {
          "output_type": "stream",
          "name": "stderr",
          "text": [
            "\n"
          ]
        },
        {
          "output_type": "stream",
          "name": "stdout",
          "text": [
            "\n",
            "      Epoch    GPU_mem   box_loss   cls_loss   dfl_loss  Instances       Size\n"
          ]
        },
        {
          "output_type": "stream",
          "name": "stderr",
          "text": [
            "      43/50       2.2G      1.328     0.7915      1.278         11        640: 100%|██████████| 33/33 [00:03<00:00, 10.30it/s]\n",
            "                 Class     Images  Instances      Box(P          R      mAP50  mAP50-95): 100%|██████████| 5/5 [00:00<00:00,  7.53it/s]"
          ]
        },
        {
          "output_type": "stream",
          "name": "stdout",
          "text": [
            "                   all        147        147      0.802      0.911      0.906      0.509\n"
          ]
        },
        {
          "output_type": "stream",
          "name": "stderr",
          "text": [
            "\n"
          ]
        },
        {
          "output_type": "stream",
          "name": "stdout",
          "text": [
            "\n",
            "      Epoch    GPU_mem   box_loss   cls_loss   dfl_loss  Instances       Size\n"
          ]
        },
        {
          "output_type": "stream",
          "name": "stderr",
          "text": [
            "      44/50       2.2G       1.29     0.7553      1.266         11        640: 100%|██████████| 33/33 [00:03<00:00, 10.13it/s]\n",
            "                 Class     Images  Instances      Box(P          R      mAP50  mAP50-95): 100%|██████████| 5/5 [00:00<00:00,  8.51it/s]"
          ]
        },
        {
          "output_type": "stream",
          "name": "stdout",
          "text": [
            "                   all        147        147      0.892      0.912      0.935      0.536\n"
          ]
        },
        {
          "output_type": "stream",
          "name": "stderr",
          "text": [
            "\n"
          ]
        },
        {
          "output_type": "stream",
          "name": "stdout",
          "text": [
            "\n",
            "      Epoch    GPU_mem   box_loss   cls_loss   dfl_loss  Instances       Size\n"
          ]
        },
        {
          "output_type": "stream",
          "name": "stderr",
          "text": [
            "      45/50       2.2G      1.271     0.7477      1.263         11        640: 100%|██████████| 33/33 [00:03<00:00, 10.77it/s]\n",
            "                 Class     Images  Instances      Box(P          R      mAP50  mAP50-95): 100%|██████████| 5/5 [00:00<00:00,  8.03it/s]\n"
          ]
        },
        {
          "output_type": "stream",
          "name": "stdout",
          "text": [
            "                   all        147        147      0.863      0.891      0.936      0.542\n",
            "\n",
            "      Epoch    GPU_mem   box_loss   cls_loss   dfl_loss  Instances       Size\n"
          ]
        },
        {
          "output_type": "stream",
          "name": "stderr",
          "text": [
            "      46/50      2.22G      1.232     0.7318      1.228         11        640: 100%|██████████| 33/33 [00:03<00:00, 10.86it/s]\n",
            "                 Class     Images  Instances      Box(P          R      mAP50  mAP50-95): 100%|██████████| 5/5 [00:00<00:00,  8.29it/s]"
          ]
        },
        {
          "output_type": "stream",
          "name": "stdout",
          "text": [
            "                   all        147        147      0.863      0.897      0.924      0.543\n"
          ]
        },
        {
          "output_type": "stream",
          "name": "stderr",
          "text": [
            "\n"
          ]
        },
        {
          "output_type": "stream",
          "name": "stdout",
          "text": [
            "\n",
            "      Epoch    GPU_mem   box_loss   cls_loss   dfl_loss  Instances       Size\n"
          ]
        },
        {
          "output_type": "stream",
          "name": "stderr",
          "text": [
            "      47/50       2.2G      1.205     0.7276      1.211          9        640: 100%|██████████| 33/33 [00:03<00:00, 10.32it/s]\n",
            "                 Class     Images  Instances      Box(P          R      mAP50  mAP50-95): 100%|██████████| 5/5 [00:00<00:00,  8.32it/s]"
          ]
        },
        {
          "output_type": "stream",
          "name": "stdout",
          "text": [
            "                   all        147        147      0.869      0.891      0.932      0.545\n"
          ]
        },
        {
          "output_type": "stream",
          "name": "stderr",
          "text": [
            "\n"
          ]
        },
        {
          "output_type": "stream",
          "name": "stdout",
          "text": [
            "\n",
            "      Epoch    GPU_mem   box_loss   cls_loss   dfl_loss  Instances       Size\n"
          ]
        },
        {
          "output_type": "stream",
          "name": "stderr",
          "text": [
            "      48/50       2.2G      1.233     0.7294      1.246         11        640: 100%|██████████| 33/33 [00:03<00:00, 10.17it/s]\n",
            "                 Class     Images  Instances      Box(P          R      mAP50  mAP50-95): 100%|██████████| 5/5 [00:00<00:00,  7.80it/s]"
          ]
        },
        {
          "output_type": "stream",
          "name": "stdout",
          "text": [
            "                   all        147        147       0.89      0.883      0.934      0.553\n"
          ]
        },
        {
          "output_type": "stream",
          "name": "stderr",
          "text": [
            "\n"
          ]
        },
        {
          "output_type": "stream",
          "name": "stdout",
          "text": [
            "\n",
            "      Epoch    GPU_mem   box_loss   cls_loss   dfl_loss  Instances       Size\n"
          ]
        },
        {
          "output_type": "stream",
          "name": "stderr",
          "text": [
            "      49/50       2.2G      1.225     0.7232      1.239         11        640: 100%|██████████| 33/33 [00:02<00:00, 11.02it/s]\n",
            "                 Class     Images  Instances      Box(P          R      mAP50  mAP50-95): 100%|██████████| 5/5 [00:00<00:00,  8.69it/s]\n"
          ]
        },
        {
          "output_type": "stream",
          "name": "stdout",
          "text": [
            "                   all        147        147      0.912      0.864       0.93      0.554\n",
            "\n",
            "      Epoch    GPU_mem   box_loss   cls_loss   dfl_loss  Instances       Size\n"
          ]
        },
        {
          "output_type": "stream",
          "name": "stderr",
          "text": [
            "      50/50      2.22G      1.209     0.7161      1.222         11        640: 100%|██████████| 33/33 [00:03<00:00, 10.86it/s]\n",
            "                 Class     Images  Instances      Box(P          R      mAP50  mAP50-95): 100%|██████████| 5/5 [00:00<00:00,  7.94it/s]"
          ]
        },
        {
          "output_type": "stream",
          "name": "stdout",
          "text": [
            "                   all        147        147      0.885      0.905      0.929      0.557\n"
          ]
        },
        {
          "output_type": "stream",
          "name": "stderr",
          "text": [
            "\n"
          ]
        },
        {
          "output_type": "stream",
          "name": "stdout",
          "text": [
            "\n",
            "50 epochs completed in 0.064 hours.\n",
            "Optimizer stripped from runs/detect/train/weights/last.pt, 6.2MB\n",
            "Optimizer stripped from runs/detect/train/weights/best.pt, 6.2MB\n",
            "\n",
            "Validating runs/detect/train/weights/best.pt...\n",
            "Ultralytics YOLOv8.2.84 🚀 Python-3.10.12 torch-2.4.0+cu121 CUDA:0 (NVIDIA A100-SXM4-40GB, 40514MiB)\n",
            "Model summary (fused): 168 layers, 3,005,843 parameters, 0 gradients, 8.1 GFLOPs\n"
          ]
        },
        {
          "output_type": "stream",
          "name": "stderr",
          "text": [
            "                 Class     Images  Instances      Box(P          R      mAP50  mAP50-95): 100%|██████████| 5/5 [00:02<00:00,  2.40it/s]\n"
          ]
        },
        {
          "output_type": "stream",
          "name": "stdout",
          "text": [
            "                   all        147        147      0.891      0.905      0.929      0.555\n",
            "Speed: 0.1ms preprocess, 0.4ms inference, 0.0ms loss, 7.5ms postprocess per image\n",
            "Results saved to \u001b[1mruns/detect/train\u001b[0m\n"
          ]
        },
        {
          "output_type": "execute_result",
          "data": {
            "text/plain": [
              "ultralytics.utils.metrics.DetMetrics object with attributes:\n",
              "\n",
              "ap_class_index: array([0])\n",
              "box: ultralytics.utils.metrics.Metric object\n",
              "confusion_matrix: <ultralytics.utils.metrics.ConfusionMatrix object at 0x7c9140d4b010>\n",
              "curves: ['Precision-Recall(B)', 'F1-Confidence(B)', 'Precision-Confidence(B)', 'Recall-Confidence(B)']\n",
              "curves_results: [[array([          0,    0.001001,    0.002002,    0.003003,    0.004004,    0.005005,    0.006006,    0.007007,    0.008008,    0.009009,     0.01001,    0.011011,    0.012012,    0.013013,    0.014014,    0.015015,    0.016016,    0.017017,    0.018018,    0.019019,     0.02002,    0.021021,    0.022022,    0.023023,\n",
              "          0.024024,    0.025025,    0.026026,    0.027027,    0.028028,    0.029029,     0.03003,    0.031031,    0.032032,    0.033033,    0.034034,    0.035035,    0.036036,    0.037037,    0.038038,    0.039039,     0.04004,    0.041041,    0.042042,    0.043043,    0.044044,    0.045045,    0.046046,    0.047047,\n",
              "          0.048048,    0.049049,     0.05005,    0.051051,    0.052052,    0.053053,    0.054054,    0.055055,    0.056056,    0.057057,    0.058058,    0.059059,     0.06006,    0.061061,    0.062062,    0.063063,    0.064064,    0.065065,    0.066066,    0.067067,    0.068068,    0.069069,     0.07007,    0.071071,\n",
              "          0.072072,    0.073073,    0.074074,    0.075075,    0.076076,    0.077077,    0.078078,    0.079079,     0.08008,    0.081081,    0.082082,    0.083083,    0.084084,    0.085085,    0.086086,    0.087087,    0.088088,    0.089089,     0.09009,    0.091091,    0.092092,    0.093093,    0.094094,    0.095095,\n",
              "          0.096096,    0.097097,    0.098098,    0.099099,      0.1001,      0.1011,      0.1021,      0.1031,      0.1041,     0.10511,     0.10611,     0.10711,     0.10811,     0.10911,     0.11011,     0.11111,     0.11211,     0.11311,     0.11411,     0.11512,     0.11612,     0.11712,     0.11812,     0.11912,\n",
              "           0.12012,     0.12112,     0.12212,     0.12312,     0.12412,     0.12513,     0.12613,     0.12713,     0.12813,     0.12913,     0.13013,     0.13113,     0.13213,     0.13313,     0.13413,     0.13514,     0.13614,     0.13714,     0.13814,     0.13914,     0.14014,     0.14114,     0.14214,     0.14314,\n",
              "           0.14414,     0.14515,     0.14615,     0.14715,     0.14815,     0.14915,     0.15015,     0.15115,     0.15215,     0.15315,     0.15415,     0.15516,     0.15616,     0.15716,     0.15816,     0.15916,     0.16016,     0.16116,     0.16216,     0.16316,     0.16416,     0.16517,     0.16617,     0.16717,\n",
              "           0.16817,     0.16917,     0.17017,     0.17117,     0.17217,     0.17317,     0.17417,     0.17518,     0.17618,     0.17718,     0.17818,     0.17918,     0.18018,     0.18118,     0.18218,     0.18318,     0.18418,     0.18519,     0.18619,     0.18719,     0.18819,     0.18919,     0.19019,     0.19119,\n",
              "           0.19219,     0.19319,     0.19419,      0.1952,      0.1962,      0.1972,      0.1982,      0.1992,      0.2002,      0.2012,      0.2022,      0.2032,      0.2042,     0.20521,     0.20621,     0.20721,     0.20821,     0.20921,     0.21021,     0.21121,     0.21221,     0.21321,     0.21421,     0.21522,\n",
              "           0.21622,     0.21722,     0.21822,     0.21922,     0.22022,     0.22122,     0.22222,     0.22322,     0.22422,     0.22523,     0.22623,     0.22723,     0.22823,     0.22923,     0.23023,     0.23123,     0.23223,     0.23323,     0.23423,     0.23524,     0.23624,     0.23724,     0.23824,     0.23924,\n",
              "           0.24024,     0.24124,     0.24224,     0.24324,     0.24424,     0.24525,     0.24625,     0.24725,     0.24825,     0.24925,     0.25025,     0.25125,     0.25225,     0.25325,     0.25425,     0.25526,     0.25626,     0.25726,     0.25826,     0.25926,     0.26026,     0.26126,     0.26226,     0.26326,\n",
              "           0.26426,     0.26527,     0.26627,     0.26727,     0.26827,     0.26927,     0.27027,     0.27127,     0.27227,     0.27327,     0.27427,     0.27528,     0.27628,     0.27728,     0.27828,     0.27928,     0.28028,     0.28128,     0.28228,     0.28328,     0.28428,     0.28529,     0.28629,     0.28729,\n",
              "           0.28829,     0.28929,     0.29029,     0.29129,     0.29229,     0.29329,     0.29429,      0.2953,      0.2963,      0.2973,      0.2983,      0.2993,      0.3003,      0.3013,      0.3023,      0.3033,      0.3043,     0.30531,     0.30631,     0.30731,     0.30831,     0.30931,     0.31031,     0.31131,\n",
              "           0.31231,     0.31331,     0.31431,     0.31532,     0.31632,     0.31732,     0.31832,     0.31932,     0.32032,     0.32132,     0.32232,     0.32332,     0.32432,     0.32533,     0.32633,     0.32733,     0.32833,     0.32933,     0.33033,     0.33133,     0.33233,     0.33333,     0.33433,     0.33534,\n",
              "           0.33634,     0.33734,     0.33834,     0.33934,     0.34034,     0.34134,     0.34234,     0.34334,     0.34434,     0.34535,     0.34635,     0.34735,     0.34835,     0.34935,     0.35035,     0.35135,     0.35235,     0.35335,     0.35435,     0.35536,     0.35636,     0.35736,     0.35836,     0.35936,\n",
              "           0.36036,     0.36136,     0.36236,     0.36336,     0.36436,     0.36537,     0.36637,     0.36737,     0.36837,     0.36937,     0.37037,     0.37137,     0.37237,     0.37337,     0.37437,     0.37538,     0.37638,     0.37738,     0.37838,     0.37938,     0.38038,     0.38138,     0.38238,     0.38338,\n",
              "           0.38438,     0.38539,     0.38639,     0.38739,     0.38839,     0.38939,     0.39039,     0.39139,     0.39239,     0.39339,     0.39439,      0.3954,      0.3964,      0.3974,      0.3984,      0.3994,      0.4004,      0.4014,      0.4024,      0.4034,      0.4044,     0.40541,     0.40641,     0.40741,\n",
              "           0.40841,     0.40941,     0.41041,     0.41141,     0.41241,     0.41341,     0.41441,     0.41542,     0.41642,     0.41742,     0.41842,     0.41942,     0.42042,     0.42142,     0.42242,     0.42342,     0.42442,     0.42543,     0.42643,     0.42743,     0.42843,     0.42943,     0.43043,     0.43143,\n",
              "           0.43243,     0.43343,     0.43443,     0.43544,     0.43644,     0.43744,     0.43844,     0.43944,     0.44044,     0.44144,     0.44244,     0.44344,     0.44444,     0.44545,     0.44645,     0.44745,     0.44845,     0.44945,     0.45045,     0.45145,     0.45245,     0.45345,     0.45445,     0.45546,\n",
              "           0.45646,     0.45746,     0.45846,     0.45946,     0.46046,     0.46146,     0.46246,     0.46346,     0.46446,     0.46547,     0.46647,     0.46747,     0.46847,     0.46947,     0.47047,     0.47147,     0.47247,     0.47347,     0.47447,     0.47548,     0.47648,     0.47748,     0.47848,     0.47948,\n",
              "           0.48048,     0.48148,     0.48248,     0.48348,     0.48448,     0.48549,     0.48649,     0.48749,     0.48849,     0.48949,     0.49049,     0.49149,     0.49249,     0.49349,     0.49449,      0.4955,      0.4965,      0.4975,      0.4985,      0.4995,      0.5005,      0.5015,      0.5025,      0.5035,\n",
              "            0.5045,     0.50551,     0.50651,     0.50751,     0.50851,     0.50951,     0.51051,     0.51151,     0.51251,     0.51351,     0.51451,     0.51552,     0.51652,     0.51752,     0.51852,     0.51952,     0.52052,     0.52152,     0.52252,     0.52352,     0.52452,     0.52553,     0.52653,     0.52753,\n",
              "           0.52853,     0.52953,     0.53053,     0.53153,     0.53253,     0.53353,     0.53453,     0.53554,     0.53654,     0.53754,     0.53854,     0.53954,     0.54054,     0.54154,     0.54254,     0.54354,     0.54454,     0.54555,     0.54655,     0.54755,     0.54855,     0.54955,     0.55055,     0.55155,\n",
              "           0.55255,     0.55355,     0.55455,     0.55556,     0.55656,     0.55756,     0.55856,     0.55956,     0.56056,     0.56156,     0.56256,     0.56356,     0.56456,     0.56557,     0.56657,     0.56757,     0.56857,     0.56957,     0.57057,     0.57157,     0.57257,     0.57357,     0.57457,     0.57558,\n",
              "           0.57658,     0.57758,     0.57858,     0.57958,     0.58058,     0.58158,     0.58258,     0.58358,     0.58458,     0.58559,     0.58659,     0.58759,     0.58859,     0.58959,     0.59059,     0.59159,     0.59259,     0.59359,     0.59459,      0.5956,      0.5966,      0.5976,      0.5986,      0.5996,\n",
              "            0.6006,      0.6016,      0.6026,      0.6036,      0.6046,     0.60561,     0.60661,     0.60761,     0.60861,     0.60961,     0.61061,     0.61161,     0.61261,     0.61361,     0.61461,     0.61562,     0.61662,     0.61762,     0.61862,     0.61962,     0.62062,     0.62162,     0.62262,     0.62362,\n",
              "           0.62462,     0.62563,     0.62663,     0.62763,     0.62863,     0.62963,     0.63063,     0.63163,     0.63263,     0.63363,     0.63463,     0.63564,     0.63664,     0.63764,     0.63864,     0.63964,     0.64064,     0.64164,     0.64264,     0.64364,     0.64464,     0.64565,     0.64665,     0.64765,\n",
              "           0.64865,     0.64965,     0.65065,     0.65165,     0.65265,     0.65365,     0.65465,     0.65566,     0.65666,     0.65766,     0.65866,     0.65966,     0.66066,     0.66166,     0.66266,     0.66366,     0.66466,     0.66567,     0.66667,     0.66767,     0.66867,     0.66967,     0.67067,     0.67167,\n",
              "           0.67267,     0.67367,     0.67467,     0.67568,     0.67668,     0.67768,     0.67868,     0.67968,     0.68068,     0.68168,     0.68268,     0.68368,     0.68468,     0.68569,     0.68669,     0.68769,     0.68869,     0.68969,     0.69069,     0.69169,     0.69269,     0.69369,     0.69469,      0.6957,\n",
              "            0.6967,      0.6977,      0.6987,      0.6997,      0.7007,      0.7017,      0.7027,      0.7037,      0.7047,     0.70571,     0.70671,     0.70771,     0.70871,     0.70971,     0.71071,     0.71171,     0.71271,     0.71371,     0.71471,     0.71572,     0.71672,     0.71772,     0.71872,     0.71972,\n",
              "           0.72072,     0.72172,     0.72272,     0.72372,     0.72472,     0.72573,     0.72673,     0.72773,     0.72873,     0.72973,     0.73073,     0.73173,     0.73273,     0.73373,     0.73473,     0.73574,     0.73674,     0.73774,     0.73874,     0.73974,     0.74074,     0.74174,     0.74274,     0.74374,\n",
              "           0.74474,     0.74575,     0.74675,     0.74775,     0.74875,     0.74975,     0.75075,     0.75175,     0.75275,     0.75375,     0.75475,     0.75576,     0.75676,     0.75776,     0.75876,     0.75976,     0.76076,     0.76176,     0.76276,     0.76376,     0.76476,     0.76577,     0.76677,     0.76777,\n",
              "           0.76877,     0.76977,     0.77077,     0.77177,     0.77277,     0.77377,     0.77477,     0.77578,     0.77678,     0.77778,     0.77878,     0.77978,     0.78078,     0.78178,     0.78278,     0.78378,     0.78478,     0.78579,     0.78679,     0.78779,     0.78879,     0.78979,     0.79079,     0.79179,\n",
              "           0.79279,     0.79379,     0.79479,      0.7958,      0.7968,      0.7978,      0.7988,      0.7998,      0.8008,      0.8018,      0.8028,      0.8038,      0.8048,     0.80581,     0.80681,     0.80781,     0.80881,     0.80981,     0.81081,     0.81181,     0.81281,     0.81381,     0.81481,     0.81582,\n",
              "           0.81682,     0.81782,     0.81882,     0.81982,     0.82082,     0.82182,     0.82282,     0.82382,     0.82482,     0.82583,     0.82683,     0.82783,     0.82883,     0.82983,     0.83083,     0.83183,     0.83283,     0.83383,     0.83483,     0.83584,     0.83684,     0.83784,     0.83884,     0.83984,\n",
              "           0.84084,     0.84184,     0.84284,     0.84384,     0.84484,     0.84585,     0.84685,     0.84785,     0.84885,     0.84985,     0.85085,     0.85185,     0.85285,     0.85385,     0.85485,     0.85586,     0.85686,     0.85786,     0.85886,     0.85986,     0.86086,     0.86186,     0.86286,     0.86386,\n",
              "           0.86486,     0.86587,     0.86687,     0.86787,     0.86887,     0.86987,     0.87087,     0.87187,     0.87287,     0.87387,     0.87487,     0.87588,     0.87688,     0.87788,     0.87888,     0.87988,     0.88088,     0.88188,     0.88288,     0.88388,     0.88488,     0.88589,     0.88689,     0.88789,\n",
              "           0.88889,     0.88989,     0.89089,     0.89189,     0.89289,     0.89389,     0.89489,      0.8959,      0.8969,      0.8979,      0.8989,      0.8999,      0.9009,      0.9019,      0.9029,      0.9039,      0.9049,     0.90591,     0.90691,     0.90791,     0.90891,     0.90991,     0.91091,     0.91191,\n",
              "           0.91291,     0.91391,     0.91491,     0.91592,     0.91692,     0.91792,     0.91892,     0.91992,     0.92092,     0.92192,     0.92292,     0.92392,     0.92492,     0.92593,     0.92693,     0.92793,     0.92893,     0.92993,     0.93093,     0.93193,     0.93293,     0.93393,     0.93493,     0.93594,\n",
              "           0.93694,     0.93794,     0.93894,     0.93994,     0.94094,     0.94194,     0.94294,     0.94394,     0.94494,     0.94595,     0.94695,     0.94795,     0.94895,     0.94995,     0.95095,     0.95195,     0.95295,     0.95395,     0.95495,     0.95596,     0.95696,     0.95796,     0.95896,     0.95996,\n",
              "           0.96096,     0.96196,     0.96296,     0.96396,     0.96496,     0.96597,     0.96697,     0.96797,     0.96897,     0.96997,     0.97097,     0.97197,     0.97297,     0.97397,     0.97497,     0.97598,     0.97698,     0.97798,     0.97898,     0.97998,     0.98098,     0.98198,     0.98298,     0.98398,\n",
              "           0.98498,     0.98599,     0.98699,     0.98799,     0.98899,     0.98999,     0.99099,     0.99199,     0.99299,     0.99399,     0.99499,       0.996,       0.997,       0.998,       0.999,           1]), array([[          1,           1,           1,           1,           1,           1,           1,           1,           1,           1,           1,           1,           1,           1,           1,           1,           1,           1,           1,           1,           1,           1,           1,\n",
              "                  1,           1,           1,           1,           1,           1,           1,           1,           1,           1,           1,           1,           1,           1,           1,           1,           1,           1,           1,           1,           1,           1,           1,\n",
              "                  1,           1,           1,           1,           1,           1,           1,           1,           1,           1,           1,           1,           1,           1,           1,           1,           1,           1,           1,           1,           1,           1,           1,\n",
              "                  1,           1,           1,           1,           1,           1,           1,           1,           1,           1,           1,           1,           1,           1,           1,           1,           1,           1,           1,           1,           1,           1,           1,\n",
              "                  1,           1,           1,           1,           1,           1,           1,           1,           1,           1,           1,           1,           1,           1,           1,           1,           1,           1,           1,           1,           1,           1,           1,\n",
              "                  1,           1,           1,           1,           1,           1,           1,           1,           1,           1,           1,           1,           1,           1,           1,           1,           1,           1,           1,           1,           1,           1,           1,\n",
              "                  1,           1,           1,           1,           1,           1,           1,           1,           1,           1,           1,           1,           1,           1,           1,           1,           1,           1,           1,           1,           1,           1,           1,\n",
              "                  1,           1,           1,           1,           1,           1,           1,           1,           1,           1,           1,           1,           1,           1,           1,           1,           1,           1,           1,           1,           1,           1,           1,\n",
              "                  1,           1,           1,           1,           1,           1,           1,           1,           1,           1,           1,           1,           1,           1,           1,           1,           1,           1,           1,           1,           1,           1,           1,\n",
              "                  1,           1,           1,           1,     0.97727,     0.97727,     0.97727,     0.97727,     0.97727,     0.97727,     0.97727,     0.97727,     0.97727,     0.97727,     0.97727,     0.97727,     0.97727,     0.97727,     0.97727,     0.97727,     0.97727,     0.97727,     0.97727,\n",
              "            0.97727,     0.97727,     0.97727,     0.97727,     0.97727,     0.97727,     0.97727,     0.97727,     0.97727,     0.97727,     0.97727,     0.97727,     0.97727,     0.97727,     0.97727,     0.97727,     0.97727,     0.97727,     0.97727,     0.97727,     0.97727,     0.97727,     0.97727,\n",
              "            0.97727,     0.97727,     0.97727,     0.97727,     0.97727,     0.97727,     0.97727,     0.97727,     0.97727,     0.97727,     0.97727,     0.97727,     0.97727,     0.97727,     0.97727,     0.97727,     0.97727,     0.97727,     0.97727,     0.97727,     0.97727,     0.97727,     0.97727,\n",
              "            0.97727,     0.97727,     0.97727,     0.97727,     0.97727,     0.97727,     0.97727,     0.97727,     0.97727,     0.97727,     0.97727,     0.97727,     0.97727,     0.97727,     0.97727,     0.97727,     0.97727,     0.97015,     0.97015,     0.97015,     0.97015,     0.97015,     0.97015,\n",
              "            0.97015,     0.97015,     0.97015,     0.97015,     0.97015,     0.97015,     0.97015,     0.97015,     0.97015,     0.97015,     0.97015,     0.97015,     0.97015,     0.97015,     0.97015,     0.97015,     0.97015,     0.97015,     0.97015,     0.97015,     0.97015,     0.97015,     0.97015,\n",
              "            0.97015,     0.97015,     0.97015,     0.97015,     0.97015,     0.97015,     0.97015,     0.97015,     0.97015,     0.97015,     0.97015,     0.97015,     0.97015,     0.97015,     0.97015,     0.97015,     0.97015,     0.97015,     0.97015,     0.97015,     0.97015,     0.97015,     0.97015,\n",
              "            0.97015,     0.97015,     0.97015,     0.97015,     0.97015,     0.97015,     0.97015,     0.97015,     0.97015,     0.97015,     0.97015,     0.97015,     0.97015,     0.97015,     0.97015,     0.97015,     0.97015,     0.97015,     0.97015,     0.97015,     0.97015,     0.97015,     0.97015,\n",
              "            0.97015,     0.97015,     0.97015,     0.97015,     0.97015,     0.97015,     0.97015,     0.97015,     0.97015,     0.97015,     0.97015,     0.97015,     0.97015,     0.97015,     0.97015,     0.97015,     0.97015,     0.97015,     0.97015,     0.97015,     0.97015,     0.97015,     0.97015,\n",
              "            0.97015,     0.97015,     0.97015,     0.97015,     0.97015,     0.97015,     0.97015,     0.97015,     0.97015,     0.97015,     0.97015,     0.97015,     0.97015,     0.97015,     0.97015,     0.97015,     0.97015,     0.97015,     0.97015,     0.97015,     0.97015,     0.97015,     0.97015,\n",
              "            0.97015,     0.97015,     0.97015,     0.97015,     0.97015,     0.97015,     0.97015,     0.97015,     0.97015,     0.97015,     0.97015,     0.97015,     0.97015,     0.97015,     0.97015,     0.97015,     0.97015,     0.97015,     0.97015,     0.97015,     0.97015,     0.97015,     0.97015,\n",
              "            0.97015,     0.97015,     0.97015,     0.97015,     0.97015,     0.96296,     0.96296,     0.96296,     0.96296,     0.96296,     0.96296,     0.96296,     0.96296,     0.96296,     0.96296,     0.96296,     0.96296,     0.96296,     0.96296,     0.96296,     0.96296,     0.96296,     0.96296,\n",
              "            0.96296,     0.96296,     0.96296,     0.96296,     0.96296,     0.96296,     0.96296,     0.96296,     0.96296,     0.96296,     0.96296,     0.96296,     0.96296,     0.96296,     0.96296,     0.96296,     0.96296,     0.96296,     0.96296,     0.96296,     0.96296,     0.96296,     0.96296,\n",
              "            0.96296,     0.96296,     0.96296,     0.96296,     0.96296,     0.96296,     0.96296,     0.96296,     0.96296,     0.96296,     0.96296,     0.96296,     0.96296,     0.96296,     0.96296,     0.96296,     0.96296,     0.96296,     0.96296,     0.96296,     0.96296,     0.96296,     0.96296,\n",
              "            0.96296,     0.96296,     0.96296,     0.96296,     0.96296,     0.96296,     0.96296,     0.96296,     0.96296,     0.96296,     0.96296,     0.96296,     0.96296,     0.96296,     0.96296,     0.96296,     0.96296,     0.96296,     0.96296,     0.96296,     0.96296,     0.96296,     0.96296,\n",
              "            0.96296,     0.96296,      0.9619,      0.9619,      0.9619,      0.9619,      0.9619,      0.9619,      0.9619,      0.9619,      0.9619,      0.9619,      0.9619,      0.9619,      0.9619,      0.9619,      0.9619,      0.9619,      0.9619,      0.9619,      0.9619,      0.9619,      0.9619,\n",
              "             0.9619,      0.9619,      0.9619,      0.9619,      0.9619,      0.9619,      0.9619,      0.9619,      0.9619,      0.9619,      0.9619,      0.9619,      0.9619,      0.9619,      0.9619,      0.9619,      0.9619,      0.9619,      0.9619,      0.9619,      0.9619,      0.9619,      0.9619,\n",
              "             0.9619,      0.9619,      0.9619,      0.9619,      0.9619,      0.9619,      0.9619,      0.9619,      0.9619,      0.9619,      0.9619,      0.9619,      0.9619,      0.9619,      0.9619,      0.9619,      0.9619,      0.9619,      0.9619,      0.9619,      0.9619,      0.9619,      0.9619,\n",
              "             0.9619,      0.9619,      0.9619,      0.9619,      0.9619,      0.9619,      0.9619,      0.9619,      0.9619,      0.9619,      0.9619,      0.9619,      0.9619,      0.9619,      0.9619,      0.9619,      0.9619,      0.9619,      0.9619,      0.9619,      0.9619,      0.9619,      0.9619,\n",
              "             0.9619,      0.9619,      0.9619,      0.9619,      0.9619,      0.9619,      0.9619,      0.9619,      0.9619,      0.9619,      0.9619,      0.9619,      0.9619,      0.9619,      0.9619,      0.9619,      0.9619,      0.9619,      0.9619,      0.9619,      0.9619,      0.9619,      0.9619,\n",
              "             0.9619,      0.9619,      0.9619,      0.9619,      0.9619,      0.9619,      0.9619,      0.9619,      0.9619,      0.9619,      0.9619,      0.9619,      0.9619,      0.9619,      0.9619,      0.9619,      0.9619,      0.9619,      0.9619,      0.9619,      0.9619,      0.9619,      0.9619,\n",
              "             0.9619,      0.9619,      0.9619,      0.9619,      0.9619,      0.9619,      0.9619,      0.9619,      0.9619,      0.9619,      0.9619,      0.9619,      0.9619,      0.9619,      0.9619,      0.9619,      0.9619,      0.9619,      0.9619,      0.9619,     0.95726,     0.95726,     0.95726,\n",
              "            0.95726,     0.95726,     0.95726,     0.95726,     0.95726,     0.95726,     0.95726,     0.95726,     0.95726,     0.95726,     0.95726,     0.95726,     0.95726,     0.95726,     0.95726,     0.95726,     0.95726,     0.95726,     0.95726,     0.95726,     0.95726,     0.95726,     0.95726,\n",
              "            0.95726,     0.95726,     0.95726,     0.95726,     0.95726,     0.95726,     0.95726,     0.95726,     0.95726,     0.95726,     0.95726,     0.95726,     0.95726,     0.95726,     0.95726,     0.95726,     0.95726,     0.95726,     0.95726,     0.95726,     0.95726,     0.95726,     0.95726,\n",
              "            0.95726,     0.95726,     0.95726,     0.95726,     0.95726,     0.95726,     0.95726,     0.95726,     0.95726,     0.95726,     0.95726,     0.95726,     0.95726,     0.95726,     0.95726,     0.95726,     0.95726,     0.95726,     0.95726,     0.95726,     0.95726,     0.95726,     0.95726,\n",
              "            0.95726,     0.95726,     0.95726,     0.94167,     0.94167,     0.94167,     0.94167,     0.94167,     0.94167,     0.93701,     0.93701,     0.93701,     0.93701,     0.93701,     0.93701,     0.93701,     0.93701,     0.93701,     0.93701,     0.93701,     0.93701,     0.93701,     0.93701,\n",
              "            0.93701,     0.93701,     0.93701,     0.93701,     0.93701,     0.93701,     0.93701,     0.93701,     0.93701,     0.93701,     0.93701,     0.93701,     0.93701,     0.93701,     0.93701,     0.93701,     0.93701,     0.93701,     0.93701,     0.93701,     0.93701,     0.93701,     0.93701,\n",
              "            0.93701,     0.93701,     0.93701,     0.93701,     0.93182,     0.93182,     0.93182,     0.93182,     0.93182,     0.93182,     0.93182,     0.93182,     0.93182,     0.93182,     0.93182,     0.93182,     0.93182,     0.93182,     0.93182,     0.93182,     0.93182,     0.93182,     0.93182,\n",
              "            0.93182,     0.93182,     0.93182,     0.93182,     0.93182,     0.93182,     0.93182,     0.93182,     0.92593,     0.92593,     0.92593,     0.92593,     0.92593,     0.92593,     0.92593,     0.92593,     0.92593,     0.92593,     0.92593,     0.92593,     0.92593,     0.92593,     0.91971,\n",
              "            0.91971,     0.91971,     0.91971,     0.91971,     0.91971,     0.91971,      0.9078,      0.9078,      0.9078,      0.9078,      0.9078,      0.9078,      0.9078,      0.9078,      0.9078,      0.9078,      0.9078,      0.9078,      0.9078,     0.89865,     0.89865,     0.89865,     0.89865,\n",
              "            0.89865,     0.89865,     0.89865,     0.89865,     0.89865,     0.89865,     0.89865,     0.89865,     0.89865,     0.89865,     0.89865,     0.89865,     0.89865,     0.89865,     0.89865,     0.89865,     0.89865,     0.89865,     0.89865,     0.89865,     0.89865,     0.89865,     0.89865,\n",
              "            0.89865,     0.89865,     0.89865,     0.89865,     0.89865,     0.89865,     0.89865,     0.88742,     0.88742,     0.88742,     0.88742,     0.88742,     0.88742,     0.88742,     0.88235,     0.88235,     0.88235,     0.88235,     0.88235,     0.88235,     0.88235,     0.83951,     0.83951,\n",
              "            0.83951,     0.83951,     0.83951,     0.83951,     0.83951,     0.83133,     0.83133,     0.83133,     0.83133,     0.83133,     0.83133,     0.83133,     0.83133,     0.83133,     0.83133,     0.83133,     0.83133,     0.83133,     0.74332,     0.74332,     0.74332,     0.74332,     0.74332,\n",
              "            0.74332,     0.74332,     0.72165,     0.72165,     0.72165,     0.72165,     0.72165,     0.72165,     0.72165,     0.66197,     0.66197,     0.66197,     0.66197,     0.66197,     0.66197,     0.66197,     0.49477,     0.49477,     0.49477,     0.49477,     0.49477,     0.49477,     0.49477,\n",
              "            0.47987,     0.47987,     0.47987,     0.47987,     0.47987,     0.47987,     0.41143,     0.41143,     0.41143,     0.41143,     0.41143,     0.41143,     0.41143,      0.2423,     0.23019,     0.21807,     0.20596,     0.19384,     0.18173,     0.16961,      0.1575,     0.14538,     0.13327,\n",
              "            0.12115,     0.10904,     0.09692,    0.084805,     0.07269,    0.060575,     0.04846,    0.036345,     0.02423,    0.012115,           0]]), 'Recall', 'Precision'], [array([          0,    0.001001,    0.002002,    0.003003,    0.004004,    0.005005,    0.006006,    0.007007,    0.008008,    0.009009,     0.01001,    0.011011,    0.012012,    0.013013,    0.014014,    0.015015,    0.016016,    0.017017,    0.018018,    0.019019,     0.02002,    0.021021,    0.022022,    0.023023,\n",
              "          0.024024,    0.025025,    0.026026,    0.027027,    0.028028,    0.029029,     0.03003,    0.031031,    0.032032,    0.033033,    0.034034,    0.035035,    0.036036,    0.037037,    0.038038,    0.039039,     0.04004,    0.041041,    0.042042,    0.043043,    0.044044,    0.045045,    0.046046,    0.047047,\n",
              "          0.048048,    0.049049,     0.05005,    0.051051,    0.052052,    0.053053,    0.054054,    0.055055,    0.056056,    0.057057,    0.058058,    0.059059,     0.06006,    0.061061,    0.062062,    0.063063,    0.064064,    0.065065,    0.066066,    0.067067,    0.068068,    0.069069,     0.07007,    0.071071,\n",
              "          0.072072,    0.073073,    0.074074,    0.075075,    0.076076,    0.077077,    0.078078,    0.079079,     0.08008,    0.081081,    0.082082,    0.083083,    0.084084,    0.085085,    0.086086,    0.087087,    0.088088,    0.089089,     0.09009,    0.091091,    0.092092,    0.093093,    0.094094,    0.095095,\n",
              "          0.096096,    0.097097,    0.098098,    0.099099,      0.1001,      0.1011,      0.1021,      0.1031,      0.1041,     0.10511,     0.10611,     0.10711,     0.10811,     0.10911,     0.11011,     0.11111,     0.11211,     0.11311,     0.11411,     0.11512,     0.11612,     0.11712,     0.11812,     0.11912,\n",
              "           0.12012,     0.12112,     0.12212,     0.12312,     0.12412,     0.12513,     0.12613,     0.12713,     0.12813,     0.12913,     0.13013,     0.13113,     0.13213,     0.13313,     0.13413,     0.13514,     0.13614,     0.13714,     0.13814,     0.13914,     0.14014,     0.14114,     0.14214,     0.14314,\n",
              "           0.14414,     0.14515,     0.14615,     0.14715,     0.14815,     0.14915,     0.15015,     0.15115,     0.15215,     0.15315,     0.15415,     0.15516,     0.15616,     0.15716,     0.15816,     0.15916,     0.16016,     0.16116,     0.16216,     0.16316,     0.16416,     0.16517,     0.16617,     0.16717,\n",
              "           0.16817,     0.16917,     0.17017,     0.17117,     0.17217,     0.17317,     0.17417,     0.17518,     0.17618,     0.17718,     0.17818,     0.17918,     0.18018,     0.18118,     0.18218,     0.18318,     0.18418,     0.18519,     0.18619,     0.18719,     0.18819,     0.18919,     0.19019,     0.19119,\n",
              "           0.19219,     0.19319,     0.19419,      0.1952,      0.1962,      0.1972,      0.1982,      0.1992,      0.2002,      0.2012,      0.2022,      0.2032,      0.2042,     0.20521,     0.20621,     0.20721,     0.20821,     0.20921,     0.21021,     0.21121,     0.21221,     0.21321,     0.21421,     0.21522,\n",
              "           0.21622,     0.21722,     0.21822,     0.21922,     0.22022,     0.22122,     0.22222,     0.22322,     0.22422,     0.22523,     0.22623,     0.22723,     0.22823,     0.22923,     0.23023,     0.23123,     0.23223,     0.23323,     0.23423,     0.23524,     0.23624,     0.23724,     0.23824,     0.23924,\n",
              "           0.24024,     0.24124,     0.24224,     0.24324,     0.24424,     0.24525,     0.24625,     0.24725,     0.24825,     0.24925,     0.25025,     0.25125,     0.25225,     0.25325,     0.25425,     0.25526,     0.25626,     0.25726,     0.25826,     0.25926,     0.26026,     0.26126,     0.26226,     0.26326,\n",
              "           0.26426,     0.26527,     0.26627,     0.26727,     0.26827,     0.26927,     0.27027,     0.27127,     0.27227,     0.27327,     0.27427,     0.27528,     0.27628,     0.27728,     0.27828,     0.27928,     0.28028,     0.28128,     0.28228,     0.28328,     0.28428,     0.28529,     0.28629,     0.28729,\n",
              "           0.28829,     0.28929,     0.29029,     0.29129,     0.29229,     0.29329,     0.29429,      0.2953,      0.2963,      0.2973,      0.2983,      0.2993,      0.3003,      0.3013,      0.3023,      0.3033,      0.3043,     0.30531,     0.30631,     0.30731,     0.30831,     0.30931,     0.31031,     0.31131,\n",
              "           0.31231,     0.31331,     0.31431,     0.31532,     0.31632,     0.31732,     0.31832,     0.31932,     0.32032,     0.32132,     0.32232,     0.32332,     0.32432,     0.32533,     0.32633,     0.32733,     0.32833,     0.32933,     0.33033,     0.33133,     0.33233,     0.33333,     0.33433,     0.33534,\n",
              "           0.33634,     0.33734,     0.33834,     0.33934,     0.34034,     0.34134,     0.34234,     0.34334,     0.34434,     0.34535,     0.34635,     0.34735,     0.34835,     0.34935,     0.35035,     0.35135,     0.35235,     0.35335,     0.35435,     0.35536,     0.35636,     0.35736,     0.35836,     0.35936,\n",
              "           0.36036,     0.36136,     0.36236,     0.36336,     0.36436,     0.36537,     0.36637,     0.36737,     0.36837,     0.36937,     0.37037,     0.37137,     0.37237,     0.37337,     0.37437,     0.37538,     0.37638,     0.37738,     0.37838,     0.37938,     0.38038,     0.38138,     0.38238,     0.38338,\n",
              "           0.38438,     0.38539,     0.38639,     0.38739,     0.38839,     0.38939,     0.39039,     0.39139,     0.39239,     0.39339,     0.39439,      0.3954,      0.3964,      0.3974,      0.3984,      0.3994,      0.4004,      0.4014,      0.4024,      0.4034,      0.4044,     0.40541,     0.40641,     0.40741,\n",
              "           0.40841,     0.40941,     0.41041,     0.41141,     0.41241,     0.41341,     0.41441,     0.41542,     0.41642,     0.41742,     0.41842,     0.41942,     0.42042,     0.42142,     0.42242,     0.42342,     0.42442,     0.42543,     0.42643,     0.42743,     0.42843,     0.42943,     0.43043,     0.43143,\n",
              "           0.43243,     0.43343,     0.43443,     0.43544,     0.43644,     0.43744,     0.43844,     0.43944,     0.44044,     0.44144,     0.44244,     0.44344,     0.44444,     0.44545,     0.44645,     0.44745,     0.44845,     0.44945,     0.45045,     0.45145,     0.45245,     0.45345,     0.45445,     0.45546,\n",
              "           0.45646,     0.45746,     0.45846,     0.45946,     0.46046,     0.46146,     0.46246,     0.46346,     0.46446,     0.46547,     0.46647,     0.46747,     0.46847,     0.46947,     0.47047,     0.47147,     0.47247,     0.47347,     0.47447,     0.47548,     0.47648,     0.47748,     0.47848,     0.47948,\n",
              "           0.48048,     0.48148,     0.48248,     0.48348,     0.48448,     0.48549,     0.48649,     0.48749,     0.48849,     0.48949,     0.49049,     0.49149,     0.49249,     0.49349,     0.49449,      0.4955,      0.4965,      0.4975,      0.4985,      0.4995,      0.5005,      0.5015,      0.5025,      0.5035,\n",
              "            0.5045,     0.50551,     0.50651,     0.50751,     0.50851,     0.50951,     0.51051,     0.51151,     0.51251,     0.51351,     0.51451,     0.51552,     0.51652,     0.51752,     0.51852,     0.51952,     0.52052,     0.52152,     0.52252,     0.52352,     0.52452,     0.52553,     0.52653,     0.52753,\n",
              "           0.52853,     0.52953,     0.53053,     0.53153,     0.53253,     0.53353,     0.53453,     0.53554,     0.53654,     0.53754,     0.53854,     0.53954,     0.54054,     0.54154,     0.54254,     0.54354,     0.54454,     0.54555,     0.54655,     0.54755,     0.54855,     0.54955,     0.55055,     0.55155,\n",
              "           0.55255,     0.55355,     0.55455,     0.55556,     0.55656,     0.55756,     0.55856,     0.55956,     0.56056,     0.56156,     0.56256,     0.56356,     0.56456,     0.56557,     0.56657,     0.56757,     0.56857,     0.56957,     0.57057,     0.57157,     0.57257,     0.57357,     0.57457,     0.57558,\n",
              "           0.57658,     0.57758,     0.57858,     0.57958,     0.58058,     0.58158,     0.58258,     0.58358,     0.58458,     0.58559,     0.58659,     0.58759,     0.58859,     0.58959,     0.59059,     0.59159,     0.59259,     0.59359,     0.59459,      0.5956,      0.5966,      0.5976,      0.5986,      0.5996,\n",
              "            0.6006,      0.6016,      0.6026,      0.6036,      0.6046,     0.60561,     0.60661,     0.60761,     0.60861,     0.60961,     0.61061,     0.61161,     0.61261,     0.61361,     0.61461,     0.61562,     0.61662,     0.61762,     0.61862,     0.61962,     0.62062,     0.62162,     0.62262,     0.62362,\n",
              "           0.62462,     0.62563,     0.62663,     0.62763,     0.62863,     0.62963,     0.63063,     0.63163,     0.63263,     0.63363,     0.63463,     0.63564,     0.63664,     0.63764,     0.63864,     0.63964,     0.64064,     0.64164,     0.64264,     0.64364,     0.64464,     0.64565,     0.64665,     0.64765,\n",
              "           0.64865,     0.64965,     0.65065,     0.65165,     0.65265,     0.65365,     0.65465,     0.65566,     0.65666,     0.65766,     0.65866,     0.65966,     0.66066,     0.66166,     0.66266,     0.66366,     0.66466,     0.66567,     0.66667,     0.66767,     0.66867,     0.66967,     0.67067,     0.67167,\n",
              "           0.67267,     0.67367,     0.67467,     0.67568,     0.67668,     0.67768,     0.67868,     0.67968,     0.68068,     0.68168,     0.68268,     0.68368,     0.68468,     0.68569,     0.68669,     0.68769,     0.68869,     0.68969,     0.69069,     0.69169,     0.69269,     0.69369,     0.69469,      0.6957,\n",
              "            0.6967,      0.6977,      0.6987,      0.6997,      0.7007,      0.7017,      0.7027,      0.7037,      0.7047,     0.70571,     0.70671,     0.70771,     0.70871,     0.70971,     0.71071,     0.71171,     0.71271,     0.71371,     0.71471,     0.71572,     0.71672,     0.71772,     0.71872,     0.71972,\n",
              "           0.72072,     0.72172,     0.72272,     0.72372,     0.72472,     0.72573,     0.72673,     0.72773,     0.72873,     0.72973,     0.73073,     0.73173,     0.73273,     0.73373,     0.73473,     0.73574,     0.73674,     0.73774,     0.73874,     0.73974,     0.74074,     0.74174,     0.74274,     0.74374,\n",
              "           0.74474,     0.74575,     0.74675,     0.74775,     0.74875,     0.74975,     0.75075,     0.75175,     0.75275,     0.75375,     0.75475,     0.75576,     0.75676,     0.75776,     0.75876,     0.75976,     0.76076,     0.76176,     0.76276,     0.76376,     0.76476,     0.76577,     0.76677,     0.76777,\n",
              "           0.76877,     0.76977,     0.77077,     0.77177,     0.77277,     0.77377,     0.77477,     0.77578,     0.77678,     0.77778,     0.77878,     0.77978,     0.78078,     0.78178,     0.78278,     0.78378,     0.78478,     0.78579,     0.78679,     0.78779,     0.78879,     0.78979,     0.79079,     0.79179,\n",
              "           0.79279,     0.79379,     0.79479,      0.7958,      0.7968,      0.7978,      0.7988,      0.7998,      0.8008,      0.8018,      0.8028,      0.8038,      0.8048,     0.80581,     0.80681,     0.80781,     0.80881,     0.80981,     0.81081,     0.81181,     0.81281,     0.81381,     0.81481,     0.81582,\n",
              "           0.81682,     0.81782,     0.81882,     0.81982,     0.82082,     0.82182,     0.82282,     0.82382,     0.82482,     0.82583,     0.82683,     0.82783,     0.82883,     0.82983,     0.83083,     0.83183,     0.83283,     0.83383,     0.83483,     0.83584,     0.83684,     0.83784,     0.83884,     0.83984,\n",
              "           0.84084,     0.84184,     0.84284,     0.84384,     0.84484,     0.84585,     0.84685,     0.84785,     0.84885,     0.84985,     0.85085,     0.85185,     0.85285,     0.85385,     0.85485,     0.85586,     0.85686,     0.85786,     0.85886,     0.85986,     0.86086,     0.86186,     0.86286,     0.86386,\n",
              "           0.86486,     0.86587,     0.86687,     0.86787,     0.86887,     0.86987,     0.87087,     0.87187,     0.87287,     0.87387,     0.87487,     0.87588,     0.87688,     0.87788,     0.87888,     0.87988,     0.88088,     0.88188,     0.88288,     0.88388,     0.88488,     0.88589,     0.88689,     0.88789,\n",
              "           0.88889,     0.88989,     0.89089,     0.89189,     0.89289,     0.89389,     0.89489,      0.8959,      0.8969,      0.8979,      0.8989,      0.8999,      0.9009,      0.9019,      0.9029,      0.9039,      0.9049,     0.90591,     0.90691,     0.90791,     0.90891,     0.90991,     0.91091,     0.91191,\n",
              "           0.91291,     0.91391,     0.91491,     0.91592,     0.91692,     0.91792,     0.91892,     0.91992,     0.92092,     0.92192,     0.92292,     0.92392,     0.92492,     0.92593,     0.92693,     0.92793,     0.92893,     0.92993,     0.93093,     0.93193,     0.93293,     0.93393,     0.93493,     0.93594,\n",
              "           0.93694,     0.93794,     0.93894,     0.93994,     0.94094,     0.94194,     0.94294,     0.94394,     0.94494,     0.94595,     0.94695,     0.94795,     0.94895,     0.94995,     0.95095,     0.95195,     0.95295,     0.95395,     0.95495,     0.95596,     0.95696,     0.95796,     0.95896,     0.95996,\n",
              "           0.96096,     0.96196,     0.96296,     0.96396,     0.96496,     0.96597,     0.96697,     0.96797,     0.96897,     0.96997,     0.97097,     0.97197,     0.97297,     0.97397,     0.97497,     0.97598,     0.97698,     0.97798,     0.97898,     0.97998,     0.98098,     0.98198,     0.98298,     0.98398,\n",
              "           0.98498,     0.98599,     0.98699,     0.98799,     0.98899,     0.98999,     0.99099,     0.99199,     0.99299,     0.99399,     0.99499,       0.996,       0.997,       0.998,       0.999,           1]), array([[    0.39452,     0.39452,     0.48212,     0.53036,     0.54774,     0.56314,     0.58491,     0.60077,     0.61208,     0.61745,     0.62616,     0.63407,     0.63817,     0.64757,     0.65264,     0.65316,     0.65684,     0.66337,     0.66899,     0.67123,     0.67808,     0.68252,      0.6902,\n",
              "             0.6918,     0.69469,     0.69757,     0.69864,     0.69947,     0.70031,     0.70116,     0.70422,     0.70616,     0.70824,     0.70995,     0.71152,     0.71433,     0.71529,     0.71693,     0.72015,     0.72147,     0.72331,     0.72374,     0.72416,     0.72459,     0.72566,      0.7273,\n",
              "            0.72801,     0.72873,     0.72975,     0.73286,     0.73465,     0.73567,     0.73678,     0.73804,     0.73883,     0.73953,     0.74141,     0.74262,     0.74318,     0.74373,     0.74694,     0.74837,     0.74893,     0.74949,     0.75047,     0.75427,     0.75565,     0.75754,     0.75847,\n",
              "            0.75902,     0.75957,     0.76018,     0.76329,      0.7649,     0.76573,      0.7665,     0.76713,     0.76777,     0.76855,     0.77229,     0.77318,     0.77385,     0.77451,     0.77534,     0.77624,     0.77794,     0.78065,     0.78148,     0.78188,     0.78228,     0.78268,     0.78308,\n",
              "            0.78318,     0.78276,     0.78234,     0.78192,      0.7815,     0.78108,     0.78066,     0.78024,     0.78047,     0.78214,     0.78286,     0.78358,      0.7843,     0.78579,     0.78776,     0.78924,     0.79009,     0.79094,     0.79156,     0.79217,     0.79279,      0.7935,     0.79445,\n",
              "             0.7954,     0.79576,     0.79609,     0.79641,     0.79674,     0.79707,     0.79739,     0.79772,     0.79909,     0.80185,     0.80318,     0.80415,     0.80574,     0.80708,     0.80746,     0.80783,     0.80821,     0.80858,     0.80896,     0.80964,     0.81139,     0.81703,     0.81878,\n",
              "             0.8201,     0.82032,     0.81779,     0.81835,     0.81892,     0.81948,     0.82005,     0.82087,      0.8217,     0.82251,     0.82292,     0.82332,     0.82373,     0.82414,     0.82455,       0.825,     0.82596,     0.82692,     0.82759,     0.82798,     0.82838,     0.82878,     0.82918,\n",
              "            0.82957,     0.82996,     0.83032,     0.83067,     0.83103,     0.83139,     0.83175,      0.8321,     0.83224,     0.83196,     0.83168,     0.83139,     0.83111,     0.83083,     0.83055,     0.83027,     0.82998,      0.8297,     0.82942,     0.82914,     0.82886,     0.82947,     0.83018,\n",
              "            0.83088,     0.83159,      0.8323,     0.83301,     0.83372,      0.8367,     0.83819,     0.83918,      0.8397,     0.84023,     0.84075,     0.84127,     0.84173,     0.84214,     0.84256,     0.84297,     0.84338,      0.8438,      0.8441,     0.84425,     0.84439,     0.84454,     0.84469,\n",
              "            0.84484,     0.84498,     0.84513,     0.84528,     0.84543,     0.84557,     0.84572,     0.84587,     0.84602,     0.84616,     0.84631,     0.84646,     0.84661,     0.84746,     0.84843,     0.84999,     0.85257,     0.85385,     0.85459,     0.85479,     0.85499,     0.85519,      0.8554,\n",
              "             0.8556,      0.8558,       0.856,      0.8562,      0.8564,      0.8566,     0.85681,     0.85701,     0.85723,     0.85749,     0.85776,     0.85802,     0.85828,     0.85855,     0.85881,     0.85908,     0.85934,      0.8596,     0.86339,      0.8674,     0.86855,     0.86927,        0.87,\n",
              "            0.87096,     0.87652,     0.87748,     0.87843,     0.88138,      0.8804,     0.87942,     0.87844,     0.87784,     0.87737,     0.87689,     0.87641,     0.87593,     0.87546,     0.87498,     0.87518,     0.87748,     0.87772,     0.87797,     0.87822,     0.87847,     0.87872,     0.87896,\n",
              "            0.87921,     0.87946,     0.87971,     0.87995,      0.8802,     0.87912,     0.87763,     0.87674,     0.87709,     0.87745,      0.8778,     0.87816,     0.87851,     0.87887,     0.87922,      0.8798,     0.88098,     0.88216,     0.88543,     0.88565,     0.88587,      0.8861,     0.88632,\n",
              "            0.88654,     0.88676,     0.88698,      0.8872,     0.88742,     0.88764,     0.88786,     0.88808,     0.89083,     0.89134,     0.89161,     0.89188,     0.89215,     0.89242,     0.89269,     0.89296,     0.89322,     0.89349,     0.89376,     0.89403,     0.89437,     0.89472,     0.89507,\n",
              "            0.89542,     0.89577,     0.89612,     0.89646,     0.89681,     0.89874,     0.89905,     0.89768,     0.89632,     0.89668,     0.89703,     0.89738,     0.89774,     0.89809,     0.89844,     0.89879,     0.89914,       0.899,     0.89831,     0.89762,     0.89693,     0.89624,     0.89568,\n",
              "            0.89617,     0.89667,     0.89717,     0.89766,     0.89816,     0.89865,     0.89907,     0.89949,      0.8999,     0.90032,     0.90074,     0.90115,     0.90157,     0.90111,     0.90026,     0.89941,     0.89855,     0.89786,     0.89754,     0.89722,      0.8969,     0.89658,     0.89626,\n",
              "            0.89594,     0.89562,     0.89529,     0.89497,     0.89465,     0.89433,     0.89406,     0.89383,     0.89361,     0.89338,     0.89315,     0.89292,     0.89269,     0.89247,     0.89224,     0.89201,     0.89178,     0.89155,     0.89132,      0.8911,     0.89087,     0.89064,     0.89041,\n",
              "             0.8899,      0.8894,      0.8889,     0.88839,     0.88789,     0.88738,     0.88688,     0.88613,     0.88508,     0.88403,     0.88298,     0.88319,     0.88374,     0.88428,     0.88482,     0.88537,     0.88584,     0.88596,     0.88608,     0.88621,     0.88633,     0.88646,     0.88658,\n",
              "             0.8867,     0.88683,     0.88695,     0.88707,      0.8872,     0.88732,     0.88745,     0.88757,     0.88769,     0.88782,     0.88794,     0.88806,     0.88819,     0.88831,     0.88843,     0.88856,     0.88868,      0.8888,     0.88871,     0.88812,     0.88754,     0.88695,     0.88636,\n",
              "            0.88577,     0.88518,     0.88406,     0.88273,      0.8814,     0.88122,     0.88135,     0.88148,     0.88161,     0.88173,     0.88186,     0.88199,     0.88212,     0.88225,     0.88238,      0.8825,     0.88263,     0.88276,     0.88289,     0.88302,     0.88314,     0.88327,      0.8834,\n",
              "            0.88353,     0.88365,     0.88378,     0.88391,     0.88404,     0.88417,     0.88603,     0.88401,     0.88562,     0.88644,     0.88632,      0.8862,     0.88608,     0.88596,     0.88584,     0.88572,      0.8856,     0.88549,     0.88537,     0.88525,     0.88513,     0.88501,     0.88489,\n",
              "            0.88477,     0.88465,     0.88453,     0.88441,     0.88429,     0.88417,     0.88405,     0.88393,     0.88381,     0.88369,     0.88357,     0.88345,     0.88333,     0.88322,      0.8831,     0.88298,     0.88286,     0.88274,     0.88262,     0.88245,     0.88225,     0.88204,     0.88184,\n",
              "            0.88163,     0.88143,     0.88123,     0.88102,     0.88082,     0.88061,     0.88041,      0.8802,        0.88,     0.87979,     0.87959,     0.87938,     0.87918,     0.87897,     0.87877,     0.87869,     0.88159,     0.87954,     0.87766,     0.87728,      0.8769,     0.87653,     0.87615,\n",
              "            0.87577,     0.87539,     0.87502,     0.87464,     0.87426,     0.87388,     0.87333,      0.8725,     0.87166,     0.87082,     0.86998,     0.86746,     0.86588,     0.86669,      0.8675,     0.86831,     0.86597,     0.86309,     0.86095,      0.8597,     0.85883,     0.85797,     0.85711,\n",
              "            0.85625,     0.85562,     0.85504,     0.85446,     0.85388,      0.8533,     0.85272,     0.85214,     0.85141,     0.85054,     0.84967,     0.84879,     0.84791,     0.84737,     0.84703,      0.8467,     0.84636,     0.84602,     0.84568,     0.84534,       0.845,     0.84466,     0.84432,\n",
              "            0.84398,     0.84364,      0.8433,     0.84633,      0.8443,     0.84211,     0.84245,      0.8428,     0.84314,     0.84349,     0.84383,     0.84417,     0.84451,     0.84485,      0.8452,     0.84765,     0.84653,     0.84541,     0.84428,     0.84302,     0.84173,     0.84043,     0.83904,\n",
              "            0.83753,     0.83601,      0.8341,      0.8318,     0.83038,     0.82967,     0.82896,     0.82825,     0.82753,     0.82682,     0.82577,     0.82344,     0.82152,      0.8208,     0.82008,     0.81935,     0.81863,     0.81791,     0.81718,     0.81671,     0.81626,     0.81581,     0.81536,\n",
              "            0.81491,     0.81446,       0.814,     0.81355,      0.8131,     0.81265,      0.8117,     0.81051,     0.80931,     0.80812,     0.80717,      0.8063,     0.80542,     0.80455,     0.80367,     0.79862,     0.79912,     0.79963,     0.80012,     0.80062,     0.80112,     0.80155,     0.80101,\n",
              "            0.80047,     0.79992,     0.79938,     0.79884,     0.79829,     0.79775,      0.7972,     0.79169,     0.79058,     0.78948,     0.78837,     0.78727,     0.78267,     0.78041,     0.77838,     0.77679,     0.77566,     0.77453,     0.77339,      0.7719,      0.7622,     0.76133,     0.76046,\n",
              "            0.75959,     0.75872,     0.75785,     0.75652,     0.75389,     0.75098,     0.74744,     0.74463,     0.74195,     0.74098,     0.74021,     0.73944,     0.73867,      0.7379,     0.73712,     0.73605,     0.73105,     0.73055,     0.73005,     0.72956,     0.72906,     0.72856,     0.72806,\n",
              "            0.72756,     0.72706,     0.72656,     0.72606,     0.72495,     0.72274,     0.72052,     0.71974,     0.71908,     0.71843,     0.71777,     0.71711,     0.71646,      0.7158,     0.71514,     0.71349,     0.71123,     0.70869,     0.70491,     0.69972,     0.69655,     0.69424,     0.69219,\n",
              "            0.69074,     0.68928,     0.68782,     0.68217,     0.68147,     0.68174,       0.682,     0.68227,     0.68254,     0.68281,     0.68307,     0.68334,      0.6836,     0.68387,     0.68413,      0.6838,      0.6832,     0.68261,     0.68202,     0.68142,     0.68083,     0.68023,     0.67964,\n",
              "            0.67904,     0.67845,     0.67275,     0.65674,     0.65262,     0.64847,      0.6443,      0.6401,     0.63563,     0.62984,      0.6277,     0.62555,     0.61472,     0.60792,     0.60496,     0.60612,     0.60727,     0.60638,     0.60504,      0.6037,     0.60236,     0.60101,     0.59385,\n",
              "            0.59332,      0.5928,     0.59227,     0.59175,     0.59122,      0.5907,     0.59017,     0.58965,     0.58912,     0.58859,     0.58807,     0.58406,     0.57942,     0.57743,     0.57544,      0.5736,     0.57205,     0.57048,     0.56892,     0.56735,     0.56456,     0.56172,     0.55659,\n",
              "             0.5514,     0.54778,     0.54414,     0.54049,     0.52956,     0.51485,     0.51104,     0.50091,      0.4987,     0.49648,     0.48633,     0.48317,        0.48,     0.47681,     0.47361,     0.46215,     0.45808,     0.45331,     0.44794,     0.44915,     0.44988,     0.44432,     0.42871,\n",
              "            0.39937,     0.39492,     0.37906,     0.36716,     0.35788,     0.35354,     0.35086,     0.34816,     0.34772,       0.346,     0.34327,     0.34054,     0.33689,     0.33205,     0.32009,     0.31027,     0.30627,     0.30226,     0.29471,     0.28946,     0.28742,     0.28537,     0.28332,\n",
              "            0.28126,     0.27934,     0.27746,     0.27558,     0.27369,      0.2718,     0.25653,     0.24587,     0.22441,     0.21577,      0.2102,     0.20703,     0.20644,     0.20585,     0.20526,     0.20467,     0.20408,     0.20349,     0.20289,      0.2023,     0.20171,     0.20111,     0.20052,\n",
              "            0.19992,     0.19933,     0.19873,     0.19814,     0.19754,     0.19695,     0.19635,     0.18155,      0.1777,     0.16245,     0.15983,      0.1572,     0.15456,     0.15192,     0.14843,     0.14444,     0.14043,     0.13356,     0.12641,     0.12232,     0.11821,     0.10262,     0.10069,\n",
              "            0.09875,    0.096809,    0.094864,    0.092915,    0.090963,    0.077182,    0.074601,    0.072012,    0.069417,    0.066814,     0.06507,    0.063882,    0.062693,    0.061503,    0.060311,    0.059118,    0.057923,    0.056727,    0.055529,     0.05433,     0.05313,    0.045235,     0.03779,\n",
              "           0.032405,    0.026991,    0.023906,    0.020876,    0.017836,    0.014788,           0,           0,           0,           0,           0,           0,           0,           0,           0,           0,           0,           0,           0,           0,           0,           0,           0,\n",
              "                  0,           0,           0,           0,           0,           0,           0,           0,           0,           0,           0,           0,           0,           0,           0,           0,           0,           0,           0,           0,           0,           0,           0,\n",
              "                  0,           0,           0,           0,           0,           0,           0,           0,           0,           0,           0,           0,           0,           0,           0,           0,           0,           0,           0,           0,           0,           0,           0,\n",
              "                  0,           0,           0,           0,           0,           0,           0,           0,           0,           0,           0,           0,           0,           0,           0,           0,           0,           0,           0,           0,           0,           0,           0,\n",
              "                  0,           0,           0,           0,           0,           0,           0,           0,           0,           0,           0]]), 'Confidence', 'F1'], [array([          0,    0.001001,    0.002002,    0.003003,    0.004004,    0.005005,    0.006006,    0.007007,    0.008008,    0.009009,     0.01001,    0.011011,    0.012012,    0.013013,    0.014014,    0.015015,    0.016016,    0.017017,    0.018018,    0.019019,     0.02002,    0.021021,    0.022022,    0.023023,\n",
              "          0.024024,    0.025025,    0.026026,    0.027027,    0.028028,    0.029029,     0.03003,    0.031031,    0.032032,    0.033033,    0.034034,    0.035035,    0.036036,    0.037037,    0.038038,    0.039039,     0.04004,    0.041041,    0.042042,    0.043043,    0.044044,    0.045045,    0.046046,    0.047047,\n",
              "          0.048048,    0.049049,     0.05005,    0.051051,    0.052052,    0.053053,    0.054054,    0.055055,    0.056056,    0.057057,    0.058058,    0.059059,     0.06006,    0.061061,    0.062062,    0.063063,    0.064064,    0.065065,    0.066066,    0.067067,    0.068068,    0.069069,     0.07007,    0.071071,\n",
              "          0.072072,    0.073073,    0.074074,    0.075075,    0.076076,    0.077077,    0.078078,    0.079079,     0.08008,    0.081081,    0.082082,    0.083083,    0.084084,    0.085085,    0.086086,    0.087087,    0.088088,    0.089089,     0.09009,    0.091091,    0.092092,    0.093093,    0.094094,    0.095095,\n",
              "          0.096096,    0.097097,    0.098098,    0.099099,      0.1001,      0.1011,      0.1021,      0.1031,      0.1041,     0.10511,     0.10611,     0.10711,     0.10811,     0.10911,     0.11011,     0.11111,     0.11211,     0.11311,     0.11411,     0.11512,     0.11612,     0.11712,     0.11812,     0.11912,\n",
              "           0.12012,     0.12112,     0.12212,     0.12312,     0.12412,     0.12513,     0.12613,     0.12713,     0.12813,     0.12913,     0.13013,     0.13113,     0.13213,     0.13313,     0.13413,     0.13514,     0.13614,     0.13714,     0.13814,     0.13914,     0.14014,     0.14114,     0.14214,     0.14314,\n",
              "           0.14414,     0.14515,     0.14615,     0.14715,     0.14815,     0.14915,     0.15015,     0.15115,     0.15215,     0.15315,     0.15415,     0.15516,     0.15616,     0.15716,     0.15816,     0.15916,     0.16016,     0.16116,     0.16216,     0.16316,     0.16416,     0.16517,     0.16617,     0.16717,\n",
              "           0.16817,     0.16917,     0.17017,     0.17117,     0.17217,     0.17317,     0.17417,     0.17518,     0.17618,     0.17718,     0.17818,     0.17918,     0.18018,     0.18118,     0.18218,     0.18318,     0.18418,     0.18519,     0.18619,     0.18719,     0.18819,     0.18919,     0.19019,     0.19119,\n",
              "           0.19219,     0.19319,     0.19419,      0.1952,      0.1962,      0.1972,      0.1982,      0.1992,      0.2002,      0.2012,      0.2022,      0.2032,      0.2042,     0.20521,     0.20621,     0.20721,     0.20821,     0.20921,     0.21021,     0.21121,     0.21221,     0.21321,     0.21421,     0.21522,\n",
              "           0.21622,     0.21722,     0.21822,     0.21922,     0.22022,     0.22122,     0.22222,     0.22322,     0.22422,     0.22523,     0.22623,     0.22723,     0.22823,     0.22923,     0.23023,     0.23123,     0.23223,     0.23323,     0.23423,     0.23524,     0.23624,     0.23724,     0.23824,     0.23924,\n",
              "           0.24024,     0.24124,     0.24224,     0.24324,     0.24424,     0.24525,     0.24625,     0.24725,     0.24825,     0.24925,     0.25025,     0.25125,     0.25225,     0.25325,     0.25425,     0.25526,     0.25626,     0.25726,     0.25826,     0.25926,     0.26026,     0.26126,     0.26226,     0.26326,\n",
              "           0.26426,     0.26527,     0.26627,     0.26727,     0.26827,     0.26927,     0.27027,     0.27127,     0.27227,     0.27327,     0.27427,     0.27528,     0.27628,     0.27728,     0.27828,     0.27928,     0.28028,     0.28128,     0.28228,     0.28328,     0.28428,     0.28529,     0.28629,     0.28729,\n",
              "           0.28829,     0.28929,     0.29029,     0.29129,     0.29229,     0.29329,     0.29429,      0.2953,      0.2963,      0.2973,      0.2983,      0.2993,      0.3003,      0.3013,      0.3023,      0.3033,      0.3043,     0.30531,     0.30631,     0.30731,     0.30831,     0.30931,     0.31031,     0.31131,\n",
              "           0.31231,     0.31331,     0.31431,     0.31532,     0.31632,     0.31732,     0.31832,     0.31932,     0.32032,     0.32132,     0.32232,     0.32332,     0.32432,     0.32533,     0.32633,     0.32733,     0.32833,     0.32933,     0.33033,     0.33133,     0.33233,     0.33333,     0.33433,     0.33534,\n",
              "           0.33634,     0.33734,     0.33834,     0.33934,     0.34034,     0.34134,     0.34234,     0.34334,     0.34434,     0.34535,     0.34635,     0.34735,     0.34835,     0.34935,     0.35035,     0.35135,     0.35235,     0.35335,     0.35435,     0.35536,     0.35636,     0.35736,     0.35836,     0.35936,\n",
              "           0.36036,     0.36136,     0.36236,     0.36336,     0.36436,     0.36537,     0.36637,     0.36737,     0.36837,     0.36937,     0.37037,     0.37137,     0.37237,     0.37337,     0.37437,     0.37538,     0.37638,     0.37738,     0.37838,     0.37938,     0.38038,     0.38138,     0.38238,     0.38338,\n",
              "           0.38438,     0.38539,     0.38639,     0.38739,     0.38839,     0.38939,     0.39039,     0.39139,     0.39239,     0.39339,     0.39439,      0.3954,      0.3964,      0.3974,      0.3984,      0.3994,      0.4004,      0.4014,      0.4024,      0.4034,      0.4044,     0.40541,     0.40641,     0.40741,\n",
              "           0.40841,     0.40941,     0.41041,     0.41141,     0.41241,     0.41341,     0.41441,     0.41542,     0.41642,     0.41742,     0.41842,     0.41942,     0.42042,     0.42142,     0.42242,     0.42342,     0.42442,     0.42543,     0.42643,     0.42743,     0.42843,     0.42943,     0.43043,     0.43143,\n",
              "           0.43243,     0.43343,     0.43443,     0.43544,     0.43644,     0.43744,     0.43844,     0.43944,     0.44044,     0.44144,     0.44244,     0.44344,     0.44444,     0.44545,     0.44645,     0.44745,     0.44845,     0.44945,     0.45045,     0.45145,     0.45245,     0.45345,     0.45445,     0.45546,\n",
              "           0.45646,     0.45746,     0.45846,     0.45946,     0.46046,     0.46146,     0.46246,     0.46346,     0.46446,     0.46547,     0.46647,     0.46747,     0.46847,     0.46947,     0.47047,     0.47147,     0.47247,     0.47347,     0.47447,     0.47548,     0.47648,     0.47748,     0.47848,     0.47948,\n",
              "           0.48048,     0.48148,     0.48248,     0.48348,     0.48448,     0.48549,     0.48649,     0.48749,     0.48849,     0.48949,     0.49049,     0.49149,     0.49249,     0.49349,     0.49449,      0.4955,      0.4965,      0.4975,      0.4985,      0.4995,      0.5005,      0.5015,      0.5025,      0.5035,\n",
              "            0.5045,     0.50551,     0.50651,     0.50751,     0.50851,     0.50951,     0.51051,     0.51151,     0.51251,     0.51351,     0.51451,     0.51552,     0.51652,     0.51752,     0.51852,     0.51952,     0.52052,     0.52152,     0.52252,     0.52352,     0.52452,     0.52553,     0.52653,     0.52753,\n",
              "           0.52853,     0.52953,     0.53053,     0.53153,     0.53253,     0.53353,     0.53453,     0.53554,     0.53654,     0.53754,     0.53854,     0.53954,     0.54054,     0.54154,     0.54254,     0.54354,     0.54454,     0.54555,     0.54655,     0.54755,     0.54855,     0.54955,     0.55055,     0.55155,\n",
              "           0.55255,     0.55355,     0.55455,     0.55556,     0.55656,     0.55756,     0.55856,     0.55956,     0.56056,     0.56156,     0.56256,     0.56356,     0.56456,     0.56557,     0.56657,     0.56757,     0.56857,     0.56957,     0.57057,     0.57157,     0.57257,     0.57357,     0.57457,     0.57558,\n",
              "           0.57658,     0.57758,     0.57858,     0.57958,     0.58058,     0.58158,     0.58258,     0.58358,     0.58458,     0.58559,     0.58659,     0.58759,     0.58859,     0.58959,     0.59059,     0.59159,     0.59259,     0.59359,     0.59459,      0.5956,      0.5966,      0.5976,      0.5986,      0.5996,\n",
              "            0.6006,      0.6016,      0.6026,      0.6036,      0.6046,     0.60561,     0.60661,     0.60761,     0.60861,     0.60961,     0.61061,     0.61161,     0.61261,     0.61361,     0.61461,     0.61562,     0.61662,     0.61762,     0.61862,     0.61962,     0.62062,     0.62162,     0.62262,     0.62362,\n",
              "           0.62462,     0.62563,     0.62663,     0.62763,     0.62863,     0.62963,     0.63063,     0.63163,     0.63263,     0.63363,     0.63463,     0.63564,     0.63664,     0.63764,     0.63864,     0.63964,     0.64064,     0.64164,     0.64264,     0.64364,     0.64464,     0.64565,     0.64665,     0.64765,\n",
              "           0.64865,     0.64965,     0.65065,     0.65165,     0.65265,     0.65365,     0.65465,     0.65566,     0.65666,     0.65766,     0.65866,     0.65966,     0.66066,     0.66166,     0.66266,     0.66366,     0.66466,     0.66567,     0.66667,     0.66767,     0.66867,     0.66967,     0.67067,     0.67167,\n",
              "           0.67267,     0.67367,     0.67467,     0.67568,     0.67668,     0.67768,     0.67868,     0.67968,     0.68068,     0.68168,     0.68268,     0.68368,     0.68468,     0.68569,     0.68669,     0.68769,     0.68869,     0.68969,     0.69069,     0.69169,     0.69269,     0.69369,     0.69469,      0.6957,\n",
              "            0.6967,      0.6977,      0.6987,      0.6997,      0.7007,      0.7017,      0.7027,      0.7037,      0.7047,     0.70571,     0.70671,     0.70771,     0.70871,     0.70971,     0.71071,     0.71171,     0.71271,     0.71371,     0.71471,     0.71572,     0.71672,     0.71772,     0.71872,     0.71972,\n",
              "           0.72072,     0.72172,     0.72272,     0.72372,     0.72472,     0.72573,     0.72673,     0.72773,     0.72873,     0.72973,     0.73073,     0.73173,     0.73273,     0.73373,     0.73473,     0.73574,     0.73674,     0.73774,     0.73874,     0.73974,     0.74074,     0.74174,     0.74274,     0.74374,\n",
              "           0.74474,     0.74575,     0.74675,     0.74775,     0.74875,     0.74975,     0.75075,     0.75175,     0.75275,     0.75375,     0.75475,     0.75576,     0.75676,     0.75776,     0.75876,     0.75976,     0.76076,     0.76176,     0.76276,     0.76376,     0.76476,     0.76577,     0.76677,     0.76777,\n",
              "           0.76877,     0.76977,     0.77077,     0.77177,     0.77277,     0.77377,     0.77477,     0.77578,     0.77678,     0.77778,     0.77878,     0.77978,     0.78078,     0.78178,     0.78278,     0.78378,     0.78478,     0.78579,     0.78679,     0.78779,     0.78879,     0.78979,     0.79079,     0.79179,\n",
              "           0.79279,     0.79379,     0.79479,      0.7958,      0.7968,      0.7978,      0.7988,      0.7998,      0.8008,      0.8018,      0.8028,      0.8038,      0.8048,     0.80581,     0.80681,     0.80781,     0.80881,     0.80981,     0.81081,     0.81181,     0.81281,     0.81381,     0.81481,     0.81582,\n",
              "           0.81682,     0.81782,     0.81882,     0.81982,     0.82082,     0.82182,     0.82282,     0.82382,     0.82482,     0.82583,     0.82683,     0.82783,     0.82883,     0.82983,     0.83083,     0.83183,     0.83283,     0.83383,     0.83483,     0.83584,     0.83684,     0.83784,     0.83884,     0.83984,\n",
              "           0.84084,     0.84184,     0.84284,     0.84384,     0.84484,     0.84585,     0.84685,     0.84785,     0.84885,     0.84985,     0.85085,     0.85185,     0.85285,     0.85385,     0.85485,     0.85586,     0.85686,     0.85786,     0.85886,     0.85986,     0.86086,     0.86186,     0.86286,     0.86386,\n",
              "           0.86486,     0.86587,     0.86687,     0.86787,     0.86887,     0.86987,     0.87087,     0.87187,     0.87287,     0.87387,     0.87487,     0.87588,     0.87688,     0.87788,     0.87888,     0.87988,     0.88088,     0.88188,     0.88288,     0.88388,     0.88488,     0.88589,     0.88689,     0.88789,\n",
              "           0.88889,     0.88989,     0.89089,     0.89189,     0.89289,     0.89389,     0.89489,      0.8959,      0.8969,      0.8979,      0.8989,      0.8999,      0.9009,      0.9019,      0.9029,      0.9039,      0.9049,     0.90591,     0.90691,     0.90791,     0.90891,     0.90991,     0.91091,     0.91191,\n",
              "           0.91291,     0.91391,     0.91491,     0.91592,     0.91692,     0.91792,     0.91892,     0.91992,     0.92092,     0.92192,     0.92292,     0.92392,     0.92492,     0.92593,     0.92693,     0.92793,     0.92893,     0.92993,     0.93093,     0.93193,     0.93293,     0.93393,     0.93493,     0.93594,\n",
              "           0.93694,     0.93794,     0.93894,     0.93994,     0.94094,     0.94194,     0.94294,     0.94394,     0.94494,     0.94595,     0.94695,     0.94795,     0.94895,     0.94995,     0.95095,     0.95195,     0.95295,     0.95395,     0.95495,     0.95596,     0.95696,     0.95796,     0.95896,     0.95996,\n",
              "           0.96096,     0.96196,     0.96296,     0.96396,     0.96496,     0.96597,     0.96697,     0.96797,     0.96897,     0.96997,     0.97097,     0.97197,     0.97297,     0.97397,     0.97497,     0.97598,     0.97698,     0.97798,     0.97898,     0.97998,     0.98098,     0.98198,     0.98298,     0.98398,\n",
              "           0.98498,     0.98599,     0.98699,     0.98799,     0.98899,     0.98999,     0.99099,     0.99199,     0.99299,     0.99399,     0.99499,       0.996,       0.997,       0.998,       0.999,           1]), array([[      0.247,       0.247,     0.31974,     0.36361,     0.38015,     0.39515,     0.41817,     0.43458,     0.44651,     0.45225,     0.46166,     0.47031,     0.47484,     0.48703,     0.49378,     0.49517,     0.49942,       0.507,      0.5136,     0.51625,      0.5244,     0.52972,     0.53904,\n",
              "            0.54099,     0.54454,     0.54808,     0.54941,     0.55043,     0.55147,     0.55253,     0.55634,     0.55876,     0.56138,     0.56353,      0.5655,     0.56907,     0.57029,     0.57237,     0.57648,     0.57818,     0.58055,      0.5811,     0.58165,      0.5822,     0.58359,     0.58571,\n",
              "            0.58663,     0.58757,     0.58889,     0.59296,      0.5953,     0.59664,      0.5981,     0.59977,      0.6008,     0.60174,     0.60422,     0.60584,     0.60658,     0.60731,      0.6116,     0.61352,     0.61428,     0.61504,     0.61635,     0.62149,     0.62337,     0.62594,     0.62723,\n",
              "            0.62798,     0.62873,     0.62956,     0.63384,     0.63606,     0.63721,     0.63828,     0.63916,     0.64004,     0.64113,     0.64635,     0.64759,     0.64853,     0.64947,     0.65064,      0.6519,     0.65431,     0.65815,     0.65932,     0.65989,     0.66046,     0.66103,      0.6616,\n",
              "             0.6619,      0.6617,     0.66151,     0.66131,     0.66111,     0.66091,     0.66071,     0.66051,     0.66113,     0.66353,     0.66457,     0.66561,     0.66664,      0.6688,     0.67167,     0.67382,     0.67506,      0.6763,     0.67721,      0.6781,       0.679,     0.68006,     0.68145,\n",
              "            0.68285,     0.68338,     0.68386,     0.68434,     0.68483,     0.68531,     0.68579,     0.68627,     0.68831,     0.69241,      0.6944,     0.69585,     0.69823,     0.70025,     0.70082,     0.70138,     0.70195,     0.70251,     0.70308,     0.70411,     0.70676,     0.71536,     0.71805,\n",
              "            0.72008,     0.72132,     0.72042,      0.7213,     0.72218,     0.72306,     0.72394,     0.72523,     0.72652,     0.72778,     0.72842,     0.72906,     0.72971,     0.73035,     0.73099,      0.7317,     0.73321,     0.73472,     0.73577,      0.7364,     0.73703,     0.73766,     0.73829,\n",
              "            0.73892,     0.73953,      0.7401,     0.74067,     0.74124,     0.74181,     0.74237,     0.74294,     0.74328,     0.74317,     0.74306,     0.74294,     0.74283,     0.74272,     0.74261,      0.7425,     0.74239,     0.74228,     0.74217,     0.74206,     0.74195,     0.74296,      0.7441,\n",
              "            0.74523,     0.74637,     0.74752,     0.74866,     0.74981,     0.75464,     0.75707,     0.75869,     0.75954,      0.7604,     0.76126,     0.76212,     0.76287,     0.76355,     0.76423,     0.76491,     0.76559,     0.76627,     0.76677,     0.76701,     0.76726,      0.7675,     0.76774,\n",
              "            0.76799,     0.76823,     0.76848,     0.76872,     0.76896,     0.76921,     0.76945,      0.7697,     0.76994,     0.77018,     0.77043,     0.77067,     0.77092,     0.77234,     0.77395,     0.77655,     0.78087,     0.78301,     0.78426,      0.7846,     0.78494,     0.78528,     0.78562,\n",
              "            0.78596,      0.7863,     0.78664,     0.78698,     0.78732,     0.78766,       0.788,     0.78834,     0.78872,     0.78916,     0.78961,     0.79006,     0.79051,     0.79095,      0.7914,     0.79185,      0.7923,     0.79275,     0.79922,     0.80612,      0.8081,     0.80935,     0.81061,\n",
              "            0.81229,     0.82201,     0.82369,     0.82537,     0.83121,     0.83093,     0.83065,     0.83037,      0.8302,     0.83006,     0.82992,     0.82979,     0.82965,     0.82951,     0.82938,     0.83032,     0.83446,     0.83491,     0.83536,     0.83581,     0.83625,      0.8367,     0.83715,\n",
              "             0.8376,     0.83805,      0.8385,     0.83895,      0.8394,     0.83919,     0.83879,     0.83872,     0.83937,     0.84002,     0.84067,     0.84132,     0.84198,     0.84263,     0.84328,     0.84435,     0.84652,      0.8487,     0.85478,     0.85519,      0.8556,     0.85602,     0.85643,\n",
              "            0.85684,     0.85726,     0.85767,     0.85808,     0.85849,     0.85891,     0.85932,     0.85973,     0.86489,     0.86586,     0.86637,     0.86688,     0.86739,     0.86789,      0.8684,     0.86891,     0.86942,     0.86993,     0.87044,     0.87095,      0.8716,     0.87227,     0.87293,\n",
              "            0.87359,     0.87425,     0.87492,     0.87558,     0.87624,     0.87993,     0.88215,     0.88187,     0.88158,     0.88227,     0.88295,     0.88364,     0.88432,       0.885,     0.88569,     0.88637,     0.88706,     0.88735,     0.88721,     0.88707,     0.88693,     0.88679,     0.88677,\n",
              "            0.88775,     0.88872,      0.8897,     0.89067,     0.89165,     0.89262,     0.89345,     0.89427,      0.8951,     0.89592,     0.89675,     0.89757,     0.89839,     0.89854,     0.89838,     0.89823,     0.89807,     0.89794,     0.89788,     0.89782,     0.89776,      0.8977,     0.89764,\n",
              "            0.89758,     0.89752,     0.89746,      0.8974,     0.89734,     0.89728,     0.89723,     0.89719,     0.89715,     0.89711,     0.89706,     0.89702,     0.89698,     0.89694,     0.89689,     0.89685,     0.89681,     0.89676,     0.89672,     0.89668,     0.89664,     0.89659,     0.89655,\n",
              "            0.89646,     0.89636,     0.89627,     0.89617,     0.89608,     0.89598,     0.89589,     0.89574,     0.89554,     0.89535,     0.89515,     0.89599,     0.89712,     0.89824,     0.89936,     0.90049,     0.90145,     0.90171,     0.90197,     0.90223,     0.90248,     0.90274,       0.903,\n",
              "            0.90325,     0.90351,     0.90377,     0.90402,     0.90428,     0.90454,      0.9048,     0.90505,     0.90531,     0.90557,     0.90582,     0.90608,     0.90634,     0.90659,     0.90685,     0.90711,     0.90737,     0.90762,     0.90777,     0.90767,     0.90757,     0.90747,     0.90737,\n",
              "            0.90727,     0.90717,     0.90698,     0.90675,     0.90652,     0.90669,     0.90696,     0.90723,     0.90751,     0.90778,     0.90805,     0.90832,     0.90859,     0.90887,     0.90914,     0.90941,     0.90968,     0.90995,     0.91023,      0.9105,     0.91077,     0.91104,     0.91131,\n",
              "            0.91159,     0.91186,     0.91213,      0.9124,     0.91267,     0.91295,     0.91951,     0.91921,     0.92396,     0.92591,      0.9259,     0.92588,     0.92586,     0.92585,     0.92583,     0.92581,      0.9258,     0.92578,     0.92576,     0.92575,     0.92573,     0.92571,      0.9257,\n",
              "            0.92568,     0.92566,     0.92565,     0.92563,     0.92561,      0.9256,     0.92558,     0.92556,     0.92555,     0.92553,     0.92551,      0.9255,     0.92548,     0.92546,     0.92545,     0.92543,     0.92541,      0.9254,     0.92538,     0.92536,     0.92533,      0.9253,     0.92527,\n",
              "            0.92524,     0.92521,     0.92518,     0.92516,     0.92513,      0.9251,     0.92507,     0.92504,     0.92501,     0.92498,     0.92495,     0.92493,      0.9249,     0.92487,     0.92484,     0.92508,      0.9318,     0.93154,     0.93129,     0.93124,     0.93119,     0.93114,      0.9311,\n",
              "            0.93105,       0.931,     0.93095,      0.9309,     0.93085,      0.9308,     0.93073,     0.93062,     0.93051,      0.9304,     0.93029,     0.92995,     0.93067,     0.93255,     0.93442,      0.9363,     0.93669,     0.93634,     0.93608,     0.93593,     0.93582,     0.93571,     0.93561,\n",
              "             0.9355,     0.93543,     0.93535,     0.93528,     0.93521,     0.93514,     0.93507,       0.935,      0.9349,      0.9348,     0.93469,     0.93458,     0.93447,      0.9344,     0.93436,     0.93431,     0.93427,     0.93423,     0.93419,     0.93414,      0.9341,     0.93406,     0.93402,\n",
              "            0.93397,     0.93393,     0.93389,     0.94139,     0.94142,     0.94119,     0.94205,     0.94291,     0.94377,     0.94463,     0.94549,     0.94635,     0.94721,     0.94807,     0.94893,     0.95719,      0.9571,     0.95701,     0.95691,      0.9568,     0.95669,     0.95658,     0.95647,\n",
              "            0.95634,     0.95621,     0.95604,     0.95584,     0.95572,     0.95566,     0.95559,     0.95553,     0.95547,     0.95541,     0.95531,     0.95511,     0.95494,     0.95487,     0.95481,     0.95474,     0.95468,     0.95462,     0.95455,     0.95451,     0.95447,     0.95443,     0.95439,\n",
              "            0.95435,      0.9543,     0.95426,     0.95422,     0.95418,     0.95414,     0.95406,     0.95395,     0.95384,     0.95373,     0.95364,     0.95356,     0.95348,      0.9534,     0.95332,     0.95341,     0.95484,     0.95627,      0.9577,     0.95913,     0.96057,      0.9619,     0.96186,\n",
              "            0.96182,     0.96178,     0.96174,     0.96169,     0.96165,     0.96161,     0.96157,     0.96114,     0.96105,     0.96097,     0.96088,     0.96079,     0.96043,     0.96025,     0.96008,     0.95996,     0.95986,     0.95977,     0.95968,     0.95956,     0.95875,     0.95868,     0.95861,\n",
              "            0.95853,     0.95846,     0.95839,     0.95827,     0.95805,      0.9578,     0.95749,     0.95725,     0.95701,     0.95693,     0.95686,     0.95679,     0.95672,     0.95665,     0.95659,     0.95649,     0.95604,     0.95599,     0.95595,      0.9559,     0.95586,     0.95581,     0.95577,\n",
              "            0.95572,     0.95568,     0.95563,     0.95558,     0.95548,     0.95528,     0.95507,       0.955,     0.95494,     0.95488,     0.95481,     0.95475,     0.95469,     0.95463,     0.95457,     0.95441,      0.9542,     0.95395,     0.95359,     0.95308,     0.95277,     0.95254,     0.95234,\n",
              "            0.95219,     0.95204,     0.95189,     0.95132,     0.95218,     0.95323,     0.95428,     0.95532,     0.95637,     0.95742,     0.95846,     0.95951,     0.96056,      0.9616,     0.96265,     0.96293,     0.96288,     0.96283,     0.96279,     0.96274,     0.96269,     0.96264,      0.9626,\n",
              "            0.96255,      0.9625,     0.96204,      0.9607,     0.96034,     0.95998,     0.95961,     0.95924,     0.95884,     0.95831,      0.9581,      0.9579,     0.95687,      0.9562,     0.95742,     0.96327,     0.96912,     0.97007,     0.96998,     0.96989,     0.96979,      0.9697,     0.96919,\n",
              "            0.96916,     0.96912,     0.96908,     0.96904,     0.96901,     0.96897,     0.96893,     0.96889,     0.96885,     0.96882,     0.96878,     0.96848,     0.96814,     0.96799,     0.96784,      0.9677,     0.96758,     0.96746,     0.96734,     0.96722,       0.967,     0.96677,     0.96636,\n",
              "            0.96594,     0.96564,     0.96533,     0.96502,     0.96407,     0.96272,     0.96236,     0.96138,     0.96116,     0.96094,      0.9599,     0.95956,     0.95923,     0.95888,     0.95853,     0.95724,     0.95677,      0.9562,     0.95577,      0.9669,     0.97725,     0.97689,     0.97583,\n",
              "            0.97363,     0.97327,     0.97191,     0.97082,     0.96992,     0.96949,     0.96921,     0.96893,     0.99033,           1,           1,           1,           1,           1,           1,           1,           1,           1,           1,           1,           1,           1,           1,\n",
              "                  1,           1,           1,           1,           1,           1,           1,           1,           1,           1,           1,           1,           1,           1,           1,           1,           1,           1,           1,           1,           1,           1,           1,\n",
              "                  1,           1,           1,           1,           1,           1,           1,           1,           1,           1,           1,           1,           1,           1,           1,           1,           1,           1,           1,           1,           1,           1,           1,\n",
              "                  1,           1,           1,           1,           1,           1,           1,           1,           1,           1,           1,           1,           1,           1,           1,           1,           1,           1,           1,           1,           1,           1,           1,\n",
              "                  1,           1,           1,           1,           1,           1,           1,           1,           1,           1,           1,           1,           1,           1,           1,           1,           1,           1,           1,           1,           1,           1,           1,\n",
              "                  1,           1,           1,           1,           1,           1,           1,           1,           1,           1,           1,           1,           1,           1,           1,           1,           1,           1,           1,           1,           1,           1,           1,\n",
              "                  1,           1,           1,           1,           1,           1,           1,           1,           1,           1,           1,           1,           1,           1,           1,           1,           1,           1,           1,           1,           1,           1,           1,\n",
              "                  1,           1,           1,           1,           1,           1,           1,           1,           1,           1,           1,           1,           1,           1,           1,           1,           1,           1,           1,           1,           1,           1,           1,\n",
              "                  1,           1,           1,           1,           1,           1,           1,           1,           1,           1,           1]]), 'Confidence', 'Precision'], [array([          0,    0.001001,    0.002002,    0.003003,    0.004004,    0.005005,    0.006006,    0.007007,    0.008008,    0.009009,     0.01001,    0.011011,    0.012012,    0.013013,    0.014014,    0.015015,    0.016016,    0.017017,    0.018018,    0.019019,     0.02002,    0.021021,    0.022022,    0.023023,\n",
              "          0.024024,    0.025025,    0.026026,    0.027027,    0.028028,    0.029029,     0.03003,    0.031031,    0.032032,    0.033033,    0.034034,    0.035035,    0.036036,    0.037037,    0.038038,    0.039039,     0.04004,    0.041041,    0.042042,    0.043043,    0.044044,    0.045045,    0.046046,    0.047047,\n",
              "          0.048048,    0.049049,     0.05005,    0.051051,    0.052052,    0.053053,    0.054054,    0.055055,    0.056056,    0.057057,    0.058058,    0.059059,     0.06006,    0.061061,    0.062062,    0.063063,    0.064064,    0.065065,    0.066066,    0.067067,    0.068068,    0.069069,     0.07007,    0.071071,\n",
              "          0.072072,    0.073073,    0.074074,    0.075075,    0.076076,    0.077077,    0.078078,    0.079079,     0.08008,    0.081081,    0.082082,    0.083083,    0.084084,    0.085085,    0.086086,    0.087087,    0.088088,    0.089089,     0.09009,    0.091091,    0.092092,    0.093093,    0.094094,    0.095095,\n",
              "          0.096096,    0.097097,    0.098098,    0.099099,      0.1001,      0.1011,      0.1021,      0.1031,      0.1041,     0.10511,     0.10611,     0.10711,     0.10811,     0.10911,     0.11011,     0.11111,     0.11211,     0.11311,     0.11411,     0.11512,     0.11612,     0.11712,     0.11812,     0.11912,\n",
              "           0.12012,     0.12112,     0.12212,     0.12312,     0.12412,     0.12513,     0.12613,     0.12713,     0.12813,     0.12913,     0.13013,     0.13113,     0.13213,     0.13313,     0.13413,     0.13514,     0.13614,     0.13714,     0.13814,     0.13914,     0.14014,     0.14114,     0.14214,     0.14314,\n",
              "           0.14414,     0.14515,     0.14615,     0.14715,     0.14815,     0.14915,     0.15015,     0.15115,     0.15215,     0.15315,     0.15415,     0.15516,     0.15616,     0.15716,     0.15816,     0.15916,     0.16016,     0.16116,     0.16216,     0.16316,     0.16416,     0.16517,     0.16617,     0.16717,\n",
              "           0.16817,     0.16917,     0.17017,     0.17117,     0.17217,     0.17317,     0.17417,     0.17518,     0.17618,     0.17718,     0.17818,     0.17918,     0.18018,     0.18118,     0.18218,     0.18318,     0.18418,     0.18519,     0.18619,     0.18719,     0.18819,     0.18919,     0.19019,     0.19119,\n",
              "           0.19219,     0.19319,     0.19419,      0.1952,      0.1962,      0.1972,      0.1982,      0.1992,      0.2002,      0.2012,      0.2022,      0.2032,      0.2042,     0.20521,     0.20621,     0.20721,     0.20821,     0.20921,     0.21021,     0.21121,     0.21221,     0.21321,     0.21421,     0.21522,\n",
              "           0.21622,     0.21722,     0.21822,     0.21922,     0.22022,     0.22122,     0.22222,     0.22322,     0.22422,     0.22523,     0.22623,     0.22723,     0.22823,     0.22923,     0.23023,     0.23123,     0.23223,     0.23323,     0.23423,     0.23524,     0.23624,     0.23724,     0.23824,     0.23924,\n",
              "           0.24024,     0.24124,     0.24224,     0.24324,     0.24424,     0.24525,     0.24625,     0.24725,     0.24825,     0.24925,     0.25025,     0.25125,     0.25225,     0.25325,     0.25425,     0.25526,     0.25626,     0.25726,     0.25826,     0.25926,     0.26026,     0.26126,     0.26226,     0.26326,\n",
              "           0.26426,     0.26527,     0.26627,     0.26727,     0.26827,     0.26927,     0.27027,     0.27127,     0.27227,     0.27327,     0.27427,     0.27528,     0.27628,     0.27728,     0.27828,     0.27928,     0.28028,     0.28128,     0.28228,     0.28328,     0.28428,     0.28529,     0.28629,     0.28729,\n",
              "           0.28829,     0.28929,     0.29029,     0.29129,     0.29229,     0.29329,     0.29429,      0.2953,      0.2963,      0.2973,      0.2983,      0.2993,      0.3003,      0.3013,      0.3023,      0.3033,      0.3043,     0.30531,     0.30631,     0.30731,     0.30831,     0.30931,     0.31031,     0.31131,\n",
              "           0.31231,     0.31331,     0.31431,     0.31532,     0.31632,     0.31732,     0.31832,     0.31932,     0.32032,     0.32132,     0.32232,     0.32332,     0.32432,     0.32533,     0.32633,     0.32733,     0.32833,     0.32933,     0.33033,     0.33133,     0.33233,     0.33333,     0.33433,     0.33534,\n",
              "           0.33634,     0.33734,     0.33834,     0.33934,     0.34034,     0.34134,     0.34234,     0.34334,     0.34434,     0.34535,     0.34635,     0.34735,     0.34835,     0.34935,     0.35035,     0.35135,     0.35235,     0.35335,     0.35435,     0.35536,     0.35636,     0.35736,     0.35836,     0.35936,\n",
              "           0.36036,     0.36136,     0.36236,     0.36336,     0.36436,     0.36537,     0.36637,     0.36737,     0.36837,     0.36937,     0.37037,     0.37137,     0.37237,     0.37337,     0.37437,     0.37538,     0.37638,     0.37738,     0.37838,     0.37938,     0.38038,     0.38138,     0.38238,     0.38338,\n",
              "           0.38438,     0.38539,     0.38639,     0.38739,     0.38839,     0.38939,     0.39039,     0.39139,     0.39239,     0.39339,     0.39439,      0.3954,      0.3964,      0.3974,      0.3984,      0.3994,      0.4004,      0.4014,      0.4024,      0.4034,      0.4044,     0.40541,     0.40641,     0.40741,\n",
              "           0.40841,     0.40941,     0.41041,     0.41141,     0.41241,     0.41341,     0.41441,     0.41542,     0.41642,     0.41742,     0.41842,     0.41942,     0.42042,     0.42142,     0.42242,     0.42342,     0.42442,     0.42543,     0.42643,     0.42743,     0.42843,     0.42943,     0.43043,     0.43143,\n",
              "           0.43243,     0.43343,     0.43443,     0.43544,     0.43644,     0.43744,     0.43844,     0.43944,     0.44044,     0.44144,     0.44244,     0.44344,     0.44444,     0.44545,     0.44645,     0.44745,     0.44845,     0.44945,     0.45045,     0.45145,     0.45245,     0.45345,     0.45445,     0.45546,\n",
              "           0.45646,     0.45746,     0.45846,     0.45946,     0.46046,     0.46146,     0.46246,     0.46346,     0.46446,     0.46547,     0.46647,     0.46747,     0.46847,     0.46947,     0.47047,     0.47147,     0.47247,     0.47347,     0.47447,     0.47548,     0.47648,     0.47748,     0.47848,     0.47948,\n",
              "           0.48048,     0.48148,     0.48248,     0.48348,     0.48448,     0.48549,     0.48649,     0.48749,     0.48849,     0.48949,     0.49049,     0.49149,     0.49249,     0.49349,     0.49449,      0.4955,      0.4965,      0.4975,      0.4985,      0.4995,      0.5005,      0.5015,      0.5025,      0.5035,\n",
              "            0.5045,     0.50551,     0.50651,     0.50751,     0.50851,     0.50951,     0.51051,     0.51151,     0.51251,     0.51351,     0.51451,     0.51552,     0.51652,     0.51752,     0.51852,     0.51952,     0.52052,     0.52152,     0.52252,     0.52352,     0.52452,     0.52553,     0.52653,     0.52753,\n",
              "           0.52853,     0.52953,     0.53053,     0.53153,     0.53253,     0.53353,     0.53453,     0.53554,     0.53654,     0.53754,     0.53854,     0.53954,     0.54054,     0.54154,     0.54254,     0.54354,     0.54454,     0.54555,     0.54655,     0.54755,     0.54855,     0.54955,     0.55055,     0.55155,\n",
              "           0.55255,     0.55355,     0.55455,     0.55556,     0.55656,     0.55756,     0.55856,     0.55956,     0.56056,     0.56156,     0.56256,     0.56356,     0.56456,     0.56557,     0.56657,     0.56757,     0.56857,     0.56957,     0.57057,     0.57157,     0.57257,     0.57357,     0.57457,     0.57558,\n",
              "           0.57658,     0.57758,     0.57858,     0.57958,     0.58058,     0.58158,     0.58258,     0.58358,     0.58458,     0.58559,     0.58659,     0.58759,     0.58859,     0.58959,     0.59059,     0.59159,     0.59259,     0.59359,     0.59459,      0.5956,      0.5966,      0.5976,      0.5986,      0.5996,\n",
              "            0.6006,      0.6016,      0.6026,      0.6036,      0.6046,     0.60561,     0.60661,     0.60761,     0.60861,     0.60961,     0.61061,     0.61161,     0.61261,     0.61361,     0.61461,     0.61562,     0.61662,     0.61762,     0.61862,     0.61962,     0.62062,     0.62162,     0.62262,     0.62362,\n",
              "           0.62462,     0.62563,     0.62663,     0.62763,     0.62863,     0.62963,     0.63063,     0.63163,     0.63263,     0.63363,     0.63463,     0.63564,     0.63664,     0.63764,     0.63864,     0.63964,     0.64064,     0.64164,     0.64264,     0.64364,     0.64464,     0.64565,     0.64665,     0.64765,\n",
              "           0.64865,     0.64965,     0.65065,     0.65165,     0.65265,     0.65365,     0.65465,     0.65566,     0.65666,     0.65766,     0.65866,     0.65966,     0.66066,     0.66166,     0.66266,     0.66366,     0.66466,     0.66567,     0.66667,     0.66767,     0.66867,     0.66967,     0.67067,     0.67167,\n",
              "           0.67267,     0.67367,     0.67467,     0.67568,     0.67668,     0.67768,     0.67868,     0.67968,     0.68068,     0.68168,     0.68268,     0.68368,     0.68468,     0.68569,     0.68669,     0.68769,     0.68869,     0.68969,     0.69069,     0.69169,     0.69269,     0.69369,     0.69469,      0.6957,\n",
              "            0.6967,      0.6977,      0.6987,      0.6997,      0.7007,      0.7017,      0.7027,      0.7037,      0.7047,     0.70571,     0.70671,     0.70771,     0.70871,     0.70971,     0.71071,     0.71171,     0.71271,     0.71371,     0.71471,     0.71572,     0.71672,     0.71772,     0.71872,     0.71972,\n",
              "           0.72072,     0.72172,     0.72272,     0.72372,     0.72472,     0.72573,     0.72673,     0.72773,     0.72873,     0.72973,     0.73073,     0.73173,     0.73273,     0.73373,     0.73473,     0.73574,     0.73674,     0.73774,     0.73874,     0.73974,     0.74074,     0.74174,     0.74274,     0.74374,\n",
              "           0.74474,     0.74575,     0.74675,     0.74775,     0.74875,     0.74975,     0.75075,     0.75175,     0.75275,     0.75375,     0.75475,     0.75576,     0.75676,     0.75776,     0.75876,     0.75976,     0.76076,     0.76176,     0.76276,     0.76376,     0.76476,     0.76577,     0.76677,     0.76777,\n",
              "           0.76877,     0.76977,     0.77077,     0.77177,     0.77277,     0.77377,     0.77477,     0.77578,     0.77678,     0.77778,     0.77878,     0.77978,     0.78078,     0.78178,     0.78278,     0.78378,     0.78478,     0.78579,     0.78679,     0.78779,     0.78879,     0.78979,     0.79079,     0.79179,\n",
              "           0.79279,     0.79379,     0.79479,      0.7958,      0.7968,      0.7978,      0.7988,      0.7998,      0.8008,      0.8018,      0.8028,      0.8038,      0.8048,     0.80581,     0.80681,     0.80781,     0.80881,     0.80981,     0.81081,     0.81181,     0.81281,     0.81381,     0.81481,     0.81582,\n",
              "           0.81682,     0.81782,     0.81882,     0.81982,     0.82082,     0.82182,     0.82282,     0.82382,     0.82482,     0.82583,     0.82683,     0.82783,     0.82883,     0.82983,     0.83083,     0.83183,     0.83283,     0.83383,     0.83483,     0.83584,     0.83684,     0.83784,     0.83884,     0.83984,\n",
              "           0.84084,     0.84184,     0.84284,     0.84384,     0.84484,     0.84585,     0.84685,     0.84785,     0.84885,     0.84985,     0.85085,     0.85185,     0.85285,     0.85385,     0.85485,     0.85586,     0.85686,     0.85786,     0.85886,     0.85986,     0.86086,     0.86186,     0.86286,     0.86386,\n",
              "           0.86486,     0.86587,     0.86687,     0.86787,     0.86887,     0.86987,     0.87087,     0.87187,     0.87287,     0.87387,     0.87487,     0.87588,     0.87688,     0.87788,     0.87888,     0.87988,     0.88088,     0.88188,     0.88288,     0.88388,     0.88488,     0.88589,     0.88689,     0.88789,\n",
              "           0.88889,     0.88989,     0.89089,     0.89189,     0.89289,     0.89389,     0.89489,      0.8959,      0.8969,      0.8979,      0.8989,      0.8999,      0.9009,      0.9019,      0.9029,      0.9039,      0.9049,     0.90591,     0.90691,     0.90791,     0.90891,     0.90991,     0.91091,     0.91191,\n",
              "           0.91291,     0.91391,     0.91491,     0.91592,     0.91692,     0.91792,     0.91892,     0.91992,     0.92092,     0.92192,     0.92292,     0.92392,     0.92492,     0.92593,     0.92693,     0.92793,     0.92893,     0.92993,     0.93093,     0.93193,     0.93293,     0.93393,     0.93493,     0.93594,\n",
              "           0.93694,     0.93794,     0.93894,     0.93994,     0.94094,     0.94194,     0.94294,     0.94394,     0.94494,     0.94595,     0.94695,     0.94795,     0.94895,     0.94995,     0.95095,     0.95195,     0.95295,     0.95395,     0.95495,     0.95596,     0.95696,     0.95796,     0.95896,     0.95996,\n",
              "           0.96096,     0.96196,     0.96296,     0.96396,     0.96496,     0.96597,     0.96697,     0.96797,     0.96897,     0.96997,     0.97097,     0.97197,     0.97297,     0.97397,     0.97497,     0.97598,     0.97698,     0.97798,     0.97898,     0.97998,     0.98098,     0.98198,     0.98298,     0.98398,\n",
              "           0.98498,     0.98599,     0.98699,     0.98799,     0.98899,     0.98999,     0.99099,     0.99199,     0.99299,     0.99399,     0.99499,       0.996,       0.997,       0.998,       0.999,           1]), array([[    0.97959,     0.97959,     0.97959,     0.97959,     0.97959,     0.97959,     0.97279,     0.97279,     0.97279,     0.97279,     0.97279,     0.97279,     0.97279,     0.96599,     0.96217,     0.95918,     0.95918,     0.95918,     0.95918,     0.95918,     0.95918,     0.95918,     0.95918,\n",
              "            0.95918,     0.95918,     0.95918,     0.95918,     0.95918,     0.95918,     0.95918,     0.95918,     0.95918,     0.95918,     0.95918,     0.95918,     0.95918,     0.95918,     0.95918,     0.95918,     0.95918,     0.95918,     0.95918,     0.95918,     0.95918,     0.95918,     0.95918,\n",
              "            0.95918,     0.95918,     0.95918,     0.95918,     0.95918,     0.95918,     0.95918,     0.95918,     0.95918,     0.95918,     0.95918,     0.95918,     0.95918,     0.95918,     0.95918,     0.95918,     0.95918,     0.95918,     0.95918,     0.95918,     0.95918,     0.95918,     0.95918,\n",
              "            0.95918,     0.95918,     0.95918,     0.95918,     0.95918,     0.95918,     0.95918,     0.95918,     0.95918,     0.95918,     0.95918,     0.95918,     0.95918,     0.95918,     0.95918,     0.95918,     0.95918,     0.95918,     0.95918,     0.95918,     0.95918,     0.95918,     0.95918,\n",
              "            0.95888,     0.95804,     0.95719,     0.95635,      0.9555,     0.95466,     0.95381,     0.95297,     0.95238,     0.95238,     0.95238,     0.95238,     0.95238,     0.95238,     0.95238,     0.95238,     0.95238,     0.95238,     0.95238,     0.95238,     0.95238,     0.95238,     0.95238,\n",
              "            0.95238,     0.95238,     0.95238,     0.95238,     0.95238,     0.95238,     0.95238,     0.95238,     0.95238,     0.95238,     0.95238,     0.95238,     0.95238,     0.95238,     0.95238,     0.95238,     0.95238,     0.95238,     0.95238,     0.95238,     0.95238,     0.95238,     0.95238,\n",
              "            0.95238,     0.95083,     0.94558,     0.94558,     0.94558,     0.94558,     0.94558,     0.94558,     0.94558,     0.94558,     0.94558,     0.94558,     0.94558,     0.94558,     0.94558,     0.94558,     0.94558,     0.94558,     0.94558,     0.94558,     0.94558,     0.94558,     0.94558,\n",
              "            0.94558,     0.94558,     0.94558,     0.94558,     0.94558,     0.94558,     0.94558,     0.94558,     0.94539,     0.94484,      0.9443,     0.94375,      0.9432,     0.94265,     0.94211,     0.94156,     0.94101,     0.94047,     0.93992,     0.93937,     0.93883,     0.93878,     0.93878,\n",
              "            0.93878,     0.93878,     0.93878,     0.93878,     0.93878,     0.93878,     0.93878,     0.93878,     0.93878,     0.93878,     0.93878,     0.93878,     0.93878,     0.93878,     0.93878,     0.93878,     0.93878,     0.93878,     0.93878,     0.93878,     0.93878,     0.93878,     0.93878,\n",
              "            0.93878,     0.93878,     0.93878,     0.93878,     0.93878,     0.93878,     0.93878,     0.93878,     0.93878,     0.93878,     0.93878,     0.93878,     0.93878,     0.93878,     0.93878,     0.93878,     0.93878,     0.93878,     0.93878,     0.93878,     0.93878,     0.93878,     0.93878,\n",
              "            0.93878,     0.93878,     0.93878,     0.93878,     0.93878,     0.93878,     0.93878,     0.93878,     0.93878,     0.93878,     0.93878,     0.93878,     0.93878,     0.93878,     0.93878,     0.93878,     0.93878,     0.93878,     0.93878,     0.93878,     0.93878,     0.93878,     0.93878,\n",
              "            0.93878,     0.93878,     0.93878,     0.93878,     0.93799,     0.93613,     0.93427,     0.93241,     0.93129,     0.93039,     0.92949,     0.92859,     0.92769,     0.92679,     0.92589,     0.92517,     0.92517,     0.92517,     0.92517,     0.92517,     0.92517,     0.92517,     0.92517,\n",
              "            0.92517,     0.92517,     0.92517,     0.92517,     0.92517,     0.92304,     0.92025,     0.91837,     0.91837,     0.91837,     0.91837,     0.91837,     0.91837,     0.91837,     0.91837,     0.91837,     0.91837,     0.91837,     0.91837,     0.91837,     0.91837,     0.91837,     0.91837,\n",
              "            0.91837,     0.91837,     0.91837,     0.91837,     0.91837,     0.91837,     0.91837,     0.91837,     0.91837,     0.91837,     0.91837,     0.91837,     0.91837,     0.91837,     0.91837,     0.91837,     0.91837,     0.91837,     0.91837,     0.91837,     0.91837,     0.91837,     0.91837,\n",
              "            0.91837,     0.91837,     0.91837,     0.91837,     0.91837,     0.91837,     0.91662,     0.91408,     0.91156,     0.91156,     0.91156,     0.91156,     0.91156,     0.91156,     0.91156,     0.91156,     0.91156,     0.91097,      0.9097,     0.90843,     0.90716,      0.9059,     0.90476,\n",
              "            0.90476,     0.90476,     0.90476,     0.90476,     0.90476,     0.90476,     0.90476,     0.90476,     0.90476,     0.90476,     0.90476,     0.90476,     0.90476,     0.90369,     0.90214,     0.90059,     0.89904,     0.89778,      0.8972,     0.89662,     0.89604,     0.89546,     0.89488,\n",
              "             0.8943,     0.89372,     0.89314,     0.89255,     0.89197,     0.89139,     0.89091,      0.8905,     0.89009,     0.88968,     0.88927,     0.88886,     0.88845,     0.88804,     0.88763,     0.88722,     0.88681,      0.8864,     0.88599,     0.88558,     0.88517,     0.88476,     0.88435,\n",
              "            0.88345,     0.88255,     0.88165,     0.88075,     0.87985,     0.87895,     0.87805,     0.87672,     0.87486,       0.873,     0.87114,     0.87075,     0.87075,     0.87075,     0.87075,     0.87075,     0.87075,     0.87075,     0.87075,     0.87075,     0.87075,     0.87075,     0.87075,\n",
              "            0.87075,     0.87075,     0.87075,     0.87075,     0.87075,     0.87075,     0.87075,     0.87075,     0.87075,     0.87075,     0.87075,     0.87075,     0.87075,     0.87075,     0.87075,     0.87075,     0.87075,     0.87075,     0.87044,      0.8694,     0.86837,     0.86734,      0.8663,\n",
              "            0.86527,     0.86424,     0.86228,     0.85995,     0.85763,     0.85714,     0.85714,     0.85714,     0.85714,     0.85714,     0.85714,     0.85714,     0.85714,     0.85714,     0.85714,     0.85714,     0.85714,     0.85714,     0.85714,     0.85714,     0.85714,     0.85714,     0.85714,\n",
              "            0.85714,     0.85714,     0.85714,     0.85714,     0.85714,     0.85714,     0.85489,     0.85141,     0.85034,     0.85019,     0.84999,     0.84978,     0.84958,     0.84937,     0.84917,     0.84896,     0.84876,     0.84855,     0.84835,     0.84814,     0.84794,     0.84773,     0.84753,\n",
              "            0.84732,     0.84712,     0.84691,     0.84671,      0.8465,      0.8463,     0.84609,     0.84589,     0.84568,     0.84548,     0.84527,     0.84507,     0.84486,     0.84466,     0.84445,     0.84425,     0.84404,     0.84384,     0.84363,     0.84335,       0.843,     0.84265,      0.8423,\n",
              "            0.84195,      0.8416,     0.84125,     0.84091,     0.84056,     0.84021,     0.83986,     0.83951,     0.83916,     0.83881,     0.83846,     0.83812,     0.83777,     0.83742,     0.83707,     0.83673,     0.83652,     0.83303,     0.82986,     0.82923,     0.82859,     0.82796,     0.82733,\n",
              "            0.82669,     0.82606,     0.82542,     0.82479,     0.82416,     0.82352,      0.8226,     0.82121,     0.81981,     0.81842,     0.81702,     0.81283,     0.80952,     0.80952,     0.80952,     0.80952,     0.80518,     0.80046,     0.79698,     0.79495,     0.79355,     0.79216,     0.79076,\n",
              "            0.78937,     0.78835,     0.78743,      0.7865,     0.78557,     0.78464,     0.78371,     0.78278,     0.78161,     0.78022,     0.77882,     0.77743,     0.77604,     0.77518,     0.77464,      0.7741,     0.77357,     0.77303,     0.77249,     0.77196,     0.77142,     0.77088,     0.77035,\n",
              "            0.76981,     0.76928,     0.76874,     0.76871,     0.76534,      0.7619,      0.7619,      0.7619,      0.7619,      0.7619,      0.7619,      0.7619,      0.7619,      0.7619,      0.7619,      0.7606,     0.75886,     0.75712,     0.75537,     0.75342,     0.75143,     0.74944,      0.7473,\n",
              "            0.74498,     0.74265,     0.73974,     0.73626,      0.7341,     0.73303,     0.73196,     0.73088,     0.72981,     0.72874,     0.72716,     0.72367,     0.72081,     0.71974,     0.71867,     0.71759,     0.71652,     0.71545,     0.71437,     0.71368,     0.71301,     0.71235,     0.71168,\n",
              "            0.71102,     0.71036,     0.70969,     0.70903,     0.70836,      0.7077,     0.70631,     0.70457,     0.70282,     0.70108,      0.6997,     0.69843,     0.69717,      0.6959,     0.69463,     0.68707,     0.68707,     0.68707,     0.68707,     0.68707,     0.68707,     0.68702,     0.68625,\n",
              "            0.68548,      0.6847,     0.68393,     0.68315,     0.68238,      0.6816,     0.68083,     0.67303,     0.67148,     0.66993,     0.66838,     0.66683,     0.66043,      0.6573,     0.65451,     0.65232,     0.65077,     0.64922,     0.64767,     0.64564,     0.63252,     0.63136,      0.6302,\n",
              "            0.62903,     0.62787,     0.62671,     0.62494,     0.62146,     0.61761,     0.61296,      0.6093,     0.60581,     0.60455,     0.60355,     0.60256,     0.60156,     0.60057,     0.59957,     0.59818,     0.59178,     0.59115,     0.59051,     0.58988,     0.58924,     0.58861,     0.58798,\n",
              "            0.58734,     0.58671,     0.58607,     0.58544,     0.58403,     0.58125,     0.57846,     0.57748,     0.57666,     0.57584,     0.57502,      0.5742,     0.57338,     0.57255,     0.57173,     0.56968,     0.56689,     0.56375,      0.5591,     0.55277,     0.54893,     0.54614,     0.54368,\n",
              "            0.54193,     0.54019,     0.53845,     0.53173,     0.53061,     0.53061,     0.53061,     0.53061,     0.53061,     0.53061,     0.53061,     0.53061,     0.53061,     0.53061,     0.53061,     0.53012,     0.52943,     0.52873,     0.52803,     0.52733,     0.52664,     0.52594,     0.52524,\n",
              "            0.52455,     0.52385,     0.51722,      0.4989,     0.49425,      0.4896,     0.48495,      0.4803,     0.47538,     0.46906,     0.46674,     0.46441,     0.45281,     0.44561,     0.44218,     0.44218,     0.44218,     0.44103,     0.43963,     0.43824,     0.43685,     0.43545,     0.42806,\n",
              "            0.42753,     0.42699,     0.42646,     0.42592,     0.42538,     0.42485,     0.42431,     0.42377,     0.42324,      0.4227,     0.42216,     0.41811,     0.41342,     0.41143,     0.40944,      0.4076,     0.40606,     0.40451,     0.40296,     0.40141,     0.39865,     0.39587,     0.39085,\n",
              "            0.38582,     0.38233,     0.37884,     0.37536,     0.36504,     0.35138,     0.34789,     0.33869,      0.3367,      0.3347,     0.32566,     0.32287,     0.32008,     0.31729,      0.3145,     0.30461,     0.30112,     0.29707,     0.29252,     0.29252,      0.2922,     0.28755,     0.27469,\n",
              "            0.25121,     0.24772,     0.23544,     0.22639,     0.21942,     0.21619,      0.2142,     0.21221,     0.21088,     0.20919,      0.2072,     0.20521,     0.20257,     0.19908,     0.19054,     0.18362,     0.18083,     0.17804,     0.17282,     0.16922,     0.16783,     0.16643,     0.16504,\n",
              "            0.16365,     0.16234,     0.16108,     0.15981,     0.15854,     0.15727,     0.14714,     0.14016,     0.12639,     0.12093,     0.11745,     0.11547,      0.1151,     0.11473,     0.11437,       0.114,     0.11363,     0.11327,      0.1129,     0.11253,     0.11217,      0.1118,     0.11143,\n",
              "            0.11106,      0.1107,     0.11033,     0.10996,      0.1096,     0.10923,     0.10886,    0.099838,    0.097514,    0.088403,    0.086853,    0.085304,    0.083754,    0.082205,    0.080166,    0.077842,    0.075518,    0.071557,    0.067468,    0.065143,    0.062819,    0.054085,    0.053012,\n",
              "           0.051939,    0.050867,    0.049794,    0.048721,    0.047648,     0.04014,    0.038746,    0.037351,    0.035956,    0.034562,    0.033629,    0.032995,    0.032361,    0.031727,    0.031093,    0.030459,    0.029825,    0.029192,    0.028558,    0.027924,     0.02729,    0.023141,    0.019259,\n",
              "            0.01647,     0.01368,    0.012098,    0.010548,   0.0089984,   0.0074489,           0,           0,           0,           0,           0,           0,           0,           0,           0,           0,           0,           0,           0,           0,           0,           0,           0,\n",
              "                  0,           0,           0,           0,           0,           0,           0,           0,           0,           0,           0,           0,           0,           0,           0,           0,           0,           0,           0,           0,           0,           0,           0,\n",
              "                  0,           0,           0,           0,           0,           0,           0,           0,           0,           0,           0,           0,           0,           0,           0,           0,           0,           0,           0,           0,           0,           0,           0,\n",
              "                  0,           0,           0,           0,           0,           0,           0,           0,           0,           0,           0,           0,           0,           0,           0,           0,           0,           0,           0,           0,           0,           0,           0,\n",
              "                  0,           0,           0,           0,           0,           0,           0,           0,           0,           0,           0]]), 'Confidence', 'Recall']]\n",
              "fitness: 0.5919744251743205\n",
              "keys: ['metrics/precision(B)', 'metrics/recall(B)', 'metrics/mAP50(B)', 'metrics/mAP50-95(B)']\n",
              "maps: array([    0.55454])\n",
              "names: {0: 'smoke'}\n",
              "plot: True\n",
              "results_dict: {'metrics/precision(B)': 0.8906738846228779, 'metrics/recall(B)': 0.9047619047619048, 'metrics/mAP50(B)': 0.9289160550838436, 'metrics/mAP50-95(B)': 0.5545364662954846, 'fitness': 0.5919744251743205}\n",
              "save_dir: PosixPath('runs/detect/train')\n",
              "speed: {'preprocess': 0.10845612506477201, 'inference': 0.44203777702487246, 'loss': 0.00037141397696774023, 'postprocess': 7.484825289979272}\n",
              "task: 'detect'"
            ]
          },
          "metadata": {},
          "execution_count": 5
        }
      ]
    },
    {
      "source": [
        "model = YOLO('/content/drive/MyDrive/WildfireSmoke.v1-raw.yolov8/runs/detect/train3/weights/best.pt')\n",
        "results = model.val()\n",
        "print(results)"
      ],
      "cell_type": "code",
      "metadata": {
        "id": "fBm4mbQIP8SJ",
        "outputId": "7bb8b940-70b3-490e-8052-73a118084270",
        "colab": {
          "base_uri": "https://localhost:8080/"
        }
      },
      "execution_count": 6,
      "outputs": [
        {
          "output_type": "stream",
          "name": "stdout",
          "text": [
            "Ultralytics YOLOv8.2.84 🚀 Python-3.10.12 torch-2.4.0+cu121 CUDA:0 (NVIDIA A100-SXM4-40GB, 40514MiB)\n",
            "Model summary (fused): 168 layers, 3,005,843 parameters, 0 gradients, 8.1 GFLOPs\n"
          ]
        },
        {
          "output_type": "stream",
          "name": "stderr",
          "text": [
            "\u001b[34m\u001b[1mval: \u001b[0mScanning /content/drive/MyDrive/WildfireSmoke.v1-raw.yolov8/valid/labels.cache... 147 images, 0 backgrounds, 0 corrupt: 100%|██████████| 147/147 [00:00<?, ?it/s]\n",
            "/usr/lib/python3.10/multiprocessing/popen_fork.py:66: RuntimeWarning: os.fork() was called. os.fork() is incompatible with multithreaded code, and JAX is multithreaded, so this will likely lead to a deadlock.\n",
            "  self.pid = os.fork()\n",
            "                 Class     Images  Instances      Box(P          R      mAP50  mAP50-95): 100%|██████████| 10/10 [00:02<00:00,  3.63it/s]\n"
          ]
        },
        {
          "output_type": "stream",
          "name": "stdout",
          "text": [
            "                   all        147        147      0.905      0.918       0.96      0.554\n",
            "Speed: 0.1ms preprocess, 1.9ms inference, 0.0ms loss, 4.1ms postprocess per image\n",
            "Results saved to \u001b[1mruns/detect/val\u001b[0m\n",
            "ultralytics.utils.metrics.DetMetrics object with attributes:\n",
            "\n",
            "ap_class_index: array([0])\n",
            "box: ultralytics.utils.metrics.Metric object\n",
            "confusion_matrix: <ultralytics.utils.metrics.ConfusionMatrix object at 0x7c90f8cd53c0>\n",
            "curves: ['Precision-Recall(B)', 'F1-Confidence(B)', 'Precision-Confidence(B)', 'Recall-Confidence(B)']\n",
            "curves_results: [[array([          0,    0.001001,    0.002002,    0.003003,    0.004004,    0.005005,    0.006006,    0.007007,    0.008008,    0.009009,     0.01001,    0.011011,    0.012012,    0.013013,    0.014014,    0.015015,    0.016016,    0.017017,    0.018018,    0.019019,     0.02002,    0.021021,    0.022022,    0.023023,\n",
            "          0.024024,    0.025025,    0.026026,    0.027027,    0.028028,    0.029029,     0.03003,    0.031031,    0.032032,    0.033033,    0.034034,    0.035035,    0.036036,    0.037037,    0.038038,    0.039039,     0.04004,    0.041041,    0.042042,    0.043043,    0.044044,    0.045045,    0.046046,    0.047047,\n",
            "          0.048048,    0.049049,     0.05005,    0.051051,    0.052052,    0.053053,    0.054054,    0.055055,    0.056056,    0.057057,    0.058058,    0.059059,     0.06006,    0.061061,    0.062062,    0.063063,    0.064064,    0.065065,    0.066066,    0.067067,    0.068068,    0.069069,     0.07007,    0.071071,\n",
            "          0.072072,    0.073073,    0.074074,    0.075075,    0.076076,    0.077077,    0.078078,    0.079079,     0.08008,    0.081081,    0.082082,    0.083083,    0.084084,    0.085085,    0.086086,    0.087087,    0.088088,    0.089089,     0.09009,    0.091091,    0.092092,    0.093093,    0.094094,    0.095095,\n",
            "          0.096096,    0.097097,    0.098098,    0.099099,      0.1001,      0.1011,      0.1021,      0.1031,      0.1041,     0.10511,     0.10611,     0.10711,     0.10811,     0.10911,     0.11011,     0.11111,     0.11211,     0.11311,     0.11411,     0.11512,     0.11612,     0.11712,     0.11812,     0.11912,\n",
            "           0.12012,     0.12112,     0.12212,     0.12312,     0.12412,     0.12513,     0.12613,     0.12713,     0.12813,     0.12913,     0.13013,     0.13113,     0.13213,     0.13313,     0.13413,     0.13514,     0.13614,     0.13714,     0.13814,     0.13914,     0.14014,     0.14114,     0.14214,     0.14314,\n",
            "           0.14414,     0.14515,     0.14615,     0.14715,     0.14815,     0.14915,     0.15015,     0.15115,     0.15215,     0.15315,     0.15415,     0.15516,     0.15616,     0.15716,     0.15816,     0.15916,     0.16016,     0.16116,     0.16216,     0.16316,     0.16416,     0.16517,     0.16617,     0.16717,\n",
            "           0.16817,     0.16917,     0.17017,     0.17117,     0.17217,     0.17317,     0.17417,     0.17518,     0.17618,     0.17718,     0.17818,     0.17918,     0.18018,     0.18118,     0.18218,     0.18318,     0.18418,     0.18519,     0.18619,     0.18719,     0.18819,     0.18919,     0.19019,     0.19119,\n",
            "           0.19219,     0.19319,     0.19419,      0.1952,      0.1962,      0.1972,      0.1982,      0.1992,      0.2002,      0.2012,      0.2022,      0.2032,      0.2042,     0.20521,     0.20621,     0.20721,     0.20821,     0.20921,     0.21021,     0.21121,     0.21221,     0.21321,     0.21421,     0.21522,\n",
            "           0.21622,     0.21722,     0.21822,     0.21922,     0.22022,     0.22122,     0.22222,     0.22322,     0.22422,     0.22523,     0.22623,     0.22723,     0.22823,     0.22923,     0.23023,     0.23123,     0.23223,     0.23323,     0.23423,     0.23524,     0.23624,     0.23724,     0.23824,     0.23924,\n",
            "           0.24024,     0.24124,     0.24224,     0.24324,     0.24424,     0.24525,     0.24625,     0.24725,     0.24825,     0.24925,     0.25025,     0.25125,     0.25225,     0.25325,     0.25425,     0.25526,     0.25626,     0.25726,     0.25826,     0.25926,     0.26026,     0.26126,     0.26226,     0.26326,\n",
            "           0.26426,     0.26527,     0.26627,     0.26727,     0.26827,     0.26927,     0.27027,     0.27127,     0.27227,     0.27327,     0.27427,     0.27528,     0.27628,     0.27728,     0.27828,     0.27928,     0.28028,     0.28128,     0.28228,     0.28328,     0.28428,     0.28529,     0.28629,     0.28729,\n",
            "           0.28829,     0.28929,     0.29029,     0.29129,     0.29229,     0.29329,     0.29429,      0.2953,      0.2963,      0.2973,      0.2983,      0.2993,      0.3003,      0.3013,      0.3023,      0.3033,      0.3043,     0.30531,     0.30631,     0.30731,     0.30831,     0.30931,     0.31031,     0.31131,\n",
            "           0.31231,     0.31331,     0.31431,     0.31532,     0.31632,     0.31732,     0.31832,     0.31932,     0.32032,     0.32132,     0.32232,     0.32332,     0.32432,     0.32533,     0.32633,     0.32733,     0.32833,     0.32933,     0.33033,     0.33133,     0.33233,     0.33333,     0.33433,     0.33534,\n",
            "           0.33634,     0.33734,     0.33834,     0.33934,     0.34034,     0.34134,     0.34234,     0.34334,     0.34434,     0.34535,     0.34635,     0.34735,     0.34835,     0.34935,     0.35035,     0.35135,     0.35235,     0.35335,     0.35435,     0.35536,     0.35636,     0.35736,     0.35836,     0.35936,\n",
            "           0.36036,     0.36136,     0.36236,     0.36336,     0.36436,     0.36537,     0.36637,     0.36737,     0.36837,     0.36937,     0.37037,     0.37137,     0.37237,     0.37337,     0.37437,     0.37538,     0.37638,     0.37738,     0.37838,     0.37938,     0.38038,     0.38138,     0.38238,     0.38338,\n",
            "           0.38438,     0.38539,     0.38639,     0.38739,     0.38839,     0.38939,     0.39039,     0.39139,     0.39239,     0.39339,     0.39439,      0.3954,      0.3964,      0.3974,      0.3984,      0.3994,      0.4004,      0.4014,      0.4024,      0.4034,      0.4044,     0.40541,     0.40641,     0.40741,\n",
            "           0.40841,     0.40941,     0.41041,     0.41141,     0.41241,     0.41341,     0.41441,     0.41542,     0.41642,     0.41742,     0.41842,     0.41942,     0.42042,     0.42142,     0.42242,     0.42342,     0.42442,     0.42543,     0.42643,     0.42743,     0.42843,     0.42943,     0.43043,     0.43143,\n",
            "           0.43243,     0.43343,     0.43443,     0.43544,     0.43644,     0.43744,     0.43844,     0.43944,     0.44044,     0.44144,     0.44244,     0.44344,     0.44444,     0.44545,     0.44645,     0.44745,     0.44845,     0.44945,     0.45045,     0.45145,     0.45245,     0.45345,     0.45445,     0.45546,\n",
            "           0.45646,     0.45746,     0.45846,     0.45946,     0.46046,     0.46146,     0.46246,     0.46346,     0.46446,     0.46547,     0.46647,     0.46747,     0.46847,     0.46947,     0.47047,     0.47147,     0.47247,     0.47347,     0.47447,     0.47548,     0.47648,     0.47748,     0.47848,     0.47948,\n",
            "           0.48048,     0.48148,     0.48248,     0.48348,     0.48448,     0.48549,     0.48649,     0.48749,     0.48849,     0.48949,     0.49049,     0.49149,     0.49249,     0.49349,     0.49449,      0.4955,      0.4965,      0.4975,      0.4985,      0.4995,      0.5005,      0.5015,      0.5025,      0.5035,\n",
            "            0.5045,     0.50551,     0.50651,     0.50751,     0.50851,     0.50951,     0.51051,     0.51151,     0.51251,     0.51351,     0.51451,     0.51552,     0.51652,     0.51752,     0.51852,     0.51952,     0.52052,     0.52152,     0.52252,     0.52352,     0.52452,     0.52553,     0.52653,     0.52753,\n",
            "           0.52853,     0.52953,     0.53053,     0.53153,     0.53253,     0.53353,     0.53453,     0.53554,     0.53654,     0.53754,     0.53854,     0.53954,     0.54054,     0.54154,     0.54254,     0.54354,     0.54454,     0.54555,     0.54655,     0.54755,     0.54855,     0.54955,     0.55055,     0.55155,\n",
            "           0.55255,     0.55355,     0.55455,     0.55556,     0.55656,     0.55756,     0.55856,     0.55956,     0.56056,     0.56156,     0.56256,     0.56356,     0.56456,     0.56557,     0.56657,     0.56757,     0.56857,     0.56957,     0.57057,     0.57157,     0.57257,     0.57357,     0.57457,     0.57558,\n",
            "           0.57658,     0.57758,     0.57858,     0.57958,     0.58058,     0.58158,     0.58258,     0.58358,     0.58458,     0.58559,     0.58659,     0.58759,     0.58859,     0.58959,     0.59059,     0.59159,     0.59259,     0.59359,     0.59459,      0.5956,      0.5966,      0.5976,      0.5986,      0.5996,\n",
            "            0.6006,      0.6016,      0.6026,      0.6036,      0.6046,     0.60561,     0.60661,     0.60761,     0.60861,     0.60961,     0.61061,     0.61161,     0.61261,     0.61361,     0.61461,     0.61562,     0.61662,     0.61762,     0.61862,     0.61962,     0.62062,     0.62162,     0.62262,     0.62362,\n",
            "           0.62462,     0.62563,     0.62663,     0.62763,     0.62863,     0.62963,     0.63063,     0.63163,     0.63263,     0.63363,     0.63463,     0.63564,     0.63664,     0.63764,     0.63864,     0.63964,     0.64064,     0.64164,     0.64264,     0.64364,     0.64464,     0.64565,     0.64665,     0.64765,\n",
            "           0.64865,     0.64965,     0.65065,     0.65165,     0.65265,     0.65365,     0.65465,     0.65566,     0.65666,     0.65766,     0.65866,     0.65966,     0.66066,     0.66166,     0.66266,     0.66366,     0.66466,     0.66567,     0.66667,     0.66767,     0.66867,     0.66967,     0.67067,     0.67167,\n",
            "           0.67267,     0.67367,     0.67467,     0.67568,     0.67668,     0.67768,     0.67868,     0.67968,     0.68068,     0.68168,     0.68268,     0.68368,     0.68468,     0.68569,     0.68669,     0.68769,     0.68869,     0.68969,     0.69069,     0.69169,     0.69269,     0.69369,     0.69469,      0.6957,\n",
            "            0.6967,      0.6977,      0.6987,      0.6997,      0.7007,      0.7017,      0.7027,      0.7037,      0.7047,     0.70571,     0.70671,     0.70771,     0.70871,     0.70971,     0.71071,     0.71171,     0.71271,     0.71371,     0.71471,     0.71572,     0.71672,     0.71772,     0.71872,     0.71972,\n",
            "           0.72072,     0.72172,     0.72272,     0.72372,     0.72472,     0.72573,     0.72673,     0.72773,     0.72873,     0.72973,     0.73073,     0.73173,     0.73273,     0.73373,     0.73473,     0.73574,     0.73674,     0.73774,     0.73874,     0.73974,     0.74074,     0.74174,     0.74274,     0.74374,\n",
            "           0.74474,     0.74575,     0.74675,     0.74775,     0.74875,     0.74975,     0.75075,     0.75175,     0.75275,     0.75375,     0.75475,     0.75576,     0.75676,     0.75776,     0.75876,     0.75976,     0.76076,     0.76176,     0.76276,     0.76376,     0.76476,     0.76577,     0.76677,     0.76777,\n",
            "           0.76877,     0.76977,     0.77077,     0.77177,     0.77277,     0.77377,     0.77477,     0.77578,     0.77678,     0.77778,     0.77878,     0.77978,     0.78078,     0.78178,     0.78278,     0.78378,     0.78478,     0.78579,     0.78679,     0.78779,     0.78879,     0.78979,     0.79079,     0.79179,\n",
            "           0.79279,     0.79379,     0.79479,      0.7958,      0.7968,      0.7978,      0.7988,      0.7998,      0.8008,      0.8018,      0.8028,      0.8038,      0.8048,     0.80581,     0.80681,     0.80781,     0.80881,     0.80981,     0.81081,     0.81181,     0.81281,     0.81381,     0.81481,     0.81582,\n",
            "           0.81682,     0.81782,     0.81882,     0.81982,     0.82082,     0.82182,     0.82282,     0.82382,     0.82482,     0.82583,     0.82683,     0.82783,     0.82883,     0.82983,     0.83083,     0.83183,     0.83283,     0.83383,     0.83483,     0.83584,     0.83684,     0.83784,     0.83884,     0.83984,\n",
            "           0.84084,     0.84184,     0.84284,     0.84384,     0.84484,     0.84585,     0.84685,     0.84785,     0.84885,     0.84985,     0.85085,     0.85185,     0.85285,     0.85385,     0.85485,     0.85586,     0.85686,     0.85786,     0.85886,     0.85986,     0.86086,     0.86186,     0.86286,     0.86386,\n",
            "           0.86486,     0.86587,     0.86687,     0.86787,     0.86887,     0.86987,     0.87087,     0.87187,     0.87287,     0.87387,     0.87487,     0.87588,     0.87688,     0.87788,     0.87888,     0.87988,     0.88088,     0.88188,     0.88288,     0.88388,     0.88488,     0.88589,     0.88689,     0.88789,\n",
            "           0.88889,     0.88989,     0.89089,     0.89189,     0.89289,     0.89389,     0.89489,      0.8959,      0.8969,      0.8979,      0.8989,      0.8999,      0.9009,      0.9019,      0.9029,      0.9039,      0.9049,     0.90591,     0.90691,     0.90791,     0.90891,     0.90991,     0.91091,     0.91191,\n",
            "           0.91291,     0.91391,     0.91491,     0.91592,     0.91692,     0.91792,     0.91892,     0.91992,     0.92092,     0.92192,     0.92292,     0.92392,     0.92492,     0.92593,     0.92693,     0.92793,     0.92893,     0.92993,     0.93093,     0.93193,     0.93293,     0.93393,     0.93493,     0.93594,\n",
            "           0.93694,     0.93794,     0.93894,     0.93994,     0.94094,     0.94194,     0.94294,     0.94394,     0.94494,     0.94595,     0.94695,     0.94795,     0.94895,     0.94995,     0.95095,     0.95195,     0.95295,     0.95395,     0.95495,     0.95596,     0.95696,     0.95796,     0.95896,     0.95996,\n",
            "           0.96096,     0.96196,     0.96296,     0.96396,     0.96496,     0.96597,     0.96697,     0.96797,     0.96897,     0.96997,     0.97097,     0.97197,     0.97297,     0.97397,     0.97497,     0.97598,     0.97698,     0.97798,     0.97898,     0.97998,     0.98098,     0.98198,     0.98298,     0.98398,\n",
            "           0.98498,     0.98599,     0.98699,     0.98799,     0.98899,     0.98999,     0.99099,     0.99199,     0.99299,     0.99399,     0.99499,       0.996,       0.997,       0.998,       0.999,           1]), array([[          1,           1,           1,           1,           1,           1,           1,           1,           1,           1,           1,           1,           1,           1,           1,           1,           1,           1,           1,           1,           1,           1,           1,\n",
            "                  1,           1,           1,           1,           1,           1,           1,           1,           1,           1,           1,           1,           1,           1,           1,           1,           1,           1,           1,           1,           1,           1,           1,\n",
            "                  1,           1,           1,           1,           1,           1,           1,           1,           1,           1,           1,           1,           1,           1,           1,           1,           1,           1,           1,           1,           1,           1,           1,\n",
            "                  1,           1,           1,           1,           1,           1,           1,           1,           1,           1,           1,           1,           1,           1,           1,           1,           1,           1,           1,           1,           1,           1,           1,\n",
            "                  1,           1,           1,           1,           1,           1,           1,           1,           1,           1,           1,           1,           1,           1,           1,           1,           1,           1,           1,           1,           1,           1,           1,\n",
            "                  1,           1,           1,           1,           1,           1,           1,           1,           1,           1,           1,           1,           1,           1,           1,           1,           1,           1,           1,           1,           1,           1,           1,\n",
            "                  1,           1,           1,           1,           1,           1,           1,           1,           1,           1,           1,           1,           1,           1,           1,           1,           1,           1,           1,           1,           1,           1,           1,\n",
            "                  1,           1,           1,           1,           1,           1,           1,           1,           1,           1,           1,           1,           1,           1,           1,           1,           1,           1,           1,           1,           1,           1,           1,\n",
            "                  1,           1,           1,           1,           1,           1,           1,           1,           1,           1,           1,           1,           1,           1,           1,           1,           1,           1,           1,           1,           1,           1,           1,\n",
            "                  1,           1,           1,           1,           1,           1,           1,           1,           1,           1,           1,           1,           1,           1,           1,           1,           1,           1,           1,           1,           1,           1,           1,\n",
            "                  1,           1,           1,           1,           1,           1,           1,           1,           1,           1,           1,           1,           1,           1,           1,           1,           1,           1,           1,           1,           1,           1,           1,\n",
            "                  1,           1,           1,           1,           1,           1,           1,           1,           1,           1,           1,           1,           1,           1,           1,           1,           1,           1,           1,           1,           1,           1,           1,\n",
            "                  1,           1,           1,           1,           1,           1,           1,           1,           1,           1,           1,           1,           1,           1,           1,           1,           1,           1,           1,           1,           1,           1,           1,\n",
            "                  1,           1,           1,           1,           1,           1,           1,           1,           1,           1,           1,           1,           1,           1,           1,           1,           1,           1,           1,           1,           1,           1,           1,\n",
            "                  1,           1,           1,           1,           1,           1,           1,           1,           1,           1,           1,           1,           1,           1,           1,           1,           1,           1,           1,           1,           1,           1,           1,\n",
            "                  1,           1,           1,           1,           1,           1,           1,           1,           1,           1,           1,           1,           1,           1,           1,           1,           1,           1,           1,           1,           1,           1,           1,\n",
            "                  1,           1,           1,           1,           1,           1,           1,           1,           1,           1,           1,           1,           1,           1,           1,           1,           1,           1,           1,           1,           1,           1,           1,\n",
            "                  1,           1,           1,           1,           1,           1,           1,           1,           1,           1,           1,           1,           1,           1,           1,           1,           1,           1,           1,           1,           1,           1,           1,\n",
            "                  1,           1,           1,           1,           1,           1,           1,           1,           1,           1,           1,           1,           1,           1,           1,           1,           1,           1,           1,           1,           1,           1,           1,\n",
            "                  1,           1,           1,           1,           1,           1,           1,           1,           1,           1,           1,           1,           1,           1,           1,           1,           1,           1,           1,           1,           1,           1,           1,\n",
            "                  1,           1,           1,           1,           1,           1,           1,           1,           1,           1,           1,           1,           1,           1,           1,           1,           1,           1,           1,           1,           1,           1,           1,\n",
            "                  1,           1,           1,           1,           1,           1,           1,           1,           1,           1,           1,           1,           1,           1,           1,           1,           1,           1,           1,           1,           1,           1,           1,\n",
            "                  1,           1,           1,           1,           1,           1,           1,           1,           1,           1,           1,           1,           1,           1,           1,           1,           1,           1,           1,           1,           1,           1,           1,\n",
            "                  1,           1,     0.99065,     0.99065,     0.99065,     0.99065,     0.99065,     0.99065,     0.99065,     0.99065,     0.99065,     0.99065,     0.99065,     0.99065,     0.99065,     0.99065,     0.99065,     0.99065,     0.99065,     0.99065,     0.99065,     0.99065,     0.99065,\n",
            "            0.99065,     0.99065,     0.99065,     0.99065,     0.99065,     0.99065,     0.99065,     0.99065,     0.99065,     0.99065,     0.99065,     0.99065,     0.99065,     0.99065,     0.99065,     0.99065,     0.99065,     0.99065,     0.99065,     0.99065,     0.99065,     0.99065,     0.99065,\n",
            "            0.99065,     0.99065,     0.99065,     0.99065,     0.99065,     0.99065,     0.99065,     0.99065,     0.99065,     0.99065,     0.99065,     0.99065,     0.99065,     0.99065,     0.99065,     0.99065,     0.99065,     0.99065,     0.99065,     0.99065,     0.99065,     0.99065,     0.99065,\n",
            "            0.99065,     0.99065,     0.99065,     0.99065,     0.99065,     0.99065,     0.99065,     0.99065,     0.99065,     0.99065,     0.99065,     0.99065,     0.99065,     0.99065,     0.99065,     0.99065,     0.99065,     0.99065,     0.99065,     0.99065,     0.99065,     0.99065,     0.99065,\n",
            "            0.99065,     0.99065,     0.99065,     0.99065,     0.99065,     0.99065,     0.99065,     0.99065,     0.99065,     0.99065,     0.99065,     0.99065,     0.99065,     0.99065,     0.99065,     0.99065,     0.99065,     0.99065,     0.99065,     0.99065,     0.99065,     0.99065,     0.99065,\n",
            "            0.99065,     0.99065,     0.99065,     0.99065,     0.99065,     0.99065,     0.99065,     0.99065,     0.99065,     0.99065,     0.99065,     0.99065,     0.99065,     0.99065,     0.99065,     0.99065,     0.99065,     0.99065,     0.99065,     0.99065,     0.99065,     0.99065,     0.99065,\n",
            "            0.99065,     0.99065,     0.99065,     0.99065,     0.99065,     0.99065,     0.99065,     0.99065,     0.99065,     0.99065,     0.99065,     0.99065,     0.99065,     0.99065,     0.99065,     0.99065,     0.99065,     0.99065,     0.99065,     0.99065,     0.99065,     0.99065,     0.99065,\n",
            "            0.99065,     0.99065,     0.99065,     0.99065,     0.99065,     0.99065,     0.99065,     0.99065,     0.99065,     0.99065,     0.99065,     0.99065,     0.99065,     0.99065,     0.99065,     0.99065,     0.99065,     0.99065,     0.99065,     0.99065,     0.99065,     0.99065,     0.99065,\n",
            "            0.99065,     0.99065,     0.99065,     0.99065,     0.99065,     0.99065,     0.99065,     0.99065,     0.98214,     0.98214,     0.98214,     0.98214,     0.98214,     0.98214,     0.98214,     0.98214,     0.98214,     0.98214,     0.98214,     0.98214,     0.98214,     0.98214,     0.98214,\n",
            "            0.98214,     0.98214,     0.98214,     0.98214,     0.98214,     0.98214,     0.98214,     0.98214,     0.98214,     0.98214,     0.98214,     0.98214,     0.96552,     0.96552,     0.96552,     0.96552,     0.96552,     0.96552,     0.96552,     0.96552,     0.96552,     0.96552,     0.96552,\n",
            "            0.96552,     0.96552,     0.96552,     0.95763,     0.95763,     0.95763,     0.95763,     0.95763,     0.95763,     0.95041,     0.95041,     0.95041,     0.95041,     0.95041,     0.95041,     0.95041,     0.95041,     0.95041,     0.95041,     0.95041,     0.95041,     0.95041,     0.95041,\n",
            "            0.94309,     0.94309,     0.94309,     0.94309,     0.94309,     0.94309,     0.94309,       0.936,       0.936,       0.936,       0.936,       0.936,       0.936,       0.936,     0.93182,     0.93182,     0.93182,     0.93182,     0.93182,     0.93182,     0.93182,     0.93182,     0.93182,\n",
            "            0.93182,     0.93182,     0.93182,     0.93182,     0.93182,     0.93182,     0.93182,     0.93182,     0.93182,     0.93182,     0.93182,     0.93182,     0.93182,     0.93182,     0.93182,     0.93182,     0.93182,     0.93182,     0.93182,     0.93182,     0.93182,     0.93182,     0.93182,\n",
            "            0.93182,     0.93182,     0.93182,     0.93182,     0.93182,     0.93182,     0.93182,     0.93182,     0.92537,     0.92537,     0.92537,     0.92537,     0.92537,     0.92537,     0.92537,     0.91724,     0.91724,     0.91724,     0.91724,     0.91724,     0.91724,     0.91724,     0.91724,\n",
            "            0.91724,     0.91724,     0.91724,     0.91724,     0.91724,     0.91724,     0.91724,     0.91724,     0.91724,     0.91724,     0.91724,     0.91724,     0.91724,     0.91724,     0.91724,     0.91724,     0.91724,     0.91724,     0.91724,     0.91724,     0.91724,     0.91724,     0.91724,\n",
            "            0.91724,     0.91724,     0.91724,     0.91724,     0.91724,     0.91724,     0.91724,     0.91724,     0.91724,     0.91724,     0.91724,     0.91724,     0.91724,     0.91724,     0.91724,     0.91724,     0.91724,     0.91724,     0.91724,     0.91724,     0.91724,     0.91724,     0.91724,\n",
            "            0.91724,     0.91724,     0.91724,     0.91724,     0.91724,     0.91724,     0.91724,     0.91156,     0.91156,     0.91156,     0.91156,     0.91156,     0.91156,     0.91156,     0.90604,     0.90604,     0.90604,     0.90604,     0.90604,     0.90604,     0.90604,     0.86624,     0.86624,\n",
            "            0.86624,     0.86624,     0.86624,     0.86624,     0.86624,     0.86164,     0.86164,     0.86164,     0.86164,     0.86164,     0.86164,     0.86164,     0.85185,     0.85185,     0.85185,     0.85185,     0.85185,     0.85185,     0.84756,     0.84756,     0.84756,     0.84756,     0.84756,\n",
            "            0.84756,     0.84756,     0.83832,     0.83832,     0.83832,     0.83832,     0.83832,     0.83832,     0.83832,     0.71717,     0.71717,     0.71717,     0.71717,     0.71717,     0.71717,     0.71717,     0.71717,     0.71717,     0.71717,     0.71717,     0.71717,     0.71717,     0.71717,\n",
            "             0.6875,      0.6875,      0.6875,      0.6875,      0.6875,      0.6875,     0.67925,     0.67925,     0.67925,     0.67925,     0.67925,     0.67925,     0.67925,     0.56202,     0.56202,     0.56202,     0.56202,     0.56202,     0.56202,     0.56202,     0.48505,     0.48505,     0.48505,\n",
            "            0.48505,     0.48505,     0.48505,     0.48505,     0.45511,     0.45511,     0.45511,     0.45511,     0.45511,     0.45511,           0]]), 'Recall', 'Precision'], [array([          0,    0.001001,    0.002002,    0.003003,    0.004004,    0.005005,    0.006006,    0.007007,    0.008008,    0.009009,     0.01001,    0.011011,    0.012012,    0.013013,    0.014014,    0.015015,    0.016016,    0.017017,    0.018018,    0.019019,     0.02002,    0.021021,    0.022022,    0.023023,\n",
            "          0.024024,    0.025025,    0.026026,    0.027027,    0.028028,    0.029029,     0.03003,    0.031031,    0.032032,    0.033033,    0.034034,    0.035035,    0.036036,    0.037037,    0.038038,    0.039039,     0.04004,    0.041041,    0.042042,    0.043043,    0.044044,    0.045045,    0.046046,    0.047047,\n",
            "          0.048048,    0.049049,     0.05005,    0.051051,    0.052052,    0.053053,    0.054054,    0.055055,    0.056056,    0.057057,    0.058058,    0.059059,     0.06006,    0.061061,    0.062062,    0.063063,    0.064064,    0.065065,    0.066066,    0.067067,    0.068068,    0.069069,     0.07007,    0.071071,\n",
            "          0.072072,    0.073073,    0.074074,    0.075075,    0.076076,    0.077077,    0.078078,    0.079079,     0.08008,    0.081081,    0.082082,    0.083083,    0.084084,    0.085085,    0.086086,    0.087087,    0.088088,    0.089089,     0.09009,    0.091091,    0.092092,    0.093093,    0.094094,    0.095095,\n",
            "          0.096096,    0.097097,    0.098098,    0.099099,      0.1001,      0.1011,      0.1021,      0.1031,      0.1041,     0.10511,     0.10611,     0.10711,     0.10811,     0.10911,     0.11011,     0.11111,     0.11211,     0.11311,     0.11411,     0.11512,     0.11612,     0.11712,     0.11812,     0.11912,\n",
            "           0.12012,     0.12112,     0.12212,     0.12312,     0.12412,     0.12513,     0.12613,     0.12713,     0.12813,     0.12913,     0.13013,     0.13113,     0.13213,     0.13313,     0.13413,     0.13514,     0.13614,     0.13714,     0.13814,     0.13914,     0.14014,     0.14114,     0.14214,     0.14314,\n",
            "           0.14414,     0.14515,     0.14615,     0.14715,     0.14815,     0.14915,     0.15015,     0.15115,     0.15215,     0.15315,     0.15415,     0.15516,     0.15616,     0.15716,     0.15816,     0.15916,     0.16016,     0.16116,     0.16216,     0.16316,     0.16416,     0.16517,     0.16617,     0.16717,\n",
            "           0.16817,     0.16917,     0.17017,     0.17117,     0.17217,     0.17317,     0.17417,     0.17518,     0.17618,     0.17718,     0.17818,     0.17918,     0.18018,     0.18118,     0.18218,     0.18318,     0.18418,     0.18519,     0.18619,     0.18719,     0.18819,     0.18919,     0.19019,     0.19119,\n",
            "           0.19219,     0.19319,     0.19419,      0.1952,      0.1962,      0.1972,      0.1982,      0.1992,      0.2002,      0.2012,      0.2022,      0.2032,      0.2042,     0.20521,     0.20621,     0.20721,     0.20821,     0.20921,     0.21021,     0.21121,     0.21221,     0.21321,     0.21421,     0.21522,\n",
            "           0.21622,     0.21722,     0.21822,     0.21922,     0.22022,     0.22122,     0.22222,     0.22322,     0.22422,     0.22523,     0.22623,     0.22723,     0.22823,     0.22923,     0.23023,     0.23123,     0.23223,     0.23323,     0.23423,     0.23524,     0.23624,     0.23724,     0.23824,     0.23924,\n",
            "           0.24024,     0.24124,     0.24224,     0.24324,     0.24424,     0.24525,     0.24625,     0.24725,     0.24825,     0.24925,     0.25025,     0.25125,     0.25225,     0.25325,     0.25425,     0.25526,     0.25626,     0.25726,     0.25826,     0.25926,     0.26026,     0.26126,     0.26226,     0.26326,\n",
            "           0.26426,     0.26527,     0.26627,     0.26727,     0.26827,     0.26927,     0.27027,     0.27127,     0.27227,     0.27327,     0.27427,     0.27528,     0.27628,     0.27728,     0.27828,     0.27928,     0.28028,     0.28128,     0.28228,     0.28328,     0.28428,     0.28529,     0.28629,     0.28729,\n",
            "           0.28829,     0.28929,     0.29029,     0.29129,     0.29229,     0.29329,     0.29429,      0.2953,      0.2963,      0.2973,      0.2983,      0.2993,      0.3003,      0.3013,      0.3023,      0.3033,      0.3043,     0.30531,     0.30631,     0.30731,     0.30831,     0.30931,     0.31031,     0.31131,\n",
            "           0.31231,     0.31331,     0.31431,     0.31532,     0.31632,     0.31732,     0.31832,     0.31932,     0.32032,     0.32132,     0.32232,     0.32332,     0.32432,     0.32533,     0.32633,     0.32733,     0.32833,     0.32933,     0.33033,     0.33133,     0.33233,     0.33333,     0.33433,     0.33534,\n",
            "           0.33634,     0.33734,     0.33834,     0.33934,     0.34034,     0.34134,     0.34234,     0.34334,     0.34434,     0.34535,     0.34635,     0.34735,     0.34835,     0.34935,     0.35035,     0.35135,     0.35235,     0.35335,     0.35435,     0.35536,     0.35636,     0.35736,     0.35836,     0.35936,\n",
            "           0.36036,     0.36136,     0.36236,     0.36336,     0.36436,     0.36537,     0.36637,     0.36737,     0.36837,     0.36937,     0.37037,     0.37137,     0.37237,     0.37337,     0.37437,     0.37538,     0.37638,     0.37738,     0.37838,     0.37938,     0.38038,     0.38138,     0.38238,     0.38338,\n",
            "           0.38438,     0.38539,     0.38639,     0.38739,     0.38839,     0.38939,     0.39039,     0.39139,     0.39239,     0.39339,     0.39439,      0.3954,      0.3964,      0.3974,      0.3984,      0.3994,      0.4004,      0.4014,      0.4024,      0.4034,      0.4044,     0.40541,     0.40641,     0.40741,\n",
            "           0.40841,     0.40941,     0.41041,     0.41141,     0.41241,     0.41341,     0.41441,     0.41542,     0.41642,     0.41742,     0.41842,     0.41942,     0.42042,     0.42142,     0.42242,     0.42342,     0.42442,     0.42543,     0.42643,     0.42743,     0.42843,     0.42943,     0.43043,     0.43143,\n",
            "           0.43243,     0.43343,     0.43443,     0.43544,     0.43644,     0.43744,     0.43844,     0.43944,     0.44044,     0.44144,     0.44244,     0.44344,     0.44444,     0.44545,     0.44645,     0.44745,     0.44845,     0.44945,     0.45045,     0.45145,     0.45245,     0.45345,     0.45445,     0.45546,\n",
            "           0.45646,     0.45746,     0.45846,     0.45946,     0.46046,     0.46146,     0.46246,     0.46346,     0.46446,     0.46547,     0.46647,     0.46747,     0.46847,     0.46947,     0.47047,     0.47147,     0.47247,     0.47347,     0.47447,     0.47548,     0.47648,     0.47748,     0.47848,     0.47948,\n",
            "           0.48048,     0.48148,     0.48248,     0.48348,     0.48448,     0.48549,     0.48649,     0.48749,     0.48849,     0.48949,     0.49049,     0.49149,     0.49249,     0.49349,     0.49449,      0.4955,      0.4965,      0.4975,      0.4985,      0.4995,      0.5005,      0.5015,      0.5025,      0.5035,\n",
            "            0.5045,     0.50551,     0.50651,     0.50751,     0.50851,     0.50951,     0.51051,     0.51151,     0.51251,     0.51351,     0.51451,     0.51552,     0.51652,     0.51752,     0.51852,     0.51952,     0.52052,     0.52152,     0.52252,     0.52352,     0.52452,     0.52553,     0.52653,     0.52753,\n",
            "           0.52853,     0.52953,     0.53053,     0.53153,     0.53253,     0.53353,     0.53453,     0.53554,     0.53654,     0.53754,     0.53854,     0.53954,     0.54054,     0.54154,     0.54254,     0.54354,     0.54454,     0.54555,     0.54655,     0.54755,     0.54855,     0.54955,     0.55055,     0.55155,\n",
            "           0.55255,     0.55355,     0.55455,     0.55556,     0.55656,     0.55756,     0.55856,     0.55956,     0.56056,     0.56156,     0.56256,     0.56356,     0.56456,     0.56557,     0.56657,     0.56757,     0.56857,     0.56957,     0.57057,     0.57157,     0.57257,     0.57357,     0.57457,     0.57558,\n",
            "           0.57658,     0.57758,     0.57858,     0.57958,     0.58058,     0.58158,     0.58258,     0.58358,     0.58458,     0.58559,     0.58659,     0.58759,     0.58859,     0.58959,     0.59059,     0.59159,     0.59259,     0.59359,     0.59459,      0.5956,      0.5966,      0.5976,      0.5986,      0.5996,\n",
            "            0.6006,      0.6016,      0.6026,      0.6036,      0.6046,     0.60561,     0.60661,     0.60761,     0.60861,     0.60961,     0.61061,     0.61161,     0.61261,     0.61361,     0.61461,     0.61562,     0.61662,     0.61762,     0.61862,     0.61962,     0.62062,     0.62162,     0.62262,     0.62362,\n",
            "           0.62462,     0.62563,     0.62663,     0.62763,     0.62863,     0.62963,     0.63063,     0.63163,     0.63263,     0.63363,     0.63463,     0.63564,     0.63664,     0.63764,     0.63864,     0.63964,     0.64064,     0.64164,     0.64264,     0.64364,     0.64464,     0.64565,     0.64665,     0.64765,\n",
            "           0.64865,     0.64965,     0.65065,     0.65165,     0.65265,     0.65365,     0.65465,     0.65566,     0.65666,     0.65766,     0.65866,     0.65966,     0.66066,     0.66166,     0.66266,     0.66366,     0.66466,     0.66567,     0.66667,     0.66767,     0.66867,     0.66967,     0.67067,     0.67167,\n",
            "           0.67267,     0.67367,     0.67467,     0.67568,     0.67668,     0.67768,     0.67868,     0.67968,     0.68068,     0.68168,     0.68268,     0.68368,     0.68468,     0.68569,     0.68669,     0.68769,     0.68869,     0.68969,     0.69069,     0.69169,     0.69269,     0.69369,     0.69469,      0.6957,\n",
            "            0.6967,      0.6977,      0.6987,      0.6997,      0.7007,      0.7017,      0.7027,      0.7037,      0.7047,     0.70571,     0.70671,     0.70771,     0.70871,     0.70971,     0.71071,     0.71171,     0.71271,     0.71371,     0.71471,     0.71572,     0.71672,     0.71772,     0.71872,     0.71972,\n",
            "           0.72072,     0.72172,     0.72272,     0.72372,     0.72472,     0.72573,     0.72673,     0.72773,     0.72873,     0.72973,     0.73073,     0.73173,     0.73273,     0.73373,     0.73473,     0.73574,     0.73674,     0.73774,     0.73874,     0.73974,     0.74074,     0.74174,     0.74274,     0.74374,\n",
            "           0.74474,     0.74575,     0.74675,     0.74775,     0.74875,     0.74975,     0.75075,     0.75175,     0.75275,     0.75375,     0.75475,     0.75576,     0.75676,     0.75776,     0.75876,     0.75976,     0.76076,     0.76176,     0.76276,     0.76376,     0.76476,     0.76577,     0.76677,     0.76777,\n",
            "           0.76877,     0.76977,     0.77077,     0.77177,     0.77277,     0.77377,     0.77477,     0.77578,     0.77678,     0.77778,     0.77878,     0.77978,     0.78078,     0.78178,     0.78278,     0.78378,     0.78478,     0.78579,     0.78679,     0.78779,     0.78879,     0.78979,     0.79079,     0.79179,\n",
            "           0.79279,     0.79379,     0.79479,      0.7958,      0.7968,      0.7978,      0.7988,      0.7998,      0.8008,      0.8018,      0.8028,      0.8038,      0.8048,     0.80581,     0.80681,     0.80781,     0.80881,     0.80981,     0.81081,     0.81181,     0.81281,     0.81381,     0.81481,     0.81582,\n",
            "           0.81682,     0.81782,     0.81882,     0.81982,     0.82082,     0.82182,     0.82282,     0.82382,     0.82482,     0.82583,     0.82683,     0.82783,     0.82883,     0.82983,     0.83083,     0.83183,     0.83283,     0.83383,     0.83483,     0.83584,     0.83684,     0.83784,     0.83884,     0.83984,\n",
            "           0.84084,     0.84184,     0.84284,     0.84384,     0.84484,     0.84585,     0.84685,     0.84785,     0.84885,     0.84985,     0.85085,     0.85185,     0.85285,     0.85385,     0.85485,     0.85586,     0.85686,     0.85786,     0.85886,     0.85986,     0.86086,     0.86186,     0.86286,     0.86386,\n",
            "           0.86486,     0.86587,     0.86687,     0.86787,     0.86887,     0.86987,     0.87087,     0.87187,     0.87287,     0.87387,     0.87487,     0.87588,     0.87688,     0.87788,     0.87888,     0.87988,     0.88088,     0.88188,     0.88288,     0.88388,     0.88488,     0.88589,     0.88689,     0.88789,\n",
            "           0.88889,     0.88989,     0.89089,     0.89189,     0.89289,     0.89389,     0.89489,      0.8959,      0.8969,      0.8979,      0.8989,      0.8999,      0.9009,      0.9019,      0.9029,      0.9039,      0.9049,     0.90591,     0.90691,     0.90791,     0.90891,     0.90991,     0.91091,     0.91191,\n",
            "           0.91291,     0.91391,     0.91491,     0.91592,     0.91692,     0.91792,     0.91892,     0.91992,     0.92092,     0.92192,     0.92292,     0.92392,     0.92492,     0.92593,     0.92693,     0.92793,     0.92893,     0.92993,     0.93093,     0.93193,     0.93293,     0.93393,     0.93493,     0.93594,\n",
            "           0.93694,     0.93794,     0.93894,     0.93994,     0.94094,     0.94194,     0.94294,     0.94394,     0.94494,     0.94595,     0.94695,     0.94795,     0.94895,     0.94995,     0.95095,     0.95195,     0.95295,     0.95395,     0.95495,     0.95596,     0.95696,     0.95796,     0.95896,     0.95996,\n",
            "           0.96096,     0.96196,     0.96296,     0.96396,     0.96496,     0.96597,     0.96697,     0.96797,     0.96897,     0.96997,     0.97097,     0.97197,     0.97297,     0.97397,     0.97497,     0.97598,     0.97698,     0.97798,     0.97898,     0.97998,     0.98098,     0.98198,     0.98298,     0.98398,\n",
            "           0.98498,     0.98599,     0.98699,     0.98799,     0.98899,     0.98999,     0.99099,     0.99199,     0.99299,     0.99399,     0.99499,       0.996,       0.997,       0.998,       0.999,           1]), array([[    0.33034,     0.33042,     0.42115,     0.48047,     0.51493,     0.53815,      0.5729,     0.59334,     0.60854,     0.61703,     0.62669,     0.63326,     0.64553,     0.65102,     0.65238,     0.65385,     0.65788,     0.66523,     0.66833,     0.67305,     0.67952,     0.68509,     0.69065,\n",
            "            0.69406,     0.70143,     0.70322,     0.70573,     0.70636,     0.70699,     0.70936,     0.71031,     0.71286,     0.71469,     0.71595,     0.71585,     0.71731,     0.72038,     0.72204,     0.72329,     0.72488,     0.72877,     0.73031,     0.73313,     0.73525,     0.73751,     0.74052,\n",
            "             0.7422,     0.74631,     0.75037,     0.75184,     0.75517,     0.75648,     0.75733,     0.75825,     0.75927,     0.76029,     0.76132,     0.76236,      0.7634,     0.76465,     0.76727,     0.76918,      0.7716,     0.77252,     0.77296,      0.7734,     0.77384,     0.77439,     0.77538,\n",
            "            0.77635,     0.77724,     0.77814,     0.77944,     0.78102,     0.78282,     0.78419,     0.78692,     0.78726,     0.78761,     0.78795,     0.78829,     0.78864,     0.78898,     0.78947,     0.78999,      0.7905,     0.79102,     0.79165,     0.79235,     0.79305,     0.79475,     0.79611,\n",
            "            0.79688,     0.79765,     0.80054,     0.80123,     0.80191,     0.80177,     0.80093,     0.80008,     0.79924,     0.80134,     0.80224,     0.80313,     0.80424,     0.80545,     0.80525,     0.80479,     0.80433,     0.80387,     0.80341,     0.80295,     0.80249,      0.8034,     0.80478,\n",
            "            0.80527,     0.80576,     0.80625,     0.80674,      0.8087,     0.80959,     0.81016,     0.81073,     0.81131,     0.81294,     0.81442,     0.81558,     0.81661,     0.81754,     0.81864,     0.82241,     0.82094,     0.81966,     0.81916,     0.81865,     0.81815,     0.81764,     0.81714,\n",
            "            0.81663,     0.81664,     0.81742,     0.81819,     0.82138,     0.82231,     0.82324,     0.82381,     0.82422,     0.82462,     0.82503,     0.82544,     0.82585,     0.82659,     0.82746,     0.82834,     0.82857,     0.82875,     0.82893,     0.82911,     0.82929,     0.82947,     0.82965,\n",
            "            0.82983,     0.83001,     0.83019,     0.83037,     0.83055,     0.83073,     0.83334,     0.83393,     0.83452,     0.83511,      0.8357,     0.83606,     0.83637,     0.83668,     0.83698,     0.83729,      0.8376,      0.8379,     0.83821,     0.83895,     0.83994,     0.84104,     0.84327,\n",
            "            0.84853,     0.84886,      0.8492,     0.84953,     0.84986,      0.8502,     0.85053,     0.85086,     0.85111,     0.85122,     0.85134,     0.85145,     0.85156,     0.85168,     0.85179,      0.8519,     0.85202,     0.85213,     0.85224,     0.85236,     0.85247,     0.85258,      0.8527,\n",
            "            0.85281,     0.85292,     0.85303,     0.85315,     0.85326,     0.85337,     0.85349,      0.8536,     0.85643,     0.85702,     0.85761,      0.8582,     0.85879,     0.86098,      0.8623,     0.86328,      0.8642,      0.8643,     0.86439,     0.86448,     0.86458,     0.86467,     0.86477,\n",
            "            0.86486,     0.86495,     0.86505,     0.86514,     0.86523,     0.86533,     0.86542,     0.86552,     0.86561,      0.8657,      0.8658,     0.86589,     0.86598,     0.86608,     0.86617,     0.86626,     0.86636,     0.86645,     0.86654,     0.86664,     0.86673,     0.86682,     0.86728,\n",
            "            0.86811,     0.86894,     0.86965,        0.87,     0.87035,      0.8707,     0.87105,     0.87139,     0.87174,     0.87209,     0.87249,     0.87294,      0.8734,     0.87386,     0.87431,     0.87477,     0.87518,     0.87555,     0.87592,     0.87629,     0.87666,     0.87703,      0.8774,\n",
            "            0.87778,     0.87829,      0.8788,     0.87931,     0.87982,     0.88033,     0.88254,     0.88341,     0.88358,     0.88375,     0.88392,     0.88409,     0.88426,     0.88444,     0.88461,     0.88478,     0.88495,     0.88512,     0.88529,     0.88546,     0.88563,      0.8858,     0.88597,\n",
            "            0.88647,     0.88752,     0.88856,     0.88979,     0.89111,     0.89128,     0.89046,     0.88963,      0.8888,     0.88869,     0.89075,     0.89174,     0.89258,     0.89341,     0.89348,     0.89251,     0.89152,     0.89054,     0.89059,     0.89092,     0.89126,      0.8916,     0.89194,\n",
            "            0.89227,     0.89261,     0.89295,     0.89174,     0.88988,     0.89028,     0.89067,     0.89107,     0.89147,     0.89187,     0.89227,     0.89258,     0.89275,     0.89293,     0.89311,     0.89328,     0.89346,     0.89364,     0.89381,     0.89399,     0.89417,     0.89434,     0.89452,\n",
            "             0.8947,     0.89487,     0.89505,     0.89522,      0.8954,      0.8951,     0.89471,     0.89432,     0.89394,     0.89355,     0.89317,     0.89278,     0.89239,     0.89201,       0.892,     0.89241,     0.89281,     0.89322,     0.89363,     0.89403,     0.89444,     0.89457,     0.89394,\n",
            "            0.89331,     0.89267,     0.89204,      0.8914,     0.89267,     0.89432,     0.89481,     0.89531,     0.89581,      0.8963,      0.8968,     0.89734,     0.89792,     0.89849,     0.89907,     0.89964,      0.9001,     0.90037,     0.90063,      0.9009,     0.90117,     0.90144,      0.9017,\n",
            "            0.90197,     0.90224,      0.9025,     0.90277,     0.90303,     0.90328,     0.90353,     0.90377,     0.90402,     0.90426,     0.90451,     0.90476,       0.905,     0.90525,     0.90549,     0.90574,     0.90598,      0.9063,     0.90663,     0.90696,     0.90729,     0.90763,     0.90796,\n",
            "            0.90829,     0.90862,     0.90896,     0.90933,     0.90973,     0.91013,     0.91053,     0.91092,     0.91132,     0.91172,     0.91212,     0.91189,     0.91158,     0.91127,     0.91096,     0.91065,     0.91034,     0.91003,     0.90972,      0.9094,     0.90909,     0.90878,     0.90848,\n",
            "            0.90934,     0.91019,     0.91104,      0.9109,     0.90917,     0.90795,     0.90836,     0.90878,     0.90919,     0.90961,     0.91002,     0.91043,     0.91085,     0.90712,     0.90685,     0.90658,     0.90632,     0.90605,     0.90578,     0.90552,     0.90525,     0.90498,     0.90472,\n",
            "            0.90445,     0.90418,     0.90392,     0.90365,     0.90282,      0.9003,     0.89911,     0.89837,     0.89763,     0.89689,     0.89615,     0.89553,       0.895,     0.89446,     0.89393,     0.89339,     0.89286,     0.89232,     0.89169,     0.89089,     0.89009,     0.88929,     0.88849,\n",
            "            0.88783,      0.8873,     0.88676,     0.88623,     0.88569,     0.88516,     0.88462,     0.88353,     0.88062,     0.87967,     0.87897,     0.87828,     0.87758,     0.87688,     0.87647,     0.87715,     0.87784,     0.87852,      0.8792,     0.88093,     0.88242,      0.8819,     0.88138,\n",
            "            0.88086,     0.88034,     0.87982,     0.87929,     0.87877,     0.87975,     0.88164,     0.88072,     0.87968,     0.87863,     0.87761,     0.87688,     0.87615,     0.87541,     0.87468,     0.87394,     0.87331,     0.87275,     0.87219,     0.87163,     0.87107,      0.8705,     0.86994,\n",
            "            0.86514,     0.86377,      0.8624,     0.86121,     0.86069,     0.86018,     0.85967,     0.85916,     0.85864,     0.85813,     0.85762,     0.85719,     0.85776,     0.85834,     0.85891,     0.85948,     0.86005,     0.85943,     0.85792,     0.85641,     0.85711,     0.85841,     0.85884,\n",
            "            0.85761,     0.85637,     0.85513,     0.85817,     0.85595,     0.85344,     0.84985,     0.85213,     0.85231,     0.85154,     0.85078,     0.85002,     0.84926,     0.84849,     0.85055,     0.85125,     0.85019,     0.84912,     0.84805,      0.8438,     0.84351,     0.84417,     0.84482,\n",
            "            0.84547,     0.84612,     0.84696,     0.84781,     0.84866,     0.84906,     0.84548,     0.84458,     0.84414,      0.8437,     0.84325,     0.84281,     0.84236,     0.84192,     0.84147,     0.84103,     0.84058,     0.83565,     0.83367,     0.83169,     0.83218,     0.83314,      0.8341,\n",
            "            0.83328,     0.83004,     0.82524,     0.82336,     0.82148,     0.82005,     0.81894,     0.81782,     0.81671,     0.81546,       0.814,     0.81253,      0.8111,     0.80992,     0.80875,     0.80757,     0.80641,     0.80564,     0.80487,     0.80409,     0.80332,     0.80255,     0.80177,\n",
            "            0.80099,     0.80022,     0.79944,     0.79866,     0.79788,      0.7971,     0.79169,     0.78996,     0.78823,     0.78635,       0.784,     0.77955,     0.77546,     0.77387,     0.77228,     0.76473,     0.76035,      0.7568,     0.75475,     0.75294,     0.75113,     0.74621,     0.73948,\n",
            "            0.73768,     0.73587,     0.73444,     0.73333,     0.73221,      0.7311,     0.72998,      0.7242,     0.72345,     0.72276,     0.72207,     0.72138,     0.72069,        0.72,      0.7193,      0.7186,     0.71741,     0.71621,     0.71501,     0.71381,     0.70906,     0.70576,      0.7038,\n",
            "            0.70183,     0.70132,     0.70088,     0.70043,     0.69998,     0.69953,     0.69908,     0.69863,     0.69818,     0.69773,     0.69727,     0.69682,     0.69637,     0.69568,     0.69428,     0.69288,     0.69147,     0.69048,       0.692,     0.69328,     0.69283,     0.69238,     0.69193,\n",
            "            0.69148,     0.69103,     0.69058,     0.69012,     0.68967,     0.68922,     0.68877,     0.68831,     0.68786,     0.68738,     0.68679,      0.6862,     0.68561,     0.68503,     0.68444,     0.68385,     0.68326,     0.68266,     0.68207,     0.68106,     0.67863,     0.67619,      0.6749,\n",
            "            0.67391,     0.67292,     0.67193,     0.67094,     0.66994,     0.65725,     0.65602,      0.6548,     0.65357,     0.65234,     0.65087,     0.64857,     0.64626,     0.64185,     0.63726,     0.63419,     0.62088,      0.6058,     0.60454,     0.60326,     0.60199,     0.60072,      0.5986,\n",
            "            0.59539,     0.59258,     0.59053,     0.58847,      0.5865,     0.58601,     0.58552,     0.58503,     0.58453,     0.58404,     0.58355,     0.58305,     0.58256,     0.58206,     0.58157,     0.58107,     0.58058,     0.58008,     0.57659,     0.56491,     0.56151,      0.5515,     0.54996,\n",
            "            0.54842,     0.54687,     0.54532,     0.53376,     0.52758,     0.52323,     0.51785,     0.51386,     0.51134,     0.50882,     0.50496,     0.49997,     0.49878,     0.49759,      0.4964,     0.49521,     0.49401,     0.49282,     0.48574,     0.47708,     0.46769,     0.46582,     0.46394,\n",
            "            0.46205,     0.45242,      0.4513,     0.45017,     0.44904,     0.44791,     0.44677,     0.44564,      0.4445,     0.43416,     0.43122,     0.42827,     0.41315,     0.40948,     0.40763,     0.40578,     0.40392,     0.40206,     0.40015,     0.39823,     0.39631,     0.39439,     0.37985,\n",
            "            0.37352,     0.37127,     0.36902,     0.36675,     0.35758,     0.33983,     0.33713,     0.33512,     0.33311,     0.33109,      0.3271,     0.31012,     0.30898,     0.30783,     0.30669,     0.30554,     0.30439,     0.30324,     0.30208,     0.30093,     0.29759,      0.2933,      0.2902,\n",
            "            0.28892,     0.28765,     0.28637,      0.2851,     0.28382,     0.28253,     0.28125,      0.2797,     0.27795,      0.2762,     0.27445,     0.27269,     0.27093,     0.25437,     0.23067,      0.2268,     0.22422,     0.22163,     0.21903,     0.21693,     0.21508,     0.21322,     0.21136,\n",
            "             0.2095,     0.20763,      0.2029,     0.19758,     0.18827,     0.17863,     0.16148,     0.15935,     0.15722,     0.15508,     0.15293,     0.15055,     0.14533,     0.14007,     0.11531,     0.11472,     0.11413,     0.11353,     0.11294,     0.11235,     0.11175,     0.11116,     0.11057,\n",
            "            0.10997,     0.10938,     0.10878,     0.10818,     0.10759,     0.10699,     0.10639,      0.1058,      0.1052,      0.1046,       0.104,      0.1034,    0.099508,    0.094185,    0.090459,    0.089295,     0.08813,    0.086964,    0.085796,    0.084627,    0.083456,    0.082284,     0.08111,\n",
            "           0.079935,    0.078759,    0.077213,    0.075522,    0.073828,    0.072131,    0.070431,    0.068728,    0.067022,    0.064215,    0.058537,    0.052952,    0.051899,    0.050846,    0.049791,    0.048735,    0.047678,    0.046619,     0.04556,    0.044499,    0.043438,    0.042375,    0.041311,\n",
            "           0.040246,    0.039345,    0.038494,    0.037642,     0.03679,    0.035937,    0.035082,    0.034228,    0.033372,    0.032516,    0.031659,    0.030801,    0.029942,    0.029083,    0.028223,    0.027362,    0.026518,    0.025701,    0.024882,    0.024063,    0.023243,    0.022423,    0.021602,\n",
            "            0.02078,    0.019958,    0.019134,    0.018311,    0.017486,    0.016661,    0.015835,    0.015008,    0.014181,           0,           0,           0,           0,           0,           0,           0,           0,           0,           0,           0,           0,           0,           0,\n",
            "                  0,           0,           0,           0,           0,           0,           0,           0,           0,           0,           0,           0,           0,           0,           0,           0,           0,           0,           0,           0,           0,           0,           0,\n",
            "                  0,           0,           0,           0,           0,           0,           0,           0,           0,           0,           0]]), 'Confidence', 'F1'], [array([          0,    0.001001,    0.002002,    0.003003,    0.004004,    0.005005,    0.006006,    0.007007,    0.008008,    0.009009,     0.01001,    0.011011,    0.012012,    0.013013,    0.014014,    0.015015,    0.016016,    0.017017,    0.018018,    0.019019,     0.02002,    0.021021,    0.022022,    0.023023,\n",
            "          0.024024,    0.025025,    0.026026,    0.027027,    0.028028,    0.029029,     0.03003,    0.031031,    0.032032,    0.033033,    0.034034,    0.035035,    0.036036,    0.037037,    0.038038,    0.039039,     0.04004,    0.041041,    0.042042,    0.043043,    0.044044,    0.045045,    0.046046,    0.047047,\n",
            "          0.048048,    0.049049,     0.05005,    0.051051,    0.052052,    0.053053,    0.054054,    0.055055,    0.056056,    0.057057,    0.058058,    0.059059,     0.06006,    0.061061,    0.062062,    0.063063,    0.064064,    0.065065,    0.066066,    0.067067,    0.068068,    0.069069,     0.07007,    0.071071,\n",
            "          0.072072,    0.073073,    0.074074,    0.075075,    0.076076,    0.077077,    0.078078,    0.079079,     0.08008,    0.081081,    0.082082,    0.083083,    0.084084,    0.085085,    0.086086,    0.087087,    0.088088,    0.089089,     0.09009,    0.091091,    0.092092,    0.093093,    0.094094,    0.095095,\n",
            "          0.096096,    0.097097,    0.098098,    0.099099,      0.1001,      0.1011,      0.1021,      0.1031,      0.1041,     0.10511,     0.10611,     0.10711,     0.10811,     0.10911,     0.11011,     0.11111,     0.11211,     0.11311,     0.11411,     0.11512,     0.11612,     0.11712,     0.11812,     0.11912,\n",
            "           0.12012,     0.12112,     0.12212,     0.12312,     0.12412,     0.12513,     0.12613,     0.12713,     0.12813,     0.12913,     0.13013,     0.13113,     0.13213,     0.13313,     0.13413,     0.13514,     0.13614,     0.13714,     0.13814,     0.13914,     0.14014,     0.14114,     0.14214,     0.14314,\n",
            "           0.14414,     0.14515,     0.14615,     0.14715,     0.14815,     0.14915,     0.15015,     0.15115,     0.15215,     0.15315,     0.15415,     0.15516,     0.15616,     0.15716,     0.15816,     0.15916,     0.16016,     0.16116,     0.16216,     0.16316,     0.16416,     0.16517,     0.16617,     0.16717,\n",
            "           0.16817,     0.16917,     0.17017,     0.17117,     0.17217,     0.17317,     0.17417,     0.17518,     0.17618,     0.17718,     0.17818,     0.17918,     0.18018,     0.18118,     0.18218,     0.18318,     0.18418,     0.18519,     0.18619,     0.18719,     0.18819,     0.18919,     0.19019,     0.19119,\n",
            "           0.19219,     0.19319,     0.19419,      0.1952,      0.1962,      0.1972,      0.1982,      0.1992,      0.2002,      0.2012,      0.2022,      0.2032,      0.2042,     0.20521,     0.20621,     0.20721,     0.20821,     0.20921,     0.21021,     0.21121,     0.21221,     0.21321,     0.21421,     0.21522,\n",
            "           0.21622,     0.21722,     0.21822,     0.21922,     0.22022,     0.22122,     0.22222,     0.22322,     0.22422,     0.22523,     0.22623,     0.22723,     0.22823,     0.22923,     0.23023,     0.23123,     0.23223,     0.23323,     0.23423,     0.23524,     0.23624,     0.23724,     0.23824,     0.23924,\n",
            "           0.24024,     0.24124,     0.24224,     0.24324,     0.24424,     0.24525,     0.24625,     0.24725,     0.24825,     0.24925,     0.25025,     0.25125,     0.25225,     0.25325,     0.25425,     0.25526,     0.25626,     0.25726,     0.25826,     0.25926,     0.26026,     0.26126,     0.26226,     0.26326,\n",
            "           0.26426,     0.26527,     0.26627,     0.26727,     0.26827,     0.26927,     0.27027,     0.27127,     0.27227,     0.27327,     0.27427,     0.27528,     0.27628,     0.27728,     0.27828,     0.27928,     0.28028,     0.28128,     0.28228,     0.28328,     0.28428,     0.28529,     0.28629,     0.28729,\n",
            "           0.28829,     0.28929,     0.29029,     0.29129,     0.29229,     0.29329,     0.29429,      0.2953,      0.2963,      0.2973,      0.2983,      0.2993,      0.3003,      0.3013,      0.3023,      0.3033,      0.3043,     0.30531,     0.30631,     0.30731,     0.30831,     0.30931,     0.31031,     0.31131,\n",
            "           0.31231,     0.31331,     0.31431,     0.31532,     0.31632,     0.31732,     0.31832,     0.31932,     0.32032,     0.32132,     0.32232,     0.32332,     0.32432,     0.32533,     0.32633,     0.32733,     0.32833,     0.32933,     0.33033,     0.33133,     0.33233,     0.33333,     0.33433,     0.33534,\n",
            "           0.33634,     0.33734,     0.33834,     0.33934,     0.34034,     0.34134,     0.34234,     0.34334,     0.34434,     0.34535,     0.34635,     0.34735,     0.34835,     0.34935,     0.35035,     0.35135,     0.35235,     0.35335,     0.35435,     0.35536,     0.35636,     0.35736,     0.35836,     0.35936,\n",
            "           0.36036,     0.36136,     0.36236,     0.36336,     0.36436,     0.36537,     0.36637,     0.36737,     0.36837,     0.36937,     0.37037,     0.37137,     0.37237,     0.37337,     0.37437,     0.37538,     0.37638,     0.37738,     0.37838,     0.37938,     0.38038,     0.38138,     0.38238,     0.38338,\n",
            "           0.38438,     0.38539,     0.38639,     0.38739,     0.38839,     0.38939,     0.39039,     0.39139,     0.39239,     0.39339,     0.39439,      0.3954,      0.3964,      0.3974,      0.3984,      0.3994,      0.4004,      0.4014,      0.4024,      0.4034,      0.4044,     0.40541,     0.40641,     0.40741,\n",
            "           0.40841,     0.40941,     0.41041,     0.41141,     0.41241,     0.41341,     0.41441,     0.41542,     0.41642,     0.41742,     0.41842,     0.41942,     0.42042,     0.42142,     0.42242,     0.42342,     0.42442,     0.42543,     0.42643,     0.42743,     0.42843,     0.42943,     0.43043,     0.43143,\n",
            "           0.43243,     0.43343,     0.43443,     0.43544,     0.43644,     0.43744,     0.43844,     0.43944,     0.44044,     0.44144,     0.44244,     0.44344,     0.44444,     0.44545,     0.44645,     0.44745,     0.44845,     0.44945,     0.45045,     0.45145,     0.45245,     0.45345,     0.45445,     0.45546,\n",
            "           0.45646,     0.45746,     0.45846,     0.45946,     0.46046,     0.46146,     0.46246,     0.46346,     0.46446,     0.46547,     0.46647,     0.46747,     0.46847,     0.46947,     0.47047,     0.47147,     0.47247,     0.47347,     0.47447,     0.47548,     0.47648,     0.47748,     0.47848,     0.47948,\n",
            "           0.48048,     0.48148,     0.48248,     0.48348,     0.48448,     0.48549,     0.48649,     0.48749,     0.48849,     0.48949,     0.49049,     0.49149,     0.49249,     0.49349,     0.49449,      0.4955,      0.4965,      0.4975,      0.4985,      0.4995,      0.5005,      0.5015,      0.5025,      0.5035,\n",
            "            0.5045,     0.50551,     0.50651,     0.50751,     0.50851,     0.50951,     0.51051,     0.51151,     0.51251,     0.51351,     0.51451,     0.51552,     0.51652,     0.51752,     0.51852,     0.51952,     0.52052,     0.52152,     0.52252,     0.52352,     0.52452,     0.52553,     0.52653,     0.52753,\n",
            "           0.52853,     0.52953,     0.53053,     0.53153,     0.53253,     0.53353,     0.53453,     0.53554,     0.53654,     0.53754,     0.53854,     0.53954,     0.54054,     0.54154,     0.54254,     0.54354,     0.54454,     0.54555,     0.54655,     0.54755,     0.54855,     0.54955,     0.55055,     0.55155,\n",
            "           0.55255,     0.55355,     0.55455,     0.55556,     0.55656,     0.55756,     0.55856,     0.55956,     0.56056,     0.56156,     0.56256,     0.56356,     0.56456,     0.56557,     0.56657,     0.56757,     0.56857,     0.56957,     0.57057,     0.57157,     0.57257,     0.57357,     0.57457,     0.57558,\n",
            "           0.57658,     0.57758,     0.57858,     0.57958,     0.58058,     0.58158,     0.58258,     0.58358,     0.58458,     0.58559,     0.58659,     0.58759,     0.58859,     0.58959,     0.59059,     0.59159,     0.59259,     0.59359,     0.59459,      0.5956,      0.5966,      0.5976,      0.5986,      0.5996,\n",
            "            0.6006,      0.6016,      0.6026,      0.6036,      0.6046,     0.60561,     0.60661,     0.60761,     0.60861,     0.60961,     0.61061,     0.61161,     0.61261,     0.61361,     0.61461,     0.61562,     0.61662,     0.61762,     0.61862,     0.61962,     0.62062,     0.62162,     0.62262,     0.62362,\n",
            "           0.62462,     0.62563,     0.62663,     0.62763,     0.62863,     0.62963,     0.63063,     0.63163,     0.63263,     0.63363,     0.63463,     0.63564,     0.63664,     0.63764,     0.63864,     0.63964,     0.64064,     0.64164,     0.64264,     0.64364,     0.64464,     0.64565,     0.64665,     0.64765,\n",
            "           0.64865,     0.64965,     0.65065,     0.65165,     0.65265,     0.65365,     0.65465,     0.65566,     0.65666,     0.65766,     0.65866,     0.65966,     0.66066,     0.66166,     0.66266,     0.66366,     0.66466,     0.66567,     0.66667,     0.66767,     0.66867,     0.66967,     0.67067,     0.67167,\n",
            "           0.67267,     0.67367,     0.67467,     0.67568,     0.67668,     0.67768,     0.67868,     0.67968,     0.68068,     0.68168,     0.68268,     0.68368,     0.68468,     0.68569,     0.68669,     0.68769,     0.68869,     0.68969,     0.69069,     0.69169,     0.69269,     0.69369,     0.69469,      0.6957,\n",
            "            0.6967,      0.6977,      0.6987,      0.6997,      0.7007,      0.7017,      0.7027,      0.7037,      0.7047,     0.70571,     0.70671,     0.70771,     0.70871,     0.70971,     0.71071,     0.71171,     0.71271,     0.71371,     0.71471,     0.71572,     0.71672,     0.71772,     0.71872,     0.71972,\n",
            "           0.72072,     0.72172,     0.72272,     0.72372,     0.72472,     0.72573,     0.72673,     0.72773,     0.72873,     0.72973,     0.73073,     0.73173,     0.73273,     0.73373,     0.73473,     0.73574,     0.73674,     0.73774,     0.73874,     0.73974,     0.74074,     0.74174,     0.74274,     0.74374,\n",
            "           0.74474,     0.74575,     0.74675,     0.74775,     0.74875,     0.74975,     0.75075,     0.75175,     0.75275,     0.75375,     0.75475,     0.75576,     0.75676,     0.75776,     0.75876,     0.75976,     0.76076,     0.76176,     0.76276,     0.76376,     0.76476,     0.76577,     0.76677,     0.76777,\n",
            "           0.76877,     0.76977,     0.77077,     0.77177,     0.77277,     0.77377,     0.77477,     0.77578,     0.77678,     0.77778,     0.77878,     0.77978,     0.78078,     0.78178,     0.78278,     0.78378,     0.78478,     0.78579,     0.78679,     0.78779,     0.78879,     0.78979,     0.79079,     0.79179,\n",
            "           0.79279,     0.79379,     0.79479,      0.7958,      0.7968,      0.7978,      0.7988,      0.7998,      0.8008,      0.8018,      0.8028,      0.8038,      0.8048,     0.80581,     0.80681,     0.80781,     0.80881,     0.80981,     0.81081,     0.81181,     0.81281,     0.81381,     0.81481,     0.81582,\n",
            "           0.81682,     0.81782,     0.81882,     0.81982,     0.82082,     0.82182,     0.82282,     0.82382,     0.82482,     0.82583,     0.82683,     0.82783,     0.82883,     0.82983,     0.83083,     0.83183,     0.83283,     0.83383,     0.83483,     0.83584,     0.83684,     0.83784,     0.83884,     0.83984,\n",
            "           0.84084,     0.84184,     0.84284,     0.84384,     0.84484,     0.84585,     0.84685,     0.84785,     0.84885,     0.84985,     0.85085,     0.85185,     0.85285,     0.85385,     0.85485,     0.85586,     0.85686,     0.85786,     0.85886,     0.85986,     0.86086,     0.86186,     0.86286,     0.86386,\n",
            "           0.86486,     0.86587,     0.86687,     0.86787,     0.86887,     0.86987,     0.87087,     0.87187,     0.87287,     0.87387,     0.87487,     0.87588,     0.87688,     0.87788,     0.87888,     0.87988,     0.88088,     0.88188,     0.88288,     0.88388,     0.88488,     0.88589,     0.88689,     0.88789,\n",
            "           0.88889,     0.88989,     0.89089,     0.89189,     0.89289,     0.89389,     0.89489,      0.8959,      0.8969,      0.8979,      0.8989,      0.8999,      0.9009,      0.9019,      0.9029,      0.9039,      0.9049,     0.90591,     0.90691,     0.90791,     0.90891,     0.90991,     0.91091,     0.91191,\n",
            "           0.91291,     0.91391,     0.91491,     0.91592,     0.91692,     0.91792,     0.91892,     0.91992,     0.92092,     0.92192,     0.92292,     0.92392,     0.92492,     0.92593,     0.92693,     0.92793,     0.92893,     0.92993,     0.93093,     0.93193,     0.93293,     0.93393,     0.93493,     0.93594,\n",
            "           0.93694,     0.93794,     0.93894,     0.93994,     0.94094,     0.94194,     0.94294,     0.94394,     0.94494,     0.94595,     0.94695,     0.94795,     0.94895,     0.94995,     0.95095,     0.95195,     0.95295,     0.95395,     0.95495,     0.95596,     0.95696,     0.95796,     0.95896,     0.95996,\n",
            "           0.96096,     0.96196,     0.96296,     0.96396,     0.96496,     0.96597,     0.96697,     0.96797,     0.96897,     0.96997,     0.97097,     0.97197,     0.97297,     0.97397,     0.97497,     0.97598,     0.97698,     0.97798,     0.97898,     0.97998,     0.98098,     0.98198,     0.98298,     0.98398,\n",
            "           0.98498,     0.98599,     0.98699,     0.98799,     0.98899,     0.98999,     0.99099,     0.99199,     0.99299,     0.99399,     0.99499,       0.996,       0.997,       0.998,       0.999,           1]), array([[    0.19785,     0.19791,     0.26674,      0.3162,     0.34673,     0.36813,     0.40145,     0.42181,     0.43734,     0.44616,     0.45776,     0.46481,     0.47815,     0.48462,     0.48735,       0.489,     0.49352,     0.50184,     0.50537,     0.51079,     0.51828,     0.52479,     0.53135,\n",
            "            0.53539,     0.54421,     0.54637,     0.54941,     0.55017,     0.55093,     0.55382,     0.55498,     0.55809,     0.56034,     0.56189,       0.564,     0.56581,     0.56964,     0.57173,     0.57329,      0.5753,      0.5802,     0.58217,     0.58576,     0.58847,     0.59137,     0.59525,\n",
            "            0.59742,     0.60276,     0.60808,     0.61001,     0.61441,     0.61614,     0.61728,     0.61849,     0.61986,     0.62122,      0.6226,     0.62398,     0.62539,     0.62706,     0.63059,     0.63318,     0.63647,     0.63771,     0.63831,     0.63892,     0.63952,     0.64027,     0.64162,\n",
            "            0.64296,     0.64418,     0.64541,     0.64721,     0.64939,     0.65187,     0.65377,     0.65758,     0.65806,     0.65854,     0.65902,      0.6595,     0.65998,     0.66047,     0.66115,     0.66187,      0.6626,     0.66333,     0.66422,     0.66521,     0.66619,     0.66859,     0.67051,\n",
            "            0.67161,     0.67271,     0.67683,     0.67781,     0.67879,     0.67904,     0.67865,     0.67827,     0.67789,     0.68127,     0.68256,     0.68386,     0.68548,     0.68723,     0.68733,     0.68712,     0.68692,     0.68671,      0.6865,      0.6863,     0.68609,     0.68765,     0.68968,\n",
            "             0.6904,     0.69112,     0.69184,     0.69256,     0.69546,     0.69677,     0.69762,     0.69848,     0.69933,     0.70176,     0.70397,      0.7057,     0.70725,     0.70864,     0.71029,     0.71684,     0.71623,     0.71569,     0.71548,     0.71527,     0.71505,     0.71484,     0.71463,\n",
            "            0.71441,     0.71476,     0.71596,     0.71715,     0.72206,      0.7235,     0.72493,     0.72582,     0.72646,     0.72709,     0.72772,     0.72836,     0.72899,     0.73015,     0.73152,     0.73288,     0.73325,     0.73353,     0.73381,     0.73409,     0.73437,     0.73466,     0.73494,\n",
            "            0.73522,      0.7355,     0.73579,     0.73607,     0.73635,     0.73663,     0.74075,     0.74169,     0.74262,     0.74355,     0.74449,     0.74507,     0.74556,     0.74604,     0.74653,     0.74702,     0.74751,     0.74799,     0.74848,     0.74966,     0.75125,     0.75301,     0.75658,\n",
            "             0.7651,     0.76564,     0.76619,     0.76673,     0.76727,     0.76782,     0.76836,      0.7689,      0.7693,     0.76949,     0.76967,     0.76986,     0.77005,     0.77023,     0.77042,      0.7706,     0.77079,     0.77097,     0.77116,     0.77134,     0.77153,     0.77171,      0.7719,\n",
            "            0.77209,     0.77227,     0.77246,     0.77264,     0.77283,     0.77301,      0.7732,     0.77338,     0.77804,     0.77902,        0.78,     0.78097,     0.78195,     0.78558,     0.78779,     0.78942,     0.79097,     0.79113,     0.79128,     0.79144,      0.7916,     0.79176,     0.79191,\n",
            "            0.79207,     0.79223,     0.79238,     0.79254,      0.7927,     0.79286,     0.79301,     0.79317,     0.79333,     0.79349,     0.79364,      0.7938,     0.79396,     0.79411,     0.79427,     0.79443,     0.79459,     0.79474,      0.7949,     0.79506,     0.79522,     0.79537,     0.79613,\n",
            "            0.79754,     0.79894,     0.80015,     0.80074,     0.80133,     0.80192,     0.80251,      0.8031,     0.80369,     0.80428,     0.80496,     0.80574,     0.80651,     0.80729,     0.80807,     0.80885,     0.80956,     0.81019,     0.81082,     0.81146,     0.81209,     0.81273,     0.81336,\n",
            "            0.81401,     0.81489,     0.81577,     0.81666,     0.81754,     0.81842,     0.82224,     0.82375,     0.82405,     0.82435,     0.82465,     0.82494,     0.82524,     0.82554,     0.82584,     0.82613,     0.82643,     0.82673,     0.82703,     0.82733,     0.82762,     0.82792,     0.82822,\n",
            "             0.8291,     0.83093,     0.83276,     0.83492,     0.83724,      0.8382,     0.83798,     0.83775,     0.83752,     0.83825,     0.84192,     0.84371,      0.8452,     0.84669,     0.84745,      0.8472,     0.84694,     0.84668,      0.8471,     0.84771,     0.84832,     0.84894,     0.84955,\n",
            "            0.85016,     0.85077,     0.85138,     0.85148,     0.85142,     0.85215,     0.85288,     0.85361,     0.85434,     0.85508,     0.85581,     0.85638,      0.8567,     0.85703,     0.85736,     0.85768,     0.85801,     0.85833,     0.85866,     0.85898,     0.85931,     0.85963,     0.85996,\n",
            "            0.86029,     0.86061,     0.86094,     0.86126,     0.86159,     0.86156,     0.86146,     0.86137,     0.86128,     0.86118,     0.86109,       0.861,      0.8609,     0.86081,     0.86112,     0.86188,     0.86264,      0.8634,     0.86416,     0.86492,     0.86568,      0.8662,     0.86605,\n",
            "            0.86591,     0.86576,     0.86561,     0.86546,     0.86838,     0.87149,     0.87244,     0.87338,     0.87433,     0.87527,     0.87622,     0.87725,     0.87836,     0.87946,     0.88056,     0.88166,     0.88254,     0.88306,     0.88357,     0.88409,      0.8846,     0.88512,     0.88563,\n",
            "            0.88615,     0.88666,     0.88718,     0.88769,      0.8882,     0.88868,     0.88916,     0.88963,     0.89011,     0.89059,     0.89106,     0.89154,     0.89202,      0.8925,     0.89297,     0.89345,     0.89393,     0.89454,     0.89519,     0.89584,     0.89649,     0.89714,     0.89779,\n",
            "            0.89844,     0.89909,     0.89974,     0.90046,     0.90125,     0.90203,     0.90282,      0.9036,     0.90438,     0.90517,     0.90595,     0.90599,     0.90594,     0.90589,     0.90583,     0.90578,     0.90573,     0.90567,     0.90562,     0.90557,     0.90551,     0.90546,     0.90542,\n",
            "            0.90712,     0.90882,     0.91052,     0.91146,     0.91117,     0.91116,     0.91199,     0.91283,     0.91367,      0.9145,     0.91534,     0.91617,     0.91701,     0.91665,     0.91661,     0.91657,     0.91653,     0.91649,     0.91644,      0.9164,     0.91636,     0.91632,     0.91628,\n",
            "            0.91624,      0.9162,     0.91616,     0.91611,     0.91599,     0.91559,     0.91541,     0.91529,     0.91517,     0.91506,     0.91494,     0.91485,     0.91476,     0.91468,     0.91459,     0.91451,     0.91442,     0.91434,     0.91424,     0.91411,     0.91398,     0.91386,     0.91373,\n",
            "            0.91362,     0.91354,     0.91345,     0.91337,     0.91328,      0.9132,     0.91311,     0.91293,     0.91246,     0.91231,      0.9122,     0.91208,     0.91197,     0.91186,     0.91207,     0.91356,     0.91504,     0.91653,     0.91802,     0.92179,     0.92535,     0.92528,     0.92521,\n",
            "            0.92513,     0.92506,     0.92499,     0.92491,     0.92484,     0.92742,     0.93163,     0.93169,     0.93155,     0.93142,     0.93129,     0.93119,      0.9311,       0.931,      0.9309,     0.93081,     0.93072,     0.93065,     0.93058,      0.9305,     0.93043,     0.93036,     0.93028,\n",
            "            0.92965,     0.92946,     0.92928,     0.92912,     0.92905,     0.92898,     0.92891,     0.92884,     0.92877,      0.9287,     0.92863,     0.92868,     0.93003,     0.93138,     0.93273,     0.93408,     0.93543,     0.93589,     0.93571,     0.93552,     0.93793,     0.94104,     0.94304,\n",
            "            0.94291,     0.94277,     0.94264,     0.95031,     0.95019,     0.94995,     0.95016,     0.95586,     0.95758,     0.95752,     0.95746,     0.95739,     0.95733,     0.95727,     0.96253,     0.96549,     0.96541,     0.96534,     0.96527,     0.96497,     0.96649,     0.96821,     0.96993,\n",
            "            0.97164,     0.97336,     0.97559,     0.97785,     0.98011,     0.98213,       0.982,     0.98197,     0.98195,     0.98194,     0.98192,      0.9819,     0.98189,     0.98187,     0.98185,     0.98184,     0.98182,     0.98164,     0.98157,     0.98149,     0.98374,     0.98642,      0.9891,\n",
            "            0.99063,     0.99057,     0.99047,     0.99044,      0.9904,     0.99037,     0.99035,     0.99033,     0.99031,     0.99028,     0.99025,     0.99022,     0.99019,     0.99017,     0.99015,     0.99012,      0.9901,     0.99008,     0.99007,     0.99005,     0.99003,     0.99002,        0.99,\n",
            "            0.98999,     0.98997,     0.98995,     0.98994,     0.98992,     0.98991,     0.98979,     0.98976,     0.98972,     0.98968,     0.98963,     0.98953,     0.98944,     0.98941,     0.98937,      0.9892,      0.9891,     0.98902,     0.98897,     0.98893,     0.98889,     0.98877,     0.98861,\n",
            "            0.98857,     0.98853,     0.98849,     0.98846,     0.98844,     0.98841,     0.98838,     0.98824,     0.98822,      0.9882,     0.98818,     0.98817,     0.98815,     0.98813,     0.98811,     0.98809,     0.98806,     0.98803,       0.988,     0.98797,     0.98785,     0.98776,     0.98771,\n",
            "            0.98766,     0.98764,     0.98763,     0.98762,     0.98761,     0.98759,     0.98758,     0.98757,     0.98756,     0.98755,     0.98753,     0.98752,     0.98751,     0.98749,     0.98745,     0.98741,     0.98737,     0.98822,     0.99446,           1,           1,           1,           1,\n",
            "                  1,           1,           1,           1,           1,           1,           1,           1,           1,           1,           1,           1,           1,           1,           1,           1,           1,           1,           1,           1,           1,           1,           1,\n",
            "                  1,           1,           1,           1,           1,           1,           1,           1,           1,           1,           1,           1,           1,           1,           1,           1,           1,           1,           1,           1,           1,           1,           1,\n",
            "                  1,           1,           1,           1,           1,           1,           1,           1,           1,           1,           1,           1,           1,           1,           1,           1,           1,           1,           1,           1,           1,           1,           1,\n",
            "                  1,           1,           1,           1,           1,           1,           1,           1,           1,           1,           1,           1,           1,           1,           1,           1,           1,           1,           1,           1,           1,           1,           1,\n",
            "                  1,           1,           1,           1,           1,           1,           1,           1,           1,           1,           1,           1,           1,           1,           1,           1,           1,           1,           1,           1,           1,           1,           1,\n",
            "                  1,           1,           1,           1,           1,           1,           1,           1,           1,           1,           1,           1,           1,           1,           1,           1,           1,           1,           1,           1,           1,           1,           1,\n",
            "                  1,           1,           1,           1,           1,           1,           1,           1,           1,           1,           1,           1,           1,           1,           1,           1,           1,           1,           1,           1,           1,           1,           1,\n",
            "                  1,           1,           1,           1,           1,           1,           1,           1,           1,           1,           1,           1,           1,           1,           1,           1,           1,           1,           1,           1,           1,           1,           1,\n",
            "                  1,           1,           1,           1,           1,           1,           1,           1,           1,           1,           1,           1,           1,           1,           1,           1,           1,           1,           1,           1,           1,           1,           1,\n",
            "                  1,           1,           1,           1,           1,           1,           1,           1,           1,           1,           1,           1,           1,           1,           1,           1,           1,           1,           1,           1,           1,           1,           1,\n",
            "                  1,           1,           1,           1,           1,           1,           1,           1,           1,           1,           1,           1,           1,           1,           1,           1,           1,           1,           1,           1,           1,           1,           1,\n",
            "                  1,           1,           1,           1,           1,           1,           1,           1,           1,           1,           1,           1,           1,           1,           1,           1,           1,           1,           1,           1,           1,           1,           1,\n",
            "                  1,           1,           1,           1,           1,           1,           1,           1,           1,           1,           1,           1,           1,           1,           1,           1,           1,           1,           1,           1,           1,           1,           1,\n",
            "                  1,           1,           1,           1,           1,           1,           1,           1,           1,           1,           1]]), 'Confidence', 'Precision'], [array([          0,    0.001001,    0.002002,    0.003003,    0.004004,    0.005005,    0.006006,    0.007007,    0.008008,    0.009009,     0.01001,    0.011011,    0.012012,    0.013013,    0.014014,    0.015015,    0.016016,    0.017017,    0.018018,    0.019019,     0.02002,    0.021021,    0.022022,    0.023023,\n",
            "          0.024024,    0.025025,    0.026026,    0.027027,    0.028028,    0.029029,     0.03003,    0.031031,    0.032032,    0.033033,    0.034034,    0.035035,    0.036036,    0.037037,    0.038038,    0.039039,     0.04004,    0.041041,    0.042042,    0.043043,    0.044044,    0.045045,    0.046046,    0.047047,\n",
            "          0.048048,    0.049049,     0.05005,    0.051051,    0.052052,    0.053053,    0.054054,    0.055055,    0.056056,    0.057057,    0.058058,    0.059059,     0.06006,    0.061061,    0.062062,    0.063063,    0.064064,    0.065065,    0.066066,    0.067067,    0.068068,    0.069069,     0.07007,    0.071071,\n",
            "          0.072072,    0.073073,    0.074074,    0.075075,    0.076076,    0.077077,    0.078078,    0.079079,     0.08008,    0.081081,    0.082082,    0.083083,    0.084084,    0.085085,    0.086086,    0.087087,    0.088088,    0.089089,     0.09009,    0.091091,    0.092092,    0.093093,    0.094094,    0.095095,\n",
            "          0.096096,    0.097097,    0.098098,    0.099099,      0.1001,      0.1011,      0.1021,      0.1031,      0.1041,     0.10511,     0.10611,     0.10711,     0.10811,     0.10911,     0.11011,     0.11111,     0.11211,     0.11311,     0.11411,     0.11512,     0.11612,     0.11712,     0.11812,     0.11912,\n",
            "           0.12012,     0.12112,     0.12212,     0.12312,     0.12412,     0.12513,     0.12613,     0.12713,     0.12813,     0.12913,     0.13013,     0.13113,     0.13213,     0.13313,     0.13413,     0.13514,     0.13614,     0.13714,     0.13814,     0.13914,     0.14014,     0.14114,     0.14214,     0.14314,\n",
            "           0.14414,     0.14515,     0.14615,     0.14715,     0.14815,     0.14915,     0.15015,     0.15115,     0.15215,     0.15315,     0.15415,     0.15516,     0.15616,     0.15716,     0.15816,     0.15916,     0.16016,     0.16116,     0.16216,     0.16316,     0.16416,     0.16517,     0.16617,     0.16717,\n",
            "           0.16817,     0.16917,     0.17017,     0.17117,     0.17217,     0.17317,     0.17417,     0.17518,     0.17618,     0.17718,     0.17818,     0.17918,     0.18018,     0.18118,     0.18218,     0.18318,     0.18418,     0.18519,     0.18619,     0.18719,     0.18819,     0.18919,     0.19019,     0.19119,\n",
            "           0.19219,     0.19319,     0.19419,      0.1952,      0.1962,      0.1972,      0.1982,      0.1992,      0.2002,      0.2012,      0.2022,      0.2032,      0.2042,     0.20521,     0.20621,     0.20721,     0.20821,     0.20921,     0.21021,     0.21121,     0.21221,     0.21321,     0.21421,     0.21522,\n",
            "           0.21622,     0.21722,     0.21822,     0.21922,     0.22022,     0.22122,     0.22222,     0.22322,     0.22422,     0.22523,     0.22623,     0.22723,     0.22823,     0.22923,     0.23023,     0.23123,     0.23223,     0.23323,     0.23423,     0.23524,     0.23624,     0.23724,     0.23824,     0.23924,\n",
            "           0.24024,     0.24124,     0.24224,     0.24324,     0.24424,     0.24525,     0.24625,     0.24725,     0.24825,     0.24925,     0.25025,     0.25125,     0.25225,     0.25325,     0.25425,     0.25526,     0.25626,     0.25726,     0.25826,     0.25926,     0.26026,     0.26126,     0.26226,     0.26326,\n",
            "           0.26426,     0.26527,     0.26627,     0.26727,     0.26827,     0.26927,     0.27027,     0.27127,     0.27227,     0.27327,     0.27427,     0.27528,     0.27628,     0.27728,     0.27828,     0.27928,     0.28028,     0.28128,     0.28228,     0.28328,     0.28428,     0.28529,     0.28629,     0.28729,\n",
            "           0.28829,     0.28929,     0.29029,     0.29129,     0.29229,     0.29329,     0.29429,      0.2953,      0.2963,      0.2973,      0.2983,      0.2993,      0.3003,      0.3013,      0.3023,      0.3033,      0.3043,     0.30531,     0.30631,     0.30731,     0.30831,     0.30931,     0.31031,     0.31131,\n",
            "           0.31231,     0.31331,     0.31431,     0.31532,     0.31632,     0.31732,     0.31832,     0.31932,     0.32032,     0.32132,     0.32232,     0.32332,     0.32432,     0.32533,     0.32633,     0.32733,     0.32833,     0.32933,     0.33033,     0.33133,     0.33233,     0.33333,     0.33433,     0.33534,\n",
            "           0.33634,     0.33734,     0.33834,     0.33934,     0.34034,     0.34134,     0.34234,     0.34334,     0.34434,     0.34535,     0.34635,     0.34735,     0.34835,     0.34935,     0.35035,     0.35135,     0.35235,     0.35335,     0.35435,     0.35536,     0.35636,     0.35736,     0.35836,     0.35936,\n",
            "           0.36036,     0.36136,     0.36236,     0.36336,     0.36436,     0.36537,     0.36637,     0.36737,     0.36837,     0.36937,     0.37037,     0.37137,     0.37237,     0.37337,     0.37437,     0.37538,     0.37638,     0.37738,     0.37838,     0.37938,     0.38038,     0.38138,     0.38238,     0.38338,\n",
            "           0.38438,     0.38539,     0.38639,     0.38739,     0.38839,     0.38939,     0.39039,     0.39139,     0.39239,     0.39339,     0.39439,      0.3954,      0.3964,      0.3974,      0.3984,      0.3994,      0.4004,      0.4014,      0.4024,      0.4034,      0.4044,     0.40541,     0.40641,     0.40741,\n",
            "           0.40841,     0.40941,     0.41041,     0.41141,     0.41241,     0.41341,     0.41441,     0.41542,     0.41642,     0.41742,     0.41842,     0.41942,     0.42042,     0.42142,     0.42242,     0.42342,     0.42442,     0.42543,     0.42643,     0.42743,     0.42843,     0.42943,     0.43043,     0.43143,\n",
            "           0.43243,     0.43343,     0.43443,     0.43544,     0.43644,     0.43744,     0.43844,     0.43944,     0.44044,     0.44144,     0.44244,     0.44344,     0.44444,     0.44545,     0.44645,     0.44745,     0.44845,     0.44945,     0.45045,     0.45145,     0.45245,     0.45345,     0.45445,     0.45546,\n",
            "           0.45646,     0.45746,     0.45846,     0.45946,     0.46046,     0.46146,     0.46246,     0.46346,     0.46446,     0.46547,     0.46647,     0.46747,     0.46847,     0.46947,     0.47047,     0.47147,     0.47247,     0.47347,     0.47447,     0.47548,     0.47648,     0.47748,     0.47848,     0.47948,\n",
            "           0.48048,     0.48148,     0.48248,     0.48348,     0.48448,     0.48549,     0.48649,     0.48749,     0.48849,     0.48949,     0.49049,     0.49149,     0.49249,     0.49349,     0.49449,      0.4955,      0.4965,      0.4975,      0.4985,      0.4995,      0.5005,      0.5015,      0.5025,      0.5035,\n",
            "            0.5045,     0.50551,     0.50651,     0.50751,     0.50851,     0.50951,     0.51051,     0.51151,     0.51251,     0.51351,     0.51451,     0.51552,     0.51652,     0.51752,     0.51852,     0.51952,     0.52052,     0.52152,     0.52252,     0.52352,     0.52452,     0.52553,     0.52653,     0.52753,\n",
            "           0.52853,     0.52953,     0.53053,     0.53153,     0.53253,     0.53353,     0.53453,     0.53554,     0.53654,     0.53754,     0.53854,     0.53954,     0.54054,     0.54154,     0.54254,     0.54354,     0.54454,     0.54555,     0.54655,     0.54755,     0.54855,     0.54955,     0.55055,     0.55155,\n",
            "           0.55255,     0.55355,     0.55455,     0.55556,     0.55656,     0.55756,     0.55856,     0.55956,     0.56056,     0.56156,     0.56256,     0.56356,     0.56456,     0.56557,     0.56657,     0.56757,     0.56857,     0.56957,     0.57057,     0.57157,     0.57257,     0.57357,     0.57457,     0.57558,\n",
            "           0.57658,     0.57758,     0.57858,     0.57958,     0.58058,     0.58158,     0.58258,     0.58358,     0.58458,     0.58559,     0.58659,     0.58759,     0.58859,     0.58959,     0.59059,     0.59159,     0.59259,     0.59359,     0.59459,      0.5956,      0.5966,      0.5976,      0.5986,      0.5996,\n",
            "            0.6006,      0.6016,      0.6026,      0.6036,      0.6046,     0.60561,     0.60661,     0.60761,     0.60861,     0.60961,     0.61061,     0.61161,     0.61261,     0.61361,     0.61461,     0.61562,     0.61662,     0.61762,     0.61862,     0.61962,     0.62062,     0.62162,     0.62262,     0.62362,\n",
            "           0.62462,     0.62563,     0.62663,     0.62763,     0.62863,     0.62963,     0.63063,     0.63163,     0.63263,     0.63363,     0.63463,     0.63564,     0.63664,     0.63764,     0.63864,     0.63964,     0.64064,     0.64164,     0.64264,     0.64364,     0.64464,     0.64565,     0.64665,     0.64765,\n",
            "           0.64865,     0.64965,     0.65065,     0.65165,     0.65265,     0.65365,     0.65465,     0.65566,     0.65666,     0.65766,     0.65866,     0.65966,     0.66066,     0.66166,     0.66266,     0.66366,     0.66466,     0.66567,     0.66667,     0.66767,     0.66867,     0.66967,     0.67067,     0.67167,\n",
            "           0.67267,     0.67367,     0.67467,     0.67568,     0.67668,     0.67768,     0.67868,     0.67968,     0.68068,     0.68168,     0.68268,     0.68368,     0.68468,     0.68569,     0.68669,     0.68769,     0.68869,     0.68969,     0.69069,     0.69169,     0.69269,     0.69369,     0.69469,      0.6957,\n",
            "            0.6967,      0.6977,      0.6987,      0.6997,      0.7007,      0.7017,      0.7027,      0.7037,      0.7047,     0.70571,     0.70671,     0.70771,     0.70871,     0.70971,     0.71071,     0.71171,     0.71271,     0.71371,     0.71471,     0.71572,     0.71672,     0.71772,     0.71872,     0.71972,\n",
            "           0.72072,     0.72172,     0.72272,     0.72372,     0.72472,     0.72573,     0.72673,     0.72773,     0.72873,     0.72973,     0.73073,     0.73173,     0.73273,     0.73373,     0.73473,     0.73574,     0.73674,     0.73774,     0.73874,     0.73974,     0.74074,     0.74174,     0.74274,     0.74374,\n",
            "           0.74474,     0.74575,     0.74675,     0.74775,     0.74875,     0.74975,     0.75075,     0.75175,     0.75275,     0.75375,     0.75475,     0.75576,     0.75676,     0.75776,     0.75876,     0.75976,     0.76076,     0.76176,     0.76276,     0.76376,     0.76476,     0.76577,     0.76677,     0.76777,\n",
            "           0.76877,     0.76977,     0.77077,     0.77177,     0.77277,     0.77377,     0.77477,     0.77578,     0.77678,     0.77778,     0.77878,     0.77978,     0.78078,     0.78178,     0.78278,     0.78378,     0.78478,     0.78579,     0.78679,     0.78779,     0.78879,     0.78979,     0.79079,     0.79179,\n",
            "           0.79279,     0.79379,     0.79479,      0.7958,      0.7968,      0.7978,      0.7988,      0.7998,      0.8008,      0.8018,      0.8028,      0.8038,      0.8048,     0.80581,     0.80681,     0.80781,     0.80881,     0.80981,     0.81081,     0.81181,     0.81281,     0.81381,     0.81481,     0.81582,\n",
            "           0.81682,     0.81782,     0.81882,     0.81982,     0.82082,     0.82182,     0.82282,     0.82382,     0.82482,     0.82583,     0.82683,     0.82783,     0.82883,     0.82983,     0.83083,     0.83183,     0.83283,     0.83383,     0.83483,     0.83584,     0.83684,     0.83784,     0.83884,     0.83984,\n",
            "           0.84084,     0.84184,     0.84284,     0.84384,     0.84484,     0.84585,     0.84685,     0.84785,     0.84885,     0.84985,     0.85085,     0.85185,     0.85285,     0.85385,     0.85485,     0.85586,     0.85686,     0.85786,     0.85886,     0.85986,     0.86086,     0.86186,     0.86286,     0.86386,\n",
            "           0.86486,     0.86587,     0.86687,     0.86787,     0.86887,     0.86987,     0.87087,     0.87187,     0.87287,     0.87387,     0.87487,     0.87588,     0.87688,     0.87788,     0.87888,     0.87988,     0.88088,     0.88188,     0.88288,     0.88388,     0.88488,     0.88589,     0.88689,     0.88789,\n",
            "           0.88889,     0.88989,     0.89089,     0.89189,     0.89289,     0.89389,     0.89489,      0.8959,      0.8969,      0.8979,      0.8989,      0.8999,      0.9009,      0.9019,      0.9029,      0.9039,      0.9049,     0.90591,     0.90691,     0.90791,     0.90891,     0.90991,     0.91091,     0.91191,\n",
            "           0.91291,     0.91391,     0.91491,     0.91592,     0.91692,     0.91792,     0.91892,     0.91992,     0.92092,     0.92192,     0.92292,     0.92392,     0.92492,     0.92593,     0.92693,     0.92793,     0.92893,     0.92993,     0.93093,     0.93193,     0.93293,     0.93393,     0.93493,     0.93594,\n",
            "           0.93694,     0.93794,     0.93894,     0.93994,     0.94094,     0.94194,     0.94294,     0.94394,     0.94494,     0.94595,     0.94695,     0.94795,     0.94895,     0.94995,     0.95095,     0.95195,     0.95295,     0.95395,     0.95495,     0.95596,     0.95696,     0.95796,     0.95896,     0.95996,\n",
            "           0.96096,     0.96196,     0.96296,     0.96396,     0.96496,     0.96597,     0.96697,     0.96797,     0.96897,     0.96997,     0.97097,     0.97197,     0.97297,     0.97397,     0.97497,     0.97598,     0.97698,     0.97798,     0.97898,     0.97998,     0.98098,     0.98198,     0.98298,     0.98398,\n",
            "           0.98498,     0.98599,     0.98699,     0.98799,     0.98899,     0.98999,     0.99099,     0.99199,     0.99299,     0.99399,     0.99499,       0.996,       0.997,       0.998,       0.999,           1]), array([[          1,           1,           1,           1,           1,           1,           1,           1,           1,           1,      0.9932,      0.9932,      0.9932,     0.99147,     0.98639,     0.98639,     0.98639,     0.98639,     0.98639,     0.98639,     0.98639,     0.98639,     0.98639,\n",
            "            0.98639,     0.98639,     0.98639,     0.98639,     0.98639,     0.98639,     0.98639,     0.98639,     0.98639,     0.98639,     0.98639,     0.97959,     0.97959,     0.97959,     0.97959,     0.97959,     0.97959,     0.97959,     0.97959,     0.97959,     0.97959,     0.97959,     0.97959,\n",
            "            0.97959,     0.97959,     0.97959,     0.97959,     0.97959,     0.97959,     0.97959,     0.97959,     0.97959,     0.97959,     0.97959,     0.97959,     0.97959,     0.97959,     0.97959,     0.97959,     0.97959,     0.97959,     0.97959,     0.97959,     0.97959,     0.97959,     0.97959,\n",
            "            0.97959,     0.97959,     0.97959,     0.97959,     0.97959,     0.97959,     0.97959,     0.97959,     0.97959,     0.97959,     0.97959,     0.97959,     0.97959,     0.97959,     0.97959,     0.97959,     0.97959,     0.97959,     0.97959,     0.97959,     0.97959,     0.97959,     0.97959,\n",
            "            0.97959,     0.97959,     0.97959,     0.97959,     0.97959,     0.97866,     0.97694,     0.97523,     0.97351,     0.97279,     0.97279,     0.97279,     0.97279,     0.97279,     0.97201,     0.97108,     0.97015,     0.96923,      0.9683,     0.96738,     0.96645,     0.96599,     0.96599,\n",
            "            0.96599,     0.96599,     0.96599,     0.96599,     0.96599,     0.96599,     0.96599,     0.96599,     0.96599,     0.96599,     0.96599,     0.96599,     0.96599,     0.96599,     0.96599,     0.96444,     0.96151,     0.95898,     0.95798,     0.95698,     0.95598,     0.95498,     0.95398,\n",
            "            0.95298,     0.95238,     0.95238,     0.95238,     0.95238,     0.95238,     0.95238,     0.95238,     0.95238,     0.95238,     0.95238,     0.95238,     0.95238,     0.95238,     0.95238,     0.95238,     0.95238,     0.95238,     0.95238,     0.95238,     0.95238,     0.95238,     0.95238,\n",
            "            0.95238,     0.95238,     0.95238,     0.95238,     0.95238,     0.95238,     0.95238,     0.95238,     0.95238,     0.95238,     0.95238,     0.95238,     0.95238,     0.95238,     0.95238,     0.95238,     0.95238,     0.95238,     0.95238,     0.95238,     0.95238,     0.95238,     0.95238,\n",
            "            0.95238,     0.95238,     0.95238,     0.95238,     0.95238,     0.95238,     0.95238,     0.95238,     0.95238,     0.95238,     0.95238,     0.95238,     0.95238,     0.95238,     0.95238,     0.95238,     0.95238,     0.95238,     0.95238,     0.95238,     0.95238,     0.95238,     0.95238,\n",
            "            0.95238,     0.95238,     0.95238,     0.95238,     0.95238,     0.95238,     0.95238,     0.95238,     0.95238,     0.95238,     0.95238,     0.95238,     0.95238,     0.95238,     0.95238,     0.95238,     0.95238,     0.95238,     0.95238,     0.95238,     0.95238,     0.95238,     0.95238,\n",
            "            0.95238,     0.95238,     0.95238,     0.95238,     0.95238,     0.95238,     0.95238,     0.95238,     0.95238,     0.95238,     0.95238,     0.95238,     0.95238,     0.95238,     0.95238,     0.95238,     0.95238,     0.95238,     0.95238,     0.95238,     0.95238,     0.95238,     0.95238,\n",
            "            0.95238,     0.95238,     0.95238,     0.95238,     0.95238,     0.95238,     0.95238,     0.95238,     0.95238,     0.95238,     0.95238,     0.95238,     0.95238,     0.95238,     0.95238,     0.95238,     0.95238,     0.95238,     0.95238,     0.95238,     0.95238,     0.95238,     0.95238,\n",
            "            0.95238,     0.95238,     0.95238,     0.95238,     0.95238,     0.95238,     0.95238,     0.95238,     0.95238,     0.95238,     0.95238,     0.95238,     0.95238,     0.95238,     0.95238,     0.95238,     0.95238,     0.95238,     0.95238,     0.95238,     0.95238,     0.95238,     0.95238,\n",
            "            0.95238,     0.95238,     0.95238,     0.95238,     0.95238,     0.95154,     0.94995,     0.94836,     0.94678,     0.94558,     0.94558,     0.94558,     0.94558,     0.94558,      0.9448,     0.94293,     0.94106,     0.93919,     0.93878,     0.93878,     0.93878,     0.93878,     0.93878,\n",
            "            0.93878,     0.93878,     0.93878,       0.936,     0.93197,     0.93197,     0.93197,     0.93197,     0.93197,     0.93197,     0.93197,     0.93197,     0.93197,     0.93197,     0.93197,     0.93197,     0.93197,     0.93197,     0.93197,     0.93197,     0.93197,     0.93197,     0.93197,\n",
            "            0.93197,     0.93197,     0.93197,     0.93197,     0.93197,     0.93135,     0.93063,      0.9299,     0.92918,     0.92845,     0.92773,       0.927,     0.92627,     0.92555,     0.92517,     0.92517,     0.92517,     0.92517,     0.92517,     0.92517,     0.92517,     0.92486,     0.92368,\n",
            "             0.9225,     0.92131,     0.92013,     0.91895,     0.91837,     0.91837,     0.91837,     0.91837,     0.91837,     0.91837,     0.91837,     0.91837,     0.91837,     0.91837,     0.91837,     0.91837,     0.91837,     0.91837,     0.91837,     0.91837,     0.91837,     0.91837,     0.91837,\n",
            "            0.91837,     0.91837,     0.91837,     0.91837,     0.91837,     0.91837,     0.91837,     0.91837,     0.91837,     0.91837,     0.91837,     0.91837,     0.91837,     0.91837,     0.91837,     0.91837,     0.91837,     0.91837,     0.91837,     0.91837,     0.91837,     0.91837,     0.91837,\n",
            "            0.91837,     0.91837,     0.91837,     0.91837,     0.91837,     0.91837,     0.91837,     0.91837,     0.91837,     0.91837,     0.91837,     0.91786,     0.91729,     0.91671,     0.91614,     0.91557,       0.915,     0.91442,     0.91385,     0.91328,      0.9127,     0.91213,     0.91156,\n",
            "            0.91156,     0.91156,     0.91156,     0.91035,     0.90718,     0.90476,     0.90476,     0.90476,     0.90476,     0.90476,     0.90476,     0.90476,     0.90476,     0.89778,      0.8973,     0.89681,     0.89633,     0.89585,     0.89537,     0.89489,     0.89441,     0.89392,     0.89344,\n",
            "            0.89296,     0.89248,       0.892,     0.89152,     0.89002,      0.8855,     0.88337,     0.88206,     0.88074,     0.87943,     0.87811,     0.87701,     0.87607,     0.87512,     0.87418,     0.87323,     0.87229,     0.87134,     0.87022,     0.86882,     0.86742,     0.86602,     0.86461,\n",
            "            0.86346,     0.86252,     0.86159,     0.86066,     0.85972,     0.85879,     0.85786,     0.85597,     0.85093,     0.84928,     0.84808,     0.84689,     0.84569,     0.84449,     0.84354,     0.84354,     0.84354,     0.84354,     0.84354,     0.84354,     0.84329,     0.84241,     0.84152,\n",
            "            0.84063,     0.83974,     0.83885,     0.83796,     0.83707,     0.83673,     0.83673,     0.83504,     0.83327,      0.8315,     0.82979,     0.82856,     0.82732,     0.82609,     0.82485,     0.82362,     0.82257,     0.82163,     0.82069,     0.81976,     0.81882,     0.81789,     0.81695,\n",
            "              0.809,     0.80675,      0.8045,     0.80255,     0.80171,     0.80087,     0.80003,      0.7992,     0.79836,     0.79752,     0.79669,     0.79592,     0.79592,     0.79592,     0.79592,     0.79592,     0.79592,     0.79451,     0.79207,     0.78964,     0.78912,     0.78912,     0.78844,\n",
            "            0.78646,     0.78448,      0.7825,     0.78231,     0.77872,     0.77473,     0.76871,     0.76871,     0.76788,     0.76669,      0.7655,      0.7643,     0.76311,     0.76191,      0.7619,     0.76118,     0.75953,     0.75788,     0.75623,     0.74966,      0.7483,      0.7483,      0.7483,\n",
            "             0.7483,      0.7483,      0.7483,      0.7483,      0.7483,     0.74774,     0.74228,     0.74092,     0.74025,     0.73958,      0.7389,     0.73823,     0.73756,     0.73689,     0.73621,     0.73554,     0.73487,     0.72746,      0.7245,     0.72155,     0.72109,     0.72109,     0.72109,\n",
            "            0.71907,     0.71428,     0.70725,     0.70452,     0.70178,     0.69972,     0.69811,      0.6965,      0.6949,     0.69311,     0.69101,     0.68891,     0.68687,     0.68519,     0.68352,     0.68185,     0.68021,     0.67913,     0.67804,     0.67695,     0.67586,     0.67477,     0.67368,\n",
            "            0.67259,     0.67151,     0.67042,     0.66933,     0.66825,     0.66716,     0.65967,     0.65728,      0.6549,     0.65233,     0.64913,     0.64309,     0.63758,     0.63545,     0.63331,     0.62329,     0.61753,     0.61289,     0.61023,     0.60788,     0.60554,     0.59921,     0.59063,\n",
            "            0.58835,     0.58607,     0.58427,     0.58288,     0.58148,     0.58008,     0.57869,      0.5715,     0.57058,     0.56973,     0.56888,     0.56803,     0.56717,     0.56632,     0.56547,     0.56461,     0.56315,     0.56168,     0.56022,     0.55876,       0.553,     0.54902,     0.54667,\n",
            "            0.54431,      0.5437,     0.54317,     0.54263,      0.5421,     0.54156,     0.54103,     0.54049,     0.53995,     0.53942,     0.53888,     0.53835,     0.53781,     0.53699,     0.53534,     0.53368,     0.53203,     0.53061,     0.53061,     0.53055,     0.53003,      0.5295,     0.52897,\n",
            "            0.52844,     0.52792,     0.52739,     0.52686,     0.52634,     0.52581,     0.52528,     0.52475,     0.52423,     0.52367,     0.52299,      0.5223,     0.52162,     0.52094,     0.52026,     0.51958,      0.5189,     0.51822,     0.51753,     0.51637,     0.51358,     0.51079,     0.50931,\n",
            "            0.50819,     0.50707,     0.50594,     0.50482,      0.5037,     0.48948,     0.48812,     0.48676,     0.48541,     0.48405,     0.48243,     0.47991,     0.47739,     0.47259,     0.46763,     0.46433,      0.4502,     0.43452,     0.43321,     0.43191,     0.43061,      0.4293,     0.42714,\n",
            "            0.42389,     0.42104,     0.41897,      0.4169,     0.41493,     0.41444,     0.41395,     0.41346,     0.41296,     0.41247,     0.41198,     0.41149,     0.41099,      0.4105,     0.41001,     0.40952,     0.40902,     0.40853,     0.40507,     0.39365,     0.39035,     0.38074,     0.37927,\n",
            "            0.37781,     0.37634,     0.37488,     0.36403,     0.35831,      0.3543,     0.34939,     0.34577,     0.34349,     0.34122,     0.33776,      0.3333,     0.33225,      0.3312,     0.33014,     0.32909,     0.32803,     0.32698,     0.32078,     0.31327,     0.30522,     0.30362,     0.30203,\n",
            "            0.30043,     0.29234,      0.2914,     0.29046,     0.28952,     0.28858,     0.28764,      0.2867,     0.28576,     0.27727,     0.27487,     0.27248,     0.26036,     0.25745,     0.25599,     0.25453,     0.25307,     0.25161,     0.25012,     0.24862,     0.24713,     0.24563,     0.23446,\n",
            "            0.22965,     0.22795,     0.22625,     0.22456,     0.21771,      0.2047,     0.20274,     0.20129,     0.19984,     0.19839,     0.19553,     0.18352,     0.18272,     0.18192,     0.18112,     0.18032,     0.17952,     0.17871,     0.17791,     0.17711,     0.17481,     0.17185,     0.16972,\n",
            "            0.16885,     0.16799,     0.16712,     0.16625,     0.16538,     0.16451,     0.16364,     0.16259,     0.16141,     0.16023,     0.15905,     0.15787,     0.15669,     0.14572,     0.13037,     0.12791,     0.12626,     0.12462,     0.12298,     0.12166,      0.1205,     0.11933,     0.11817,\n",
            "              0.117,     0.11584,      0.1129,     0.10962,     0.10392,    0.098074,    0.087833,    0.086574,    0.085315,    0.084056,    0.082797,    0.081405,    0.078357,     0.07531,    0.061182,    0.060849,    0.060516,    0.060183,     0.05985,    0.059517,    0.059184,    0.058851,    0.058518,\n",
            "           0.058185,    0.057852,    0.057518,    0.057185,    0.056852,    0.056519,    0.056186,    0.055853,     0.05552,    0.055187,    0.054854,    0.054521,    0.052359,     0.04942,    0.047372,    0.046734,    0.046096,    0.045458,    0.044821,    0.044183,    0.043545,    0.042907,    0.042269,\n",
            "           0.041632,    0.040994,    0.040157,    0.039243,    0.038329,    0.037415,    0.036501,    0.035587,    0.034673,    0.033172,    0.030151,    0.027196,    0.026641,    0.026086,    0.025531,    0.024976,    0.024421,    0.023866,    0.023311,    0.022756,    0.022201,    0.021646,    0.021091,\n",
            "           0.020536,    0.020068,    0.019625,    0.019182,     0.01874,    0.018297,    0.017854,    0.017412,    0.016969,    0.016527,    0.016084,    0.015641,    0.015199,    0.014756,    0.014313,    0.013871,    0.013437,    0.013018,    0.012598,    0.012178,    0.011758,    0.011339,    0.010919,\n",
            "           0.010499,    0.010079,   0.0096596,   0.0092399,   0.0088201,   0.0084004,   0.0079806,   0.0075609,   0.0071411,           0,           0,           0,           0,           0,           0,           0,           0,           0,           0,           0,           0,           0,           0,\n",
            "                  0,           0,           0,           0,           0,           0,           0,           0,           0,           0,           0,           0,           0,           0,           0,           0,           0,           0,           0,           0,           0,           0,           0,\n",
            "                  0,           0,           0,           0,           0,           0,           0,           0,           0,           0,           0]]), 'Confidence', 'Recall']]\n",
            "fitness: 0.5949334598511518\n",
            "keys: ['metrics/precision(B)', 'metrics/recall(B)', 'metrics/mAP50(B)', 'metrics/mAP50-95(B)']\n",
            "maps: array([    0.55438])\n",
            "names: {0: 'smoke'}\n",
            "plot: True\n",
            "results_dict: {'metrics/precision(B)': 0.9051679180529035, 'metrics/recall(B)': 0.9183673469387755, 'metrics/mAP50(B)': 0.9598773395536113, 'metrics/mAP50-95(B)': 0.5543841398842118, 'fitness': 0.5949334598511518}\n",
            "save_dir: PosixPath('runs/detect/val')\n",
            "speed: {'preprocess': 0.12131937507058486, 'inference': 1.8663909159550052, 'loss': 0.0006568675138512437, 'postprocess': 4.108357591693904}\n",
            "task: 'detect'\n"
          ]
        }
      ]
    },
    {
      "cell_type": "code",
      "source": [
        "%cd /content/drive/MyDrive/WildfireSmoke.v1-raw.yolov8\n",
        "from ultralytics import YOLO\n",
        "\n",
        "model = YOLO('yolov8m.pt')\n",
        "\n",
        "layer_index = 0\n",
        "for param in model.parameters():\n",
        "    if layer_index == 1:\n",
        "        param.requires_grad = True\n",
        "    else:\n",
        "        param.requires_grad = False\n",
        "    layer_index += 1\n",
        "\n",
        "for layer in model.model.children():\n",
        "    for param in layer.parameters():\n",
        "        param.requires_grad = True\n",
        "\n",
        "model.train(\n",
        "    data='data.yaml',\n",
        "    epochs=20,\n",
        "    batch=16,\n",
        "    imgsz=640,\n",
        "    optimizer='Adam',\n",
        "    lr0=0.001,\n",
        "    weight_decay=0.0005\n",
        ")\n",
        "\n",
        "\n",
        "results = model.val()\n",
        "print(results)\n"
      ],
      "metadata": {
        "id": "2Ukg2CfyPetO",
        "outputId": "538a34a1-663b-4798-8e74-ed2a5f3db7af",
        "colab": {
          "base_uri": "https://localhost:8080/"
        }
      },
      "execution_count": 10,
      "outputs": [
        {
          "output_type": "stream",
          "name": "stdout",
          "text": [
            "/content/drive/MyDrive/WildfireSmoke.v1-raw.yolov8\n",
            "Ultralytics YOLOv8.2.84 🚀 Python-3.10.12 torch-2.4.0+cu121 CUDA:0 (NVIDIA A100-SXM4-40GB, 40514MiB)\n",
            "\u001b[34m\u001b[1mengine/trainer: \u001b[0mtask=detect, mode=train, model=yolov8m.pt, data=data.yaml, epochs=20, time=None, patience=100, batch=16, imgsz=640, save=True, save_period=-1, cache=False, device=None, workers=8, project=None, name=train5, exist_ok=False, pretrained=True, optimizer=Adam, verbose=True, seed=0, deterministic=True, single_cls=False, rect=False, cos_lr=False, close_mosaic=10, resume=False, amp=True, fraction=1.0, profile=False, freeze=None, multi_scale=False, overlap_mask=True, mask_ratio=4, dropout=0.0, val=True, split=val, save_json=False, save_hybrid=False, conf=None, iou=0.7, max_det=300, half=False, dnn=False, plots=True, source=None, vid_stride=1, stream_buffer=False, visualize=False, augment=False, agnostic_nms=False, classes=None, retina_masks=False, embed=None, show=False, save_frames=False, save_txt=False, save_conf=False, save_crop=False, show_labels=True, show_conf=True, show_boxes=True, line_width=None, format=torchscript, keras=False, optimize=False, int8=False, dynamic=False, simplify=False, opset=None, workspace=4, nms=False, lr0=0.001, lrf=0.01, momentum=0.937, weight_decay=0.0005, warmup_epochs=3.0, warmup_momentum=0.8, warmup_bias_lr=0.1, box=7.5, cls=0.5, dfl=1.5, pose=12.0, kobj=1.0, label_smoothing=0.0, nbs=64, hsv_h=0.015, hsv_s=0.7, hsv_v=0.4, degrees=0.0, translate=0.1, scale=0.5, shear=0.0, perspective=0.0, flipud=0.0, fliplr=0.5, bgr=0.0, mosaic=1.0, mixup=0.0, copy_paste=0.0, auto_augment=randaugment, erasing=0.4, crop_fraction=1.0, cfg=None, tracker=botsort.yaml, save_dir=runs/detect/train5\n",
            "Overriding model.yaml nc=80 with nc=1\n",
            "\n",
            "                   from  n    params  module                                       arguments                     \n",
            "  0                  -1  1      1392  ultralytics.nn.modules.conv.Conv             [3, 48, 3, 2]                 \n",
            "  1                  -1  1     41664  ultralytics.nn.modules.conv.Conv             [48, 96, 3, 2]                \n",
            "  2                  -1  2    111360  ultralytics.nn.modules.block.C2f             [96, 96, 2, True]             \n",
            "  3                  -1  1    166272  ultralytics.nn.modules.conv.Conv             [96, 192, 3, 2]               \n",
            "  4                  -1  4    813312  ultralytics.nn.modules.block.C2f             [192, 192, 4, True]           \n",
            "  5                  -1  1    664320  ultralytics.nn.modules.conv.Conv             [192, 384, 3, 2]              \n",
            "  6                  -1  4   3248640  ultralytics.nn.modules.block.C2f             [384, 384, 4, True]           \n",
            "  7                  -1  1   1991808  ultralytics.nn.modules.conv.Conv             [384, 576, 3, 2]              \n",
            "  8                  -1  2   3985920  ultralytics.nn.modules.block.C2f             [576, 576, 2, True]           \n",
            "  9                  -1  1    831168  ultralytics.nn.modules.block.SPPF            [576, 576, 5]                 \n",
            " 10                  -1  1         0  torch.nn.modules.upsampling.Upsample         [None, 2, 'nearest']          \n",
            " 11             [-1, 6]  1         0  ultralytics.nn.modules.conv.Concat           [1]                           \n",
            " 12                  -1  2   1993728  ultralytics.nn.modules.block.C2f             [960, 384, 2]                 \n",
            " 13                  -1  1         0  torch.nn.modules.upsampling.Upsample         [None, 2, 'nearest']          \n",
            " 14             [-1, 4]  1         0  ultralytics.nn.modules.conv.Concat           [1]                           \n",
            " 15                  -1  2    517632  ultralytics.nn.modules.block.C2f             [576, 192, 2]                 \n",
            " 16                  -1  1    332160  ultralytics.nn.modules.conv.Conv             [192, 192, 3, 2]              \n",
            " 17            [-1, 12]  1         0  ultralytics.nn.modules.conv.Concat           [1]                           \n",
            " 18                  -1  2   1846272  ultralytics.nn.modules.block.C2f             [576, 384, 2]                 \n",
            " 19                  -1  1   1327872  ultralytics.nn.modules.conv.Conv             [384, 384, 3, 2]              \n",
            " 20             [-1, 9]  1         0  ultralytics.nn.modules.conv.Concat           [1]                           \n",
            " 21                  -1  2   4207104  ultralytics.nn.modules.block.C2f             [960, 576, 2]                 \n",
            " 22        [15, 18, 21]  1   3776275  ultralytics.nn.modules.head.Detect           [1, [192, 384, 576]]          \n",
            "Model summary: 295 layers, 25,856,899 parameters, 25,856,883 gradients, 79.1 GFLOPs\n",
            "\n",
            "Transferred 469/475 items from pretrained weights\n",
            "\u001b[34m\u001b[1mTensorBoard: \u001b[0mStart with 'tensorboard --logdir runs/detect/train5', view at http://localhost:6006/\n",
            "Freezing layer 'model.22.dfl.conv.weight'\n",
            "\u001b[34m\u001b[1mAMP: \u001b[0mrunning Automatic Mixed Precision (AMP) checks with YOLOv8n...\n",
            "\u001b[34m\u001b[1mAMP: \u001b[0mchecks passed ✅\n"
          ]
        },
        {
          "output_type": "stream",
          "name": "stderr",
          "text": [
            "\u001b[34m\u001b[1mtrain: \u001b[0mScanning /content/drive/MyDrive/WildfireSmoke.v1-raw.yolov8/train/labels.cache... 516 images, 7 backgrounds, 0 corrupt: 100%|██████████| 523/523 [00:00<?, ?it/s]"
          ]
        },
        {
          "output_type": "stream",
          "name": "stdout",
          "text": [
            "\u001b[34m\u001b[1malbumentations: \u001b[0mBlur(p=0.01, blur_limit=(3, 7)), MedianBlur(p=0.01, blur_limit=(3, 7)), ToGray(p=0.01), CLAHE(p=0.01, clip_limit=(1, 4.0), tile_grid_size=(8, 8))\n"
          ]
        },
        {
          "output_type": "stream",
          "name": "stderr",
          "text": [
            "\n",
            "/usr/lib/python3.10/multiprocessing/popen_fork.py:66: RuntimeWarning: os.fork() was called. os.fork() is incompatible with multithreaded code, and JAX is multithreaded, so this will likely lead to a deadlock.\n",
            "  self.pid = os.fork()\n",
            "\u001b[34m\u001b[1mval: \u001b[0mScanning /content/drive/MyDrive/WildfireSmoke.v1-raw.yolov8/valid/labels.cache... 147 images, 0 backgrounds, 0 corrupt: 100%|██████████| 147/147 [00:00<?, ?it/s]\n"
          ]
        },
        {
          "output_type": "stream",
          "name": "stdout",
          "text": [
            "Plotting labels to runs/detect/train5/labels.jpg... \n",
            "\u001b[34m\u001b[1moptimizer:\u001b[0m Adam(lr=0.001, momentum=0.937) with parameter groups 77 weight(decay=0.0), 84 weight(decay=0.0005), 83 bias(decay=0.0)\n",
            "\u001b[34m\u001b[1mTensorBoard: \u001b[0mmodel graph visualization added ✅\n",
            "Image sizes 640 train, 640 val\n",
            "Using 8 dataloader workers\n",
            "Logging results to \u001b[1mruns/detect/train5\u001b[0m\n",
            "Starting training for 20 epochs...\n",
            "\n",
            "      Epoch    GPU_mem   box_loss   cls_loss   dfl_loss  Instances       Size\n"
          ]
        },
        {
          "output_type": "stream",
          "name": "stderr",
          "text": [
            "       1/20      7.25G      1.988      2.771      1.718          9        640: 100%|██████████| 33/33 [00:05<00:00,  5.54it/s]\n",
            "                 Class     Images  Instances      Box(P          R      mAP50  mAP50-95): 100%|██████████| 5/5 [00:00<00:00,  6.55it/s]"
          ]
        },
        {
          "output_type": "stream",
          "name": "stdout",
          "text": [
            "                   all        147        147      0.311      0.068     0.0802     0.0282\n"
          ]
        },
        {
          "output_type": "stream",
          "name": "stderr",
          "text": [
            "\n"
          ]
        },
        {
          "output_type": "stream",
          "name": "stdout",
          "text": [
            "\n",
            "      Epoch    GPU_mem   box_loss   cls_loss   dfl_loss  Instances       Size\n"
          ]
        },
        {
          "output_type": "stream",
          "name": "stderr",
          "text": [
            "       2/20      7.07G      1.831      1.557      1.563         16        640: 100%|██████████| 33/33 [00:04<00:00,  7.25it/s]\n",
            "                 Class     Images  Instances      Box(P          R      mAP50  mAP50-95): 100%|██████████| 5/5 [00:00<00:00,  7.16it/s]"
          ]
        },
        {
          "output_type": "stream",
          "name": "stdout",
          "text": [
            "                   all        147        147        0.5      0.429      0.422      0.149\n"
          ]
        },
        {
          "output_type": "stream",
          "name": "stderr",
          "text": [
            "\n"
          ]
        },
        {
          "output_type": "stream",
          "name": "stdout",
          "text": [
            "\n",
            "      Epoch    GPU_mem   box_loss   cls_loss   dfl_loss  Instances       Size\n"
          ]
        },
        {
          "output_type": "stream",
          "name": "stderr",
          "text": [
            "       3/20      7.08G       1.82      1.538       1.64         14        640: 100%|██████████| 33/33 [00:04<00:00,  7.42it/s]\n",
            "                 Class     Images  Instances      Box(P          R      mAP50  mAP50-95): 100%|██████████| 5/5 [00:00<00:00,  7.37it/s]"
          ]
        },
        {
          "output_type": "stream",
          "name": "stdout",
          "text": [
            "                   all        147        147      0.532      0.279      0.246     0.0819\n"
          ]
        },
        {
          "output_type": "stream",
          "name": "stderr",
          "text": [
            "\n"
          ]
        },
        {
          "output_type": "stream",
          "name": "stdout",
          "text": [
            "\n",
            "      Epoch    GPU_mem   box_loss   cls_loss   dfl_loss  Instances       Size\n"
          ]
        },
        {
          "output_type": "stream",
          "name": "stderr",
          "text": [
            "       4/20      7.18G      1.724      1.503      1.622         16        640: 100%|██████████| 33/33 [00:04<00:00,  7.60it/s]\n",
            "                 Class     Images  Instances      Box(P          R      mAP50  mAP50-95): 100%|██████████| 5/5 [00:00<00:00,  7.25it/s]"
          ]
        },
        {
          "output_type": "stream",
          "name": "stdout",
          "text": [
            "                   all        147        147      0.452      0.354      0.312      0.145\n"
          ]
        },
        {
          "output_type": "stream",
          "name": "stderr",
          "text": [
            "\n"
          ]
        },
        {
          "output_type": "stream",
          "name": "stdout",
          "text": [
            "\n",
            "      Epoch    GPU_mem   box_loss   cls_loss   dfl_loss  Instances       Size\n"
          ]
        },
        {
          "output_type": "stream",
          "name": "stderr",
          "text": [
            "       5/20      7.07G      1.748      1.346      1.577         15        640: 100%|██████████| 33/33 [00:04<00:00,  7.61it/s]\n",
            "                 Class     Images  Instances      Box(P          R      mAP50  mAP50-95): 100%|██████████| 5/5 [00:00<00:00,  7.00it/s]"
          ]
        },
        {
          "output_type": "stream",
          "name": "stdout",
          "text": [
            "                   all        147        147      0.601      0.449      0.475      0.185\n"
          ]
        },
        {
          "output_type": "stream",
          "name": "stderr",
          "text": [
            "\n"
          ]
        },
        {
          "output_type": "stream",
          "name": "stdout",
          "text": [
            "\n",
            "      Epoch    GPU_mem   box_loss   cls_loss   dfl_loss  Instances       Size\n"
          ]
        },
        {
          "output_type": "stream",
          "name": "stderr",
          "text": [
            "       6/20      7.15G      1.714      1.298      1.527         26        640: 100%|██████████| 33/33 [00:04<00:00,  7.49it/s]\n",
            "                 Class     Images  Instances      Box(P          R      mAP50  mAP50-95): 100%|██████████| 5/5 [00:00<00:00,  6.72it/s]"
          ]
        },
        {
          "output_type": "stream",
          "name": "stdout",
          "text": [
            "                   all        147        147      0.749      0.605      0.651      0.275\n"
          ]
        },
        {
          "output_type": "stream",
          "name": "stderr",
          "text": [
            "\n"
          ]
        },
        {
          "output_type": "stream",
          "name": "stdout",
          "text": [
            "\n",
            "      Epoch    GPU_mem   box_loss   cls_loss   dfl_loss  Instances       Size\n"
          ]
        },
        {
          "output_type": "stream",
          "name": "stderr",
          "text": [
            "       7/20      7.15G      1.696      1.279      1.521         19        640: 100%|██████████| 33/33 [00:04<00:00,  7.82it/s]\n",
            "                 Class     Images  Instances      Box(P          R      mAP50  mAP50-95): 100%|██████████| 5/5 [00:00<00:00,  7.25it/s]"
          ]
        },
        {
          "output_type": "stream",
          "name": "stdout",
          "text": [
            "                   all        147        147      0.764      0.755      0.786      0.373\n"
          ]
        },
        {
          "output_type": "stream",
          "name": "stderr",
          "text": [
            "\n"
          ]
        },
        {
          "output_type": "stream",
          "name": "stdout",
          "text": [
            "\n",
            "      Epoch    GPU_mem   box_loss   cls_loss   dfl_loss  Instances       Size\n"
          ]
        },
        {
          "output_type": "stream",
          "name": "stderr",
          "text": [
            "       8/20      7.16G      1.599      1.187      1.481         23        640: 100%|██████████| 33/33 [00:04<00:00,  7.66it/s]\n",
            "                 Class     Images  Instances      Box(P          R      mAP50  mAP50-95): 100%|██████████| 5/5 [00:00<00:00,  7.07it/s]"
          ]
        },
        {
          "output_type": "stream",
          "name": "stdout",
          "text": [
            "                   all        147        147      0.613      0.748      0.701       0.34\n"
          ]
        },
        {
          "output_type": "stream",
          "name": "stderr",
          "text": [
            "\n"
          ]
        },
        {
          "output_type": "stream",
          "name": "stdout",
          "text": [
            "\n",
            "      Epoch    GPU_mem   box_loss   cls_loss   dfl_loss  Instances       Size\n"
          ]
        },
        {
          "output_type": "stream",
          "name": "stderr",
          "text": [
            "       9/20      7.07G      1.542        1.1      1.469         21        640: 100%|██████████| 33/33 [00:04<00:00,  7.25it/s]\n",
            "                 Class     Images  Instances      Box(P          R      mAP50  mAP50-95): 100%|██████████| 5/5 [00:00<00:00,  6.50it/s]"
          ]
        },
        {
          "output_type": "stream",
          "name": "stdout",
          "text": [
            "                   all        147        147      0.784      0.814      0.864      0.444\n"
          ]
        },
        {
          "output_type": "stream",
          "name": "stderr",
          "text": [
            "\n"
          ]
        },
        {
          "output_type": "stream",
          "name": "stdout",
          "text": [
            "\n",
            "      Epoch    GPU_mem   box_loss   cls_loss   dfl_loss  Instances       Size\n"
          ]
        },
        {
          "output_type": "stream",
          "name": "stderr",
          "text": [
            "      10/20      7.16G      1.617       1.09      1.516         20        640: 100%|██████████| 33/33 [00:04<00:00,  7.48it/s]\n",
            "                 Class     Images  Instances      Box(P          R      mAP50  mAP50-95): 100%|██████████| 5/5 [00:00<00:00,  7.28it/s]"
          ]
        },
        {
          "output_type": "stream",
          "name": "stdout",
          "text": [
            "                   all        147        147       0.87      0.769      0.882      0.438\n"
          ]
        },
        {
          "output_type": "stream",
          "name": "stderr",
          "text": [
            "\n"
          ]
        },
        {
          "output_type": "stream",
          "name": "stdout",
          "text": [
            "Closing dataloader mosaic\n",
            "\u001b[34m\u001b[1malbumentations: \u001b[0mBlur(p=0.01, blur_limit=(3, 7)), MedianBlur(p=0.01, blur_limit=(3, 7)), ToGray(p=0.01), CLAHE(p=0.01, clip_limit=(1, 4.0), tile_grid_size=(8, 8))\n"
          ]
        },
        {
          "output_type": "stream",
          "name": "stderr",
          "text": [
            "/usr/lib/python3.10/multiprocessing/popen_fork.py:66: RuntimeWarning: os.fork() was called. os.fork() is incompatible with multithreaded code, and JAX is multithreaded, so this will likely lead to a deadlock.\n",
            "  self.pid = os.fork()\n"
          ]
        },
        {
          "output_type": "stream",
          "name": "stdout",
          "text": [
            "\n",
            "      Epoch    GPU_mem   box_loss   cls_loss   dfl_loss  Instances       Size\n"
          ]
        },
        {
          "output_type": "stream",
          "name": "stderr",
          "text": [
            "      11/20      7.16G      1.552      1.109      1.517         11        640: 100%|██████████| 33/33 [00:05<00:00,  5.58it/s]\n",
            "                 Class     Images  Instances      Box(P          R      mAP50  mAP50-95): 100%|██████████| 5/5 [00:00<00:00,  6.61it/s]"
          ]
        },
        {
          "output_type": "stream",
          "name": "stdout",
          "text": [
            "                   all        147        147      0.775      0.755      0.791      0.374\n"
          ]
        },
        {
          "output_type": "stream",
          "name": "stderr",
          "text": [
            "\n"
          ]
        },
        {
          "output_type": "stream",
          "name": "stdout",
          "text": [
            "\n",
            "      Epoch    GPU_mem   box_loss   cls_loss   dfl_loss  Instances       Size\n"
          ]
        },
        {
          "output_type": "stream",
          "name": "stderr",
          "text": [
            "      12/20      7.17G      1.561      1.073       1.52         10        640: 100%|██████████| 33/33 [00:04<00:00,  7.59it/s]\n",
            "                 Class     Images  Instances      Box(P          R      mAP50  mAP50-95): 100%|██████████| 5/5 [00:00<00:00,  6.81it/s]"
          ]
        },
        {
          "output_type": "stream",
          "name": "stdout",
          "text": [
            "                   all        147        147      0.796       0.85      0.868      0.434\n"
          ]
        },
        {
          "output_type": "stream",
          "name": "stderr",
          "text": [
            "\n"
          ]
        },
        {
          "output_type": "stream",
          "name": "stdout",
          "text": [
            "\n",
            "      Epoch    GPU_mem   box_loss   cls_loss   dfl_loss  Instances       Size\n"
          ]
        },
        {
          "output_type": "stream",
          "name": "stderr",
          "text": [
            "      13/20      7.07G      1.548      1.042      1.488         10        640: 100%|██████████| 33/33 [00:04<00:00,  7.65it/s]\n",
            "                 Class     Images  Instances      Box(P          R      mAP50  mAP50-95): 100%|██████████| 5/5 [00:00<00:00,  7.13it/s]"
          ]
        },
        {
          "output_type": "stream",
          "name": "stdout",
          "text": [
            "                   all        147        147       0.78      0.776      0.815      0.423\n"
          ]
        },
        {
          "output_type": "stream",
          "name": "stderr",
          "text": [
            "\n"
          ]
        },
        {
          "output_type": "stream",
          "name": "stdout",
          "text": [
            "\n",
            "      Epoch    GPU_mem   box_loss   cls_loss   dfl_loss  Instances       Size\n"
          ]
        },
        {
          "output_type": "stream",
          "name": "stderr",
          "text": [
            "      14/20      7.16G      1.469     0.9783      1.433         11        640: 100%|██████████| 33/33 [00:04<00:00,  7.81it/s]\n",
            "                 Class     Images  Instances      Box(P          R      mAP50  mAP50-95): 100%|██████████| 5/5 [00:00<00:00,  6.74it/s]"
          ]
        },
        {
          "output_type": "stream",
          "name": "stdout",
          "text": [
            "                   all        147        147      0.847      0.828      0.903      0.482\n"
          ]
        },
        {
          "output_type": "stream",
          "name": "stderr",
          "text": [
            "\n"
          ]
        },
        {
          "output_type": "stream",
          "name": "stdout",
          "text": [
            "\n",
            "      Epoch    GPU_mem   box_loss   cls_loss   dfl_loss  Instances       Size\n"
          ]
        },
        {
          "output_type": "stream",
          "name": "stderr",
          "text": [
            "      15/20      7.16G      1.432     0.9182      1.385         11        640: 100%|██████████| 33/33 [00:04<00:00,  7.58it/s]\n",
            "                 Class     Images  Instances      Box(P          R      mAP50  mAP50-95): 100%|██████████| 5/5 [00:00<00:00,  6.92it/s]"
          ]
        },
        {
          "output_type": "stream",
          "name": "stdout",
          "text": [
            "                   all        147        147      0.852      0.823      0.875      0.459\n"
          ]
        },
        {
          "output_type": "stream",
          "name": "stderr",
          "text": [
            "\n"
          ]
        },
        {
          "output_type": "stream",
          "name": "stdout",
          "text": [
            "\n",
            "      Epoch    GPU_mem   box_loss   cls_loss   dfl_loss  Instances       Size\n"
          ]
        },
        {
          "output_type": "stream",
          "name": "stderr",
          "text": [
            "      16/20      7.15G      1.423     0.9118      1.414         11        640: 100%|██████████| 33/33 [00:04<00:00,  7.53it/s]\n",
            "                 Class     Images  Instances      Box(P          R      mAP50  mAP50-95): 100%|██████████| 5/5 [00:00<00:00,  6.78it/s]"
          ]
        },
        {
          "output_type": "stream",
          "name": "stdout",
          "text": [
            "                   all        147        147      0.835      0.905       0.92      0.507\n"
          ]
        },
        {
          "output_type": "stream",
          "name": "stderr",
          "text": [
            "\n"
          ]
        },
        {
          "output_type": "stream",
          "name": "stdout",
          "text": [
            "\n",
            "      Epoch    GPU_mem   box_loss   cls_loss   dfl_loss  Instances       Size\n"
          ]
        },
        {
          "output_type": "stream",
          "name": "stderr",
          "text": [
            "      17/20      7.06G       1.41     0.8616      1.378         10        640: 100%|██████████| 33/33 [00:04<00:00,  7.76it/s]\n",
            "                 Class     Images  Instances      Box(P          R      mAP50  mAP50-95): 100%|██████████| 5/5 [00:00<00:00,  7.19it/s]"
          ]
        },
        {
          "output_type": "stream",
          "name": "stdout",
          "text": [
            "                   all        147        147      0.858      0.891      0.922      0.498\n"
          ]
        },
        {
          "output_type": "stream",
          "name": "stderr",
          "text": [
            "\n"
          ]
        },
        {
          "output_type": "stream",
          "name": "stdout",
          "text": [
            "\n",
            "      Epoch    GPU_mem   box_loss   cls_loss   dfl_loss  Instances       Size\n"
          ]
        },
        {
          "output_type": "stream",
          "name": "stderr",
          "text": [
            "      18/20      7.16G      1.441       0.89      1.383         11        640: 100%|██████████| 33/33 [00:04<00:00,  7.67it/s]\n",
            "                 Class     Images  Instances      Box(P          R      mAP50  mAP50-95): 100%|██████████| 5/5 [00:00<00:00,  6.59it/s]"
          ]
        },
        {
          "output_type": "stream",
          "name": "stdout",
          "text": [
            "                   all        147        147      0.851       0.81      0.888      0.493\n"
          ]
        },
        {
          "output_type": "stream",
          "name": "stderr",
          "text": [
            "\n"
          ]
        },
        {
          "output_type": "stream",
          "name": "stdout",
          "text": [
            "\n",
            "      Epoch    GPU_mem   box_loss   cls_loss   dfl_loss  Instances       Size\n"
          ]
        },
        {
          "output_type": "stream",
          "name": "stderr",
          "text": [
            "      19/20      7.17G       1.39     0.8766       1.39         11        640: 100%|██████████| 33/33 [00:04<00:00,  7.63it/s]\n",
            "                 Class     Images  Instances      Box(P          R      mAP50  mAP50-95): 100%|██████████| 5/5 [00:00<00:00,  6.65it/s]"
          ]
        },
        {
          "output_type": "stream",
          "name": "stdout",
          "text": [
            "                   all        147        147      0.811       0.85      0.887      0.487\n"
          ]
        },
        {
          "output_type": "stream",
          "name": "stderr",
          "text": [
            "\n"
          ]
        },
        {
          "output_type": "stream",
          "name": "stdout",
          "text": [
            "\n",
            "      Epoch    GPU_mem   box_loss   cls_loss   dfl_loss  Instances       Size\n"
          ]
        },
        {
          "output_type": "stream",
          "name": "stderr",
          "text": [
            "      20/20      7.15G      1.325     0.8189      1.323         10        640: 100%|██████████| 33/33 [00:04<00:00,  7.56it/s]\n",
            "                 Class     Images  Instances      Box(P          R      mAP50  mAP50-95): 100%|██████████| 5/5 [00:00<00:00,  6.86it/s]"
          ]
        },
        {
          "output_type": "stream",
          "name": "stdout",
          "text": [
            "                   all        147        147      0.831      0.864      0.913      0.517\n"
          ]
        },
        {
          "output_type": "stream",
          "name": "stderr",
          "text": [
            "\n"
          ]
        },
        {
          "output_type": "stream",
          "name": "stdout",
          "text": [
            "\n",
            "20 epochs completed in 0.049 hours.\n",
            "Optimizer stripped from runs/detect/train5/weights/last.pt, 52.0MB\n",
            "Optimizer stripped from runs/detect/train5/weights/best.pt, 52.0MB\n",
            "\n",
            "Validating runs/detect/train5/weights/best.pt...\n",
            "Ultralytics YOLOv8.2.84 🚀 Python-3.10.12 torch-2.4.0+cu121 CUDA:0 (NVIDIA A100-SXM4-40GB, 40514MiB)\n",
            "Model summary (fused): 218 layers, 25,840,339 parameters, 0 gradients, 78.7 GFLOPs\n"
          ]
        },
        {
          "output_type": "stream",
          "name": "stderr",
          "text": [
            "                 Class     Images  Instances      Box(P          R      mAP50  mAP50-95): 100%|██████████| 5/5 [00:02<00:00,  2.24it/s]\n"
          ]
        },
        {
          "output_type": "stream",
          "name": "stdout",
          "text": [
            "                   all        147        147      0.832      0.864      0.912      0.515\n",
            "Speed: 0.1ms preprocess, 1.4ms inference, 0.0ms loss, 7.5ms postprocess per image\n",
            "Results saved to \u001b[1mruns/detect/train5\u001b[0m\n",
            "Ultralytics YOLOv8.2.84 🚀 Python-3.10.12 torch-2.4.0+cu121 CUDA:0 (NVIDIA A100-SXM4-40GB, 40514MiB)\n",
            "Model summary (fused): 218 layers, 25,840,339 parameters, 0 gradients, 78.7 GFLOPs\n"
          ]
        },
        {
          "output_type": "stream",
          "name": "stderr",
          "text": [
            "\u001b[34m\u001b[1mval: \u001b[0mScanning /content/drive/MyDrive/WildfireSmoke.v1-raw.yolov8/valid/labels.cache... 147 images, 0 backgrounds, 0 corrupt: 100%|██████████| 147/147 [00:00<?, ?it/s]\n",
            "/usr/lib/python3.10/multiprocessing/popen_fork.py:66: RuntimeWarning: os.fork() was called. os.fork() is incompatible with multithreaded code, and JAX is multithreaded, so this will likely lead to a deadlock.\n",
            "  self.pid = os.fork()\n",
            "                 Class     Images  Instances      Box(P          R      mAP50  mAP50-95): 100%|██████████| 10/10 [00:03<00:00,  3.09it/s]\n"
          ]
        },
        {
          "output_type": "stream",
          "name": "stdout",
          "text": [
            "                   all        147        147      0.821      0.864       0.91      0.514\n",
            "Speed: 0.1ms preprocess, 4.3ms inference, 0.0ms loss, 1.5ms postprocess per image\n",
            "Results saved to \u001b[1mruns/detect/train52\u001b[0m\n",
            "ultralytics.utils.metrics.DetMetrics object with attributes:\n",
            "\n",
            "ap_class_index: array([0])\n",
            "box: ultralytics.utils.metrics.Metric object\n",
            "confusion_matrix: <ultralytics.utils.metrics.ConfusionMatrix object at 0x7c90ca215ae0>\n",
            "curves: ['Precision-Recall(B)', 'F1-Confidence(B)', 'Precision-Confidence(B)', 'Recall-Confidence(B)']\n",
            "curves_results: [[array([          0,    0.001001,    0.002002,    0.003003,    0.004004,    0.005005,    0.006006,    0.007007,    0.008008,    0.009009,     0.01001,    0.011011,    0.012012,    0.013013,    0.014014,    0.015015,    0.016016,    0.017017,    0.018018,    0.019019,     0.02002,    0.021021,    0.022022,    0.023023,\n",
            "          0.024024,    0.025025,    0.026026,    0.027027,    0.028028,    0.029029,     0.03003,    0.031031,    0.032032,    0.033033,    0.034034,    0.035035,    0.036036,    0.037037,    0.038038,    0.039039,     0.04004,    0.041041,    0.042042,    0.043043,    0.044044,    0.045045,    0.046046,    0.047047,\n",
            "          0.048048,    0.049049,     0.05005,    0.051051,    0.052052,    0.053053,    0.054054,    0.055055,    0.056056,    0.057057,    0.058058,    0.059059,     0.06006,    0.061061,    0.062062,    0.063063,    0.064064,    0.065065,    0.066066,    0.067067,    0.068068,    0.069069,     0.07007,    0.071071,\n",
            "          0.072072,    0.073073,    0.074074,    0.075075,    0.076076,    0.077077,    0.078078,    0.079079,     0.08008,    0.081081,    0.082082,    0.083083,    0.084084,    0.085085,    0.086086,    0.087087,    0.088088,    0.089089,     0.09009,    0.091091,    0.092092,    0.093093,    0.094094,    0.095095,\n",
            "          0.096096,    0.097097,    0.098098,    0.099099,      0.1001,      0.1011,      0.1021,      0.1031,      0.1041,     0.10511,     0.10611,     0.10711,     0.10811,     0.10911,     0.11011,     0.11111,     0.11211,     0.11311,     0.11411,     0.11512,     0.11612,     0.11712,     0.11812,     0.11912,\n",
            "           0.12012,     0.12112,     0.12212,     0.12312,     0.12412,     0.12513,     0.12613,     0.12713,     0.12813,     0.12913,     0.13013,     0.13113,     0.13213,     0.13313,     0.13413,     0.13514,     0.13614,     0.13714,     0.13814,     0.13914,     0.14014,     0.14114,     0.14214,     0.14314,\n",
            "           0.14414,     0.14515,     0.14615,     0.14715,     0.14815,     0.14915,     0.15015,     0.15115,     0.15215,     0.15315,     0.15415,     0.15516,     0.15616,     0.15716,     0.15816,     0.15916,     0.16016,     0.16116,     0.16216,     0.16316,     0.16416,     0.16517,     0.16617,     0.16717,\n",
            "           0.16817,     0.16917,     0.17017,     0.17117,     0.17217,     0.17317,     0.17417,     0.17518,     0.17618,     0.17718,     0.17818,     0.17918,     0.18018,     0.18118,     0.18218,     0.18318,     0.18418,     0.18519,     0.18619,     0.18719,     0.18819,     0.18919,     0.19019,     0.19119,\n",
            "           0.19219,     0.19319,     0.19419,      0.1952,      0.1962,      0.1972,      0.1982,      0.1992,      0.2002,      0.2012,      0.2022,      0.2032,      0.2042,     0.20521,     0.20621,     0.20721,     0.20821,     0.20921,     0.21021,     0.21121,     0.21221,     0.21321,     0.21421,     0.21522,\n",
            "           0.21622,     0.21722,     0.21822,     0.21922,     0.22022,     0.22122,     0.22222,     0.22322,     0.22422,     0.22523,     0.22623,     0.22723,     0.22823,     0.22923,     0.23023,     0.23123,     0.23223,     0.23323,     0.23423,     0.23524,     0.23624,     0.23724,     0.23824,     0.23924,\n",
            "           0.24024,     0.24124,     0.24224,     0.24324,     0.24424,     0.24525,     0.24625,     0.24725,     0.24825,     0.24925,     0.25025,     0.25125,     0.25225,     0.25325,     0.25425,     0.25526,     0.25626,     0.25726,     0.25826,     0.25926,     0.26026,     0.26126,     0.26226,     0.26326,\n",
            "           0.26426,     0.26527,     0.26627,     0.26727,     0.26827,     0.26927,     0.27027,     0.27127,     0.27227,     0.27327,     0.27427,     0.27528,     0.27628,     0.27728,     0.27828,     0.27928,     0.28028,     0.28128,     0.28228,     0.28328,     0.28428,     0.28529,     0.28629,     0.28729,\n",
            "           0.28829,     0.28929,     0.29029,     0.29129,     0.29229,     0.29329,     0.29429,      0.2953,      0.2963,      0.2973,      0.2983,      0.2993,      0.3003,      0.3013,      0.3023,      0.3033,      0.3043,     0.30531,     0.30631,     0.30731,     0.30831,     0.30931,     0.31031,     0.31131,\n",
            "           0.31231,     0.31331,     0.31431,     0.31532,     0.31632,     0.31732,     0.31832,     0.31932,     0.32032,     0.32132,     0.32232,     0.32332,     0.32432,     0.32533,     0.32633,     0.32733,     0.32833,     0.32933,     0.33033,     0.33133,     0.33233,     0.33333,     0.33433,     0.33534,\n",
            "           0.33634,     0.33734,     0.33834,     0.33934,     0.34034,     0.34134,     0.34234,     0.34334,     0.34434,     0.34535,     0.34635,     0.34735,     0.34835,     0.34935,     0.35035,     0.35135,     0.35235,     0.35335,     0.35435,     0.35536,     0.35636,     0.35736,     0.35836,     0.35936,\n",
            "           0.36036,     0.36136,     0.36236,     0.36336,     0.36436,     0.36537,     0.36637,     0.36737,     0.36837,     0.36937,     0.37037,     0.37137,     0.37237,     0.37337,     0.37437,     0.37538,     0.37638,     0.37738,     0.37838,     0.37938,     0.38038,     0.38138,     0.38238,     0.38338,\n",
            "           0.38438,     0.38539,     0.38639,     0.38739,     0.38839,     0.38939,     0.39039,     0.39139,     0.39239,     0.39339,     0.39439,      0.3954,      0.3964,      0.3974,      0.3984,      0.3994,      0.4004,      0.4014,      0.4024,      0.4034,      0.4044,     0.40541,     0.40641,     0.40741,\n",
            "           0.40841,     0.40941,     0.41041,     0.41141,     0.41241,     0.41341,     0.41441,     0.41542,     0.41642,     0.41742,     0.41842,     0.41942,     0.42042,     0.42142,     0.42242,     0.42342,     0.42442,     0.42543,     0.42643,     0.42743,     0.42843,     0.42943,     0.43043,     0.43143,\n",
            "           0.43243,     0.43343,     0.43443,     0.43544,     0.43644,     0.43744,     0.43844,     0.43944,     0.44044,     0.44144,     0.44244,     0.44344,     0.44444,     0.44545,     0.44645,     0.44745,     0.44845,     0.44945,     0.45045,     0.45145,     0.45245,     0.45345,     0.45445,     0.45546,\n",
            "           0.45646,     0.45746,     0.45846,     0.45946,     0.46046,     0.46146,     0.46246,     0.46346,     0.46446,     0.46547,     0.46647,     0.46747,     0.46847,     0.46947,     0.47047,     0.47147,     0.47247,     0.47347,     0.47447,     0.47548,     0.47648,     0.47748,     0.47848,     0.47948,\n",
            "           0.48048,     0.48148,     0.48248,     0.48348,     0.48448,     0.48549,     0.48649,     0.48749,     0.48849,     0.48949,     0.49049,     0.49149,     0.49249,     0.49349,     0.49449,      0.4955,      0.4965,      0.4975,      0.4985,      0.4995,      0.5005,      0.5015,      0.5025,      0.5035,\n",
            "            0.5045,     0.50551,     0.50651,     0.50751,     0.50851,     0.50951,     0.51051,     0.51151,     0.51251,     0.51351,     0.51451,     0.51552,     0.51652,     0.51752,     0.51852,     0.51952,     0.52052,     0.52152,     0.52252,     0.52352,     0.52452,     0.52553,     0.52653,     0.52753,\n",
            "           0.52853,     0.52953,     0.53053,     0.53153,     0.53253,     0.53353,     0.53453,     0.53554,     0.53654,     0.53754,     0.53854,     0.53954,     0.54054,     0.54154,     0.54254,     0.54354,     0.54454,     0.54555,     0.54655,     0.54755,     0.54855,     0.54955,     0.55055,     0.55155,\n",
            "           0.55255,     0.55355,     0.55455,     0.55556,     0.55656,     0.55756,     0.55856,     0.55956,     0.56056,     0.56156,     0.56256,     0.56356,     0.56456,     0.56557,     0.56657,     0.56757,     0.56857,     0.56957,     0.57057,     0.57157,     0.57257,     0.57357,     0.57457,     0.57558,\n",
            "           0.57658,     0.57758,     0.57858,     0.57958,     0.58058,     0.58158,     0.58258,     0.58358,     0.58458,     0.58559,     0.58659,     0.58759,     0.58859,     0.58959,     0.59059,     0.59159,     0.59259,     0.59359,     0.59459,      0.5956,      0.5966,      0.5976,      0.5986,      0.5996,\n",
            "            0.6006,      0.6016,      0.6026,      0.6036,      0.6046,     0.60561,     0.60661,     0.60761,     0.60861,     0.60961,     0.61061,     0.61161,     0.61261,     0.61361,     0.61461,     0.61562,     0.61662,     0.61762,     0.61862,     0.61962,     0.62062,     0.62162,     0.62262,     0.62362,\n",
            "           0.62462,     0.62563,     0.62663,     0.62763,     0.62863,     0.62963,     0.63063,     0.63163,     0.63263,     0.63363,     0.63463,     0.63564,     0.63664,     0.63764,     0.63864,     0.63964,     0.64064,     0.64164,     0.64264,     0.64364,     0.64464,     0.64565,     0.64665,     0.64765,\n",
            "           0.64865,     0.64965,     0.65065,     0.65165,     0.65265,     0.65365,     0.65465,     0.65566,     0.65666,     0.65766,     0.65866,     0.65966,     0.66066,     0.66166,     0.66266,     0.66366,     0.66466,     0.66567,     0.66667,     0.66767,     0.66867,     0.66967,     0.67067,     0.67167,\n",
            "           0.67267,     0.67367,     0.67467,     0.67568,     0.67668,     0.67768,     0.67868,     0.67968,     0.68068,     0.68168,     0.68268,     0.68368,     0.68468,     0.68569,     0.68669,     0.68769,     0.68869,     0.68969,     0.69069,     0.69169,     0.69269,     0.69369,     0.69469,      0.6957,\n",
            "            0.6967,      0.6977,      0.6987,      0.6997,      0.7007,      0.7017,      0.7027,      0.7037,      0.7047,     0.70571,     0.70671,     0.70771,     0.70871,     0.70971,     0.71071,     0.71171,     0.71271,     0.71371,     0.71471,     0.71572,     0.71672,     0.71772,     0.71872,     0.71972,\n",
            "           0.72072,     0.72172,     0.72272,     0.72372,     0.72472,     0.72573,     0.72673,     0.72773,     0.72873,     0.72973,     0.73073,     0.73173,     0.73273,     0.73373,     0.73473,     0.73574,     0.73674,     0.73774,     0.73874,     0.73974,     0.74074,     0.74174,     0.74274,     0.74374,\n",
            "           0.74474,     0.74575,     0.74675,     0.74775,     0.74875,     0.74975,     0.75075,     0.75175,     0.75275,     0.75375,     0.75475,     0.75576,     0.75676,     0.75776,     0.75876,     0.75976,     0.76076,     0.76176,     0.76276,     0.76376,     0.76476,     0.76577,     0.76677,     0.76777,\n",
            "           0.76877,     0.76977,     0.77077,     0.77177,     0.77277,     0.77377,     0.77477,     0.77578,     0.77678,     0.77778,     0.77878,     0.77978,     0.78078,     0.78178,     0.78278,     0.78378,     0.78478,     0.78579,     0.78679,     0.78779,     0.78879,     0.78979,     0.79079,     0.79179,\n",
            "           0.79279,     0.79379,     0.79479,      0.7958,      0.7968,      0.7978,      0.7988,      0.7998,      0.8008,      0.8018,      0.8028,      0.8038,      0.8048,     0.80581,     0.80681,     0.80781,     0.80881,     0.80981,     0.81081,     0.81181,     0.81281,     0.81381,     0.81481,     0.81582,\n",
            "           0.81682,     0.81782,     0.81882,     0.81982,     0.82082,     0.82182,     0.82282,     0.82382,     0.82482,     0.82583,     0.82683,     0.82783,     0.82883,     0.82983,     0.83083,     0.83183,     0.83283,     0.83383,     0.83483,     0.83584,     0.83684,     0.83784,     0.83884,     0.83984,\n",
            "           0.84084,     0.84184,     0.84284,     0.84384,     0.84484,     0.84585,     0.84685,     0.84785,     0.84885,     0.84985,     0.85085,     0.85185,     0.85285,     0.85385,     0.85485,     0.85586,     0.85686,     0.85786,     0.85886,     0.85986,     0.86086,     0.86186,     0.86286,     0.86386,\n",
            "           0.86486,     0.86587,     0.86687,     0.86787,     0.86887,     0.86987,     0.87087,     0.87187,     0.87287,     0.87387,     0.87487,     0.87588,     0.87688,     0.87788,     0.87888,     0.87988,     0.88088,     0.88188,     0.88288,     0.88388,     0.88488,     0.88589,     0.88689,     0.88789,\n",
            "           0.88889,     0.88989,     0.89089,     0.89189,     0.89289,     0.89389,     0.89489,      0.8959,      0.8969,      0.8979,      0.8989,      0.8999,      0.9009,      0.9019,      0.9029,      0.9039,      0.9049,     0.90591,     0.90691,     0.90791,     0.90891,     0.90991,     0.91091,     0.91191,\n",
            "           0.91291,     0.91391,     0.91491,     0.91592,     0.91692,     0.91792,     0.91892,     0.91992,     0.92092,     0.92192,     0.92292,     0.92392,     0.92492,     0.92593,     0.92693,     0.92793,     0.92893,     0.92993,     0.93093,     0.93193,     0.93293,     0.93393,     0.93493,     0.93594,\n",
            "           0.93694,     0.93794,     0.93894,     0.93994,     0.94094,     0.94194,     0.94294,     0.94394,     0.94494,     0.94595,     0.94695,     0.94795,     0.94895,     0.94995,     0.95095,     0.95195,     0.95295,     0.95395,     0.95495,     0.95596,     0.95696,     0.95796,     0.95896,     0.95996,\n",
            "           0.96096,     0.96196,     0.96296,     0.96396,     0.96496,     0.96597,     0.96697,     0.96797,     0.96897,     0.96997,     0.97097,     0.97197,     0.97297,     0.97397,     0.97497,     0.97598,     0.97698,     0.97798,     0.97898,     0.97998,     0.98098,     0.98198,     0.98298,     0.98398,\n",
            "           0.98498,     0.98599,     0.98699,     0.98799,     0.98899,     0.98999,     0.99099,     0.99199,     0.99299,     0.99399,     0.99499,       0.996,       0.997,       0.998,       0.999,           1]), array([[          1,           1,           1,           1,           1,           1,           1,           1,           1,           1,           1,           1,           1,           1,           1,           1,           1,           1,           1,           1,           1,           1,           1,\n",
            "                  1,           1,           1,           1,           1,           1,           1,           1,           1,           1,           1,           1,           1,           1,           1,           1,           1,           1,           1,           1,           1,           1,           1,\n",
            "                  1,           1,           1,           1,           1,           1,           1,           1,           1,           1,           1,           1,           1,           1,           1,           1,           1,           1,           1,           1,           1,           1,           1,\n",
            "                  1,           1,           1,           1,           1,           1,           1,           1,           1,           1,           1,           1,           1,           1,           1,           1,           1,           1,           1,           1,           1,           1,           1,\n",
            "                  1,           1,           1,           1,           1,           1,           1,           1,           1,           1,           1,           1,           1,           1,           1,           1,           1,           1,           1,           1,           1,           1,           1,\n",
            "                  1,           1,           1,           1,           1,           1,           1,           1,           1,           1,           1,           1,           1,           1,           1,           1,           1,           1,           1,           1,           1,           1,           1,\n",
            "                  1,           1,           1,           1,           1,           1,           1,           1,           1,           1,           1,           1,           1,           1,           1,           1,           1,           1,           1,           1,           1,           1,           1,\n",
            "                  1,           1,           1,           1,           1,           1,           1,           1,           1,           1,           1,           1,           1,           1,           1,           1,           1,           1,           1,           1,           1,           1,           1,\n",
            "                  1,           1,           1,           1,           1,           1,           1,           1,           1,           1,           1,           1,           1,           1,           1,           1,           1,           1,           1,           1,           1,           1,           1,\n",
            "                  1,           1,           1,           1,           1,           1,           1,           1,           1,           1,           1,           1,           1,           1,           1,           1,           1,           1,           1,           1,           1,           1,           1,\n",
            "                  1,           1,           1,           1,           1,           1,           1,           1,           1,           1,           1,           1,           1,           1,           1,           1,           1,           1,           1,           1,           1,           1,           1,\n",
            "                  1,           1,           1,           1,           1,           1,           1,           1,           1,           1,           1,           1,           1,           1,           1,           1,           1,           1,           1,           1,           1,           1,           1,\n",
            "                  1,           1,           1,           1,           1,           1,           1,           1,           1,           1,           1,           1,           1,           1,           1,           1,           1,           1,           1,           1,           1,           1,           1,\n",
            "                  1,           1,           1,           1,           1,           1,           1,           1,           1,           1,           1,           1,           1,           1,           1,           1,           1,           1,           1,           1,           1,     0.98438,     0.98438,\n",
            "            0.98438,     0.98438,     0.98438,     0.98438,     0.98438,     0.98438,     0.98438,     0.98438,     0.98438,     0.98438,     0.98438,     0.98438,     0.98438,     0.98438,     0.98438,     0.98438,     0.98438,     0.98438,     0.98438,     0.98438,     0.98438,     0.98438,     0.98438,\n",
            "            0.98438,     0.98438,     0.98438,     0.98438,     0.98438,     0.98438,     0.98438,     0.98438,     0.98438,     0.98438,     0.98438,     0.98438,     0.98438,     0.98438,     0.98438,     0.98438,     0.98438,     0.98438,     0.98438,     0.98438,     0.98438,     0.98438,     0.98438,\n",
            "            0.98438,     0.98438,     0.98438,     0.98438,     0.98438,     0.98438,     0.98438,     0.98438,     0.98438,     0.98438,     0.98438,     0.98438,     0.98438,     0.98438,     0.98438,     0.98438,     0.98438,     0.98438,     0.98438,     0.98438,     0.98438,     0.98438,     0.98438,\n",
            "            0.98438,     0.98438,     0.98438,     0.98438,     0.98438,     0.98438,     0.98438,     0.98438,     0.98438,     0.98438,     0.98438,     0.98438,     0.98438,     0.98438,     0.98438,     0.98438,     0.98438,     0.98438,     0.98438,     0.98438,     0.98438,     0.98438,     0.98438,\n",
            "            0.98438,     0.98438,     0.98438,     0.98438,     0.98438,     0.98438,     0.98438,     0.98438,     0.98438,     0.98438,     0.98438,     0.98438,     0.98438,     0.98438,     0.98438,     0.97059,     0.97059,     0.97059,     0.97059,     0.97059,     0.97059,     0.97059,     0.97059,\n",
            "            0.97059,     0.97059,     0.97059,     0.97059,     0.97059,     0.97059,     0.97059,     0.97059,     0.97059,     0.97059,     0.97059,     0.97059,     0.96341,     0.96341,     0.96341,     0.96341,     0.96341,     0.96341,     0.96341,     0.96341,     0.96341,     0.96341,     0.96341,\n",
            "            0.96341,     0.96341,     0.96341,     0.96341,     0.96341,     0.96341,     0.96341,     0.96341,     0.96341,     0.96341,     0.96341,     0.96341,     0.96341,     0.96341,     0.96341,     0.96341,     0.96341,     0.96341,     0.96341,     0.96341,     0.96341,     0.96341,     0.96341,\n",
            "            0.96341,     0.96341,     0.96341,     0.96341,     0.96341,     0.96341,     0.96341,     0.96341,     0.96341,     0.96341,     0.96341,     0.96341,     0.96341,     0.96341,     0.96341,     0.96341,     0.96341,     0.96341,     0.96341,     0.96341,     0.96341,     0.96341,     0.96341,\n",
            "            0.96341,     0.96341,     0.96341,     0.96341,     0.96341,     0.96341,     0.96341,     0.96341,     0.96341,     0.96341,     0.96341,     0.96341,     0.96341,     0.96341,     0.96341,     0.96341,     0.96341,     0.96341,     0.96341,     0.96341,     0.96341,     0.96341,     0.96341,\n",
            "            0.96341,     0.96341,     0.96341,     0.96341,     0.96341,     0.96341,     0.96341,     0.96341,     0.95238,     0.95238,     0.95238,     0.95238,     0.95238,     0.95238,     0.95238,     0.94186,     0.94186,     0.94186,     0.94186,     0.94186,     0.94186,     0.94186,        0.94,\n",
            "               0.94,        0.94,        0.94,        0.94,        0.94,        0.94,        0.94,        0.94,        0.94,        0.94,        0.94,        0.94,        0.94,        0.94,        0.94,        0.94,        0.94,        0.94,        0.94,        0.94,        0.94,        0.94,        0.94,\n",
            "               0.94,        0.94,        0.94,        0.94,        0.94,        0.94,        0.94,        0.94,        0.94,        0.94,        0.94,        0.94,        0.94,        0.94,        0.94,        0.94,        0.94,        0.94,        0.94,        0.94,        0.94,        0.94,        0.94,\n",
            "               0.94,        0.94,        0.94,        0.94,        0.94,        0.94,        0.94,        0.94,        0.94,        0.94,        0.94,        0.94,        0.94,        0.94,        0.94,        0.94,        0.94,        0.94,        0.94,        0.94,        0.94,        0.94,        0.94,\n",
            "               0.94,        0.94,        0.94,        0.94,        0.94,        0.94,        0.94,        0.94,        0.94,        0.94,        0.94,        0.94,        0.94,        0.94,        0.94,        0.94,        0.94,        0.94,     0.93137,     0.93137,     0.93137,     0.93137,     0.93137,\n",
            "            0.93137,     0.93137,     0.92381,     0.92381,     0.92381,     0.92381,     0.92381,     0.92381,     0.92381,     0.92381,     0.92381,     0.92381,     0.92381,     0.92381,     0.92381,     0.92381,     0.90826,     0.90826,     0.90826,     0.90826,     0.90826,     0.90826,     0.90826,\n",
            "            0.90826,     0.90826,     0.90826,     0.90826,     0.90826,     0.90826,      0.9009,      0.9009,      0.9009,      0.9009,      0.9009,      0.9009,      0.9009,     0.89655,     0.89655,     0.89655,     0.89655,     0.89655,     0.89655,     0.89655,     0.89655,     0.89655,     0.89655,\n",
            "            0.89655,     0.89655,     0.89655,     0.89655,     0.89655,     0.89655,     0.89655,     0.89655,     0.89655,     0.89655,     0.89655,     0.89655,     0.89655,     0.89655,     0.89655,     0.89655,     0.89655,     0.89231,     0.89231,     0.89231,     0.89231,     0.89231,     0.89231,\n",
            "            0.89231,     0.89231,     0.89231,     0.89231,     0.89231,     0.89231,     0.89231,     0.89231,     0.89231,     0.89231,     0.89231,     0.89231,     0.89231,     0.89231,     0.89231,     0.89231,     0.89231,     0.89231,     0.89231,     0.89231,     0.89231,     0.89231,     0.89231,\n",
            "            0.89231,     0.89231,     0.89231,     0.89231,     0.89231,     0.89231,     0.89231,     0.89231,     0.89231,     0.89231,     0.89231,     0.89231,     0.89231,     0.89231,     0.89231,     0.89231,     0.89231,     0.89231,     0.89231,     0.89231,     0.89231,     0.89231,     0.89231,\n",
            "            0.89231,     0.89231,     0.89231,     0.89231,     0.89231,     0.89231,     0.89231,     0.89231,     0.89231,     0.89231,     0.89231,     0.89231,     0.89231,     0.89231,     0.89231,     0.89231,     0.89231,     0.89231,     0.89231,     0.89231,     0.89231,     0.89231,     0.89231,\n",
            "            0.89231,     0.89231,     0.89231,     0.89231,     0.89231,     0.89231,     0.89231,     0.88148,     0.88148,     0.88148,     0.88148,     0.88148,     0.88148,     0.88148,     0.88148,     0.88148,     0.88148,     0.88148,     0.88148,     0.88148,     0.88148,     0.88148,     0.88148,\n",
            "            0.88148,     0.88148,     0.88148,     0.88148,     0.87591,     0.87591,     0.87591,     0.87591,     0.87591,     0.87591,     0.87591,     0.86525,     0.86525,     0.86525,     0.86525,     0.86525,     0.86525,     0.86525,     0.86525,     0.86525,     0.86525,     0.86525,     0.86525,\n",
            "            0.86525,     0.86525,     0.86014,     0.86014,     0.86014,     0.86014,     0.86014,     0.86014,     0.85616,     0.85616,     0.85616,     0.85616,     0.85616,     0.85616,     0.85616,     0.85616,     0.85616,     0.85616,     0.85616,     0.85616,     0.85616,     0.85616,     0.84564,\n",
            "            0.84564,     0.84564,     0.84564,     0.84564,     0.84564,     0.84564,     0.84106,     0.84106,     0.84106,     0.84106,     0.84106,     0.84106,     0.84106,     0.82166,     0.82166,     0.82166,     0.82166,     0.82166,     0.82166,     0.82166,     0.82166,     0.82166,     0.82166,\n",
            "            0.82166,     0.82166,     0.82166,     0.81366,     0.81366,     0.81366,     0.81366,     0.81366,     0.81366,     0.81366,     0.81366,     0.81366,     0.81366,     0.81366,     0.81366,     0.81366,     0.81366,     0.80982,     0.80982,     0.80982,     0.80982,     0.80982,     0.80982,\n",
            "            0.80982,     0.75141,     0.75141,     0.75141,     0.75141,     0.75141,     0.75141,     0.74444,     0.74444,     0.74444,     0.74444,     0.74444,     0.74444,     0.74444,      0.7337,      0.7337,      0.7337,      0.7337,      0.7337,      0.7337,      0.7337,     0.73118,     0.73118,\n",
            "            0.73118,     0.73118,     0.73118,     0.73118,     0.73118,     0.71728,     0.71728,     0.71728,     0.71728,     0.71728,     0.71728,     0.71728,     0.70051,     0.70051,     0.70051,     0.70051,     0.70051,     0.70051,     0.68473,     0.68473,     0.68473,     0.68473,     0.68473,\n",
            "            0.68473,     0.68473,     0.68293,     0.68293,     0.68293,     0.68293,     0.68293,     0.68293,     0.68293,     0.60256,     0.60256,     0.60256,     0.60256,     0.60256,     0.60256,     0.60256,     0.56349,     0.56349,     0.56349,     0.56349,     0.56349,     0.56349,     0.56349,\n",
            "                0.5,         0.5,         0.5,         0.5,         0.5,         0.5,     0.34123,     0.34123,     0.34123,     0.34123,     0.34123,     0.34123,     0.34123,     0.33333,     0.33333,     0.33333,     0.33333,     0.33333,     0.33333,     0.33333,     0.12901,     0.11909,     0.10916,\n",
            "           0.099239,    0.089315,    0.079391,    0.069467,    0.059543,    0.049619,    0.039696,    0.029772,    0.019848,   0.0099239,           0]]), 'Recall', 'Precision'], [array([          0,    0.001001,    0.002002,    0.003003,    0.004004,    0.005005,    0.006006,    0.007007,    0.008008,    0.009009,     0.01001,    0.011011,    0.012012,    0.013013,    0.014014,    0.015015,    0.016016,    0.017017,    0.018018,    0.019019,     0.02002,    0.021021,    0.022022,    0.023023,\n",
            "          0.024024,    0.025025,    0.026026,    0.027027,    0.028028,    0.029029,     0.03003,    0.031031,    0.032032,    0.033033,    0.034034,    0.035035,    0.036036,    0.037037,    0.038038,    0.039039,     0.04004,    0.041041,    0.042042,    0.043043,    0.044044,    0.045045,    0.046046,    0.047047,\n",
            "          0.048048,    0.049049,     0.05005,    0.051051,    0.052052,    0.053053,    0.054054,    0.055055,    0.056056,    0.057057,    0.058058,    0.059059,     0.06006,    0.061061,    0.062062,    0.063063,    0.064064,    0.065065,    0.066066,    0.067067,    0.068068,    0.069069,     0.07007,    0.071071,\n",
            "          0.072072,    0.073073,    0.074074,    0.075075,    0.076076,    0.077077,    0.078078,    0.079079,     0.08008,    0.081081,    0.082082,    0.083083,    0.084084,    0.085085,    0.086086,    0.087087,    0.088088,    0.089089,     0.09009,    0.091091,    0.092092,    0.093093,    0.094094,    0.095095,\n",
            "          0.096096,    0.097097,    0.098098,    0.099099,      0.1001,      0.1011,      0.1021,      0.1031,      0.1041,     0.10511,     0.10611,     0.10711,     0.10811,     0.10911,     0.11011,     0.11111,     0.11211,     0.11311,     0.11411,     0.11512,     0.11612,     0.11712,     0.11812,     0.11912,\n",
            "           0.12012,     0.12112,     0.12212,     0.12312,     0.12412,     0.12513,     0.12613,     0.12713,     0.12813,     0.12913,     0.13013,     0.13113,     0.13213,     0.13313,     0.13413,     0.13514,     0.13614,     0.13714,     0.13814,     0.13914,     0.14014,     0.14114,     0.14214,     0.14314,\n",
            "           0.14414,     0.14515,     0.14615,     0.14715,     0.14815,     0.14915,     0.15015,     0.15115,     0.15215,     0.15315,     0.15415,     0.15516,     0.15616,     0.15716,     0.15816,     0.15916,     0.16016,     0.16116,     0.16216,     0.16316,     0.16416,     0.16517,     0.16617,     0.16717,\n",
            "           0.16817,     0.16917,     0.17017,     0.17117,     0.17217,     0.17317,     0.17417,     0.17518,     0.17618,     0.17718,     0.17818,     0.17918,     0.18018,     0.18118,     0.18218,     0.18318,     0.18418,     0.18519,     0.18619,     0.18719,     0.18819,     0.18919,     0.19019,     0.19119,\n",
            "           0.19219,     0.19319,     0.19419,      0.1952,      0.1962,      0.1972,      0.1982,      0.1992,      0.2002,      0.2012,      0.2022,      0.2032,      0.2042,     0.20521,     0.20621,     0.20721,     0.20821,     0.20921,     0.21021,     0.21121,     0.21221,     0.21321,     0.21421,     0.21522,\n",
            "           0.21622,     0.21722,     0.21822,     0.21922,     0.22022,     0.22122,     0.22222,     0.22322,     0.22422,     0.22523,     0.22623,     0.22723,     0.22823,     0.22923,     0.23023,     0.23123,     0.23223,     0.23323,     0.23423,     0.23524,     0.23624,     0.23724,     0.23824,     0.23924,\n",
            "           0.24024,     0.24124,     0.24224,     0.24324,     0.24424,     0.24525,     0.24625,     0.24725,     0.24825,     0.24925,     0.25025,     0.25125,     0.25225,     0.25325,     0.25425,     0.25526,     0.25626,     0.25726,     0.25826,     0.25926,     0.26026,     0.26126,     0.26226,     0.26326,\n",
            "           0.26426,     0.26527,     0.26627,     0.26727,     0.26827,     0.26927,     0.27027,     0.27127,     0.27227,     0.27327,     0.27427,     0.27528,     0.27628,     0.27728,     0.27828,     0.27928,     0.28028,     0.28128,     0.28228,     0.28328,     0.28428,     0.28529,     0.28629,     0.28729,\n",
            "           0.28829,     0.28929,     0.29029,     0.29129,     0.29229,     0.29329,     0.29429,      0.2953,      0.2963,      0.2973,      0.2983,      0.2993,      0.3003,      0.3013,      0.3023,      0.3033,      0.3043,     0.30531,     0.30631,     0.30731,     0.30831,     0.30931,     0.31031,     0.31131,\n",
            "           0.31231,     0.31331,     0.31431,     0.31532,     0.31632,     0.31732,     0.31832,     0.31932,     0.32032,     0.32132,     0.32232,     0.32332,     0.32432,     0.32533,     0.32633,     0.32733,     0.32833,     0.32933,     0.33033,     0.33133,     0.33233,     0.33333,     0.33433,     0.33534,\n",
            "           0.33634,     0.33734,     0.33834,     0.33934,     0.34034,     0.34134,     0.34234,     0.34334,     0.34434,     0.34535,     0.34635,     0.34735,     0.34835,     0.34935,     0.35035,     0.35135,     0.35235,     0.35335,     0.35435,     0.35536,     0.35636,     0.35736,     0.35836,     0.35936,\n",
            "           0.36036,     0.36136,     0.36236,     0.36336,     0.36436,     0.36537,     0.36637,     0.36737,     0.36837,     0.36937,     0.37037,     0.37137,     0.37237,     0.37337,     0.37437,     0.37538,     0.37638,     0.37738,     0.37838,     0.37938,     0.38038,     0.38138,     0.38238,     0.38338,\n",
            "           0.38438,     0.38539,     0.38639,     0.38739,     0.38839,     0.38939,     0.39039,     0.39139,     0.39239,     0.39339,     0.39439,      0.3954,      0.3964,      0.3974,      0.3984,      0.3994,      0.4004,      0.4014,      0.4024,      0.4034,      0.4044,     0.40541,     0.40641,     0.40741,\n",
            "           0.40841,     0.40941,     0.41041,     0.41141,     0.41241,     0.41341,     0.41441,     0.41542,     0.41642,     0.41742,     0.41842,     0.41942,     0.42042,     0.42142,     0.42242,     0.42342,     0.42442,     0.42543,     0.42643,     0.42743,     0.42843,     0.42943,     0.43043,     0.43143,\n",
            "           0.43243,     0.43343,     0.43443,     0.43544,     0.43644,     0.43744,     0.43844,     0.43944,     0.44044,     0.44144,     0.44244,     0.44344,     0.44444,     0.44545,     0.44645,     0.44745,     0.44845,     0.44945,     0.45045,     0.45145,     0.45245,     0.45345,     0.45445,     0.45546,\n",
            "           0.45646,     0.45746,     0.45846,     0.45946,     0.46046,     0.46146,     0.46246,     0.46346,     0.46446,     0.46547,     0.46647,     0.46747,     0.46847,     0.46947,     0.47047,     0.47147,     0.47247,     0.47347,     0.47447,     0.47548,     0.47648,     0.47748,     0.47848,     0.47948,\n",
            "           0.48048,     0.48148,     0.48248,     0.48348,     0.48448,     0.48549,     0.48649,     0.48749,     0.48849,     0.48949,     0.49049,     0.49149,     0.49249,     0.49349,     0.49449,      0.4955,      0.4965,      0.4975,      0.4985,      0.4995,      0.5005,      0.5015,      0.5025,      0.5035,\n",
            "            0.5045,     0.50551,     0.50651,     0.50751,     0.50851,     0.50951,     0.51051,     0.51151,     0.51251,     0.51351,     0.51451,     0.51552,     0.51652,     0.51752,     0.51852,     0.51952,     0.52052,     0.52152,     0.52252,     0.52352,     0.52452,     0.52553,     0.52653,     0.52753,\n",
            "           0.52853,     0.52953,     0.53053,     0.53153,     0.53253,     0.53353,     0.53453,     0.53554,     0.53654,     0.53754,     0.53854,     0.53954,     0.54054,     0.54154,     0.54254,     0.54354,     0.54454,     0.54555,     0.54655,     0.54755,     0.54855,     0.54955,     0.55055,     0.55155,\n",
            "           0.55255,     0.55355,     0.55455,     0.55556,     0.55656,     0.55756,     0.55856,     0.55956,     0.56056,     0.56156,     0.56256,     0.56356,     0.56456,     0.56557,     0.56657,     0.56757,     0.56857,     0.56957,     0.57057,     0.57157,     0.57257,     0.57357,     0.57457,     0.57558,\n",
            "           0.57658,     0.57758,     0.57858,     0.57958,     0.58058,     0.58158,     0.58258,     0.58358,     0.58458,     0.58559,     0.58659,     0.58759,     0.58859,     0.58959,     0.59059,     0.59159,     0.59259,     0.59359,     0.59459,      0.5956,      0.5966,      0.5976,      0.5986,      0.5996,\n",
            "            0.6006,      0.6016,      0.6026,      0.6036,      0.6046,     0.60561,     0.60661,     0.60761,     0.60861,     0.60961,     0.61061,     0.61161,     0.61261,     0.61361,     0.61461,     0.61562,     0.61662,     0.61762,     0.61862,     0.61962,     0.62062,     0.62162,     0.62262,     0.62362,\n",
            "           0.62462,     0.62563,     0.62663,     0.62763,     0.62863,     0.62963,     0.63063,     0.63163,     0.63263,     0.63363,     0.63463,     0.63564,     0.63664,     0.63764,     0.63864,     0.63964,     0.64064,     0.64164,     0.64264,     0.64364,     0.64464,     0.64565,     0.64665,     0.64765,\n",
            "           0.64865,     0.64965,     0.65065,     0.65165,     0.65265,     0.65365,     0.65465,     0.65566,     0.65666,     0.65766,     0.65866,     0.65966,     0.66066,     0.66166,     0.66266,     0.66366,     0.66466,     0.66567,     0.66667,     0.66767,     0.66867,     0.66967,     0.67067,     0.67167,\n",
            "           0.67267,     0.67367,     0.67467,     0.67568,     0.67668,     0.67768,     0.67868,     0.67968,     0.68068,     0.68168,     0.68268,     0.68368,     0.68468,     0.68569,     0.68669,     0.68769,     0.68869,     0.68969,     0.69069,     0.69169,     0.69269,     0.69369,     0.69469,      0.6957,\n",
            "            0.6967,      0.6977,      0.6987,      0.6997,      0.7007,      0.7017,      0.7027,      0.7037,      0.7047,     0.70571,     0.70671,     0.70771,     0.70871,     0.70971,     0.71071,     0.71171,     0.71271,     0.71371,     0.71471,     0.71572,     0.71672,     0.71772,     0.71872,     0.71972,\n",
            "           0.72072,     0.72172,     0.72272,     0.72372,     0.72472,     0.72573,     0.72673,     0.72773,     0.72873,     0.72973,     0.73073,     0.73173,     0.73273,     0.73373,     0.73473,     0.73574,     0.73674,     0.73774,     0.73874,     0.73974,     0.74074,     0.74174,     0.74274,     0.74374,\n",
            "           0.74474,     0.74575,     0.74675,     0.74775,     0.74875,     0.74975,     0.75075,     0.75175,     0.75275,     0.75375,     0.75475,     0.75576,     0.75676,     0.75776,     0.75876,     0.75976,     0.76076,     0.76176,     0.76276,     0.76376,     0.76476,     0.76577,     0.76677,     0.76777,\n",
            "           0.76877,     0.76977,     0.77077,     0.77177,     0.77277,     0.77377,     0.77477,     0.77578,     0.77678,     0.77778,     0.77878,     0.77978,     0.78078,     0.78178,     0.78278,     0.78378,     0.78478,     0.78579,     0.78679,     0.78779,     0.78879,     0.78979,     0.79079,     0.79179,\n",
            "           0.79279,     0.79379,     0.79479,      0.7958,      0.7968,      0.7978,      0.7988,      0.7998,      0.8008,      0.8018,      0.8028,      0.8038,      0.8048,     0.80581,     0.80681,     0.80781,     0.80881,     0.80981,     0.81081,     0.81181,     0.81281,     0.81381,     0.81481,     0.81582,\n",
            "           0.81682,     0.81782,     0.81882,     0.81982,     0.82082,     0.82182,     0.82282,     0.82382,     0.82482,     0.82583,     0.82683,     0.82783,     0.82883,     0.82983,     0.83083,     0.83183,     0.83283,     0.83383,     0.83483,     0.83584,     0.83684,     0.83784,     0.83884,     0.83984,\n",
            "           0.84084,     0.84184,     0.84284,     0.84384,     0.84484,     0.84585,     0.84685,     0.84785,     0.84885,     0.84985,     0.85085,     0.85185,     0.85285,     0.85385,     0.85485,     0.85586,     0.85686,     0.85786,     0.85886,     0.85986,     0.86086,     0.86186,     0.86286,     0.86386,\n",
            "           0.86486,     0.86587,     0.86687,     0.86787,     0.86887,     0.86987,     0.87087,     0.87187,     0.87287,     0.87387,     0.87487,     0.87588,     0.87688,     0.87788,     0.87888,     0.87988,     0.88088,     0.88188,     0.88288,     0.88388,     0.88488,     0.88589,     0.88689,     0.88789,\n",
            "           0.88889,     0.88989,     0.89089,     0.89189,     0.89289,     0.89389,     0.89489,      0.8959,      0.8969,      0.8979,      0.8989,      0.8999,      0.9009,      0.9019,      0.9029,      0.9039,      0.9049,     0.90591,     0.90691,     0.90791,     0.90891,     0.90991,     0.91091,     0.91191,\n",
            "           0.91291,     0.91391,     0.91491,     0.91592,     0.91692,     0.91792,     0.91892,     0.91992,     0.92092,     0.92192,     0.92292,     0.92392,     0.92492,     0.92593,     0.92693,     0.92793,     0.92893,     0.92993,     0.93093,     0.93193,     0.93293,     0.93393,     0.93493,     0.93594,\n",
            "           0.93694,     0.93794,     0.93894,     0.93994,     0.94094,     0.94194,     0.94294,     0.94394,     0.94494,     0.94595,     0.94695,     0.94795,     0.94895,     0.94995,     0.95095,     0.95195,     0.95295,     0.95395,     0.95495,     0.95596,     0.95696,     0.95796,     0.95896,     0.95996,\n",
            "           0.96096,     0.96196,     0.96296,     0.96396,     0.96496,     0.96597,     0.96697,     0.96797,     0.96897,     0.96997,     0.97097,     0.97197,     0.97297,     0.97397,     0.97497,     0.97598,     0.97698,     0.97798,     0.97898,     0.97998,     0.98098,     0.98198,     0.98298,     0.98398,\n",
            "           0.98498,     0.98599,     0.98699,     0.98799,     0.98899,     0.98999,     0.99099,     0.99199,     0.99299,     0.99399,     0.99499,       0.996,       0.997,       0.998,       0.999,           1]), array([[    0.23732,     0.23732,     0.30901,     0.35276,     0.38179,     0.39737,     0.41085,     0.42323,     0.43637,     0.44901,     0.45637,     0.46648,     0.47704,     0.48463,       0.488,     0.49493,     0.49589,     0.50149,     0.50729,     0.51406,     0.51884,      0.5224,      0.5284,\n",
            "            0.53256,     0.53996,     0.54222,     0.54799,      0.5509,     0.55538,     0.55835,     0.55959,     0.56223,     0.56336,     0.57074,     0.57518,     0.58079,     0.58342,     0.58886,      0.5927,     0.59411,     0.59691,     0.59789,     0.59881,     0.60181,     0.60613,     0.60762,\n",
            "             0.6083,     0.60925,     0.61132,     0.61335,     0.61824,        0.62,     0.62342,     0.62468,     0.62537,     0.62669,     0.62764,     0.62818,     0.62875,     0.62936,     0.62999,     0.63171,     0.63459,     0.63709,     0.63838,     0.63888,     0.63938,     0.64057,      0.6425,\n",
            "            0.64383,     0.64713,     0.64858,     0.65083,     0.65209,     0.65301,     0.65673,     0.65916,     0.65916,     0.66078,     0.66212,     0.66293,     0.66402,     0.66628,     0.66936,      0.6712,     0.67408,     0.67545,      0.6781,     0.68022,     0.68139,     0.68175,     0.68212,\n",
            "            0.68248,      0.6829,     0.68339,     0.68389,     0.68465,     0.68646,     0.68725,     0.68808,     0.68896,     0.69093,     0.69264,     0.69435,     0.69906,     0.69988,     0.70038,     0.70088,     0.70216,      0.7044,     0.70518,     0.70573,     0.70628,     0.70704,     0.70792,\n",
            "            0.70877,     0.70961,     0.71137,     0.70914,     0.70872,     0.70896,     0.70921,     0.70945,     0.70969,     0.70994,     0.71018,     0.71118,     0.71446,     0.71545,     0.71762,      0.7182,     0.71878,     0.71936,     0.72216,     0.72334,     0.72497,     0.72587,     0.72678,\n",
            "            0.72719,     0.72759,     0.72799,     0.72838,     0.72904,      0.7305,     0.73244,     0.73447,     0.73493,      0.7354,     0.73587,     0.73686,     0.73994,     0.73698,     0.73728,     0.73774,      0.7382,     0.73866,     0.73974,     0.74102,     0.74218,     0.74353,     0.74502,\n",
            "            0.74643,     0.74739,     0.74826,       0.749,     0.74962,     0.75025,     0.75291,     0.75458,      0.7555,     0.75636,     0.75701,     0.75749,     0.75796,     0.75843,     0.75892,     0.75948,     0.76004,      0.7606,     0.76099,     0.76121,     0.76144,     0.76167,      0.7619,\n",
            "            0.76213,     0.76235,     0.76258,     0.76281,     0.76615,     0.77121,     0.77252,     0.77357,     0.77402,     0.77446,     0.77491,     0.77535,      0.7778,     0.77808,     0.77835,     0.77863,      0.7789,     0.77918,     0.77945,     0.77972,     0.78033,     0.78247,     0.78667,\n",
            "            0.78696,     0.78725,     0.78755,     0.78784,     0.78813,     0.78843,     0.78872,      0.7891,     0.78948,     0.78986,     0.79024,     0.79062,     0.79101,     0.79144,     0.79187,     0.79229,     0.79272,     0.79315,     0.79531,     0.79362,     0.79206,     0.79229,     0.79251,\n",
            "            0.79274,     0.79296,     0.79319,     0.79341,     0.79364,     0.79386,     0.79408,     0.79375,     0.79179,     0.79492,     0.79595,     0.79656,     0.79718,     0.79777,     0.79825,     0.79873,      0.7992,     0.79968,      0.8004,     0.80166,     0.79973,     0.80028,     0.80205,\n",
            "            0.80534,     0.80611,     0.80635,     0.80659,     0.80683,     0.80706,      0.8073,     0.80754,     0.80778,     0.80802,     0.80826,     0.80905,     0.80985,     0.81063,      0.8077,     0.81043,     0.81343,     0.81668,     0.81627,     0.81585,     0.81544,     0.81502,     0.81461,\n",
            "            0.81419,     0.81378,     0.81336,     0.81483,     0.81352,      0.8122,     0.81236,     0.81261,     0.81286,     0.81311,     0.81336,     0.81361,     0.81386,     0.81411,     0.81436,     0.81633,     0.81615,     0.81648,     0.81681,     0.81713,     0.81746,     0.81778,     0.81811,\n",
            "            0.81843,     0.81884,     0.81926,     0.81968,      0.8201,     0.82051,     0.82093,      0.8185,      0.8176,     0.81803,     0.81846,      0.8189,     0.81933,     0.81976,     0.82031,     0.82091,     0.82151,     0.82211,     0.82733,     0.82783,     0.82809,     0.82835,     0.82861,\n",
            "            0.82887,     0.82912,     0.82938,     0.82964,      0.8299,     0.83015,     0.83057,     0.83101,     0.83145,     0.83188,     0.83232,     0.83276,     0.83321,     0.83367,     0.83413,     0.83459,     0.83505,     0.83559,     0.83663,     0.83768,     0.83884,     0.84009,     0.84104,\n",
            "            0.84163,     0.84221,      0.8428,     0.84339,     0.84429,     0.84522,     0.84615,      0.8467,     0.84725,      0.8478,     0.84835,     0.84906,     0.85057,       0.848,     0.84872,     0.84943,     0.85014,     0.85053,     0.85012,     0.84972,     0.84931,      0.8489,      0.8485,\n",
            "            0.84809,     0.84768,     0.84727,     0.84687,      0.8465,     0.84613,     0.84576,     0.84538,     0.84501,     0.84464,     0.84427,      0.8439,     0.84352,     0.84315,     0.84375,     0.84439,     0.84503,     0.84567,     0.84638,     0.84714,      0.8479,     0.84866,     0.84818,\n",
            "            0.84766,     0.84713,     0.84661,     0.84609,     0.84556,     0.84504,     0.84402,     0.84279,     0.84156,     0.84114,     0.84128,     0.84142,     0.84156,      0.8417,     0.84184,     0.84198,     0.84212,     0.84226,      0.8424,     0.84254,     0.84268,     0.84282,     0.84296,\n",
            "             0.8431,     0.84324,     0.84338,     0.84352,     0.84366,      0.8438,     0.84407,     0.84441,     0.84475,     0.84509,     0.84543,     0.84577,     0.84611,     0.84645,     0.84676,     0.84701,     0.84727,     0.84752,     0.84778,     0.84803,     0.84828,     0.84854,     0.84879,\n",
            "            0.84904,      0.8493,     0.85232,      0.8518,     0.85128,     0.85076,     0.85024,     0.84971,     0.84919,     0.84867,     0.84899,     0.84976,     0.85053,     0.85129,     0.84882,      0.8493,     0.85321,     0.85241,     0.85161,     0.85082,     0.85002,     0.84926,      0.8488,\n",
            "            0.84833,     0.84787,      0.8474,     0.84694,     0.84647,       0.846,     0.84554,     0.84583,     0.84659,     0.84734,     0.84809,     0.84619,     0.84453,     0.84529,     0.84604,     0.84679,     0.84694,     0.84628,     0.84561,     0.84495,     0.84428,     0.84362,      0.8429,\n",
            "            0.84212,     0.84133,     0.84055,     0.83976,     0.83982,     0.84225,     0.84326,     0.84426,     0.84471,     0.84286,     0.84101,     0.83961,     0.83901,      0.8384,      0.8378,     0.83719,     0.83659,     0.83598,     0.83421,     0.83155,     0.83214,     0.83274,     0.83334,\n",
            "            0.83394,     0.83463,     0.83643,     0.83463,     0.82815,     0.82172,     0.81964,     0.81848,     0.81733,     0.81617,     0.81476,     0.81335,     0.81193,     0.80661,     0.80357,     0.79848,     0.79501,     0.78928,     0.78887,     0.78845,     0.78803,     0.78761,     0.78719,\n",
            "            0.78677,     0.78636,     0.78594,     0.78552,      0.7851,     0.78777,     0.78554,     0.78372,     0.78189,      0.7803,     0.77874,     0.77719,     0.77635,     0.77566,     0.77497,     0.77427,     0.77358,     0.77288,     0.77221,     0.77273,     0.77324,     0.77375,     0.77427,\n",
            "            0.77478,     0.77499,      0.7739,     0.77281,     0.77172,     0.77063,     0.77147,     0.77274,     0.76684,     0.76531,     0.76739,     0.76824,     0.76908,     0.76962,     0.76727,     0.76442,     0.76063,     0.76134,     0.76204,     0.76275,     0.76108,      0.7582,     0.75916,\n",
            "            0.76013,     0.76108,     0.75565,     0.75418,      0.7527,     0.75122,     0.74577,     0.74439,       0.743,     0.74161,     0.73555,     0.73348,     0.73141,     0.72828,     0.72382,     0.71957,     0.71886,     0.71814,     0.71742,      0.7167,     0.71599,     0.71527,     0.71454,\n",
            "            0.71002,     0.70656,     0.70376,     0.70232,      0.7011,     0.69987,     0.69863,     0.69695,     0.69452,     0.69236,     0.69295,     0.69354,     0.69413,     0.69471,     0.69525,     0.69412,     0.69298,     0.69185,     0.69071,     0.68985,     0.69255,      0.6913,     0.68991,\n",
            "            0.68852,     0.68712,     0.68802,     0.68506,      0.6822,     0.67938,     0.67681,     0.67437,     0.67044,       0.666,     0.66474,     0.66349,     0.66222,     0.66096,      0.6593,     0.65754,     0.65578,     0.65422,     0.65298,     0.65174,      0.6505,     0.64925,     0.64199,\n",
            "            0.64064,     0.63929,     0.63794,     0.63658,      0.6359,     0.63535,      0.6348,     0.63425,      0.6337,     0.63314,     0.63259,     0.63204,     0.63149,     0.63093,     0.63038,     0.62975,     0.62906,     0.62837,     0.62768,     0.62699,     0.62629,      0.6256,     0.62491,\n",
            "            0.62421,     0.62333,     0.62224,     0.62114,     0.62005,     0.61895,     0.61786,     0.61676,     0.61565,     0.61455,     0.61344,     0.61233,     0.61122,     0.61132,     0.61156,     0.61179,     0.61202,     0.61226,     0.61249,     0.61272,     0.61295,     0.61318,     0.61341,\n",
            "            0.61365,     0.61388,     0.61239,     0.61002,     0.60764,      0.6036,     0.59445,      0.5968,     0.58994,     0.58821,     0.58647,     0.58473,     0.57721,     0.57223,     0.56761,     0.56314,     0.55744,     0.55377,     0.55072,     0.54874,     0.54812,      0.5475,     0.54687,\n",
            "            0.54625,     0.54562,     0.54499,     0.54437,     0.54374,     0.54311,     0.54248,     0.54167,     0.53456,     0.53318,      0.5318,     0.53042,     0.52903,     0.52764,      0.5256,     0.52339,     0.52117,     0.50657,      0.5036,     0.50208,     0.50055,     0.49902,     0.49749,\n",
            "            0.49151,     0.48767,      0.4847,     0.48219,     0.48343,     0.48392,     0.47742,     0.47358,     0.47007,     0.46797,     0.46672,     0.46546,     0.46421,     0.46295,     0.46169,     0.45997,     0.45679,      0.4536,     0.45047,     0.44734,     0.44141,     0.42859,     0.41727,\n",
            "            0.41404,     0.41081,     0.40811,     0.40541,     0.40269,     0.39468,     0.39282,     0.39211,     0.39139,     0.39068,     0.38996,     0.38924,     0.38852,      0.3878,     0.38709,     0.38637,     0.38564,     0.38492,     0.38241,     0.37856,     0.36473,     0.35294,     0.33874,\n",
            "            0.32879,     0.32751,     0.32623,     0.32494,     0.32366,     0.32237,     0.32108,     0.31977,     0.31836,     0.31694,     0.31552,      0.3141,     0.31268,     0.31125,     0.30994,     0.30882,     0.30769,     0.30657,     0.30544,     0.30432,     0.30319,     0.30206,     0.30093,\n",
            "             0.2991,     0.29696,     0.29481,     0.29266,     0.29057,     0.28915,     0.28772,      0.2863,     0.28486,     0.28343,       0.282,     0.27885,     0.26853,     0.26485,     0.26115,      0.2498,     0.24672,     0.24363,     0.24053,     0.23014,     0.22443,     0.21949,     0.20564,\n",
            "            0.20137,     0.19707,     0.18881,     0.18298,     0.17932,     0.17564,     0.17345,     0.17257,     0.17169,     0.17081,     0.16993,     0.16905,     0.16817,     0.16729,      0.1664,     0.16552,     0.16463,     0.16375,     0.16286,     0.16014,     0.15614,     0.15213,     0.14938,\n",
            "            0.14715,     0.14492,     0.14268,     0.14043,     0.13846,     0.13679,     0.13512,     0.13345,     0.13177,     0.13009,     0.12841,     0.12626,      0.1234,     0.12053,     0.11765,     0.11513,     0.11395,     0.11277,     0.11159,     0.11041,     0.10922,     0.10803,     0.10684,\n",
            "            0.10566,     0.10446,     0.10327,     0.10148,    0.099672,    0.097855,    0.096035,    0.094211,    0.092384,    0.090261,    0.086919,    0.083565,      0.0802,    0.075597,    0.069614,     0.06399,    0.059033,    0.054049,    0.050983,    0.048436,    0.045882,    0.043322,    0.040755,\n",
            "           0.036529,    0.031594,    0.026671,    0.022563,    0.018437,    0.014294,           0,           0,           0,           0,           0,           0,           0,           0,           0,           0,           0,           0,           0,           0,           0,           0,           0,\n",
            "                  0,           0,           0,           0,           0,           0,           0,           0,           0,           0,           0,           0,           0,           0,           0,           0,           0,           0,           0,           0,           0,           0,           0,\n",
            "                  0,           0,           0,           0,           0,           0,           0,           0,           0,           0,           0,           0,           0,           0,           0,           0,           0,           0,           0,           0,           0,           0,           0,\n",
            "                  0,           0,           0,           0,           0,           0,           0,           0,           0,           0,           0,           0,           0,           0,           0,           0,           0,           0,           0,           0,           0,           0,           0,\n",
            "                  0,           0,           0,           0,           0,           0,           0,           0,           0,           0,           0]]), 'Confidence', 'F1'], [array([          0,    0.001001,    0.002002,    0.003003,    0.004004,    0.005005,    0.006006,    0.007007,    0.008008,    0.009009,     0.01001,    0.011011,    0.012012,    0.013013,    0.014014,    0.015015,    0.016016,    0.017017,    0.018018,    0.019019,     0.02002,    0.021021,    0.022022,    0.023023,\n",
            "          0.024024,    0.025025,    0.026026,    0.027027,    0.028028,    0.029029,     0.03003,    0.031031,    0.032032,    0.033033,    0.034034,    0.035035,    0.036036,    0.037037,    0.038038,    0.039039,     0.04004,    0.041041,    0.042042,    0.043043,    0.044044,    0.045045,    0.046046,    0.047047,\n",
            "          0.048048,    0.049049,     0.05005,    0.051051,    0.052052,    0.053053,    0.054054,    0.055055,    0.056056,    0.057057,    0.058058,    0.059059,     0.06006,    0.061061,    0.062062,    0.063063,    0.064064,    0.065065,    0.066066,    0.067067,    0.068068,    0.069069,     0.07007,    0.071071,\n",
            "          0.072072,    0.073073,    0.074074,    0.075075,    0.076076,    0.077077,    0.078078,    0.079079,     0.08008,    0.081081,    0.082082,    0.083083,    0.084084,    0.085085,    0.086086,    0.087087,    0.088088,    0.089089,     0.09009,    0.091091,    0.092092,    0.093093,    0.094094,    0.095095,\n",
            "          0.096096,    0.097097,    0.098098,    0.099099,      0.1001,      0.1011,      0.1021,      0.1031,      0.1041,     0.10511,     0.10611,     0.10711,     0.10811,     0.10911,     0.11011,     0.11111,     0.11211,     0.11311,     0.11411,     0.11512,     0.11612,     0.11712,     0.11812,     0.11912,\n",
            "           0.12012,     0.12112,     0.12212,     0.12312,     0.12412,     0.12513,     0.12613,     0.12713,     0.12813,     0.12913,     0.13013,     0.13113,     0.13213,     0.13313,     0.13413,     0.13514,     0.13614,     0.13714,     0.13814,     0.13914,     0.14014,     0.14114,     0.14214,     0.14314,\n",
            "           0.14414,     0.14515,     0.14615,     0.14715,     0.14815,     0.14915,     0.15015,     0.15115,     0.15215,     0.15315,     0.15415,     0.15516,     0.15616,     0.15716,     0.15816,     0.15916,     0.16016,     0.16116,     0.16216,     0.16316,     0.16416,     0.16517,     0.16617,     0.16717,\n",
            "           0.16817,     0.16917,     0.17017,     0.17117,     0.17217,     0.17317,     0.17417,     0.17518,     0.17618,     0.17718,     0.17818,     0.17918,     0.18018,     0.18118,     0.18218,     0.18318,     0.18418,     0.18519,     0.18619,     0.18719,     0.18819,     0.18919,     0.19019,     0.19119,\n",
            "           0.19219,     0.19319,     0.19419,      0.1952,      0.1962,      0.1972,      0.1982,      0.1992,      0.2002,      0.2012,      0.2022,      0.2032,      0.2042,     0.20521,     0.20621,     0.20721,     0.20821,     0.20921,     0.21021,     0.21121,     0.21221,     0.21321,     0.21421,     0.21522,\n",
            "           0.21622,     0.21722,     0.21822,     0.21922,     0.22022,     0.22122,     0.22222,     0.22322,     0.22422,     0.22523,     0.22623,     0.22723,     0.22823,     0.22923,     0.23023,     0.23123,     0.23223,     0.23323,     0.23423,     0.23524,     0.23624,     0.23724,     0.23824,     0.23924,\n",
            "           0.24024,     0.24124,     0.24224,     0.24324,     0.24424,     0.24525,     0.24625,     0.24725,     0.24825,     0.24925,     0.25025,     0.25125,     0.25225,     0.25325,     0.25425,     0.25526,     0.25626,     0.25726,     0.25826,     0.25926,     0.26026,     0.26126,     0.26226,     0.26326,\n",
            "           0.26426,     0.26527,     0.26627,     0.26727,     0.26827,     0.26927,     0.27027,     0.27127,     0.27227,     0.27327,     0.27427,     0.27528,     0.27628,     0.27728,     0.27828,     0.27928,     0.28028,     0.28128,     0.28228,     0.28328,     0.28428,     0.28529,     0.28629,     0.28729,\n",
            "           0.28829,     0.28929,     0.29029,     0.29129,     0.29229,     0.29329,     0.29429,      0.2953,      0.2963,      0.2973,      0.2983,      0.2993,      0.3003,      0.3013,      0.3023,      0.3033,      0.3043,     0.30531,     0.30631,     0.30731,     0.30831,     0.30931,     0.31031,     0.31131,\n",
            "           0.31231,     0.31331,     0.31431,     0.31532,     0.31632,     0.31732,     0.31832,     0.31932,     0.32032,     0.32132,     0.32232,     0.32332,     0.32432,     0.32533,     0.32633,     0.32733,     0.32833,     0.32933,     0.33033,     0.33133,     0.33233,     0.33333,     0.33433,     0.33534,\n",
            "           0.33634,     0.33734,     0.33834,     0.33934,     0.34034,     0.34134,     0.34234,     0.34334,     0.34434,     0.34535,     0.34635,     0.34735,     0.34835,     0.34935,     0.35035,     0.35135,     0.35235,     0.35335,     0.35435,     0.35536,     0.35636,     0.35736,     0.35836,     0.35936,\n",
            "           0.36036,     0.36136,     0.36236,     0.36336,     0.36436,     0.36537,     0.36637,     0.36737,     0.36837,     0.36937,     0.37037,     0.37137,     0.37237,     0.37337,     0.37437,     0.37538,     0.37638,     0.37738,     0.37838,     0.37938,     0.38038,     0.38138,     0.38238,     0.38338,\n",
            "           0.38438,     0.38539,     0.38639,     0.38739,     0.38839,     0.38939,     0.39039,     0.39139,     0.39239,     0.39339,     0.39439,      0.3954,      0.3964,      0.3974,      0.3984,      0.3994,      0.4004,      0.4014,      0.4024,      0.4034,      0.4044,     0.40541,     0.40641,     0.40741,\n",
            "           0.40841,     0.40941,     0.41041,     0.41141,     0.41241,     0.41341,     0.41441,     0.41542,     0.41642,     0.41742,     0.41842,     0.41942,     0.42042,     0.42142,     0.42242,     0.42342,     0.42442,     0.42543,     0.42643,     0.42743,     0.42843,     0.42943,     0.43043,     0.43143,\n",
            "           0.43243,     0.43343,     0.43443,     0.43544,     0.43644,     0.43744,     0.43844,     0.43944,     0.44044,     0.44144,     0.44244,     0.44344,     0.44444,     0.44545,     0.44645,     0.44745,     0.44845,     0.44945,     0.45045,     0.45145,     0.45245,     0.45345,     0.45445,     0.45546,\n",
            "           0.45646,     0.45746,     0.45846,     0.45946,     0.46046,     0.46146,     0.46246,     0.46346,     0.46446,     0.46547,     0.46647,     0.46747,     0.46847,     0.46947,     0.47047,     0.47147,     0.47247,     0.47347,     0.47447,     0.47548,     0.47648,     0.47748,     0.47848,     0.47948,\n",
            "           0.48048,     0.48148,     0.48248,     0.48348,     0.48448,     0.48549,     0.48649,     0.48749,     0.48849,     0.48949,     0.49049,     0.49149,     0.49249,     0.49349,     0.49449,      0.4955,      0.4965,      0.4975,      0.4985,      0.4995,      0.5005,      0.5015,      0.5025,      0.5035,\n",
            "            0.5045,     0.50551,     0.50651,     0.50751,     0.50851,     0.50951,     0.51051,     0.51151,     0.51251,     0.51351,     0.51451,     0.51552,     0.51652,     0.51752,     0.51852,     0.51952,     0.52052,     0.52152,     0.52252,     0.52352,     0.52452,     0.52553,     0.52653,     0.52753,\n",
            "           0.52853,     0.52953,     0.53053,     0.53153,     0.53253,     0.53353,     0.53453,     0.53554,     0.53654,     0.53754,     0.53854,     0.53954,     0.54054,     0.54154,     0.54254,     0.54354,     0.54454,     0.54555,     0.54655,     0.54755,     0.54855,     0.54955,     0.55055,     0.55155,\n",
            "           0.55255,     0.55355,     0.55455,     0.55556,     0.55656,     0.55756,     0.55856,     0.55956,     0.56056,     0.56156,     0.56256,     0.56356,     0.56456,     0.56557,     0.56657,     0.56757,     0.56857,     0.56957,     0.57057,     0.57157,     0.57257,     0.57357,     0.57457,     0.57558,\n",
            "           0.57658,     0.57758,     0.57858,     0.57958,     0.58058,     0.58158,     0.58258,     0.58358,     0.58458,     0.58559,     0.58659,     0.58759,     0.58859,     0.58959,     0.59059,     0.59159,     0.59259,     0.59359,     0.59459,      0.5956,      0.5966,      0.5976,      0.5986,      0.5996,\n",
            "            0.6006,      0.6016,      0.6026,      0.6036,      0.6046,     0.60561,     0.60661,     0.60761,     0.60861,     0.60961,     0.61061,     0.61161,     0.61261,     0.61361,     0.61461,     0.61562,     0.61662,     0.61762,     0.61862,     0.61962,     0.62062,     0.62162,     0.62262,     0.62362,\n",
            "           0.62462,     0.62563,     0.62663,     0.62763,     0.62863,     0.62963,     0.63063,     0.63163,     0.63263,     0.63363,     0.63463,     0.63564,     0.63664,     0.63764,     0.63864,     0.63964,     0.64064,     0.64164,     0.64264,     0.64364,     0.64464,     0.64565,     0.64665,     0.64765,\n",
            "           0.64865,     0.64965,     0.65065,     0.65165,     0.65265,     0.65365,     0.65465,     0.65566,     0.65666,     0.65766,     0.65866,     0.65966,     0.66066,     0.66166,     0.66266,     0.66366,     0.66466,     0.66567,     0.66667,     0.66767,     0.66867,     0.66967,     0.67067,     0.67167,\n",
            "           0.67267,     0.67367,     0.67467,     0.67568,     0.67668,     0.67768,     0.67868,     0.67968,     0.68068,     0.68168,     0.68268,     0.68368,     0.68468,     0.68569,     0.68669,     0.68769,     0.68869,     0.68969,     0.69069,     0.69169,     0.69269,     0.69369,     0.69469,      0.6957,\n",
            "            0.6967,      0.6977,      0.6987,      0.6997,      0.7007,      0.7017,      0.7027,      0.7037,      0.7047,     0.70571,     0.70671,     0.70771,     0.70871,     0.70971,     0.71071,     0.71171,     0.71271,     0.71371,     0.71471,     0.71572,     0.71672,     0.71772,     0.71872,     0.71972,\n",
            "           0.72072,     0.72172,     0.72272,     0.72372,     0.72472,     0.72573,     0.72673,     0.72773,     0.72873,     0.72973,     0.73073,     0.73173,     0.73273,     0.73373,     0.73473,     0.73574,     0.73674,     0.73774,     0.73874,     0.73974,     0.74074,     0.74174,     0.74274,     0.74374,\n",
            "           0.74474,     0.74575,     0.74675,     0.74775,     0.74875,     0.74975,     0.75075,     0.75175,     0.75275,     0.75375,     0.75475,     0.75576,     0.75676,     0.75776,     0.75876,     0.75976,     0.76076,     0.76176,     0.76276,     0.76376,     0.76476,     0.76577,     0.76677,     0.76777,\n",
            "           0.76877,     0.76977,     0.77077,     0.77177,     0.77277,     0.77377,     0.77477,     0.77578,     0.77678,     0.77778,     0.77878,     0.77978,     0.78078,     0.78178,     0.78278,     0.78378,     0.78478,     0.78579,     0.78679,     0.78779,     0.78879,     0.78979,     0.79079,     0.79179,\n",
            "           0.79279,     0.79379,     0.79479,      0.7958,      0.7968,      0.7978,      0.7988,      0.7998,      0.8008,      0.8018,      0.8028,      0.8038,      0.8048,     0.80581,     0.80681,     0.80781,     0.80881,     0.80981,     0.81081,     0.81181,     0.81281,     0.81381,     0.81481,     0.81582,\n",
            "           0.81682,     0.81782,     0.81882,     0.81982,     0.82082,     0.82182,     0.82282,     0.82382,     0.82482,     0.82583,     0.82683,     0.82783,     0.82883,     0.82983,     0.83083,     0.83183,     0.83283,     0.83383,     0.83483,     0.83584,     0.83684,     0.83784,     0.83884,     0.83984,\n",
            "           0.84084,     0.84184,     0.84284,     0.84384,     0.84484,     0.84585,     0.84685,     0.84785,     0.84885,     0.84985,     0.85085,     0.85185,     0.85285,     0.85385,     0.85485,     0.85586,     0.85686,     0.85786,     0.85886,     0.85986,     0.86086,     0.86186,     0.86286,     0.86386,\n",
            "           0.86486,     0.86587,     0.86687,     0.86787,     0.86887,     0.86987,     0.87087,     0.87187,     0.87287,     0.87387,     0.87487,     0.87588,     0.87688,     0.87788,     0.87888,     0.87988,     0.88088,     0.88188,     0.88288,     0.88388,     0.88488,     0.88589,     0.88689,     0.88789,\n",
            "           0.88889,     0.88989,     0.89089,     0.89189,     0.89289,     0.89389,     0.89489,      0.8959,      0.8969,      0.8979,      0.8989,      0.8999,      0.9009,      0.9019,      0.9029,      0.9039,      0.9049,     0.90591,     0.90691,     0.90791,     0.90891,     0.90991,     0.91091,     0.91191,\n",
            "           0.91291,     0.91391,     0.91491,     0.91592,     0.91692,     0.91792,     0.91892,     0.91992,     0.92092,     0.92192,     0.92292,     0.92392,     0.92492,     0.92593,     0.92693,     0.92793,     0.92893,     0.92993,     0.93093,     0.93193,     0.93293,     0.93393,     0.93493,     0.93594,\n",
            "           0.93694,     0.93794,     0.93894,     0.93994,     0.94094,     0.94194,     0.94294,     0.94394,     0.94494,     0.94595,     0.94695,     0.94795,     0.94895,     0.94995,     0.95095,     0.95195,     0.95295,     0.95395,     0.95495,     0.95596,     0.95696,     0.95796,     0.95896,     0.95996,\n",
            "           0.96096,     0.96196,     0.96296,     0.96396,     0.96496,     0.96597,     0.96697,     0.96797,     0.96897,     0.96997,     0.97097,     0.97197,     0.97297,     0.97397,     0.97497,     0.97598,     0.97698,     0.97798,     0.97898,     0.97998,     0.98098,     0.98198,     0.98298,     0.98398,\n",
            "           0.98498,     0.98599,     0.98699,     0.98799,     0.98899,     0.98999,     0.99099,     0.99199,     0.99299,     0.99399,     0.99499,       0.996,       0.997,       0.998,       0.999,           1]), array([[    0.13488,     0.13488,      0.1832,     0.21479,      0.2367,      0.2488,     0.25946,     0.26941,     0.28015,     0.29066,     0.29686,     0.30547,     0.31459,     0.32123,     0.32419,     0.33034,     0.33191,     0.33701,      0.3431,     0.34933,     0.35376,     0.35708,     0.36271,\n",
            "            0.36664,      0.3737,     0.37586,     0.38143,     0.38426,     0.38862,     0.39154,     0.39276,     0.39536,     0.39649,     0.40384,      0.4083,     0.41397,     0.41666,     0.42222,     0.42618,     0.42764,     0.43054,     0.43157,     0.43253,     0.43567,     0.44021,     0.44178,\n",
            "             0.4425,     0.44351,     0.44571,     0.44787,      0.4531,       0.455,     0.45868,     0.46005,      0.4608,     0.46224,     0.46326,     0.46386,     0.46448,     0.46515,     0.46583,     0.46771,     0.47089,     0.47364,     0.47507,     0.47562,     0.47617,      0.4775,     0.47964,\n",
            "            0.48113,     0.48483,     0.48645,     0.48899,     0.49042,     0.49145,     0.49569,     0.49845,     0.50026,     0.50213,     0.50368,     0.50462,     0.50589,     0.50851,      0.5121,     0.51426,     0.51765,     0.51927,     0.52241,     0.52493,     0.52632,     0.52676,     0.52719,\n",
            "            0.52763,     0.52813,     0.52872,     0.52931,     0.53022,      0.5324,     0.53335,     0.53435,     0.53542,     0.53779,     0.53987,     0.54195,     0.54771,     0.54873,     0.54934,     0.54995,     0.55153,      0.5543,     0.55526,     0.55594,     0.55663,     0.55758,     0.55867,\n",
            "            0.55973,     0.56078,     0.56327,     0.56208,     0.56198,     0.56228,     0.56259,      0.5629,      0.5632,     0.56351,     0.56382,     0.56507,     0.56923,     0.57049,     0.57325,     0.57399,     0.57473,     0.57547,     0.57907,     0.58058,     0.58269,     0.58386,     0.58503,\n",
            "            0.58556,     0.58608,     0.58659,     0.58711,     0.58797,     0.58986,      0.5924,     0.59506,     0.59567,     0.59629,      0.5969,      0.5982,     0.60245,     0.60093,     0.60144,     0.60205,     0.60267,     0.60328,     0.60472,     0.60643,     0.60799,     0.60981,     0.61181,\n",
            "            0.61371,     0.61501,     0.61619,     0.61719,     0.61804,     0.61889,     0.62252,     0.62481,     0.62608,     0.62725,     0.62815,     0.62881,     0.62946,     0.63011,     0.63079,     0.63156,     0.63233,      0.6331,     0.63364,     0.63396,     0.63428,     0.63459,     0.63491,\n",
            "            0.63523,     0.63554,     0.63586,     0.63618,     0.64084,     0.64795,      0.6498,     0.65129,     0.65192,     0.65255,     0.65318,     0.65381,     0.65731,      0.6577,      0.6581,     0.65849,     0.65888,     0.65928,     0.65967,     0.66006,     0.66093,       0.664,     0.67007,\n",
            "             0.6705,     0.67093,     0.67135,     0.67178,      0.6722,     0.67263,     0.67306,     0.67361,     0.67417,     0.67472,     0.67528,     0.67584,      0.6764,     0.67703,     0.67766,     0.67828,     0.67891,     0.67954,     0.68271,      0.6821,     0.68143,     0.68177,      0.6821,\n",
            "            0.68243,     0.68276,      0.6831,     0.68343,     0.68376,      0.6841,     0.68443,     0.68449,     0.68459,      0.6893,     0.69084,     0.69177,      0.6927,      0.6936,     0.69432,     0.69504,     0.69576,     0.69648,     0.69758,      0.6995,     0.69937,      0.7012,     0.70392,\n",
            "              0.709,     0.71019,     0.71057,     0.71094,     0.71131,     0.71168,     0.71205,     0.71242,     0.71279,     0.71317,     0.71354,     0.71478,     0.71603,     0.71727,     0.71669,     0.72102,     0.72577,     0.73113,     0.73096,     0.73079,     0.73062,     0.73045,     0.73028,\n",
            "            0.73011,     0.72994,     0.72977,     0.73334,     0.73281,     0.73227,     0.73262,     0.73303,     0.73344,     0.73385,     0.73426,     0.73466,     0.73507,     0.73548,     0.73589,     0.73911,     0.74335,     0.74389,     0.74443,     0.74498,     0.74552,     0.74606,      0.7466,\n",
            "            0.74714,     0.74783,     0.74852,     0.74922,     0.74992,     0.75062,     0.75132,     0.75045,     0.75044,     0.75117,      0.7519,     0.75263,     0.75336,     0.75409,     0.75503,     0.75604,     0.75705,     0.75807,     0.76699,     0.76786,     0.76831,     0.76875,      0.7692,\n",
            "            0.76965,     0.77009,     0.77054,     0.77098,     0.77143,     0.77187,     0.77259,     0.77335,     0.77411,     0.77486,     0.77562,     0.77638,     0.77718,     0.77798,     0.77878,     0.77958,     0.78038,     0.78132,     0.78315,     0.78498,     0.78703,     0.78923,      0.7909,\n",
            "            0.79194,     0.79299,     0.79403,     0.79507,     0.79667,     0.79833,         0.8,     0.80098,     0.80197,     0.80296,     0.80394,     0.80522,     0.80949,     0.80884,     0.81014,     0.81144,     0.81274,     0.81363,      0.8135,     0.81337,     0.81325,     0.81312,     0.81299,\n",
            "            0.81287,     0.81274,     0.81261,     0.81249,     0.81237,     0.81226,     0.81214,     0.81202,     0.81191,     0.81179,     0.81167,     0.81156,     0.81144,     0.81132,     0.81246,     0.81365,     0.81483,     0.81602,     0.81735,     0.81877,     0.82019,     0.82161,      0.8215,\n",
            "            0.82135,     0.82119,     0.82103,     0.82087,     0.82072,     0.82056,     0.82025,     0.81988,     0.81951,     0.81951,     0.81978,     0.82005,     0.82031,     0.82058,     0.82085,     0.82111,     0.82138,     0.82165,     0.82191,     0.82218,     0.82244,     0.82271,     0.82298,\n",
            "            0.82324,     0.82351,     0.82378,     0.82404,     0.82431,     0.82458,     0.82508,     0.82574,     0.82639,     0.82704,     0.82769,     0.82834,     0.82899,     0.82965,     0.83024,     0.83073,     0.83122,     0.83171,      0.8322,     0.83269,     0.83318,     0.83367,     0.83416,\n",
            "            0.83465,     0.83514,     0.84105,     0.84091,     0.84077,     0.84062,     0.84048,     0.84034,     0.84019,     0.84005,     0.84098,      0.8425,     0.84401,     0.84553,     0.84496,     0.84826,     0.85615,     0.85595,     0.85575,     0.85555,     0.85535,     0.85516,     0.85504,\n",
            "            0.85492,      0.8548,     0.85469,     0.85457,     0.85445,     0.85433,     0.85421,     0.85513,     0.85667,     0.85822,     0.85976,     0.85962,     0.85965,     0.86122,     0.86278,     0.86435,     0.86518,     0.86502,     0.86486,      0.8647,     0.86454,     0.86438,     0.86421,\n",
            "            0.86402,     0.86383,     0.86364,     0.86345,      0.8647,     0.86987,     0.87203,     0.87418,     0.87583,     0.87542,       0.875,     0.88054,     0.88041,     0.88028,     0.88015,     0.88002,     0.87989,     0.87976,     0.87937,     0.87879,     0.88013,     0.88148,     0.88282,\n",
            "            0.88417,     0.88572,     0.89209,     0.89173,     0.89043,     0.88913,     0.88871,     0.88847,     0.88824,       0.888,     0.88771,     0.88741,     0.88712,     0.88601,     0.88537,     0.88429,     0.88355,     0.88231,     0.88222,     0.88213,     0.88204,     0.88195,     0.88185,\n",
            "            0.88176,     0.88167,     0.88158,     0.88149,      0.8814,     0.88862,     0.89551,     0.89515,     0.89479,     0.89448,     0.89417,     0.89386,     0.89369,     0.89355,     0.89341,     0.89327,     0.89313,     0.89299,     0.89288,     0.89426,     0.89564,     0.89702,      0.8984,\n",
            "            0.89978,     0.90086,     0.90066,     0.90045,     0.90024,     0.90004,     0.90284,     0.90633,     0.90709,     0.91088,     0.91679,      0.9192,     0.92162,     0.92378,     0.92342,       0.923,      0.9242,     0.92629,     0.92838,     0.93046,      0.9311,      0.9311,     0.93401,\n",
            "            0.93693,     0.93985,     0.93934,     0.93916,     0.93898,      0.9388,     0.93813,     0.93795,     0.93778,     0.93761,     0.93684,     0.93658,     0.93631,     0.93591,     0.93533,     0.93477,     0.93467,     0.93458,     0.93448,     0.93439,     0.93429,      0.9342,      0.9341,\n",
            "            0.93349,     0.93302,     0.93263,     0.93244,     0.93227,     0.93209,     0.93192,     0.93169,     0.93135,     0.93123,     0.93337,     0.93551,     0.93765,     0.93978,     0.94186,     0.94172,     0.94158,     0.94144,      0.9413,     0.94189,     0.95205,     0.95225,      0.9521,\n",
            "            0.95196,     0.95182,     0.96326,     0.96303,      0.9628,     0.96258,     0.96237,     0.96217,     0.96185,     0.96148,     0.96138,     0.96127,     0.96117,     0.96106,     0.96092,     0.96077,     0.96062,     0.96048,     0.96038,     0.96027,     0.96016,     0.96005,     0.95941,\n",
            "            0.95929,     0.95917,     0.95905,     0.95892,     0.95886,     0.95881,     0.95876,     0.95871,     0.95866,     0.95861,     0.95856,     0.95851,     0.95846,     0.95841,     0.95836,      0.9583,     0.95823,     0.95817,      0.9581,     0.95804,     0.95797,     0.95791,     0.95784,\n",
            "            0.95778,      0.9577,     0.95759,     0.95749,     0.95738,     0.95728,     0.95718,     0.95707,     0.95696,     0.95685,     0.95675,     0.95664,     0.95653,     0.95756,     0.95871,     0.95986,     0.96101,     0.96216,     0.96331,     0.96445,      0.9656,     0.96675,      0.9679,\n",
            "            0.96905,      0.9702,     0.97048,     0.97032,     0.97016,     0.96988,      0.9698,     0.98243,     0.98411,     0.98404,     0.98397,     0.98391,     0.98362,     0.98342,     0.98323,     0.98305,     0.98281,     0.98266,     0.98253,     0.98244,     0.98242,     0.98239,     0.98236,\n",
            "            0.98233,     0.98231,     0.98228,     0.98225,     0.98222,      0.9822,     0.98217,     0.98213,     0.98181,     0.98175,     0.98169,     0.98162,     0.98156,     0.98149,      0.9814,     0.98129,     0.98119,     0.98047,     0.98032,     0.98024,     0.98016,     0.98008,        0.98,\n",
            "            0.97968,     0.97947,     0.97931,     0.98031,     0.99064,           1,           1,           1,           1,           1,           1,           1,           1,           1,           1,           1,           1,           1,           1,           1,           1,           1,           1,\n",
            "                  1,           1,           1,           1,           1,           1,           1,           1,           1,           1,           1,           1,           1,           1,           1,           1,           1,           1,           1,           1,           1,           1,           1,\n",
            "                  1,           1,           1,           1,           1,           1,           1,           1,           1,           1,           1,           1,           1,           1,           1,           1,           1,           1,           1,           1,           1,           1,           1,\n",
            "                  1,           1,           1,           1,           1,           1,           1,           1,           1,           1,           1,           1,           1,           1,           1,           1,           1,           1,           1,           1,           1,           1,           1,\n",
            "                  1,           1,           1,           1,           1,           1,           1,           1,           1,           1,           1,           1,           1,           1,           1,           1,           1,           1,           1,           1,           1,           1,           1,\n",
            "                  1,           1,           1,           1,           1,           1,           1,           1,           1,           1,           1,           1,           1,           1,           1,           1,           1,           1,           1,           1,           1,           1,           1,\n",
            "                  1,           1,           1,           1,           1,           1,           1,           1,           1,           1,           1,           1,           1,           1,           1,           1,           1,           1,           1,           1,           1,           1,           1,\n",
            "                  1,           1,           1,           1,           1,           1,           1,           1,           1,           1,           1,           1,           1,           1,           1,           1,           1,           1,           1,           1,           1,           1,           1,\n",
            "                  1,           1,           1,           1,           1,           1,           1,           1,           1,           1,           1,           1,           1,           1,           1,           1,           1,           1,           1,           1,           1,           1,           1,\n",
            "                  1,           1,           1,           1,           1,           1,           1,           1,           1,           1,           1,           1,           1,           1,           1,           1,           1,           1,           1,           1,           1,           1,           1,\n",
            "                  1,           1,           1,           1,           1,           1,           1,           1,           1,           1,           1,           1,           1,           1,           1,           1,           1,           1,           1,           1,           1,           1,           1,\n",
            "                  1,           1,           1,           1,           1,           1,           1,           1,           1,           1,           1]]), 'Confidence', 'Precision'], [array([          0,    0.001001,    0.002002,    0.003003,    0.004004,    0.005005,    0.006006,    0.007007,    0.008008,    0.009009,     0.01001,    0.011011,    0.012012,    0.013013,    0.014014,    0.015015,    0.016016,    0.017017,    0.018018,    0.019019,     0.02002,    0.021021,    0.022022,    0.023023,\n",
            "          0.024024,    0.025025,    0.026026,    0.027027,    0.028028,    0.029029,     0.03003,    0.031031,    0.032032,    0.033033,    0.034034,    0.035035,    0.036036,    0.037037,    0.038038,    0.039039,     0.04004,    0.041041,    0.042042,    0.043043,    0.044044,    0.045045,    0.046046,    0.047047,\n",
            "          0.048048,    0.049049,     0.05005,    0.051051,    0.052052,    0.053053,    0.054054,    0.055055,    0.056056,    0.057057,    0.058058,    0.059059,     0.06006,    0.061061,    0.062062,    0.063063,    0.064064,    0.065065,    0.066066,    0.067067,    0.068068,    0.069069,     0.07007,    0.071071,\n",
            "          0.072072,    0.073073,    0.074074,    0.075075,    0.076076,    0.077077,    0.078078,    0.079079,     0.08008,    0.081081,    0.082082,    0.083083,    0.084084,    0.085085,    0.086086,    0.087087,    0.088088,    0.089089,     0.09009,    0.091091,    0.092092,    0.093093,    0.094094,    0.095095,\n",
            "          0.096096,    0.097097,    0.098098,    0.099099,      0.1001,      0.1011,      0.1021,      0.1031,      0.1041,     0.10511,     0.10611,     0.10711,     0.10811,     0.10911,     0.11011,     0.11111,     0.11211,     0.11311,     0.11411,     0.11512,     0.11612,     0.11712,     0.11812,     0.11912,\n",
            "           0.12012,     0.12112,     0.12212,     0.12312,     0.12412,     0.12513,     0.12613,     0.12713,     0.12813,     0.12913,     0.13013,     0.13113,     0.13213,     0.13313,     0.13413,     0.13514,     0.13614,     0.13714,     0.13814,     0.13914,     0.14014,     0.14114,     0.14214,     0.14314,\n",
            "           0.14414,     0.14515,     0.14615,     0.14715,     0.14815,     0.14915,     0.15015,     0.15115,     0.15215,     0.15315,     0.15415,     0.15516,     0.15616,     0.15716,     0.15816,     0.15916,     0.16016,     0.16116,     0.16216,     0.16316,     0.16416,     0.16517,     0.16617,     0.16717,\n",
            "           0.16817,     0.16917,     0.17017,     0.17117,     0.17217,     0.17317,     0.17417,     0.17518,     0.17618,     0.17718,     0.17818,     0.17918,     0.18018,     0.18118,     0.18218,     0.18318,     0.18418,     0.18519,     0.18619,     0.18719,     0.18819,     0.18919,     0.19019,     0.19119,\n",
            "           0.19219,     0.19319,     0.19419,      0.1952,      0.1962,      0.1972,      0.1982,      0.1992,      0.2002,      0.2012,      0.2022,      0.2032,      0.2042,     0.20521,     0.20621,     0.20721,     0.20821,     0.20921,     0.21021,     0.21121,     0.21221,     0.21321,     0.21421,     0.21522,\n",
            "           0.21622,     0.21722,     0.21822,     0.21922,     0.22022,     0.22122,     0.22222,     0.22322,     0.22422,     0.22523,     0.22623,     0.22723,     0.22823,     0.22923,     0.23023,     0.23123,     0.23223,     0.23323,     0.23423,     0.23524,     0.23624,     0.23724,     0.23824,     0.23924,\n",
            "           0.24024,     0.24124,     0.24224,     0.24324,     0.24424,     0.24525,     0.24625,     0.24725,     0.24825,     0.24925,     0.25025,     0.25125,     0.25225,     0.25325,     0.25425,     0.25526,     0.25626,     0.25726,     0.25826,     0.25926,     0.26026,     0.26126,     0.26226,     0.26326,\n",
            "           0.26426,     0.26527,     0.26627,     0.26727,     0.26827,     0.26927,     0.27027,     0.27127,     0.27227,     0.27327,     0.27427,     0.27528,     0.27628,     0.27728,     0.27828,     0.27928,     0.28028,     0.28128,     0.28228,     0.28328,     0.28428,     0.28529,     0.28629,     0.28729,\n",
            "           0.28829,     0.28929,     0.29029,     0.29129,     0.29229,     0.29329,     0.29429,      0.2953,      0.2963,      0.2973,      0.2983,      0.2993,      0.3003,      0.3013,      0.3023,      0.3033,      0.3043,     0.30531,     0.30631,     0.30731,     0.30831,     0.30931,     0.31031,     0.31131,\n",
            "           0.31231,     0.31331,     0.31431,     0.31532,     0.31632,     0.31732,     0.31832,     0.31932,     0.32032,     0.32132,     0.32232,     0.32332,     0.32432,     0.32533,     0.32633,     0.32733,     0.32833,     0.32933,     0.33033,     0.33133,     0.33233,     0.33333,     0.33433,     0.33534,\n",
            "           0.33634,     0.33734,     0.33834,     0.33934,     0.34034,     0.34134,     0.34234,     0.34334,     0.34434,     0.34535,     0.34635,     0.34735,     0.34835,     0.34935,     0.35035,     0.35135,     0.35235,     0.35335,     0.35435,     0.35536,     0.35636,     0.35736,     0.35836,     0.35936,\n",
            "           0.36036,     0.36136,     0.36236,     0.36336,     0.36436,     0.36537,     0.36637,     0.36737,     0.36837,     0.36937,     0.37037,     0.37137,     0.37237,     0.37337,     0.37437,     0.37538,     0.37638,     0.37738,     0.37838,     0.37938,     0.38038,     0.38138,     0.38238,     0.38338,\n",
            "           0.38438,     0.38539,     0.38639,     0.38739,     0.38839,     0.38939,     0.39039,     0.39139,     0.39239,     0.39339,     0.39439,      0.3954,      0.3964,      0.3974,      0.3984,      0.3994,      0.4004,      0.4014,      0.4024,      0.4034,      0.4044,     0.40541,     0.40641,     0.40741,\n",
            "           0.40841,     0.40941,     0.41041,     0.41141,     0.41241,     0.41341,     0.41441,     0.41542,     0.41642,     0.41742,     0.41842,     0.41942,     0.42042,     0.42142,     0.42242,     0.42342,     0.42442,     0.42543,     0.42643,     0.42743,     0.42843,     0.42943,     0.43043,     0.43143,\n",
            "           0.43243,     0.43343,     0.43443,     0.43544,     0.43644,     0.43744,     0.43844,     0.43944,     0.44044,     0.44144,     0.44244,     0.44344,     0.44444,     0.44545,     0.44645,     0.44745,     0.44845,     0.44945,     0.45045,     0.45145,     0.45245,     0.45345,     0.45445,     0.45546,\n",
            "           0.45646,     0.45746,     0.45846,     0.45946,     0.46046,     0.46146,     0.46246,     0.46346,     0.46446,     0.46547,     0.46647,     0.46747,     0.46847,     0.46947,     0.47047,     0.47147,     0.47247,     0.47347,     0.47447,     0.47548,     0.47648,     0.47748,     0.47848,     0.47948,\n",
            "           0.48048,     0.48148,     0.48248,     0.48348,     0.48448,     0.48549,     0.48649,     0.48749,     0.48849,     0.48949,     0.49049,     0.49149,     0.49249,     0.49349,     0.49449,      0.4955,      0.4965,      0.4975,      0.4985,      0.4995,      0.5005,      0.5015,      0.5025,      0.5035,\n",
            "            0.5045,     0.50551,     0.50651,     0.50751,     0.50851,     0.50951,     0.51051,     0.51151,     0.51251,     0.51351,     0.51451,     0.51552,     0.51652,     0.51752,     0.51852,     0.51952,     0.52052,     0.52152,     0.52252,     0.52352,     0.52452,     0.52553,     0.52653,     0.52753,\n",
            "           0.52853,     0.52953,     0.53053,     0.53153,     0.53253,     0.53353,     0.53453,     0.53554,     0.53654,     0.53754,     0.53854,     0.53954,     0.54054,     0.54154,     0.54254,     0.54354,     0.54454,     0.54555,     0.54655,     0.54755,     0.54855,     0.54955,     0.55055,     0.55155,\n",
            "           0.55255,     0.55355,     0.55455,     0.55556,     0.55656,     0.55756,     0.55856,     0.55956,     0.56056,     0.56156,     0.56256,     0.56356,     0.56456,     0.56557,     0.56657,     0.56757,     0.56857,     0.56957,     0.57057,     0.57157,     0.57257,     0.57357,     0.57457,     0.57558,\n",
            "           0.57658,     0.57758,     0.57858,     0.57958,     0.58058,     0.58158,     0.58258,     0.58358,     0.58458,     0.58559,     0.58659,     0.58759,     0.58859,     0.58959,     0.59059,     0.59159,     0.59259,     0.59359,     0.59459,      0.5956,      0.5966,      0.5976,      0.5986,      0.5996,\n",
            "            0.6006,      0.6016,      0.6026,      0.6036,      0.6046,     0.60561,     0.60661,     0.60761,     0.60861,     0.60961,     0.61061,     0.61161,     0.61261,     0.61361,     0.61461,     0.61562,     0.61662,     0.61762,     0.61862,     0.61962,     0.62062,     0.62162,     0.62262,     0.62362,\n",
            "           0.62462,     0.62563,     0.62663,     0.62763,     0.62863,     0.62963,     0.63063,     0.63163,     0.63263,     0.63363,     0.63463,     0.63564,     0.63664,     0.63764,     0.63864,     0.63964,     0.64064,     0.64164,     0.64264,     0.64364,     0.64464,     0.64565,     0.64665,     0.64765,\n",
            "           0.64865,     0.64965,     0.65065,     0.65165,     0.65265,     0.65365,     0.65465,     0.65566,     0.65666,     0.65766,     0.65866,     0.65966,     0.66066,     0.66166,     0.66266,     0.66366,     0.66466,     0.66567,     0.66667,     0.66767,     0.66867,     0.66967,     0.67067,     0.67167,\n",
            "           0.67267,     0.67367,     0.67467,     0.67568,     0.67668,     0.67768,     0.67868,     0.67968,     0.68068,     0.68168,     0.68268,     0.68368,     0.68468,     0.68569,     0.68669,     0.68769,     0.68869,     0.68969,     0.69069,     0.69169,     0.69269,     0.69369,     0.69469,      0.6957,\n",
            "            0.6967,      0.6977,      0.6987,      0.6997,      0.7007,      0.7017,      0.7027,      0.7037,      0.7047,     0.70571,     0.70671,     0.70771,     0.70871,     0.70971,     0.71071,     0.71171,     0.71271,     0.71371,     0.71471,     0.71572,     0.71672,     0.71772,     0.71872,     0.71972,\n",
            "           0.72072,     0.72172,     0.72272,     0.72372,     0.72472,     0.72573,     0.72673,     0.72773,     0.72873,     0.72973,     0.73073,     0.73173,     0.73273,     0.73373,     0.73473,     0.73574,     0.73674,     0.73774,     0.73874,     0.73974,     0.74074,     0.74174,     0.74274,     0.74374,\n",
            "           0.74474,     0.74575,     0.74675,     0.74775,     0.74875,     0.74975,     0.75075,     0.75175,     0.75275,     0.75375,     0.75475,     0.75576,     0.75676,     0.75776,     0.75876,     0.75976,     0.76076,     0.76176,     0.76276,     0.76376,     0.76476,     0.76577,     0.76677,     0.76777,\n",
            "           0.76877,     0.76977,     0.77077,     0.77177,     0.77277,     0.77377,     0.77477,     0.77578,     0.77678,     0.77778,     0.77878,     0.77978,     0.78078,     0.78178,     0.78278,     0.78378,     0.78478,     0.78579,     0.78679,     0.78779,     0.78879,     0.78979,     0.79079,     0.79179,\n",
            "           0.79279,     0.79379,     0.79479,      0.7958,      0.7968,      0.7978,      0.7988,      0.7998,      0.8008,      0.8018,      0.8028,      0.8038,      0.8048,     0.80581,     0.80681,     0.80781,     0.80881,     0.80981,     0.81081,     0.81181,     0.81281,     0.81381,     0.81481,     0.81582,\n",
            "           0.81682,     0.81782,     0.81882,     0.81982,     0.82082,     0.82182,     0.82282,     0.82382,     0.82482,     0.82583,     0.82683,     0.82783,     0.82883,     0.82983,     0.83083,     0.83183,     0.83283,     0.83383,     0.83483,     0.83584,     0.83684,     0.83784,     0.83884,     0.83984,\n",
            "           0.84084,     0.84184,     0.84284,     0.84384,     0.84484,     0.84585,     0.84685,     0.84785,     0.84885,     0.84985,     0.85085,     0.85185,     0.85285,     0.85385,     0.85485,     0.85586,     0.85686,     0.85786,     0.85886,     0.85986,     0.86086,     0.86186,     0.86286,     0.86386,\n",
            "           0.86486,     0.86587,     0.86687,     0.86787,     0.86887,     0.86987,     0.87087,     0.87187,     0.87287,     0.87387,     0.87487,     0.87588,     0.87688,     0.87788,     0.87888,     0.87988,     0.88088,     0.88188,     0.88288,     0.88388,     0.88488,     0.88589,     0.88689,     0.88789,\n",
            "           0.88889,     0.88989,     0.89089,     0.89189,     0.89289,     0.89389,     0.89489,      0.8959,      0.8969,      0.8979,      0.8989,      0.8999,      0.9009,      0.9019,      0.9029,      0.9039,      0.9049,     0.90591,     0.90691,     0.90791,     0.90891,     0.90991,     0.91091,     0.91191,\n",
            "           0.91291,     0.91391,     0.91491,     0.91592,     0.91692,     0.91792,     0.91892,     0.91992,     0.92092,     0.92192,     0.92292,     0.92392,     0.92492,     0.92593,     0.92693,     0.92793,     0.92893,     0.92993,     0.93093,     0.93193,     0.93293,     0.93393,     0.93493,     0.93594,\n",
            "           0.93694,     0.93794,     0.93894,     0.93994,     0.94094,     0.94194,     0.94294,     0.94394,     0.94494,     0.94595,     0.94695,     0.94795,     0.94895,     0.94995,     0.95095,     0.95195,     0.95295,     0.95395,     0.95495,     0.95596,     0.95696,     0.95796,     0.95896,     0.95996,\n",
            "           0.96096,     0.96196,     0.96296,     0.96396,     0.96496,     0.96597,     0.96697,     0.96797,     0.96897,     0.96997,     0.97097,     0.97197,     0.97297,     0.97397,     0.97497,     0.97598,     0.97698,     0.97798,     0.97898,     0.97998,     0.98098,     0.98198,     0.98298,     0.98398,\n",
            "           0.98498,     0.98599,     0.98699,     0.98799,     0.98899,     0.98999,     0.99099,     0.99199,     0.99299,     0.99399,     0.99499,       0.996,       0.997,       0.998,       0.999,           1]), array([[    0.98639,     0.98639,     0.98639,     0.98639,     0.98639,     0.98639,     0.98639,     0.98639,     0.98639,     0.98639,     0.98639,     0.98639,     0.98639,     0.98639,     0.98639,     0.98639,     0.98009,     0.97959,     0.97279,     0.97279,     0.97279,     0.97279,     0.97279,\n",
            "            0.97279,     0.97279,     0.97279,     0.97279,     0.97279,     0.97279,     0.97279,     0.97279,     0.97279,     0.97279,     0.97279,     0.97279,     0.97279,     0.97279,     0.97279,     0.97279,     0.97279,     0.97279,     0.97279,     0.97279,     0.97279,     0.97279,     0.97279,\n",
            "            0.97279,     0.97279,     0.97279,     0.97279,     0.97279,     0.97279,     0.97279,     0.97279,     0.97279,     0.97279,     0.97279,     0.97279,     0.97279,     0.97279,     0.97279,     0.97279,     0.97279,     0.97279,     0.97279,     0.97279,     0.97279,     0.97279,     0.97279,\n",
            "            0.97279,     0.97279,     0.97279,     0.97279,     0.97279,     0.97279,     0.97279,     0.97279,     0.96599,     0.96599,     0.96599,     0.96599,     0.96599,     0.96599,     0.96599,     0.96599,     0.96599,     0.96599,     0.96599,     0.96599,     0.96599,     0.96599,     0.96599,\n",
            "            0.96599,     0.96599,     0.96599,     0.96599,     0.96599,     0.96599,     0.96599,     0.96599,     0.96599,     0.96599,     0.96599,     0.96599,     0.96599,     0.96599,     0.96599,     0.96599,     0.96599,     0.96599,     0.96599,     0.96599,     0.96599,     0.96599,     0.96599,\n",
            "            0.96599,     0.96599,     0.96513,     0.96044,     0.95918,     0.95918,     0.95918,     0.95918,     0.95918,     0.95918,     0.95918,     0.95918,     0.95918,     0.95918,     0.95918,     0.95918,     0.95918,     0.95918,     0.95918,     0.95918,     0.95918,     0.95918,     0.95918,\n",
            "            0.95918,     0.95918,     0.95918,     0.95918,     0.95918,     0.95918,     0.95918,     0.95918,     0.95918,     0.95918,     0.95918,     0.95918,     0.95873,     0.95266,     0.95238,     0.95238,     0.95238,     0.95238,     0.95238,     0.95238,     0.95238,     0.95238,     0.95238,\n",
            "            0.95238,     0.95238,     0.95238,     0.95238,     0.95238,     0.95238,     0.95238,     0.95238,     0.95238,     0.95238,     0.95238,     0.95238,     0.95238,     0.95238,     0.95238,     0.95238,     0.95238,     0.95238,     0.95238,     0.95238,     0.95238,     0.95238,     0.95238,\n",
            "            0.95238,     0.95238,     0.95238,     0.95238,     0.95238,     0.95238,     0.95238,     0.95238,     0.95238,     0.95238,     0.95238,     0.95238,     0.95238,     0.95238,     0.95238,     0.95238,     0.95238,     0.95238,     0.95238,     0.95238,     0.95238,     0.95238,     0.95238,\n",
            "            0.95238,     0.95238,     0.95238,     0.95238,     0.95238,     0.95238,     0.95238,     0.95238,     0.95238,     0.95238,     0.95238,     0.95238,     0.95238,     0.95238,     0.95238,     0.95238,     0.95238,     0.95238,     0.95238,     0.94875,     0.94558,     0.94558,     0.94558,\n",
            "            0.94558,     0.94558,     0.94558,     0.94558,     0.94558,     0.94558,     0.94558,     0.94453,     0.93878,     0.93878,     0.93878,     0.93878,     0.93878,     0.93878,     0.93878,     0.93878,     0.93878,     0.93878,     0.93878,     0.93878,     0.93371,     0.93197,     0.93197,\n",
            "            0.93197,     0.93197,     0.93197,     0.93197,     0.93197,     0.93197,     0.93197,     0.93197,     0.93197,     0.93197,     0.93197,     0.93197,     0.93197,     0.93193,     0.92517,     0.92517,     0.92517,     0.92491,     0.92412,     0.92333,     0.92254,     0.92174,     0.92095,\n",
            "            0.92016,     0.91937,     0.91857,     0.91669,     0.91421,     0.91172,     0.91156,     0.91156,     0.91156,     0.91156,     0.91156,     0.91156,     0.91156,     0.91156,     0.91156,     0.91156,     0.90476,     0.90476,     0.90476,     0.90476,     0.90476,     0.90476,     0.90476,\n",
            "            0.90476,     0.90476,     0.90476,     0.90476,     0.90476,     0.90476,     0.90476,     0.90012,     0.89796,     0.89796,     0.89796,     0.89796,     0.89796,     0.89796,     0.89796,     0.89796,     0.89796,     0.89796,     0.89796,     0.89796,     0.89796,     0.89796,     0.89796,\n",
            "            0.89796,     0.89796,     0.89796,     0.89796,     0.89796,     0.89796,     0.89796,     0.89796,     0.89796,     0.89796,     0.89796,     0.89796,     0.89796,     0.89796,     0.89796,     0.89796,     0.89796,     0.89796,     0.89796,     0.89796,     0.89796,     0.89796,     0.89796,\n",
            "            0.89796,     0.89796,     0.89796,     0.89796,     0.89796,     0.89796,     0.89796,     0.89796,     0.89796,     0.89796,     0.89796,     0.89796,     0.89605,     0.89116,     0.89116,     0.89116,     0.89116,     0.89094,      0.8902,     0.88946,     0.88872,     0.88798,     0.88724,\n",
            "             0.8865,     0.88576,     0.88502,     0.88429,     0.88362,     0.88295,     0.88227,      0.8816,     0.88093,     0.88026,     0.87959,     0.87892,     0.87825,     0.87757,     0.87755,     0.87755,     0.87755,     0.87755,     0.87755,     0.87755,     0.87755,     0.87755,     0.87665,\n",
            "            0.87571,     0.87477,     0.87384,      0.8729,     0.87196,     0.87103,     0.86921,     0.86702,     0.86483,     0.86395,     0.86395,     0.86395,     0.86395,     0.86395,     0.86395,     0.86395,     0.86395,     0.86395,     0.86395,     0.86395,     0.86395,     0.86395,     0.86395,\n",
            "            0.86395,     0.86395,     0.86395,     0.86395,     0.86395,     0.86395,     0.86395,     0.86395,     0.86395,     0.86395,     0.86395,     0.86395,     0.86395,     0.86395,     0.86395,     0.86395,     0.86395,     0.86395,     0.86395,     0.86395,     0.86395,     0.86395,     0.86395,\n",
            "            0.86395,     0.86395,      0.8639,     0.86298,     0.86206,     0.86114,     0.86022,      0.8593,     0.85838,     0.85747,     0.85714,     0.85714,     0.85714,     0.85714,     0.85272,     0.85034,     0.85028,      0.8489,     0.84752,     0.84614,     0.84476,     0.84344,     0.84264,\n",
            "            0.84184,     0.84104,     0.84024,     0.83944,     0.83864,     0.83784,     0.83704,     0.83673,     0.83673,     0.83673,     0.83673,     0.83316,     0.82993,     0.82993,     0.82993,     0.82993,     0.82945,     0.82833,      0.8272,     0.82607,     0.82495,     0.82382,     0.82262,\n",
            "             0.8213,     0.81997,     0.81865,     0.81733,     0.81633,     0.81633,     0.81633,     0.81633,     0.81572,     0.81263,     0.80955,     0.80232,     0.80132,     0.80033,     0.79933,     0.79834,     0.79735,     0.79635,     0.79347,     0.78912,     0.78912,     0.78912,     0.78912,\n",
            "            0.78912,     0.78912,     0.78732,     0.78441,     0.77401,      0.7638,     0.76053,     0.75872,      0.7569,     0.75509,     0.75289,     0.75069,     0.74849,     0.74028,     0.73561,     0.72785,      0.7226,       0.714,     0.71338,     0.71275,     0.71213,     0.71151,     0.71088,\n",
            "            0.71026,     0.70964,     0.70901,     0.70839,     0.70777,     0.70748,     0.69963,     0.69696,     0.69429,     0.69197,     0.68971,     0.68746,     0.68625,     0.68525,     0.68425,     0.68325,     0.68225,     0.68125,     0.68027,     0.68027,     0.68027,     0.68027,     0.68027,\n",
            "            0.68027,     0.67998,     0.67842,     0.67687,     0.67532,     0.67376,     0.67347,     0.67347,     0.66415,     0.65986,     0.65986,     0.65986,     0.65986,     0.65956,     0.65629,     0.65234,     0.64626,     0.64626,     0.64626,     0.64626,     0.64356,     0.63946,     0.63946,\n",
            "            0.63946,     0.63946,     0.63205,     0.63007,      0.6281,     0.62612,     0.61887,     0.61705,     0.61522,     0.61339,     0.60545,     0.60276,     0.60008,     0.59605,     0.59033,     0.58492,     0.58401,      0.5831,     0.58219,     0.58128,     0.58038,     0.57947,     0.57856,\n",
            "            0.57288,     0.56856,     0.56508,     0.56331,     0.56179,     0.56028,     0.55876,     0.55669,     0.55372,     0.55102,     0.55102,     0.55102,     0.55102,     0.55102,     0.55098,     0.54961,     0.54824,     0.54687,     0.54549,     0.54422,     0.54422,     0.54261,     0.54094,\n",
            "            0.53928,     0.53761,     0.53512,     0.53162,     0.52825,     0.52494,     0.52194,     0.51909,     0.51455,     0.50944,       0.508,     0.50656,     0.50512,     0.50368,      0.5018,      0.4998,      0.4978,     0.49605,     0.49465,     0.49326,     0.49187,     0.49047,     0.48239,\n",
            "             0.4809,     0.47941,     0.47792,     0.47643,     0.47568,     0.47508,     0.47448,     0.47387,     0.47327,     0.47267,     0.47206,     0.47146,     0.47086,     0.47025,     0.46965,     0.46896,     0.46822,     0.46747,     0.46672,     0.46597,     0.46522,     0.46447,     0.46372,\n",
            "            0.46297,     0.46202,     0.46085,     0.45967,      0.4585,     0.45733,     0.45615,     0.45498,      0.4538,     0.45262,     0.45144,     0.45027,     0.44909,     0.44898,     0.44898,     0.44898,     0.44898,     0.44898,     0.44898,     0.44898,     0.44898,     0.44898,     0.44898,\n",
            "            0.44898,     0.44898,     0.44734,     0.44484,     0.44235,     0.43814,     0.42857,     0.42857,     0.42122,     0.41947,     0.41772,     0.41597,     0.40845,     0.40351,     0.39897,     0.39459,     0.38905,     0.38551,     0.38258,     0.38069,     0.38009,      0.3795,      0.3789,\n",
            "             0.3783,     0.37771,     0.37711,     0.37652,     0.37592,     0.37533,     0.37473,     0.37396,     0.36726,     0.36597,     0.36468,     0.36339,     0.36209,      0.3608,     0.35891,     0.35686,     0.35482,     0.34151,     0.33883,     0.33746,     0.33609,     0.33472,     0.33336,\n",
            "            0.32804,     0.32466,     0.32205,     0.31973,     0.31973,      0.3192,     0.31356,     0.31026,     0.30725,     0.30546,     0.30439,     0.30333,     0.30226,     0.30119,     0.30013,     0.29868,       0.296,     0.29333,     0.29071,     0.28811,     0.28321,     0.27274,     0.26364,\n",
            "            0.26107,      0.2585,     0.25637,     0.25424,     0.25211,     0.24586,     0.24442,     0.24387,     0.24331,     0.24276,      0.2422,     0.24165,      0.2411,     0.24054,     0.23999,     0.23944,     0.23888,     0.23833,     0.23641,     0.23347,     0.22304,     0.21429,      0.2039,\n",
            "            0.19674,     0.19582,      0.1949,     0.19399,     0.19307,     0.19216,     0.19124,     0.19031,     0.18931,     0.18831,     0.18731,     0.18631,     0.18531,     0.18431,     0.18339,      0.1826,     0.18182,     0.18103,     0.18025,     0.17947,     0.17868,      0.1779,     0.17711,\n",
            "            0.17585,     0.17437,     0.17289,     0.17141,     0.16998,     0.16901,     0.16804,     0.16706,     0.16609,     0.16512,     0.16414,     0.16201,     0.15509,     0.15264,     0.15018,     0.14273,     0.14072,     0.13872,     0.13671,     0.13003,      0.1264,     0.12327,      0.1146,\n",
            "            0.11196,     0.10931,     0.10424,      0.1007,    0.098488,    0.096275,    0.094959,    0.094433,    0.093907,    0.093381,    0.092855,     0.09233,    0.091804,    0.091278,    0.090752,    0.090226,    0.089701,    0.089175,    0.088649,    0.087038,    0.084684,     0.08233,    0.080718,\n",
            "           0.079419,    0.078119,     0.07682,     0.07552,    0.074379,    0.073418,    0.072456,    0.071494,    0.070533,    0.069571,     0.06861,    0.067385,    0.065758,     0.06413,    0.062502,    0.061082,    0.060418,    0.059755,    0.059091,    0.058428,    0.057764,    0.057101,    0.056438,\n",
            "           0.055774,    0.055111,    0.054447,    0.053455,     0.05245,    0.051444,    0.050439,    0.049434,    0.048429,    0.047263,    0.045434,    0.043605,    0.041775,    0.039284,    0.036062,    0.033053,    0.030414,    0.027775,    0.026158,    0.024819,     0.02348,     0.02214,    0.020801,\n",
            "           0.018604,    0.016051,    0.013516,     0.01141,   0.0093041,   0.0071982,           0,           0,           0,           0,           0,           0,           0,           0,           0,           0,           0,           0,           0,           0,           0,           0,           0,\n",
            "                  0,           0,           0,           0,           0,           0,           0,           0,           0,           0,           0,           0,           0,           0,           0,           0,           0,           0,           0,           0,           0,           0,           0,\n",
            "                  0,           0,           0,           0,           0,           0,           0,           0,           0,           0,           0,           0,           0,           0,           0,           0,           0,           0,           0,           0,           0,           0,           0,\n",
            "                  0,           0,           0,           0,           0,           0,           0,           0,           0,           0,           0,           0,           0,           0,           0,           0,           0,           0,           0,           0,           0,           0,           0,\n",
            "                  0,           0,           0,           0,           0,           0,           0,           0,           0,           0,           0]]), 'Confidence', 'Recall']]\n",
            "fitness: 0.5536015210754012\n",
            "keys: ['metrics/precision(B)', 'metrics/recall(B)', 'metrics/mAP50(B)', 'metrics/mAP50-95(B)']\n",
            "maps: array([    0.51397])\n",
            "names: {0: 'smoke'}\n",
            "plot: True\n",
            "results_dict: {'metrics/precision(B)': 0.8213789384100961, 'metrics/recall(B)': 0.8639455782312925, 'metrics/mAP50(B)': 0.9103301137087417, 'metrics/mAP50-95(B)': 0.5139650107828078, 'fitness': 0.5536015210754012}\n",
            "save_dir: PosixPath('runs/detect/train52')\n",
            "speed: {'preprocess': 0.12186757561300889, 'inference': 4.255124500819615, 'loss': 0.001005574959475978, 'postprocess': 1.456049834789873}\n",
            "task: 'detect'\n"
          ]
        }
      ]
    },
    {
      "cell_type": "code",
      "source": [
        "import locale\n",
        "locale.getpreferredencoding = lambda: \"UTF-8\""
      ],
      "metadata": {
        "id": "-rOYZ_vChiNl"
      },
      "execution_count": 8,
      "outputs": []
    },
    {
      "cell_type": "code",
      "source": [
        "%cd /content/drive/MyDrive/WildfireSmoke.v1-raw.yolov8"
      ],
      "metadata": {
        "colab": {
          "base_uri": "https://localhost:8080/"
        },
        "id": "sNtyo9GjXoQ7",
        "outputId": "33fee89d-a68e-46a8-cfb8-a2acfc308451"
      },
      "execution_count": 9,
      "outputs": [
        {
          "output_type": "stream",
          "name": "stdout",
          "text": [
            "/content/drive/MyDrive/WildfireSmoke.v1-raw.yolov8\n"
          ]
        }
      ]
    },
    {
      "cell_type": "code",
      "source": [
        "!yolo task=detect mode=predict model= /content/drive/MyDrive/WildfireSmoke.v1-raw.yolov8/valid save=True"
      ],
      "metadata": {
        "id": "DKWmvvMFhiLA",
        "outputId": "a1ce62d0-5ef3-4822-df34-3f4becd39661",
        "colab": {
          "base_uri": "https://localhost:8080/"
        }
      },
      "execution_count": 11,
      "outputs": [
        {
          "output_type": "stream",
          "name": "stdout",
          "text": [
            "WARNING ⚠️ 'source' argument is missing. Using default 'source=/usr/local/lib/python3.10/dist-packages/ultralytics/assets'.\n",
            "Ultralytics YOLOv8.2.84 🚀 Python-3.10.12 torch-2.4.0+cu121 CUDA:0 (NVIDIA A100-SXM4-40GB, 40514MiB)\n",
            "Traceback (most recent call last):\n",
            "  File \"/usr/local/bin/yolo\", line 8, in <module>\n",
            "    sys.exit(entrypoint())\n",
            "  File \"/usr/local/lib/python3.10/dist-packages/ultralytics/cfg/__init__.py\", line 830, in entrypoint\n",
            "    getattr(model, mode)(**overrides)  # default args from model\n",
            "  File \"/usr/local/lib/python3.10/dist-packages/ultralytics/engine/model.py\", line 560, in predict\n",
            "    self.predictor.setup_model(model=self.model, verbose=is_cli)\n",
            "  File \"/usr/local/lib/python3.10/dist-packages/ultralytics/engine/predictor.py\", line 303, in setup_model\n",
            "    self.model = AutoBackend(\n",
            "  File \"/usr/local/lib/python3.10/dist-packages/torch/utils/_contextlib.py\", line 116, in decorate_context\n",
            "    return func(*args, **kwargs)\n",
            "  File \"/usr/local/lib/python3.10/dist-packages/ultralytics/nn/autobackend.py\", line 400, in __init__\n",
            "    raise TypeError(\n",
            "TypeError: model='/content/drive/MyDrive/WildfireSmoke.v1-raw.yolov8/valid' is not a supported model format. See https://docs.ultralytics.com/modes/predict for help.\n",
            "\n",
            "                   Format     Argument           Suffix    CPU    GPU\n",
            "0                 PyTorch            -              .pt   True   True\n",
            "1             TorchScript  torchscript     .torchscript   True   True\n",
            "2                    ONNX         onnx            .onnx   True   True\n",
            "3                OpenVINO     openvino  _openvino_model   True  False\n",
            "4                TensorRT       engine          .engine  False   True\n",
            "5                  CoreML       coreml       .mlpackage   True  False\n",
            "6   TensorFlow SavedModel  saved_model     _saved_model   True   True\n",
            "7     TensorFlow GraphDef           pb              .pb   True   True\n",
            "8         TensorFlow Lite       tflite          .tflite   True  False\n",
            "9     TensorFlow Edge TPU      edgetpu  _edgetpu.tflite   True  False\n",
            "10          TensorFlow.js         tfjs       _web_model   True  False\n",
            "11           PaddlePaddle       paddle    _paddle_model   True   True\n",
            "12                   NCNN         ncnn      _ncnn_model   True   True\n"
          ]
        }
      ]
    },
    {
      "cell_type": "code",
      "source": [
        "%cd /content/drive/MyDrive/WildfireSmoke.v1-raw.yolov8/train\n",
        "!yolo task=detect mode=predict model= /content/drive/MyDrive/WildfireSmoke.v1-raw.yolov8/runs/detect/train3/weights/best.pt source= /content/drive/MyDrive/WILDFIRE save=True"
      ],
      "metadata": {
        "id": "0KH3dexahiIq",
        "outputId": "0358db60-46e5-477b-b4bd-1f6b3980f0b5",
        "colab": {
          "base_uri": "https://localhost:8080/"
        }
      },
      "execution_count": 12,
      "outputs": [
        {
          "output_type": "stream",
          "name": "stdout",
          "text": [
            "/content/drive/MyDrive/WildfireSmoke.v1-raw.yolov8/train\n",
            "Ultralytics YOLOv8.2.84 🚀 Python-3.10.12 torch-2.4.0+cu121 CUDA:0 (NVIDIA A100-SXM4-40GB, 40514MiB)\n",
            "Model summary (fused): 168 layers, 3,005,843 parameters, 0 gradients, 8.1 GFLOPs\n",
            "\n",
            "image 1/7 /content/drive/MyDrive/WILDFIRE/wildfire1.jpg: 384x640 (no detections), 45.2ms\n",
            "image 2/7 /content/drive/MyDrive/WILDFIRE/wildfire2.jpg: 640x640 (no detections), 8.1ms\n",
            "image 3/7 /content/drive/MyDrive/WILDFIRE/wildfire3.jpeg: 384x640 (no detections), 9.0ms\n",
            "image 4/7 /content/drive/MyDrive/WILDFIRE/wildfire4.jpg: 480x640 1 smoke, 45.7ms\n",
            "image 5/7 /content/drive/MyDrive/WILDFIRE/wildfire5.jpg: 448x640 (no detections), 45.1ms\n",
            "image 6/7 /content/drive/MyDrive/WILDFIRE/wildfire6.jpg: 448x640 (no detections), 7.9ms\n",
            "image 7/7 /content/drive/MyDrive/WILDFIRE/wildfire7.jpg: 384x640 (no detections), 8.3ms\n",
            "Speed: 2.8ms preprocess, 24.2ms inference, 88.1ms postprocess per image at shape (1, 3, 384, 640)\n",
            "Results saved to \u001b[1mruns/detect/predict2\u001b[0m\n",
            "💡 Learn more at https://docs.ultralytics.com/modes/predict\n"
          ]
        }
      ]
    },
    {
      "cell_type": "code",
      "source": [
        "!yolo task=detect mode=val model=/content/drive/MyDrive/WildfireSmoke.v1-raw.yolov8/runs/detect/train3/weights/best.pt data=/content/drive/MyDrive/WildfireSmoke.v1-raw.yolov8/data.yaml\n"
      ],
      "metadata": {
        "colab": {
          "base_uri": "https://localhost:8080/"
        },
        "id": "6XTG5ZGCnhh6",
        "outputId": "383543d6-58a8-42e8-9b9c-ddc299474d63"
      },
      "execution_count": 31,
      "outputs": [
        {
          "output_type": "stream",
          "name": "stdout",
          "text": [
            "Ultralytics YOLOv8.2.84 🚀 Python-3.10.12 torch-2.4.0+cu121 CUDA:0 (NVIDIA A100-SXM4-40GB, 40514MiB)\n",
            "Model summary (fused): 168 layers, 3,005,843 parameters, 0 gradients, 8.1 GFLOPs\n",
            "\u001b[34m\u001b[1mval: \u001b[0mScanning /content/drive/MyDrive/WildfireSmoke.v1-raw.yolov8/valid/labels.cache... 147 images, 0 backgrounds, 0 corrupt: 100% 147/147 [00:00<?, ?it/s]\n",
            "                 Class     Images  Instances      Box(P          R      mAP50  mAP50-95): 100% 10/10 [00:03<00:00,  3.13it/s]\n",
            "                   all        147        147      0.905      0.918       0.96      0.554\n",
            "Speed: 1.2ms preprocess, 1.3ms inference, 0.0ms loss, 10.5ms postprocess per image\n",
            "Results saved to \u001b[1mruns/detect/val12\u001b[0m\n",
            "💡 Learn more at https://docs.ultralytics.com/modes/val\n"
          ]
        }
      ]
    },
    {
      "cell_type": "code",
      "source": [],
      "metadata": {
        "id": "JDynoYcJnhUC"
      },
      "execution_count": null,
      "outputs": []
    }
  ],
  "metadata": {
    "colab": {
      "provenance": [],
      "machine_shape": "hm",
      "gpuType": "A100"
    },
    "kernelspec": {
      "display_name": "Python 3",
      "name": "python3"
    },
    "accelerator": "GPU"
  },
  "nbformat": 4,
  "nbformat_minor": 0
}