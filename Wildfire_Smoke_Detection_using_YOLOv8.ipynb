{
  "cells": [
    {
      "cell_type": "code",
      "source": [
        "!nvidia-smi"
      ],
      "metadata": {
        "colab": {
          "base_uri": "https://localhost:8080/"
        },
        "id": "qyjES8q8CbwE",
        "outputId": "5bb97000-9efb-4bf1-ca88-61544c43730b"
      },
      "execution_count": null,
      "outputs": [
        {
          "output_type": "stream",
          "name": "stdout",
          "text": [
            "Sat Aug 31 11:19:45 2024       \n",
            "+---------------------------------------------------------------------------------------+\n",
            "| NVIDIA-SMI 535.104.05             Driver Version: 535.104.05   CUDA Version: 12.2     |\n",
            "|-----------------------------------------+----------------------+----------------------+\n",
            "| GPU  Name                 Persistence-M | Bus-Id        Disp.A | Volatile Uncorr. ECC |\n",
            "| Fan  Temp   Perf          Pwr:Usage/Cap |         Memory-Usage | GPU-Util  Compute M. |\n",
            "|                                         |                      |               MIG M. |\n",
            "|=========================================+======================+======================|\n",
            "|   0  NVIDIA A100-SXM4-40GB          Off | 00000000:00:04.0 Off |                    0 |\n",
            "| N/A   32C    P0              44W / 400W |      2MiB / 40960MiB |      0%      Default |\n",
            "|                                         |                      |             Disabled |\n",
            "+-----------------------------------------+----------------------+----------------------+\n",
            "                                                                                         \n",
            "+---------------------------------------------------------------------------------------+\n",
            "| Processes:                                                                            |\n",
            "|  GPU   GI   CI        PID   Type   Process name                            GPU Memory |\n",
            "|        ID   ID                                                             Usage      |\n",
            "|=======================================================================================|\n",
            "|  No running processes found                                                           |\n",
            "+---------------------------------------------------------------------------------------+\n"
          ]
        }
      ]
    },
    {
      "cell_type": "code",
      "source": [
        "!pip install ultralytics\n",
        "\n",
        "from IPython import display\n",
        "display.clear_output()\n",
        "\n",
        "import ultralytics\n",
        "ultralytics.checks()"
      ],
      "metadata": {
        "colab": {
          "base_uri": "https://localhost:8080/"
        },
        "id": "tvP0KYcfCbym",
        "outputId": "1c701f6c-3acc-42f0-f3f2-cfd0bfe9a5c9"
      },
      "execution_count": null,
      "outputs": [
        {
          "output_type": "stream",
          "name": "stdout",
          "text": [
            "Ultralytics YOLOv8.2.84 🚀 Python-3.10.12 torch-2.4.0+cu121 CUDA:0 (NVIDIA A100-SXM4-40GB, 40514MiB)\n",
            "Setup complete ✅ (12 CPUs, 83.5 GB RAM, 32.8/201.2 GB disk)\n"
          ]
        }
      ]
    },
    {
      "cell_type": "code",
      "source": [
        "from google.colab import drive\n",
        "drive.mount('/content/drive')"
      ],
      "metadata": {
        "colab": {
          "base_uri": "https://localhost:8080/"
        },
        "id": "VkYY8WrUCb1D",
        "outputId": "4bd5cdeb-3caa-4bb8-914a-0d93db3c55bb"
      },
      "execution_count": null,
      "outputs": [
        {
          "output_type": "stream",
          "name": "stdout",
          "text": [
            "Mounted at /content/drive\n"
          ]
        }
      ]
    },
    {
      "cell_type": "code",
      "source": [
        "!ls"
      ],
      "metadata": {
        "colab": {
          "base_uri": "https://localhost:8080/"
        },
        "id": "mYO91HViCb3g",
        "outputId": "29f03ec6-0a34-4e27-d085-76c5b74474ba"
      },
      "execution_count": null,
      "outputs": [
        {
          "output_type": "stream",
          "name": "stdout",
          "text": [
            "drive\n"
          ]
        }
      ]
    },
    {
      "cell_type": "code",
      "source": [
        "from ultralytics import YOLO\n",
        "model = YOLO('yolov8n.pt')\n",
        "model.train(data='/content/drive/MyDrive/WildfireSmoke.v1-raw.yolov8/data.yaml', epochs=50, imgsz=640, batch=16)\n"
      ],
      "metadata": {
        "colab": {
          "base_uri": "https://localhost:8080/"
        },
        "id": "yHB_8jB3LzPB",
        "outputId": "ae68ebc9-aeb4-413d-86b7-5178273fc528"
      },
      "execution_count": null,
      "outputs": [
        {
          "output_type": "stream",
          "name": "stdout",
          "text": [
            "Ultralytics YOLOv8.2.84 🚀 Python-3.10.12 torch-2.4.0+cu121 CUDA:0 (NVIDIA A100-SXM4-40GB, 40514MiB)\n",
            "\u001b[34m\u001b[1mengine/trainer: \u001b[0mtask=detect, mode=train, model=yolov8n.pt, data=/content/drive/MyDrive/WildfireSmoke.v1-raw.yolov8/data.yaml, epochs=50, time=None, patience=100, batch=16, imgsz=640, save=True, save_period=-1, cache=False, device=None, workers=8, project=None, name=train3, exist_ok=False, pretrained=True, optimizer=auto, verbose=True, seed=0, deterministic=True, single_cls=False, rect=False, cos_lr=False, close_mosaic=10, resume=False, amp=True, fraction=1.0, profile=False, freeze=None, multi_scale=False, overlap_mask=True, mask_ratio=4, dropout=0.0, val=True, split=val, save_json=False, save_hybrid=False, conf=None, iou=0.7, max_det=300, half=False, dnn=False, plots=True, source=None, vid_stride=1, stream_buffer=False, visualize=False, augment=False, agnostic_nms=False, classes=None, retina_masks=False, embed=None, show=False, save_frames=False, save_txt=False, save_conf=False, save_crop=False, show_labels=True, show_conf=True, show_boxes=True, line_width=None, format=torchscript, keras=False, optimize=False, int8=False, dynamic=False, simplify=False, opset=None, workspace=4, nms=False, lr0=0.01, lrf=0.01, momentum=0.937, weight_decay=0.0005, warmup_epochs=3.0, warmup_momentum=0.8, warmup_bias_lr=0.1, box=7.5, cls=0.5, dfl=1.5, pose=12.0, kobj=1.0, label_smoothing=0.0, nbs=64, hsv_h=0.015, hsv_s=0.7, hsv_v=0.4, degrees=0.0, translate=0.1, scale=0.5, shear=0.0, perspective=0.0, flipud=0.0, fliplr=0.5, bgr=0.0, mosaic=1.0, mixup=0.0, copy_paste=0.0, auto_augment=randaugment, erasing=0.4, crop_fraction=1.0, cfg=None, tracker=botsort.yaml, save_dir=runs/detect/train3\n",
            "Overriding model.yaml nc=80 with nc=1\n",
            "\n",
            "                   from  n    params  module                                       arguments                     \n",
            "  0                  -1  1       464  ultralytics.nn.modules.conv.Conv             [3, 16, 3, 2]                 \n",
            "  1                  -1  1      4672  ultralytics.nn.modules.conv.Conv             [16, 32, 3, 2]                \n",
            "  2                  -1  1      7360  ultralytics.nn.modules.block.C2f             [32, 32, 1, True]             \n",
            "  3                  -1  1     18560  ultralytics.nn.modules.conv.Conv             [32, 64, 3, 2]                \n",
            "  4                  -1  2     49664  ultralytics.nn.modules.block.C2f             [64, 64, 2, True]             \n",
            "  5                  -1  1     73984  ultralytics.nn.modules.conv.Conv             [64, 128, 3, 2]               \n",
            "  6                  -1  2    197632  ultralytics.nn.modules.block.C2f             [128, 128, 2, True]           \n",
            "  7                  -1  1    295424  ultralytics.nn.modules.conv.Conv             [128, 256, 3, 2]              \n",
            "  8                  -1  1    460288  ultralytics.nn.modules.block.C2f             [256, 256, 1, True]           \n",
            "  9                  -1  1    164608  ultralytics.nn.modules.block.SPPF            [256, 256, 5]                 \n",
            " 10                  -1  1         0  torch.nn.modules.upsampling.Upsample         [None, 2, 'nearest']          \n",
            " 11             [-1, 6]  1         0  ultralytics.nn.modules.conv.Concat           [1]                           \n",
            " 12                  -1  1    148224  ultralytics.nn.modules.block.C2f             [384, 128, 1]                 \n",
            " 13                  -1  1         0  torch.nn.modules.upsampling.Upsample         [None, 2, 'nearest']          \n",
            " 14             [-1, 4]  1         0  ultralytics.nn.modules.conv.Concat           [1]                           \n",
            " 15                  -1  1     37248  ultralytics.nn.modules.block.C2f             [192, 64, 1]                  \n",
            " 16                  -1  1     36992  ultralytics.nn.modules.conv.Conv             [64, 64, 3, 2]                \n",
            " 17            [-1, 12]  1         0  ultralytics.nn.modules.conv.Concat           [1]                           \n",
            " 18                  -1  1    123648  ultralytics.nn.modules.block.C2f             [192, 128, 1]                 \n",
            " 19                  -1  1    147712  ultralytics.nn.modules.conv.Conv             [128, 128, 3, 2]              \n",
            " 20             [-1, 9]  1         0  ultralytics.nn.modules.conv.Concat           [1]                           \n",
            " 21                  -1  1    493056  ultralytics.nn.modules.block.C2f             [384, 256, 1]                 \n",
            " 22        [15, 18, 21]  1    751507  ultralytics.nn.modules.head.Detect           [1, [64, 128, 256]]           \n",
            "Model summary: 225 layers, 3,011,043 parameters, 3,011,027 gradients, 8.2 GFLOPs\n",
            "\n",
            "Transferred 319/355 items from pretrained weights\n",
            "\u001b[34m\u001b[1mTensorBoard: \u001b[0mStart with 'tensorboard --logdir runs/detect/train3', view at http://localhost:6006/\n",
            "Freezing layer 'model.22.dfl.conv.weight'\n",
            "\u001b[34m\u001b[1mAMP: \u001b[0mrunning Automatic Mixed Precision (AMP) checks with YOLOv8n...\n",
            "\u001b[34m\u001b[1mAMP: \u001b[0mchecks passed ✅\n"
          ]
        },
        {
          "output_type": "stream",
          "name": "stderr",
          "text": [
            "/usr/local/lib/python3.10/dist-packages/ultralytics/engine/trainer.py:268: FutureWarning: `torch.cuda.amp.GradScaler(args...)` is deprecated. Please use `torch.amp.GradScaler('cuda', args...)` instead.\n",
            "  self.scaler = torch.cuda.amp.GradScaler(enabled=self.amp)\n",
            "\u001b[34m\u001b[1mtrain: \u001b[0mScanning /content/drive/MyDrive/WildfireSmoke.v1-raw.yolov8/train/labels... 516 images, 0 backgrounds, 0 corrupt: 100%|██████████| 516/516 [00:29<00:00, 17.58it/s]\n"
          ]
        },
        {
          "output_type": "stream",
          "name": "stdout",
          "text": [
            "\u001b[34m\u001b[1mtrain: \u001b[0mNew cache created: /content/drive/MyDrive/WildfireSmoke.v1-raw.yolov8/train/labels.cache\n",
            "\u001b[34m\u001b[1malbumentations: \u001b[0mBlur(p=0.01, blur_limit=(3, 7)), MedianBlur(p=0.01, blur_limit=(3, 7)), ToGray(p=0.01), CLAHE(p=0.01, clip_limit=(1, 4.0), tile_grid_size=(8, 8))\n"
          ]
        },
        {
          "output_type": "stream",
          "name": "stderr",
          "text": [
            "/usr/lib/python3.10/multiprocessing/popen_fork.py:66: RuntimeWarning: os.fork() was called. os.fork() is incompatible with multithreaded code, and JAX is multithreaded, so this will likely lead to a deadlock.\n",
            "  self.pid = os.fork()\n",
            "\u001b[34m\u001b[1mval: \u001b[0mScanning /content/drive/MyDrive/WildfireSmoke.v1-raw.yolov8/valid/labels... 147 images, 0 backgrounds, 0 corrupt: 100%|██████████| 147/147 [00:07<00:00, 20.26it/s]"
          ]
        },
        {
          "output_type": "stream",
          "name": "stdout",
          "text": [
            "\u001b[34m\u001b[1mval: \u001b[0mNew cache created: /content/drive/MyDrive/WildfireSmoke.v1-raw.yolov8/valid/labels.cache\n"
          ]
        },
        {
          "output_type": "stream",
          "name": "stderr",
          "text": [
            "\n"
          ]
        },
        {
          "output_type": "stream",
          "name": "stdout",
          "text": [
            "Plotting labels to runs/detect/train3/labels.jpg... \n",
            "\u001b[34m\u001b[1moptimizer:\u001b[0m 'optimizer=auto' found, ignoring 'lr0=0.01' and 'momentum=0.937' and determining best 'optimizer', 'lr0' and 'momentum' automatically... \n",
            "\u001b[34m\u001b[1moptimizer:\u001b[0m AdamW(lr=0.002, momentum=0.9) with parameter groups 57 weight(decay=0.0), 64 weight(decay=0.0005), 63 bias(decay=0.0)\n",
            "\u001b[34m\u001b[1mTensorBoard: \u001b[0mmodel graph visualization added ✅\n",
            "Image sizes 640 train, 640 val\n",
            "Using 8 dataloader workers\n",
            "Logging results to \u001b[1mruns/detect/train3\u001b[0m\n",
            "Starting training for 50 epochs...\n",
            "\n",
            "      Epoch    GPU_mem   box_loss   cls_loss   dfl_loss  Instances       Size\n"
          ]
        },
        {
          "output_type": "stream",
          "name": "stderr",
          "text": [
            "       1/50      2.33G      2.092      3.734      1.705          6        640: 100%|██████████| 33/33 [00:05<00:00,  5.60it/s]\n",
            "                 Class     Images  Instances      Box(P          R      mAP50  mAP50-95): 100%|██████████| 5/5 [00:02<00:00,  2.44it/s]"
          ]
        },
        {
          "output_type": "stream",
          "name": "stdout",
          "text": [
            "                   all        147        147    0.00279      0.837      0.167     0.0564\n"
          ]
        },
        {
          "output_type": "stream",
          "name": "stderr",
          "text": [
            "\n"
          ]
        },
        {
          "output_type": "stream",
          "name": "stdout",
          "text": [
            "\n",
            "      Epoch    GPU_mem   box_loss   cls_loss   dfl_loss  Instances       Size\n"
          ]
        },
        {
          "output_type": "stream",
          "name": "stderr",
          "text": [
            "       2/50      2.28G      1.851      2.605      1.505          5        640: 100%|██████████| 33/33 [00:03<00:00,  9.48it/s]\n",
            "                 Class     Images  Instances      Box(P          R      mAP50  mAP50-95): 100%|██████████| 5/5 [00:00<00:00,  7.87it/s]"
          ]
        },
        {
          "output_type": "stream",
          "name": "stdout",
          "text": [
            "                   all        147        147      0.503      0.238      0.292      0.119\n"
          ]
        },
        {
          "output_type": "stream",
          "name": "stderr",
          "text": [
            "\n"
          ]
        },
        {
          "output_type": "stream",
          "name": "stdout",
          "text": [
            "\n",
            "      Epoch    GPU_mem   box_loss   cls_loss   dfl_loss  Instances       Size\n"
          ]
        },
        {
          "output_type": "stream",
          "name": "stderr",
          "text": [
            "       3/50      2.35G      1.901      2.444      1.568          5        640: 100%|██████████| 33/33 [00:03<00:00, 10.30it/s]\n",
            "                 Class     Images  Instances      Box(P          R      mAP50  mAP50-95): 100%|██████████| 5/5 [00:00<00:00,  7.61it/s]"
          ]
        },
        {
          "output_type": "stream",
          "name": "stdout",
          "text": [
            "                   all        147        147      0.155      0.156      0.102     0.0454\n"
          ]
        },
        {
          "output_type": "stream",
          "name": "stderr",
          "text": [
            "\n"
          ]
        },
        {
          "output_type": "stream",
          "name": "stdout",
          "text": [
            "\n",
            "      Epoch    GPU_mem   box_loss   cls_loss   dfl_loss  Instances       Size\n"
          ]
        },
        {
          "output_type": "stream",
          "name": "stderr",
          "text": [
            "       4/50      2.35G       1.81      2.191      1.549          5        640: 100%|██████████| 33/33 [00:03<00:00, 10.42it/s]\n",
            "                 Class     Images  Instances      Box(P          R      mAP50  mAP50-95): 100%|██████████| 5/5 [00:00<00:00,  7.64it/s]"
          ]
        },
        {
          "output_type": "stream",
          "name": "stdout",
          "text": [
            "                   all        147        147      0.309     0.0612     0.0777     0.0308\n"
          ]
        },
        {
          "output_type": "stream",
          "name": "stderr",
          "text": [
            "\n"
          ]
        },
        {
          "output_type": "stream",
          "name": "stdout",
          "text": [
            "\n",
            "      Epoch    GPU_mem   box_loss   cls_loss   dfl_loss  Instances       Size\n"
          ]
        },
        {
          "output_type": "stream",
          "name": "stderr",
          "text": [
            "       5/50      2.34G      1.771      1.933      1.536          5        640: 100%|██████████| 33/33 [00:03<00:00,  9.99it/s]\n",
            "                 Class     Images  Instances      Box(P          R      mAP50  mAP50-95): 100%|██████████| 5/5 [00:00<00:00,  7.46it/s]"
          ]
        },
        {
          "output_type": "stream",
          "name": "stdout",
          "text": [
            "                   all        147        147      0.466      0.395      0.383      0.175\n"
          ]
        },
        {
          "output_type": "stream",
          "name": "stderr",
          "text": [
            "\n"
          ]
        },
        {
          "output_type": "stream",
          "name": "stdout",
          "text": [
            "\n",
            "      Epoch    GPU_mem   box_loss   cls_loss   dfl_loss  Instances       Size\n"
          ]
        },
        {
          "output_type": "stream",
          "name": "stderr",
          "text": [
            "       6/50      2.25G       1.81      1.773      1.562          7        640: 100%|██████████| 33/33 [00:03<00:00, 10.24it/s]\n",
            "                 Class     Images  Instances      Box(P          R      mAP50  mAP50-95): 100%|██████████| 5/5 [00:00<00:00,  8.17it/s]"
          ]
        },
        {
          "output_type": "stream",
          "name": "stdout",
          "text": [
            "                   all        147        147      0.232      0.381      0.246      0.111\n"
          ]
        },
        {
          "output_type": "stream",
          "name": "stderr",
          "text": [
            "\n"
          ]
        },
        {
          "output_type": "stream",
          "name": "stdout",
          "text": [
            "\n",
            "      Epoch    GPU_mem   box_loss   cls_loss   dfl_loss  Instances       Size\n"
          ]
        },
        {
          "output_type": "stream",
          "name": "stderr",
          "text": [
            "       7/50      2.35G       1.78        1.7      1.512          7        640: 100%|██████████| 33/33 [00:03<00:00, 10.58it/s]\n",
            "                 Class     Images  Instances      Box(P          R      mAP50  mAP50-95): 100%|██████████| 5/5 [00:00<00:00,  7.72it/s]"
          ]
        },
        {
          "output_type": "stream",
          "name": "stdout",
          "text": [
            "                   all        147        147      0.482      0.571      0.457      0.215\n"
          ]
        },
        {
          "output_type": "stream",
          "name": "stderr",
          "text": [
            "\n"
          ]
        },
        {
          "output_type": "stream",
          "name": "stdout",
          "text": [
            "\n",
            "      Epoch    GPU_mem   box_loss   cls_loss   dfl_loss  Instances       Size\n"
          ]
        },
        {
          "output_type": "stream",
          "name": "stderr",
          "text": [
            "       8/50      2.35G      1.714      1.541      1.484         12        640: 100%|██████████| 33/33 [00:03<00:00, 10.22it/s]\n",
            "                 Class     Images  Instances      Box(P          R      mAP50  mAP50-95): 100%|██████████| 5/5 [00:00<00:00,  7.68it/s]"
          ]
        },
        {
          "output_type": "stream",
          "name": "stdout",
          "text": [
            "                   all        147        147      0.552      0.449      0.462      0.216\n"
          ]
        },
        {
          "output_type": "stream",
          "name": "stderr",
          "text": [
            "\n"
          ]
        },
        {
          "output_type": "stream",
          "name": "stdout",
          "text": [
            "\n",
            "      Epoch    GPU_mem   box_loss   cls_loss   dfl_loss  Instances       Size\n"
          ]
        },
        {
          "output_type": "stream",
          "name": "stderr",
          "text": [
            "       9/50      2.34G      1.731      1.577      1.493         11        640: 100%|██████████| 33/33 [00:03<00:00, 10.05it/s]\n",
            "                 Class     Images  Instances      Box(P          R      mAP50  mAP50-95): 100%|██████████| 5/5 [00:00<00:00,  7.44it/s]"
          ]
        },
        {
          "output_type": "stream",
          "name": "stdout",
          "text": [
            "                   all        147        147      0.649      0.646      0.615      0.268\n"
          ]
        },
        {
          "output_type": "stream",
          "name": "stderr",
          "text": [
            "\n"
          ]
        },
        {
          "output_type": "stream",
          "name": "stdout",
          "text": [
            "\n",
            "      Epoch    GPU_mem   box_loss   cls_loss   dfl_loss  Instances       Size\n"
          ]
        },
        {
          "output_type": "stream",
          "name": "stderr",
          "text": [
            "      10/50      2.26G      1.647      1.401      1.454          8        640: 100%|██████████| 33/33 [00:03<00:00, 10.55it/s]\n",
            "                 Class     Images  Instances      Box(P          R      mAP50  mAP50-95): 100%|██████████| 5/5 [00:00<00:00,  7.91it/s]"
          ]
        },
        {
          "output_type": "stream",
          "name": "stdout",
          "text": [
            "                   all        147        147      0.605      0.544      0.549      0.231\n"
          ]
        },
        {
          "output_type": "stream",
          "name": "stderr",
          "text": [
            "\n"
          ]
        },
        {
          "output_type": "stream",
          "name": "stdout",
          "text": [
            "\n",
            "      Epoch    GPU_mem   box_loss   cls_loss   dfl_loss  Instances       Size\n"
          ]
        },
        {
          "output_type": "stream",
          "name": "stderr",
          "text": [
            "      11/50      2.35G      1.661       1.36      1.475          7        640: 100%|██████████| 33/33 [00:03<00:00, 10.47it/s]\n",
            "                 Class     Images  Instances      Box(P          R      mAP50  mAP50-95): 100%|██████████| 5/5 [00:00<00:00,  8.52it/s]"
          ]
        },
        {
          "output_type": "stream",
          "name": "stdout",
          "text": [
            "                   all        147        147      0.596      0.663      0.629      0.259\n"
          ]
        },
        {
          "output_type": "stream",
          "name": "stderr",
          "text": [
            "\n"
          ]
        },
        {
          "output_type": "stream",
          "name": "stdout",
          "text": [
            "\n",
            "      Epoch    GPU_mem   box_loss   cls_loss   dfl_loss  Instances       Size\n"
          ]
        },
        {
          "output_type": "stream",
          "name": "stderr",
          "text": [
            "      12/50      2.34G      1.715      1.418      1.501          4        640: 100%|██████████| 33/33 [00:03<00:00, 10.05it/s]\n",
            "                 Class     Images  Instances      Box(P          R      mAP50  mAP50-95): 100%|██████████| 5/5 [00:00<00:00,  7.56it/s]"
          ]
        },
        {
          "output_type": "stream",
          "name": "stdout",
          "text": [
            "                   all        147        147      0.652      0.571      0.581      0.267\n"
          ]
        },
        {
          "output_type": "stream",
          "name": "stderr",
          "text": [
            "\n"
          ]
        },
        {
          "output_type": "stream",
          "name": "stdout",
          "text": [
            "\n",
            "      Epoch    GPU_mem   box_loss   cls_loss   dfl_loss  Instances       Size\n"
          ]
        },
        {
          "output_type": "stream",
          "name": "stderr",
          "text": [
            "      13/50      2.34G      1.654      1.313       1.45         10        640: 100%|██████████| 33/33 [00:03<00:00,  9.90it/s]\n",
            "                 Class     Images  Instances      Box(P          R      mAP50  mAP50-95): 100%|██████████| 5/5 [00:00<00:00,  7.79it/s]"
          ]
        },
        {
          "output_type": "stream",
          "name": "stdout",
          "text": [
            "                   all        147        147      0.777      0.714      0.777      0.359\n"
          ]
        },
        {
          "output_type": "stream",
          "name": "stderr",
          "text": [
            "\n"
          ]
        },
        {
          "output_type": "stream",
          "name": "stdout",
          "text": [
            "\n",
            "      Epoch    GPU_mem   box_loss   cls_loss   dfl_loss  Instances       Size\n"
          ]
        },
        {
          "output_type": "stream",
          "name": "stderr",
          "text": [
            "      14/50      2.25G      1.602       1.23      1.446          8        640: 100%|██████████| 33/33 [00:03<00:00, 10.37it/s]\n",
            "                 Class     Images  Instances      Box(P          R      mAP50  mAP50-95): 100%|██████████| 5/5 [00:00<00:00,  7.84it/s]"
          ]
        },
        {
          "output_type": "stream",
          "name": "stdout",
          "text": [
            "                   all        147        147      0.801      0.782      0.813      0.402\n"
          ]
        },
        {
          "output_type": "stream",
          "name": "stderr",
          "text": [
            "\n"
          ]
        },
        {
          "output_type": "stream",
          "name": "stdout",
          "text": [
            "\n",
            "      Epoch    GPU_mem   box_loss   cls_loss   dfl_loss  Instances       Size\n"
          ]
        },
        {
          "output_type": "stream",
          "name": "stderr",
          "text": [
            "      15/50      2.34G      1.598      1.252      1.428          4        640: 100%|██████████| 33/33 [00:03<00:00, 10.63it/s]\n",
            "                 Class     Images  Instances      Box(P          R      mAP50  mAP50-95): 100%|██████████| 5/5 [00:00<00:00,  7.98it/s]"
          ]
        },
        {
          "output_type": "stream",
          "name": "stdout",
          "text": [
            "                   all        147        147      0.721      0.694      0.731      0.392\n"
          ]
        },
        {
          "output_type": "stream",
          "name": "stderr",
          "text": [
            "\n"
          ]
        },
        {
          "output_type": "stream",
          "name": "stdout",
          "text": [
            "\n",
            "      Epoch    GPU_mem   box_loss   cls_loss   dfl_loss  Instances       Size\n"
          ]
        },
        {
          "output_type": "stream",
          "name": "stderr",
          "text": [
            "      16/50      2.35G      1.556      1.227      1.375          9        640: 100%|██████████| 33/33 [00:03<00:00, 10.17it/s]\n",
            "                 Class     Images  Instances      Box(P          R      mAP50  mAP50-95): 100%|██████████| 5/5 [00:00<00:00,  7.19it/s]"
          ]
        },
        {
          "output_type": "stream",
          "name": "stdout",
          "text": [
            "                   all        147        147      0.619      0.639       0.62       0.28\n"
          ]
        },
        {
          "output_type": "stream",
          "name": "stderr",
          "text": [
            "\n"
          ]
        },
        {
          "output_type": "stream",
          "name": "stdout",
          "text": [
            "\n",
            "      Epoch    GPU_mem   box_loss   cls_loss   dfl_loss  Instances       Size\n"
          ]
        },
        {
          "output_type": "stream",
          "name": "stderr",
          "text": [
            "      17/50      2.33G      1.568      1.183      1.382          9        640: 100%|██████████| 33/33 [00:03<00:00, 10.06it/s]\n",
            "                 Class     Images  Instances      Box(P          R      mAP50  mAP50-95): 100%|██████████| 5/5 [00:00<00:00,  7.30it/s]"
          ]
        },
        {
          "output_type": "stream",
          "name": "stdout",
          "text": [
            "                   all        147        147      0.729      0.769      0.823      0.419\n"
          ]
        },
        {
          "output_type": "stream",
          "name": "stderr",
          "text": [
            "\n"
          ]
        },
        {
          "output_type": "stream",
          "name": "stdout",
          "text": [
            "\n",
            "      Epoch    GPU_mem   box_loss   cls_loss   dfl_loss  Instances       Size\n"
          ]
        },
        {
          "output_type": "stream",
          "name": "stderr",
          "text": [
            "      18/50      2.25G      1.559      1.169      1.382          4        640: 100%|██████████| 33/33 [00:03<00:00, 10.51it/s]\n",
            "                 Class     Images  Instances      Box(P          R      mAP50  mAP50-95): 100%|██████████| 5/5 [00:00<00:00,  7.80it/s]"
          ]
        },
        {
          "output_type": "stream",
          "name": "stdout",
          "text": [
            "                   all        147        147      0.519      0.551       0.53      0.249\n"
          ]
        },
        {
          "output_type": "stream",
          "name": "stderr",
          "text": [
            "\n"
          ]
        },
        {
          "output_type": "stream",
          "name": "stdout",
          "text": [
            "\n",
            "      Epoch    GPU_mem   box_loss   cls_loss   dfl_loss  Instances       Size\n"
          ]
        },
        {
          "output_type": "stream",
          "name": "stderr",
          "text": [
            "      19/50      2.34G      1.545      1.153      1.376          4        640: 100%|██████████| 33/33 [00:03<00:00,  9.84it/s]\n",
            "                 Class     Images  Instances      Box(P          R      mAP50  mAP50-95): 100%|██████████| 5/5 [00:00<00:00,  7.38it/s]"
          ]
        },
        {
          "output_type": "stream",
          "name": "stdout",
          "text": [
            "                   all        147        147      0.756      0.619      0.654      0.333\n"
          ]
        },
        {
          "output_type": "stream",
          "name": "stderr",
          "text": [
            "\n"
          ]
        },
        {
          "output_type": "stream",
          "name": "stdout",
          "text": [
            "\n",
            "      Epoch    GPU_mem   box_loss   cls_loss   dfl_loss  Instances       Size\n"
          ]
        },
        {
          "output_type": "stream",
          "name": "stderr",
          "text": [
            "      20/50      2.35G      1.469      1.105      1.325          9        640: 100%|██████████| 33/33 [00:03<00:00,  9.61it/s]\n",
            "                 Class     Images  Instances      Box(P          R      mAP50  mAP50-95): 100%|██████████| 5/5 [00:00<00:00,  7.53it/s]"
          ]
        },
        {
          "output_type": "stream",
          "name": "stdout",
          "text": [
            "                   all        147        147        0.7      0.796      0.824      0.405\n"
          ]
        },
        {
          "output_type": "stream",
          "name": "stderr",
          "text": [
            "\n"
          ]
        },
        {
          "output_type": "stream",
          "name": "stdout",
          "text": [
            "\n",
            "      Epoch    GPU_mem   box_loss   cls_loss   dfl_loss  Instances       Size\n"
          ]
        },
        {
          "output_type": "stream",
          "name": "stderr",
          "text": [
            "      21/50      2.34G      1.502      1.096      1.349          6        640: 100%|██████████| 33/33 [00:03<00:00,  9.97it/s]\n",
            "                 Class     Images  Instances      Box(P          R      mAP50  mAP50-95): 100%|██████████| 5/5 [00:00<00:00,  8.15it/s]"
          ]
        },
        {
          "output_type": "stream",
          "name": "stdout",
          "text": [
            "                   all        147        147      0.817      0.837      0.877      0.458\n"
          ]
        },
        {
          "output_type": "stream",
          "name": "stderr",
          "text": [
            "\n"
          ]
        },
        {
          "output_type": "stream",
          "name": "stdout",
          "text": [
            "\n",
            "      Epoch    GPU_mem   box_loss   cls_loss   dfl_loss  Instances       Size\n"
          ]
        },
        {
          "output_type": "stream",
          "name": "stderr",
          "text": [
            "      22/50      2.25G      1.462       1.06      1.332          6        640: 100%|██████████| 33/33 [00:03<00:00, 10.53it/s]\n",
            "                 Class     Images  Instances      Box(P          R      mAP50  mAP50-95): 100%|██████████| 5/5 [00:00<00:00,  7.85it/s]"
          ]
        },
        {
          "output_type": "stream",
          "name": "stdout",
          "text": [
            "                   all        147        147      0.644      0.646      0.655      0.285\n"
          ]
        },
        {
          "output_type": "stream",
          "name": "stderr",
          "text": [
            "\n"
          ]
        },
        {
          "output_type": "stream",
          "name": "stdout",
          "text": [
            "\n",
            "      Epoch    GPU_mem   box_loss   cls_loss   dfl_loss  Instances       Size\n"
          ]
        },
        {
          "output_type": "stream",
          "name": "stderr",
          "text": [
            "      23/50      2.34G      1.469      1.037      1.336          6        640: 100%|██████████| 33/33 [00:03<00:00, 10.33it/s]\n",
            "                 Class     Images  Instances      Box(P          R      mAP50  mAP50-95): 100%|██████████| 5/5 [00:00<00:00,  8.22it/s]"
          ]
        },
        {
          "output_type": "stream",
          "name": "stdout",
          "text": [
            "                   all        147        147      0.863      0.683      0.825      0.448\n"
          ]
        },
        {
          "output_type": "stream",
          "name": "stderr",
          "text": [
            "\n"
          ]
        },
        {
          "output_type": "stream",
          "name": "stdout",
          "text": [
            "\n",
            "      Epoch    GPU_mem   box_loss   cls_loss   dfl_loss  Instances       Size\n"
          ]
        },
        {
          "output_type": "stream",
          "name": "stderr",
          "text": [
            "      24/50      2.35G      1.427      1.009      1.304          8        640: 100%|██████████| 33/33 [00:03<00:00,  9.83it/s]\n",
            "                 Class     Images  Instances      Box(P          R      mAP50  mAP50-95): 100%|██████████| 5/5 [00:00<00:00,  7.16it/s]"
          ]
        },
        {
          "output_type": "stream",
          "name": "stdout",
          "text": [
            "                   all        147        147      0.835      0.828      0.899      0.488\n"
          ]
        },
        {
          "output_type": "stream",
          "name": "stderr",
          "text": [
            "\n"
          ]
        },
        {
          "output_type": "stream",
          "name": "stdout",
          "text": [
            "\n",
            "      Epoch    GPU_mem   box_loss   cls_loss   dfl_loss  Instances       Size\n"
          ]
        },
        {
          "output_type": "stream",
          "name": "stderr",
          "text": [
            "      25/50      2.33G      1.428      1.018      1.329          4        640: 100%|██████████| 33/33 [00:03<00:00,  9.94it/s]\n",
            "                 Class     Images  Instances      Box(P          R      mAP50  mAP50-95): 100%|██████████| 5/5 [00:00<00:00,  8.10it/s]"
          ]
        },
        {
          "output_type": "stream",
          "name": "stdout",
          "text": [
            "                   all        147        147      0.773      0.857      0.887      0.472\n"
          ]
        },
        {
          "output_type": "stream",
          "name": "stderr",
          "text": [
            "\n"
          ]
        },
        {
          "output_type": "stream",
          "name": "stdout",
          "text": [
            "\n",
            "      Epoch    GPU_mem   box_loss   cls_loss   dfl_loss  Instances       Size\n"
          ]
        },
        {
          "output_type": "stream",
          "name": "stderr",
          "text": [
            "      26/50      2.25G       1.42     0.9811      1.301          7        640: 100%|██████████| 33/33 [00:03<00:00, 10.52it/s]\n",
            "                 Class     Images  Instances      Box(P          R      mAP50  mAP50-95): 100%|██████████| 5/5 [00:00<00:00,  8.11it/s]"
          ]
        },
        {
          "output_type": "stream",
          "name": "stdout",
          "text": [
            "                   all        147        147      0.849      0.803      0.884      0.476\n"
          ]
        },
        {
          "output_type": "stream",
          "name": "stderr",
          "text": [
            "\n"
          ]
        },
        {
          "output_type": "stream",
          "name": "stdout",
          "text": [
            "\n",
            "      Epoch    GPU_mem   box_loss   cls_loss   dfl_loss  Instances       Size\n"
          ]
        },
        {
          "output_type": "stream",
          "name": "stderr",
          "text": [
            "      27/50      2.35G      1.435     0.9636       1.28          5        640: 100%|██████████| 33/33 [00:03<00:00, 10.35it/s]\n",
            "                 Class     Images  Instances      Box(P          R      mAP50  mAP50-95): 100%|██████████| 5/5 [00:00<00:00,  7.68it/s]"
          ]
        },
        {
          "output_type": "stream",
          "name": "stdout",
          "text": [
            "                   all        147        147      0.815      0.839      0.885      0.459\n"
          ]
        },
        {
          "output_type": "stream",
          "name": "stderr",
          "text": [
            "\n"
          ]
        },
        {
          "output_type": "stream",
          "name": "stdout",
          "text": [
            "\n",
            "      Epoch    GPU_mem   box_loss   cls_loss   dfl_loss  Instances       Size\n"
          ]
        },
        {
          "output_type": "stream",
          "name": "stderr",
          "text": [
            "      28/50      2.35G      1.416     0.9629      1.292          6        640: 100%|██████████| 33/33 [00:03<00:00,  9.77it/s]\n",
            "                 Class     Images  Instances      Box(P          R      mAP50  mAP50-95): 100%|██████████| 5/5 [00:00<00:00,  7.87it/s]"
          ]
        },
        {
          "output_type": "stream",
          "name": "stdout",
          "text": [
            "                   all        147        147      0.763      0.788      0.863      0.463\n"
          ]
        },
        {
          "output_type": "stream",
          "name": "stderr",
          "text": [
            "\n"
          ]
        },
        {
          "output_type": "stream",
          "name": "stdout",
          "text": [
            "\n",
            "      Epoch    GPU_mem   box_loss   cls_loss   dfl_loss  Instances       Size\n"
          ]
        },
        {
          "output_type": "stream",
          "name": "stderr",
          "text": [
            "      29/50      2.33G      1.499      1.009      1.332          6        640: 100%|██████████| 33/33 [00:03<00:00, 10.49it/s]\n",
            "                 Class     Images  Instances      Box(P          R      mAP50  mAP50-95): 100%|██████████| 5/5 [00:00<00:00,  7.57it/s]"
          ]
        },
        {
          "output_type": "stream",
          "name": "stdout",
          "text": [
            "                   all        147        147      0.837      0.803      0.889      0.478\n"
          ]
        },
        {
          "output_type": "stream",
          "name": "stderr",
          "text": [
            "\n"
          ]
        },
        {
          "output_type": "stream",
          "name": "stdout",
          "text": [
            "\n",
            "      Epoch    GPU_mem   box_loss   cls_loss   dfl_loss  Instances       Size\n"
          ]
        },
        {
          "output_type": "stream",
          "name": "stderr",
          "text": [
            "      30/50      2.25G      1.441     0.9432      1.285          6        640: 100%|██████████| 33/33 [00:03<00:00, 10.54it/s]\n",
            "                 Class     Images  Instances      Box(P          R      mAP50  mAP50-95): 100%|██████████| 5/5 [00:00<00:00,  8.88it/s]"
          ]
        },
        {
          "output_type": "stream",
          "name": "stdout",
          "text": [
            "                   all        147        147      0.864      0.823      0.899      0.458\n"
          ]
        },
        {
          "output_type": "stream",
          "name": "stderr",
          "text": [
            "\n"
          ]
        },
        {
          "output_type": "stream",
          "name": "stdout",
          "text": [
            "\n",
            "      Epoch    GPU_mem   box_loss   cls_loss   dfl_loss  Instances       Size\n"
          ]
        },
        {
          "output_type": "stream",
          "name": "stderr",
          "text": [
            "      31/50      2.35G       1.41     0.9486      1.292          7        640: 100%|██████████| 33/33 [00:03<00:00, 10.38it/s]\n",
            "                 Class     Images  Instances      Box(P          R      mAP50  mAP50-95): 100%|██████████| 5/5 [00:00<00:00,  6.99it/s]"
          ]
        },
        {
          "output_type": "stream",
          "name": "stdout",
          "text": [
            "                   all        147        147      0.801      0.847      0.912      0.487\n"
          ]
        },
        {
          "output_type": "stream",
          "name": "stderr",
          "text": [
            "\n"
          ]
        },
        {
          "output_type": "stream",
          "name": "stdout",
          "text": [
            "\n",
            "      Epoch    GPU_mem   box_loss   cls_loss   dfl_loss  Instances       Size\n"
          ]
        },
        {
          "output_type": "stream",
          "name": "stderr",
          "text": [
            "      32/50      2.34G      1.338     0.9134      1.275          6        640: 100%|██████████| 33/33 [00:03<00:00,  9.76it/s]\n",
            "                 Class     Images  Instances      Box(P          R      mAP50  mAP50-95): 100%|██████████| 5/5 [00:00<00:00,  7.65it/s]"
          ]
        },
        {
          "output_type": "stream",
          "name": "stdout",
          "text": [
            "                   all        147        147      0.838      0.844      0.907      0.473\n"
          ]
        },
        {
          "output_type": "stream",
          "name": "stderr",
          "text": [
            "\n"
          ]
        },
        {
          "output_type": "stream",
          "name": "stdout",
          "text": [
            "\n",
            "      Epoch    GPU_mem   box_loss   cls_loss   dfl_loss  Instances       Size\n"
          ]
        },
        {
          "output_type": "stream",
          "name": "stderr",
          "text": [
            "      33/50      2.33G      1.396     0.8845      1.286          6        640: 100%|██████████| 33/33 [00:03<00:00, 10.50it/s]\n",
            "                 Class     Images  Instances      Box(P          R      mAP50  mAP50-95): 100%|██████████| 5/5 [00:00<00:00,  8.27it/s]"
          ]
        },
        {
          "output_type": "stream",
          "name": "stdout",
          "text": [
            "                   all        147        147      0.806      0.878      0.921      0.493\n"
          ]
        },
        {
          "output_type": "stream",
          "name": "stderr",
          "text": [
            "\n"
          ]
        },
        {
          "output_type": "stream",
          "name": "stdout",
          "text": [
            "\n",
            "      Epoch    GPU_mem   box_loss   cls_loss   dfl_loss  Instances       Size\n"
          ]
        },
        {
          "output_type": "stream",
          "name": "stderr",
          "text": [
            "      34/50      2.25G      1.338     0.8805      1.242          8        640: 100%|██████████| 33/33 [00:03<00:00, 10.67it/s]\n",
            "                 Class     Images  Instances      Box(P          R      mAP50  mAP50-95): 100%|██████████| 5/5 [00:00<00:00,  8.25it/s]"
          ]
        },
        {
          "output_type": "stream",
          "name": "stdout",
          "text": [
            "                   all        147        147      0.832      0.891      0.923      0.509\n"
          ]
        },
        {
          "output_type": "stream",
          "name": "stderr",
          "text": [
            "\n"
          ]
        },
        {
          "output_type": "stream",
          "name": "stdout",
          "text": [
            "\n",
            "      Epoch    GPU_mem   box_loss   cls_loss   dfl_loss  Instances       Size\n"
          ]
        },
        {
          "output_type": "stream",
          "name": "stderr",
          "text": [
            "      35/50      2.35G      1.322     0.8778       1.23         10        640: 100%|██████████| 33/33 [00:03<00:00, 10.07it/s]\n",
            "                 Class     Images  Instances      Box(P          R      mAP50  mAP50-95): 100%|██████████| 5/5 [00:00<00:00,  7.99it/s]"
          ]
        },
        {
          "output_type": "stream",
          "name": "stdout",
          "text": [
            "                   all        147        147      0.887      0.852      0.917      0.506\n"
          ]
        },
        {
          "output_type": "stream",
          "name": "stderr",
          "text": [
            "\n"
          ]
        },
        {
          "output_type": "stream",
          "name": "stdout",
          "text": [
            "\n",
            "      Epoch    GPU_mem   box_loss   cls_loss   dfl_loss  Instances       Size\n"
          ]
        },
        {
          "output_type": "stream",
          "name": "stderr",
          "text": [
            "      36/50      2.35G       1.28     0.8143      1.233          8        640: 100%|██████████| 33/33 [00:03<00:00,  9.85it/s]\n",
            "                 Class     Images  Instances      Box(P          R      mAP50  mAP50-95): 100%|██████████| 5/5 [00:00<00:00,  7.53it/s]"
          ]
        },
        {
          "output_type": "stream",
          "name": "stdout",
          "text": [
            "                   all        147        147      0.864      0.864      0.914      0.496\n"
          ]
        },
        {
          "output_type": "stream",
          "name": "stderr",
          "text": [
            "\n"
          ]
        },
        {
          "output_type": "stream",
          "name": "stdout",
          "text": [
            "\n",
            "      Epoch    GPU_mem   box_loss   cls_loss   dfl_loss  Instances       Size\n"
          ]
        },
        {
          "output_type": "stream",
          "name": "stderr",
          "text": [
            "      37/50      2.33G      1.351     0.8678      1.225          6        640: 100%|██████████| 33/33 [00:03<00:00, 10.50it/s]\n",
            "                 Class     Images  Instances      Box(P          R      mAP50  mAP50-95): 100%|██████████| 5/5 [00:00<00:00,  7.72it/s]"
          ]
        },
        {
          "output_type": "stream",
          "name": "stdout",
          "text": [
            "                   all        147        147      0.808      0.898      0.918      0.514\n"
          ]
        },
        {
          "output_type": "stream",
          "name": "stderr",
          "text": [
            "\n"
          ]
        },
        {
          "output_type": "stream",
          "name": "stdout",
          "text": [
            "\n",
            "      Epoch    GPU_mem   box_loss   cls_loss   dfl_loss  Instances       Size\n"
          ]
        },
        {
          "output_type": "stream",
          "name": "stderr",
          "text": [
            "      38/50      2.25G      1.308     0.8656      1.238          7        640: 100%|██████████| 33/33 [00:03<00:00, 10.83it/s]\n",
            "                 Class     Images  Instances      Box(P          R      mAP50  mAP50-95): 100%|██████████| 5/5 [00:00<00:00,  8.32it/s]\n"
          ]
        },
        {
          "output_type": "stream",
          "name": "stdout",
          "text": [
            "                   all        147        147      0.822      0.884      0.915       0.51\n",
            "\n",
            "      Epoch    GPU_mem   box_loss   cls_loss   dfl_loss  Instances       Size\n"
          ]
        },
        {
          "output_type": "stream",
          "name": "stderr",
          "text": [
            "      39/50      2.35G      1.318     0.8365      1.241          9        640: 100%|██████████| 33/33 [00:03<00:00,  9.65it/s]\n",
            "                 Class     Images  Instances      Box(P          R      mAP50  mAP50-95): 100%|██████████| 5/5 [00:00<00:00,  8.14it/s]"
          ]
        },
        {
          "output_type": "stream",
          "name": "stdout",
          "text": [
            "                   all        147        147      0.863      0.903       0.94      0.527\n"
          ]
        },
        {
          "output_type": "stream",
          "name": "stderr",
          "text": [
            "\n"
          ]
        },
        {
          "output_type": "stream",
          "name": "stdout",
          "text": [
            "\n",
            "      Epoch    GPU_mem   box_loss   cls_loss   dfl_loss  Instances       Size\n"
          ]
        },
        {
          "output_type": "stream",
          "name": "stderr",
          "text": [
            "      40/50      2.35G       1.32     0.8276      1.247          9        640: 100%|██████████| 33/33 [00:03<00:00, 10.27it/s]\n",
            "                 Class     Images  Instances      Box(P          R      mAP50  mAP50-95): 100%|██████████| 5/5 [00:00<00:00,  8.74it/s]"
          ]
        },
        {
          "output_type": "stream",
          "name": "stdout",
          "text": [
            "                   all        147        147      0.876      0.863      0.933      0.537\n"
          ]
        },
        {
          "output_type": "stream",
          "name": "stderr",
          "text": [
            "\n"
          ]
        },
        {
          "output_type": "stream",
          "name": "stdout",
          "text": [
            "Closing dataloader mosaic\n",
            "\u001b[34m\u001b[1malbumentations: \u001b[0mBlur(p=0.01, blur_limit=(3, 7)), MedianBlur(p=0.01, blur_limit=(3, 7)), ToGray(p=0.01), CLAHE(p=0.01, clip_limit=(1, 4.0), tile_grid_size=(8, 8))\n"
          ]
        },
        {
          "output_type": "stream",
          "name": "stderr",
          "text": [
            "/usr/lib/python3.10/multiprocessing/popen_fork.py:66: RuntimeWarning: os.fork() was called. os.fork() is incompatible with multithreaded code, and JAX is multithreaded, so this will likely lead to a deadlock.\n",
            "  self.pid = os.fork()\n"
          ]
        },
        {
          "output_type": "stream",
          "name": "stdout",
          "text": [
            "\n",
            "      Epoch    GPU_mem   box_loss   cls_loss   dfl_loss  Instances       Size\n"
          ]
        },
        {
          "output_type": "stream",
          "name": "stderr",
          "text": [
            "      41/50      2.33G      1.304     0.7896      1.247          4        640: 100%|██████████| 33/33 [00:04<00:00,  7.30it/s]\n",
            "                 Class     Images  Instances      Box(P          R      mAP50  mAP50-95): 100%|██████████| 5/5 [00:00<00:00,  8.00it/s]"
          ]
        },
        {
          "output_type": "stream",
          "name": "stdout",
          "text": [
            "                   all        147        147      0.842      0.873      0.895      0.499\n"
          ]
        },
        {
          "output_type": "stream",
          "name": "stderr",
          "text": [
            "\n"
          ]
        },
        {
          "output_type": "stream",
          "name": "stdout",
          "text": [
            "\n",
            "      Epoch    GPU_mem   box_loss   cls_loss   dfl_loss  Instances       Size\n"
          ]
        },
        {
          "output_type": "stream",
          "name": "stderr",
          "text": [
            "      42/50      2.25G      1.277     0.7734      1.216          4        640: 100%|██████████| 33/33 [00:03<00:00, 10.48it/s]\n",
            "                 Class     Images  Instances      Box(P          R      mAP50  mAP50-95): 100%|██████████| 5/5 [00:00<00:00,  7.50it/s]"
          ]
        },
        {
          "output_type": "stream",
          "name": "stdout",
          "text": [
            "                   all        147        147      0.841      0.871       0.92      0.531\n"
          ]
        },
        {
          "output_type": "stream",
          "name": "stderr",
          "text": [
            "\n"
          ]
        },
        {
          "output_type": "stream",
          "name": "stdout",
          "text": [
            "\n",
            "      Epoch    GPU_mem   box_loss   cls_loss   dfl_loss  Instances       Size\n"
          ]
        },
        {
          "output_type": "stream",
          "name": "stderr",
          "text": [
            "      43/50      2.34G      1.282     0.7868      1.215          4        640: 100%|██████████| 33/33 [00:03<00:00, 10.27it/s]\n",
            "                 Class     Images  Instances      Box(P          R      mAP50  mAP50-95): 100%|██████████| 5/5 [00:00<00:00,  7.74it/s]"
          ]
        },
        {
          "output_type": "stream",
          "name": "stdout",
          "text": [
            "                   all        147        147       0.81      0.871      0.911      0.526\n"
          ]
        },
        {
          "output_type": "stream",
          "name": "stderr",
          "text": [
            "\n"
          ]
        },
        {
          "output_type": "stream",
          "name": "stdout",
          "text": [
            "\n",
            "      Epoch    GPU_mem   box_loss   cls_loss   dfl_loss  Instances       Size\n"
          ]
        },
        {
          "output_type": "stream",
          "name": "stderr",
          "text": [
            "      44/50      2.34G      1.257     0.7906      1.223          4        640: 100%|██████████| 33/33 [00:03<00:00, 10.56it/s]\n",
            "                 Class     Images  Instances      Box(P          R      mAP50  mAP50-95): 100%|██████████| 5/5 [00:00<00:00,  8.66it/s]"
          ]
        },
        {
          "output_type": "stream",
          "name": "stdout",
          "text": [
            "                   all        147        147      0.873      0.905      0.938      0.537\n"
          ]
        },
        {
          "output_type": "stream",
          "name": "stderr",
          "text": [
            "\n"
          ]
        },
        {
          "output_type": "stream",
          "name": "stdout",
          "text": [
            "\n",
            "      Epoch    GPU_mem   box_loss   cls_loss   dfl_loss  Instances       Size\n"
          ]
        },
        {
          "output_type": "stream",
          "name": "stderr",
          "text": [
            "      45/50      2.33G      1.223     0.7498      1.194          4        640: 100%|██████████| 33/33 [00:03<00:00, 10.67it/s]\n",
            "                 Class     Images  Instances      Box(P          R      mAP50  mAP50-95): 100%|██████████| 5/5 [00:00<00:00,  8.19it/s]"
          ]
        },
        {
          "output_type": "stream",
          "name": "stdout",
          "text": [
            "                   all        147        147      0.826      0.925      0.947      0.552\n"
          ]
        },
        {
          "output_type": "stream",
          "name": "stderr",
          "text": [
            "\n"
          ]
        },
        {
          "output_type": "stream",
          "name": "stdout",
          "text": [
            "\n",
            "      Epoch    GPU_mem   box_loss   cls_loss   dfl_loss  Instances       Size\n"
          ]
        },
        {
          "output_type": "stream",
          "name": "stderr",
          "text": [
            "      46/50      2.25G      1.227     0.7255      1.187          4        640: 100%|██████████| 33/33 [00:03<00:00, 10.58it/s]\n",
            "                 Class     Images  Instances      Box(P          R      mAP50  mAP50-95): 100%|██████████| 5/5 [00:00<00:00,  7.33it/s]"
          ]
        },
        {
          "output_type": "stream",
          "name": "stdout",
          "text": [
            "                   all        147        147      0.914      0.871      0.952      0.541\n"
          ]
        },
        {
          "output_type": "stream",
          "name": "stderr",
          "text": [
            "\n"
          ]
        },
        {
          "output_type": "stream",
          "name": "stdout",
          "text": [
            "\n",
            "      Epoch    GPU_mem   box_loss   cls_loss   dfl_loss  Instances       Size\n"
          ]
        },
        {
          "output_type": "stream",
          "name": "stderr",
          "text": [
            "      47/50      2.34G      1.218     0.7215       1.18          4        640: 100%|██████████| 33/33 [00:03<00:00, 10.14it/s]\n",
            "                 Class     Images  Instances      Box(P          R      mAP50  mAP50-95): 100%|██████████| 5/5 [00:00<00:00,  7.56it/s]"
          ]
        },
        {
          "output_type": "stream",
          "name": "stdout",
          "text": [
            "                   all        147        147      0.874      0.941      0.963      0.551\n"
          ]
        },
        {
          "output_type": "stream",
          "name": "stderr",
          "text": [
            "\n"
          ]
        },
        {
          "output_type": "stream",
          "name": "stdout",
          "text": [
            "\n",
            "      Epoch    GPU_mem   box_loss   cls_loss   dfl_loss  Instances       Size\n"
          ]
        },
        {
          "output_type": "stream",
          "name": "stderr",
          "text": [
            "      48/50      2.34G      1.213     0.7292      1.181          4        640: 100%|██████████| 33/33 [00:03<00:00, 10.62it/s]\n",
            "                 Class     Images  Instances      Box(P          R      mAP50  mAP50-95): 100%|██████████| 5/5 [00:00<00:00,  8.35it/s]"
          ]
        },
        {
          "output_type": "stream",
          "name": "stdout",
          "text": [
            "                   all        147        147      0.901      0.918      0.959      0.558\n"
          ]
        },
        {
          "output_type": "stream",
          "name": "stderr",
          "text": [
            "\n"
          ]
        },
        {
          "output_type": "stream",
          "name": "stdout",
          "text": [
            "\n",
            "      Epoch    GPU_mem   box_loss   cls_loss   dfl_loss  Instances       Size\n"
          ]
        },
        {
          "output_type": "stream",
          "name": "stderr",
          "text": [
            "      49/50      2.33G      1.195     0.6993      1.181          4        640: 100%|██████████| 33/33 [00:03<00:00, 10.56it/s]\n",
            "                 Class     Images  Instances      Box(P          R      mAP50  mAP50-95): 100%|██████████| 5/5 [00:00<00:00,  7.86it/s]"
          ]
        },
        {
          "output_type": "stream",
          "name": "stdout",
          "text": [
            "                   all        147        147       0.87      0.913      0.957       0.55\n"
          ]
        },
        {
          "output_type": "stream",
          "name": "stderr",
          "text": [
            "\n"
          ]
        },
        {
          "output_type": "stream",
          "name": "stdout",
          "text": [
            "\n",
            "      Epoch    GPU_mem   box_loss   cls_loss   dfl_loss  Instances       Size\n"
          ]
        },
        {
          "output_type": "stream",
          "name": "stderr",
          "text": [
            "      50/50      2.25G      1.173     0.7003      1.152          4        640: 100%|██████████| 33/33 [00:03<00:00, 10.28it/s]\n",
            "                 Class     Images  Instances      Box(P          R      mAP50  mAP50-95): 100%|██████████| 5/5 [00:00<00:00,  8.07it/s]"
          ]
        },
        {
          "output_type": "stream",
          "name": "stdout",
          "text": [
            "                   all        147        147      0.862      0.936      0.955      0.553\n"
          ]
        },
        {
          "output_type": "stream",
          "name": "stderr",
          "text": [
            "\n"
          ]
        },
        {
          "output_type": "stream",
          "name": "stdout",
          "text": [
            "\n",
            "50 epochs completed in 0.065 hours.\n",
            "Optimizer stripped from runs/detect/train3/weights/last.pt, 6.2MB\n",
            "Optimizer stripped from runs/detect/train3/weights/best.pt, 6.2MB\n",
            "\n",
            "Validating runs/detect/train3/weights/best.pt...\n",
            "Ultralytics YOLOv8.2.84 🚀 Python-3.10.12 torch-2.4.0+cu121 CUDA:0 (NVIDIA A100-SXM4-40GB, 40514MiB)\n",
            "Model summary (fused): 168 layers, 3,005,843 parameters, 0 gradients, 8.1 GFLOPs\n"
          ]
        },
        {
          "output_type": "stream",
          "name": "stderr",
          "text": [
            "                 Class     Images  Instances      Box(P          R      mAP50  mAP50-95): 100%|██████████| 5/5 [00:02<00:00,  2.34it/s]\n"
          ]
        },
        {
          "output_type": "stream",
          "name": "stdout",
          "text": [
            "                   all        147        147       0.89      0.912      0.956      0.557\n",
            "Speed: 0.1ms preprocess, 0.4ms inference, 0.0ms loss, 7.8ms postprocess per image\n",
            "Results saved to \u001b[1mruns/detect/train3\u001b[0m\n"
          ]
        },
        {
          "output_type": "execute_result",
          "data": {
            "text/plain": [
              "ultralytics.utils.metrics.DetMetrics object with attributes:\n",
              "\n",
              "ap_class_index: array([0])\n",
              "box: ultralytics.utils.metrics.Metric object\n",
              "confusion_matrix: <ultralytics.utils.metrics.ConfusionMatrix object at 0x78e69324d120>\n",
              "curves: ['Precision-Recall(B)', 'F1-Confidence(B)', 'Precision-Confidence(B)', 'Recall-Confidence(B)']\n",
              "curves_results: [[array([          0,    0.001001,    0.002002,    0.003003,    0.004004,    0.005005,    0.006006,    0.007007,    0.008008,    0.009009,     0.01001,    0.011011,    0.012012,    0.013013,    0.014014,    0.015015,    0.016016,    0.017017,    0.018018,    0.019019,     0.02002,    0.021021,    0.022022,    0.023023,\n",
              "          0.024024,    0.025025,    0.026026,    0.027027,    0.028028,    0.029029,     0.03003,    0.031031,    0.032032,    0.033033,    0.034034,    0.035035,    0.036036,    0.037037,    0.038038,    0.039039,     0.04004,    0.041041,    0.042042,    0.043043,    0.044044,    0.045045,    0.046046,    0.047047,\n",
              "          0.048048,    0.049049,     0.05005,    0.051051,    0.052052,    0.053053,    0.054054,    0.055055,    0.056056,    0.057057,    0.058058,    0.059059,     0.06006,    0.061061,    0.062062,    0.063063,    0.064064,    0.065065,    0.066066,    0.067067,    0.068068,    0.069069,     0.07007,    0.071071,\n",
              "          0.072072,    0.073073,    0.074074,    0.075075,    0.076076,    0.077077,    0.078078,    0.079079,     0.08008,    0.081081,    0.082082,    0.083083,    0.084084,    0.085085,    0.086086,    0.087087,    0.088088,    0.089089,     0.09009,    0.091091,    0.092092,    0.093093,    0.094094,    0.095095,\n",
              "          0.096096,    0.097097,    0.098098,    0.099099,      0.1001,      0.1011,      0.1021,      0.1031,      0.1041,     0.10511,     0.10611,     0.10711,     0.10811,     0.10911,     0.11011,     0.11111,     0.11211,     0.11311,     0.11411,     0.11512,     0.11612,     0.11712,     0.11812,     0.11912,\n",
              "           0.12012,     0.12112,     0.12212,     0.12312,     0.12412,     0.12513,     0.12613,     0.12713,     0.12813,     0.12913,     0.13013,     0.13113,     0.13213,     0.13313,     0.13413,     0.13514,     0.13614,     0.13714,     0.13814,     0.13914,     0.14014,     0.14114,     0.14214,     0.14314,\n",
              "           0.14414,     0.14515,     0.14615,     0.14715,     0.14815,     0.14915,     0.15015,     0.15115,     0.15215,     0.15315,     0.15415,     0.15516,     0.15616,     0.15716,     0.15816,     0.15916,     0.16016,     0.16116,     0.16216,     0.16316,     0.16416,     0.16517,     0.16617,     0.16717,\n",
              "           0.16817,     0.16917,     0.17017,     0.17117,     0.17217,     0.17317,     0.17417,     0.17518,     0.17618,     0.17718,     0.17818,     0.17918,     0.18018,     0.18118,     0.18218,     0.18318,     0.18418,     0.18519,     0.18619,     0.18719,     0.18819,     0.18919,     0.19019,     0.19119,\n",
              "           0.19219,     0.19319,     0.19419,      0.1952,      0.1962,      0.1972,      0.1982,      0.1992,      0.2002,      0.2012,      0.2022,      0.2032,      0.2042,     0.20521,     0.20621,     0.20721,     0.20821,     0.20921,     0.21021,     0.21121,     0.21221,     0.21321,     0.21421,     0.21522,\n",
              "           0.21622,     0.21722,     0.21822,     0.21922,     0.22022,     0.22122,     0.22222,     0.22322,     0.22422,     0.22523,     0.22623,     0.22723,     0.22823,     0.22923,     0.23023,     0.23123,     0.23223,     0.23323,     0.23423,     0.23524,     0.23624,     0.23724,     0.23824,     0.23924,\n",
              "           0.24024,     0.24124,     0.24224,     0.24324,     0.24424,     0.24525,     0.24625,     0.24725,     0.24825,     0.24925,     0.25025,     0.25125,     0.25225,     0.25325,     0.25425,     0.25526,     0.25626,     0.25726,     0.25826,     0.25926,     0.26026,     0.26126,     0.26226,     0.26326,\n",
              "           0.26426,     0.26527,     0.26627,     0.26727,     0.26827,     0.26927,     0.27027,     0.27127,     0.27227,     0.27327,     0.27427,     0.27528,     0.27628,     0.27728,     0.27828,     0.27928,     0.28028,     0.28128,     0.28228,     0.28328,     0.28428,     0.28529,     0.28629,     0.28729,\n",
              "           0.28829,     0.28929,     0.29029,     0.29129,     0.29229,     0.29329,     0.29429,      0.2953,      0.2963,      0.2973,      0.2983,      0.2993,      0.3003,      0.3013,      0.3023,      0.3033,      0.3043,     0.30531,     0.30631,     0.30731,     0.30831,     0.30931,     0.31031,     0.31131,\n",
              "           0.31231,     0.31331,     0.31431,     0.31532,     0.31632,     0.31732,     0.31832,     0.31932,     0.32032,     0.32132,     0.32232,     0.32332,     0.32432,     0.32533,     0.32633,     0.32733,     0.32833,     0.32933,     0.33033,     0.33133,     0.33233,     0.33333,     0.33433,     0.33534,\n",
              "           0.33634,     0.33734,     0.33834,     0.33934,     0.34034,     0.34134,     0.34234,     0.34334,     0.34434,     0.34535,     0.34635,     0.34735,     0.34835,     0.34935,     0.35035,     0.35135,     0.35235,     0.35335,     0.35435,     0.35536,     0.35636,     0.35736,     0.35836,     0.35936,\n",
              "           0.36036,     0.36136,     0.36236,     0.36336,     0.36436,     0.36537,     0.36637,     0.36737,     0.36837,     0.36937,     0.37037,     0.37137,     0.37237,     0.37337,     0.37437,     0.37538,     0.37638,     0.37738,     0.37838,     0.37938,     0.38038,     0.38138,     0.38238,     0.38338,\n",
              "           0.38438,     0.38539,     0.38639,     0.38739,     0.38839,     0.38939,     0.39039,     0.39139,     0.39239,     0.39339,     0.39439,      0.3954,      0.3964,      0.3974,      0.3984,      0.3994,      0.4004,      0.4014,      0.4024,      0.4034,      0.4044,     0.40541,     0.40641,     0.40741,\n",
              "           0.40841,     0.40941,     0.41041,     0.41141,     0.41241,     0.41341,     0.41441,     0.41542,     0.41642,     0.41742,     0.41842,     0.41942,     0.42042,     0.42142,     0.42242,     0.42342,     0.42442,     0.42543,     0.42643,     0.42743,     0.42843,     0.42943,     0.43043,     0.43143,\n",
              "           0.43243,     0.43343,     0.43443,     0.43544,     0.43644,     0.43744,     0.43844,     0.43944,     0.44044,     0.44144,     0.44244,     0.44344,     0.44444,     0.44545,     0.44645,     0.44745,     0.44845,     0.44945,     0.45045,     0.45145,     0.45245,     0.45345,     0.45445,     0.45546,\n",
              "           0.45646,     0.45746,     0.45846,     0.45946,     0.46046,     0.46146,     0.46246,     0.46346,     0.46446,     0.46547,     0.46647,     0.46747,     0.46847,     0.46947,     0.47047,     0.47147,     0.47247,     0.47347,     0.47447,     0.47548,     0.47648,     0.47748,     0.47848,     0.47948,\n",
              "           0.48048,     0.48148,     0.48248,     0.48348,     0.48448,     0.48549,     0.48649,     0.48749,     0.48849,     0.48949,     0.49049,     0.49149,     0.49249,     0.49349,     0.49449,      0.4955,      0.4965,      0.4975,      0.4985,      0.4995,      0.5005,      0.5015,      0.5025,      0.5035,\n",
              "            0.5045,     0.50551,     0.50651,     0.50751,     0.50851,     0.50951,     0.51051,     0.51151,     0.51251,     0.51351,     0.51451,     0.51552,     0.51652,     0.51752,     0.51852,     0.51952,     0.52052,     0.52152,     0.52252,     0.52352,     0.52452,     0.52553,     0.52653,     0.52753,\n",
              "           0.52853,     0.52953,     0.53053,     0.53153,     0.53253,     0.53353,     0.53453,     0.53554,     0.53654,     0.53754,     0.53854,     0.53954,     0.54054,     0.54154,     0.54254,     0.54354,     0.54454,     0.54555,     0.54655,     0.54755,     0.54855,     0.54955,     0.55055,     0.55155,\n",
              "           0.55255,     0.55355,     0.55455,     0.55556,     0.55656,     0.55756,     0.55856,     0.55956,     0.56056,     0.56156,     0.56256,     0.56356,     0.56456,     0.56557,     0.56657,     0.56757,     0.56857,     0.56957,     0.57057,     0.57157,     0.57257,     0.57357,     0.57457,     0.57558,\n",
              "           0.57658,     0.57758,     0.57858,     0.57958,     0.58058,     0.58158,     0.58258,     0.58358,     0.58458,     0.58559,     0.58659,     0.58759,     0.58859,     0.58959,     0.59059,     0.59159,     0.59259,     0.59359,     0.59459,      0.5956,      0.5966,      0.5976,      0.5986,      0.5996,\n",
              "            0.6006,      0.6016,      0.6026,      0.6036,      0.6046,     0.60561,     0.60661,     0.60761,     0.60861,     0.60961,     0.61061,     0.61161,     0.61261,     0.61361,     0.61461,     0.61562,     0.61662,     0.61762,     0.61862,     0.61962,     0.62062,     0.62162,     0.62262,     0.62362,\n",
              "           0.62462,     0.62563,     0.62663,     0.62763,     0.62863,     0.62963,     0.63063,     0.63163,     0.63263,     0.63363,     0.63463,     0.63564,     0.63664,     0.63764,     0.63864,     0.63964,     0.64064,     0.64164,     0.64264,     0.64364,     0.64464,     0.64565,     0.64665,     0.64765,\n",
              "           0.64865,     0.64965,     0.65065,     0.65165,     0.65265,     0.65365,     0.65465,     0.65566,     0.65666,     0.65766,     0.65866,     0.65966,     0.66066,     0.66166,     0.66266,     0.66366,     0.66466,     0.66567,     0.66667,     0.66767,     0.66867,     0.66967,     0.67067,     0.67167,\n",
              "           0.67267,     0.67367,     0.67467,     0.67568,     0.67668,     0.67768,     0.67868,     0.67968,     0.68068,     0.68168,     0.68268,     0.68368,     0.68468,     0.68569,     0.68669,     0.68769,     0.68869,     0.68969,     0.69069,     0.69169,     0.69269,     0.69369,     0.69469,      0.6957,\n",
              "            0.6967,      0.6977,      0.6987,      0.6997,      0.7007,      0.7017,      0.7027,      0.7037,      0.7047,     0.70571,     0.70671,     0.70771,     0.70871,     0.70971,     0.71071,     0.71171,     0.71271,     0.71371,     0.71471,     0.71572,     0.71672,     0.71772,     0.71872,     0.71972,\n",
              "           0.72072,     0.72172,     0.72272,     0.72372,     0.72472,     0.72573,     0.72673,     0.72773,     0.72873,     0.72973,     0.73073,     0.73173,     0.73273,     0.73373,     0.73473,     0.73574,     0.73674,     0.73774,     0.73874,     0.73974,     0.74074,     0.74174,     0.74274,     0.74374,\n",
              "           0.74474,     0.74575,     0.74675,     0.74775,     0.74875,     0.74975,     0.75075,     0.75175,     0.75275,     0.75375,     0.75475,     0.75576,     0.75676,     0.75776,     0.75876,     0.75976,     0.76076,     0.76176,     0.76276,     0.76376,     0.76476,     0.76577,     0.76677,     0.76777,\n",
              "           0.76877,     0.76977,     0.77077,     0.77177,     0.77277,     0.77377,     0.77477,     0.77578,     0.77678,     0.77778,     0.77878,     0.77978,     0.78078,     0.78178,     0.78278,     0.78378,     0.78478,     0.78579,     0.78679,     0.78779,     0.78879,     0.78979,     0.79079,     0.79179,\n",
              "           0.79279,     0.79379,     0.79479,      0.7958,      0.7968,      0.7978,      0.7988,      0.7998,      0.8008,      0.8018,      0.8028,      0.8038,      0.8048,     0.80581,     0.80681,     0.80781,     0.80881,     0.80981,     0.81081,     0.81181,     0.81281,     0.81381,     0.81481,     0.81582,\n",
              "           0.81682,     0.81782,     0.81882,     0.81982,     0.82082,     0.82182,     0.82282,     0.82382,     0.82482,     0.82583,     0.82683,     0.82783,     0.82883,     0.82983,     0.83083,     0.83183,     0.83283,     0.83383,     0.83483,     0.83584,     0.83684,     0.83784,     0.83884,     0.83984,\n",
              "           0.84084,     0.84184,     0.84284,     0.84384,     0.84484,     0.84585,     0.84685,     0.84785,     0.84885,     0.84985,     0.85085,     0.85185,     0.85285,     0.85385,     0.85485,     0.85586,     0.85686,     0.85786,     0.85886,     0.85986,     0.86086,     0.86186,     0.86286,     0.86386,\n",
              "           0.86486,     0.86587,     0.86687,     0.86787,     0.86887,     0.86987,     0.87087,     0.87187,     0.87287,     0.87387,     0.87487,     0.87588,     0.87688,     0.87788,     0.87888,     0.87988,     0.88088,     0.88188,     0.88288,     0.88388,     0.88488,     0.88589,     0.88689,     0.88789,\n",
              "           0.88889,     0.88989,     0.89089,     0.89189,     0.89289,     0.89389,     0.89489,      0.8959,      0.8969,      0.8979,      0.8989,      0.8999,      0.9009,      0.9019,      0.9029,      0.9039,      0.9049,     0.90591,     0.90691,     0.90791,     0.90891,     0.90991,     0.91091,     0.91191,\n",
              "           0.91291,     0.91391,     0.91491,     0.91592,     0.91692,     0.91792,     0.91892,     0.91992,     0.92092,     0.92192,     0.92292,     0.92392,     0.92492,     0.92593,     0.92693,     0.92793,     0.92893,     0.92993,     0.93093,     0.93193,     0.93293,     0.93393,     0.93493,     0.93594,\n",
              "           0.93694,     0.93794,     0.93894,     0.93994,     0.94094,     0.94194,     0.94294,     0.94394,     0.94494,     0.94595,     0.94695,     0.94795,     0.94895,     0.94995,     0.95095,     0.95195,     0.95295,     0.95395,     0.95495,     0.95596,     0.95696,     0.95796,     0.95896,     0.95996,\n",
              "           0.96096,     0.96196,     0.96296,     0.96396,     0.96496,     0.96597,     0.96697,     0.96797,     0.96897,     0.96997,     0.97097,     0.97197,     0.97297,     0.97397,     0.97497,     0.97598,     0.97698,     0.97798,     0.97898,     0.97998,     0.98098,     0.98198,     0.98298,     0.98398,\n",
              "           0.98498,     0.98599,     0.98699,     0.98799,     0.98899,     0.98999,     0.99099,     0.99199,     0.99299,     0.99399,     0.99499,       0.996,       0.997,       0.998,       0.999,           1]), array([[          1,           1,           1,           1,           1,           1,           1,           1,           1,           1,           1,           1,           1,           1,           1,           1,           1,           1,           1,           1,           1,           1,           1,\n",
              "                  1,           1,           1,           1,           1,           1,           1,           1,           1,           1,           1,           1,           1,           1,           1,           1,           1,           1,           1,           1,           1,           1,           1,\n",
              "                  1,           1,           1,           1,           1,           1,           1,           1,           1,           1,           1,           1,           1,           1,           1,           1,           1,           1,           1,           1,           1,           1,           1,\n",
              "                  1,           1,           1,           1,           1,           1,           1,           1,           1,           1,           1,           1,           1,           1,           1,           1,           1,           1,           1,           1,           1,           1,           1,\n",
              "                  1,           1,           1,           1,           1,           1,           1,           1,           1,           1,           1,           1,           1,           1,           1,           1,           1,           1,           1,           1,           1,           1,           1,\n",
              "                  1,           1,           1,           1,           1,           1,           1,           1,           1,           1,           1,           1,           1,           1,           1,           1,           1,           1,           1,           1,           1,           1,           1,\n",
              "                  1,           1,           1,           1,           1,           1,           1,           1,           1,           1,           1,           1,           1,           1,           1,           1,           1,           1,           1,           1,           1,           1,           1,\n",
              "                  1,           1,           1,           1,           1,           1,           1,           1,           1,           1,           1,           1,           1,           1,           1,           1,           1,           1,           1,           1,           1,           1,           1,\n",
              "                  1,           1,           1,           1,           1,           1,           1,           1,           1,           1,           1,           1,           1,           1,           1,           1,           1,           1,           1,           1,           1,           1,           1,\n",
              "                  1,           1,           1,           1,           1,           1,           1,           1,           1,           1,           1,           1,           1,           1,           1,           1,           1,           1,           1,           1,           1,           1,           1,\n",
              "                  1,           1,           1,           1,           1,           1,           1,           1,           1,           1,           1,           1,           1,           1,           1,           1,           1,           1,           1,           1,           1,           1,           1,\n",
              "                  1,           1,           1,           1,           1,           1,           1,           1,           1,           1,           1,           1,           1,           1,           1,           1,           1,           1,           1,           1,           1,           1,           1,\n",
              "                  1,           1,           1,           1,           1,           1,           1,           1,           1,           1,           1,           1,           1,           1,           1,           1,           1,           1,           1,           1,           1,           1,           1,\n",
              "                  1,           1,           1,           1,           1,           1,           1,           1,           1,           1,           1,           1,           1,           1,           1,           1,           1,           1,           1,           1,           1,           1,           1,\n",
              "                  1,           1,           1,           1,           1,           1,           1,           1,           1,           1,           1,           1,           1,           1,           1,           1,           1,           1,           1,           1,           1,           1,           1,\n",
              "                  1,           1,           1,           1,           1,           1,           1,           1,           1,           1,           1,           1,           1,           1,           1,           1,           1,           1,           1,           1,           1,           1,           1,\n",
              "                  1,           1,           1,           1,           1,           1,           1,           1,           1,           1,           1,           1,           1,           1,           1,           1,           1,           1,           1,           1,           1,           1,           1,\n",
              "                  1,           1,           1,           1,           1,           1,           1,           1,           1,           1,           1,           1,           1,           1,           1,           1,           1,           1,           1,           1,           1,           1,           1,\n",
              "                  1,           1,           1,           1,           1,           1,           1,           1,           1,           1,           1,           1,           1,           1,           1,           1,           1,           1,           1,           1,           1,           1,           1,\n",
              "                  1,           1,           1,           1,           1,           1,           1,           1,           1,           1,           1,           1,           1,           1,           1,           1,           1,           1,           1,           1,           1,           1,           1,\n",
              "                  1,           1,           1,           1,           1,           1,           1,           1,           1,           1,           1,           1,           1,           1,           1,           1,           1,           1,           1,           1,           1,           1,           1,\n",
              "                  1,           1,           1,           1,           1,           1,           1,           1,           1,           1,           1,           1,           1,           1,           1,           1,           1,           1,           1,           1,           1,           1,           1,\n",
              "                  1,           1,           1,           1,           1,           1,           1,           1,           1,           1,           1,           1,           1,           1,           1,           1,           1,           1,           1,           1,           1,           1,           1,\n",
              "                  1,           1,     0.99048,     0.99048,     0.99048,     0.99048,     0.99048,     0.99048,     0.99048,     0.99048,     0.99048,     0.99048,     0.99048,     0.99048,     0.99048,     0.99048,     0.99048,     0.99048,     0.99048,     0.99048,     0.99048,     0.99048,     0.99048,\n",
              "            0.99048,     0.99048,     0.99048,     0.99048,     0.99048,     0.99048,     0.99048,     0.99048,     0.99048,     0.99048,     0.99048,     0.99048,     0.99048,     0.99048,     0.99048,     0.99048,     0.99048,     0.99048,     0.99048,     0.99048,     0.99048,     0.99048,     0.99048,\n",
              "            0.99048,     0.99048,     0.99048,     0.99048,     0.99048,     0.99048,     0.99048,     0.99048,     0.99048,     0.99048,     0.99048,     0.99048,     0.99048,     0.99048,     0.99048,     0.99048,     0.99048,     0.99048,     0.99048,     0.99048,     0.99048,     0.99048,     0.99048,\n",
              "            0.99048,     0.99048,     0.99048,     0.99048,     0.99048,     0.99048,     0.99048,     0.99048,     0.99048,     0.99048,     0.99048,     0.99048,     0.99048,     0.99048,     0.99048,     0.99048,     0.99048,     0.99048,     0.99048,     0.99048,     0.99048,     0.99048,     0.99048,\n",
              "            0.99048,     0.99048,     0.99048,     0.99048,     0.99048,     0.99048,     0.99048,     0.99048,     0.99048,     0.99048,     0.99048,     0.99048,     0.99048,     0.99048,     0.99048,     0.99048,     0.99048,     0.99048,     0.99048,     0.99048,     0.99048,     0.99048,     0.99048,\n",
              "            0.99048,     0.99048,     0.99048,     0.99048,     0.99048,     0.99048,     0.99048,     0.99048,     0.99048,     0.99048,     0.99048,     0.99048,     0.99048,     0.99048,     0.99048,     0.99048,     0.99048,     0.99048,     0.99048,     0.99048,     0.99048,     0.99048,     0.99048,\n",
              "            0.99048,     0.99048,     0.99048,     0.99048,     0.99048,     0.99048,     0.99048,     0.99048,     0.99048,     0.99048,     0.99048,     0.99048,     0.99048,     0.99048,     0.99048,     0.99048,     0.99048,     0.99048,     0.99048,     0.99048,     0.99048,     0.99048,     0.99048,\n",
              "            0.99048,     0.99048,     0.99048,     0.99048,     0.99048,     0.99048,     0.99048,     0.99048,     0.99048,     0.99048,     0.99048,     0.99048,     0.99048,     0.99048,     0.99048,     0.99048,     0.99048,     0.98131,     0.98131,     0.98131,     0.98131,     0.98131,     0.98131,\n",
              "            0.98131,     0.97273,     0.97273,     0.97273,     0.97273,     0.97273,     0.97273,     0.97273,     0.97273,     0.97273,     0.97273,     0.97273,     0.97273,     0.97273,     0.97273,     0.96429,     0.96429,     0.96429,     0.96429,     0.96429,     0.96429,     0.94828,     0.94828,\n",
              "            0.94828,     0.94828,     0.94828,     0.94828,     0.94828,     0.94828,     0.94828,     0.94828,     0.94828,     0.94828,     0.94828,     0.94828,     0.94068,     0.94068,     0.94068,     0.94068,     0.94068,     0.94068,     0.94068,     0.93388,     0.93388,     0.93388,     0.93388,\n",
              "            0.93388,     0.93388,     0.93388,     0.93388,     0.93388,     0.93388,     0.93388,     0.93388,     0.93388,     0.92683,     0.92683,     0.92683,     0.92683,     0.92683,     0.92683,     0.92683,        0.92,        0.92,        0.92,        0.92,        0.92,        0.92,        0.92,\n",
              "            0.91729,     0.91729,     0.91729,     0.91729,     0.91729,     0.91729,     0.91729,     0.91729,     0.91729,     0.91729,     0.91729,     0.91729,     0.91729,     0.91729,     0.91729,     0.91729,     0.91729,     0.91729,     0.91729,     0.91729,     0.91729,     0.91729,     0.91729,\n",
              "            0.91729,     0.91729,     0.91729,     0.91729,     0.91729,     0.91729,     0.91729,     0.91729,     0.91729,     0.91729,     0.91729,     0.91729,     0.91729,     0.91729,     0.91729,     0.91729,     0.91729,     0.91729,     0.91729,     0.91729,     0.91729,     0.91729,     0.91729,\n",
              "            0.91729,     0.91729,     0.91111,     0.91111,     0.91111,     0.91111,     0.91111,     0.91111,     0.91034,     0.91034,     0.91034,     0.91034,     0.91034,     0.91034,     0.91034,     0.91034,     0.91034,     0.91034,     0.91034,     0.91034,     0.91034,     0.91034,     0.91034,\n",
              "            0.91034,     0.91034,     0.91034,     0.91034,     0.91034,     0.91034,     0.91034,     0.91034,     0.91034,     0.91034,     0.91034,     0.91034,     0.91034,     0.91034,     0.91034,     0.91034,     0.91034,     0.91034,     0.91034,     0.91034,     0.91034,     0.91034,     0.91034,\n",
              "            0.91034,     0.91034,     0.91034,     0.91034,     0.91034,     0.91034,     0.91034,     0.91034,     0.91034,     0.91034,     0.91034,     0.91034,     0.91034,     0.91034,     0.91034,     0.91034,     0.91034,     0.91034,     0.91034,     0.91034,     0.91034,     0.91034,     0.91034,\n",
              "            0.91034,     0.90476,     0.90476,     0.90476,     0.90476,     0.90476,     0.90476,     0.89933,     0.89933,     0.89933,     0.89933,     0.89933,     0.89933,     0.89933,     0.88816,     0.88816,     0.88816,     0.88816,     0.88816,     0.88816,     0.88816,     0.87179,     0.87179,\n",
              "            0.87179,     0.87179,     0.87179,     0.87179,     0.87179,     0.86164,     0.86164,     0.86164,     0.86164,     0.86164,     0.86164,     0.86164,     0.85185,     0.85185,     0.85185,     0.85185,     0.85185,     0.85185,     0.84756,     0.84756,     0.84756,     0.84756,     0.84756,\n",
              "            0.84756,     0.84756,     0.83832,     0.83832,     0.83832,     0.83832,     0.83832,     0.83832,     0.83832,     0.71574,     0.71574,     0.71574,     0.71574,     0.71574,     0.71574,     0.71574,     0.71357,     0.71357,     0.71357,     0.71357,     0.71357,     0.71357,     0.71357,\n",
              "             0.6875,      0.6875,      0.6875,      0.6875,      0.6875,      0.6875,     0.67925,     0.67925,     0.67925,     0.67925,     0.67925,     0.67925,     0.67925,     0.56641,     0.56641,     0.56641,     0.56641,     0.56641,     0.56641,     0.56641,     0.48667,     0.48667,     0.48667,\n",
              "            0.48667,     0.48667,     0.48667,     0.48667,     0.45652,     0.45652,     0.45652,     0.45652,     0.45652,     0.45652,           0]]), 'Recall', 'Precision'], [array([          0,    0.001001,    0.002002,    0.003003,    0.004004,    0.005005,    0.006006,    0.007007,    0.008008,    0.009009,     0.01001,    0.011011,    0.012012,    0.013013,    0.014014,    0.015015,    0.016016,    0.017017,    0.018018,    0.019019,     0.02002,    0.021021,    0.022022,    0.023023,\n",
              "          0.024024,    0.025025,    0.026026,    0.027027,    0.028028,    0.029029,     0.03003,    0.031031,    0.032032,    0.033033,    0.034034,    0.035035,    0.036036,    0.037037,    0.038038,    0.039039,     0.04004,    0.041041,    0.042042,    0.043043,    0.044044,    0.045045,    0.046046,    0.047047,\n",
              "          0.048048,    0.049049,     0.05005,    0.051051,    0.052052,    0.053053,    0.054054,    0.055055,    0.056056,    0.057057,    0.058058,    0.059059,     0.06006,    0.061061,    0.062062,    0.063063,    0.064064,    0.065065,    0.066066,    0.067067,    0.068068,    0.069069,     0.07007,    0.071071,\n",
              "          0.072072,    0.073073,    0.074074,    0.075075,    0.076076,    0.077077,    0.078078,    0.079079,     0.08008,    0.081081,    0.082082,    0.083083,    0.084084,    0.085085,    0.086086,    0.087087,    0.088088,    0.089089,     0.09009,    0.091091,    0.092092,    0.093093,    0.094094,    0.095095,\n",
              "          0.096096,    0.097097,    0.098098,    0.099099,      0.1001,      0.1011,      0.1021,      0.1031,      0.1041,     0.10511,     0.10611,     0.10711,     0.10811,     0.10911,     0.11011,     0.11111,     0.11211,     0.11311,     0.11411,     0.11512,     0.11612,     0.11712,     0.11812,     0.11912,\n",
              "           0.12012,     0.12112,     0.12212,     0.12312,     0.12412,     0.12513,     0.12613,     0.12713,     0.12813,     0.12913,     0.13013,     0.13113,     0.13213,     0.13313,     0.13413,     0.13514,     0.13614,     0.13714,     0.13814,     0.13914,     0.14014,     0.14114,     0.14214,     0.14314,\n",
              "           0.14414,     0.14515,     0.14615,     0.14715,     0.14815,     0.14915,     0.15015,     0.15115,     0.15215,     0.15315,     0.15415,     0.15516,     0.15616,     0.15716,     0.15816,     0.15916,     0.16016,     0.16116,     0.16216,     0.16316,     0.16416,     0.16517,     0.16617,     0.16717,\n",
              "           0.16817,     0.16917,     0.17017,     0.17117,     0.17217,     0.17317,     0.17417,     0.17518,     0.17618,     0.17718,     0.17818,     0.17918,     0.18018,     0.18118,     0.18218,     0.18318,     0.18418,     0.18519,     0.18619,     0.18719,     0.18819,     0.18919,     0.19019,     0.19119,\n",
              "           0.19219,     0.19319,     0.19419,      0.1952,      0.1962,      0.1972,      0.1982,      0.1992,      0.2002,      0.2012,      0.2022,      0.2032,      0.2042,     0.20521,     0.20621,     0.20721,     0.20821,     0.20921,     0.21021,     0.21121,     0.21221,     0.21321,     0.21421,     0.21522,\n",
              "           0.21622,     0.21722,     0.21822,     0.21922,     0.22022,     0.22122,     0.22222,     0.22322,     0.22422,     0.22523,     0.22623,     0.22723,     0.22823,     0.22923,     0.23023,     0.23123,     0.23223,     0.23323,     0.23423,     0.23524,     0.23624,     0.23724,     0.23824,     0.23924,\n",
              "           0.24024,     0.24124,     0.24224,     0.24324,     0.24424,     0.24525,     0.24625,     0.24725,     0.24825,     0.24925,     0.25025,     0.25125,     0.25225,     0.25325,     0.25425,     0.25526,     0.25626,     0.25726,     0.25826,     0.25926,     0.26026,     0.26126,     0.26226,     0.26326,\n",
              "           0.26426,     0.26527,     0.26627,     0.26727,     0.26827,     0.26927,     0.27027,     0.27127,     0.27227,     0.27327,     0.27427,     0.27528,     0.27628,     0.27728,     0.27828,     0.27928,     0.28028,     0.28128,     0.28228,     0.28328,     0.28428,     0.28529,     0.28629,     0.28729,\n",
              "           0.28829,     0.28929,     0.29029,     0.29129,     0.29229,     0.29329,     0.29429,      0.2953,      0.2963,      0.2973,      0.2983,      0.2993,      0.3003,      0.3013,      0.3023,      0.3033,      0.3043,     0.30531,     0.30631,     0.30731,     0.30831,     0.30931,     0.31031,     0.31131,\n",
              "           0.31231,     0.31331,     0.31431,     0.31532,     0.31632,     0.31732,     0.31832,     0.31932,     0.32032,     0.32132,     0.32232,     0.32332,     0.32432,     0.32533,     0.32633,     0.32733,     0.32833,     0.32933,     0.33033,     0.33133,     0.33233,     0.33333,     0.33433,     0.33534,\n",
              "           0.33634,     0.33734,     0.33834,     0.33934,     0.34034,     0.34134,     0.34234,     0.34334,     0.34434,     0.34535,     0.34635,     0.34735,     0.34835,     0.34935,     0.35035,     0.35135,     0.35235,     0.35335,     0.35435,     0.35536,     0.35636,     0.35736,     0.35836,     0.35936,\n",
              "           0.36036,     0.36136,     0.36236,     0.36336,     0.36436,     0.36537,     0.36637,     0.36737,     0.36837,     0.36937,     0.37037,     0.37137,     0.37237,     0.37337,     0.37437,     0.37538,     0.37638,     0.37738,     0.37838,     0.37938,     0.38038,     0.38138,     0.38238,     0.38338,\n",
              "           0.38438,     0.38539,     0.38639,     0.38739,     0.38839,     0.38939,     0.39039,     0.39139,     0.39239,     0.39339,     0.39439,      0.3954,      0.3964,      0.3974,      0.3984,      0.3994,      0.4004,      0.4014,      0.4024,      0.4034,      0.4044,     0.40541,     0.40641,     0.40741,\n",
              "           0.40841,     0.40941,     0.41041,     0.41141,     0.41241,     0.41341,     0.41441,     0.41542,     0.41642,     0.41742,     0.41842,     0.41942,     0.42042,     0.42142,     0.42242,     0.42342,     0.42442,     0.42543,     0.42643,     0.42743,     0.42843,     0.42943,     0.43043,     0.43143,\n",
              "           0.43243,     0.43343,     0.43443,     0.43544,     0.43644,     0.43744,     0.43844,     0.43944,     0.44044,     0.44144,     0.44244,     0.44344,     0.44444,     0.44545,     0.44645,     0.44745,     0.44845,     0.44945,     0.45045,     0.45145,     0.45245,     0.45345,     0.45445,     0.45546,\n",
              "           0.45646,     0.45746,     0.45846,     0.45946,     0.46046,     0.46146,     0.46246,     0.46346,     0.46446,     0.46547,     0.46647,     0.46747,     0.46847,     0.46947,     0.47047,     0.47147,     0.47247,     0.47347,     0.47447,     0.47548,     0.47648,     0.47748,     0.47848,     0.47948,\n",
              "           0.48048,     0.48148,     0.48248,     0.48348,     0.48448,     0.48549,     0.48649,     0.48749,     0.48849,     0.48949,     0.49049,     0.49149,     0.49249,     0.49349,     0.49449,      0.4955,      0.4965,      0.4975,      0.4985,      0.4995,      0.5005,      0.5015,      0.5025,      0.5035,\n",
              "            0.5045,     0.50551,     0.50651,     0.50751,     0.50851,     0.50951,     0.51051,     0.51151,     0.51251,     0.51351,     0.51451,     0.51552,     0.51652,     0.51752,     0.51852,     0.51952,     0.52052,     0.52152,     0.52252,     0.52352,     0.52452,     0.52553,     0.52653,     0.52753,\n",
              "           0.52853,     0.52953,     0.53053,     0.53153,     0.53253,     0.53353,     0.53453,     0.53554,     0.53654,     0.53754,     0.53854,     0.53954,     0.54054,     0.54154,     0.54254,     0.54354,     0.54454,     0.54555,     0.54655,     0.54755,     0.54855,     0.54955,     0.55055,     0.55155,\n",
              "           0.55255,     0.55355,     0.55455,     0.55556,     0.55656,     0.55756,     0.55856,     0.55956,     0.56056,     0.56156,     0.56256,     0.56356,     0.56456,     0.56557,     0.56657,     0.56757,     0.56857,     0.56957,     0.57057,     0.57157,     0.57257,     0.57357,     0.57457,     0.57558,\n",
              "           0.57658,     0.57758,     0.57858,     0.57958,     0.58058,     0.58158,     0.58258,     0.58358,     0.58458,     0.58559,     0.58659,     0.58759,     0.58859,     0.58959,     0.59059,     0.59159,     0.59259,     0.59359,     0.59459,      0.5956,      0.5966,      0.5976,      0.5986,      0.5996,\n",
              "            0.6006,      0.6016,      0.6026,      0.6036,      0.6046,     0.60561,     0.60661,     0.60761,     0.60861,     0.60961,     0.61061,     0.61161,     0.61261,     0.61361,     0.61461,     0.61562,     0.61662,     0.61762,     0.61862,     0.61962,     0.62062,     0.62162,     0.62262,     0.62362,\n",
              "           0.62462,     0.62563,     0.62663,     0.62763,     0.62863,     0.62963,     0.63063,     0.63163,     0.63263,     0.63363,     0.63463,     0.63564,     0.63664,     0.63764,     0.63864,     0.63964,     0.64064,     0.64164,     0.64264,     0.64364,     0.64464,     0.64565,     0.64665,     0.64765,\n",
              "           0.64865,     0.64965,     0.65065,     0.65165,     0.65265,     0.65365,     0.65465,     0.65566,     0.65666,     0.65766,     0.65866,     0.65966,     0.66066,     0.66166,     0.66266,     0.66366,     0.66466,     0.66567,     0.66667,     0.66767,     0.66867,     0.66967,     0.67067,     0.67167,\n",
              "           0.67267,     0.67367,     0.67467,     0.67568,     0.67668,     0.67768,     0.67868,     0.67968,     0.68068,     0.68168,     0.68268,     0.68368,     0.68468,     0.68569,     0.68669,     0.68769,     0.68869,     0.68969,     0.69069,     0.69169,     0.69269,     0.69369,     0.69469,      0.6957,\n",
              "            0.6967,      0.6977,      0.6987,      0.6997,      0.7007,      0.7017,      0.7027,      0.7037,      0.7047,     0.70571,     0.70671,     0.70771,     0.70871,     0.70971,     0.71071,     0.71171,     0.71271,     0.71371,     0.71471,     0.71572,     0.71672,     0.71772,     0.71872,     0.71972,\n",
              "           0.72072,     0.72172,     0.72272,     0.72372,     0.72472,     0.72573,     0.72673,     0.72773,     0.72873,     0.72973,     0.73073,     0.73173,     0.73273,     0.73373,     0.73473,     0.73574,     0.73674,     0.73774,     0.73874,     0.73974,     0.74074,     0.74174,     0.74274,     0.74374,\n",
              "           0.74474,     0.74575,     0.74675,     0.74775,     0.74875,     0.74975,     0.75075,     0.75175,     0.75275,     0.75375,     0.75475,     0.75576,     0.75676,     0.75776,     0.75876,     0.75976,     0.76076,     0.76176,     0.76276,     0.76376,     0.76476,     0.76577,     0.76677,     0.76777,\n",
              "           0.76877,     0.76977,     0.77077,     0.77177,     0.77277,     0.77377,     0.77477,     0.77578,     0.77678,     0.77778,     0.77878,     0.77978,     0.78078,     0.78178,     0.78278,     0.78378,     0.78478,     0.78579,     0.78679,     0.78779,     0.78879,     0.78979,     0.79079,     0.79179,\n",
              "           0.79279,     0.79379,     0.79479,      0.7958,      0.7968,      0.7978,      0.7988,      0.7998,      0.8008,      0.8018,      0.8028,      0.8038,      0.8048,     0.80581,     0.80681,     0.80781,     0.80881,     0.80981,     0.81081,     0.81181,     0.81281,     0.81381,     0.81481,     0.81582,\n",
              "           0.81682,     0.81782,     0.81882,     0.81982,     0.82082,     0.82182,     0.82282,     0.82382,     0.82482,     0.82583,     0.82683,     0.82783,     0.82883,     0.82983,     0.83083,     0.83183,     0.83283,     0.83383,     0.83483,     0.83584,     0.83684,     0.83784,     0.83884,     0.83984,\n",
              "           0.84084,     0.84184,     0.84284,     0.84384,     0.84484,     0.84585,     0.84685,     0.84785,     0.84885,     0.84985,     0.85085,     0.85185,     0.85285,     0.85385,     0.85485,     0.85586,     0.85686,     0.85786,     0.85886,     0.85986,     0.86086,     0.86186,     0.86286,     0.86386,\n",
              "           0.86486,     0.86587,     0.86687,     0.86787,     0.86887,     0.86987,     0.87087,     0.87187,     0.87287,     0.87387,     0.87487,     0.87588,     0.87688,     0.87788,     0.87888,     0.87988,     0.88088,     0.88188,     0.88288,     0.88388,     0.88488,     0.88589,     0.88689,     0.88789,\n",
              "           0.88889,     0.88989,     0.89089,     0.89189,     0.89289,     0.89389,     0.89489,      0.8959,      0.8969,      0.8979,      0.8989,      0.8999,      0.9009,      0.9019,      0.9029,      0.9039,      0.9049,     0.90591,     0.90691,     0.90791,     0.90891,     0.90991,     0.91091,     0.91191,\n",
              "           0.91291,     0.91391,     0.91491,     0.91592,     0.91692,     0.91792,     0.91892,     0.91992,     0.92092,     0.92192,     0.92292,     0.92392,     0.92492,     0.92593,     0.92693,     0.92793,     0.92893,     0.92993,     0.93093,     0.93193,     0.93293,     0.93393,     0.93493,     0.93594,\n",
              "           0.93694,     0.93794,     0.93894,     0.93994,     0.94094,     0.94194,     0.94294,     0.94394,     0.94494,     0.94595,     0.94695,     0.94795,     0.94895,     0.94995,     0.95095,     0.95195,     0.95295,     0.95395,     0.95495,     0.95596,     0.95696,     0.95796,     0.95896,     0.95996,\n",
              "           0.96096,     0.96196,     0.96296,     0.96396,     0.96496,     0.96597,     0.96697,     0.96797,     0.96897,     0.96997,     0.97097,     0.97197,     0.97297,     0.97397,     0.97497,     0.97598,     0.97698,     0.97798,     0.97898,     0.97998,     0.98098,     0.98198,     0.98298,     0.98398,\n",
              "           0.98498,     0.98599,     0.98699,     0.98799,     0.98899,     0.98999,     0.99099,     0.99199,     0.99299,     0.99399,     0.99499,       0.996,       0.997,       0.998,       0.999,           1]), array([[    0.33071,     0.33071,     0.42058,     0.48037,     0.51797,     0.54354,     0.57801,     0.59871,      0.6103,     0.62107,     0.62796,     0.63519,      0.6481,     0.65321,     0.65347,     0.65536,     0.66056,      0.6648,     0.67061,      0.6752,     0.68332,     0.68686,     0.69313,\n",
              "            0.69588,     0.70286,     0.70671,      0.7084,     0.70945,     0.71022,     0.71224,     0.71393,     0.71667,     0.71764,     0.71947,     0.71865,     0.72157,     0.72394,     0.72469,     0.72552,     0.73088,     0.73213,     0.73386,     0.73694,     0.73895,     0.74123,     0.74462,\n",
              "              0.747,     0.75219,      0.7538,     0.75517,     0.75996,     0.76066,     0.76136,     0.76215,     0.76324,     0.76411,     0.76463,     0.76514,     0.76565,     0.76663,     0.76977,     0.77155,     0.77256,     0.77326,     0.77396,     0.77502,     0.77624,     0.77687,     0.77749,\n",
              "             0.7781,     0.77929,     0.78072,     0.78157,     0.78241,      0.7849,      0.7865,     0.78914,     0.78933,     0.78952,     0.78971,      0.7899,      0.7901,     0.79029,     0.79048,     0.79067,     0.79086,     0.79105,     0.79136,     0.79221,     0.79306,     0.79444,     0.79604,\n",
              "            0.79743,     0.79887,      0.8002,     0.80109,     0.80198,     0.80043,     0.79919,     0.79999,     0.80078,     0.80205,     0.80346,     0.80398,     0.80449,     0.80501,     0.80552,     0.80514,      0.8045,     0.80386,     0.80323,     0.80259,      0.8032,     0.80491,     0.80608,\n",
              "            0.80705,     0.80768,     0.80831,     0.80894,     0.80952,     0.81009,     0.81065,     0.81122,     0.81217,     0.81337,     0.81424,     0.81497,     0.81569,     0.81906,     0.82044,     0.81774,     0.81913,     0.81947,     0.81893,     0.81839,     0.81785,     0.81731,     0.81676,\n",
              "            0.81647,      0.8172,     0.81792,     0.81865,     0.81961,     0.82059,     0.82204,     0.82365,     0.82412,      0.8246,     0.82507,     0.82554,     0.82603,     0.82657,     0.82711,     0.82765,     0.82819,     0.82853,     0.82875,     0.82896,     0.82917,     0.82938,     0.82959,\n",
              "            0.82981,     0.83002,     0.83023,     0.83044,     0.83065,     0.83092,     0.83318,     0.83386,     0.83443,       0.835,     0.83556,     0.83601,     0.83635,     0.83669,     0.83703,     0.83738,     0.83772,     0.83806,     0.83846,     0.83909,     0.83972,     0.84034,     0.84126,\n",
              "            0.84333,     0.84883,     0.84917,     0.84952,     0.84987,     0.85021,     0.85056,     0.85091,     0.85112,     0.85124,     0.85135,     0.85146,     0.85157,     0.85168,     0.85179,     0.85191,     0.85202,     0.85213,     0.85224,     0.85235,     0.85246,     0.85257,     0.85269,\n",
              "             0.8528,     0.85291,     0.85302,     0.85313,     0.85324,     0.85335,     0.85346,     0.85358,     0.85425,     0.85642,     0.85745,     0.85848,     0.85965,     0.86092,     0.86188,     0.86254,      0.8632,     0.86386,     0.86425,     0.86434,     0.86444,     0.86454,     0.86463,\n",
              "            0.86473,     0.86483,     0.86492,     0.86502,     0.86512,     0.86521,     0.86531,     0.86541,      0.8655,      0.8656,      0.8657,     0.86579,     0.86589,     0.86599,     0.86608,     0.86618,     0.86628,     0.86637,     0.86647,     0.86657,     0.86666,     0.86676,     0.86685,\n",
              "            0.86725,     0.86771,     0.86817,     0.86863,     0.86909,     0.86955,     0.87013,     0.87071,      0.8713,     0.87188,      0.8724,      0.8728,      0.8732,      0.8736,       0.874,      0.8744,      0.8748,     0.87522,     0.87567,     0.87612,     0.87657,     0.87702,     0.87747,\n",
              "            0.87794,     0.87843,     0.87892,     0.87942,     0.87991,      0.8804,     0.88119,     0.88207,     0.88295,      0.8834,      0.8836,     0.88379,     0.88398,     0.88418,     0.88437,     0.88457,     0.88476,     0.88496,     0.88515,     0.88534,     0.88554,     0.88573,     0.88593,\n",
              "            0.88626,     0.88709,     0.88791,     0.88873,     0.88983,     0.89099,     0.89127,     0.89006,     0.88885,     0.89114,      0.8917,     0.89226,     0.89282,     0.89338,     0.89381,     0.89276,     0.89172,     0.89067,     0.89053,     0.89084,     0.89115,     0.89146,     0.89178,\n",
              "            0.89209,      0.8924,     0.89271,     0.89302,      0.8898,     0.89028,     0.89075,     0.89123,      0.8917,     0.89218,     0.89256,     0.89272,     0.89288,     0.89304,      0.8932,     0.89336,     0.89351,     0.89367,     0.89383,     0.89399,     0.89415,     0.89431,     0.89447,\n",
              "            0.89463,     0.89479,     0.89495,     0.89511,     0.89527,     0.89542,     0.89493,     0.89443,     0.89394,     0.89344,     0.89295,     0.89245,     0.89196,     0.89218,     0.89273,     0.89328,     0.89382,     0.89437,     0.89496,     0.89563,      0.8963,     0.89698,     0.89765,\n",
              "            0.89708,     0.89643,     0.89578,     0.89513,     0.89448,     0.89419,     0.89466,     0.89513,      0.8956,     0.89607,     0.89654,       0.897,     0.89754,     0.89807,      0.8986,     0.89914,     0.89967,     0.90011,     0.90042,     0.90072,     0.90102,     0.90132,     0.90162,\n",
              "            0.90192,     0.90222,     0.90252,     0.90282,     0.90291,     0.90263,     0.90235,     0.90207,     0.90179,     0.90151,     0.90123,     0.90095,     0.90067,     0.90039,     0.90011,     0.89983,     0.89955,     0.89937,     0.89958,     0.89979,     0.90001,     0.90022,     0.90043,\n",
              "            0.90064,     0.90085,     0.90106,     0.90127,     0.90148,     0.90169,      0.9019,     0.90211,     0.90232,     0.90382,     0.90538,      0.9051,     0.90482,     0.90455,     0.90427,     0.90399,     0.90372,     0.90344,     0.90317,     0.90289,     0.90261,     0.90233,     0.90206,\n",
              "            0.90178,     0.90279,     0.90436,     0.90405,      0.9031,     0.90214,     0.90118,     0.90147,       0.902,     0.90252,     0.90305,     0.90358,      0.9041,     0.90034,     0.90008,     0.89982,     0.89955,     0.89929,     0.89903,     0.89876,      0.8985,     0.89824,     0.89797,\n",
              "            0.89771,     0.89744,     0.89718,     0.89692,     0.89665,     0.89238,     0.89182,     0.89126,      0.8907,     0.89013,     0.88957,     0.88901,     0.88854,      0.8881,     0.88766,     0.88722,     0.88678,     0.88634,      0.8859,     0.88545,     0.88501,     0.88401,     0.88301,\n",
              "            0.88201,     0.88106,     0.88048,     0.87991,     0.87933,     0.87876,     0.87818,     0.87761,     0.87606,     0.87283,     0.87147,     0.87011,     0.86943,     0.86988,     0.87033,     0.87079,     0.87124,     0.87169,     0.87214,     0.87009,     0.87119,     0.87078,     0.87036,\n",
              "            0.86995,     0.86954,     0.86912,     0.86871,     0.86829,     0.86788,     0.86746,      0.8667,     0.86587,     0.86503,      0.8642,     0.86336,     0.86134,     0.85923,     0.85879,     0.85837,     0.85794,     0.85752,      0.8571,     0.85667,     0.85625,     0.85582,      0.8554,\n",
              "            0.85066,     0.84959,     0.84851,     0.84744,     0.84651,     0.84589,     0.84528,     0.84466,     0.84404,     0.84342,      0.8428,     0.84272,     0.84317,     0.84363,     0.84408,     0.84454,     0.84499,     0.84544,     0.84266,     0.84189,     0.84269,     0.84348,     0.84428,\n",
              "            0.84328,     0.84181,     0.84034,     0.84155,     0.84315,     0.83482,     0.83536,      0.8359,     0.83643,     0.83697,     0.83751,     0.83687,     0.83537,     0.83386,     0.83439,     0.83601,     0.83492,     0.83264,     0.83121,     0.83006,     0.82892,     0.82777,     0.82851,\n",
              "            0.82959,     0.83068,     0.83137,     0.83203,     0.83269,     0.83335,     0.83362,     0.82964,     0.82997,      0.8303,     0.83064,     0.83097,      0.8313,     0.83163,     0.83196,     0.83229,     0.83262,     0.83083,     0.82849,     0.82415,     0.82417,     0.82491,     0.82565,\n",
              "            0.82639,     0.82254,     0.82337,     0.82421,     0.82504,     0.82264,     0.81989,     0.81851,     0.81713,      0.8157,     0.81408,     0.81245,     0.81103,     0.81022,      0.8094,     0.80858,     0.80776,     0.80694,     0.80609,     0.80519,     0.80429,     0.80339,     0.80249,\n",
              "            0.80159,     0.80082,     0.80006,     0.79929,     0.79852,     0.79775,     0.79698,     0.79066,     0.78897,     0.78727,     0.78426,     0.78031,     0.77628,     0.77455,     0.77282,     0.77037,     0.76687,     0.75529,     0.75422,     0.75314,     0.75206,     0.74541,     0.74023,\n",
              "            0.73803,     0.73582,     0.73439,     0.73338,     0.73237,     0.73135,     0.73034,     0.72802,     0.72382,      0.7228,     0.72177,     0.72074,     0.71971,     0.71867,     0.71772,     0.71677,     0.71582,     0.71487,     0.71391,     0.71279,     0.70991,      0.7072,     0.70554,\n",
              "            0.70388,     0.70222,     0.70139,     0.70088,     0.70037,     0.69986,     0.69935,     0.69884,     0.69833,     0.69782,     0.69731,      0.6968,     0.69629,     0.69529,     0.69382,     0.69234,     0.69086,      0.6909,     0.69195,       0.693,     0.69301,     0.69254,     0.69206,\n",
              "            0.69158,      0.6911,     0.69063,     0.69015,     0.68967,     0.68919,     0.68871,     0.68823,     0.68775,     0.68724,     0.68669,     0.68614,      0.6856,     0.68505,      0.6845,     0.68395,      0.6834,     0.68285,      0.6823,     0.68175,      0.6798,     0.67736,     0.67533,\n",
              "            0.67422,      0.6731,     0.67199,     0.67087,     0.66975,     0.66383,     0.66122,     0.65872,     0.65642,     0.65432,     0.65221,     0.64984,      0.6473,     0.64306,     0.63714,     0.63454,     0.61814,     0.60631,     0.60508,     0.60385,     0.60261,     0.60137,     0.60013,\n",
              "            0.59796,     0.59567,     0.59337,     0.59107,     0.58876,     0.58652,       0.586,     0.58548,     0.58497,     0.58445,     0.58393,     0.58341,      0.5829,     0.58238,     0.58186,     0.58134,     0.58082,      0.5803,     0.57978,     0.57355,     0.55997,     0.55436,     0.55098,\n",
              "            0.54935,     0.54772,     0.54608,     0.53681,     0.52862,     0.52108,     0.51853,     0.51598,     0.51254,     0.50868,     0.50385,     0.49971,     0.49858,     0.49746,     0.49633,     0.49521,     0.49408,     0.49295,      0.4854,     0.47692,     0.47275,     0.46869,     0.46541,\n",
              "            0.46212,     0.45203,     0.45098,     0.44993,     0.44889,     0.44784,     0.44679,     0.44573,     0.44468,     0.43428,     0.43183,     0.42938,     0.41304,     0.40953,     0.40806,     0.40658,     0.40511,     0.40363,     0.40212,     0.39958,     0.39702,     0.39446,     0.38798,\n",
              "            0.37424,     0.37193,     0.36962,      0.3673,     0.35988,     0.33767,     0.33591,     0.33416,      0.3324,     0.33063,     0.32704,     0.32051,     0.30932,     0.30822,     0.30711,       0.306,     0.30488,     0.30377,     0.30265,     0.30154,     0.29962,     0.29288,     0.28988,\n",
              "            0.28868,     0.28748,     0.28628,     0.28507,     0.28387,     0.28266,     0.28145,     0.27998,      0.2781,     0.27622,     0.27433,     0.27244,     0.27037,     0.24904,     0.22875,     0.22631,     0.22387,     0.22142,     0.21897,     0.21693,     0.21508,     0.21323,     0.21137,\n",
              "            0.20951,     0.20764,     0.20268,     0.19703,     0.18968,     0.18045,     0.16147,     0.15911,     0.15675,     0.15438,       0.152,     0.14873,     0.14473,     0.14072,      0.1153,     0.11471,     0.11412,     0.11353,     0.11294,     0.11235,     0.11176,     0.11116,     0.11057,\n",
              "            0.10998,     0.10938,     0.10879,      0.1082,      0.1076,     0.10701,     0.10641,     0.10582,     0.10522,     0.10463,     0.10403,     0.10343,    0.099104,    0.092784,     0.09013,    0.089024,    0.087916,    0.086807,    0.085697,    0.084585,    0.083472,    0.082358,    0.081242,\n",
              "           0.080125,    0.079007,    0.077598,    0.075878,    0.074156,     0.07243,    0.070701,     0.06897,    0.067235,     0.06491,    0.059674,    0.054409,    0.052176,    0.051073,    0.049969,    0.048864,    0.047757,    0.046649,     0.04554,    0.044429,    0.043318,    0.042205,     0.04109,\n",
              "           0.039981,    0.039144,    0.038306,    0.037467,    0.036627,    0.035787,    0.034946,    0.034104,    0.033261,    0.032418,    0.031574,    0.030729,    0.029884,    0.029038,    0.028191,    0.027343,    0.026506,    0.025682,    0.024858,    0.024034,    0.023208,    0.022382,    0.021556,\n",
              "           0.020728,      0.0199,    0.019071,    0.018242,    0.017412,    0.016581,    0.015749,    0.014917,    0.014084,           0,           0,           0,           0,           0,           0,           0,           0,           0,           0,           0,           0,           0,           0,\n",
              "                  0,           0,           0,           0,           0,           0,           0,           0,           0,           0,           0,           0,           0,           0,           0,           0,           0,           0,           0,           0,           0,           0,           0,\n",
              "                  0,           0,           0,           0,           0,           0,           0,           0,           0,           0,           0]]), 'Confidence', 'F1'], [array([          0,    0.001001,    0.002002,    0.003003,    0.004004,    0.005005,    0.006006,    0.007007,    0.008008,    0.009009,     0.01001,    0.011011,    0.012012,    0.013013,    0.014014,    0.015015,    0.016016,    0.017017,    0.018018,    0.019019,     0.02002,    0.021021,    0.022022,    0.023023,\n",
              "          0.024024,    0.025025,    0.026026,    0.027027,    0.028028,    0.029029,     0.03003,    0.031031,    0.032032,    0.033033,    0.034034,    0.035035,    0.036036,    0.037037,    0.038038,    0.039039,     0.04004,    0.041041,    0.042042,    0.043043,    0.044044,    0.045045,    0.046046,    0.047047,\n",
              "          0.048048,    0.049049,     0.05005,    0.051051,    0.052052,    0.053053,    0.054054,    0.055055,    0.056056,    0.057057,    0.058058,    0.059059,     0.06006,    0.061061,    0.062062,    0.063063,    0.064064,    0.065065,    0.066066,    0.067067,    0.068068,    0.069069,     0.07007,    0.071071,\n",
              "          0.072072,    0.073073,    0.074074,    0.075075,    0.076076,    0.077077,    0.078078,    0.079079,     0.08008,    0.081081,    0.082082,    0.083083,    0.084084,    0.085085,    0.086086,    0.087087,    0.088088,    0.089089,     0.09009,    0.091091,    0.092092,    0.093093,    0.094094,    0.095095,\n",
              "          0.096096,    0.097097,    0.098098,    0.099099,      0.1001,      0.1011,      0.1021,      0.1031,      0.1041,     0.10511,     0.10611,     0.10711,     0.10811,     0.10911,     0.11011,     0.11111,     0.11211,     0.11311,     0.11411,     0.11512,     0.11612,     0.11712,     0.11812,     0.11912,\n",
              "           0.12012,     0.12112,     0.12212,     0.12312,     0.12412,     0.12513,     0.12613,     0.12713,     0.12813,     0.12913,     0.13013,     0.13113,     0.13213,     0.13313,     0.13413,     0.13514,     0.13614,     0.13714,     0.13814,     0.13914,     0.14014,     0.14114,     0.14214,     0.14314,\n",
              "           0.14414,     0.14515,     0.14615,     0.14715,     0.14815,     0.14915,     0.15015,     0.15115,     0.15215,     0.15315,     0.15415,     0.15516,     0.15616,     0.15716,     0.15816,     0.15916,     0.16016,     0.16116,     0.16216,     0.16316,     0.16416,     0.16517,     0.16617,     0.16717,\n",
              "           0.16817,     0.16917,     0.17017,     0.17117,     0.17217,     0.17317,     0.17417,     0.17518,     0.17618,     0.17718,     0.17818,     0.17918,     0.18018,     0.18118,     0.18218,     0.18318,     0.18418,     0.18519,     0.18619,     0.18719,     0.18819,     0.18919,     0.19019,     0.19119,\n",
              "           0.19219,     0.19319,     0.19419,      0.1952,      0.1962,      0.1972,      0.1982,      0.1992,      0.2002,      0.2012,      0.2022,      0.2032,      0.2042,     0.20521,     0.20621,     0.20721,     0.20821,     0.20921,     0.21021,     0.21121,     0.21221,     0.21321,     0.21421,     0.21522,\n",
              "           0.21622,     0.21722,     0.21822,     0.21922,     0.22022,     0.22122,     0.22222,     0.22322,     0.22422,     0.22523,     0.22623,     0.22723,     0.22823,     0.22923,     0.23023,     0.23123,     0.23223,     0.23323,     0.23423,     0.23524,     0.23624,     0.23724,     0.23824,     0.23924,\n",
              "           0.24024,     0.24124,     0.24224,     0.24324,     0.24424,     0.24525,     0.24625,     0.24725,     0.24825,     0.24925,     0.25025,     0.25125,     0.25225,     0.25325,     0.25425,     0.25526,     0.25626,     0.25726,     0.25826,     0.25926,     0.26026,     0.26126,     0.26226,     0.26326,\n",
              "           0.26426,     0.26527,     0.26627,     0.26727,     0.26827,     0.26927,     0.27027,     0.27127,     0.27227,     0.27327,     0.27427,     0.27528,     0.27628,     0.27728,     0.27828,     0.27928,     0.28028,     0.28128,     0.28228,     0.28328,     0.28428,     0.28529,     0.28629,     0.28729,\n",
              "           0.28829,     0.28929,     0.29029,     0.29129,     0.29229,     0.29329,     0.29429,      0.2953,      0.2963,      0.2973,      0.2983,      0.2993,      0.3003,      0.3013,      0.3023,      0.3033,      0.3043,     0.30531,     0.30631,     0.30731,     0.30831,     0.30931,     0.31031,     0.31131,\n",
              "           0.31231,     0.31331,     0.31431,     0.31532,     0.31632,     0.31732,     0.31832,     0.31932,     0.32032,     0.32132,     0.32232,     0.32332,     0.32432,     0.32533,     0.32633,     0.32733,     0.32833,     0.32933,     0.33033,     0.33133,     0.33233,     0.33333,     0.33433,     0.33534,\n",
              "           0.33634,     0.33734,     0.33834,     0.33934,     0.34034,     0.34134,     0.34234,     0.34334,     0.34434,     0.34535,     0.34635,     0.34735,     0.34835,     0.34935,     0.35035,     0.35135,     0.35235,     0.35335,     0.35435,     0.35536,     0.35636,     0.35736,     0.35836,     0.35936,\n",
              "           0.36036,     0.36136,     0.36236,     0.36336,     0.36436,     0.36537,     0.36637,     0.36737,     0.36837,     0.36937,     0.37037,     0.37137,     0.37237,     0.37337,     0.37437,     0.37538,     0.37638,     0.37738,     0.37838,     0.37938,     0.38038,     0.38138,     0.38238,     0.38338,\n",
              "           0.38438,     0.38539,     0.38639,     0.38739,     0.38839,     0.38939,     0.39039,     0.39139,     0.39239,     0.39339,     0.39439,      0.3954,      0.3964,      0.3974,      0.3984,      0.3994,      0.4004,      0.4014,      0.4024,      0.4034,      0.4044,     0.40541,     0.40641,     0.40741,\n",
              "           0.40841,     0.40941,     0.41041,     0.41141,     0.41241,     0.41341,     0.41441,     0.41542,     0.41642,     0.41742,     0.41842,     0.41942,     0.42042,     0.42142,     0.42242,     0.42342,     0.42442,     0.42543,     0.42643,     0.42743,     0.42843,     0.42943,     0.43043,     0.43143,\n",
              "           0.43243,     0.43343,     0.43443,     0.43544,     0.43644,     0.43744,     0.43844,     0.43944,     0.44044,     0.44144,     0.44244,     0.44344,     0.44444,     0.44545,     0.44645,     0.44745,     0.44845,     0.44945,     0.45045,     0.45145,     0.45245,     0.45345,     0.45445,     0.45546,\n",
              "           0.45646,     0.45746,     0.45846,     0.45946,     0.46046,     0.46146,     0.46246,     0.46346,     0.46446,     0.46547,     0.46647,     0.46747,     0.46847,     0.46947,     0.47047,     0.47147,     0.47247,     0.47347,     0.47447,     0.47548,     0.47648,     0.47748,     0.47848,     0.47948,\n",
              "           0.48048,     0.48148,     0.48248,     0.48348,     0.48448,     0.48549,     0.48649,     0.48749,     0.48849,     0.48949,     0.49049,     0.49149,     0.49249,     0.49349,     0.49449,      0.4955,      0.4965,      0.4975,      0.4985,      0.4995,      0.5005,      0.5015,      0.5025,      0.5035,\n",
              "            0.5045,     0.50551,     0.50651,     0.50751,     0.50851,     0.50951,     0.51051,     0.51151,     0.51251,     0.51351,     0.51451,     0.51552,     0.51652,     0.51752,     0.51852,     0.51952,     0.52052,     0.52152,     0.52252,     0.52352,     0.52452,     0.52553,     0.52653,     0.52753,\n",
              "           0.52853,     0.52953,     0.53053,     0.53153,     0.53253,     0.53353,     0.53453,     0.53554,     0.53654,     0.53754,     0.53854,     0.53954,     0.54054,     0.54154,     0.54254,     0.54354,     0.54454,     0.54555,     0.54655,     0.54755,     0.54855,     0.54955,     0.55055,     0.55155,\n",
              "           0.55255,     0.55355,     0.55455,     0.55556,     0.55656,     0.55756,     0.55856,     0.55956,     0.56056,     0.56156,     0.56256,     0.56356,     0.56456,     0.56557,     0.56657,     0.56757,     0.56857,     0.56957,     0.57057,     0.57157,     0.57257,     0.57357,     0.57457,     0.57558,\n",
              "           0.57658,     0.57758,     0.57858,     0.57958,     0.58058,     0.58158,     0.58258,     0.58358,     0.58458,     0.58559,     0.58659,     0.58759,     0.58859,     0.58959,     0.59059,     0.59159,     0.59259,     0.59359,     0.59459,      0.5956,      0.5966,      0.5976,      0.5986,      0.5996,\n",
              "            0.6006,      0.6016,      0.6026,      0.6036,      0.6046,     0.60561,     0.60661,     0.60761,     0.60861,     0.60961,     0.61061,     0.61161,     0.61261,     0.61361,     0.61461,     0.61562,     0.61662,     0.61762,     0.61862,     0.61962,     0.62062,     0.62162,     0.62262,     0.62362,\n",
              "           0.62462,     0.62563,     0.62663,     0.62763,     0.62863,     0.62963,     0.63063,     0.63163,     0.63263,     0.63363,     0.63463,     0.63564,     0.63664,     0.63764,     0.63864,     0.63964,     0.64064,     0.64164,     0.64264,     0.64364,     0.64464,     0.64565,     0.64665,     0.64765,\n",
              "           0.64865,     0.64965,     0.65065,     0.65165,     0.65265,     0.65365,     0.65465,     0.65566,     0.65666,     0.65766,     0.65866,     0.65966,     0.66066,     0.66166,     0.66266,     0.66366,     0.66466,     0.66567,     0.66667,     0.66767,     0.66867,     0.66967,     0.67067,     0.67167,\n",
              "           0.67267,     0.67367,     0.67467,     0.67568,     0.67668,     0.67768,     0.67868,     0.67968,     0.68068,     0.68168,     0.68268,     0.68368,     0.68468,     0.68569,     0.68669,     0.68769,     0.68869,     0.68969,     0.69069,     0.69169,     0.69269,     0.69369,     0.69469,      0.6957,\n",
              "            0.6967,      0.6977,      0.6987,      0.6997,      0.7007,      0.7017,      0.7027,      0.7037,      0.7047,     0.70571,     0.70671,     0.70771,     0.70871,     0.70971,     0.71071,     0.71171,     0.71271,     0.71371,     0.71471,     0.71572,     0.71672,     0.71772,     0.71872,     0.71972,\n",
              "           0.72072,     0.72172,     0.72272,     0.72372,     0.72472,     0.72573,     0.72673,     0.72773,     0.72873,     0.72973,     0.73073,     0.73173,     0.73273,     0.73373,     0.73473,     0.73574,     0.73674,     0.73774,     0.73874,     0.73974,     0.74074,     0.74174,     0.74274,     0.74374,\n",
              "           0.74474,     0.74575,     0.74675,     0.74775,     0.74875,     0.74975,     0.75075,     0.75175,     0.75275,     0.75375,     0.75475,     0.75576,     0.75676,     0.75776,     0.75876,     0.75976,     0.76076,     0.76176,     0.76276,     0.76376,     0.76476,     0.76577,     0.76677,     0.76777,\n",
              "           0.76877,     0.76977,     0.77077,     0.77177,     0.77277,     0.77377,     0.77477,     0.77578,     0.77678,     0.77778,     0.77878,     0.77978,     0.78078,     0.78178,     0.78278,     0.78378,     0.78478,     0.78579,     0.78679,     0.78779,     0.78879,     0.78979,     0.79079,     0.79179,\n",
              "           0.79279,     0.79379,     0.79479,      0.7958,      0.7968,      0.7978,      0.7988,      0.7998,      0.8008,      0.8018,      0.8028,      0.8038,      0.8048,     0.80581,     0.80681,     0.80781,     0.80881,     0.80981,     0.81081,     0.81181,     0.81281,     0.81381,     0.81481,     0.81582,\n",
              "           0.81682,     0.81782,     0.81882,     0.81982,     0.82082,     0.82182,     0.82282,     0.82382,     0.82482,     0.82583,     0.82683,     0.82783,     0.82883,     0.82983,     0.83083,     0.83183,     0.83283,     0.83383,     0.83483,     0.83584,     0.83684,     0.83784,     0.83884,     0.83984,\n",
              "           0.84084,     0.84184,     0.84284,     0.84384,     0.84484,     0.84585,     0.84685,     0.84785,     0.84885,     0.84985,     0.85085,     0.85185,     0.85285,     0.85385,     0.85485,     0.85586,     0.85686,     0.85786,     0.85886,     0.85986,     0.86086,     0.86186,     0.86286,     0.86386,\n",
              "           0.86486,     0.86587,     0.86687,     0.86787,     0.86887,     0.86987,     0.87087,     0.87187,     0.87287,     0.87387,     0.87487,     0.87588,     0.87688,     0.87788,     0.87888,     0.87988,     0.88088,     0.88188,     0.88288,     0.88388,     0.88488,     0.88589,     0.88689,     0.88789,\n",
              "           0.88889,     0.88989,     0.89089,     0.89189,     0.89289,     0.89389,     0.89489,      0.8959,      0.8969,      0.8979,      0.8989,      0.8999,      0.9009,      0.9019,      0.9029,      0.9039,      0.9049,     0.90591,     0.90691,     0.90791,     0.90891,     0.90991,     0.91091,     0.91191,\n",
              "           0.91291,     0.91391,     0.91491,     0.91592,     0.91692,     0.91792,     0.91892,     0.91992,     0.92092,     0.92192,     0.92292,     0.92392,     0.92492,     0.92593,     0.92693,     0.92793,     0.92893,     0.92993,     0.93093,     0.93193,     0.93293,     0.93393,     0.93493,     0.93594,\n",
              "           0.93694,     0.93794,     0.93894,     0.93994,     0.94094,     0.94194,     0.94294,     0.94394,     0.94494,     0.94595,     0.94695,     0.94795,     0.94895,     0.94995,     0.95095,     0.95195,     0.95295,     0.95395,     0.95495,     0.95596,     0.95696,     0.95796,     0.95896,     0.95996,\n",
              "           0.96096,     0.96196,     0.96296,     0.96396,     0.96496,     0.96597,     0.96697,     0.96797,     0.96897,     0.96997,     0.97097,     0.97197,     0.97297,     0.97397,     0.97497,     0.97598,     0.97698,     0.97798,     0.97898,     0.97998,     0.98098,     0.98198,     0.98298,     0.98398,\n",
              "           0.98498,     0.98599,     0.98699,     0.98799,     0.98899,     0.98999,     0.99099,     0.99199,     0.99299,     0.99399,     0.99499,       0.996,       0.997,       0.998,       0.999,           1]), array([[    0.19811,     0.19811,     0.26629,     0.31611,      0.3495,     0.37319,     0.40648,     0.42726,     0.43916,      0.4504,     0.45912,     0.46689,     0.48098,     0.48662,     0.48857,     0.49068,     0.49654,     0.50135,     0.50798,     0.51327,     0.52271,     0.52687,     0.53428,\n",
              "            0.53755,     0.54593,      0.5506,     0.55265,     0.55393,     0.55487,     0.55733,     0.55941,     0.56279,     0.56397,     0.56633,     0.56748,     0.57113,     0.57411,     0.57506,      0.5761,     0.58289,     0.58448,     0.58669,     0.59064,     0.59323,     0.59616,     0.60056,\n",
              "            0.60366,     0.61047,      0.6126,     0.61442,     0.62078,     0.62171,     0.62265,     0.62371,     0.62516,     0.62634,     0.62703,     0.62772,     0.62841,     0.62973,     0.63398,     0.63639,     0.63777,     0.63873,     0.63969,     0.64113,      0.6428,     0.64367,     0.64452,\n",
              "            0.64536,     0.64699,     0.64897,     0.65014,     0.65131,     0.65477,     0.65699,     0.66069,     0.66096,     0.66123,     0.66149,     0.66176,     0.66203,      0.6623,     0.66257,     0.66284,      0.6631,     0.66337,      0.6638,       0.665,      0.6662,     0.66815,     0.67042,\n",
              "             0.6724,     0.67444,     0.67634,     0.67761,     0.67889,     0.67843,     0.67816,     0.67931,     0.68046,     0.68229,     0.68434,     0.68509,     0.68584,     0.68659,     0.68734,     0.68728,     0.68699,     0.68671,     0.68642,     0.68614,     0.68737,     0.68987,     0.69159,\n",
              "            0.69303,     0.69395,     0.69488,     0.69581,     0.69667,     0.69751,     0.69835,     0.69919,     0.70062,     0.70239,      0.7037,     0.70478,     0.70586,     0.71092,     0.71301,     0.71264,     0.71476,     0.71561,     0.71538,     0.71516,     0.71493,      0.7147,     0.71447,\n",
              "            0.71451,     0.71562,     0.71673,     0.71784,     0.71932,     0.72084,     0.72308,     0.72557,     0.72631,     0.72705,     0.72778,     0.72852,     0.72927,     0.73012,     0.73097,     0.73181,     0.73266,     0.73319,     0.73352,     0.73385,     0.73419,     0.73452,     0.73485,\n",
              "            0.73519,     0.73552,     0.73585,     0.73619,     0.73652,     0.73694,      0.7405,     0.74158,     0.74247,     0.74337,     0.74427,     0.74498,     0.74552,     0.74606,     0.74661,     0.74715,      0.7477,     0.74824,     0.74889,     0.74989,     0.75089,     0.75189,     0.75335,\n",
              "            0.75669,     0.76558,     0.76615,     0.76671,     0.76728,     0.76784,     0.76841,     0.76897,     0.76933,     0.76951,     0.76969,     0.76988,     0.77006,     0.77024,     0.77042,     0.77061,     0.77079,     0.77097,     0.77115,     0.77134,     0.77152,      0.7717,     0.77188,\n",
              "            0.77207,     0.77225,     0.77243,     0.77261,      0.7728,     0.77298,     0.77316,     0.77334,     0.77446,     0.77804,     0.77973,     0.78143,     0.78337,     0.78549,     0.78709,     0.78819,      0.7893,      0.7904,     0.79104,      0.7912,     0.79137,     0.79153,     0.79169,\n",
              "            0.79185,     0.79201,     0.79218,     0.79234,      0.7925,     0.79266,     0.79283,     0.79299,     0.79315,     0.79331,     0.79348,     0.79364,      0.7938,     0.79396,     0.79413,     0.79429,     0.79445,     0.79461,     0.79477,     0.79494,      0.7951,     0.79526,     0.79542,\n",
              "            0.79608,     0.79686,     0.79764,     0.79841,     0.79919,     0.79997,     0.80095,     0.80194,     0.80293,     0.80393,     0.80482,      0.8055,     0.80618,     0.80686,     0.80754,     0.80822,      0.8089,     0.80963,      0.8104,     0.81117,     0.81194,     0.81272,     0.81349,\n",
              "            0.81429,     0.81514,     0.81599,     0.81684,     0.81768,     0.81853,     0.81991,     0.82143,     0.82295,     0.82374,     0.82408,     0.82442,     0.82475,     0.82509,     0.82543,     0.82577,     0.82611,     0.82645,     0.82679,     0.82712,     0.82746,      0.8278,     0.82814,\n",
              "            0.82873,     0.83017,     0.83162,     0.83306,       0.835,     0.83704,      0.8382,     0.83787,     0.83753,     0.84263,     0.84363,     0.84463,     0.84564,     0.84664,     0.84754,     0.84726,     0.84699,     0.84672,       0.847,     0.84757,     0.84813,     0.84869,     0.84926,\n",
              "            0.84982,     0.85038,     0.85095,     0.85151,     0.85128,     0.85215,     0.85302,      0.8539,     0.85477,     0.85564,     0.85634,     0.85663,     0.85693,     0.85722,     0.85752,     0.85781,      0.8581,      0.8584,     0.85869,     0.85899,     0.85928,     0.85958,     0.85987,\n",
              "            0.86017,     0.86046,     0.86075,     0.86105,     0.86134,     0.86163,     0.86151,     0.86139,     0.86128,     0.86116,     0.86104,     0.86092,      0.8608,     0.86147,     0.86249,     0.86351,     0.86453,     0.86555,     0.86665,     0.86792,     0.86918,     0.87045,     0.87171,\n",
              "            0.87166,     0.87151,     0.87136,     0.87121,     0.87107,     0.87126,     0.87215,     0.87304,     0.87393,     0.87483,     0.87572,     0.87661,     0.87763,     0.87865,     0.87967,     0.88069,     0.88171,     0.88257,     0.88315,     0.88373,     0.88431,     0.88489,     0.88547,\n",
              "            0.88605,     0.88663,     0.88721,      0.8878,     0.88814,     0.88808,     0.88802,     0.88797,     0.88791,     0.88786,      0.8878,     0.88774,     0.88769,     0.88763,     0.88757,     0.88752,     0.88746,      0.8875,     0.88791,     0.88832,     0.88873,     0.88915,     0.88956,\n",
              "            0.88997,     0.89038,     0.89079,      0.8912,     0.89161,     0.89202,     0.89244,     0.89285,     0.89326,      0.8962,     0.89932,     0.89927,     0.89922,     0.89917,     0.89912,     0.89907,     0.89902,     0.89897,     0.89892,     0.89887,     0.89882,     0.89877,     0.89871,\n",
              "            0.89866,     0.90082,     0.90395,     0.90464,     0.90447,      0.9043,     0.90414,       0.905,     0.90607,     0.90713,      0.9082,     0.90927,     0.91033,     0.90972,     0.90968,     0.90963,     0.90959,     0.90955,      0.9095,     0.90946,     0.90941,     0.90937,     0.90933,\n",
              "            0.90928,     0.90924,      0.9092,     0.90915,     0.90911,     0.90839,      0.9083,      0.9082,     0.90811,     0.90801,     0.90792,     0.90782,     0.90774,     0.90767,     0.90759,     0.90752,     0.90744,     0.90737,     0.90729,     0.90722,     0.90714,     0.90697,      0.9068,\n",
              "            0.90663,     0.90646,     0.90636,     0.90627,     0.90617,     0.90607,     0.90597,     0.90587,      0.9056,     0.90504,      0.9048,     0.90456,     0.90478,     0.90576,     0.90674,     0.90773,     0.90871,     0.90969,     0.91067,     0.91074,     0.91726,     0.91719,     0.91713,\n",
              "            0.91706,       0.917,     0.91694,     0.91687,     0.91681,     0.91674,     0.91668,     0.91656,     0.91643,      0.9163,     0.91617,     0.91604,     0.91572,     0.91539,     0.91532,     0.91525,     0.91518,     0.91512,     0.91505,     0.91498,     0.91491,     0.91485,     0.91478,\n",
              "            0.91402,     0.91385,     0.91368,      0.9135,     0.91335,     0.91325,     0.91315,     0.91305,     0.91295,     0.91285,     0.91275,     0.91323,      0.9143,     0.91537,     0.91644,     0.91751,     0.91858,     0.91965,     0.91956,     0.92069,      0.9226,     0.92452,     0.92643,\n",
              "            0.92667,     0.92646,     0.92626,     0.92963,     0.93355,     0.93335,      0.9347,     0.93605,      0.9374,     0.93875,      0.9401,     0.94058,     0.94041,     0.94023,     0.94286,     0.94702,     0.94812,     0.94788,     0.94774,     0.94762,      0.9475,     0.94739,     0.94978,\n",
              "            0.95265,     0.95551,     0.95736,      0.9591,     0.96085,      0.9626,     0.96426,     0.96446,     0.96536,     0.96626,     0.96715,     0.96805,     0.96895,     0.96985,     0.97075,     0.97164,     0.97254,     0.97263,      0.9725,     0.97226,     0.97402,     0.97609,     0.97816,\n",
              "            0.98023,     0.98228,     0.98467,     0.98707,     0.98946,     0.99042,     0.99037,     0.99034,     0.99031,     0.99029,     0.99025,     0.99022,     0.99019,     0.99018,     0.99016,     0.99014,     0.99013,     0.99011,     0.99009,     0.99007,     0.99005,     0.99004,     0.99002,\n",
              "               0.99,     0.98998,     0.98997,     0.98995,     0.98994,     0.98992,      0.9899,     0.98977,     0.98973,      0.9897,     0.98963,     0.98955,     0.98946,     0.98942,     0.98938,     0.98933,     0.98925,     0.98899,     0.98896,     0.98894,     0.98891,     0.98876,     0.98863,\n",
              "            0.98858,     0.98852,     0.98849,     0.98846,     0.98844,     0.98841,     0.98839,     0.98833,     0.98823,      0.9882,     0.98818,     0.98815,     0.98812,      0.9881,     0.98807,     0.98805,     0.98802,       0.988,     0.98797,     0.98795,     0.98787,      0.9878,     0.98775,\n",
              "            0.98771,     0.98767,     0.98764,     0.98763,     0.98762,      0.9876,     0.98759,     0.98758,     0.98756,     0.98755,     0.98753,     0.98752,     0.98751,     0.98748,     0.98744,      0.9874,     0.98736,     0.98995,     0.99427,      0.9986,           1,           1,           1,\n",
              "                  1,           1,           1,           1,           1,           1,           1,           1,           1,           1,           1,           1,           1,           1,           1,           1,           1,           1,           1,           1,           1,           1,           1,\n",
              "                  1,           1,           1,           1,           1,           1,           1,           1,           1,           1,           1,           1,           1,           1,           1,           1,           1,           1,           1,           1,           1,           1,           1,\n",
              "                  1,           1,           1,           1,           1,           1,           1,           1,           1,           1,           1,           1,           1,           1,           1,           1,           1,           1,           1,           1,           1,           1,           1,\n",
              "                  1,           1,           1,           1,           1,           1,           1,           1,           1,           1,           1,           1,           1,           1,           1,           1,           1,           1,           1,           1,           1,           1,           1,\n",
              "                  1,           1,           1,           1,           1,           1,           1,           1,           1,           1,           1,           1,           1,           1,           1,           1,           1,           1,           1,           1,           1,           1,           1,\n",
              "                  1,           1,           1,           1,           1,           1,           1,           1,           1,           1,           1,           1,           1,           1,           1,           1,           1,           1,           1,           1,           1,           1,           1,\n",
              "                  1,           1,           1,           1,           1,           1,           1,           1,           1,           1,           1,           1,           1,           1,           1,           1,           1,           1,           1,           1,           1,           1,           1,\n",
              "                  1,           1,           1,           1,           1,           1,           1,           1,           1,           1,           1,           1,           1,           1,           1,           1,           1,           1,           1,           1,           1,           1,           1,\n",
              "                  1,           1,           1,           1,           1,           1,           1,           1,           1,           1,           1,           1,           1,           1,           1,           1,           1,           1,           1,           1,           1,           1,           1,\n",
              "                  1,           1,           1,           1,           1,           1,           1,           1,           1,           1,           1,           1,           1,           1,           1,           1,           1,           1,           1,           1,           1,           1,           1,\n",
              "                  1,           1,           1,           1,           1,           1,           1,           1,           1,           1,           1,           1,           1,           1,           1,           1,           1,           1,           1,           1,           1,           1,           1,\n",
              "                  1,           1,           1,           1,           1,           1,           1,           1,           1,           1,           1,           1,           1,           1,           1,           1,           1,           1,           1,           1,           1,           1,           1,\n",
              "                  1,           1,           1,           1,           1,           1,           1,           1,           1,           1,           1,           1,           1,           1,           1,           1,           1,           1,           1,           1,           1,           1,           1,\n",
              "                  1,           1,           1,           1,           1,           1,           1,           1,           1,           1,           1]]), 'Confidence', 'Precision'], [array([          0,    0.001001,    0.002002,    0.003003,    0.004004,    0.005005,    0.006006,    0.007007,    0.008008,    0.009009,     0.01001,    0.011011,    0.012012,    0.013013,    0.014014,    0.015015,    0.016016,    0.017017,    0.018018,    0.019019,     0.02002,    0.021021,    0.022022,    0.023023,\n",
              "          0.024024,    0.025025,    0.026026,    0.027027,    0.028028,    0.029029,     0.03003,    0.031031,    0.032032,    0.033033,    0.034034,    0.035035,    0.036036,    0.037037,    0.038038,    0.039039,     0.04004,    0.041041,    0.042042,    0.043043,    0.044044,    0.045045,    0.046046,    0.047047,\n",
              "          0.048048,    0.049049,     0.05005,    0.051051,    0.052052,    0.053053,    0.054054,    0.055055,    0.056056,    0.057057,    0.058058,    0.059059,     0.06006,    0.061061,    0.062062,    0.063063,    0.064064,    0.065065,    0.066066,    0.067067,    0.068068,    0.069069,     0.07007,    0.071071,\n",
              "          0.072072,    0.073073,    0.074074,    0.075075,    0.076076,    0.077077,    0.078078,    0.079079,     0.08008,    0.081081,    0.082082,    0.083083,    0.084084,    0.085085,    0.086086,    0.087087,    0.088088,    0.089089,     0.09009,    0.091091,    0.092092,    0.093093,    0.094094,    0.095095,\n",
              "          0.096096,    0.097097,    0.098098,    0.099099,      0.1001,      0.1011,      0.1021,      0.1031,      0.1041,     0.10511,     0.10611,     0.10711,     0.10811,     0.10911,     0.11011,     0.11111,     0.11211,     0.11311,     0.11411,     0.11512,     0.11612,     0.11712,     0.11812,     0.11912,\n",
              "           0.12012,     0.12112,     0.12212,     0.12312,     0.12412,     0.12513,     0.12613,     0.12713,     0.12813,     0.12913,     0.13013,     0.13113,     0.13213,     0.13313,     0.13413,     0.13514,     0.13614,     0.13714,     0.13814,     0.13914,     0.14014,     0.14114,     0.14214,     0.14314,\n",
              "           0.14414,     0.14515,     0.14615,     0.14715,     0.14815,     0.14915,     0.15015,     0.15115,     0.15215,     0.15315,     0.15415,     0.15516,     0.15616,     0.15716,     0.15816,     0.15916,     0.16016,     0.16116,     0.16216,     0.16316,     0.16416,     0.16517,     0.16617,     0.16717,\n",
              "           0.16817,     0.16917,     0.17017,     0.17117,     0.17217,     0.17317,     0.17417,     0.17518,     0.17618,     0.17718,     0.17818,     0.17918,     0.18018,     0.18118,     0.18218,     0.18318,     0.18418,     0.18519,     0.18619,     0.18719,     0.18819,     0.18919,     0.19019,     0.19119,\n",
              "           0.19219,     0.19319,     0.19419,      0.1952,      0.1962,      0.1972,      0.1982,      0.1992,      0.2002,      0.2012,      0.2022,      0.2032,      0.2042,     0.20521,     0.20621,     0.20721,     0.20821,     0.20921,     0.21021,     0.21121,     0.21221,     0.21321,     0.21421,     0.21522,\n",
              "           0.21622,     0.21722,     0.21822,     0.21922,     0.22022,     0.22122,     0.22222,     0.22322,     0.22422,     0.22523,     0.22623,     0.22723,     0.22823,     0.22923,     0.23023,     0.23123,     0.23223,     0.23323,     0.23423,     0.23524,     0.23624,     0.23724,     0.23824,     0.23924,\n",
              "           0.24024,     0.24124,     0.24224,     0.24324,     0.24424,     0.24525,     0.24625,     0.24725,     0.24825,     0.24925,     0.25025,     0.25125,     0.25225,     0.25325,     0.25425,     0.25526,     0.25626,     0.25726,     0.25826,     0.25926,     0.26026,     0.26126,     0.26226,     0.26326,\n",
              "           0.26426,     0.26527,     0.26627,     0.26727,     0.26827,     0.26927,     0.27027,     0.27127,     0.27227,     0.27327,     0.27427,     0.27528,     0.27628,     0.27728,     0.27828,     0.27928,     0.28028,     0.28128,     0.28228,     0.28328,     0.28428,     0.28529,     0.28629,     0.28729,\n",
              "           0.28829,     0.28929,     0.29029,     0.29129,     0.29229,     0.29329,     0.29429,      0.2953,      0.2963,      0.2973,      0.2983,      0.2993,      0.3003,      0.3013,      0.3023,      0.3033,      0.3043,     0.30531,     0.30631,     0.30731,     0.30831,     0.30931,     0.31031,     0.31131,\n",
              "           0.31231,     0.31331,     0.31431,     0.31532,     0.31632,     0.31732,     0.31832,     0.31932,     0.32032,     0.32132,     0.32232,     0.32332,     0.32432,     0.32533,     0.32633,     0.32733,     0.32833,     0.32933,     0.33033,     0.33133,     0.33233,     0.33333,     0.33433,     0.33534,\n",
              "           0.33634,     0.33734,     0.33834,     0.33934,     0.34034,     0.34134,     0.34234,     0.34334,     0.34434,     0.34535,     0.34635,     0.34735,     0.34835,     0.34935,     0.35035,     0.35135,     0.35235,     0.35335,     0.35435,     0.35536,     0.35636,     0.35736,     0.35836,     0.35936,\n",
              "           0.36036,     0.36136,     0.36236,     0.36336,     0.36436,     0.36537,     0.36637,     0.36737,     0.36837,     0.36937,     0.37037,     0.37137,     0.37237,     0.37337,     0.37437,     0.37538,     0.37638,     0.37738,     0.37838,     0.37938,     0.38038,     0.38138,     0.38238,     0.38338,\n",
              "           0.38438,     0.38539,     0.38639,     0.38739,     0.38839,     0.38939,     0.39039,     0.39139,     0.39239,     0.39339,     0.39439,      0.3954,      0.3964,      0.3974,      0.3984,      0.3994,      0.4004,      0.4014,      0.4024,      0.4034,      0.4044,     0.40541,     0.40641,     0.40741,\n",
              "           0.40841,     0.40941,     0.41041,     0.41141,     0.41241,     0.41341,     0.41441,     0.41542,     0.41642,     0.41742,     0.41842,     0.41942,     0.42042,     0.42142,     0.42242,     0.42342,     0.42442,     0.42543,     0.42643,     0.42743,     0.42843,     0.42943,     0.43043,     0.43143,\n",
              "           0.43243,     0.43343,     0.43443,     0.43544,     0.43644,     0.43744,     0.43844,     0.43944,     0.44044,     0.44144,     0.44244,     0.44344,     0.44444,     0.44545,     0.44645,     0.44745,     0.44845,     0.44945,     0.45045,     0.45145,     0.45245,     0.45345,     0.45445,     0.45546,\n",
              "           0.45646,     0.45746,     0.45846,     0.45946,     0.46046,     0.46146,     0.46246,     0.46346,     0.46446,     0.46547,     0.46647,     0.46747,     0.46847,     0.46947,     0.47047,     0.47147,     0.47247,     0.47347,     0.47447,     0.47548,     0.47648,     0.47748,     0.47848,     0.47948,\n",
              "           0.48048,     0.48148,     0.48248,     0.48348,     0.48448,     0.48549,     0.48649,     0.48749,     0.48849,     0.48949,     0.49049,     0.49149,     0.49249,     0.49349,     0.49449,      0.4955,      0.4965,      0.4975,      0.4985,      0.4995,      0.5005,      0.5015,      0.5025,      0.5035,\n",
              "            0.5045,     0.50551,     0.50651,     0.50751,     0.50851,     0.50951,     0.51051,     0.51151,     0.51251,     0.51351,     0.51451,     0.51552,     0.51652,     0.51752,     0.51852,     0.51952,     0.52052,     0.52152,     0.52252,     0.52352,     0.52452,     0.52553,     0.52653,     0.52753,\n",
              "           0.52853,     0.52953,     0.53053,     0.53153,     0.53253,     0.53353,     0.53453,     0.53554,     0.53654,     0.53754,     0.53854,     0.53954,     0.54054,     0.54154,     0.54254,     0.54354,     0.54454,     0.54555,     0.54655,     0.54755,     0.54855,     0.54955,     0.55055,     0.55155,\n",
              "           0.55255,     0.55355,     0.55455,     0.55556,     0.55656,     0.55756,     0.55856,     0.55956,     0.56056,     0.56156,     0.56256,     0.56356,     0.56456,     0.56557,     0.56657,     0.56757,     0.56857,     0.56957,     0.57057,     0.57157,     0.57257,     0.57357,     0.57457,     0.57558,\n",
              "           0.57658,     0.57758,     0.57858,     0.57958,     0.58058,     0.58158,     0.58258,     0.58358,     0.58458,     0.58559,     0.58659,     0.58759,     0.58859,     0.58959,     0.59059,     0.59159,     0.59259,     0.59359,     0.59459,      0.5956,      0.5966,      0.5976,      0.5986,      0.5996,\n",
              "            0.6006,      0.6016,      0.6026,      0.6036,      0.6046,     0.60561,     0.60661,     0.60761,     0.60861,     0.60961,     0.61061,     0.61161,     0.61261,     0.61361,     0.61461,     0.61562,     0.61662,     0.61762,     0.61862,     0.61962,     0.62062,     0.62162,     0.62262,     0.62362,\n",
              "           0.62462,     0.62563,     0.62663,     0.62763,     0.62863,     0.62963,     0.63063,     0.63163,     0.63263,     0.63363,     0.63463,     0.63564,     0.63664,     0.63764,     0.63864,     0.63964,     0.64064,     0.64164,     0.64264,     0.64364,     0.64464,     0.64565,     0.64665,     0.64765,\n",
              "           0.64865,     0.64965,     0.65065,     0.65165,     0.65265,     0.65365,     0.65465,     0.65566,     0.65666,     0.65766,     0.65866,     0.65966,     0.66066,     0.66166,     0.66266,     0.66366,     0.66466,     0.66567,     0.66667,     0.66767,     0.66867,     0.66967,     0.67067,     0.67167,\n",
              "           0.67267,     0.67367,     0.67467,     0.67568,     0.67668,     0.67768,     0.67868,     0.67968,     0.68068,     0.68168,     0.68268,     0.68368,     0.68468,     0.68569,     0.68669,     0.68769,     0.68869,     0.68969,     0.69069,     0.69169,     0.69269,     0.69369,     0.69469,      0.6957,\n",
              "            0.6967,      0.6977,      0.6987,      0.6997,      0.7007,      0.7017,      0.7027,      0.7037,      0.7047,     0.70571,     0.70671,     0.70771,     0.70871,     0.70971,     0.71071,     0.71171,     0.71271,     0.71371,     0.71471,     0.71572,     0.71672,     0.71772,     0.71872,     0.71972,\n",
              "           0.72072,     0.72172,     0.72272,     0.72372,     0.72472,     0.72573,     0.72673,     0.72773,     0.72873,     0.72973,     0.73073,     0.73173,     0.73273,     0.73373,     0.73473,     0.73574,     0.73674,     0.73774,     0.73874,     0.73974,     0.74074,     0.74174,     0.74274,     0.74374,\n",
              "           0.74474,     0.74575,     0.74675,     0.74775,     0.74875,     0.74975,     0.75075,     0.75175,     0.75275,     0.75375,     0.75475,     0.75576,     0.75676,     0.75776,     0.75876,     0.75976,     0.76076,     0.76176,     0.76276,     0.76376,     0.76476,     0.76577,     0.76677,     0.76777,\n",
              "           0.76877,     0.76977,     0.77077,     0.77177,     0.77277,     0.77377,     0.77477,     0.77578,     0.77678,     0.77778,     0.77878,     0.77978,     0.78078,     0.78178,     0.78278,     0.78378,     0.78478,     0.78579,     0.78679,     0.78779,     0.78879,     0.78979,     0.79079,     0.79179,\n",
              "           0.79279,     0.79379,     0.79479,      0.7958,      0.7968,      0.7978,      0.7988,      0.7998,      0.8008,      0.8018,      0.8028,      0.8038,      0.8048,     0.80581,     0.80681,     0.80781,     0.80881,     0.80981,     0.81081,     0.81181,     0.81281,     0.81381,     0.81481,     0.81582,\n",
              "           0.81682,     0.81782,     0.81882,     0.81982,     0.82082,     0.82182,     0.82282,     0.82382,     0.82482,     0.82583,     0.82683,     0.82783,     0.82883,     0.82983,     0.83083,     0.83183,     0.83283,     0.83383,     0.83483,     0.83584,     0.83684,     0.83784,     0.83884,     0.83984,\n",
              "           0.84084,     0.84184,     0.84284,     0.84384,     0.84484,     0.84585,     0.84685,     0.84785,     0.84885,     0.84985,     0.85085,     0.85185,     0.85285,     0.85385,     0.85485,     0.85586,     0.85686,     0.85786,     0.85886,     0.85986,     0.86086,     0.86186,     0.86286,     0.86386,\n",
              "           0.86486,     0.86587,     0.86687,     0.86787,     0.86887,     0.86987,     0.87087,     0.87187,     0.87287,     0.87387,     0.87487,     0.87588,     0.87688,     0.87788,     0.87888,     0.87988,     0.88088,     0.88188,     0.88288,     0.88388,     0.88488,     0.88589,     0.88689,     0.88789,\n",
              "           0.88889,     0.88989,     0.89089,     0.89189,     0.89289,     0.89389,     0.89489,      0.8959,      0.8969,      0.8979,      0.8989,      0.8999,      0.9009,      0.9019,      0.9029,      0.9039,      0.9049,     0.90591,     0.90691,     0.90791,     0.90891,     0.90991,     0.91091,     0.91191,\n",
              "           0.91291,     0.91391,     0.91491,     0.91592,     0.91692,     0.91792,     0.91892,     0.91992,     0.92092,     0.92192,     0.92292,     0.92392,     0.92492,     0.92593,     0.92693,     0.92793,     0.92893,     0.92993,     0.93093,     0.93193,     0.93293,     0.93393,     0.93493,     0.93594,\n",
              "           0.93694,     0.93794,     0.93894,     0.93994,     0.94094,     0.94194,     0.94294,     0.94394,     0.94494,     0.94595,     0.94695,     0.94795,     0.94895,     0.94995,     0.95095,     0.95195,     0.95295,     0.95395,     0.95495,     0.95596,     0.95696,     0.95796,     0.95896,     0.95996,\n",
              "           0.96096,     0.96196,     0.96296,     0.96396,     0.96496,     0.96597,     0.96697,     0.96797,     0.96897,     0.96997,     0.97097,     0.97197,     0.97297,     0.97397,     0.97497,     0.97598,     0.97698,     0.97798,     0.97898,     0.97998,     0.98098,     0.98198,     0.98298,     0.98398,\n",
              "           0.98498,     0.98599,     0.98699,     0.98799,     0.98899,     0.98999,     0.99099,     0.99199,     0.99299,     0.99399,     0.99499,       0.996,       0.997,       0.998,       0.999,           1]), array([[          1,           1,           1,           1,           1,           1,           1,           1,           1,           1,      0.9932,      0.9932,      0.9932,      0.9932,     0.98639,     0.98639,     0.98639,     0.98639,     0.98639,     0.98639,     0.98639,     0.98639,     0.98639,\n",
              "            0.98639,     0.98639,     0.98639,     0.98639,     0.98639,     0.98639,     0.98639,     0.98639,     0.98639,     0.98639,      0.9861,     0.97959,     0.97959,     0.97959,     0.97959,     0.97959,     0.97959,     0.97959,     0.97959,     0.97959,     0.97959,     0.97959,     0.97959,\n",
              "            0.97959,     0.97959,     0.97959,     0.97959,     0.97959,     0.97959,     0.97959,     0.97959,     0.97959,     0.97959,     0.97959,     0.97959,     0.97959,     0.97959,     0.97959,     0.97959,     0.97959,     0.97959,     0.97959,     0.97959,     0.97959,     0.97959,     0.97959,\n",
              "            0.97959,     0.97959,     0.97959,     0.97959,     0.97959,     0.97959,     0.97959,     0.97959,     0.97959,     0.97959,     0.97959,     0.97959,     0.97959,     0.97959,     0.97959,     0.97959,     0.97959,     0.97959,     0.97959,     0.97959,     0.97959,     0.97959,     0.97959,\n",
              "            0.97959,     0.97959,     0.97959,     0.97959,     0.97959,     0.97593,     0.97279,     0.97279,     0.97279,     0.97279,     0.97279,     0.97279,     0.97279,     0.97279,     0.97279,     0.97178,      0.9705,     0.96922,     0.96794,     0.96666,     0.96599,     0.96599,     0.96599,\n",
              "            0.96599,     0.96599,     0.96599,     0.96599,     0.96599,     0.96599,     0.96599,     0.96599,     0.96599,     0.96599,     0.96599,     0.96599,     0.96599,     0.96599,     0.96599,     0.95918,     0.95918,      0.9586,     0.95753,     0.95646,     0.95539,     0.95431,     0.95324,\n",
              "            0.95238,     0.95238,     0.95238,     0.95238,     0.95238,     0.95238,     0.95238,     0.95238,     0.95238,     0.95238,     0.95238,     0.95238,     0.95238,     0.95238,     0.95238,     0.95238,     0.95238,     0.95238,     0.95238,     0.95238,     0.95238,     0.95238,     0.95238,\n",
              "            0.95238,     0.95238,     0.95238,     0.95238,     0.95238,     0.95238,     0.95238,     0.95238,     0.95238,     0.95238,     0.95238,     0.95238,     0.95238,     0.95238,     0.95238,     0.95238,     0.95238,     0.95238,     0.95238,     0.95238,     0.95238,     0.95238,     0.95238,\n",
              "            0.95238,     0.95238,     0.95238,     0.95238,     0.95238,     0.95238,     0.95238,     0.95238,     0.95238,     0.95238,     0.95238,     0.95238,     0.95238,     0.95238,     0.95238,     0.95238,     0.95238,     0.95238,     0.95238,     0.95238,     0.95238,     0.95238,     0.95238,\n",
              "            0.95238,     0.95238,     0.95238,     0.95238,     0.95238,     0.95238,     0.95238,     0.95238,     0.95238,     0.95238,     0.95238,     0.95238,     0.95238,     0.95238,     0.95238,     0.95238,     0.95238,     0.95238,     0.95238,     0.95238,     0.95238,     0.95238,     0.95238,\n",
              "            0.95238,     0.95238,     0.95238,     0.95238,     0.95238,     0.95238,     0.95238,     0.95238,     0.95238,     0.95238,     0.95238,     0.95238,     0.95238,     0.95238,     0.95238,     0.95238,     0.95238,     0.95238,     0.95238,     0.95238,     0.95238,     0.95238,     0.95238,\n",
              "            0.95238,     0.95238,     0.95238,     0.95238,     0.95238,     0.95238,     0.95238,     0.95238,     0.95238,     0.95238,     0.95238,     0.95238,     0.95238,     0.95238,     0.95238,     0.95238,     0.95238,     0.95238,     0.95238,     0.95238,     0.95238,     0.95238,     0.95238,\n",
              "            0.95238,     0.95238,     0.95238,     0.95238,     0.95238,     0.95238,     0.95238,     0.95238,     0.95238,     0.95238,     0.95238,     0.95238,     0.95238,     0.95238,     0.95238,     0.95238,     0.95238,     0.95238,     0.95238,     0.95238,     0.95238,     0.95238,     0.95238,\n",
              "            0.95238,     0.95238,     0.95238,     0.95238,     0.95238,     0.95238,     0.95151,     0.94919,     0.94686,     0.94558,     0.94558,     0.94558,     0.94558,     0.94558,     0.94542,     0.94342,     0.94143,     0.93944,     0.93878,     0.93878,     0.93878,     0.93878,     0.93878,\n",
              "            0.93878,     0.93878,     0.93878,     0.93878,     0.93197,     0.93197,     0.93197,     0.93197,     0.93197,     0.93197,     0.93197,     0.93197,     0.93197,     0.93197,     0.93197,     0.93197,     0.93197,     0.93197,     0.93197,     0.93197,     0.93197,     0.93197,     0.93197,\n",
              "            0.93197,     0.93197,     0.93197,     0.93197,     0.93197,     0.93196,     0.93104,     0.93011,     0.92918,     0.92825,     0.92732,     0.92639,     0.92546,     0.92517,     0.92517,     0.92517,     0.92517,     0.92517,     0.92517,     0.92517,     0.92517,     0.92517,     0.92517,\n",
              "            0.92404,     0.92282,     0.92161,      0.9204,     0.91918,     0.91837,     0.91837,     0.91837,     0.91837,     0.91837,     0.91837,     0.91837,     0.91837,     0.91837,     0.91837,     0.91837,     0.91837,     0.91837,     0.91837,     0.91837,     0.91837,     0.91837,     0.91837,\n",
              "            0.91837,     0.91837,     0.91837,     0.91837,     0.91817,     0.91766,     0.91714,     0.91662,     0.91611,     0.91559,     0.91507,     0.91456,     0.91404,     0.91352,     0.91301,     0.91249,     0.91198,     0.91156,     0.91156,     0.91156,     0.91156,     0.91156,     0.91156,\n",
              "            0.91156,     0.91156,     0.91156,     0.91156,     0.91156,     0.91156,     0.91156,     0.91156,     0.91156,     0.91156,     0.91151,       0.911,      0.9105,     0.90999,     0.90948,     0.90897,     0.90847,     0.90796,     0.90745,     0.90695,     0.90644,     0.90593,     0.90542,\n",
              "            0.90492,     0.90476,     0.90476,     0.90347,     0.90172,     0.89998,     0.89824,     0.89796,     0.89796,     0.89796,     0.89796,     0.89796,     0.89796,     0.89115,     0.89068,     0.89021,     0.88973,     0.88926,     0.88879,     0.88831,     0.88784,     0.88737,      0.8869,\n",
              "            0.88642,     0.88595,     0.88548,     0.88501,     0.88453,     0.87693,     0.87594,     0.87494,     0.87394,     0.87295,     0.87195,     0.87096,     0.87013,     0.86936,     0.86859,     0.86781,     0.86704,     0.86626,     0.86549,     0.86471,     0.86393,     0.86218,     0.86044,\n",
              "             0.8587,     0.85703,     0.85604,     0.85504,     0.85405,     0.85305,     0.85205,     0.85106,     0.84839,     0.84283,      0.8405,     0.83818,     0.83673,     0.83673,     0.83673,     0.83673,     0.83673,     0.83673,     0.83673,     0.83291,     0.82953,     0.82883,     0.82814,\n",
              "            0.82744,     0.82674,     0.82605,     0.82535,     0.82465,     0.82395,     0.82326,     0.82199,     0.82059,      0.8192,     0.81781,     0.81641,     0.81305,     0.80956,     0.80883,     0.80814,     0.80744,     0.80674,     0.80605,     0.80535,     0.80465,     0.80395,     0.80326,\n",
              "            0.79551,     0.79377,     0.79203,     0.79028,     0.78879,     0.78779,     0.78679,      0.7858,      0.7848,     0.78381,     0.78281,     0.78231,     0.78231,     0.78231,     0.78231,     0.78231,     0.78231,     0.78231,     0.77763,     0.77551,     0.77551,     0.77551,     0.77551,\n",
              "            0.77366,     0.77134,     0.76902,     0.76871,     0.76871,      0.7551,      0.7551,      0.7551,      0.7551,      0.7551,      0.7551,     0.75377,     0.75144,     0.74912,      0.7483,      0.7483,     0.74587,     0.74238,      0.7402,     0.73845,     0.73671,     0.73497,     0.73469,\n",
              "            0.73469,     0.73469,     0.73469,     0.73469,     0.73469,     0.73469,     0.73416,     0.72789,     0.72789,     0.72789,     0.72789,     0.72789,     0.72789,     0.72789,     0.72789,     0.72789,     0.72789,     0.72512,     0.72163,     0.71521,     0.71429,     0.71429,     0.71429,\n",
              "            0.71429,     0.70748,     0.70748,     0.70748,     0.70748,     0.70347,     0.69948,     0.69749,      0.6955,     0.69345,     0.69112,      0.6888,     0.68677,     0.68561,     0.68445,     0.68329,     0.68213,     0.68096,     0.67976,     0.67849,     0.67722,     0.67595,     0.67469,\n",
              "            0.67343,     0.67235,     0.67128,     0.67021,     0.66914,     0.66806,     0.66699,     0.65824,     0.65592,     0.65359,     0.64947,     0.64411,     0.63868,     0.63636,     0.63403,     0.63077,     0.62612,     0.61093,     0.60954,     0.60814,     0.60675,     0.59819,     0.59159,\n",
              "             0.5888,     0.58601,     0.58421,     0.58294,     0.58167,     0.58041,     0.57914,     0.57625,     0.57104,     0.56977,      0.5685,     0.56723,     0.56597,      0.5647,     0.56353,     0.56237,     0.56121,     0.56004,     0.55888,     0.55751,     0.55403,     0.55075,     0.54875,\n",
              "            0.54676,     0.54477,     0.54378,     0.54317,     0.54257,     0.54196,     0.54135,     0.54075,     0.54014,     0.53953,     0.53893,     0.53832,     0.53772,     0.53654,     0.53479,     0.53305,     0.53131,     0.53061,     0.53061,     0.53061,     0.53024,     0.52968,     0.52912,\n",
              "            0.52856,       0.528,     0.52745,     0.52689,     0.52633,     0.52577,     0.52522,     0.52466,      0.5241,      0.5235,     0.52287,     0.52224,      0.5216,     0.52097,     0.52034,      0.5197,     0.51907,     0.51843,      0.5178,     0.51717,     0.51492,     0.51213,     0.50981,\n",
              "            0.50854,     0.50728,     0.50601,     0.50474,     0.50347,     0.49682,      0.4939,     0.49111,     0.48856,     0.48624,     0.48392,     0.48131,     0.47852,      0.4739,      0.4675,     0.46471,     0.44732,     0.43504,     0.43377,     0.43251,     0.43124,     0.42997,      0.4287,\n",
              "            0.42649,     0.42416,     0.42184,     0.41952,     0.41719,     0.41494,     0.41443,     0.41391,     0.41339,     0.41288,     0.41236,     0.41184,     0.41133,     0.41081,      0.4103,     0.40978,     0.40926,     0.40875,     0.40823,     0.40208,     0.38886,     0.38347,     0.38024,\n",
              "            0.37869,     0.37714,     0.37559,     0.36688,     0.35926,     0.35234,     0.35001,     0.34769,     0.34458,     0.34109,     0.33676,     0.33307,     0.33208,     0.33108,     0.33008,     0.32909,     0.32809,     0.32709,     0.32048,     0.31313,     0.30954,     0.30607,     0.30328,\n",
              "            0.30049,     0.29201,     0.29114,     0.29027,      0.2894,     0.28852,     0.28765,     0.28678,     0.28591,     0.27737,     0.27537,     0.27338,     0.26027,     0.25749,     0.25633,     0.25516,       0.254,     0.25284,     0.25166,     0.24967,     0.24768,     0.24568,     0.24068,\n",
              "             0.2302,     0.22845,     0.22671,     0.22497,     0.21942,     0.20313,     0.20186,     0.20059,     0.19933,     0.19806,     0.19549,     0.19084,     0.18296,     0.18218,     0.18141,     0.18063,     0.17986,     0.17908,     0.17831,     0.17754,     0.17621,     0.17156,     0.16951,\n",
              "            0.16869,     0.16787,     0.16705,     0.16623,     0.16541,     0.16459,     0.16377,     0.16278,     0.16151,     0.16024,     0.15897,      0.1577,     0.15632,     0.14223,     0.12914,     0.12759,     0.12605,      0.1245,     0.12295,     0.12166,      0.1205,     0.11934,     0.11817,\n",
              "            0.11701,     0.11585,     0.11277,     0.10928,     0.10478,    0.099174,    0.087828,    0.086433,    0.085039,    0.083644,     0.08225,    0.080337,    0.078012,    0.075688,    0.061177,    0.060845,    0.060513,    0.060181,    0.059849,    0.059517,    0.059185,    0.058853,    0.058521,\n",
              "           0.058189,    0.057857,    0.057524,    0.057192,     0.05686,    0.056528,    0.056196,    0.055864,    0.055532,      0.0552,    0.054868,    0.054536,    0.052135,    0.048649,    0.047192,    0.046585,    0.045979,    0.045373,    0.044766,     0.04416,    0.043554,    0.042947,    0.042341,\n",
              "           0.041735,    0.041128,    0.040365,    0.039435,    0.038506,    0.037576,    0.036646,    0.035716,    0.034787,    0.033544,    0.030755,    0.027965,    0.026787,    0.026206,    0.025625,    0.025044,    0.024463,    0.023882,    0.023301,    0.022719,    0.022138,    0.021557,    0.020976,\n",
              "           0.020398,    0.019963,    0.019527,    0.019091,    0.018655,    0.018219,    0.017784,    0.017348,    0.016912,    0.016476,     0.01604,    0.015604,    0.015169,    0.014733,    0.014297,    0.013861,    0.013431,    0.013008,    0.012586,    0.012163,     0.01174,    0.011318,    0.010895,\n",
              "           0.010473,     0.01005,   0.0096274,   0.0092048,   0.0087822,   0.0083596,    0.007937,   0.0075144,   0.0070918,           0,           0,           0,           0,           0,           0,           0,           0,           0,           0,           0,           0,           0,           0,\n",
              "                  0,           0,           0,           0,           0,           0,           0,           0,           0,           0,           0,           0,           0,           0,           0,           0,           0,           0,           0,           0,           0,           0,           0,\n",
              "                  0,           0,           0,           0,           0,           0,           0,           0,           0,           0,           0]]), 'Confidence', 'Recall']]\n",
              "fitness: 0.596884333978576\n",
              "keys: ['metrics/precision(B)', 'metrics/recall(B)', 'metrics/mAP50(B)', 'metrics/mAP50-95(B)']\n",
              "maps: array([    0.55693])\n",
              "names: {0: 'smoke'}\n",
              "plot: True\n",
              "results_dict: {'metrics/precision(B)': 0.8899683115599605, 'metrics/recall(B)': 0.9115646258503401, 'metrics/mAP50(B)': 0.9564598297977515, 'metrics/mAP50-95(B)': 0.5569315011097787, 'fitness': 0.596884333978576}\n",
              "save_dir: PosixPath('runs/detect/train3')\n",
              "speed: {'preprocess': 0.10809930814366762, 'inference': 0.4129766606960167, 'loss': 0.0004395335709967581, 'postprocess': 7.788098588281748}\n",
              "task: 'detect'"
            ]
          },
          "metadata": {},
          "execution_count": 11
        }
      ]
    },
    {
      "source": [
        "# Load the model by specifying the path to the best.pt model file within the train3 directory\n",
        "model = YOLO('/content/drive/MyDrive/WildfireSmoke.v1-raw.yolov8/runs/detect/train3/weights/best.pt')\n",
        "results = model.val()\n",
        "print(results)"
      ],
      "cell_type": "code",
      "metadata": {
        "id": "fBm4mbQIP8SJ",
        "outputId": "4b9eb05e-c6df-489c-841a-4eeaced45135",
        "colab": {
          "base_uri": "https://localhost:8080/"
        }
      },
      "execution_count": null,
      "outputs": [
        {
          "output_type": "stream",
          "name": "stdout",
          "text": [
            "Ultralytics YOLOv8.2.84 🚀 Python-3.10.12 torch-2.4.0+cu121 CUDA:0 (NVIDIA A100-SXM4-40GB, 40514MiB)\n",
            "Model summary (fused): 168 layers, 3,005,843 parameters, 0 gradients, 8.1 GFLOPs\n"
          ]
        },
        {
          "output_type": "stream",
          "name": "stderr",
          "text": [
            "\u001b[34m\u001b[1mval: \u001b[0mScanning /content/drive/MyDrive/WildfireSmoke.v1-raw.yolov8/valid/labels.cache... 147 images, 0 backgrounds, 0 corrupt: 100%|██████████| 147/147 [00:00<?, ?it/s]\n",
            "/usr/lib/python3.10/multiprocessing/popen_fork.py:66: RuntimeWarning: os.fork() was called. os.fork() is incompatible with multithreaded code, and JAX is multithreaded, so this will likely lead to a deadlock.\n",
            "  self.pid = os.fork()\n",
            "                 Class     Images  Instances      Box(P          R      mAP50  mAP50-95): 100%|██████████| 10/10 [00:02<00:00,  3.52it/s]\n"
          ]
        },
        {
          "output_type": "stream",
          "name": "stdout",
          "text": [
            "                   all        147        147      0.905      0.918       0.96      0.554\n",
            "Speed: 0.8ms preprocess, 7.6ms inference, 0.0ms loss, 1.0ms postprocess per image\n",
            "Results saved to \u001b[1mruns/detect/val2\u001b[0m\n",
            "ultralytics.utils.metrics.DetMetrics object with attributes:\n",
            "\n",
            "ap_class_index: array([0])\n",
            "box: ultralytics.utils.metrics.Metric object\n",
            "confusion_matrix: <ultralytics.utils.metrics.ConfusionMatrix object at 0x78e6989203a0>\n",
            "curves: ['Precision-Recall(B)', 'F1-Confidence(B)', 'Precision-Confidence(B)', 'Recall-Confidence(B)']\n",
            "curves_results: [[array([          0,    0.001001,    0.002002,    0.003003,    0.004004,    0.005005,    0.006006,    0.007007,    0.008008,    0.009009,     0.01001,    0.011011,    0.012012,    0.013013,    0.014014,    0.015015,    0.016016,    0.017017,    0.018018,    0.019019,     0.02002,    0.021021,    0.022022,    0.023023,\n",
            "          0.024024,    0.025025,    0.026026,    0.027027,    0.028028,    0.029029,     0.03003,    0.031031,    0.032032,    0.033033,    0.034034,    0.035035,    0.036036,    0.037037,    0.038038,    0.039039,     0.04004,    0.041041,    0.042042,    0.043043,    0.044044,    0.045045,    0.046046,    0.047047,\n",
            "          0.048048,    0.049049,     0.05005,    0.051051,    0.052052,    0.053053,    0.054054,    0.055055,    0.056056,    0.057057,    0.058058,    0.059059,     0.06006,    0.061061,    0.062062,    0.063063,    0.064064,    0.065065,    0.066066,    0.067067,    0.068068,    0.069069,     0.07007,    0.071071,\n",
            "          0.072072,    0.073073,    0.074074,    0.075075,    0.076076,    0.077077,    0.078078,    0.079079,     0.08008,    0.081081,    0.082082,    0.083083,    0.084084,    0.085085,    0.086086,    0.087087,    0.088088,    0.089089,     0.09009,    0.091091,    0.092092,    0.093093,    0.094094,    0.095095,\n",
            "          0.096096,    0.097097,    0.098098,    0.099099,      0.1001,      0.1011,      0.1021,      0.1031,      0.1041,     0.10511,     0.10611,     0.10711,     0.10811,     0.10911,     0.11011,     0.11111,     0.11211,     0.11311,     0.11411,     0.11512,     0.11612,     0.11712,     0.11812,     0.11912,\n",
            "           0.12012,     0.12112,     0.12212,     0.12312,     0.12412,     0.12513,     0.12613,     0.12713,     0.12813,     0.12913,     0.13013,     0.13113,     0.13213,     0.13313,     0.13413,     0.13514,     0.13614,     0.13714,     0.13814,     0.13914,     0.14014,     0.14114,     0.14214,     0.14314,\n",
            "           0.14414,     0.14515,     0.14615,     0.14715,     0.14815,     0.14915,     0.15015,     0.15115,     0.15215,     0.15315,     0.15415,     0.15516,     0.15616,     0.15716,     0.15816,     0.15916,     0.16016,     0.16116,     0.16216,     0.16316,     0.16416,     0.16517,     0.16617,     0.16717,\n",
            "           0.16817,     0.16917,     0.17017,     0.17117,     0.17217,     0.17317,     0.17417,     0.17518,     0.17618,     0.17718,     0.17818,     0.17918,     0.18018,     0.18118,     0.18218,     0.18318,     0.18418,     0.18519,     0.18619,     0.18719,     0.18819,     0.18919,     0.19019,     0.19119,\n",
            "           0.19219,     0.19319,     0.19419,      0.1952,      0.1962,      0.1972,      0.1982,      0.1992,      0.2002,      0.2012,      0.2022,      0.2032,      0.2042,     0.20521,     0.20621,     0.20721,     0.20821,     0.20921,     0.21021,     0.21121,     0.21221,     0.21321,     0.21421,     0.21522,\n",
            "           0.21622,     0.21722,     0.21822,     0.21922,     0.22022,     0.22122,     0.22222,     0.22322,     0.22422,     0.22523,     0.22623,     0.22723,     0.22823,     0.22923,     0.23023,     0.23123,     0.23223,     0.23323,     0.23423,     0.23524,     0.23624,     0.23724,     0.23824,     0.23924,\n",
            "           0.24024,     0.24124,     0.24224,     0.24324,     0.24424,     0.24525,     0.24625,     0.24725,     0.24825,     0.24925,     0.25025,     0.25125,     0.25225,     0.25325,     0.25425,     0.25526,     0.25626,     0.25726,     0.25826,     0.25926,     0.26026,     0.26126,     0.26226,     0.26326,\n",
            "           0.26426,     0.26527,     0.26627,     0.26727,     0.26827,     0.26927,     0.27027,     0.27127,     0.27227,     0.27327,     0.27427,     0.27528,     0.27628,     0.27728,     0.27828,     0.27928,     0.28028,     0.28128,     0.28228,     0.28328,     0.28428,     0.28529,     0.28629,     0.28729,\n",
            "           0.28829,     0.28929,     0.29029,     0.29129,     0.29229,     0.29329,     0.29429,      0.2953,      0.2963,      0.2973,      0.2983,      0.2993,      0.3003,      0.3013,      0.3023,      0.3033,      0.3043,     0.30531,     0.30631,     0.30731,     0.30831,     0.30931,     0.31031,     0.31131,\n",
            "           0.31231,     0.31331,     0.31431,     0.31532,     0.31632,     0.31732,     0.31832,     0.31932,     0.32032,     0.32132,     0.32232,     0.32332,     0.32432,     0.32533,     0.32633,     0.32733,     0.32833,     0.32933,     0.33033,     0.33133,     0.33233,     0.33333,     0.33433,     0.33534,\n",
            "           0.33634,     0.33734,     0.33834,     0.33934,     0.34034,     0.34134,     0.34234,     0.34334,     0.34434,     0.34535,     0.34635,     0.34735,     0.34835,     0.34935,     0.35035,     0.35135,     0.35235,     0.35335,     0.35435,     0.35536,     0.35636,     0.35736,     0.35836,     0.35936,\n",
            "           0.36036,     0.36136,     0.36236,     0.36336,     0.36436,     0.36537,     0.36637,     0.36737,     0.36837,     0.36937,     0.37037,     0.37137,     0.37237,     0.37337,     0.37437,     0.37538,     0.37638,     0.37738,     0.37838,     0.37938,     0.38038,     0.38138,     0.38238,     0.38338,\n",
            "           0.38438,     0.38539,     0.38639,     0.38739,     0.38839,     0.38939,     0.39039,     0.39139,     0.39239,     0.39339,     0.39439,      0.3954,      0.3964,      0.3974,      0.3984,      0.3994,      0.4004,      0.4014,      0.4024,      0.4034,      0.4044,     0.40541,     0.40641,     0.40741,\n",
            "           0.40841,     0.40941,     0.41041,     0.41141,     0.41241,     0.41341,     0.41441,     0.41542,     0.41642,     0.41742,     0.41842,     0.41942,     0.42042,     0.42142,     0.42242,     0.42342,     0.42442,     0.42543,     0.42643,     0.42743,     0.42843,     0.42943,     0.43043,     0.43143,\n",
            "           0.43243,     0.43343,     0.43443,     0.43544,     0.43644,     0.43744,     0.43844,     0.43944,     0.44044,     0.44144,     0.44244,     0.44344,     0.44444,     0.44545,     0.44645,     0.44745,     0.44845,     0.44945,     0.45045,     0.45145,     0.45245,     0.45345,     0.45445,     0.45546,\n",
            "           0.45646,     0.45746,     0.45846,     0.45946,     0.46046,     0.46146,     0.46246,     0.46346,     0.46446,     0.46547,     0.46647,     0.46747,     0.46847,     0.46947,     0.47047,     0.47147,     0.47247,     0.47347,     0.47447,     0.47548,     0.47648,     0.47748,     0.47848,     0.47948,\n",
            "           0.48048,     0.48148,     0.48248,     0.48348,     0.48448,     0.48549,     0.48649,     0.48749,     0.48849,     0.48949,     0.49049,     0.49149,     0.49249,     0.49349,     0.49449,      0.4955,      0.4965,      0.4975,      0.4985,      0.4995,      0.5005,      0.5015,      0.5025,      0.5035,\n",
            "            0.5045,     0.50551,     0.50651,     0.50751,     0.50851,     0.50951,     0.51051,     0.51151,     0.51251,     0.51351,     0.51451,     0.51552,     0.51652,     0.51752,     0.51852,     0.51952,     0.52052,     0.52152,     0.52252,     0.52352,     0.52452,     0.52553,     0.52653,     0.52753,\n",
            "           0.52853,     0.52953,     0.53053,     0.53153,     0.53253,     0.53353,     0.53453,     0.53554,     0.53654,     0.53754,     0.53854,     0.53954,     0.54054,     0.54154,     0.54254,     0.54354,     0.54454,     0.54555,     0.54655,     0.54755,     0.54855,     0.54955,     0.55055,     0.55155,\n",
            "           0.55255,     0.55355,     0.55455,     0.55556,     0.55656,     0.55756,     0.55856,     0.55956,     0.56056,     0.56156,     0.56256,     0.56356,     0.56456,     0.56557,     0.56657,     0.56757,     0.56857,     0.56957,     0.57057,     0.57157,     0.57257,     0.57357,     0.57457,     0.57558,\n",
            "           0.57658,     0.57758,     0.57858,     0.57958,     0.58058,     0.58158,     0.58258,     0.58358,     0.58458,     0.58559,     0.58659,     0.58759,     0.58859,     0.58959,     0.59059,     0.59159,     0.59259,     0.59359,     0.59459,      0.5956,      0.5966,      0.5976,      0.5986,      0.5996,\n",
            "            0.6006,      0.6016,      0.6026,      0.6036,      0.6046,     0.60561,     0.60661,     0.60761,     0.60861,     0.60961,     0.61061,     0.61161,     0.61261,     0.61361,     0.61461,     0.61562,     0.61662,     0.61762,     0.61862,     0.61962,     0.62062,     0.62162,     0.62262,     0.62362,\n",
            "           0.62462,     0.62563,     0.62663,     0.62763,     0.62863,     0.62963,     0.63063,     0.63163,     0.63263,     0.63363,     0.63463,     0.63564,     0.63664,     0.63764,     0.63864,     0.63964,     0.64064,     0.64164,     0.64264,     0.64364,     0.64464,     0.64565,     0.64665,     0.64765,\n",
            "           0.64865,     0.64965,     0.65065,     0.65165,     0.65265,     0.65365,     0.65465,     0.65566,     0.65666,     0.65766,     0.65866,     0.65966,     0.66066,     0.66166,     0.66266,     0.66366,     0.66466,     0.66567,     0.66667,     0.66767,     0.66867,     0.66967,     0.67067,     0.67167,\n",
            "           0.67267,     0.67367,     0.67467,     0.67568,     0.67668,     0.67768,     0.67868,     0.67968,     0.68068,     0.68168,     0.68268,     0.68368,     0.68468,     0.68569,     0.68669,     0.68769,     0.68869,     0.68969,     0.69069,     0.69169,     0.69269,     0.69369,     0.69469,      0.6957,\n",
            "            0.6967,      0.6977,      0.6987,      0.6997,      0.7007,      0.7017,      0.7027,      0.7037,      0.7047,     0.70571,     0.70671,     0.70771,     0.70871,     0.70971,     0.71071,     0.71171,     0.71271,     0.71371,     0.71471,     0.71572,     0.71672,     0.71772,     0.71872,     0.71972,\n",
            "           0.72072,     0.72172,     0.72272,     0.72372,     0.72472,     0.72573,     0.72673,     0.72773,     0.72873,     0.72973,     0.73073,     0.73173,     0.73273,     0.73373,     0.73473,     0.73574,     0.73674,     0.73774,     0.73874,     0.73974,     0.74074,     0.74174,     0.74274,     0.74374,\n",
            "           0.74474,     0.74575,     0.74675,     0.74775,     0.74875,     0.74975,     0.75075,     0.75175,     0.75275,     0.75375,     0.75475,     0.75576,     0.75676,     0.75776,     0.75876,     0.75976,     0.76076,     0.76176,     0.76276,     0.76376,     0.76476,     0.76577,     0.76677,     0.76777,\n",
            "           0.76877,     0.76977,     0.77077,     0.77177,     0.77277,     0.77377,     0.77477,     0.77578,     0.77678,     0.77778,     0.77878,     0.77978,     0.78078,     0.78178,     0.78278,     0.78378,     0.78478,     0.78579,     0.78679,     0.78779,     0.78879,     0.78979,     0.79079,     0.79179,\n",
            "           0.79279,     0.79379,     0.79479,      0.7958,      0.7968,      0.7978,      0.7988,      0.7998,      0.8008,      0.8018,      0.8028,      0.8038,      0.8048,     0.80581,     0.80681,     0.80781,     0.80881,     0.80981,     0.81081,     0.81181,     0.81281,     0.81381,     0.81481,     0.81582,\n",
            "           0.81682,     0.81782,     0.81882,     0.81982,     0.82082,     0.82182,     0.82282,     0.82382,     0.82482,     0.82583,     0.82683,     0.82783,     0.82883,     0.82983,     0.83083,     0.83183,     0.83283,     0.83383,     0.83483,     0.83584,     0.83684,     0.83784,     0.83884,     0.83984,\n",
            "           0.84084,     0.84184,     0.84284,     0.84384,     0.84484,     0.84585,     0.84685,     0.84785,     0.84885,     0.84985,     0.85085,     0.85185,     0.85285,     0.85385,     0.85485,     0.85586,     0.85686,     0.85786,     0.85886,     0.85986,     0.86086,     0.86186,     0.86286,     0.86386,\n",
            "           0.86486,     0.86587,     0.86687,     0.86787,     0.86887,     0.86987,     0.87087,     0.87187,     0.87287,     0.87387,     0.87487,     0.87588,     0.87688,     0.87788,     0.87888,     0.87988,     0.88088,     0.88188,     0.88288,     0.88388,     0.88488,     0.88589,     0.88689,     0.88789,\n",
            "           0.88889,     0.88989,     0.89089,     0.89189,     0.89289,     0.89389,     0.89489,      0.8959,      0.8969,      0.8979,      0.8989,      0.8999,      0.9009,      0.9019,      0.9029,      0.9039,      0.9049,     0.90591,     0.90691,     0.90791,     0.90891,     0.90991,     0.91091,     0.91191,\n",
            "           0.91291,     0.91391,     0.91491,     0.91592,     0.91692,     0.91792,     0.91892,     0.91992,     0.92092,     0.92192,     0.92292,     0.92392,     0.92492,     0.92593,     0.92693,     0.92793,     0.92893,     0.92993,     0.93093,     0.93193,     0.93293,     0.93393,     0.93493,     0.93594,\n",
            "           0.93694,     0.93794,     0.93894,     0.93994,     0.94094,     0.94194,     0.94294,     0.94394,     0.94494,     0.94595,     0.94695,     0.94795,     0.94895,     0.94995,     0.95095,     0.95195,     0.95295,     0.95395,     0.95495,     0.95596,     0.95696,     0.95796,     0.95896,     0.95996,\n",
            "           0.96096,     0.96196,     0.96296,     0.96396,     0.96496,     0.96597,     0.96697,     0.96797,     0.96897,     0.96997,     0.97097,     0.97197,     0.97297,     0.97397,     0.97497,     0.97598,     0.97698,     0.97798,     0.97898,     0.97998,     0.98098,     0.98198,     0.98298,     0.98398,\n",
            "           0.98498,     0.98599,     0.98699,     0.98799,     0.98899,     0.98999,     0.99099,     0.99199,     0.99299,     0.99399,     0.99499,       0.996,       0.997,       0.998,       0.999,           1]), array([[          1,           1,           1,           1,           1,           1,           1,           1,           1,           1,           1,           1,           1,           1,           1,           1,           1,           1,           1,           1,           1,           1,           1,\n",
            "                  1,           1,           1,           1,           1,           1,           1,           1,           1,           1,           1,           1,           1,           1,           1,           1,           1,           1,           1,           1,           1,           1,           1,\n",
            "                  1,           1,           1,           1,           1,           1,           1,           1,           1,           1,           1,           1,           1,           1,           1,           1,           1,           1,           1,           1,           1,           1,           1,\n",
            "                  1,           1,           1,           1,           1,           1,           1,           1,           1,           1,           1,           1,           1,           1,           1,           1,           1,           1,           1,           1,           1,           1,           1,\n",
            "                  1,           1,           1,           1,           1,           1,           1,           1,           1,           1,           1,           1,           1,           1,           1,           1,           1,           1,           1,           1,           1,           1,           1,\n",
            "                  1,           1,           1,           1,           1,           1,           1,           1,           1,           1,           1,           1,           1,           1,           1,           1,           1,           1,           1,           1,           1,           1,           1,\n",
            "                  1,           1,           1,           1,           1,           1,           1,           1,           1,           1,           1,           1,           1,           1,           1,           1,           1,           1,           1,           1,           1,           1,           1,\n",
            "                  1,           1,           1,           1,           1,           1,           1,           1,           1,           1,           1,           1,           1,           1,           1,           1,           1,           1,           1,           1,           1,           1,           1,\n",
            "                  1,           1,           1,           1,           1,           1,           1,           1,           1,           1,           1,           1,           1,           1,           1,           1,           1,           1,           1,           1,           1,           1,           1,\n",
            "                  1,           1,           1,           1,           1,           1,           1,           1,           1,           1,           1,           1,           1,           1,           1,           1,           1,           1,           1,           1,           1,           1,           1,\n",
            "                  1,           1,           1,           1,           1,           1,           1,           1,           1,           1,           1,           1,           1,           1,           1,           1,           1,           1,           1,           1,           1,           1,           1,\n",
            "                  1,           1,           1,           1,           1,           1,           1,           1,           1,           1,           1,           1,           1,           1,           1,           1,           1,           1,           1,           1,           1,           1,           1,\n",
            "                  1,           1,           1,           1,           1,           1,           1,           1,           1,           1,           1,           1,           1,           1,           1,           1,           1,           1,           1,           1,           1,           1,           1,\n",
            "                  1,           1,           1,           1,           1,           1,           1,           1,           1,           1,           1,           1,           1,           1,           1,           1,           1,           1,           1,           1,           1,           1,           1,\n",
            "                  1,           1,           1,           1,           1,           1,           1,           1,           1,           1,           1,           1,           1,           1,           1,           1,           1,           1,           1,           1,           1,           1,           1,\n",
            "                  1,           1,           1,           1,           1,           1,           1,           1,           1,           1,           1,           1,           1,           1,           1,           1,           1,           1,           1,           1,           1,           1,           1,\n",
            "                  1,           1,           1,           1,           1,           1,           1,           1,           1,           1,           1,           1,           1,           1,           1,           1,           1,           1,           1,           1,           1,           1,           1,\n",
            "                  1,           1,           1,           1,           1,           1,           1,           1,           1,           1,           1,           1,           1,           1,           1,           1,           1,           1,           1,           1,           1,           1,           1,\n",
            "                  1,           1,           1,           1,           1,           1,           1,           1,           1,           1,           1,           1,           1,           1,           1,           1,           1,           1,           1,           1,           1,           1,           1,\n",
            "                  1,           1,           1,           1,           1,           1,           1,           1,           1,           1,           1,           1,           1,           1,           1,           1,           1,           1,           1,           1,           1,           1,           1,\n",
            "                  1,           1,           1,           1,           1,           1,           1,           1,           1,           1,           1,           1,           1,           1,           1,           1,           1,           1,           1,           1,           1,           1,           1,\n",
            "                  1,           1,           1,           1,           1,           1,           1,           1,           1,           1,           1,           1,           1,           1,           1,           1,           1,           1,           1,           1,           1,           1,           1,\n",
            "                  1,           1,           1,           1,           1,           1,           1,           1,           1,           1,           1,           1,           1,           1,           1,           1,           1,           1,           1,           1,           1,           1,           1,\n",
            "                  1,           1,     0.99065,     0.99065,     0.99065,     0.99065,     0.99065,     0.99065,     0.99065,     0.99065,     0.99065,     0.99065,     0.99065,     0.99065,     0.99065,     0.99065,     0.99065,     0.99065,     0.99065,     0.99065,     0.99065,     0.99065,     0.99065,\n",
            "            0.99065,     0.99065,     0.99065,     0.99065,     0.99065,     0.99065,     0.99065,     0.99065,     0.99065,     0.99065,     0.99065,     0.99065,     0.99065,     0.99065,     0.99065,     0.99065,     0.99065,     0.99065,     0.99065,     0.99065,     0.99065,     0.99065,     0.99065,\n",
            "            0.99065,     0.99065,     0.99065,     0.99065,     0.99065,     0.99065,     0.99065,     0.99065,     0.99065,     0.99065,     0.99065,     0.99065,     0.99065,     0.99065,     0.99065,     0.99065,     0.99065,     0.99065,     0.99065,     0.99065,     0.99065,     0.99065,     0.99065,\n",
            "            0.99065,     0.99065,     0.99065,     0.99065,     0.99065,     0.99065,     0.99065,     0.99065,     0.99065,     0.99065,     0.99065,     0.99065,     0.99065,     0.99065,     0.99065,     0.99065,     0.99065,     0.99065,     0.99065,     0.99065,     0.99065,     0.99065,     0.99065,\n",
            "            0.99065,     0.99065,     0.99065,     0.99065,     0.99065,     0.99065,     0.99065,     0.99065,     0.99065,     0.99065,     0.99065,     0.99065,     0.99065,     0.99065,     0.99065,     0.99065,     0.99065,     0.99065,     0.99065,     0.99065,     0.99065,     0.99065,     0.99065,\n",
            "            0.99065,     0.99065,     0.99065,     0.99065,     0.99065,     0.99065,     0.99065,     0.99065,     0.99065,     0.99065,     0.99065,     0.99065,     0.99065,     0.99065,     0.99065,     0.99065,     0.99065,     0.99065,     0.99065,     0.99065,     0.99065,     0.99065,     0.99065,\n",
            "            0.99065,     0.99065,     0.99065,     0.99065,     0.99065,     0.99065,     0.99065,     0.99065,     0.99065,     0.99065,     0.99065,     0.99065,     0.99065,     0.99065,     0.99065,     0.99065,     0.99065,     0.99065,     0.99065,     0.99065,     0.99065,     0.99065,     0.99065,\n",
            "            0.99065,     0.99065,     0.99065,     0.99065,     0.99065,     0.99065,     0.99065,     0.99065,     0.99065,     0.99065,     0.99065,     0.99065,     0.99065,     0.99065,     0.99065,     0.99065,     0.99065,     0.99065,     0.99065,     0.99065,     0.99065,     0.99065,     0.99065,\n",
            "            0.99065,     0.99065,     0.99065,     0.99065,     0.99065,     0.99065,     0.99065,     0.99065,     0.98214,     0.98214,     0.98214,     0.98214,     0.98214,     0.98214,     0.98214,     0.98214,     0.98214,     0.98214,     0.98214,     0.98214,     0.98214,     0.98214,     0.98214,\n",
            "            0.98214,     0.98214,     0.98214,     0.98214,     0.98214,     0.98214,     0.98214,     0.98214,     0.98214,     0.98214,     0.98214,     0.98214,     0.96552,     0.96552,     0.96552,     0.96552,     0.96552,     0.96552,     0.96552,     0.96552,     0.96552,     0.96552,     0.96552,\n",
            "            0.96552,     0.96552,     0.96552,     0.95763,     0.95763,     0.95763,     0.95763,     0.95763,     0.95763,     0.95041,     0.95041,     0.95041,     0.95041,     0.95041,     0.95041,     0.95041,     0.95041,     0.95041,     0.95041,     0.95041,     0.95041,     0.95041,     0.95041,\n",
            "            0.94309,     0.94309,     0.94309,     0.94309,     0.94309,     0.94309,     0.94309,       0.936,       0.936,       0.936,       0.936,       0.936,       0.936,       0.936,     0.93182,     0.93182,     0.93182,     0.93182,     0.93182,     0.93182,     0.93182,     0.93182,     0.93182,\n",
            "            0.93182,     0.93182,     0.93182,     0.93182,     0.93182,     0.93182,     0.93182,     0.93182,     0.93182,     0.93182,     0.93182,     0.93182,     0.93182,     0.93182,     0.93182,     0.93182,     0.93182,     0.93182,     0.93182,     0.93182,     0.93182,     0.93182,     0.93182,\n",
            "            0.93182,     0.93182,     0.93182,     0.93182,     0.93182,     0.93182,     0.93182,     0.93182,     0.92537,     0.92537,     0.92537,     0.92537,     0.92537,     0.92537,     0.92537,     0.91724,     0.91724,     0.91724,     0.91724,     0.91724,     0.91724,     0.91724,     0.91724,\n",
            "            0.91724,     0.91724,     0.91724,     0.91724,     0.91724,     0.91724,     0.91724,     0.91724,     0.91724,     0.91724,     0.91724,     0.91724,     0.91724,     0.91724,     0.91724,     0.91724,     0.91724,     0.91724,     0.91724,     0.91724,     0.91724,     0.91724,     0.91724,\n",
            "            0.91724,     0.91724,     0.91724,     0.91724,     0.91724,     0.91724,     0.91724,     0.91724,     0.91724,     0.91724,     0.91724,     0.91724,     0.91724,     0.91724,     0.91724,     0.91724,     0.91724,     0.91724,     0.91724,     0.91724,     0.91724,     0.91724,     0.91724,\n",
            "            0.91724,     0.91724,     0.91724,     0.91724,     0.91724,     0.91724,     0.91724,     0.91156,     0.91156,     0.91156,     0.91156,     0.91156,     0.91156,     0.91156,     0.90604,     0.90604,     0.90604,     0.90604,     0.90604,     0.90604,     0.90604,     0.86624,     0.86624,\n",
            "            0.86624,     0.86624,     0.86624,     0.86624,     0.86624,     0.86164,     0.86164,     0.86164,     0.86164,     0.86164,     0.86164,     0.86164,     0.85185,     0.85185,     0.85185,     0.85185,     0.85185,     0.85185,     0.84756,     0.84756,     0.84756,     0.84756,     0.84756,\n",
            "            0.84756,     0.84756,     0.83832,     0.83832,     0.83832,     0.83832,     0.83832,     0.83832,     0.83832,     0.71717,     0.71717,     0.71717,     0.71717,     0.71717,     0.71717,     0.71717,     0.71717,     0.71717,     0.71717,     0.71717,     0.71717,     0.71717,     0.71717,\n",
            "             0.6875,      0.6875,      0.6875,      0.6875,      0.6875,      0.6875,     0.67925,     0.67925,     0.67925,     0.67925,     0.67925,     0.67925,     0.67925,     0.56202,     0.56202,     0.56202,     0.56202,     0.56202,     0.56202,     0.56202,     0.48505,     0.48505,     0.48505,\n",
            "            0.48505,     0.48505,     0.48505,     0.48505,     0.45511,     0.45511,     0.45511,     0.45511,     0.45511,     0.45511,           0]]), 'Recall', 'Precision'], [array([          0,    0.001001,    0.002002,    0.003003,    0.004004,    0.005005,    0.006006,    0.007007,    0.008008,    0.009009,     0.01001,    0.011011,    0.012012,    0.013013,    0.014014,    0.015015,    0.016016,    0.017017,    0.018018,    0.019019,     0.02002,    0.021021,    0.022022,    0.023023,\n",
            "          0.024024,    0.025025,    0.026026,    0.027027,    0.028028,    0.029029,     0.03003,    0.031031,    0.032032,    0.033033,    0.034034,    0.035035,    0.036036,    0.037037,    0.038038,    0.039039,     0.04004,    0.041041,    0.042042,    0.043043,    0.044044,    0.045045,    0.046046,    0.047047,\n",
            "          0.048048,    0.049049,     0.05005,    0.051051,    0.052052,    0.053053,    0.054054,    0.055055,    0.056056,    0.057057,    0.058058,    0.059059,     0.06006,    0.061061,    0.062062,    0.063063,    0.064064,    0.065065,    0.066066,    0.067067,    0.068068,    0.069069,     0.07007,    0.071071,\n",
            "          0.072072,    0.073073,    0.074074,    0.075075,    0.076076,    0.077077,    0.078078,    0.079079,     0.08008,    0.081081,    0.082082,    0.083083,    0.084084,    0.085085,    0.086086,    0.087087,    0.088088,    0.089089,     0.09009,    0.091091,    0.092092,    0.093093,    0.094094,    0.095095,\n",
            "          0.096096,    0.097097,    0.098098,    0.099099,      0.1001,      0.1011,      0.1021,      0.1031,      0.1041,     0.10511,     0.10611,     0.10711,     0.10811,     0.10911,     0.11011,     0.11111,     0.11211,     0.11311,     0.11411,     0.11512,     0.11612,     0.11712,     0.11812,     0.11912,\n",
            "           0.12012,     0.12112,     0.12212,     0.12312,     0.12412,     0.12513,     0.12613,     0.12713,     0.12813,     0.12913,     0.13013,     0.13113,     0.13213,     0.13313,     0.13413,     0.13514,     0.13614,     0.13714,     0.13814,     0.13914,     0.14014,     0.14114,     0.14214,     0.14314,\n",
            "           0.14414,     0.14515,     0.14615,     0.14715,     0.14815,     0.14915,     0.15015,     0.15115,     0.15215,     0.15315,     0.15415,     0.15516,     0.15616,     0.15716,     0.15816,     0.15916,     0.16016,     0.16116,     0.16216,     0.16316,     0.16416,     0.16517,     0.16617,     0.16717,\n",
            "           0.16817,     0.16917,     0.17017,     0.17117,     0.17217,     0.17317,     0.17417,     0.17518,     0.17618,     0.17718,     0.17818,     0.17918,     0.18018,     0.18118,     0.18218,     0.18318,     0.18418,     0.18519,     0.18619,     0.18719,     0.18819,     0.18919,     0.19019,     0.19119,\n",
            "           0.19219,     0.19319,     0.19419,      0.1952,      0.1962,      0.1972,      0.1982,      0.1992,      0.2002,      0.2012,      0.2022,      0.2032,      0.2042,     0.20521,     0.20621,     0.20721,     0.20821,     0.20921,     0.21021,     0.21121,     0.21221,     0.21321,     0.21421,     0.21522,\n",
            "           0.21622,     0.21722,     0.21822,     0.21922,     0.22022,     0.22122,     0.22222,     0.22322,     0.22422,     0.22523,     0.22623,     0.22723,     0.22823,     0.22923,     0.23023,     0.23123,     0.23223,     0.23323,     0.23423,     0.23524,     0.23624,     0.23724,     0.23824,     0.23924,\n",
            "           0.24024,     0.24124,     0.24224,     0.24324,     0.24424,     0.24525,     0.24625,     0.24725,     0.24825,     0.24925,     0.25025,     0.25125,     0.25225,     0.25325,     0.25425,     0.25526,     0.25626,     0.25726,     0.25826,     0.25926,     0.26026,     0.26126,     0.26226,     0.26326,\n",
            "           0.26426,     0.26527,     0.26627,     0.26727,     0.26827,     0.26927,     0.27027,     0.27127,     0.27227,     0.27327,     0.27427,     0.27528,     0.27628,     0.27728,     0.27828,     0.27928,     0.28028,     0.28128,     0.28228,     0.28328,     0.28428,     0.28529,     0.28629,     0.28729,\n",
            "           0.28829,     0.28929,     0.29029,     0.29129,     0.29229,     0.29329,     0.29429,      0.2953,      0.2963,      0.2973,      0.2983,      0.2993,      0.3003,      0.3013,      0.3023,      0.3033,      0.3043,     0.30531,     0.30631,     0.30731,     0.30831,     0.30931,     0.31031,     0.31131,\n",
            "           0.31231,     0.31331,     0.31431,     0.31532,     0.31632,     0.31732,     0.31832,     0.31932,     0.32032,     0.32132,     0.32232,     0.32332,     0.32432,     0.32533,     0.32633,     0.32733,     0.32833,     0.32933,     0.33033,     0.33133,     0.33233,     0.33333,     0.33433,     0.33534,\n",
            "           0.33634,     0.33734,     0.33834,     0.33934,     0.34034,     0.34134,     0.34234,     0.34334,     0.34434,     0.34535,     0.34635,     0.34735,     0.34835,     0.34935,     0.35035,     0.35135,     0.35235,     0.35335,     0.35435,     0.35536,     0.35636,     0.35736,     0.35836,     0.35936,\n",
            "           0.36036,     0.36136,     0.36236,     0.36336,     0.36436,     0.36537,     0.36637,     0.36737,     0.36837,     0.36937,     0.37037,     0.37137,     0.37237,     0.37337,     0.37437,     0.37538,     0.37638,     0.37738,     0.37838,     0.37938,     0.38038,     0.38138,     0.38238,     0.38338,\n",
            "           0.38438,     0.38539,     0.38639,     0.38739,     0.38839,     0.38939,     0.39039,     0.39139,     0.39239,     0.39339,     0.39439,      0.3954,      0.3964,      0.3974,      0.3984,      0.3994,      0.4004,      0.4014,      0.4024,      0.4034,      0.4044,     0.40541,     0.40641,     0.40741,\n",
            "           0.40841,     0.40941,     0.41041,     0.41141,     0.41241,     0.41341,     0.41441,     0.41542,     0.41642,     0.41742,     0.41842,     0.41942,     0.42042,     0.42142,     0.42242,     0.42342,     0.42442,     0.42543,     0.42643,     0.42743,     0.42843,     0.42943,     0.43043,     0.43143,\n",
            "           0.43243,     0.43343,     0.43443,     0.43544,     0.43644,     0.43744,     0.43844,     0.43944,     0.44044,     0.44144,     0.44244,     0.44344,     0.44444,     0.44545,     0.44645,     0.44745,     0.44845,     0.44945,     0.45045,     0.45145,     0.45245,     0.45345,     0.45445,     0.45546,\n",
            "           0.45646,     0.45746,     0.45846,     0.45946,     0.46046,     0.46146,     0.46246,     0.46346,     0.46446,     0.46547,     0.46647,     0.46747,     0.46847,     0.46947,     0.47047,     0.47147,     0.47247,     0.47347,     0.47447,     0.47548,     0.47648,     0.47748,     0.47848,     0.47948,\n",
            "           0.48048,     0.48148,     0.48248,     0.48348,     0.48448,     0.48549,     0.48649,     0.48749,     0.48849,     0.48949,     0.49049,     0.49149,     0.49249,     0.49349,     0.49449,      0.4955,      0.4965,      0.4975,      0.4985,      0.4995,      0.5005,      0.5015,      0.5025,      0.5035,\n",
            "            0.5045,     0.50551,     0.50651,     0.50751,     0.50851,     0.50951,     0.51051,     0.51151,     0.51251,     0.51351,     0.51451,     0.51552,     0.51652,     0.51752,     0.51852,     0.51952,     0.52052,     0.52152,     0.52252,     0.52352,     0.52452,     0.52553,     0.52653,     0.52753,\n",
            "           0.52853,     0.52953,     0.53053,     0.53153,     0.53253,     0.53353,     0.53453,     0.53554,     0.53654,     0.53754,     0.53854,     0.53954,     0.54054,     0.54154,     0.54254,     0.54354,     0.54454,     0.54555,     0.54655,     0.54755,     0.54855,     0.54955,     0.55055,     0.55155,\n",
            "           0.55255,     0.55355,     0.55455,     0.55556,     0.55656,     0.55756,     0.55856,     0.55956,     0.56056,     0.56156,     0.56256,     0.56356,     0.56456,     0.56557,     0.56657,     0.56757,     0.56857,     0.56957,     0.57057,     0.57157,     0.57257,     0.57357,     0.57457,     0.57558,\n",
            "           0.57658,     0.57758,     0.57858,     0.57958,     0.58058,     0.58158,     0.58258,     0.58358,     0.58458,     0.58559,     0.58659,     0.58759,     0.58859,     0.58959,     0.59059,     0.59159,     0.59259,     0.59359,     0.59459,      0.5956,      0.5966,      0.5976,      0.5986,      0.5996,\n",
            "            0.6006,      0.6016,      0.6026,      0.6036,      0.6046,     0.60561,     0.60661,     0.60761,     0.60861,     0.60961,     0.61061,     0.61161,     0.61261,     0.61361,     0.61461,     0.61562,     0.61662,     0.61762,     0.61862,     0.61962,     0.62062,     0.62162,     0.62262,     0.62362,\n",
            "           0.62462,     0.62563,     0.62663,     0.62763,     0.62863,     0.62963,     0.63063,     0.63163,     0.63263,     0.63363,     0.63463,     0.63564,     0.63664,     0.63764,     0.63864,     0.63964,     0.64064,     0.64164,     0.64264,     0.64364,     0.64464,     0.64565,     0.64665,     0.64765,\n",
            "           0.64865,     0.64965,     0.65065,     0.65165,     0.65265,     0.65365,     0.65465,     0.65566,     0.65666,     0.65766,     0.65866,     0.65966,     0.66066,     0.66166,     0.66266,     0.66366,     0.66466,     0.66567,     0.66667,     0.66767,     0.66867,     0.66967,     0.67067,     0.67167,\n",
            "           0.67267,     0.67367,     0.67467,     0.67568,     0.67668,     0.67768,     0.67868,     0.67968,     0.68068,     0.68168,     0.68268,     0.68368,     0.68468,     0.68569,     0.68669,     0.68769,     0.68869,     0.68969,     0.69069,     0.69169,     0.69269,     0.69369,     0.69469,      0.6957,\n",
            "            0.6967,      0.6977,      0.6987,      0.6997,      0.7007,      0.7017,      0.7027,      0.7037,      0.7047,     0.70571,     0.70671,     0.70771,     0.70871,     0.70971,     0.71071,     0.71171,     0.71271,     0.71371,     0.71471,     0.71572,     0.71672,     0.71772,     0.71872,     0.71972,\n",
            "           0.72072,     0.72172,     0.72272,     0.72372,     0.72472,     0.72573,     0.72673,     0.72773,     0.72873,     0.72973,     0.73073,     0.73173,     0.73273,     0.73373,     0.73473,     0.73574,     0.73674,     0.73774,     0.73874,     0.73974,     0.74074,     0.74174,     0.74274,     0.74374,\n",
            "           0.74474,     0.74575,     0.74675,     0.74775,     0.74875,     0.74975,     0.75075,     0.75175,     0.75275,     0.75375,     0.75475,     0.75576,     0.75676,     0.75776,     0.75876,     0.75976,     0.76076,     0.76176,     0.76276,     0.76376,     0.76476,     0.76577,     0.76677,     0.76777,\n",
            "           0.76877,     0.76977,     0.77077,     0.77177,     0.77277,     0.77377,     0.77477,     0.77578,     0.77678,     0.77778,     0.77878,     0.77978,     0.78078,     0.78178,     0.78278,     0.78378,     0.78478,     0.78579,     0.78679,     0.78779,     0.78879,     0.78979,     0.79079,     0.79179,\n",
            "           0.79279,     0.79379,     0.79479,      0.7958,      0.7968,      0.7978,      0.7988,      0.7998,      0.8008,      0.8018,      0.8028,      0.8038,      0.8048,     0.80581,     0.80681,     0.80781,     0.80881,     0.80981,     0.81081,     0.81181,     0.81281,     0.81381,     0.81481,     0.81582,\n",
            "           0.81682,     0.81782,     0.81882,     0.81982,     0.82082,     0.82182,     0.82282,     0.82382,     0.82482,     0.82583,     0.82683,     0.82783,     0.82883,     0.82983,     0.83083,     0.83183,     0.83283,     0.83383,     0.83483,     0.83584,     0.83684,     0.83784,     0.83884,     0.83984,\n",
            "           0.84084,     0.84184,     0.84284,     0.84384,     0.84484,     0.84585,     0.84685,     0.84785,     0.84885,     0.84985,     0.85085,     0.85185,     0.85285,     0.85385,     0.85485,     0.85586,     0.85686,     0.85786,     0.85886,     0.85986,     0.86086,     0.86186,     0.86286,     0.86386,\n",
            "           0.86486,     0.86587,     0.86687,     0.86787,     0.86887,     0.86987,     0.87087,     0.87187,     0.87287,     0.87387,     0.87487,     0.87588,     0.87688,     0.87788,     0.87888,     0.87988,     0.88088,     0.88188,     0.88288,     0.88388,     0.88488,     0.88589,     0.88689,     0.88789,\n",
            "           0.88889,     0.88989,     0.89089,     0.89189,     0.89289,     0.89389,     0.89489,      0.8959,      0.8969,      0.8979,      0.8989,      0.8999,      0.9009,      0.9019,      0.9029,      0.9039,      0.9049,     0.90591,     0.90691,     0.90791,     0.90891,     0.90991,     0.91091,     0.91191,\n",
            "           0.91291,     0.91391,     0.91491,     0.91592,     0.91692,     0.91792,     0.91892,     0.91992,     0.92092,     0.92192,     0.92292,     0.92392,     0.92492,     0.92593,     0.92693,     0.92793,     0.92893,     0.92993,     0.93093,     0.93193,     0.93293,     0.93393,     0.93493,     0.93594,\n",
            "           0.93694,     0.93794,     0.93894,     0.93994,     0.94094,     0.94194,     0.94294,     0.94394,     0.94494,     0.94595,     0.94695,     0.94795,     0.94895,     0.94995,     0.95095,     0.95195,     0.95295,     0.95395,     0.95495,     0.95596,     0.95696,     0.95796,     0.95896,     0.95996,\n",
            "           0.96096,     0.96196,     0.96296,     0.96396,     0.96496,     0.96597,     0.96697,     0.96797,     0.96897,     0.96997,     0.97097,     0.97197,     0.97297,     0.97397,     0.97497,     0.97598,     0.97698,     0.97798,     0.97898,     0.97998,     0.98098,     0.98198,     0.98298,     0.98398,\n",
            "           0.98498,     0.98599,     0.98699,     0.98799,     0.98899,     0.98999,     0.99099,     0.99199,     0.99299,     0.99399,     0.99499,       0.996,       0.997,       0.998,       0.999,           1]), array([[    0.33034,     0.33042,     0.42115,     0.48047,     0.51493,     0.53815,      0.5729,     0.59334,     0.60854,     0.61703,     0.62669,     0.63326,     0.64553,     0.65102,     0.65238,     0.65385,     0.65788,     0.66523,     0.66833,     0.67305,     0.67952,     0.68509,     0.69065,\n",
            "            0.69406,     0.70143,     0.70322,     0.70573,     0.70636,     0.70699,     0.70936,     0.71031,     0.71286,     0.71469,     0.71595,     0.71585,     0.71731,     0.72038,     0.72204,     0.72329,     0.72488,     0.72877,     0.73031,     0.73313,     0.73525,     0.73751,     0.74052,\n",
            "             0.7422,     0.74631,     0.75037,     0.75184,     0.75517,     0.75648,     0.75733,     0.75825,     0.75927,     0.76029,     0.76132,     0.76236,      0.7634,     0.76465,     0.76727,     0.76918,      0.7716,     0.77252,     0.77296,      0.7734,     0.77384,     0.77439,     0.77538,\n",
            "            0.77635,     0.77724,     0.77814,     0.77944,     0.78102,     0.78282,     0.78419,     0.78692,     0.78726,     0.78761,     0.78795,     0.78829,     0.78864,     0.78898,     0.78947,     0.78999,      0.7905,     0.79102,     0.79165,     0.79235,     0.79305,     0.79475,     0.79611,\n",
            "            0.79688,     0.79765,     0.80054,     0.80123,     0.80191,     0.80177,     0.80093,     0.80008,     0.79924,     0.80134,     0.80224,     0.80313,     0.80424,     0.80545,     0.80525,     0.80479,     0.80433,     0.80387,     0.80341,     0.80295,     0.80249,      0.8034,     0.80478,\n",
            "            0.80527,     0.80576,     0.80625,     0.80674,      0.8087,     0.80959,     0.81016,     0.81073,     0.81131,     0.81294,     0.81442,     0.81558,     0.81661,     0.81754,     0.81864,     0.82241,     0.82094,     0.81966,     0.81916,     0.81865,     0.81815,     0.81764,     0.81714,\n",
            "            0.81663,     0.81664,     0.81742,     0.81819,     0.82138,     0.82231,     0.82324,     0.82381,     0.82422,     0.82462,     0.82503,     0.82544,     0.82585,     0.82659,     0.82746,     0.82834,     0.82857,     0.82875,     0.82893,     0.82911,     0.82929,     0.82947,     0.82965,\n",
            "            0.82983,     0.83001,     0.83019,     0.83037,     0.83055,     0.83073,     0.83334,     0.83393,     0.83452,     0.83511,      0.8357,     0.83606,     0.83637,     0.83668,     0.83698,     0.83729,      0.8376,      0.8379,     0.83821,     0.83895,     0.83994,     0.84104,     0.84327,\n",
            "            0.84853,     0.84886,      0.8492,     0.84953,     0.84986,      0.8502,     0.85053,     0.85086,     0.85111,     0.85122,     0.85134,     0.85145,     0.85156,     0.85168,     0.85179,      0.8519,     0.85202,     0.85213,     0.85224,     0.85236,     0.85247,     0.85258,      0.8527,\n",
            "            0.85281,     0.85292,     0.85303,     0.85315,     0.85326,     0.85337,     0.85349,      0.8536,     0.85643,     0.85702,     0.85761,      0.8582,     0.85879,     0.86098,      0.8623,     0.86328,      0.8642,      0.8643,     0.86439,     0.86448,     0.86458,     0.86467,     0.86477,\n",
            "            0.86486,     0.86495,     0.86505,     0.86514,     0.86523,     0.86533,     0.86542,     0.86552,     0.86561,      0.8657,      0.8658,     0.86589,     0.86598,     0.86608,     0.86617,     0.86626,     0.86636,     0.86645,     0.86654,     0.86664,     0.86673,     0.86682,     0.86728,\n",
            "            0.86811,     0.86894,     0.86965,        0.87,     0.87035,      0.8707,     0.87105,     0.87139,     0.87174,     0.87209,     0.87249,     0.87294,      0.8734,     0.87386,     0.87431,     0.87477,     0.87518,     0.87555,     0.87592,     0.87629,     0.87666,     0.87703,      0.8774,\n",
            "            0.87778,     0.87829,      0.8788,     0.87931,     0.87982,     0.88033,     0.88254,     0.88341,     0.88358,     0.88375,     0.88392,     0.88409,     0.88426,     0.88444,     0.88461,     0.88478,     0.88495,     0.88512,     0.88529,     0.88546,     0.88563,      0.8858,     0.88597,\n",
            "            0.88647,     0.88752,     0.88856,     0.88979,     0.89111,     0.89128,     0.89046,     0.88963,      0.8888,     0.88869,     0.89075,     0.89174,     0.89258,     0.89341,     0.89348,     0.89251,     0.89152,     0.89054,     0.89059,     0.89092,     0.89126,      0.8916,     0.89194,\n",
            "            0.89227,     0.89261,     0.89295,     0.89174,     0.88988,     0.89028,     0.89067,     0.89107,     0.89147,     0.89187,     0.89227,     0.89258,     0.89275,     0.89293,     0.89311,     0.89328,     0.89346,     0.89364,     0.89381,     0.89399,     0.89417,     0.89434,     0.89452,\n",
            "             0.8947,     0.89487,     0.89505,     0.89522,      0.8954,      0.8951,     0.89471,     0.89432,     0.89394,     0.89355,     0.89317,     0.89278,     0.89239,     0.89201,       0.892,     0.89241,     0.89281,     0.89322,     0.89363,     0.89403,     0.89444,     0.89457,     0.89394,\n",
            "            0.89331,     0.89267,     0.89204,      0.8914,     0.89267,     0.89432,     0.89481,     0.89531,     0.89581,      0.8963,      0.8968,     0.89734,     0.89792,     0.89849,     0.89907,     0.89964,      0.9001,     0.90037,     0.90063,      0.9009,     0.90117,     0.90144,      0.9017,\n",
            "            0.90197,     0.90224,      0.9025,     0.90277,     0.90303,     0.90328,     0.90353,     0.90377,     0.90402,     0.90426,     0.90451,     0.90476,       0.905,     0.90525,     0.90549,     0.90574,     0.90598,      0.9063,     0.90663,     0.90696,     0.90729,     0.90763,     0.90796,\n",
            "            0.90829,     0.90862,     0.90896,     0.90933,     0.90973,     0.91013,     0.91053,     0.91092,     0.91132,     0.91172,     0.91212,     0.91189,     0.91158,     0.91127,     0.91096,     0.91065,     0.91034,     0.91003,     0.90972,      0.9094,     0.90909,     0.90878,     0.90848,\n",
            "            0.90934,     0.91019,     0.91104,      0.9109,     0.90917,     0.90795,     0.90836,     0.90878,     0.90919,     0.90961,     0.91002,     0.91043,     0.91085,     0.90712,     0.90685,     0.90658,     0.90632,     0.90605,     0.90578,     0.90552,     0.90525,     0.90498,     0.90472,\n",
            "            0.90445,     0.90418,     0.90392,     0.90365,     0.90282,      0.9003,     0.89911,     0.89837,     0.89763,     0.89689,     0.89615,     0.89553,       0.895,     0.89446,     0.89393,     0.89339,     0.89286,     0.89232,     0.89169,     0.89089,     0.89009,     0.88929,     0.88849,\n",
            "            0.88783,      0.8873,     0.88676,     0.88623,     0.88569,     0.88516,     0.88462,     0.88353,     0.88062,     0.87967,     0.87897,     0.87828,     0.87758,     0.87688,     0.87647,     0.87715,     0.87784,     0.87852,      0.8792,     0.88093,     0.88242,      0.8819,     0.88138,\n",
            "            0.88086,     0.88034,     0.87982,     0.87929,     0.87877,     0.87975,     0.88164,     0.88072,     0.87968,     0.87863,     0.87761,     0.87688,     0.87615,     0.87541,     0.87468,     0.87394,     0.87331,     0.87275,     0.87219,     0.87163,     0.87107,      0.8705,     0.86994,\n",
            "            0.86514,     0.86377,      0.8624,     0.86121,     0.86069,     0.86018,     0.85967,     0.85916,     0.85864,     0.85813,     0.85762,     0.85719,     0.85776,     0.85834,     0.85891,     0.85948,     0.86005,     0.85943,     0.85792,     0.85641,     0.85711,     0.85841,     0.85884,\n",
            "            0.85761,     0.85637,     0.85513,     0.85817,     0.85595,     0.85344,     0.84985,     0.85213,     0.85231,     0.85154,     0.85078,     0.85002,     0.84926,     0.84849,     0.85055,     0.85125,     0.85019,     0.84912,     0.84805,      0.8438,     0.84351,     0.84417,     0.84482,\n",
            "            0.84547,     0.84612,     0.84696,     0.84781,     0.84866,     0.84906,     0.84548,     0.84458,     0.84414,      0.8437,     0.84325,     0.84281,     0.84236,     0.84192,     0.84147,     0.84103,     0.84058,     0.83565,     0.83367,     0.83169,     0.83218,     0.83314,      0.8341,\n",
            "            0.83328,     0.83004,     0.82524,     0.82336,     0.82148,     0.82005,     0.81894,     0.81782,     0.81671,     0.81546,       0.814,     0.81253,      0.8111,     0.80992,     0.80875,     0.80757,     0.80641,     0.80564,     0.80487,     0.80409,     0.80332,     0.80255,     0.80177,\n",
            "            0.80099,     0.80022,     0.79944,     0.79866,     0.79788,      0.7971,     0.79169,     0.78996,     0.78823,     0.78635,       0.784,     0.77955,     0.77546,     0.77387,     0.77228,     0.76473,     0.76035,      0.7568,     0.75475,     0.75294,     0.75113,     0.74621,     0.73948,\n",
            "            0.73768,     0.73587,     0.73444,     0.73333,     0.73221,      0.7311,     0.72998,      0.7242,     0.72345,     0.72276,     0.72207,     0.72138,     0.72069,        0.72,      0.7193,      0.7186,     0.71741,     0.71621,     0.71501,     0.71381,     0.70906,     0.70576,      0.7038,\n",
            "            0.70183,     0.70132,     0.70088,     0.70043,     0.69998,     0.69953,     0.69908,     0.69863,     0.69818,     0.69773,     0.69727,     0.69682,     0.69637,     0.69568,     0.69428,     0.69288,     0.69147,     0.69048,       0.692,     0.69328,     0.69283,     0.69238,     0.69193,\n",
            "            0.69148,     0.69103,     0.69058,     0.69012,     0.68967,     0.68922,     0.68877,     0.68831,     0.68786,     0.68738,     0.68679,      0.6862,     0.68561,     0.68503,     0.68444,     0.68385,     0.68326,     0.68266,     0.68207,     0.68106,     0.67863,     0.67619,      0.6749,\n",
            "            0.67391,     0.67292,     0.67193,     0.67094,     0.66994,     0.65725,     0.65602,      0.6548,     0.65357,     0.65234,     0.65087,     0.64857,     0.64626,     0.64185,     0.63726,     0.63419,     0.62088,      0.6058,     0.60454,     0.60326,     0.60199,     0.60072,      0.5986,\n",
            "            0.59539,     0.59258,     0.59053,     0.58847,      0.5865,     0.58601,     0.58552,     0.58503,     0.58453,     0.58404,     0.58355,     0.58305,     0.58256,     0.58206,     0.58157,     0.58107,     0.58058,     0.58008,     0.57659,     0.56491,     0.56151,      0.5515,     0.54996,\n",
            "            0.54842,     0.54687,     0.54532,     0.53376,     0.52758,     0.52323,     0.51785,     0.51386,     0.51134,     0.50882,     0.50496,     0.49997,     0.49878,     0.49759,      0.4964,     0.49521,     0.49401,     0.49282,     0.48574,     0.47708,     0.46769,     0.46582,     0.46394,\n",
            "            0.46205,     0.45242,      0.4513,     0.45017,     0.44904,     0.44791,     0.44677,     0.44564,      0.4445,     0.43416,     0.43122,     0.42827,     0.41315,     0.40948,     0.40763,     0.40578,     0.40392,     0.40206,     0.40015,     0.39823,     0.39631,     0.39439,     0.37985,\n",
            "            0.37352,     0.37127,     0.36902,     0.36675,     0.35758,     0.33983,     0.33713,     0.33512,     0.33311,     0.33109,      0.3271,     0.31012,     0.30898,     0.30783,     0.30669,     0.30554,     0.30439,     0.30324,     0.30208,     0.30093,     0.29759,      0.2933,      0.2902,\n",
            "            0.28892,     0.28765,     0.28637,      0.2851,     0.28382,     0.28253,     0.28125,      0.2797,     0.27795,      0.2762,     0.27445,     0.27269,     0.27093,     0.25437,     0.23067,      0.2268,     0.22422,     0.22163,     0.21903,     0.21693,     0.21508,     0.21322,     0.21136,\n",
            "             0.2095,     0.20763,      0.2029,     0.19758,     0.18827,     0.17863,     0.16148,     0.15935,     0.15722,     0.15508,     0.15293,     0.15055,     0.14533,     0.14007,     0.11531,     0.11472,     0.11413,     0.11353,     0.11294,     0.11235,     0.11175,     0.11116,     0.11057,\n",
            "            0.10997,     0.10938,     0.10878,     0.10818,     0.10759,     0.10699,     0.10639,      0.1058,      0.1052,      0.1046,       0.104,      0.1034,    0.099508,    0.094185,    0.090459,    0.089295,     0.08813,    0.086964,    0.085796,    0.084627,    0.083456,    0.082284,     0.08111,\n",
            "           0.079935,    0.078759,    0.077213,    0.075522,    0.073828,    0.072131,    0.070431,    0.068728,    0.067022,    0.064215,    0.058537,    0.052952,    0.051899,    0.050846,    0.049791,    0.048735,    0.047678,    0.046619,     0.04556,    0.044499,    0.043438,    0.042375,    0.041311,\n",
            "           0.040246,    0.039345,    0.038494,    0.037642,     0.03679,    0.035937,    0.035082,    0.034228,    0.033372,    0.032516,    0.031659,    0.030801,    0.029942,    0.029083,    0.028223,    0.027362,    0.026518,    0.025701,    0.024882,    0.024063,    0.023243,    0.022423,    0.021602,\n",
            "            0.02078,    0.019958,    0.019134,    0.018311,    0.017486,    0.016661,    0.015835,    0.015008,    0.014181,           0,           0,           0,           0,           0,           0,           0,           0,           0,           0,           0,           0,           0,           0,\n",
            "                  0,           0,           0,           0,           0,           0,           0,           0,           0,           0,           0,           0,           0,           0,           0,           0,           0,           0,           0,           0,           0,           0,           0,\n",
            "                  0,           0,           0,           0,           0,           0,           0,           0,           0,           0,           0]]), 'Confidence', 'F1'], [array([          0,    0.001001,    0.002002,    0.003003,    0.004004,    0.005005,    0.006006,    0.007007,    0.008008,    0.009009,     0.01001,    0.011011,    0.012012,    0.013013,    0.014014,    0.015015,    0.016016,    0.017017,    0.018018,    0.019019,     0.02002,    0.021021,    0.022022,    0.023023,\n",
            "          0.024024,    0.025025,    0.026026,    0.027027,    0.028028,    0.029029,     0.03003,    0.031031,    0.032032,    0.033033,    0.034034,    0.035035,    0.036036,    0.037037,    0.038038,    0.039039,     0.04004,    0.041041,    0.042042,    0.043043,    0.044044,    0.045045,    0.046046,    0.047047,\n",
            "          0.048048,    0.049049,     0.05005,    0.051051,    0.052052,    0.053053,    0.054054,    0.055055,    0.056056,    0.057057,    0.058058,    0.059059,     0.06006,    0.061061,    0.062062,    0.063063,    0.064064,    0.065065,    0.066066,    0.067067,    0.068068,    0.069069,     0.07007,    0.071071,\n",
            "          0.072072,    0.073073,    0.074074,    0.075075,    0.076076,    0.077077,    0.078078,    0.079079,     0.08008,    0.081081,    0.082082,    0.083083,    0.084084,    0.085085,    0.086086,    0.087087,    0.088088,    0.089089,     0.09009,    0.091091,    0.092092,    0.093093,    0.094094,    0.095095,\n",
            "          0.096096,    0.097097,    0.098098,    0.099099,      0.1001,      0.1011,      0.1021,      0.1031,      0.1041,     0.10511,     0.10611,     0.10711,     0.10811,     0.10911,     0.11011,     0.11111,     0.11211,     0.11311,     0.11411,     0.11512,     0.11612,     0.11712,     0.11812,     0.11912,\n",
            "           0.12012,     0.12112,     0.12212,     0.12312,     0.12412,     0.12513,     0.12613,     0.12713,     0.12813,     0.12913,     0.13013,     0.13113,     0.13213,     0.13313,     0.13413,     0.13514,     0.13614,     0.13714,     0.13814,     0.13914,     0.14014,     0.14114,     0.14214,     0.14314,\n",
            "           0.14414,     0.14515,     0.14615,     0.14715,     0.14815,     0.14915,     0.15015,     0.15115,     0.15215,     0.15315,     0.15415,     0.15516,     0.15616,     0.15716,     0.15816,     0.15916,     0.16016,     0.16116,     0.16216,     0.16316,     0.16416,     0.16517,     0.16617,     0.16717,\n",
            "           0.16817,     0.16917,     0.17017,     0.17117,     0.17217,     0.17317,     0.17417,     0.17518,     0.17618,     0.17718,     0.17818,     0.17918,     0.18018,     0.18118,     0.18218,     0.18318,     0.18418,     0.18519,     0.18619,     0.18719,     0.18819,     0.18919,     0.19019,     0.19119,\n",
            "           0.19219,     0.19319,     0.19419,      0.1952,      0.1962,      0.1972,      0.1982,      0.1992,      0.2002,      0.2012,      0.2022,      0.2032,      0.2042,     0.20521,     0.20621,     0.20721,     0.20821,     0.20921,     0.21021,     0.21121,     0.21221,     0.21321,     0.21421,     0.21522,\n",
            "           0.21622,     0.21722,     0.21822,     0.21922,     0.22022,     0.22122,     0.22222,     0.22322,     0.22422,     0.22523,     0.22623,     0.22723,     0.22823,     0.22923,     0.23023,     0.23123,     0.23223,     0.23323,     0.23423,     0.23524,     0.23624,     0.23724,     0.23824,     0.23924,\n",
            "           0.24024,     0.24124,     0.24224,     0.24324,     0.24424,     0.24525,     0.24625,     0.24725,     0.24825,     0.24925,     0.25025,     0.25125,     0.25225,     0.25325,     0.25425,     0.25526,     0.25626,     0.25726,     0.25826,     0.25926,     0.26026,     0.26126,     0.26226,     0.26326,\n",
            "           0.26426,     0.26527,     0.26627,     0.26727,     0.26827,     0.26927,     0.27027,     0.27127,     0.27227,     0.27327,     0.27427,     0.27528,     0.27628,     0.27728,     0.27828,     0.27928,     0.28028,     0.28128,     0.28228,     0.28328,     0.28428,     0.28529,     0.28629,     0.28729,\n",
            "           0.28829,     0.28929,     0.29029,     0.29129,     0.29229,     0.29329,     0.29429,      0.2953,      0.2963,      0.2973,      0.2983,      0.2993,      0.3003,      0.3013,      0.3023,      0.3033,      0.3043,     0.30531,     0.30631,     0.30731,     0.30831,     0.30931,     0.31031,     0.31131,\n",
            "           0.31231,     0.31331,     0.31431,     0.31532,     0.31632,     0.31732,     0.31832,     0.31932,     0.32032,     0.32132,     0.32232,     0.32332,     0.32432,     0.32533,     0.32633,     0.32733,     0.32833,     0.32933,     0.33033,     0.33133,     0.33233,     0.33333,     0.33433,     0.33534,\n",
            "           0.33634,     0.33734,     0.33834,     0.33934,     0.34034,     0.34134,     0.34234,     0.34334,     0.34434,     0.34535,     0.34635,     0.34735,     0.34835,     0.34935,     0.35035,     0.35135,     0.35235,     0.35335,     0.35435,     0.35536,     0.35636,     0.35736,     0.35836,     0.35936,\n",
            "           0.36036,     0.36136,     0.36236,     0.36336,     0.36436,     0.36537,     0.36637,     0.36737,     0.36837,     0.36937,     0.37037,     0.37137,     0.37237,     0.37337,     0.37437,     0.37538,     0.37638,     0.37738,     0.37838,     0.37938,     0.38038,     0.38138,     0.38238,     0.38338,\n",
            "           0.38438,     0.38539,     0.38639,     0.38739,     0.38839,     0.38939,     0.39039,     0.39139,     0.39239,     0.39339,     0.39439,      0.3954,      0.3964,      0.3974,      0.3984,      0.3994,      0.4004,      0.4014,      0.4024,      0.4034,      0.4044,     0.40541,     0.40641,     0.40741,\n",
            "           0.40841,     0.40941,     0.41041,     0.41141,     0.41241,     0.41341,     0.41441,     0.41542,     0.41642,     0.41742,     0.41842,     0.41942,     0.42042,     0.42142,     0.42242,     0.42342,     0.42442,     0.42543,     0.42643,     0.42743,     0.42843,     0.42943,     0.43043,     0.43143,\n",
            "           0.43243,     0.43343,     0.43443,     0.43544,     0.43644,     0.43744,     0.43844,     0.43944,     0.44044,     0.44144,     0.44244,     0.44344,     0.44444,     0.44545,     0.44645,     0.44745,     0.44845,     0.44945,     0.45045,     0.45145,     0.45245,     0.45345,     0.45445,     0.45546,\n",
            "           0.45646,     0.45746,     0.45846,     0.45946,     0.46046,     0.46146,     0.46246,     0.46346,     0.46446,     0.46547,     0.46647,     0.46747,     0.46847,     0.46947,     0.47047,     0.47147,     0.47247,     0.47347,     0.47447,     0.47548,     0.47648,     0.47748,     0.47848,     0.47948,\n",
            "           0.48048,     0.48148,     0.48248,     0.48348,     0.48448,     0.48549,     0.48649,     0.48749,     0.48849,     0.48949,     0.49049,     0.49149,     0.49249,     0.49349,     0.49449,      0.4955,      0.4965,      0.4975,      0.4985,      0.4995,      0.5005,      0.5015,      0.5025,      0.5035,\n",
            "            0.5045,     0.50551,     0.50651,     0.50751,     0.50851,     0.50951,     0.51051,     0.51151,     0.51251,     0.51351,     0.51451,     0.51552,     0.51652,     0.51752,     0.51852,     0.51952,     0.52052,     0.52152,     0.52252,     0.52352,     0.52452,     0.52553,     0.52653,     0.52753,\n",
            "           0.52853,     0.52953,     0.53053,     0.53153,     0.53253,     0.53353,     0.53453,     0.53554,     0.53654,     0.53754,     0.53854,     0.53954,     0.54054,     0.54154,     0.54254,     0.54354,     0.54454,     0.54555,     0.54655,     0.54755,     0.54855,     0.54955,     0.55055,     0.55155,\n",
            "           0.55255,     0.55355,     0.55455,     0.55556,     0.55656,     0.55756,     0.55856,     0.55956,     0.56056,     0.56156,     0.56256,     0.56356,     0.56456,     0.56557,     0.56657,     0.56757,     0.56857,     0.56957,     0.57057,     0.57157,     0.57257,     0.57357,     0.57457,     0.57558,\n",
            "           0.57658,     0.57758,     0.57858,     0.57958,     0.58058,     0.58158,     0.58258,     0.58358,     0.58458,     0.58559,     0.58659,     0.58759,     0.58859,     0.58959,     0.59059,     0.59159,     0.59259,     0.59359,     0.59459,      0.5956,      0.5966,      0.5976,      0.5986,      0.5996,\n",
            "            0.6006,      0.6016,      0.6026,      0.6036,      0.6046,     0.60561,     0.60661,     0.60761,     0.60861,     0.60961,     0.61061,     0.61161,     0.61261,     0.61361,     0.61461,     0.61562,     0.61662,     0.61762,     0.61862,     0.61962,     0.62062,     0.62162,     0.62262,     0.62362,\n",
            "           0.62462,     0.62563,     0.62663,     0.62763,     0.62863,     0.62963,     0.63063,     0.63163,     0.63263,     0.63363,     0.63463,     0.63564,     0.63664,     0.63764,     0.63864,     0.63964,     0.64064,     0.64164,     0.64264,     0.64364,     0.64464,     0.64565,     0.64665,     0.64765,\n",
            "           0.64865,     0.64965,     0.65065,     0.65165,     0.65265,     0.65365,     0.65465,     0.65566,     0.65666,     0.65766,     0.65866,     0.65966,     0.66066,     0.66166,     0.66266,     0.66366,     0.66466,     0.66567,     0.66667,     0.66767,     0.66867,     0.66967,     0.67067,     0.67167,\n",
            "           0.67267,     0.67367,     0.67467,     0.67568,     0.67668,     0.67768,     0.67868,     0.67968,     0.68068,     0.68168,     0.68268,     0.68368,     0.68468,     0.68569,     0.68669,     0.68769,     0.68869,     0.68969,     0.69069,     0.69169,     0.69269,     0.69369,     0.69469,      0.6957,\n",
            "            0.6967,      0.6977,      0.6987,      0.6997,      0.7007,      0.7017,      0.7027,      0.7037,      0.7047,     0.70571,     0.70671,     0.70771,     0.70871,     0.70971,     0.71071,     0.71171,     0.71271,     0.71371,     0.71471,     0.71572,     0.71672,     0.71772,     0.71872,     0.71972,\n",
            "           0.72072,     0.72172,     0.72272,     0.72372,     0.72472,     0.72573,     0.72673,     0.72773,     0.72873,     0.72973,     0.73073,     0.73173,     0.73273,     0.73373,     0.73473,     0.73574,     0.73674,     0.73774,     0.73874,     0.73974,     0.74074,     0.74174,     0.74274,     0.74374,\n",
            "           0.74474,     0.74575,     0.74675,     0.74775,     0.74875,     0.74975,     0.75075,     0.75175,     0.75275,     0.75375,     0.75475,     0.75576,     0.75676,     0.75776,     0.75876,     0.75976,     0.76076,     0.76176,     0.76276,     0.76376,     0.76476,     0.76577,     0.76677,     0.76777,\n",
            "           0.76877,     0.76977,     0.77077,     0.77177,     0.77277,     0.77377,     0.77477,     0.77578,     0.77678,     0.77778,     0.77878,     0.77978,     0.78078,     0.78178,     0.78278,     0.78378,     0.78478,     0.78579,     0.78679,     0.78779,     0.78879,     0.78979,     0.79079,     0.79179,\n",
            "           0.79279,     0.79379,     0.79479,      0.7958,      0.7968,      0.7978,      0.7988,      0.7998,      0.8008,      0.8018,      0.8028,      0.8038,      0.8048,     0.80581,     0.80681,     0.80781,     0.80881,     0.80981,     0.81081,     0.81181,     0.81281,     0.81381,     0.81481,     0.81582,\n",
            "           0.81682,     0.81782,     0.81882,     0.81982,     0.82082,     0.82182,     0.82282,     0.82382,     0.82482,     0.82583,     0.82683,     0.82783,     0.82883,     0.82983,     0.83083,     0.83183,     0.83283,     0.83383,     0.83483,     0.83584,     0.83684,     0.83784,     0.83884,     0.83984,\n",
            "           0.84084,     0.84184,     0.84284,     0.84384,     0.84484,     0.84585,     0.84685,     0.84785,     0.84885,     0.84985,     0.85085,     0.85185,     0.85285,     0.85385,     0.85485,     0.85586,     0.85686,     0.85786,     0.85886,     0.85986,     0.86086,     0.86186,     0.86286,     0.86386,\n",
            "           0.86486,     0.86587,     0.86687,     0.86787,     0.86887,     0.86987,     0.87087,     0.87187,     0.87287,     0.87387,     0.87487,     0.87588,     0.87688,     0.87788,     0.87888,     0.87988,     0.88088,     0.88188,     0.88288,     0.88388,     0.88488,     0.88589,     0.88689,     0.88789,\n",
            "           0.88889,     0.88989,     0.89089,     0.89189,     0.89289,     0.89389,     0.89489,      0.8959,      0.8969,      0.8979,      0.8989,      0.8999,      0.9009,      0.9019,      0.9029,      0.9039,      0.9049,     0.90591,     0.90691,     0.90791,     0.90891,     0.90991,     0.91091,     0.91191,\n",
            "           0.91291,     0.91391,     0.91491,     0.91592,     0.91692,     0.91792,     0.91892,     0.91992,     0.92092,     0.92192,     0.92292,     0.92392,     0.92492,     0.92593,     0.92693,     0.92793,     0.92893,     0.92993,     0.93093,     0.93193,     0.93293,     0.93393,     0.93493,     0.93594,\n",
            "           0.93694,     0.93794,     0.93894,     0.93994,     0.94094,     0.94194,     0.94294,     0.94394,     0.94494,     0.94595,     0.94695,     0.94795,     0.94895,     0.94995,     0.95095,     0.95195,     0.95295,     0.95395,     0.95495,     0.95596,     0.95696,     0.95796,     0.95896,     0.95996,\n",
            "           0.96096,     0.96196,     0.96296,     0.96396,     0.96496,     0.96597,     0.96697,     0.96797,     0.96897,     0.96997,     0.97097,     0.97197,     0.97297,     0.97397,     0.97497,     0.97598,     0.97698,     0.97798,     0.97898,     0.97998,     0.98098,     0.98198,     0.98298,     0.98398,\n",
            "           0.98498,     0.98599,     0.98699,     0.98799,     0.98899,     0.98999,     0.99099,     0.99199,     0.99299,     0.99399,     0.99499,       0.996,       0.997,       0.998,       0.999,           1]), array([[    0.19785,     0.19791,     0.26674,      0.3162,     0.34673,     0.36813,     0.40145,     0.42181,     0.43734,     0.44616,     0.45776,     0.46481,     0.47815,     0.48462,     0.48735,       0.489,     0.49352,     0.50184,     0.50537,     0.51079,     0.51828,     0.52479,     0.53135,\n",
            "            0.53539,     0.54421,     0.54637,     0.54941,     0.55017,     0.55093,     0.55382,     0.55498,     0.55809,     0.56034,     0.56189,       0.564,     0.56581,     0.56964,     0.57173,     0.57329,      0.5753,      0.5802,     0.58217,     0.58576,     0.58847,     0.59137,     0.59525,\n",
            "            0.59742,     0.60276,     0.60808,     0.61001,     0.61441,     0.61614,     0.61728,     0.61849,     0.61986,     0.62122,      0.6226,     0.62398,     0.62539,     0.62706,     0.63059,     0.63318,     0.63647,     0.63771,     0.63831,     0.63892,     0.63952,     0.64027,     0.64162,\n",
            "            0.64296,     0.64418,     0.64541,     0.64721,     0.64939,     0.65187,     0.65377,     0.65758,     0.65806,     0.65854,     0.65902,      0.6595,     0.65998,     0.66047,     0.66115,     0.66187,      0.6626,     0.66333,     0.66422,     0.66521,     0.66619,     0.66859,     0.67051,\n",
            "            0.67161,     0.67271,     0.67683,     0.67781,     0.67879,     0.67904,     0.67865,     0.67827,     0.67789,     0.68127,     0.68256,     0.68386,     0.68548,     0.68723,     0.68733,     0.68712,     0.68692,     0.68671,      0.6865,      0.6863,     0.68609,     0.68765,     0.68968,\n",
            "             0.6904,     0.69112,     0.69184,     0.69256,     0.69546,     0.69677,     0.69762,     0.69848,     0.69933,     0.70176,     0.70397,      0.7057,     0.70725,     0.70864,     0.71029,     0.71684,     0.71623,     0.71569,     0.71548,     0.71527,     0.71505,     0.71484,     0.71463,\n",
            "            0.71441,     0.71476,     0.71596,     0.71715,     0.72206,      0.7235,     0.72493,     0.72582,     0.72646,     0.72709,     0.72772,     0.72836,     0.72899,     0.73015,     0.73152,     0.73288,     0.73325,     0.73353,     0.73381,     0.73409,     0.73437,     0.73466,     0.73494,\n",
            "            0.73522,      0.7355,     0.73579,     0.73607,     0.73635,     0.73663,     0.74075,     0.74169,     0.74262,     0.74355,     0.74449,     0.74507,     0.74556,     0.74604,     0.74653,     0.74702,     0.74751,     0.74799,     0.74848,     0.74966,     0.75125,     0.75301,     0.75658,\n",
            "             0.7651,     0.76564,     0.76619,     0.76673,     0.76727,     0.76782,     0.76836,      0.7689,      0.7693,     0.76949,     0.76967,     0.76986,     0.77005,     0.77023,     0.77042,      0.7706,     0.77079,     0.77097,     0.77116,     0.77134,     0.77153,     0.77171,      0.7719,\n",
            "            0.77209,     0.77227,     0.77246,     0.77264,     0.77283,     0.77301,      0.7732,     0.77338,     0.77804,     0.77902,        0.78,     0.78097,     0.78195,     0.78558,     0.78779,     0.78942,     0.79097,     0.79113,     0.79128,     0.79144,      0.7916,     0.79176,     0.79191,\n",
            "            0.79207,     0.79223,     0.79238,     0.79254,      0.7927,     0.79286,     0.79301,     0.79317,     0.79333,     0.79349,     0.79364,      0.7938,     0.79396,     0.79411,     0.79427,     0.79443,     0.79459,     0.79474,      0.7949,     0.79506,     0.79522,     0.79537,     0.79613,\n",
            "            0.79754,     0.79894,     0.80015,     0.80074,     0.80133,     0.80192,     0.80251,      0.8031,     0.80369,     0.80428,     0.80496,     0.80574,     0.80651,     0.80729,     0.80807,     0.80885,     0.80956,     0.81019,     0.81082,     0.81146,     0.81209,     0.81273,     0.81336,\n",
            "            0.81401,     0.81489,     0.81577,     0.81666,     0.81754,     0.81842,     0.82224,     0.82375,     0.82405,     0.82435,     0.82465,     0.82494,     0.82524,     0.82554,     0.82584,     0.82613,     0.82643,     0.82673,     0.82703,     0.82733,     0.82762,     0.82792,     0.82822,\n",
            "             0.8291,     0.83093,     0.83276,     0.83492,     0.83724,      0.8382,     0.83798,     0.83775,     0.83752,     0.83825,     0.84192,     0.84371,      0.8452,     0.84669,     0.84745,      0.8472,     0.84694,     0.84668,      0.8471,     0.84771,     0.84832,     0.84894,     0.84955,\n",
            "            0.85016,     0.85077,     0.85138,     0.85148,     0.85142,     0.85215,     0.85288,     0.85361,     0.85434,     0.85508,     0.85581,     0.85638,      0.8567,     0.85703,     0.85736,     0.85768,     0.85801,     0.85833,     0.85866,     0.85898,     0.85931,     0.85963,     0.85996,\n",
            "            0.86029,     0.86061,     0.86094,     0.86126,     0.86159,     0.86156,     0.86146,     0.86137,     0.86128,     0.86118,     0.86109,       0.861,      0.8609,     0.86081,     0.86112,     0.86188,     0.86264,      0.8634,     0.86416,     0.86492,     0.86568,      0.8662,     0.86605,\n",
            "            0.86591,     0.86576,     0.86561,     0.86546,     0.86838,     0.87149,     0.87244,     0.87338,     0.87433,     0.87527,     0.87622,     0.87725,     0.87836,     0.87946,     0.88056,     0.88166,     0.88254,     0.88306,     0.88357,     0.88409,      0.8846,     0.88512,     0.88563,\n",
            "            0.88615,     0.88666,     0.88718,     0.88769,      0.8882,     0.88868,     0.88916,     0.88963,     0.89011,     0.89059,     0.89106,     0.89154,     0.89202,      0.8925,     0.89297,     0.89345,     0.89393,     0.89454,     0.89519,     0.89584,     0.89649,     0.89714,     0.89779,\n",
            "            0.89844,     0.89909,     0.89974,     0.90046,     0.90125,     0.90203,     0.90282,      0.9036,     0.90438,     0.90517,     0.90595,     0.90599,     0.90594,     0.90589,     0.90583,     0.90578,     0.90573,     0.90567,     0.90562,     0.90557,     0.90551,     0.90546,     0.90542,\n",
            "            0.90712,     0.90882,     0.91052,     0.91146,     0.91117,     0.91116,     0.91199,     0.91283,     0.91367,      0.9145,     0.91534,     0.91617,     0.91701,     0.91665,     0.91661,     0.91657,     0.91653,     0.91649,     0.91644,      0.9164,     0.91636,     0.91632,     0.91628,\n",
            "            0.91624,      0.9162,     0.91616,     0.91611,     0.91599,     0.91559,     0.91541,     0.91529,     0.91517,     0.91506,     0.91494,     0.91485,     0.91476,     0.91468,     0.91459,     0.91451,     0.91442,     0.91434,     0.91424,     0.91411,     0.91398,     0.91386,     0.91373,\n",
            "            0.91362,     0.91354,     0.91345,     0.91337,     0.91328,      0.9132,     0.91311,     0.91293,     0.91246,     0.91231,      0.9122,     0.91208,     0.91197,     0.91186,     0.91207,     0.91356,     0.91504,     0.91653,     0.91802,     0.92179,     0.92535,     0.92528,     0.92521,\n",
            "            0.92513,     0.92506,     0.92499,     0.92491,     0.92484,     0.92742,     0.93163,     0.93169,     0.93155,     0.93142,     0.93129,     0.93119,      0.9311,       0.931,      0.9309,     0.93081,     0.93072,     0.93065,     0.93058,      0.9305,     0.93043,     0.93036,     0.93028,\n",
            "            0.92965,     0.92946,     0.92928,     0.92912,     0.92905,     0.92898,     0.92891,     0.92884,     0.92877,      0.9287,     0.92863,     0.92868,     0.93003,     0.93138,     0.93273,     0.93408,     0.93543,     0.93589,     0.93571,     0.93552,     0.93793,     0.94104,     0.94304,\n",
            "            0.94291,     0.94277,     0.94264,     0.95031,     0.95019,     0.94995,     0.95016,     0.95586,     0.95758,     0.95752,     0.95746,     0.95739,     0.95733,     0.95727,     0.96253,     0.96549,     0.96541,     0.96534,     0.96527,     0.96497,     0.96649,     0.96821,     0.96993,\n",
            "            0.97164,     0.97336,     0.97559,     0.97785,     0.98011,     0.98213,       0.982,     0.98197,     0.98195,     0.98194,     0.98192,      0.9819,     0.98189,     0.98187,     0.98185,     0.98184,     0.98182,     0.98164,     0.98157,     0.98149,     0.98374,     0.98642,      0.9891,\n",
            "            0.99063,     0.99057,     0.99047,     0.99044,      0.9904,     0.99037,     0.99035,     0.99033,     0.99031,     0.99028,     0.99025,     0.99022,     0.99019,     0.99017,     0.99015,     0.99012,      0.9901,     0.99008,     0.99007,     0.99005,     0.99003,     0.99002,        0.99,\n",
            "            0.98999,     0.98997,     0.98995,     0.98994,     0.98992,     0.98991,     0.98979,     0.98976,     0.98972,     0.98968,     0.98963,     0.98953,     0.98944,     0.98941,     0.98937,      0.9892,      0.9891,     0.98902,     0.98897,     0.98893,     0.98889,     0.98877,     0.98861,\n",
            "            0.98857,     0.98853,     0.98849,     0.98846,     0.98844,     0.98841,     0.98838,     0.98824,     0.98822,      0.9882,     0.98818,     0.98817,     0.98815,     0.98813,     0.98811,     0.98809,     0.98806,     0.98803,       0.988,     0.98797,     0.98785,     0.98776,     0.98771,\n",
            "            0.98766,     0.98764,     0.98763,     0.98762,     0.98761,     0.98759,     0.98758,     0.98757,     0.98756,     0.98755,     0.98753,     0.98752,     0.98751,     0.98749,     0.98745,     0.98741,     0.98737,     0.98822,     0.99446,           1,           1,           1,           1,\n",
            "                  1,           1,           1,           1,           1,           1,           1,           1,           1,           1,           1,           1,           1,           1,           1,           1,           1,           1,           1,           1,           1,           1,           1,\n",
            "                  1,           1,           1,           1,           1,           1,           1,           1,           1,           1,           1,           1,           1,           1,           1,           1,           1,           1,           1,           1,           1,           1,           1,\n",
            "                  1,           1,           1,           1,           1,           1,           1,           1,           1,           1,           1,           1,           1,           1,           1,           1,           1,           1,           1,           1,           1,           1,           1,\n",
            "                  1,           1,           1,           1,           1,           1,           1,           1,           1,           1,           1,           1,           1,           1,           1,           1,           1,           1,           1,           1,           1,           1,           1,\n",
            "                  1,           1,           1,           1,           1,           1,           1,           1,           1,           1,           1,           1,           1,           1,           1,           1,           1,           1,           1,           1,           1,           1,           1,\n",
            "                  1,           1,           1,           1,           1,           1,           1,           1,           1,           1,           1,           1,           1,           1,           1,           1,           1,           1,           1,           1,           1,           1,           1,\n",
            "                  1,           1,           1,           1,           1,           1,           1,           1,           1,           1,           1,           1,           1,           1,           1,           1,           1,           1,           1,           1,           1,           1,           1,\n",
            "                  1,           1,           1,           1,           1,           1,           1,           1,           1,           1,           1,           1,           1,           1,           1,           1,           1,           1,           1,           1,           1,           1,           1,\n",
            "                  1,           1,           1,           1,           1,           1,           1,           1,           1,           1,           1,           1,           1,           1,           1,           1,           1,           1,           1,           1,           1,           1,           1,\n",
            "                  1,           1,           1,           1,           1,           1,           1,           1,           1,           1,           1,           1,           1,           1,           1,           1,           1,           1,           1,           1,           1,           1,           1,\n",
            "                  1,           1,           1,           1,           1,           1,           1,           1,           1,           1,           1,           1,           1,           1,           1,           1,           1,           1,           1,           1,           1,           1,           1,\n",
            "                  1,           1,           1,           1,           1,           1,           1,           1,           1,           1,           1,           1,           1,           1,           1,           1,           1,           1,           1,           1,           1,           1,           1,\n",
            "                  1,           1,           1,           1,           1,           1,           1,           1,           1,           1,           1,           1,           1,           1,           1,           1,           1,           1,           1,           1,           1,           1,           1,\n",
            "                  1,           1,           1,           1,           1,           1,           1,           1,           1,           1,           1]]), 'Confidence', 'Precision'], [array([          0,    0.001001,    0.002002,    0.003003,    0.004004,    0.005005,    0.006006,    0.007007,    0.008008,    0.009009,     0.01001,    0.011011,    0.012012,    0.013013,    0.014014,    0.015015,    0.016016,    0.017017,    0.018018,    0.019019,     0.02002,    0.021021,    0.022022,    0.023023,\n",
            "          0.024024,    0.025025,    0.026026,    0.027027,    0.028028,    0.029029,     0.03003,    0.031031,    0.032032,    0.033033,    0.034034,    0.035035,    0.036036,    0.037037,    0.038038,    0.039039,     0.04004,    0.041041,    0.042042,    0.043043,    0.044044,    0.045045,    0.046046,    0.047047,\n",
            "          0.048048,    0.049049,     0.05005,    0.051051,    0.052052,    0.053053,    0.054054,    0.055055,    0.056056,    0.057057,    0.058058,    0.059059,     0.06006,    0.061061,    0.062062,    0.063063,    0.064064,    0.065065,    0.066066,    0.067067,    0.068068,    0.069069,     0.07007,    0.071071,\n",
            "          0.072072,    0.073073,    0.074074,    0.075075,    0.076076,    0.077077,    0.078078,    0.079079,     0.08008,    0.081081,    0.082082,    0.083083,    0.084084,    0.085085,    0.086086,    0.087087,    0.088088,    0.089089,     0.09009,    0.091091,    0.092092,    0.093093,    0.094094,    0.095095,\n",
            "          0.096096,    0.097097,    0.098098,    0.099099,      0.1001,      0.1011,      0.1021,      0.1031,      0.1041,     0.10511,     0.10611,     0.10711,     0.10811,     0.10911,     0.11011,     0.11111,     0.11211,     0.11311,     0.11411,     0.11512,     0.11612,     0.11712,     0.11812,     0.11912,\n",
            "           0.12012,     0.12112,     0.12212,     0.12312,     0.12412,     0.12513,     0.12613,     0.12713,     0.12813,     0.12913,     0.13013,     0.13113,     0.13213,     0.13313,     0.13413,     0.13514,     0.13614,     0.13714,     0.13814,     0.13914,     0.14014,     0.14114,     0.14214,     0.14314,\n",
            "           0.14414,     0.14515,     0.14615,     0.14715,     0.14815,     0.14915,     0.15015,     0.15115,     0.15215,     0.15315,     0.15415,     0.15516,     0.15616,     0.15716,     0.15816,     0.15916,     0.16016,     0.16116,     0.16216,     0.16316,     0.16416,     0.16517,     0.16617,     0.16717,\n",
            "           0.16817,     0.16917,     0.17017,     0.17117,     0.17217,     0.17317,     0.17417,     0.17518,     0.17618,     0.17718,     0.17818,     0.17918,     0.18018,     0.18118,     0.18218,     0.18318,     0.18418,     0.18519,     0.18619,     0.18719,     0.18819,     0.18919,     0.19019,     0.19119,\n",
            "           0.19219,     0.19319,     0.19419,      0.1952,      0.1962,      0.1972,      0.1982,      0.1992,      0.2002,      0.2012,      0.2022,      0.2032,      0.2042,     0.20521,     0.20621,     0.20721,     0.20821,     0.20921,     0.21021,     0.21121,     0.21221,     0.21321,     0.21421,     0.21522,\n",
            "           0.21622,     0.21722,     0.21822,     0.21922,     0.22022,     0.22122,     0.22222,     0.22322,     0.22422,     0.22523,     0.22623,     0.22723,     0.22823,     0.22923,     0.23023,     0.23123,     0.23223,     0.23323,     0.23423,     0.23524,     0.23624,     0.23724,     0.23824,     0.23924,\n",
            "           0.24024,     0.24124,     0.24224,     0.24324,     0.24424,     0.24525,     0.24625,     0.24725,     0.24825,     0.24925,     0.25025,     0.25125,     0.25225,     0.25325,     0.25425,     0.25526,     0.25626,     0.25726,     0.25826,     0.25926,     0.26026,     0.26126,     0.26226,     0.26326,\n",
            "           0.26426,     0.26527,     0.26627,     0.26727,     0.26827,     0.26927,     0.27027,     0.27127,     0.27227,     0.27327,     0.27427,     0.27528,     0.27628,     0.27728,     0.27828,     0.27928,     0.28028,     0.28128,     0.28228,     0.28328,     0.28428,     0.28529,     0.28629,     0.28729,\n",
            "           0.28829,     0.28929,     0.29029,     0.29129,     0.29229,     0.29329,     0.29429,      0.2953,      0.2963,      0.2973,      0.2983,      0.2993,      0.3003,      0.3013,      0.3023,      0.3033,      0.3043,     0.30531,     0.30631,     0.30731,     0.30831,     0.30931,     0.31031,     0.31131,\n",
            "           0.31231,     0.31331,     0.31431,     0.31532,     0.31632,     0.31732,     0.31832,     0.31932,     0.32032,     0.32132,     0.32232,     0.32332,     0.32432,     0.32533,     0.32633,     0.32733,     0.32833,     0.32933,     0.33033,     0.33133,     0.33233,     0.33333,     0.33433,     0.33534,\n",
            "           0.33634,     0.33734,     0.33834,     0.33934,     0.34034,     0.34134,     0.34234,     0.34334,     0.34434,     0.34535,     0.34635,     0.34735,     0.34835,     0.34935,     0.35035,     0.35135,     0.35235,     0.35335,     0.35435,     0.35536,     0.35636,     0.35736,     0.35836,     0.35936,\n",
            "           0.36036,     0.36136,     0.36236,     0.36336,     0.36436,     0.36537,     0.36637,     0.36737,     0.36837,     0.36937,     0.37037,     0.37137,     0.37237,     0.37337,     0.37437,     0.37538,     0.37638,     0.37738,     0.37838,     0.37938,     0.38038,     0.38138,     0.38238,     0.38338,\n",
            "           0.38438,     0.38539,     0.38639,     0.38739,     0.38839,     0.38939,     0.39039,     0.39139,     0.39239,     0.39339,     0.39439,      0.3954,      0.3964,      0.3974,      0.3984,      0.3994,      0.4004,      0.4014,      0.4024,      0.4034,      0.4044,     0.40541,     0.40641,     0.40741,\n",
            "           0.40841,     0.40941,     0.41041,     0.41141,     0.41241,     0.41341,     0.41441,     0.41542,     0.41642,     0.41742,     0.41842,     0.41942,     0.42042,     0.42142,     0.42242,     0.42342,     0.42442,     0.42543,     0.42643,     0.42743,     0.42843,     0.42943,     0.43043,     0.43143,\n",
            "           0.43243,     0.43343,     0.43443,     0.43544,     0.43644,     0.43744,     0.43844,     0.43944,     0.44044,     0.44144,     0.44244,     0.44344,     0.44444,     0.44545,     0.44645,     0.44745,     0.44845,     0.44945,     0.45045,     0.45145,     0.45245,     0.45345,     0.45445,     0.45546,\n",
            "           0.45646,     0.45746,     0.45846,     0.45946,     0.46046,     0.46146,     0.46246,     0.46346,     0.46446,     0.46547,     0.46647,     0.46747,     0.46847,     0.46947,     0.47047,     0.47147,     0.47247,     0.47347,     0.47447,     0.47548,     0.47648,     0.47748,     0.47848,     0.47948,\n",
            "           0.48048,     0.48148,     0.48248,     0.48348,     0.48448,     0.48549,     0.48649,     0.48749,     0.48849,     0.48949,     0.49049,     0.49149,     0.49249,     0.49349,     0.49449,      0.4955,      0.4965,      0.4975,      0.4985,      0.4995,      0.5005,      0.5015,      0.5025,      0.5035,\n",
            "            0.5045,     0.50551,     0.50651,     0.50751,     0.50851,     0.50951,     0.51051,     0.51151,     0.51251,     0.51351,     0.51451,     0.51552,     0.51652,     0.51752,     0.51852,     0.51952,     0.52052,     0.52152,     0.52252,     0.52352,     0.52452,     0.52553,     0.52653,     0.52753,\n",
            "           0.52853,     0.52953,     0.53053,     0.53153,     0.53253,     0.53353,     0.53453,     0.53554,     0.53654,     0.53754,     0.53854,     0.53954,     0.54054,     0.54154,     0.54254,     0.54354,     0.54454,     0.54555,     0.54655,     0.54755,     0.54855,     0.54955,     0.55055,     0.55155,\n",
            "           0.55255,     0.55355,     0.55455,     0.55556,     0.55656,     0.55756,     0.55856,     0.55956,     0.56056,     0.56156,     0.56256,     0.56356,     0.56456,     0.56557,     0.56657,     0.56757,     0.56857,     0.56957,     0.57057,     0.57157,     0.57257,     0.57357,     0.57457,     0.57558,\n",
            "           0.57658,     0.57758,     0.57858,     0.57958,     0.58058,     0.58158,     0.58258,     0.58358,     0.58458,     0.58559,     0.58659,     0.58759,     0.58859,     0.58959,     0.59059,     0.59159,     0.59259,     0.59359,     0.59459,      0.5956,      0.5966,      0.5976,      0.5986,      0.5996,\n",
            "            0.6006,      0.6016,      0.6026,      0.6036,      0.6046,     0.60561,     0.60661,     0.60761,     0.60861,     0.60961,     0.61061,     0.61161,     0.61261,     0.61361,     0.61461,     0.61562,     0.61662,     0.61762,     0.61862,     0.61962,     0.62062,     0.62162,     0.62262,     0.62362,\n",
            "           0.62462,     0.62563,     0.62663,     0.62763,     0.62863,     0.62963,     0.63063,     0.63163,     0.63263,     0.63363,     0.63463,     0.63564,     0.63664,     0.63764,     0.63864,     0.63964,     0.64064,     0.64164,     0.64264,     0.64364,     0.64464,     0.64565,     0.64665,     0.64765,\n",
            "           0.64865,     0.64965,     0.65065,     0.65165,     0.65265,     0.65365,     0.65465,     0.65566,     0.65666,     0.65766,     0.65866,     0.65966,     0.66066,     0.66166,     0.66266,     0.66366,     0.66466,     0.66567,     0.66667,     0.66767,     0.66867,     0.66967,     0.67067,     0.67167,\n",
            "           0.67267,     0.67367,     0.67467,     0.67568,     0.67668,     0.67768,     0.67868,     0.67968,     0.68068,     0.68168,     0.68268,     0.68368,     0.68468,     0.68569,     0.68669,     0.68769,     0.68869,     0.68969,     0.69069,     0.69169,     0.69269,     0.69369,     0.69469,      0.6957,\n",
            "            0.6967,      0.6977,      0.6987,      0.6997,      0.7007,      0.7017,      0.7027,      0.7037,      0.7047,     0.70571,     0.70671,     0.70771,     0.70871,     0.70971,     0.71071,     0.71171,     0.71271,     0.71371,     0.71471,     0.71572,     0.71672,     0.71772,     0.71872,     0.71972,\n",
            "           0.72072,     0.72172,     0.72272,     0.72372,     0.72472,     0.72573,     0.72673,     0.72773,     0.72873,     0.72973,     0.73073,     0.73173,     0.73273,     0.73373,     0.73473,     0.73574,     0.73674,     0.73774,     0.73874,     0.73974,     0.74074,     0.74174,     0.74274,     0.74374,\n",
            "           0.74474,     0.74575,     0.74675,     0.74775,     0.74875,     0.74975,     0.75075,     0.75175,     0.75275,     0.75375,     0.75475,     0.75576,     0.75676,     0.75776,     0.75876,     0.75976,     0.76076,     0.76176,     0.76276,     0.76376,     0.76476,     0.76577,     0.76677,     0.76777,\n",
            "           0.76877,     0.76977,     0.77077,     0.77177,     0.77277,     0.77377,     0.77477,     0.77578,     0.77678,     0.77778,     0.77878,     0.77978,     0.78078,     0.78178,     0.78278,     0.78378,     0.78478,     0.78579,     0.78679,     0.78779,     0.78879,     0.78979,     0.79079,     0.79179,\n",
            "           0.79279,     0.79379,     0.79479,      0.7958,      0.7968,      0.7978,      0.7988,      0.7998,      0.8008,      0.8018,      0.8028,      0.8038,      0.8048,     0.80581,     0.80681,     0.80781,     0.80881,     0.80981,     0.81081,     0.81181,     0.81281,     0.81381,     0.81481,     0.81582,\n",
            "           0.81682,     0.81782,     0.81882,     0.81982,     0.82082,     0.82182,     0.82282,     0.82382,     0.82482,     0.82583,     0.82683,     0.82783,     0.82883,     0.82983,     0.83083,     0.83183,     0.83283,     0.83383,     0.83483,     0.83584,     0.83684,     0.83784,     0.83884,     0.83984,\n",
            "           0.84084,     0.84184,     0.84284,     0.84384,     0.84484,     0.84585,     0.84685,     0.84785,     0.84885,     0.84985,     0.85085,     0.85185,     0.85285,     0.85385,     0.85485,     0.85586,     0.85686,     0.85786,     0.85886,     0.85986,     0.86086,     0.86186,     0.86286,     0.86386,\n",
            "           0.86486,     0.86587,     0.86687,     0.86787,     0.86887,     0.86987,     0.87087,     0.87187,     0.87287,     0.87387,     0.87487,     0.87588,     0.87688,     0.87788,     0.87888,     0.87988,     0.88088,     0.88188,     0.88288,     0.88388,     0.88488,     0.88589,     0.88689,     0.88789,\n",
            "           0.88889,     0.88989,     0.89089,     0.89189,     0.89289,     0.89389,     0.89489,      0.8959,      0.8969,      0.8979,      0.8989,      0.8999,      0.9009,      0.9019,      0.9029,      0.9039,      0.9049,     0.90591,     0.90691,     0.90791,     0.90891,     0.90991,     0.91091,     0.91191,\n",
            "           0.91291,     0.91391,     0.91491,     0.91592,     0.91692,     0.91792,     0.91892,     0.91992,     0.92092,     0.92192,     0.92292,     0.92392,     0.92492,     0.92593,     0.92693,     0.92793,     0.92893,     0.92993,     0.93093,     0.93193,     0.93293,     0.93393,     0.93493,     0.93594,\n",
            "           0.93694,     0.93794,     0.93894,     0.93994,     0.94094,     0.94194,     0.94294,     0.94394,     0.94494,     0.94595,     0.94695,     0.94795,     0.94895,     0.94995,     0.95095,     0.95195,     0.95295,     0.95395,     0.95495,     0.95596,     0.95696,     0.95796,     0.95896,     0.95996,\n",
            "           0.96096,     0.96196,     0.96296,     0.96396,     0.96496,     0.96597,     0.96697,     0.96797,     0.96897,     0.96997,     0.97097,     0.97197,     0.97297,     0.97397,     0.97497,     0.97598,     0.97698,     0.97798,     0.97898,     0.97998,     0.98098,     0.98198,     0.98298,     0.98398,\n",
            "           0.98498,     0.98599,     0.98699,     0.98799,     0.98899,     0.98999,     0.99099,     0.99199,     0.99299,     0.99399,     0.99499,       0.996,       0.997,       0.998,       0.999,           1]), array([[          1,           1,           1,           1,           1,           1,           1,           1,           1,           1,      0.9932,      0.9932,      0.9932,     0.99147,     0.98639,     0.98639,     0.98639,     0.98639,     0.98639,     0.98639,     0.98639,     0.98639,     0.98639,\n",
            "            0.98639,     0.98639,     0.98639,     0.98639,     0.98639,     0.98639,     0.98639,     0.98639,     0.98639,     0.98639,     0.98639,     0.97959,     0.97959,     0.97959,     0.97959,     0.97959,     0.97959,     0.97959,     0.97959,     0.97959,     0.97959,     0.97959,     0.97959,\n",
            "            0.97959,     0.97959,     0.97959,     0.97959,     0.97959,     0.97959,     0.97959,     0.97959,     0.97959,     0.97959,     0.97959,     0.97959,     0.97959,     0.97959,     0.97959,     0.97959,     0.97959,     0.97959,     0.97959,     0.97959,     0.97959,     0.97959,     0.97959,\n",
            "            0.97959,     0.97959,     0.97959,     0.97959,     0.97959,     0.97959,     0.97959,     0.97959,     0.97959,     0.97959,     0.97959,     0.97959,     0.97959,     0.97959,     0.97959,     0.97959,     0.97959,     0.97959,     0.97959,     0.97959,     0.97959,     0.97959,     0.97959,\n",
            "            0.97959,     0.97959,     0.97959,     0.97959,     0.97959,     0.97866,     0.97694,     0.97523,     0.97351,     0.97279,     0.97279,     0.97279,     0.97279,     0.97279,     0.97201,     0.97108,     0.97015,     0.96923,      0.9683,     0.96738,     0.96645,     0.96599,     0.96599,\n",
            "            0.96599,     0.96599,     0.96599,     0.96599,     0.96599,     0.96599,     0.96599,     0.96599,     0.96599,     0.96599,     0.96599,     0.96599,     0.96599,     0.96599,     0.96599,     0.96444,     0.96151,     0.95898,     0.95798,     0.95698,     0.95598,     0.95498,     0.95398,\n",
            "            0.95298,     0.95238,     0.95238,     0.95238,     0.95238,     0.95238,     0.95238,     0.95238,     0.95238,     0.95238,     0.95238,     0.95238,     0.95238,     0.95238,     0.95238,     0.95238,     0.95238,     0.95238,     0.95238,     0.95238,     0.95238,     0.95238,     0.95238,\n",
            "            0.95238,     0.95238,     0.95238,     0.95238,     0.95238,     0.95238,     0.95238,     0.95238,     0.95238,     0.95238,     0.95238,     0.95238,     0.95238,     0.95238,     0.95238,     0.95238,     0.95238,     0.95238,     0.95238,     0.95238,     0.95238,     0.95238,     0.95238,\n",
            "            0.95238,     0.95238,     0.95238,     0.95238,     0.95238,     0.95238,     0.95238,     0.95238,     0.95238,     0.95238,     0.95238,     0.95238,     0.95238,     0.95238,     0.95238,     0.95238,     0.95238,     0.95238,     0.95238,     0.95238,     0.95238,     0.95238,     0.95238,\n",
            "            0.95238,     0.95238,     0.95238,     0.95238,     0.95238,     0.95238,     0.95238,     0.95238,     0.95238,     0.95238,     0.95238,     0.95238,     0.95238,     0.95238,     0.95238,     0.95238,     0.95238,     0.95238,     0.95238,     0.95238,     0.95238,     0.95238,     0.95238,\n",
            "            0.95238,     0.95238,     0.95238,     0.95238,     0.95238,     0.95238,     0.95238,     0.95238,     0.95238,     0.95238,     0.95238,     0.95238,     0.95238,     0.95238,     0.95238,     0.95238,     0.95238,     0.95238,     0.95238,     0.95238,     0.95238,     0.95238,     0.95238,\n",
            "            0.95238,     0.95238,     0.95238,     0.95238,     0.95238,     0.95238,     0.95238,     0.95238,     0.95238,     0.95238,     0.95238,     0.95238,     0.95238,     0.95238,     0.95238,     0.95238,     0.95238,     0.95238,     0.95238,     0.95238,     0.95238,     0.95238,     0.95238,\n",
            "            0.95238,     0.95238,     0.95238,     0.95238,     0.95238,     0.95238,     0.95238,     0.95238,     0.95238,     0.95238,     0.95238,     0.95238,     0.95238,     0.95238,     0.95238,     0.95238,     0.95238,     0.95238,     0.95238,     0.95238,     0.95238,     0.95238,     0.95238,\n",
            "            0.95238,     0.95238,     0.95238,     0.95238,     0.95238,     0.95154,     0.94995,     0.94836,     0.94678,     0.94558,     0.94558,     0.94558,     0.94558,     0.94558,      0.9448,     0.94293,     0.94106,     0.93919,     0.93878,     0.93878,     0.93878,     0.93878,     0.93878,\n",
            "            0.93878,     0.93878,     0.93878,       0.936,     0.93197,     0.93197,     0.93197,     0.93197,     0.93197,     0.93197,     0.93197,     0.93197,     0.93197,     0.93197,     0.93197,     0.93197,     0.93197,     0.93197,     0.93197,     0.93197,     0.93197,     0.93197,     0.93197,\n",
            "            0.93197,     0.93197,     0.93197,     0.93197,     0.93197,     0.93135,     0.93063,      0.9299,     0.92918,     0.92845,     0.92773,       0.927,     0.92627,     0.92555,     0.92517,     0.92517,     0.92517,     0.92517,     0.92517,     0.92517,     0.92517,     0.92486,     0.92368,\n",
            "             0.9225,     0.92131,     0.92013,     0.91895,     0.91837,     0.91837,     0.91837,     0.91837,     0.91837,     0.91837,     0.91837,     0.91837,     0.91837,     0.91837,     0.91837,     0.91837,     0.91837,     0.91837,     0.91837,     0.91837,     0.91837,     0.91837,     0.91837,\n",
            "            0.91837,     0.91837,     0.91837,     0.91837,     0.91837,     0.91837,     0.91837,     0.91837,     0.91837,     0.91837,     0.91837,     0.91837,     0.91837,     0.91837,     0.91837,     0.91837,     0.91837,     0.91837,     0.91837,     0.91837,     0.91837,     0.91837,     0.91837,\n",
            "            0.91837,     0.91837,     0.91837,     0.91837,     0.91837,     0.91837,     0.91837,     0.91837,     0.91837,     0.91837,     0.91837,     0.91786,     0.91729,     0.91671,     0.91614,     0.91557,       0.915,     0.91442,     0.91385,     0.91328,      0.9127,     0.91213,     0.91156,\n",
            "            0.91156,     0.91156,     0.91156,     0.91035,     0.90718,     0.90476,     0.90476,     0.90476,     0.90476,     0.90476,     0.90476,     0.90476,     0.90476,     0.89778,      0.8973,     0.89681,     0.89633,     0.89585,     0.89537,     0.89489,     0.89441,     0.89392,     0.89344,\n",
            "            0.89296,     0.89248,       0.892,     0.89152,     0.89002,      0.8855,     0.88337,     0.88206,     0.88074,     0.87943,     0.87811,     0.87701,     0.87607,     0.87512,     0.87418,     0.87323,     0.87229,     0.87134,     0.87022,     0.86882,     0.86742,     0.86602,     0.86461,\n",
            "            0.86346,     0.86252,     0.86159,     0.86066,     0.85972,     0.85879,     0.85786,     0.85597,     0.85093,     0.84928,     0.84808,     0.84689,     0.84569,     0.84449,     0.84354,     0.84354,     0.84354,     0.84354,     0.84354,     0.84354,     0.84329,     0.84241,     0.84152,\n",
            "            0.84063,     0.83974,     0.83885,     0.83796,     0.83707,     0.83673,     0.83673,     0.83504,     0.83327,      0.8315,     0.82979,     0.82856,     0.82732,     0.82609,     0.82485,     0.82362,     0.82257,     0.82163,     0.82069,     0.81976,     0.81882,     0.81789,     0.81695,\n",
            "              0.809,     0.80675,      0.8045,     0.80255,     0.80171,     0.80087,     0.80003,      0.7992,     0.79836,     0.79752,     0.79669,     0.79592,     0.79592,     0.79592,     0.79592,     0.79592,     0.79592,     0.79451,     0.79207,     0.78964,     0.78912,     0.78912,     0.78844,\n",
            "            0.78646,     0.78448,      0.7825,     0.78231,     0.77872,     0.77473,     0.76871,     0.76871,     0.76788,     0.76669,      0.7655,      0.7643,     0.76311,     0.76191,      0.7619,     0.76118,     0.75953,     0.75788,     0.75623,     0.74966,      0.7483,      0.7483,      0.7483,\n",
            "             0.7483,      0.7483,      0.7483,      0.7483,      0.7483,     0.74774,     0.74228,     0.74092,     0.74025,     0.73958,      0.7389,     0.73823,     0.73756,     0.73689,     0.73621,     0.73554,     0.73487,     0.72746,      0.7245,     0.72155,     0.72109,     0.72109,     0.72109,\n",
            "            0.71907,     0.71428,     0.70725,     0.70452,     0.70178,     0.69972,     0.69811,      0.6965,      0.6949,     0.69311,     0.69101,     0.68891,     0.68687,     0.68519,     0.68352,     0.68185,     0.68021,     0.67913,     0.67804,     0.67695,     0.67586,     0.67477,     0.67368,\n",
            "            0.67259,     0.67151,     0.67042,     0.66933,     0.66825,     0.66716,     0.65967,     0.65728,      0.6549,     0.65233,     0.64913,     0.64309,     0.63758,     0.63545,     0.63331,     0.62329,     0.61753,     0.61289,     0.61023,     0.60788,     0.60554,     0.59921,     0.59063,\n",
            "            0.58835,     0.58607,     0.58427,     0.58288,     0.58148,     0.58008,     0.57869,      0.5715,     0.57058,     0.56973,     0.56888,     0.56803,     0.56717,     0.56632,     0.56547,     0.56461,     0.56315,     0.56168,     0.56022,     0.55876,       0.553,     0.54902,     0.54667,\n",
            "            0.54431,      0.5437,     0.54317,     0.54263,      0.5421,     0.54156,     0.54103,     0.54049,     0.53995,     0.53942,     0.53888,     0.53835,     0.53781,     0.53699,     0.53534,     0.53368,     0.53203,     0.53061,     0.53061,     0.53055,     0.53003,      0.5295,     0.52897,\n",
            "            0.52844,     0.52792,     0.52739,     0.52686,     0.52634,     0.52581,     0.52528,     0.52475,     0.52423,     0.52367,     0.52299,      0.5223,     0.52162,     0.52094,     0.52026,     0.51958,      0.5189,     0.51822,     0.51753,     0.51637,     0.51358,     0.51079,     0.50931,\n",
            "            0.50819,     0.50707,     0.50594,     0.50482,      0.5037,     0.48948,     0.48812,     0.48676,     0.48541,     0.48405,     0.48243,     0.47991,     0.47739,     0.47259,     0.46763,     0.46433,      0.4502,     0.43452,     0.43321,     0.43191,     0.43061,      0.4293,     0.42714,\n",
            "            0.42389,     0.42104,     0.41897,      0.4169,     0.41493,     0.41444,     0.41395,     0.41346,     0.41296,     0.41247,     0.41198,     0.41149,     0.41099,      0.4105,     0.41001,     0.40952,     0.40902,     0.40853,     0.40507,     0.39365,     0.39035,     0.38074,     0.37927,\n",
            "            0.37781,     0.37634,     0.37488,     0.36403,     0.35831,      0.3543,     0.34939,     0.34577,     0.34349,     0.34122,     0.33776,      0.3333,     0.33225,      0.3312,     0.33014,     0.32909,     0.32803,     0.32698,     0.32078,     0.31327,     0.30522,     0.30362,     0.30203,\n",
            "            0.30043,     0.29234,      0.2914,     0.29046,     0.28952,     0.28858,     0.28764,      0.2867,     0.28576,     0.27727,     0.27487,     0.27248,     0.26036,     0.25745,     0.25599,     0.25453,     0.25307,     0.25161,     0.25012,     0.24862,     0.24713,     0.24563,     0.23446,\n",
            "            0.22965,     0.22795,     0.22625,     0.22456,     0.21771,      0.2047,     0.20274,     0.20129,     0.19984,     0.19839,     0.19553,     0.18352,     0.18272,     0.18192,     0.18112,     0.18032,     0.17952,     0.17871,     0.17791,     0.17711,     0.17481,     0.17185,     0.16972,\n",
            "            0.16885,     0.16799,     0.16712,     0.16625,     0.16538,     0.16451,     0.16364,     0.16259,     0.16141,     0.16023,     0.15905,     0.15787,     0.15669,     0.14572,     0.13037,     0.12791,     0.12626,     0.12462,     0.12298,     0.12166,      0.1205,     0.11933,     0.11817,\n",
            "              0.117,     0.11584,      0.1129,     0.10962,     0.10392,    0.098074,    0.087833,    0.086574,    0.085315,    0.084056,    0.082797,    0.081405,    0.078357,     0.07531,    0.061182,    0.060849,    0.060516,    0.060183,     0.05985,    0.059517,    0.059184,    0.058851,    0.058518,\n",
            "           0.058185,    0.057852,    0.057518,    0.057185,    0.056852,    0.056519,    0.056186,    0.055853,     0.05552,    0.055187,    0.054854,    0.054521,    0.052359,     0.04942,    0.047372,    0.046734,    0.046096,    0.045458,    0.044821,    0.044183,    0.043545,    0.042907,    0.042269,\n",
            "           0.041632,    0.040994,    0.040157,    0.039243,    0.038329,    0.037415,    0.036501,    0.035587,    0.034673,    0.033172,    0.030151,    0.027196,    0.026641,    0.026086,    0.025531,    0.024976,    0.024421,    0.023866,    0.023311,    0.022756,    0.022201,    0.021646,    0.021091,\n",
            "           0.020536,    0.020068,    0.019625,    0.019182,     0.01874,    0.018297,    0.017854,    0.017412,    0.016969,    0.016527,    0.016084,    0.015641,    0.015199,    0.014756,    0.014313,    0.013871,    0.013437,    0.013018,    0.012598,    0.012178,    0.011758,    0.011339,    0.010919,\n",
            "           0.010499,    0.010079,   0.0096596,   0.0092399,   0.0088201,   0.0084004,   0.0079806,   0.0075609,   0.0071411,           0,           0,           0,           0,           0,           0,           0,           0,           0,           0,           0,           0,           0,           0,\n",
            "                  0,           0,           0,           0,           0,           0,           0,           0,           0,           0,           0,           0,           0,           0,           0,           0,           0,           0,           0,           0,           0,           0,           0,\n",
            "                  0,           0,           0,           0,           0,           0,           0,           0,           0,           0,           0]]), 'Confidence', 'Recall']]\n",
            "fitness: 0.5949334598511518\n",
            "keys: ['metrics/precision(B)', 'metrics/recall(B)', 'metrics/mAP50(B)', 'metrics/mAP50-95(B)']\n",
            "maps: array([    0.55438])\n",
            "names: {0: 'smoke'}\n",
            "plot: True\n",
            "results_dict: {'metrics/precision(B)': 0.9051679180529035, 'metrics/recall(B)': 0.9183673469387755, 'metrics/mAP50(B)': 0.9598773395536113, 'metrics/mAP50-95(B)': 0.5543841398842118, 'fitness': 0.5949334598511518}\n",
            "save_dir: PosixPath('runs/detect/val2')\n",
            "speed: {'preprocess': 0.8011723862213342, 'inference': 7.647441357982402, 'loss': 0.0008417635547871493, 'postprocess': 0.9571111121145236}\n",
            "task: 'detect'\n"
          ]
        }
      ]
    },
    {
      "cell_type": "code",
      "source": [
        "results = model.predict('/path/to/test/image.jpg', save=True)\n",
        "results.show()\n"
      ],
      "metadata": {
        "id": "pbUE8WvxPewu"
      },
      "execution_count": null,
      "outputs": []
    },
    {
      "cell_type": "code",
      "source": [
        "%cd /content/drive/MyDrive/WildfireSmoke.v1-raw.yolov8\n",
        "from ultralytics import YOLO\n",
        "\n",
        "model = YOLO('yolov8m.pt')\n",
        "\n",
        "layer_index = 0\n",
        "for param in model.parameters():\n",
        "    if layer_index == 1:\n",
        "        param.requires_grad = True\n",
        "    else:\n",
        "        param.requires_grad = False\n",
        "    layer_index += 1\n",
        "\n",
        "for layer in model.model.children():\n",
        "    for param in layer.parameters():\n",
        "        param.requires_grad = True\n",
        "\n",
        "model.train(\n",
        "    data='data.yaml',\n",
        "    epochs=20,\n",
        "    batch=16,\n",
        "    imgsz=640,\n",
        "    optimizer='Adam',\n",
        "    lr0=0.001,\n",
        "    weight_decay=0.0005\n",
        ")\n",
        "\n",
        "\n",
        "results = model.val()\n",
        "print(results)\n"
      ],
      "metadata": {
        "id": "2Ukg2CfyPetO",
        "outputId": "bf8a5895-0d15-4da2-da3c-9ffcf1a1c315",
        "colab": {
          "base_uri": "https://localhost:8080/"
        }
      },
      "execution_count": null,
      "outputs": [
        {
          "output_type": "stream",
          "name": "stdout",
          "text": [
            "/content/drive/MyDrive/WildfireSmoke.v1-raw.yolov8\n",
            "Downloading https://github.com/ultralytics/assets/releases/download/v8.2.0/yolov8m.pt to 'yolov8m.pt'...\n"
          ]
        },
        {
          "output_type": "stream",
          "name": "stderr",
          "text": [
            "100%|██████████| 49.7M/49.7M [00:00<00:00, 119MB/s]\n"
          ]
        },
        {
          "output_type": "stream",
          "name": "stdout",
          "text": [
            "Ultralytics YOLOv8.2.84 🚀 Python-3.10.12 torch-2.4.0+cu121 CUDA:0 (NVIDIA A100-SXM4-40GB, 40514MiB)\n",
            "\u001b[34m\u001b[1mengine/trainer: \u001b[0mtask=detect, mode=train, model=yolov8m.pt, data=data.yaml, epochs=20, time=None, patience=100, batch=16, imgsz=640, save=True, save_period=-1, cache=False, device=None, workers=8, project=None, name=train4, exist_ok=False, pretrained=True, optimizer=Adam, verbose=True, seed=0, deterministic=True, single_cls=False, rect=False, cos_lr=False, close_mosaic=10, resume=False, amp=True, fraction=1.0, profile=False, freeze=None, multi_scale=False, overlap_mask=True, mask_ratio=4, dropout=0.0, val=True, split=val, save_json=False, save_hybrid=False, conf=None, iou=0.7, max_det=300, half=False, dnn=False, plots=True, source=None, vid_stride=1, stream_buffer=False, visualize=False, augment=False, agnostic_nms=False, classes=None, retina_masks=False, embed=None, show=False, save_frames=False, save_txt=False, save_conf=False, save_crop=False, show_labels=True, show_conf=True, show_boxes=True, line_width=None, format=torchscript, keras=False, optimize=False, int8=False, dynamic=False, simplify=False, opset=None, workspace=4, nms=False, lr0=0.001, lrf=0.01, momentum=0.937, weight_decay=0.0005, warmup_epochs=3.0, warmup_momentum=0.8, warmup_bias_lr=0.1, box=7.5, cls=0.5, dfl=1.5, pose=12.0, kobj=1.0, label_smoothing=0.0, nbs=64, hsv_h=0.015, hsv_s=0.7, hsv_v=0.4, degrees=0.0, translate=0.1, scale=0.5, shear=0.0, perspective=0.0, flipud=0.0, fliplr=0.5, bgr=0.0, mosaic=1.0, mixup=0.0, copy_paste=0.0, auto_augment=randaugment, erasing=0.4, crop_fraction=1.0, cfg=None, tracker=botsort.yaml, save_dir=runs/detect/train4\n",
            "Overriding model.yaml nc=80 with nc=1\n",
            "\n",
            "                   from  n    params  module                                       arguments                     \n",
            "  0                  -1  1      1392  ultralytics.nn.modules.conv.Conv             [3, 48, 3, 2]                 \n",
            "  1                  -1  1     41664  ultralytics.nn.modules.conv.Conv             [48, 96, 3, 2]                \n",
            "  2                  -1  2    111360  ultralytics.nn.modules.block.C2f             [96, 96, 2, True]             \n",
            "  3                  -1  1    166272  ultralytics.nn.modules.conv.Conv             [96, 192, 3, 2]               \n",
            "  4                  -1  4    813312  ultralytics.nn.modules.block.C2f             [192, 192, 4, True]           \n",
            "  5                  -1  1    664320  ultralytics.nn.modules.conv.Conv             [192, 384, 3, 2]              \n",
            "  6                  -1  4   3248640  ultralytics.nn.modules.block.C2f             [384, 384, 4, True]           \n",
            "  7                  -1  1   1991808  ultralytics.nn.modules.conv.Conv             [384, 576, 3, 2]              \n",
            "  8                  -1  2   3985920  ultralytics.nn.modules.block.C2f             [576, 576, 2, True]           \n",
            "  9                  -1  1    831168  ultralytics.nn.modules.block.SPPF            [576, 576, 5]                 \n",
            " 10                  -1  1         0  torch.nn.modules.upsampling.Upsample         [None, 2, 'nearest']          \n",
            " 11             [-1, 6]  1         0  ultralytics.nn.modules.conv.Concat           [1]                           \n",
            " 12                  -1  2   1993728  ultralytics.nn.modules.block.C2f             [960, 384, 2]                 \n",
            " 13                  -1  1         0  torch.nn.modules.upsampling.Upsample         [None, 2, 'nearest']          \n",
            " 14             [-1, 4]  1         0  ultralytics.nn.modules.conv.Concat           [1]                           \n",
            " 15                  -1  2    517632  ultralytics.nn.modules.block.C2f             [576, 192, 2]                 \n",
            " 16                  -1  1    332160  ultralytics.nn.modules.conv.Conv             [192, 192, 3, 2]              \n",
            " 17            [-1, 12]  1         0  ultralytics.nn.modules.conv.Concat           [1]                           \n",
            " 18                  -1  2   1846272  ultralytics.nn.modules.block.C2f             [576, 384, 2]                 \n",
            " 19                  -1  1   1327872  ultralytics.nn.modules.conv.Conv             [384, 384, 3, 2]              \n",
            " 20             [-1, 9]  1         0  ultralytics.nn.modules.conv.Concat           [1]                           \n",
            " 21                  -1  2   4207104  ultralytics.nn.modules.block.C2f             [960, 576, 2]                 \n",
            " 22        [15, 18, 21]  1   3776275  ultralytics.nn.modules.head.Detect           [1, [192, 384, 576]]          \n",
            "Model summary: 295 layers, 25,856,899 parameters, 25,856,883 gradients, 79.1 GFLOPs\n",
            "\n",
            "Transferred 469/475 items from pretrained weights\n",
            "\u001b[34m\u001b[1mTensorBoard: \u001b[0mStart with 'tensorboard --logdir runs/detect/train4', view at http://localhost:6006/\n",
            "Freezing layer 'model.22.dfl.conv.weight'\n",
            "\u001b[34m\u001b[1mAMP: \u001b[0mrunning Automatic Mixed Precision (AMP) checks with YOLOv8n...\n",
            "\u001b[34m\u001b[1mAMP: \u001b[0mchecks passed ✅\n"
          ]
        },
        {
          "output_type": "stream",
          "name": "stderr",
          "text": [
            "\u001b[34m\u001b[1mtrain: \u001b[0mScanning /content/drive/MyDrive/WildfireSmoke.v1-raw.yolov8/train/labels.cache... 516 images, 0 backgrounds, 0 corrupt: 100%|██████████| 516/516 [00:00<?, ?it/s]"
          ]
        },
        {
          "output_type": "stream",
          "name": "stdout",
          "text": [
            "\u001b[34m\u001b[1malbumentations: \u001b[0mBlur(p=0.01, blur_limit=(3, 7)), MedianBlur(p=0.01, blur_limit=(3, 7)), ToGray(p=0.01), CLAHE(p=0.01, clip_limit=(1, 4.0), tile_grid_size=(8, 8))\n"
          ]
        },
        {
          "output_type": "stream",
          "name": "stderr",
          "text": [
            "\n",
            "/usr/lib/python3.10/multiprocessing/popen_fork.py:66: RuntimeWarning: os.fork() was called. os.fork() is incompatible with multithreaded code, and JAX is multithreaded, so this will likely lead to a deadlock.\n",
            "  self.pid = os.fork()\n",
            "\u001b[34m\u001b[1mval: \u001b[0mScanning /content/drive/MyDrive/WildfireSmoke.v1-raw.yolov8/valid/labels.cache... 147 images, 0 backgrounds, 0 corrupt: 100%|██████████| 147/147 [00:00<?, ?it/s]\n"
          ]
        },
        {
          "output_type": "stream",
          "name": "stdout",
          "text": [
            "Plotting labels to runs/detect/train4/labels.jpg... \n",
            "\u001b[34m\u001b[1moptimizer:\u001b[0m Adam(lr=0.001, momentum=0.937) with parameter groups 77 weight(decay=0.0), 84 weight(decay=0.0005), 83 bias(decay=0.0)\n",
            "\u001b[34m\u001b[1mTensorBoard: \u001b[0mmodel graph visualization added ✅\n",
            "Image sizes 640 train, 640 val\n",
            "Using 8 dataloader workers\n",
            "Logging results to \u001b[1mruns/detect/train4\u001b[0m\n",
            "Starting training for 20 epochs...\n",
            "\n",
            "      Epoch    GPU_mem   box_loss   cls_loss   dfl_loss  Instances       Size\n"
          ]
        },
        {
          "output_type": "stream",
          "name": "stderr",
          "text": [
            "       1/20      7.25G      2.152      2.987      1.867          6        640: 100%|██████████| 33/33 [00:06<00:00,  5.39it/s]\n",
            "                 Class     Images  Instances      Box(P          R      mAP50  mAP50-95): 100%|██████████| 5/5 [00:00<00:00,  6.48it/s]"
          ]
        },
        {
          "output_type": "stream",
          "name": "stdout",
          "text": [
            "                   all        147        147      0.351      0.177      0.151      0.042\n"
          ]
        },
        {
          "output_type": "stream",
          "name": "stderr",
          "text": [
            "\n"
          ]
        },
        {
          "output_type": "stream",
          "name": "stdout",
          "text": [
            "\n",
            "      Epoch    GPU_mem   box_loss   cls_loss   dfl_loss  Instances       Size\n"
          ]
        },
        {
          "output_type": "stream",
          "name": "stderr",
          "text": [
            "       2/20       7.1G      1.881      1.548      1.663          5        640: 100%|██████████| 33/33 [00:04<00:00,  7.40it/s]\n",
            "                 Class     Images  Instances      Box(P          R      mAP50  mAP50-95): 100%|██████████| 5/5 [00:00<00:00,  7.14it/s]"
          ]
        },
        {
          "output_type": "stream",
          "name": "stdout",
          "text": [
            "                   all        147        147      0.526      0.286      0.325      0.114\n"
          ]
        },
        {
          "output_type": "stream",
          "name": "stderr",
          "text": [
            "\n"
          ]
        },
        {
          "output_type": "stream",
          "name": "stdout",
          "text": [
            "\n",
            "      Epoch    GPU_mem   box_loss   cls_loss   dfl_loss  Instances       Size\n"
          ]
        },
        {
          "output_type": "stream",
          "name": "stderr",
          "text": [
            "       3/20      7.09G      1.842      1.455      1.635          5        640: 100%|██████████| 33/33 [00:04<00:00,  7.47it/s]\n",
            "                 Class     Images  Instances      Box(P          R      mAP50  mAP50-95): 100%|██████████| 5/5 [00:00<00:00,  6.45it/s]"
          ]
        },
        {
          "output_type": "stream",
          "name": "stdout",
          "text": [
            "                   all        147        147        0.4      0.395      0.264     0.0869\n"
          ]
        },
        {
          "output_type": "stream",
          "name": "stderr",
          "text": [
            "\n"
          ]
        },
        {
          "output_type": "stream",
          "name": "stdout",
          "text": [
            "\n",
            "      Epoch    GPU_mem   box_loss   cls_loss   dfl_loss  Instances       Size\n"
          ]
        },
        {
          "output_type": "stream",
          "name": "stderr",
          "text": [
            "       4/20      7.19G      1.787      1.425      1.627          5        640: 100%|██████████| 33/33 [00:04<00:00,  7.23it/s]\n",
            "                 Class     Images  Instances      Box(P          R      mAP50  mAP50-95): 100%|██████████| 5/5 [00:00<00:00,  6.40it/s]"
          ]
        },
        {
          "output_type": "stream",
          "name": "stdout",
          "text": [
            "                   all        147        147      0.462      0.456      0.389      0.132\n"
          ]
        },
        {
          "output_type": "stream",
          "name": "stderr",
          "text": [
            "\n"
          ]
        },
        {
          "output_type": "stream",
          "name": "stdout",
          "text": [
            "\n",
            "      Epoch    GPU_mem   box_loss   cls_loss   dfl_loss  Instances       Size\n"
          ]
        },
        {
          "output_type": "stream",
          "name": "stderr",
          "text": [
            "       5/20      7.08G      1.743      1.347      1.631          5        640: 100%|██████████| 33/33 [00:04<00:00,  7.61it/s]\n",
            "                 Class     Images  Instances      Box(P          R      mAP50  mAP50-95): 100%|██████████| 5/5 [00:00<00:00,  7.22it/s]"
          ]
        },
        {
          "output_type": "stream",
          "name": "stdout",
          "text": [
            "                   all        147        147      0.548      0.701      0.609      0.276\n"
          ]
        },
        {
          "output_type": "stream",
          "name": "stderr",
          "text": [
            "\n"
          ]
        },
        {
          "output_type": "stream",
          "name": "stdout",
          "text": [
            "\n",
            "      Epoch    GPU_mem   box_loss   cls_loss   dfl_loss  Instances       Size\n"
          ]
        },
        {
          "output_type": "stream",
          "name": "stderr",
          "text": [
            "       6/20       7.2G      1.684      1.311      1.594          7        640: 100%|██████████| 33/33 [00:04<00:00,  7.47it/s]\n",
            "                 Class     Images  Instances      Box(P          R      mAP50  mAP50-95): 100%|██████████| 5/5 [00:00<00:00,  6.79it/s]"
          ]
        },
        {
          "output_type": "stream",
          "name": "stdout",
          "text": [
            "                   all        147        147      0.509      0.585      0.533       0.23\n"
          ]
        },
        {
          "output_type": "stream",
          "name": "stderr",
          "text": [
            "\n"
          ]
        },
        {
          "output_type": "stream",
          "name": "stdout",
          "text": [
            "\n",
            "      Epoch    GPU_mem   box_loss   cls_loss   dfl_loss  Instances       Size\n"
          ]
        },
        {
          "output_type": "stream",
          "name": "stderr",
          "text": [
            "       7/20       7.2G      1.676       1.24      1.549          7        640: 100%|██████████| 33/33 [00:04<00:00,  7.37it/s]\n",
            "                 Class     Images  Instances      Box(P          R      mAP50  mAP50-95): 100%|██████████| 5/5 [00:00<00:00,  6.76it/s]"
          ]
        },
        {
          "output_type": "stream",
          "name": "stdout",
          "text": [
            "                   all        147        147      0.728      0.528      0.632      0.286\n"
          ]
        },
        {
          "output_type": "stream",
          "name": "stderr",
          "text": [
            "\n"
          ]
        },
        {
          "output_type": "stream",
          "name": "stdout",
          "text": [
            "\n",
            "      Epoch    GPU_mem   box_loss   cls_loss   dfl_loss  Instances       Size\n"
          ]
        },
        {
          "output_type": "stream",
          "name": "stderr",
          "text": [
            "       8/20      7.18G      1.623      1.226      1.511         12        640: 100%|██████████| 33/33 [00:04<00:00,  7.51it/s]\n",
            "                 Class     Images  Instances      Box(P          R      mAP50  mAP50-95): 100%|██████████| 5/5 [00:00<00:00,  7.08it/s]"
          ]
        },
        {
          "output_type": "stream",
          "name": "stdout",
          "text": [
            "                   all        147        147      0.635      0.456      0.558      0.249\n"
          ]
        },
        {
          "output_type": "stream",
          "name": "stderr",
          "text": [
            "\n"
          ]
        },
        {
          "output_type": "stream",
          "name": "stdout",
          "text": [
            "\n",
            "      Epoch    GPU_mem   box_loss   cls_loss   dfl_loss  Instances       Size\n"
          ]
        },
        {
          "output_type": "stream",
          "name": "stderr",
          "text": [
            "       9/20      7.09G      1.654      1.205      1.561         11        640: 100%|██████████| 33/33 [00:04<00:00,  7.51it/s]\n",
            "                 Class     Images  Instances      Box(P          R      mAP50  mAP50-95): 100%|██████████| 5/5 [00:00<00:00,  7.08it/s]"
          ]
        },
        {
          "output_type": "stream",
          "name": "stdout",
          "text": [
            "                   all        147        147      0.658      0.619      0.646      0.327\n"
          ]
        },
        {
          "output_type": "stream",
          "name": "stderr",
          "text": [
            "\n"
          ]
        },
        {
          "output_type": "stream",
          "name": "stdout",
          "text": [
            "\n",
            "      Epoch    GPU_mem   box_loss   cls_loss   dfl_loss  Instances       Size\n"
          ]
        },
        {
          "output_type": "stream",
          "name": "stderr",
          "text": [
            "      10/20      7.21G      1.513      1.143      1.461          8        640: 100%|██████████| 33/33 [00:04<00:00,  7.42it/s]\n",
            "                 Class     Images  Instances      Box(P          R      mAP50  mAP50-95): 100%|██████████| 5/5 [00:00<00:00,  6.62it/s]"
          ]
        },
        {
          "output_type": "stream",
          "name": "stdout",
          "text": [
            "                   all        147        147       0.61      0.673      0.666      0.336\n"
          ]
        },
        {
          "output_type": "stream",
          "name": "stderr",
          "text": [
            "\n"
          ]
        },
        {
          "output_type": "stream",
          "name": "stdout",
          "text": [
            "Closing dataloader mosaic\n",
            "\u001b[34m\u001b[1malbumentations: \u001b[0mBlur(p=0.01, blur_limit=(3, 7)), MedianBlur(p=0.01, blur_limit=(3, 7)), ToGray(p=0.01), CLAHE(p=0.01, clip_limit=(1, 4.0), tile_grid_size=(8, 8))\n"
          ]
        },
        {
          "output_type": "stream",
          "name": "stderr",
          "text": [
            "/usr/lib/python3.10/multiprocessing/popen_fork.py:66: RuntimeWarning: os.fork() was called. os.fork() is incompatible with multithreaded code, and JAX is multithreaded, so this will likely lead to a deadlock.\n",
            "  self.pid = os.fork()\n"
          ]
        },
        {
          "output_type": "stream",
          "name": "stdout",
          "text": [
            "\n",
            "      Epoch    GPU_mem   box_loss   cls_loss   dfl_loss  Instances       Size\n"
          ]
        },
        {
          "output_type": "stream",
          "name": "stderr",
          "text": [
            "      11/20      7.17G      1.608      1.113      1.507          4        640: 100%|██████████| 33/33 [00:05<00:00,  5.69it/s]\n",
            "                 Class     Images  Instances      Box(P          R      mAP50  mAP50-95): 100%|██████████| 5/5 [00:00<00:00,  7.12it/s]"
          ]
        },
        {
          "output_type": "stream",
          "name": "stdout",
          "text": [
            "                   all        147        147      0.771      0.709      0.789      0.407\n"
          ]
        },
        {
          "output_type": "stream",
          "name": "stderr",
          "text": [
            "\n"
          ]
        },
        {
          "output_type": "stream",
          "name": "stdout",
          "text": [
            "\n",
            "      Epoch    GPU_mem   box_loss   cls_loss   dfl_loss  Instances       Size\n"
          ]
        },
        {
          "output_type": "stream",
          "name": "stderr",
          "text": [
            "      12/20      7.19G      1.502      1.058      1.491          4        640: 100%|██████████| 33/33 [00:04<00:00,  7.66it/s]\n",
            "                 Class     Images  Instances      Box(P          R      mAP50  mAP50-95): 100%|██████████| 5/5 [00:00<00:00,  6.90it/s]"
          ]
        },
        {
          "output_type": "stream",
          "name": "stdout",
          "text": [
            "                   all        147        147      0.794      0.841      0.851      0.433\n"
          ]
        },
        {
          "output_type": "stream",
          "name": "stderr",
          "text": [
            "\n"
          ]
        },
        {
          "output_type": "stream",
          "name": "stdout",
          "text": [
            "\n",
            "      Epoch    GPU_mem   box_loss   cls_loss   dfl_loss  Instances       Size\n"
          ]
        },
        {
          "output_type": "stream",
          "name": "stderr",
          "text": [
            "      13/20      7.08G      1.531      1.018      1.482          4        640: 100%|██████████| 33/33 [00:04<00:00,  7.48it/s]\n",
            "                 Class     Images  Instances      Box(P          R      mAP50  mAP50-95): 100%|██████████| 5/5 [00:00<00:00,  6.72it/s]"
          ]
        },
        {
          "output_type": "stream",
          "name": "stdout",
          "text": [
            "                   all        147        147      0.806      0.816      0.844      0.449\n"
          ]
        },
        {
          "output_type": "stream",
          "name": "stderr",
          "text": [
            "\n"
          ]
        },
        {
          "output_type": "stream",
          "name": "stdout",
          "text": [
            "\n",
            "      Epoch    GPU_mem   box_loss   cls_loss   dfl_loss  Instances       Size\n"
          ]
        },
        {
          "output_type": "stream",
          "name": "stderr",
          "text": [
            "      14/20      7.18G      1.521     0.9687      1.479          4        640: 100%|██████████| 33/33 [00:04<00:00,  7.59it/s]\n",
            "                 Class     Images  Instances      Box(P          R      mAP50  mAP50-95): 100%|██████████| 5/5 [00:00<00:00,  6.85it/s]"
          ]
        },
        {
          "output_type": "stream",
          "name": "stdout",
          "text": [
            "                   all        147        147      0.778      0.789      0.824      0.445\n"
          ]
        },
        {
          "output_type": "stream",
          "name": "stderr",
          "text": [
            "\n"
          ]
        },
        {
          "output_type": "stream",
          "name": "stdout",
          "text": [
            "\n",
            "      Epoch    GPU_mem   box_loss   cls_loss   dfl_loss  Instances       Size\n"
          ]
        },
        {
          "output_type": "stream",
          "name": "stderr",
          "text": [
            "      15/20       7.2G      1.456     0.9667      1.466          4        640: 100%|██████████| 33/33 [00:04<00:00,  7.55it/s]\n",
            "                 Class     Images  Instances      Box(P          R      mAP50  mAP50-95): 100%|██████████| 5/5 [00:00<00:00,  6.92it/s]"
          ]
        },
        {
          "output_type": "stream",
          "name": "stdout",
          "text": [
            "                   all        147        147      0.739      0.769      0.807      0.408\n"
          ]
        },
        {
          "output_type": "stream",
          "name": "stderr",
          "text": [
            "\n"
          ]
        },
        {
          "output_type": "stream",
          "name": "stdout",
          "text": [
            "\n",
            "      Epoch    GPU_mem   box_loss   cls_loss   dfl_loss  Instances       Size\n"
          ]
        },
        {
          "output_type": "stream",
          "name": "stderr",
          "text": [
            "      16/20      7.19G       1.45     0.9601      1.426          4        640: 100%|██████████| 33/33 [00:04<00:00,  7.51it/s]\n",
            "                 Class     Images  Instances      Box(P          R      mAP50  mAP50-95): 100%|██████████| 5/5 [00:00<00:00,  6.70it/s]"
          ]
        },
        {
          "output_type": "stream",
          "name": "stdout",
          "text": [
            "                   all        147        147      0.802      0.828      0.851      0.471\n"
          ]
        },
        {
          "output_type": "stream",
          "name": "stderr",
          "text": [
            "\n"
          ]
        },
        {
          "output_type": "stream",
          "name": "stdout",
          "text": [
            "\n",
            "      Epoch    GPU_mem   box_loss   cls_loss   dfl_loss  Instances       Size\n"
          ]
        },
        {
          "output_type": "stream",
          "name": "stderr",
          "text": [
            "      17/20      7.09G      1.428     0.9194      1.411          4        640: 100%|██████████| 33/33 [00:04<00:00,  7.47it/s]\n",
            "                 Class     Images  Instances      Box(P          R      mAP50  mAP50-95): 100%|██████████| 5/5 [00:00<00:00,  7.26it/s]"
          ]
        },
        {
          "output_type": "stream",
          "name": "stdout",
          "text": [
            "                   all        147        147      0.803      0.857      0.857       0.49\n"
          ]
        },
        {
          "output_type": "stream",
          "name": "stderr",
          "text": [
            "\n"
          ]
        },
        {
          "output_type": "stream",
          "name": "stdout",
          "text": [
            "\n",
            "      Epoch    GPU_mem   box_loss   cls_loss   dfl_loss  Instances       Size\n"
          ]
        },
        {
          "output_type": "stream",
          "name": "stderr",
          "text": [
            "      18/20      7.18G      1.381     0.8611      1.419          4        640: 100%|██████████| 33/33 [00:04<00:00,  7.66it/s]\n",
            "                 Class     Images  Instances      Box(P          R      mAP50  mAP50-95): 100%|██████████| 5/5 [00:00<00:00,  7.10it/s]"
          ]
        },
        {
          "output_type": "stream",
          "name": "stdout",
          "text": [
            "                   all        147        147      0.845      0.823      0.896      0.495\n"
          ]
        },
        {
          "output_type": "stream",
          "name": "stderr",
          "text": [
            "\n"
          ]
        },
        {
          "output_type": "stream",
          "name": "stdout",
          "text": [
            "\n",
            "      Epoch    GPU_mem   box_loss   cls_loss   dfl_loss  Instances       Size\n"
          ]
        },
        {
          "output_type": "stream",
          "name": "stderr",
          "text": [
            "      19/20      7.19G      1.324     0.7946      1.359          4        640: 100%|██████████| 33/33 [00:04<00:00,  7.70it/s]\n",
            "                 Class     Images  Instances      Box(P          R      mAP50  mAP50-95): 100%|██████████| 5/5 [00:00<00:00,  6.77it/s]"
          ]
        },
        {
          "output_type": "stream",
          "name": "stdout",
          "text": [
            "                   all        147        147        0.8      0.857       0.89      0.504\n"
          ]
        },
        {
          "output_type": "stream",
          "name": "stderr",
          "text": [
            "\n"
          ]
        },
        {
          "output_type": "stream",
          "name": "stdout",
          "text": [
            "\n",
            "      Epoch    GPU_mem   box_loss   cls_loss   dfl_loss  Instances       Size\n"
          ]
        },
        {
          "output_type": "stream",
          "name": "stderr",
          "text": [
            "      20/20      7.18G      1.275      0.768      1.315          4        640: 100%|██████████| 33/33 [00:04<00:00,  7.46it/s]\n",
            "                 Class     Images  Instances      Box(P          R      mAP50  mAP50-95): 100%|██████████| 5/5 [00:00<00:00,  6.96it/s]"
          ]
        },
        {
          "output_type": "stream",
          "name": "stdout",
          "text": [
            "                   all        147        147      0.806      0.891      0.901      0.511\n"
          ]
        },
        {
          "output_type": "stream",
          "name": "stderr",
          "text": [
            "\n"
          ]
        },
        {
          "output_type": "stream",
          "name": "stdout",
          "text": [
            "\n",
            "20 epochs completed in 0.050 hours.\n",
            "Optimizer stripped from runs/detect/train4/weights/last.pt, 52.0MB\n",
            "Optimizer stripped from runs/detect/train4/weights/best.pt, 52.0MB\n",
            "\n",
            "Validating runs/detect/train4/weights/best.pt...\n",
            "Ultralytics YOLOv8.2.84 🚀 Python-3.10.12 torch-2.4.0+cu121 CUDA:0 (NVIDIA A100-SXM4-40GB, 40514MiB)\n",
            "Model summary (fused): 218 layers, 25,840,339 parameters, 0 gradients, 78.7 GFLOPs\n"
          ]
        },
        {
          "output_type": "stream",
          "name": "stderr",
          "text": [
            "                 Class     Images  Instances      Box(P          R      mAP50  mAP50-95): 100%|██████████| 5/5 [00:02<00:00,  2.28it/s]\n"
          ]
        },
        {
          "output_type": "stream",
          "name": "stdout",
          "text": [
            "                   all        147        147      0.806      0.891      0.901      0.511\n",
            "Speed: 0.1ms preprocess, 1.3ms inference, 0.0ms loss, 10.6ms postprocess per image\n",
            "Results saved to \u001b[1mruns/detect/train4\u001b[0m\n",
            "Ultralytics YOLOv8.2.84 🚀 Python-3.10.12 torch-2.4.0+cu121 CUDA:0 (NVIDIA A100-SXM4-40GB, 40514MiB)\n",
            "Model summary (fused): 218 layers, 25,840,339 parameters, 0 gradients, 78.7 GFLOPs\n"
          ]
        },
        {
          "output_type": "stream",
          "name": "stderr",
          "text": [
            "\u001b[34m\u001b[1mval: \u001b[0mScanning /content/drive/MyDrive/WildfireSmoke.v1-raw.yolov8/valid/labels.cache... 147 images, 0 backgrounds, 0 corrupt: 100%|██████████| 147/147 [00:00<?, ?it/s]\n",
            "/usr/lib/python3.10/multiprocessing/popen_fork.py:66: RuntimeWarning: os.fork() was called. os.fork() is incompatible with multithreaded code, and JAX is multithreaded, so this will likely lead to a deadlock.\n",
            "  self.pid = os.fork()\n",
            "                 Class     Images  Instances      Box(P          R      mAP50  mAP50-95): 100%|██████████| 10/10 [00:02<00:00,  3.42it/s]\n"
          ]
        },
        {
          "output_type": "stream",
          "name": "stdout",
          "text": [
            "                   all        147        147      0.806      0.891      0.901      0.513\n",
            "Speed: 0.5ms preprocess, 6.1ms inference, 0.0ms loss, 2.9ms postprocess per image\n",
            "Results saved to \u001b[1mruns/detect/train42\u001b[0m\n",
            "ultralytics.utils.metrics.DetMetrics object with attributes:\n",
            "\n",
            "ap_class_index: array([0])\n",
            "box: ultralytics.utils.metrics.Metric object\n",
            "confusion_matrix: <ultralytics.utils.metrics.ConfusionMatrix object at 0x78e6935dfa30>\n",
            "curves: ['Precision-Recall(B)', 'F1-Confidence(B)', 'Precision-Confidence(B)', 'Recall-Confidence(B)']\n",
            "curves_results: [[array([          0,    0.001001,    0.002002,    0.003003,    0.004004,    0.005005,    0.006006,    0.007007,    0.008008,    0.009009,     0.01001,    0.011011,    0.012012,    0.013013,    0.014014,    0.015015,    0.016016,    0.017017,    0.018018,    0.019019,     0.02002,    0.021021,    0.022022,    0.023023,\n",
            "          0.024024,    0.025025,    0.026026,    0.027027,    0.028028,    0.029029,     0.03003,    0.031031,    0.032032,    0.033033,    0.034034,    0.035035,    0.036036,    0.037037,    0.038038,    0.039039,     0.04004,    0.041041,    0.042042,    0.043043,    0.044044,    0.045045,    0.046046,    0.047047,\n",
            "          0.048048,    0.049049,     0.05005,    0.051051,    0.052052,    0.053053,    0.054054,    0.055055,    0.056056,    0.057057,    0.058058,    0.059059,     0.06006,    0.061061,    0.062062,    0.063063,    0.064064,    0.065065,    0.066066,    0.067067,    0.068068,    0.069069,     0.07007,    0.071071,\n",
            "          0.072072,    0.073073,    0.074074,    0.075075,    0.076076,    0.077077,    0.078078,    0.079079,     0.08008,    0.081081,    0.082082,    0.083083,    0.084084,    0.085085,    0.086086,    0.087087,    0.088088,    0.089089,     0.09009,    0.091091,    0.092092,    0.093093,    0.094094,    0.095095,\n",
            "          0.096096,    0.097097,    0.098098,    0.099099,      0.1001,      0.1011,      0.1021,      0.1031,      0.1041,     0.10511,     0.10611,     0.10711,     0.10811,     0.10911,     0.11011,     0.11111,     0.11211,     0.11311,     0.11411,     0.11512,     0.11612,     0.11712,     0.11812,     0.11912,\n",
            "           0.12012,     0.12112,     0.12212,     0.12312,     0.12412,     0.12513,     0.12613,     0.12713,     0.12813,     0.12913,     0.13013,     0.13113,     0.13213,     0.13313,     0.13413,     0.13514,     0.13614,     0.13714,     0.13814,     0.13914,     0.14014,     0.14114,     0.14214,     0.14314,\n",
            "           0.14414,     0.14515,     0.14615,     0.14715,     0.14815,     0.14915,     0.15015,     0.15115,     0.15215,     0.15315,     0.15415,     0.15516,     0.15616,     0.15716,     0.15816,     0.15916,     0.16016,     0.16116,     0.16216,     0.16316,     0.16416,     0.16517,     0.16617,     0.16717,\n",
            "           0.16817,     0.16917,     0.17017,     0.17117,     0.17217,     0.17317,     0.17417,     0.17518,     0.17618,     0.17718,     0.17818,     0.17918,     0.18018,     0.18118,     0.18218,     0.18318,     0.18418,     0.18519,     0.18619,     0.18719,     0.18819,     0.18919,     0.19019,     0.19119,\n",
            "           0.19219,     0.19319,     0.19419,      0.1952,      0.1962,      0.1972,      0.1982,      0.1992,      0.2002,      0.2012,      0.2022,      0.2032,      0.2042,     0.20521,     0.20621,     0.20721,     0.20821,     0.20921,     0.21021,     0.21121,     0.21221,     0.21321,     0.21421,     0.21522,\n",
            "           0.21622,     0.21722,     0.21822,     0.21922,     0.22022,     0.22122,     0.22222,     0.22322,     0.22422,     0.22523,     0.22623,     0.22723,     0.22823,     0.22923,     0.23023,     0.23123,     0.23223,     0.23323,     0.23423,     0.23524,     0.23624,     0.23724,     0.23824,     0.23924,\n",
            "           0.24024,     0.24124,     0.24224,     0.24324,     0.24424,     0.24525,     0.24625,     0.24725,     0.24825,     0.24925,     0.25025,     0.25125,     0.25225,     0.25325,     0.25425,     0.25526,     0.25626,     0.25726,     0.25826,     0.25926,     0.26026,     0.26126,     0.26226,     0.26326,\n",
            "           0.26426,     0.26527,     0.26627,     0.26727,     0.26827,     0.26927,     0.27027,     0.27127,     0.27227,     0.27327,     0.27427,     0.27528,     0.27628,     0.27728,     0.27828,     0.27928,     0.28028,     0.28128,     0.28228,     0.28328,     0.28428,     0.28529,     0.28629,     0.28729,\n",
            "           0.28829,     0.28929,     0.29029,     0.29129,     0.29229,     0.29329,     0.29429,      0.2953,      0.2963,      0.2973,      0.2983,      0.2993,      0.3003,      0.3013,      0.3023,      0.3033,      0.3043,     0.30531,     0.30631,     0.30731,     0.30831,     0.30931,     0.31031,     0.31131,\n",
            "           0.31231,     0.31331,     0.31431,     0.31532,     0.31632,     0.31732,     0.31832,     0.31932,     0.32032,     0.32132,     0.32232,     0.32332,     0.32432,     0.32533,     0.32633,     0.32733,     0.32833,     0.32933,     0.33033,     0.33133,     0.33233,     0.33333,     0.33433,     0.33534,\n",
            "           0.33634,     0.33734,     0.33834,     0.33934,     0.34034,     0.34134,     0.34234,     0.34334,     0.34434,     0.34535,     0.34635,     0.34735,     0.34835,     0.34935,     0.35035,     0.35135,     0.35235,     0.35335,     0.35435,     0.35536,     0.35636,     0.35736,     0.35836,     0.35936,\n",
            "           0.36036,     0.36136,     0.36236,     0.36336,     0.36436,     0.36537,     0.36637,     0.36737,     0.36837,     0.36937,     0.37037,     0.37137,     0.37237,     0.37337,     0.37437,     0.37538,     0.37638,     0.37738,     0.37838,     0.37938,     0.38038,     0.38138,     0.38238,     0.38338,\n",
            "           0.38438,     0.38539,     0.38639,     0.38739,     0.38839,     0.38939,     0.39039,     0.39139,     0.39239,     0.39339,     0.39439,      0.3954,      0.3964,      0.3974,      0.3984,      0.3994,      0.4004,      0.4014,      0.4024,      0.4034,      0.4044,     0.40541,     0.40641,     0.40741,\n",
            "           0.40841,     0.40941,     0.41041,     0.41141,     0.41241,     0.41341,     0.41441,     0.41542,     0.41642,     0.41742,     0.41842,     0.41942,     0.42042,     0.42142,     0.42242,     0.42342,     0.42442,     0.42543,     0.42643,     0.42743,     0.42843,     0.42943,     0.43043,     0.43143,\n",
            "           0.43243,     0.43343,     0.43443,     0.43544,     0.43644,     0.43744,     0.43844,     0.43944,     0.44044,     0.44144,     0.44244,     0.44344,     0.44444,     0.44545,     0.44645,     0.44745,     0.44845,     0.44945,     0.45045,     0.45145,     0.45245,     0.45345,     0.45445,     0.45546,\n",
            "           0.45646,     0.45746,     0.45846,     0.45946,     0.46046,     0.46146,     0.46246,     0.46346,     0.46446,     0.46547,     0.46647,     0.46747,     0.46847,     0.46947,     0.47047,     0.47147,     0.47247,     0.47347,     0.47447,     0.47548,     0.47648,     0.47748,     0.47848,     0.47948,\n",
            "           0.48048,     0.48148,     0.48248,     0.48348,     0.48448,     0.48549,     0.48649,     0.48749,     0.48849,     0.48949,     0.49049,     0.49149,     0.49249,     0.49349,     0.49449,      0.4955,      0.4965,      0.4975,      0.4985,      0.4995,      0.5005,      0.5015,      0.5025,      0.5035,\n",
            "            0.5045,     0.50551,     0.50651,     0.50751,     0.50851,     0.50951,     0.51051,     0.51151,     0.51251,     0.51351,     0.51451,     0.51552,     0.51652,     0.51752,     0.51852,     0.51952,     0.52052,     0.52152,     0.52252,     0.52352,     0.52452,     0.52553,     0.52653,     0.52753,\n",
            "           0.52853,     0.52953,     0.53053,     0.53153,     0.53253,     0.53353,     0.53453,     0.53554,     0.53654,     0.53754,     0.53854,     0.53954,     0.54054,     0.54154,     0.54254,     0.54354,     0.54454,     0.54555,     0.54655,     0.54755,     0.54855,     0.54955,     0.55055,     0.55155,\n",
            "           0.55255,     0.55355,     0.55455,     0.55556,     0.55656,     0.55756,     0.55856,     0.55956,     0.56056,     0.56156,     0.56256,     0.56356,     0.56456,     0.56557,     0.56657,     0.56757,     0.56857,     0.56957,     0.57057,     0.57157,     0.57257,     0.57357,     0.57457,     0.57558,\n",
            "           0.57658,     0.57758,     0.57858,     0.57958,     0.58058,     0.58158,     0.58258,     0.58358,     0.58458,     0.58559,     0.58659,     0.58759,     0.58859,     0.58959,     0.59059,     0.59159,     0.59259,     0.59359,     0.59459,      0.5956,      0.5966,      0.5976,      0.5986,      0.5996,\n",
            "            0.6006,      0.6016,      0.6026,      0.6036,      0.6046,     0.60561,     0.60661,     0.60761,     0.60861,     0.60961,     0.61061,     0.61161,     0.61261,     0.61361,     0.61461,     0.61562,     0.61662,     0.61762,     0.61862,     0.61962,     0.62062,     0.62162,     0.62262,     0.62362,\n",
            "           0.62462,     0.62563,     0.62663,     0.62763,     0.62863,     0.62963,     0.63063,     0.63163,     0.63263,     0.63363,     0.63463,     0.63564,     0.63664,     0.63764,     0.63864,     0.63964,     0.64064,     0.64164,     0.64264,     0.64364,     0.64464,     0.64565,     0.64665,     0.64765,\n",
            "           0.64865,     0.64965,     0.65065,     0.65165,     0.65265,     0.65365,     0.65465,     0.65566,     0.65666,     0.65766,     0.65866,     0.65966,     0.66066,     0.66166,     0.66266,     0.66366,     0.66466,     0.66567,     0.66667,     0.66767,     0.66867,     0.66967,     0.67067,     0.67167,\n",
            "           0.67267,     0.67367,     0.67467,     0.67568,     0.67668,     0.67768,     0.67868,     0.67968,     0.68068,     0.68168,     0.68268,     0.68368,     0.68468,     0.68569,     0.68669,     0.68769,     0.68869,     0.68969,     0.69069,     0.69169,     0.69269,     0.69369,     0.69469,      0.6957,\n",
            "            0.6967,      0.6977,      0.6987,      0.6997,      0.7007,      0.7017,      0.7027,      0.7037,      0.7047,     0.70571,     0.70671,     0.70771,     0.70871,     0.70971,     0.71071,     0.71171,     0.71271,     0.71371,     0.71471,     0.71572,     0.71672,     0.71772,     0.71872,     0.71972,\n",
            "           0.72072,     0.72172,     0.72272,     0.72372,     0.72472,     0.72573,     0.72673,     0.72773,     0.72873,     0.72973,     0.73073,     0.73173,     0.73273,     0.73373,     0.73473,     0.73574,     0.73674,     0.73774,     0.73874,     0.73974,     0.74074,     0.74174,     0.74274,     0.74374,\n",
            "           0.74474,     0.74575,     0.74675,     0.74775,     0.74875,     0.74975,     0.75075,     0.75175,     0.75275,     0.75375,     0.75475,     0.75576,     0.75676,     0.75776,     0.75876,     0.75976,     0.76076,     0.76176,     0.76276,     0.76376,     0.76476,     0.76577,     0.76677,     0.76777,\n",
            "           0.76877,     0.76977,     0.77077,     0.77177,     0.77277,     0.77377,     0.77477,     0.77578,     0.77678,     0.77778,     0.77878,     0.77978,     0.78078,     0.78178,     0.78278,     0.78378,     0.78478,     0.78579,     0.78679,     0.78779,     0.78879,     0.78979,     0.79079,     0.79179,\n",
            "           0.79279,     0.79379,     0.79479,      0.7958,      0.7968,      0.7978,      0.7988,      0.7998,      0.8008,      0.8018,      0.8028,      0.8038,      0.8048,     0.80581,     0.80681,     0.80781,     0.80881,     0.80981,     0.81081,     0.81181,     0.81281,     0.81381,     0.81481,     0.81582,\n",
            "           0.81682,     0.81782,     0.81882,     0.81982,     0.82082,     0.82182,     0.82282,     0.82382,     0.82482,     0.82583,     0.82683,     0.82783,     0.82883,     0.82983,     0.83083,     0.83183,     0.83283,     0.83383,     0.83483,     0.83584,     0.83684,     0.83784,     0.83884,     0.83984,\n",
            "           0.84084,     0.84184,     0.84284,     0.84384,     0.84484,     0.84585,     0.84685,     0.84785,     0.84885,     0.84985,     0.85085,     0.85185,     0.85285,     0.85385,     0.85485,     0.85586,     0.85686,     0.85786,     0.85886,     0.85986,     0.86086,     0.86186,     0.86286,     0.86386,\n",
            "           0.86486,     0.86587,     0.86687,     0.86787,     0.86887,     0.86987,     0.87087,     0.87187,     0.87287,     0.87387,     0.87487,     0.87588,     0.87688,     0.87788,     0.87888,     0.87988,     0.88088,     0.88188,     0.88288,     0.88388,     0.88488,     0.88589,     0.88689,     0.88789,\n",
            "           0.88889,     0.88989,     0.89089,     0.89189,     0.89289,     0.89389,     0.89489,      0.8959,      0.8969,      0.8979,      0.8989,      0.8999,      0.9009,      0.9019,      0.9029,      0.9039,      0.9049,     0.90591,     0.90691,     0.90791,     0.90891,     0.90991,     0.91091,     0.91191,\n",
            "           0.91291,     0.91391,     0.91491,     0.91592,     0.91692,     0.91792,     0.91892,     0.91992,     0.92092,     0.92192,     0.92292,     0.92392,     0.92492,     0.92593,     0.92693,     0.92793,     0.92893,     0.92993,     0.93093,     0.93193,     0.93293,     0.93393,     0.93493,     0.93594,\n",
            "           0.93694,     0.93794,     0.93894,     0.93994,     0.94094,     0.94194,     0.94294,     0.94394,     0.94494,     0.94595,     0.94695,     0.94795,     0.94895,     0.94995,     0.95095,     0.95195,     0.95295,     0.95395,     0.95495,     0.95596,     0.95696,     0.95796,     0.95896,     0.95996,\n",
            "           0.96096,     0.96196,     0.96296,     0.96396,     0.96496,     0.96597,     0.96697,     0.96797,     0.96897,     0.96997,     0.97097,     0.97197,     0.97297,     0.97397,     0.97497,     0.97598,     0.97698,     0.97798,     0.97898,     0.97998,     0.98098,     0.98198,     0.98298,     0.98398,\n",
            "           0.98498,     0.98599,     0.98699,     0.98799,     0.98899,     0.98999,     0.99099,     0.99199,     0.99299,     0.99399,     0.99499,       0.996,       0.997,       0.998,       0.999,           1]), array([[          1,           1,           1,           1,           1,           1,           1,           1,           1,           1,           1,           1,           1,           1,           1,           1,           1,           1,           1,           1,           1,           1,           1,\n",
            "                  1,           1,           1,           1,           1,           1,           1,           1,           1,           1,           1,           1,           1,           1,           1,           1,           1,           1,           1,           1,           1,           1,           1,\n",
            "                  1,           1,           1,           1,           1,           1,           1,           1,           1,           1,           1,           1,           1,           1,           1,           1,           1,           1,           1,           1,           1,           1,           1,\n",
            "                  1,           1,           1,           1,           1,           1,           1,           1,           1,           1,           1,           1,           1,           1,           1,           1,           1,           1,           1,           1,           1,           1,           1,\n",
            "                  1,           1,           1,           1,           1,           1,           1,           1,           1,           1,           1,           1,           1,           1,           1,           1,           1,           1,           1,           1,           1,           1,           1,\n",
            "                  1,           1,           1,           1,           1,           1,           1,           1,           1,           1,           1,           1,           1,           1,           1,           1,           1,           1,           1,           1,           1,           1,           1,\n",
            "                  1,           1,           1,           1,           1,           1,           1,           1,           1,           1,           1,           1,           1,           1,           1,           1,           1,           1,           1,           1,           1,           1,           1,\n",
            "                  1,           1,           1,           1,           1,           1,           1,           1,           1,           1,           1,           1,           1,           1,           1,           1,           1,           1,           1,           1,           1,           1,           1,\n",
            "                  1,           1,           1,           1,           1,           1,           1,           1,           1,           1,           1,           1,           1,           1,           1,           1,           1,           1,           1,           1,           1,           1,           1,\n",
            "                  1,           1,           1,           1,           1,           1,           1,           1,           1,           1,           1,           1,           1,           1,           1,           1,           1,           1,           1,           1,           1,           1,           1,\n",
            "                  1,           1,           1,           1,           1,           1,           1,           1,           1,           1,           1,           1,           1,           1,           1,           1,           1,           1,           1,           1,           1,           1,           1,\n",
            "                  1,           1,           1,           1,           1,           1,           1,           1,           1,           1,           1,           1,           1,           1,           1,           1,           1,           1,           1,           1,           1,           1,           1,\n",
            "                  1,           1,           1,           1,           1,           1,           1,           1,           1,           1,     0.97333,     0.97333,     0.97333,     0.97333,     0.97333,     0.97333,     0.97333,     0.97333,     0.97333,     0.97333,     0.97333,     0.97333,     0.97333,\n",
            "            0.97333,     0.97333,     0.97333,     0.97333,     0.97333,     0.97333,     0.97333,     0.97333,     0.97333,     0.97333,     0.97333,     0.97333,     0.97333,     0.97333,     0.97333,     0.97333,     0.97333,     0.97333,     0.97333,     0.97333,     0.97333,     0.97333,     0.97333,\n",
            "            0.97333,     0.97333,     0.97333,     0.97333,     0.97333,     0.97333,     0.97333,     0.97333,     0.97333,     0.97333,     0.97333,     0.97333,     0.97333,     0.97333,     0.97333,     0.97333,     0.97333,     0.97333,     0.97333,     0.97333,     0.97333,     0.97333,     0.97333,\n",
            "            0.97333,     0.97333,     0.97333,     0.97333,     0.97333,     0.97333,     0.97333,     0.97333,     0.97333,     0.97333,     0.97333,     0.97333,     0.97333,     0.97333,     0.97333,     0.97333,     0.97333,     0.97333,     0.97333,     0.97333,     0.97333,     0.97333,     0.97333,\n",
            "            0.97333,     0.97333,     0.97333,     0.97333,     0.97333,     0.97333,     0.97333,     0.97333,     0.97333,     0.97333,     0.97333,     0.97333,     0.97333,     0.97333,     0.97333,     0.97333,     0.97333,     0.97333,     0.97333,     0.97333,     0.97333,     0.97333,     0.97333,\n",
            "            0.97333,     0.97333,     0.97333,     0.97333,     0.97333,     0.97333,     0.97333,     0.97333,     0.97333,     0.97333,     0.97333,     0.97333,     0.97333,     0.97333,     0.97333,     0.97333,     0.97333,     0.97333,     0.97333,     0.97333,     0.97333,     0.97333,     0.97333,\n",
            "            0.97333,     0.97333,     0.97333,     0.97333,     0.97333,     0.97333,     0.97333,     0.97333,     0.97333,     0.97333,     0.97333,     0.97333,     0.97333,     0.97333,     0.97333,     0.97333,     0.97333,     0.97333,     0.97333,     0.97333,     0.97333,     0.97333,     0.97333,\n",
            "            0.97333,     0.97333,     0.97333,     0.97333,     0.97333,     0.97333,     0.97333,     0.97333,     0.97333,     0.97333,     0.97333,     0.97333,     0.97333,     0.97333,     0.97333,     0.97333,     0.97333,     0.97333,     0.97333,     0.97333,     0.97333,     0.97333,     0.97333,\n",
            "            0.97333,     0.97333,     0.97333,     0.97333,     0.97333,     0.97333,     0.97333,     0.97333,     0.97333,     0.97333,     0.97333,     0.97333,     0.97333,     0.97333,     0.97333,     0.97333,     0.97333,     0.97333,     0.97333,     0.97333,     0.97333,     0.97333,     0.97333,\n",
            "            0.97333,     0.97333,     0.97333,     0.97333,     0.97333,     0.97333,     0.97333,     0.97333,     0.97333,     0.97333,     0.97333,     0.97333,     0.97333,     0.97333,     0.96512,     0.96512,     0.96512,     0.96512,     0.96512,     0.96512,     0.96512,     0.96512,     0.96512,\n",
            "            0.96512,     0.96512,     0.96512,     0.96512,     0.96512,     0.96512,     0.96512,     0.96512,     0.96512,     0.96512,     0.96512,     0.96512,     0.96512,     0.96512,     0.96512,     0.96512,     0.96512,     0.96512,     0.96512,     0.96512,     0.96512,     0.96512,     0.96512,\n",
            "            0.96512,     0.96512,     0.96512,     0.96512,     0.96512,     0.96512,     0.96512,     0.96512,     0.96512,     0.96512,     0.96512,     0.96512,     0.96512,     0.96512,     0.96512,     0.96512,     0.96512,     0.96512,     0.96512,     0.96512,     0.96512,     0.96512,     0.96512,\n",
            "            0.96512,     0.96512,     0.96512,     0.96512,     0.96512,     0.96512,     0.96512,     0.96512,     0.96512,     0.96512,     0.96512,     0.96512,     0.96512,     0.95604,     0.95604,     0.95604,     0.95604,     0.95604,     0.95604,     0.95604,     0.95604,     0.95604,     0.95604,\n",
            "            0.95604,     0.95604,     0.95604,     0.95604,     0.95604,     0.95604,     0.95604,     0.95604,     0.95604,     0.95604,     0.95604,     0.95604,     0.95604,     0.95604,     0.95604,     0.95604,     0.95604,     0.94624,     0.94624,     0.94624,     0.94624,     0.94624,     0.94624,\n",
            "            0.94624,     0.93684,     0.93684,     0.93684,     0.93684,     0.93684,     0.93684,     0.92157,     0.92157,     0.92157,     0.92157,     0.92157,     0.92157,     0.92157,     0.92157,     0.92157,     0.92157,     0.92157,     0.92157,     0.92157,     0.92157,     0.92157,     0.92157,\n",
            "            0.92157,     0.92157,     0.92157,     0.92157,     0.92157,     0.92157,     0.92157,     0.92157,     0.92157,     0.92157,     0.92157,     0.92157,     0.92157,     0.92157,     0.92157,     0.92157,     0.92157,     0.92157,     0.91509,     0.91509,     0.91509,     0.91509,     0.91509,\n",
            "            0.91509,     0.91509,     0.91509,     0.91509,     0.91509,     0.91509,     0.91509,     0.91509,     0.91509,     0.91509,     0.91509,     0.91509,     0.91509,     0.91509,     0.91509,     0.91509,     0.90741,     0.90741,     0.90741,     0.90741,     0.90741,     0.90741,         0.9,\n",
            "                0.9,         0.9,         0.9,         0.9,         0.9,         0.9,     0.88889,     0.88889,     0.88889,     0.88889,     0.88889,     0.88889,     0.88889,     0.88889,     0.88889,     0.88889,     0.88889,     0.88889,     0.88889,     0.88889,     0.88889,     0.88889,     0.88889,\n",
            "            0.88889,     0.88889,     0.88889,     0.88889,     0.88889,     0.88889,     0.88889,     0.88889,     0.88889,     0.88889,     0.88889,     0.88889,     0.88889,     0.88889,     0.88889,     0.88889,     0.88889,     0.87597,     0.87597,     0.87597,     0.87597,     0.87597,     0.87597,\n",
            "            0.87597,     0.87597,     0.87597,     0.87597,     0.87597,     0.87597,     0.87597,     0.87597,     0.87597,     0.87597,     0.87597,     0.87597,     0.87597,     0.87597,     0.87597,     0.87597,     0.87597,     0.87597,     0.87597,     0.87597,     0.87597,     0.87597,     0.87597,\n",
            "            0.87597,     0.87597,     0.87597,     0.87597,     0.87597,     0.87597,     0.87597,     0.87597,     0.87597,     0.87597,     0.87597,     0.87597,     0.87597,     0.87597,     0.87597,     0.87597,     0.87597,     0.87597,     0.87597,     0.87597,     0.87597,     0.87597,     0.87597,\n",
            "            0.87597,     0.87597,     0.87597,     0.87597,     0.87597,     0.87597,     0.87597,     0.87597,     0.87597,     0.87407,     0.87407,     0.87407,     0.87407,     0.87407,     0.87407,     0.87407,     0.87407,     0.87407,     0.87407,     0.87407,     0.87407,     0.87407,     0.87407,\n",
            "            0.87407,     0.87407,     0.87407,     0.87407,     0.87407,     0.87407,     0.87407,     0.87407,     0.87407,     0.87407,     0.87407,     0.87407,     0.87407,     0.87407,     0.87407,     0.87407,     0.87407,     0.87407,     0.87407,     0.87407,     0.86331,     0.86331,     0.86331,\n",
            "            0.86331,     0.86331,     0.86331,     0.86331,     0.86331,     0.86331,     0.86331,     0.86331,     0.86331,     0.86331,     0.86331,     0.85816,     0.85816,     0.85816,     0.85816,     0.85816,     0.85816,     0.85816,     0.83562,     0.83562,     0.83562,     0.83562,     0.83562,\n",
            "            0.83562,     0.83562,     0.83226,     0.83226,     0.83226,     0.83226,     0.83226,     0.83226,     0.83226,     0.83226,     0.83226,     0.83226,     0.83226,     0.83226,     0.83226,     0.83226,     0.83226,     0.83226,     0.83226,     0.83226,     0.83226,     0.83226,     0.83226,\n",
            "            0.83226,     0.83226,     0.83226,     0.83226,     0.83226,     0.83226,     0.83226,     0.83226,     0.83226,     0.83226,     0.83226,     0.83226,     0.83226,     0.83226,     0.83226,     0.83226,     0.83226,     0.83226,     0.83226,     0.83226,     0.83226,     0.83226,     0.83226,\n",
            "            0.83226,     0.83226,     0.83226,     0.80864,     0.80864,     0.80864,     0.80864,     0.80864,     0.80864,     0.80864,     0.80864,     0.80864,     0.80864,     0.80864,     0.80864,     0.80864,     0.80864,     0.80488,     0.80488,     0.80488,     0.80488,     0.80488,     0.80488,\n",
            "            0.80488,     0.79167,     0.79167,     0.79167,     0.79167,     0.79167,     0.79167,     0.78824,     0.78824,     0.78824,     0.78824,     0.78824,     0.78824,     0.78824,     0.78161,     0.78161,     0.78161,     0.78161,     0.78161,     0.78161,     0.78161,     0.78161,     0.78161,\n",
            "            0.78161,     0.78161,     0.78161,     0.78161,     0.78161,     0.76111,     0.76111,     0.76111,     0.76111,     0.76111,     0.76111,     0.76111,     0.68317,     0.68317,     0.68317,     0.68317,     0.68317,     0.68317,     0.62896,     0.62896,     0.62896,     0.62896,     0.62896,\n",
            "            0.62896,     0.62896,     0.56911,     0.56911,     0.56911,     0.56911,     0.56911,     0.56911,     0.56911,     0.49301,     0.49301,     0.49301,     0.49301,     0.49301,     0.49301,     0.49301,     0.43692,     0.43692,     0.43692,     0.43692,     0.43692,     0.43692,     0.43692,\n",
            "            0.26047,     0.26047,     0.26047,     0.26047,     0.26047,     0.26047,     0.19893,     0.19156,     0.18419,     0.17682,     0.16946,     0.16209,     0.15472,     0.14735,     0.13999,     0.13262,     0.12525,     0.11788,     0.11051,     0.10315,     0.09578,    0.088412,    0.081044,\n",
            "           0.073677,    0.066309,    0.058941,    0.051574,    0.044206,    0.036838,    0.029471,    0.022103,    0.014735,   0.0073677,           0]]), 'Recall', 'Precision'], [array([          0,    0.001001,    0.002002,    0.003003,    0.004004,    0.005005,    0.006006,    0.007007,    0.008008,    0.009009,     0.01001,    0.011011,    0.012012,    0.013013,    0.014014,    0.015015,    0.016016,    0.017017,    0.018018,    0.019019,     0.02002,    0.021021,    0.022022,    0.023023,\n",
            "          0.024024,    0.025025,    0.026026,    0.027027,    0.028028,    0.029029,     0.03003,    0.031031,    0.032032,    0.033033,    0.034034,    0.035035,    0.036036,    0.037037,    0.038038,    0.039039,     0.04004,    0.041041,    0.042042,    0.043043,    0.044044,    0.045045,    0.046046,    0.047047,\n",
            "          0.048048,    0.049049,     0.05005,    0.051051,    0.052052,    0.053053,    0.054054,    0.055055,    0.056056,    0.057057,    0.058058,    0.059059,     0.06006,    0.061061,    0.062062,    0.063063,    0.064064,    0.065065,    0.066066,    0.067067,    0.068068,    0.069069,     0.07007,    0.071071,\n",
            "          0.072072,    0.073073,    0.074074,    0.075075,    0.076076,    0.077077,    0.078078,    0.079079,     0.08008,    0.081081,    0.082082,    0.083083,    0.084084,    0.085085,    0.086086,    0.087087,    0.088088,    0.089089,     0.09009,    0.091091,    0.092092,    0.093093,    0.094094,    0.095095,\n",
            "          0.096096,    0.097097,    0.098098,    0.099099,      0.1001,      0.1011,      0.1021,      0.1031,      0.1041,     0.10511,     0.10611,     0.10711,     0.10811,     0.10911,     0.11011,     0.11111,     0.11211,     0.11311,     0.11411,     0.11512,     0.11612,     0.11712,     0.11812,     0.11912,\n",
            "           0.12012,     0.12112,     0.12212,     0.12312,     0.12412,     0.12513,     0.12613,     0.12713,     0.12813,     0.12913,     0.13013,     0.13113,     0.13213,     0.13313,     0.13413,     0.13514,     0.13614,     0.13714,     0.13814,     0.13914,     0.14014,     0.14114,     0.14214,     0.14314,\n",
            "           0.14414,     0.14515,     0.14615,     0.14715,     0.14815,     0.14915,     0.15015,     0.15115,     0.15215,     0.15315,     0.15415,     0.15516,     0.15616,     0.15716,     0.15816,     0.15916,     0.16016,     0.16116,     0.16216,     0.16316,     0.16416,     0.16517,     0.16617,     0.16717,\n",
            "           0.16817,     0.16917,     0.17017,     0.17117,     0.17217,     0.17317,     0.17417,     0.17518,     0.17618,     0.17718,     0.17818,     0.17918,     0.18018,     0.18118,     0.18218,     0.18318,     0.18418,     0.18519,     0.18619,     0.18719,     0.18819,     0.18919,     0.19019,     0.19119,\n",
            "           0.19219,     0.19319,     0.19419,      0.1952,      0.1962,      0.1972,      0.1982,      0.1992,      0.2002,      0.2012,      0.2022,      0.2032,      0.2042,     0.20521,     0.20621,     0.20721,     0.20821,     0.20921,     0.21021,     0.21121,     0.21221,     0.21321,     0.21421,     0.21522,\n",
            "           0.21622,     0.21722,     0.21822,     0.21922,     0.22022,     0.22122,     0.22222,     0.22322,     0.22422,     0.22523,     0.22623,     0.22723,     0.22823,     0.22923,     0.23023,     0.23123,     0.23223,     0.23323,     0.23423,     0.23524,     0.23624,     0.23724,     0.23824,     0.23924,\n",
            "           0.24024,     0.24124,     0.24224,     0.24324,     0.24424,     0.24525,     0.24625,     0.24725,     0.24825,     0.24925,     0.25025,     0.25125,     0.25225,     0.25325,     0.25425,     0.25526,     0.25626,     0.25726,     0.25826,     0.25926,     0.26026,     0.26126,     0.26226,     0.26326,\n",
            "           0.26426,     0.26527,     0.26627,     0.26727,     0.26827,     0.26927,     0.27027,     0.27127,     0.27227,     0.27327,     0.27427,     0.27528,     0.27628,     0.27728,     0.27828,     0.27928,     0.28028,     0.28128,     0.28228,     0.28328,     0.28428,     0.28529,     0.28629,     0.28729,\n",
            "           0.28829,     0.28929,     0.29029,     0.29129,     0.29229,     0.29329,     0.29429,      0.2953,      0.2963,      0.2973,      0.2983,      0.2993,      0.3003,      0.3013,      0.3023,      0.3033,      0.3043,     0.30531,     0.30631,     0.30731,     0.30831,     0.30931,     0.31031,     0.31131,\n",
            "           0.31231,     0.31331,     0.31431,     0.31532,     0.31632,     0.31732,     0.31832,     0.31932,     0.32032,     0.32132,     0.32232,     0.32332,     0.32432,     0.32533,     0.32633,     0.32733,     0.32833,     0.32933,     0.33033,     0.33133,     0.33233,     0.33333,     0.33433,     0.33534,\n",
            "           0.33634,     0.33734,     0.33834,     0.33934,     0.34034,     0.34134,     0.34234,     0.34334,     0.34434,     0.34535,     0.34635,     0.34735,     0.34835,     0.34935,     0.35035,     0.35135,     0.35235,     0.35335,     0.35435,     0.35536,     0.35636,     0.35736,     0.35836,     0.35936,\n",
            "           0.36036,     0.36136,     0.36236,     0.36336,     0.36436,     0.36537,     0.36637,     0.36737,     0.36837,     0.36937,     0.37037,     0.37137,     0.37237,     0.37337,     0.37437,     0.37538,     0.37638,     0.37738,     0.37838,     0.37938,     0.38038,     0.38138,     0.38238,     0.38338,\n",
            "           0.38438,     0.38539,     0.38639,     0.38739,     0.38839,     0.38939,     0.39039,     0.39139,     0.39239,     0.39339,     0.39439,      0.3954,      0.3964,      0.3974,      0.3984,      0.3994,      0.4004,      0.4014,      0.4024,      0.4034,      0.4044,     0.40541,     0.40641,     0.40741,\n",
            "           0.40841,     0.40941,     0.41041,     0.41141,     0.41241,     0.41341,     0.41441,     0.41542,     0.41642,     0.41742,     0.41842,     0.41942,     0.42042,     0.42142,     0.42242,     0.42342,     0.42442,     0.42543,     0.42643,     0.42743,     0.42843,     0.42943,     0.43043,     0.43143,\n",
            "           0.43243,     0.43343,     0.43443,     0.43544,     0.43644,     0.43744,     0.43844,     0.43944,     0.44044,     0.44144,     0.44244,     0.44344,     0.44444,     0.44545,     0.44645,     0.44745,     0.44845,     0.44945,     0.45045,     0.45145,     0.45245,     0.45345,     0.45445,     0.45546,\n",
            "           0.45646,     0.45746,     0.45846,     0.45946,     0.46046,     0.46146,     0.46246,     0.46346,     0.46446,     0.46547,     0.46647,     0.46747,     0.46847,     0.46947,     0.47047,     0.47147,     0.47247,     0.47347,     0.47447,     0.47548,     0.47648,     0.47748,     0.47848,     0.47948,\n",
            "           0.48048,     0.48148,     0.48248,     0.48348,     0.48448,     0.48549,     0.48649,     0.48749,     0.48849,     0.48949,     0.49049,     0.49149,     0.49249,     0.49349,     0.49449,      0.4955,      0.4965,      0.4975,      0.4985,      0.4995,      0.5005,      0.5015,      0.5025,      0.5035,\n",
            "            0.5045,     0.50551,     0.50651,     0.50751,     0.50851,     0.50951,     0.51051,     0.51151,     0.51251,     0.51351,     0.51451,     0.51552,     0.51652,     0.51752,     0.51852,     0.51952,     0.52052,     0.52152,     0.52252,     0.52352,     0.52452,     0.52553,     0.52653,     0.52753,\n",
            "           0.52853,     0.52953,     0.53053,     0.53153,     0.53253,     0.53353,     0.53453,     0.53554,     0.53654,     0.53754,     0.53854,     0.53954,     0.54054,     0.54154,     0.54254,     0.54354,     0.54454,     0.54555,     0.54655,     0.54755,     0.54855,     0.54955,     0.55055,     0.55155,\n",
            "           0.55255,     0.55355,     0.55455,     0.55556,     0.55656,     0.55756,     0.55856,     0.55956,     0.56056,     0.56156,     0.56256,     0.56356,     0.56456,     0.56557,     0.56657,     0.56757,     0.56857,     0.56957,     0.57057,     0.57157,     0.57257,     0.57357,     0.57457,     0.57558,\n",
            "           0.57658,     0.57758,     0.57858,     0.57958,     0.58058,     0.58158,     0.58258,     0.58358,     0.58458,     0.58559,     0.58659,     0.58759,     0.58859,     0.58959,     0.59059,     0.59159,     0.59259,     0.59359,     0.59459,      0.5956,      0.5966,      0.5976,      0.5986,      0.5996,\n",
            "            0.6006,      0.6016,      0.6026,      0.6036,      0.6046,     0.60561,     0.60661,     0.60761,     0.60861,     0.60961,     0.61061,     0.61161,     0.61261,     0.61361,     0.61461,     0.61562,     0.61662,     0.61762,     0.61862,     0.61962,     0.62062,     0.62162,     0.62262,     0.62362,\n",
            "           0.62462,     0.62563,     0.62663,     0.62763,     0.62863,     0.62963,     0.63063,     0.63163,     0.63263,     0.63363,     0.63463,     0.63564,     0.63664,     0.63764,     0.63864,     0.63964,     0.64064,     0.64164,     0.64264,     0.64364,     0.64464,     0.64565,     0.64665,     0.64765,\n",
            "           0.64865,     0.64965,     0.65065,     0.65165,     0.65265,     0.65365,     0.65465,     0.65566,     0.65666,     0.65766,     0.65866,     0.65966,     0.66066,     0.66166,     0.66266,     0.66366,     0.66466,     0.66567,     0.66667,     0.66767,     0.66867,     0.66967,     0.67067,     0.67167,\n",
            "           0.67267,     0.67367,     0.67467,     0.67568,     0.67668,     0.67768,     0.67868,     0.67968,     0.68068,     0.68168,     0.68268,     0.68368,     0.68468,     0.68569,     0.68669,     0.68769,     0.68869,     0.68969,     0.69069,     0.69169,     0.69269,     0.69369,     0.69469,      0.6957,\n",
            "            0.6967,      0.6977,      0.6987,      0.6997,      0.7007,      0.7017,      0.7027,      0.7037,      0.7047,     0.70571,     0.70671,     0.70771,     0.70871,     0.70971,     0.71071,     0.71171,     0.71271,     0.71371,     0.71471,     0.71572,     0.71672,     0.71772,     0.71872,     0.71972,\n",
            "           0.72072,     0.72172,     0.72272,     0.72372,     0.72472,     0.72573,     0.72673,     0.72773,     0.72873,     0.72973,     0.73073,     0.73173,     0.73273,     0.73373,     0.73473,     0.73574,     0.73674,     0.73774,     0.73874,     0.73974,     0.74074,     0.74174,     0.74274,     0.74374,\n",
            "           0.74474,     0.74575,     0.74675,     0.74775,     0.74875,     0.74975,     0.75075,     0.75175,     0.75275,     0.75375,     0.75475,     0.75576,     0.75676,     0.75776,     0.75876,     0.75976,     0.76076,     0.76176,     0.76276,     0.76376,     0.76476,     0.76577,     0.76677,     0.76777,\n",
            "           0.76877,     0.76977,     0.77077,     0.77177,     0.77277,     0.77377,     0.77477,     0.77578,     0.77678,     0.77778,     0.77878,     0.77978,     0.78078,     0.78178,     0.78278,     0.78378,     0.78478,     0.78579,     0.78679,     0.78779,     0.78879,     0.78979,     0.79079,     0.79179,\n",
            "           0.79279,     0.79379,     0.79479,      0.7958,      0.7968,      0.7978,      0.7988,      0.7998,      0.8008,      0.8018,      0.8028,      0.8038,      0.8048,     0.80581,     0.80681,     0.80781,     0.80881,     0.80981,     0.81081,     0.81181,     0.81281,     0.81381,     0.81481,     0.81582,\n",
            "           0.81682,     0.81782,     0.81882,     0.81982,     0.82082,     0.82182,     0.82282,     0.82382,     0.82482,     0.82583,     0.82683,     0.82783,     0.82883,     0.82983,     0.83083,     0.83183,     0.83283,     0.83383,     0.83483,     0.83584,     0.83684,     0.83784,     0.83884,     0.83984,\n",
            "           0.84084,     0.84184,     0.84284,     0.84384,     0.84484,     0.84585,     0.84685,     0.84785,     0.84885,     0.84985,     0.85085,     0.85185,     0.85285,     0.85385,     0.85485,     0.85586,     0.85686,     0.85786,     0.85886,     0.85986,     0.86086,     0.86186,     0.86286,     0.86386,\n",
            "           0.86486,     0.86587,     0.86687,     0.86787,     0.86887,     0.86987,     0.87087,     0.87187,     0.87287,     0.87387,     0.87487,     0.87588,     0.87688,     0.87788,     0.87888,     0.87988,     0.88088,     0.88188,     0.88288,     0.88388,     0.88488,     0.88589,     0.88689,     0.88789,\n",
            "           0.88889,     0.88989,     0.89089,     0.89189,     0.89289,     0.89389,     0.89489,      0.8959,      0.8969,      0.8979,      0.8989,      0.8999,      0.9009,      0.9019,      0.9029,      0.9039,      0.9049,     0.90591,     0.90691,     0.90791,     0.90891,     0.90991,     0.91091,     0.91191,\n",
            "           0.91291,     0.91391,     0.91491,     0.91592,     0.91692,     0.91792,     0.91892,     0.91992,     0.92092,     0.92192,     0.92292,     0.92392,     0.92492,     0.92593,     0.92693,     0.92793,     0.92893,     0.92993,     0.93093,     0.93193,     0.93293,     0.93393,     0.93493,     0.93594,\n",
            "           0.93694,     0.93794,     0.93894,     0.93994,     0.94094,     0.94194,     0.94294,     0.94394,     0.94494,     0.94595,     0.94695,     0.94795,     0.94895,     0.94995,     0.95095,     0.95195,     0.95295,     0.95395,     0.95495,     0.95596,     0.95696,     0.95796,     0.95896,     0.95996,\n",
            "           0.96096,     0.96196,     0.96296,     0.96396,     0.96496,     0.96597,     0.96697,     0.96797,     0.96897,     0.96997,     0.97097,     0.97197,     0.97297,     0.97397,     0.97497,     0.97598,     0.97698,     0.97798,     0.97898,     0.97998,     0.98098,     0.98198,     0.98298,     0.98398,\n",
            "           0.98498,     0.98599,     0.98699,     0.98799,     0.98899,     0.98999,     0.99099,     0.99199,     0.99299,     0.99399,     0.99499,       0.996,       0.997,       0.998,       0.999,           1]), array([[    0.33217,     0.33217,     0.39147,     0.42429,     0.44824,     0.47136,     0.48849,     0.49902,     0.51234,     0.52297,      0.5306,     0.53898,     0.54718,     0.55224,     0.56006,     0.56708,     0.57757,     0.58283,     0.58527,     0.58747,     0.59269,     0.59762,     0.59987,\n",
            "            0.60067,     0.60404,     0.60465,     0.60647,     0.61183,     0.61317,      0.6149,     0.61628,     0.62266,     0.62322,     0.62378,     0.62762,     0.63347,      0.6356,     0.63625,     0.63791,     0.64223,     0.64763,     0.65023,      0.6484,     0.65019,     0.65188,     0.65281,\n",
            "            0.65324,     0.65368,     0.65411,     0.65616,      0.6568,     0.66121,     0.66262,     0.66347,     0.66514,      0.6662,     0.66839,      0.6689,     0.66941,     0.66996,     0.67082,     0.67321,     0.67674,      0.6801,     0.68119,     0.68237,      0.6841,     0.68733,     0.68838,\n",
            "            0.68915,     0.68982,     0.69029,     0.69075,     0.69122,     0.69333,     0.69451,     0.70061,      0.7024,      0.7031,     0.70604,     0.71022,     0.71124,     0.70991,     0.71122,      0.7118,     0.71237,     0.71346,     0.71651,     0.71759,     0.71895,     0.72095,     0.72294,\n",
            "            0.72772,     0.72982,     0.73172,     0.73207,     0.73243,     0.73278,     0.73314,     0.73349,     0.73421,     0.73493,     0.73566,     0.73641,     0.73715,     0.73976,     0.74658,     0.74851,     0.75069,     0.75384,     0.75389,     0.75464,     0.75519,     0.75575,     0.75638,\n",
            "            0.75728,     0.75817,     0.76014,     0.76116,     0.76207,     0.76481,     0.76557,     0.76634,     0.76746,     0.76885,     0.77054,      0.7734,     0.77417,     0.77494,     0.77587,     0.77693,     0.77825,     0.78192,     0.78249,     0.78307,     0.78364,     0.78465,     0.78864,\n",
            "            0.78905,     0.78947,     0.78988,      0.7903,     0.79071,     0.79022,     0.78936,      0.7885,     0.78764,     0.78798,     0.78892,     0.79007,     0.79192,     0.79335,     0.79428,     0.79448,     0.79468,     0.79487,     0.79507,     0.79527,     0.79547,     0.79566,     0.79586,\n",
            "            0.79606,     0.79626,     0.79645,     0.79767,     0.80081,     0.80155,     0.80196,     0.80237,     0.80277,     0.80318,     0.80421,      0.8062,     0.80671,     0.80721,     0.80772,     0.80822,     0.80871,      0.8092,     0.80969,     0.81018,     0.81067,      0.8113,     0.81192,\n",
            "            0.81254,     0.81369,     0.81588,     0.81667,     0.81745,     0.81808,     0.81849,     0.81891,     0.81932,     0.81973,     0.82014,     0.82044,     0.82061,     0.82078,     0.82095,     0.82112,     0.82129,     0.82146,     0.82163,      0.8218,     0.82197,     0.82214,     0.82231,\n",
            "            0.82247,     0.82264,     0.82281,     0.82311,     0.82341,     0.82371,       0.824,      0.8243,      0.8246,      0.8249,      0.8252,      0.8255,     0.82581,     0.82611,     0.82641,     0.82671,     0.82702,     0.82732,     0.82762,     0.82834,     0.82961,     0.83062,     0.83132,\n",
            "            0.83202,     0.83271,     0.83359,      0.8345,     0.83539,       0.836,     0.83661,     0.83722,     0.83783,     0.83464,     0.83531,     0.83599,     0.83666,     0.83732,     0.83797,     0.83861,     0.83926,     0.84109,     0.84446,      0.8454,     0.84612,     0.84684,     0.84636,\n",
            "            0.84357,     0.84283,     0.84208,     0.84134,     0.84059,     0.84033,     0.84086,     0.84139,     0.84192,     0.84245,     0.84534,      0.8451,     0.84486,     0.84462,     0.84438,     0.84414,      0.8439,     0.84367,     0.84343,     0.84319,     0.84295,     0.84271,     0.84247,\n",
            "            0.84223,     0.84199,      0.8418,     0.84215,      0.8425,     0.84286,     0.84321,     0.84356,     0.84391,     0.84426,     0.84401,     0.84308,     0.84216,     0.84123,     0.84113,     0.84187,     0.84261,     0.84335,      0.8439,     0.84442,     0.84494,     0.84546,     0.84598,\n",
            "            0.84673,     0.84759,     0.84845,     0.84583,     0.84534,     0.84553,     0.84573,     0.84593,     0.84612,     0.84632,     0.84652,     0.84671,     0.84691,     0.84711,      0.8473,      0.8475,      0.8477,     0.84789,     0.84559,      0.8438,     0.84287,     0.84195,     0.84103,\n",
            "            0.84067,     0.84156,     0.84245,     0.84369,     0.84599,      0.8468,     0.84762,     0.84843,     0.84958,     0.85087,     0.85169,     0.85207,     0.85245,     0.85283,     0.85321,     0.85359,     0.85397,     0.85426,     0.85385,     0.85344,     0.85304,     0.85263,     0.85222,\n",
            "            0.85181,      0.8514,     0.85099,     0.85058,     0.84982,     0.84898,     0.84813,     0.84729,     0.84646,     0.84569,     0.84491,     0.84414,     0.84337,     0.84192,     0.83886,     0.83751,     0.83616,     0.83494,     0.83442,      0.8339,     0.83338,     0.83286,     0.83234,\n",
            "            0.83181,     0.83129,     0.83069,     0.83002,     0.82936,      0.8287,     0.82803,     0.82737,     0.82722,     0.82737,     0.82753,     0.82769,     0.82785,       0.828,     0.82816,     0.82832,     0.82847,     0.82863,     0.82879,     0.82894,      0.8291,     0.82926,     0.82941,\n",
            "            0.82957,     0.82972,     0.82988,      0.8308,      0.8321,     0.83109,     0.82888,     0.82924,     0.82959,     0.82995,      0.8303,     0.83065,     0.83101,     0.83136,      0.8317,     0.83199,     0.83229,     0.83259,     0.83289,     0.83318,     0.83348,     0.83378,     0.83407,\n",
            "            0.83437,     0.83819,     0.83969,      0.8394,     0.83794,     0.83648,     0.83812,     0.83859,     0.83754,     0.83648,     0.83542,     0.83472,     0.83419,     0.83366,     0.83313,      0.8326,     0.83207,     0.83154,       0.831,     0.83306,      0.8346,     0.83572,     0.83684,\n",
            "            0.83444,      0.8322,     0.83056,     0.82892,      0.8228,     0.81991,      0.8189,     0.81788,     0.81687,     0.81591,     0.81679,     0.81766,     0.81852,      0.8178,     0.81616,     0.81453,     0.81308,     0.81163,      0.8089,     0.80494,     0.80395,     0.80296,     0.80197,\n",
            "            0.80105,      0.8002,     0.79936,     0.79851,     0.79766,     0.79641,     0.79418,     0.79197,     0.78982,     0.78785,     0.78663,     0.78539,     0.78416,     0.78238,      0.7801,     0.77909,     0.77922,     0.77935,     0.77948,     0.77961,     0.77974,     0.77986,     0.77999,\n",
            "            0.78012,     0.78025,     0.78038,      0.7805,     0.78063,     0.78076,     0.78089,     0.78102,     0.78114,     0.78127,      0.7814,     0.78153,     0.78165,     0.78178,     0.78191,     0.78227,     0.78278,     0.78329,      0.7838,      0.7843,     0.78481,     0.78601,     0.78738,\n",
            "            0.78741,     0.78666,     0.78592,     0.78517,     0.78443,     0.78368,     0.78216,     0.77967,      0.7775,     0.77557,     0.77348,     0.77062,     0.76771,     0.76476,     0.76788,     0.76846,     0.76903,     0.76961,     0.77018,     0.77011,     0.76956,       0.769,     0.76845,\n",
            "            0.76789,     0.76734,     0.76678,     0.76622,     0.76567,     0.76644,     0.76732,     0.76819,      0.7683,     0.76764,     0.76697,     0.76631,     0.76564,     0.76498,     0.76431,     0.76387,     0.76432,     0.76476,      0.7652,     0.76564,     0.76609,     0.76653,     0.76618,\n",
            "            0.76458,     0.76298,     0.76175,     0.76127,     0.76079,     0.76032,     0.75984,     0.75936,     0.75888,      0.7584,     0.75792,     0.75744,     0.75687,     0.75317,      0.7537,     0.75071,     0.74546,     0.74391,     0.74278,     0.74165,     0.74051,      0.7392,     0.73763,\n",
            "            0.73605,     0.73399,     0.72954,     0.72992,     0.73029,     0.73066,     0.73103,      0.7314,     0.73177,     0.73214,     0.73251,     0.73312,     0.73372,     0.73433,     0.73493,     0.73554,     0.73411,     0.73269,     0.73126,     0.73083,     0.73249,     0.73193,     0.72907,\n",
            "            0.72838,     0.72892,     0.72946,        0.73,     0.73054,     0.73107,     0.72936,     0.72755,     0.72571,      0.7175,     0.71421,     0.71328,     0.71234,     0.71141,     0.71048,     0.70954,     0.70993,     0.71054,     0.71115,     0.71177,     0.71237,     0.70896,     0.70094,\n",
            "            0.70018,     0.69941,     0.69864,     0.69788,     0.69711,     0.69634,     0.69491,     0.68936,     0.68682,     0.68427,     0.68195,     0.67963,     0.67728,     0.67489,     0.67252,       0.671,     0.66947,     0.66793,      0.6621,     0.65992,     0.65907,     0.65823,     0.65738,\n",
            "            0.65653,     0.65568,     0.65483,     0.65606,     0.64994,     0.64526,     0.64391,     0.64256,     0.64121,     0.63985,     0.63799,     0.63574,     0.63349,     0.62508,     0.62272,     0.62035,     0.61853,     0.61671,     0.61488,     0.61228,     0.60889,     0.59288,     0.58665,\n",
            "             0.5788,     0.57593,     0.57311,     0.57037,     0.56762,      0.5667,     0.56602,     0.56534,     0.56466,     0.56398,     0.56329,     0.56261,     0.56192,     0.56124,     0.56055,     0.55943,     0.55818,     0.55692,     0.55567,     0.55441,     0.55055,     0.54255,     0.53803,\n",
            "            0.53493,     0.53184,     0.52892,     0.52598,     0.52445,     0.52394,     0.52343,     0.52291,      0.5224,     0.52189,     0.52137,     0.52086,     0.52034,     0.51982,     0.51931,     0.51879,     0.51828,     0.51776,     0.51552,     0.50995,      0.5087,     0.50744,     0.50618,\n",
            "            0.50492,     0.50365,     0.50231,     0.50032,     0.49833,     0.49632,     0.49318,     0.48752,     0.48349,     0.47955,     0.47772,     0.47588,     0.47403,     0.47219,     0.47131,     0.47069,     0.47007,     0.46944,     0.46882,      0.4682,     0.46758,     0.46695,     0.46633,\n",
            "            0.46571,     0.46508,     0.46446,     0.46379,     0.46285,     0.46192,     0.46098,     0.46005,     0.45911,     0.45817,     0.45723,     0.45628,     0.45388,      0.4507,     0.44779,     0.44683,     0.44587,     0.44491,     0.44395,     0.44298,     0.44202,     0.44105,     0.44009,\n",
            "            0.44204,     0.44353,     0.44363,     0.44137,     0.43911,     0.43683,     0.43144,     0.42716,     0.42574,     0.42432,     0.42289,     0.42146,     0.42003,     0.41385,     0.40923,     0.40701,     0.40478,     0.40254,     0.40092,     0.39941,     0.39791,     0.39639,     0.39488,\n",
            "            0.39338,     0.39216,     0.39093,      0.3897,     0.38847,     0.38724,     0.38601,     0.38477,     0.37216,     0.36424,     0.36019,     0.35633,     0.35288,      0.3494,     0.34525,     0.34076,     0.33764,     0.33542,     0.33319,     0.33096,     0.32597,     0.30933,     0.30555,\n",
            "            0.30175,     0.29872,     0.29602,     0.29332,     0.28952,     0.27969,     0.27835,     0.27701,     0.27568,     0.27433,     0.27299,     0.27165,     0.26883,     0.26055,     0.25813,     0.25585,     0.25356,     0.25127,     0.23566,     0.22762,     0.22581,       0.224,     0.22218,\n",
            "            0.22035,     0.21853,     0.21494,     0.21092,     0.20717,     0.20581,     0.20444,     0.20308,     0.20171,     0.20034,     0.19896,     0.19759,     0.19387,     0.17249,     0.16861,     0.16471,     0.16096,     0.15741,     0.15384,     0.15074,      0.1497,     0.14865,      0.1476,\n",
            "            0.14655,      0.1455,     0.14445,      0.1434,     0.14235,     0.14129,     0.14024,     0.13917,     0.13788,     0.13659,     0.13529,       0.134,      0.1327,      0.1314,      0.1301,      0.1288,      0.1275,      0.1209,     0.11499,     0.11323,     0.11148,     0.10971,     0.10795,\n",
            "            0.10618,     0.10441,     0.10295,     0.10213,     0.10131,     0.10049,    0.099664,    0.098841,    0.098016,    0.097191,    0.096365,    0.095538,    0.094711,    0.093882,    0.093054,    0.092224,    0.091394,    0.087774,     0.08021,    0.067835,    0.050323,    0.047128,    0.043922,\n",
            "           0.040706,    0.027375,    0.021706,    0.016365,           0,           0,           0,           0,           0,           0,           0,           0,           0,           0,           0,           0,           0,           0,           0,           0,           0,           0,           0,\n",
            "                  0,           0,           0,           0,           0,           0,           0,           0,           0,           0,           0,           0,           0,           0,           0,           0,           0,           0,           0,           0,           0,           0,           0,\n",
            "                  0,           0,           0,           0,           0,           0,           0,           0,           0,           0,           0,           0,           0,           0,           0,           0,           0,           0,           0,           0,           0,           0,           0,\n",
            "                  0,           0,           0,           0,           0,           0,           0,           0,           0,           0,           0,           0,           0,           0,           0,           0,           0,           0,           0,           0,           0,           0,           0,\n",
            "                  0,           0,           0,           0,           0,           0,           0,           0,           0,           0,           0]]), 'Confidence', 'F1'], [array([          0,    0.001001,    0.002002,    0.003003,    0.004004,    0.005005,    0.006006,    0.007007,    0.008008,    0.009009,     0.01001,    0.011011,    0.012012,    0.013013,    0.014014,    0.015015,    0.016016,    0.017017,    0.018018,    0.019019,     0.02002,    0.021021,    0.022022,    0.023023,\n",
            "          0.024024,    0.025025,    0.026026,    0.027027,    0.028028,    0.029029,     0.03003,    0.031031,    0.032032,    0.033033,    0.034034,    0.035035,    0.036036,    0.037037,    0.038038,    0.039039,     0.04004,    0.041041,    0.042042,    0.043043,    0.044044,    0.045045,    0.046046,    0.047047,\n",
            "          0.048048,    0.049049,     0.05005,    0.051051,    0.052052,    0.053053,    0.054054,    0.055055,    0.056056,    0.057057,    0.058058,    0.059059,     0.06006,    0.061061,    0.062062,    0.063063,    0.064064,    0.065065,    0.066066,    0.067067,    0.068068,    0.069069,     0.07007,    0.071071,\n",
            "          0.072072,    0.073073,    0.074074,    0.075075,    0.076076,    0.077077,    0.078078,    0.079079,     0.08008,    0.081081,    0.082082,    0.083083,    0.084084,    0.085085,    0.086086,    0.087087,    0.088088,    0.089089,     0.09009,    0.091091,    0.092092,    0.093093,    0.094094,    0.095095,\n",
            "          0.096096,    0.097097,    0.098098,    0.099099,      0.1001,      0.1011,      0.1021,      0.1031,      0.1041,     0.10511,     0.10611,     0.10711,     0.10811,     0.10911,     0.11011,     0.11111,     0.11211,     0.11311,     0.11411,     0.11512,     0.11612,     0.11712,     0.11812,     0.11912,\n",
            "           0.12012,     0.12112,     0.12212,     0.12312,     0.12412,     0.12513,     0.12613,     0.12713,     0.12813,     0.12913,     0.13013,     0.13113,     0.13213,     0.13313,     0.13413,     0.13514,     0.13614,     0.13714,     0.13814,     0.13914,     0.14014,     0.14114,     0.14214,     0.14314,\n",
            "           0.14414,     0.14515,     0.14615,     0.14715,     0.14815,     0.14915,     0.15015,     0.15115,     0.15215,     0.15315,     0.15415,     0.15516,     0.15616,     0.15716,     0.15816,     0.15916,     0.16016,     0.16116,     0.16216,     0.16316,     0.16416,     0.16517,     0.16617,     0.16717,\n",
            "           0.16817,     0.16917,     0.17017,     0.17117,     0.17217,     0.17317,     0.17417,     0.17518,     0.17618,     0.17718,     0.17818,     0.17918,     0.18018,     0.18118,     0.18218,     0.18318,     0.18418,     0.18519,     0.18619,     0.18719,     0.18819,     0.18919,     0.19019,     0.19119,\n",
            "           0.19219,     0.19319,     0.19419,      0.1952,      0.1962,      0.1972,      0.1982,      0.1992,      0.2002,      0.2012,      0.2022,      0.2032,      0.2042,     0.20521,     0.20621,     0.20721,     0.20821,     0.20921,     0.21021,     0.21121,     0.21221,     0.21321,     0.21421,     0.21522,\n",
            "           0.21622,     0.21722,     0.21822,     0.21922,     0.22022,     0.22122,     0.22222,     0.22322,     0.22422,     0.22523,     0.22623,     0.22723,     0.22823,     0.22923,     0.23023,     0.23123,     0.23223,     0.23323,     0.23423,     0.23524,     0.23624,     0.23724,     0.23824,     0.23924,\n",
            "           0.24024,     0.24124,     0.24224,     0.24324,     0.24424,     0.24525,     0.24625,     0.24725,     0.24825,     0.24925,     0.25025,     0.25125,     0.25225,     0.25325,     0.25425,     0.25526,     0.25626,     0.25726,     0.25826,     0.25926,     0.26026,     0.26126,     0.26226,     0.26326,\n",
            "           0.26426,     0.26527,     0.26627,     0.26727,     0.26827,     0.26927,     0.27027,     0.27127,     0.27227,     0.27327,     0.27427,     0.27528,     0.27628,     0.27728,     0.27828,     0.27928,     0.28028,     0.28128,     0.28228,     0.28328,     0.28428,     0.28529,     0.28629,     0.28729,\n",
            "           0.28829,     0.28929,     0.29029,     0.29129,     0.29229,     0.29329,     0.29429,      0.2953,      0.2963,      0.2973,      0.2983,      0.2993,      0.3003,      0.3013,      0.3023,      0.3033,      0.3043,     0.30531,     0.30631,     0.30731,     0.30831,     0.30931,     0.31031,     0.31131,\n",
            "           0.31231,     0.31331,     0.31431,     0.31532,     0.31632,     0.31732,     0.31832,     0.31932,     0.32032,     0.32132,     0.32232,     0.32332,     0.32432,     0.32533,     0.32633,     0.32733,     0.32833,     0.32933,     0.33033,     0.33133,     0.33233,     0.33333,     0.33433,     0.33534,\n",
            "           0.33634,     0.33734,     0.33834,     0.33934,     0.34034,     0.34134,     0.34234,     0.34334,     0.34434,     0.34535,     0.34635,     0.34735,     0.34835,     0.34935,     0.35035,     0.35135,     0.35235,     0.35335,     0.35435,     0.35536,     0.35636,     0.35736,     0.35836,     0.35936,\n",
            "           0.36036,     0.36136,     0.36236,     0.36336,     0.36436,     0.36537,     0.36637,     0.36737,     0.36837,     0.36937,     0.37037,     0.37137,     0.37237,     0.37337,     0.37437,     0.37538,     0.37638,     0.37738,     0.37838,     0.37938,     0.38038,     0.38138,     0.38238,     0.38338,\n",
            "           0.38438,     0.38539,     0.38639,     0.38739,     0.38839,     0.38939,     0.39039,     0.39139,     0.39239,     0.39339,     0.39439,      0.3954,      0.3964,      0.3974,      0.3984,      0.3994,      0.4004,      0.4014,      0.4024,      0.4034,      0.4044,     0.40541,     0.40641,     0.40741,\n",
            "           0.40841,     0.40941,     0.41041,     0.41141,     0.41241,     0.41341,     0.41441,     0.41542,     0.41642,     0.41742,     0.41842,     0.41942,     0.42042,     0.42142,     0.42242,     0.42342,     0.42442,     0.42543,     0.42643,     0.42743,     0.42843,     0.42943,     0.43043,     0.43143,\n",
            "           0.43243,     0.43343,     0.43443,     0.43544,     0.43644,     0.43744,     0.43844,     0.43944,     0.44044,     0.44144,     0.44244,     0.44344,     0.44444,     0.44545,     0.44645,     0.44745,     0.44845,     0.44945,     0.45045,     0.45145,     0.45245,     0.45345,     0.45445,     0.45546,\n",
            "           0.45646,     0.45746,     0.45846,     0.45946,     0.46046,     0.46146,     0.46246,     0.46346,     0.46446,     0.46547,     0.46647,     0.46747,     0.46847,     0.46947,     0.47047,     0.47147,     0.47247,     0.47347,     0.47447,     0.47548,     0.47648,     0.47748,     0.47848,     0.47948,\n",
            "           0.48048,     0.48148,     0.48248,     0.48348,     0.48448,     0.48549,     0.48649,     0.48749,     0.48849,     0.48949,     0.49049,     0.49149,     0.49249,     0.49349,     0.49449,      0.4955,      0.4965,      0.4975,      0.4985,      0.4995,      0.5005,      0.5015,      0.5025,      0.5035,\n",
            "            0.5045,     0.50551,     0.50651,     0.50751,     0.50851,     0.50951,     0.51051,     0.51151,     0.51251,     0.51351,     0.51451,     0.51552,     0.51652,     0.51752,     0.51852,     0.51952,     0.52052,     0.52152,     0.52252,     0.52352,     0.52452,     0.52553,     0.52653,     0.52753,\n",
            "           0.52853,     0.52953,     0.53053,     0.53153,     0.53253,     0.53353,     0.53453,     0.53554,     0.53654,     0.53754,     0.53854,     0.53954,     0.54054,     0.54154,     0.54254,     0.54354,     0.54454,     0.54555,     0.54655,     0.54755,     0.54855,     0.54955,     0.55055,     0.55155,\n",
            "           0.55255,     0.55355,     0.55455,     0.55556,     0.55656,     0.55756,     0.55856,     0.55956,     0.56056,     0.56156,     0.56256,     0.56356,     0.56456,     0.56557,     0.56657,     0.56757,     0.56857,     0.56957,     0.57057,     0.57157,     0.57257,     0.57357,     0.57457,     0.57558,\n",
            "           0.57658,     0.57758,     0.57858,     0.57958,     0.58058,     0.58158,     0.58258,     0.58358,     0.58458,     0.58559,     0.58659,     0.58759,     0.58859,     0.58959,     0.59059,     0.59159,     0.59259,     0.59359,     0.59459,      0.5956,      0.5966,      0.5976,      0.5986,      0.5996,\n",
            "            0.6006,      0.6016,      0.6026,      0.6036,      0.6046,     0.60561,     0.60661,     0.60761,     0.60861,     0.60961,     0.61061,     0.61161,     0.61261,     0.61361,     0.61461,     0.61562,     0.61662,     0.61762,     0.61862,     0.61962,     0.62062,     0.62162,     0.62262,     0.62362,\n",
            "           0.62462,     0.62563,     0.62663,     0.62763,     0.62863,     0.62963,     0.63063,     0.63163,     0.63263,     0.63363,     0.63463,     0.63564,     0.63664,     0.63764,     0.63864,     0.63964,     0.64064,     0.64164,     0.64264,     0.64364,     0.64464,     0.64565,     0.64665,     0.64765,\n",
            "           0.64865,     0.64965,     0.65065,     0.65165,     0.65265,     0.65365,     0.65465,     0.65566,     0.65666,     0.65766,     0.65866,     0.65966,     0.66066,     0.66166,     0.66266,     0.66366,     0.66466,     0.66567,     0.66667,     0.66767,     0.66867,     0.66967,     0.67067,     0.67167,\n",
            "           0.67267,     0.67367,     0.67467,     0.67568,     0.67668,     0.67768,     0.67868,     0.67968,     0.68068,     0.68168,     0.68268,     0.68368,     0.68468,     0.68569,     0.68669,     0.68769,     0.68869,     0.68969,     0.69069,     0.69169,     0.69269,     0.69369,     0.69469,      0.6957,\n",
            "            0.6967,      0.6977,      0.6987,      0.6997,      0.7007,      0.7017,      0.7027,      0.7037,      0.7047,     0.70571,     0.70671,     0.70771,     0.70871,     0.70971,     0.71071,     0.71171,     0.71271,     0.71371,     0.71471,     0.71572,     0.71672,     0.71772,     0.71872,     0.71972,\n",
            "           0.72072,     0.72172,     0.72272,     0.72372,     0.72472,     0.72573,     0.72673,     0.72773,     0.72873,     0.72973,     0.73073,     0.73173,     0.73273,     0.73373,     0.73473,     0.73574,     0.73674,     0.73774,     0.73874,     0.73974,     0.74074,     0.74174,     0.74274,     0.74374,\n",
            "           0.74474,     0.74575,     0.74675,     0.74775,     0.74875,     0.74975,     0.75075,     0.75175,     0.75275,     0.75375,     0.75475,     0.75576,     0.75676,     0.75776,     0.75876,     0.75976,     0.76076,     0.76176,     0.76276,     0.76376,     0.76476,     0.76577,     0.76677,     0.76777,\n",
            "           0.76877,     0.76977,     0.77077,     0.77177,     0.77277,     0.77377,     0.77477,     0.77578,     0.77678,     0.77778,     0.77878,     0.77978,     0.78078,     0.78178,     0.78278,     0.78378,     0.78478,     0.78579,     0.78679,     0.78779,     0.78879,     0.78979,     0.79079,     0.79179,\n",
            "           0.79279,     0.79379,     0.79479,      0.7958,      0.7968,      0.7978,      0.7988,      0.7998,      0.8008,      0.8018,      0.8028,      0.8038,      0.8048,     0.80581,     0.80681,     0.80781,     0.80881,     0.80981,     0.81081,     0.81181,     0.81281,     0.81381,     0.81481,     0.81582,\n",
            "           0.81682,     0.81782,     0.81882,     0.81982,     0.82082,     0.82182,     0.82282,     0.82382,     0.82482,     0.82583,     0.82683,     0.82783,     0.82883,     0.82983,     0.83083,     0.83183,     0.83283,     0.83383,     0.83483,     0.83584,     0.83684,     0.83784,     0.83884,     0.83984,\n",
            "           0.84084,     0.84184,     0.84284,     0.84384,     0.84484,     0.84585,     0.84685,     0.84785,     0.84885,     0.84985,     0.85085,     0.85185,     0.85285,     0.85385,     0.85485,     0.85586,     0.85686,     0.85786,     0.85886,     0.85986,     0.86086,     0.86186,     0.86286,     0.86386,\n",
            "           0.86486,     0.86587,     0.86687,     0.86787,     0.86887,     0.86987,     0.87087,     0.87187,     0.87287,     0.87387,     0.87487,     0.87588,     0.87688,     0.87788,     0.87888,     0.87988,     0.88088,     0.88188,     0.88288,     0.88388,     0.88488,     0.88589,     0.88689,     0.88789,\n",
            "           0.88889,     0.88989,     0.89089,     0.89189,     0.89289,     0.89389,     0.89489,      0.8959,      0.8969,      0.8979,      0.8989,      0.8999,      0.9009,      0.9019,      0.9029,      0.9039,      0.9049,     0.90591,     0.90691,     0.90791,     0.90891,     0.90991,     0.91091,     0.91191,\n",
            "           0.91291,     0.91391,     0.91491,     0.91592,     0.91692,     0.91792,     0.91892,     0.91992,     0.92092,     0.92192,     0.92292,     0.92392,     0.92492,     0.92593,     0.92693,     0.92793,     0.92893,     0.92993,     0.93093,     0.93193,     0.93293,     0.93393,     0.93493,     0.93594,\n",
            "           0.93694,     0.93794,     0.93894,     0.93994,     0.94094,     0.94194,     0.94294,     0.94394,     0.94494,     0.94595,     0.94695,     0.94795,     0.94895,     0.94995,     0.95095,     0.95195,     0.95295,     0.95395,     0.95495,     0.95596,     0.95696,     0.95796,     0.95896,     0.95996,\n",
            "           0.96096,     0.96196,     0.96296,     0.96396,     0.96496,     0.96597,     0.96697,     0.96797,     0.96897,     0.96997,     0.97097,     0.97197,     0.97297,     0.97397,     0.97497,     0.97598,     0.97698,     0.97798,     0.97898,     0.97998,     0.98098,     0.98198,     0.98298,     0.98398,\n",
            "           0.98498,     0.98599,     0.98699,     0.98799,     0.98899,     0.98999,     0.99099,     0.99199,     0.99299,     0.99399,     0.99499,       0.996,       0.997,       0.998,       0.999,           1]), array([[    0.20028,     0.20028,     0.24504,     0.27185,     0.29183,     0.31173,      0.3269,      0.3364,     0.34862,     0.35854,     0.36575,     0.37376,     0.38169,     0.38664,     0.39435,     0.40135,     0.41194,      0.4173,     0.41981,     0.42208,      0.4275,     0.43264,       0.435,\n",
            "            0.43632,     0.44082,     0.44147,     0.44341,     0.44917,     0.45061,     0.45248,     0.45399,     0.46094,     0.46156,     0.46217,     0.46639,     0.47289,     0.47527,       0.476,     0.47785,     0.48272,     0.48885,     0.49241,     0.49152,     0.49357,     0.49553,      0.4966,\n",
            "            0.49711,     0.49761,     0.49811,     0.50049,     0.50124,     0.50639,     0.50805,     0.50905,     0.51102,     0.51227,     0.51487,     0.51547,     0.51608,     0.51673,     0.51775,     0.52061,     0.52484,      0.5289,     0.53021,     0.53164,     0.53375,     0.53769,     0.53898,\n",
            "            0.53992,     0.54074,     0.54131,     0.54189,     0.54247,     0.54506,     0.54654,     0.55412,     0.55637,     0.55724,     0.56094,     0.56624,     0.56845,     0.56774,     0.56996,      0.5707,     0.57143,     0.57284,     0.57678,     0.57818,     0.57995,     0.58256,     0.58516,\n",
            "            0.59145,     0.59423,     0.59675,     0.59722,      0.5977,     0.59817,     0.59864,     0.59912,     0.60007,     0.60104,     0.60201,     0.60301,     0.60401,     0.60752,     0.61678,     0.61942,     0.62242,     0.62676,     0.62984,      0.6309,     0.63167,     0.63244,     0.63333,\n",
            "            0.63459,     0.63585,     0.63862,     0.64006,     0.64135,     0.64524,     0.64633,     0.64742,     0.64902,     0.65101,     0.65344,     0.65756,     0.65868,     0.65979,     0.66114,     0.66268,     0.66461,     0.66997,     0.67082,     0.67166,     0.67251,     0.67399,      0.6799,\n",
            "            0.68052,     0.68114,     0.68176,     0.68237,     0.68299,     0.68289,      0.6825,     0.68211,     0.68172,     0.68253,     0.68394,     0.68568,     0.68847,     0.69062,     0.69204,     0.69234,     0.69264,     0.69294,     0.69324,     0.69354,     0.69384,     0.69414,     0.69444,\n",
            "            0.69474,     0.69504,     0.69534,     0.69719,     0.70201,     0.70316,     0.70378,     0.70441,     0.70503,     0.70566,     0.70726,     0.71034,     0.71112,     0.71191,      0.7127,     0.71348,     0.71425,     0.71501,     0.71577,     0.71654,     0.71731,     0.71829,     0.71926,\n",
            "            0.72024,     0.72205,     0.72551,     0.72675,     0.72799,     0.72899,     0.72965,     0.73031,     0.73096,     0.73162,     0.73228,     0.73275,     0.73302,     0.73329,     0.73356,     0.73383,      0.7341,     0.73438,     0.73465,     0.73492,     0.73519,     0.73546,     0.73573,\n",
            "              0.736,     0.73627,     0.73654,     0.73701,     0.73749,     0.73797,     0.73846,     0.73894,     0.73942,      0.7399,     0.74038,     0.74087,     0.74135,     0.74184,     0.74233,     0.74282,     0.74331,     0.74379,     0.74428,     0.74544,     0.74751,     0.74915,     0.75029,\n",
            "            0.75142,     0.75256,     0.75399,     0.75548,     0.75695,     0.75795,     0.75895,     0.75996,     0.76096,     0.76024,     0.76137,     0.76249,     0.76361,     0.76471,     0.76579,     0.76687,     0.76795,     0.77102,      0.7767,     0.77829,     0.77951,     0.78074,     0.78126,\n",
            "            0.78028,     0.78002,     0.77976,      0.7795,     0.77923,     0.77942,     0.78033,     0.78125,     0.78217,     0.78308,      0.7882,     0.78812,     0.78804,     0.78796,     0.78788,     0.78779,     0.78771,     0.78763,     0.78755,     0.78747,     0.78739,      0.7873,     0.78722,\n",
            "            0.78714,     0.78706,     0.78703,     0.78765,     0.78826,     0.78888,     0.78949,     0.79011,     0.79073,     0.79134,     0.79152,      0.7912,     0.79089,     0.79058,     0.79107,     0.79238,     0.79369,       0.795,     0.79598,     0.79691,     0.79783,     0.79876,     0.79969,\n",
            "            0.80103,     0.80258,     0.80412,      0.8039,       0.804,     0.80435,     0.80471,     0.80507,     0.80542,     0.80578,     0.80614,     0.80649,     0.80685,     0.80721,     0.80756,     0.80792,     0.80828,     0.80863,     0.80791,     0.80734,     0.80704,     0.80675,     0.80645,\n",
            "            0.80676,      0.8084,     0.81005,     0.81235,     0.81661,     0.81814,     0.81966,     0.82118,     0.82333,     0.82577,      0.8273,     0.82802,     0.82874,     0.82946,     0.83018,      0.8309,     0.83162,     0.83225,     0.83213,     0.83201,     0.83189,     0.83178,     0.83166,\n",
            "            0.83154,     0.83143,     0.83131,     0.83119,     0.83097,     0.83073,     0.83049,     0.83024,        0.83,     0.82978,     0.82956,     0.82933,     0.82911,     0.82869,     0.82779,      0.8274,       0.827,     0.82664,     0.82649,     0.82634,     0.82618,     0.82603,     0.82587,\n",
            "            0.82572,     0.82557,     0.82539,     0.82519,     0.82499,     0.82479,      0.8246,      0.8244,     0.82452,     0.82483,     0.82514,     0.82546,     0.82577,     0.82608,     0.82639,     0.82671,     0.82702,     0.82733,     0.82764,     0.82796,     0.82827,     0.82858,     0.82889,\n",
            "             0.8292,     0.82952,     0.82983,     0.83168,     0.83428,     0.83514,     0.83472,     0.83544,     0.83616,     0.83688,      0.8376,     0.83831,     0.83903,     0.83975,     0.84044,     0.84105,     0.84166,     0.84227,     0.84288,     0.84348,     0.84409,      0.8447,     0.84531,\n",
            "            0.84592,     0.85381,     0.85692,     0.85794,     0.85757,      0.8572,     0.86111,     0.86317,     0.86291,     0.86266,      0.8624,     0.86223,      0.8621,     0.86197,     0.86184,     0.86171,     0.86158,     0.86145,     0.86132,     0.86579,     0.86911,     0.87155,     0.87399,\n",
            "            0.87352,     0.87301,     0.87264,     0.87226,     0.87085,     0.87017,     0.86994,      0.8697,     0.86946,     0.86929,     0.87128,     0.87326,     0.87525,     0.87573,     0.87536,       0.875,     0.87467,     0.87434,     0.87371,      0.8728,     0.87257,     0.87234,     0.87212,\n",
            "             0.8719,      0.8717,     0.87151,     0.87131,     0.87111,     0.87082,     0.87029,     0.86977,     0.86926,     0.86879,      0.8685,      0.8682,     0.86791,     0.86748,     0.86693,     0.86684,     0.86715,     0.86747,     0.86779,     0.86811,     0.86843,     0.86874,     0.86906,\n",
            "            0.86938,      0.8697,     0.87002,     0.87033,     0.87065,     0.87097,     0.87129,     0.87161,     0.87192,     0.87224,     0.87256,     0.87288,      0.8732,     0.87351,     0.87383,     0.87475,     0.87602,     0.87729,     0.87856,     0.87983,     0.88111,     0.88415,     0.88762,\n",
            "            0.88879,     0.88864,     0.88848,     0.88833,     0.88817,     0.88802,      0.8877,     0.88717,     0.88672,     0.88631,     0.88587,     0.88525,     0.88463,     0.88399,     0.89308,     0.89464,      0.8962,     0.89777,     0.89933,     0.89994,     0.89983,     0.89973,     0.89962,\n",
            "            0.89951,     0.89941,      0.8993,      0.8992,     0.89909,     0.90133,     0.90376,     0.90619,     0.90735,     0.90723,     0.90711,     0.90699,     0.90687,     0.90676,     0.90664,      0.9068,     0.90805,     0.90931,     0.91056,     0.91182,     0.91307,     0.91432,     0.91499,\n",
            "            0.91473,     0.91446,     0.91426,     0.91418,      0.9141,     0.91402,     0.91394,     0.91386,     0.91378,      0.9137,     0.91362,     0.91354,     0.91344,     0.91607,     0.92136,      0.9209,     0.92008,     0.91984,     0.91966,     0.91948,      0.9193,     0.91909,     0.91884,\n",
            "            0.91858,     0.91825,     0.91764,     0.91882,        0.92,     0.92118,     0.92236,     0.92354,     0.92472,      0.9259,     0.92708,     0.92903,     0.93098,     0.93294,     0.93489,     0.93684,     0.93666,     0.93648,     0.93629,     0.93793,     0.94344,     0.94608,     0.94577,\n",
            "            0.94682,     0.94865,     0.95048,     0.95231,     0.95414,     0.95597,     0.95589,     0.95572,     0.95555,     0.95479,     0.95448,     0.95439,      0.9543,     0.95421,     0.95412,     0.95404,     0.95593,     0.95816,     0.96039,     0.96262,     0.96485,     0.96486,     0.96426,\n",
            "             0.9642,     0.96414,     0.96408,     0.96402,     0.96397,     0.96391,      0.9638,     0.96337,     0.96317,     0.96297,     0.96278,      0.9626,     0.96241,     0.96221,     0.96202,      0.9619,     0.96177,     0.96164,     0.96115,     0.96097,      0.9609,     0.96083,     0.96075,\n",
            "            0.96068,     0.96061,     0.96054,     0.97324,     0.97287,     0.97259,     0.97251,     0.97242,     0.97234,     0.97226,     0.97214,       0.972,     0.97186,     0.97132,     0.97117,     0.97101,     0.97089,     0.97077,     0.97065,     0.97047,     0.97024,     0.96912,     0.96867,\n",
            "            0.96809,     0.96787,     0.96766,     0.96745,     0.96724,     0.96717,     0.96711,     0.96706,       0.967,     0.96695,      0.9669,     0.96684,     0.96679,     0.96673,     0.96668,     0.96659,     0.96649,     0.96639,     0.96628,     0.96618,     0.96587,     0.96519,     0.96481,\n",
            "            0.96454,     0.96427,     0.96401,     0.96375,     0.96361,     0.96356,     0.96351,     0.96347,     0.96342,     0.96337,     0.96333,     0.96328,     0.96323,     0.96318,     0.96314,     0.96309,     0.96304,     0.96299,     0.96278,     0.96226,     0.96214,     0.96202,     0.96189,\n",
            "            0.96177,     0.96165,     0.96152,     0.96132,     0.96112,     0.96092,      0.9606,     0.96002,      0.9596,     0.95918,     0.95898,     0.95878,     0.95858,     0.95838,     0.95828,     0.95821,     0.95814,     0.95807,       0.958,     0.95793,     0.95786,     0.95779,     0.95772,\n",
            "            0.95765,     0.95758,     0.95751,     0.95743,     0.95732,     0.95721,      0.9571,       0.957,     0.95689,     0.95678,     0.95667,     0.95656,     0.95627,     0.95589,     0.95554,     0.95542,      0.9553,     0.95518,     0.95506,     0.95494,     0.95482,      0.9547,     0.95458,\n",
            "             0.9761,     0.99081,           1,           1,           1,           1,           1,           1,           1,           1,           1,           1,           1,           1,           1,           1,           1,           1,           1,           1,           1,           1,           1,\n",
            "                  1,           1,           1,           1,           1,           1,           1,           1,           1,           1,           1,           1,           1,           1,           1,           1,           1,           1,           1,           1,           1,           1,           1,\n",
            "                  1,           1,           1,           1,           1,           1,           1,           1,           1,           1,           1,           1,           1,           1,           1,           1,           1,           1,           1,           1,           1,           1,           1,\n",
            "                  1,           1,           1,           1,           1,           1,           1,           1,           1,           1,           1,           1,           1,           1,           1,           1,           1,           1,           1,           1,           1,           1,           1,\n",
            "                  1,           1,           1,           1,           1,           1,           1,           1,           1,           1,           1,           1,           1,           1,           1,           1,           1,           1,           1,           1,           1,           1,           1,\n",
            "                  1,           1,           1,           1,           1,           1,           1,           1,           1,           1,           1,           1,           1,           1,           1,           1,           1,           1,           1,           1,           1,           1,           1,\n",
            "                  1,           1,           1,           1,           1,           1,           1,           1,           1,           1,           1,           1,           1,           1,           1,           1,           1,           1,           1,           1,           1,           1,           1,\n",
            "                  1,           1,           1,           1,           1,           1,           1,           1,           1,           1,           1,           1,           1,           1,           1,           1,           1,           1,           1,           1,           1,           1,           1,\n",
            "                  1,           1,           1,           1,           1,           1,           1,           1,           1,           1,           1,           1,           1,           1,           1,           1,           1,           1,           1,           1,           1,           1,           1,\n",
            "                  1,           1,           1,           1,           1,           1,           1,           1,           1,           1,           1,           1,           1,           1,           1,           1,           1,           1,           1,           1,           1,           1,           1,\n",
            "                  1,           1,           1,           1,           1,           1,           1,           1,           1,           1,           1]]), 'Confidence', 'Precision'], [array([          0,    0.001001,    0.002002,    0.003003,    0.004004,    0.005005,    0.006006,    0.007007,    0.008008,    0.009009,     0.01001,    0.011011,    0.012012,    0.013013,    0.014014,    0.015015,    0.016016,    0.017017,    0.018018,    0.019019,     0.02002,    0.021021,    0.022022,    0.023023,\n",
            "          0.024024,    0.025025,    0.026026,    0.027027,    0.028028,    0.029029,     0.03003,    0.031031,    0.032032,    0.033033,    0.034034,    0.035035,    0.036036,    0.037037,    0.038038,    0.039039,     0.04004,    0.041041,    0.042042,    0.043043,    0.044044,    0.045045,    0.046046,    0.047047,\n",
            "          0.048048,    0.049049,     0.05005,    0.051051,    0.052052,    0.053053,    0.054054,    0.055055,    0.056056,    0.057057,    0.058058,    0.059059,     0.06006,    0.061061,    0.062062,    0.063063,    0.064064,    0.065065,    0.066066,    0.067067,    0.068068,    0.069069,     0.07007,    0.071071,\n",
            "          0.072072,    0.073073,    0.074074,    0.075075,    0.076076,    0.077077,    0.078078,    0.079079,     0.08008,    0.081081,    0.082082,    0.083083,    0.084084,    0.085085,    0.086086,    0.087087,    0.088088,    0.089089,     0.09009,    0.091091,    0.092092,    0.093093,    0.094094,    0.095095,\n",
            "          0.096096,    0.097097,    0.098098,    0.099099,      0.1001,      0.1011,      0.1021,      0.1031,      0.1041,     0.10511,     0.10611,     0.10711,     0.10811,     0.10911,     0.11011,     0.11111,     0.11211,     0.11311,     0.11411,     0.11512,     0.11612,     0.11712,     0.11812,     0.11912,\n",
            "           0.12012,     0.12112,     0.12212,     0.12312,     0.12412,     0.12513,     0.12613,     0.12713,     0.12813,     0.12913,     0.13013,     0.13113,     0.13213,     0.13313,     0.13413,     0.13514,     0.13614,     0.13714,     0.13814,     0.13914,     0.14014,     0.14114,     0.14214,     0.14314,\n",
            "           0.14414,     0.14515,     0.14615,     0.14715,     0.14815,     0.14915,     0.15015,     0.15115,     0.15215,     0.15315,     0.15415,     0.15516,     0.15616,     0.15716,     0.15816,     0.15916,     0.16016,     0.16116,     0.16216,     0.16316,     0.16416,     0.16517,     0.16617,     0.16717,\n",
            "           0.16817,     0.16917,     0.17017,     0.17117,     0.17217,     0.17317,     0.17417,     0.17518,     0.17618,     0.17718,     0.17818,     0.17918,     0.18018,     0.18118,     0.18218,     0.18318,     0.18418,     0.18519,     0.18619,     0.18719,     0.18819,     0.18919,     0.19019,     0.19119,\n",
            "           0.19219,     0.19319,     0.19419,      0.1952,      0.1962,      0.1972,      0.1982,      0.1992,      0.2002,      0.2012,      0.2022,      0.2032,      0.2042,     0.20521,     0.20621,     0.20721,     0.20821,     0.20921,     0.21021,     0.21121,     0.21221,     0.21321,     0.21421,     0.21522,\n",
            "           0.21622,     0.21722,     0.21822,     0.21922,     0.22022,     0.22122,     0.22222,     0.22322,     0.22422,     0.22523,     0.22623,     0.22723,     0.22823,     0.22923,     0.23023,     0.23123,     0.23223,     0.23323,     0.23423,     0.23524,     0.23624,     0.23724,     0.23824,     0.23924,\n",
            "           0.24024,     0.24124,     0.24224,     0.24324,     0.24424,     0.24525,     0.24625,     0.24725,     0.24825,     0.24925,     0.25025,     0.25125,     0.25225,     0.25325,     0.25425,     0.25526,     0.25626,     0.25726,     0.25826,     0.25926,     0.26026,     0.26126,     0.26226,     0.26326,\n",
            "           0.26426,     0.26527,     0.26627,     0.26727,     0.26827,     0.26927,     0.27027,     0.27127,     0.27227,     0.27327,     0.27427,     0.27528,     0.27628,     0.27728,     0.27828,     0.27928,     0.28028,     0.28128,     0.28228,     0.28328,     0.28428,     0.28529,     0.28629,     0.28729,\n",
            "           0.28829,     0.28929,     0.29029,     0.29129,     0.29229,     0.29329,     0.29429,      0.2953,      0.2963,      0.2973,      0.2983,      0.2993,      0.3003,      0.3013,      0.3023,      0.3033,      0.3043,     0.30531,     0.30631,     0.30731,     0.30831,     0.30931,     0.31031,     0.31131,\n",
            "           0.31231,     0.31331,     0.31431,     0.31532,     0.31632,     0.31732,     0.31832,     0.31932,     0.32032,     0.32132,     0.32232,     0.32332,     0.32432,     0.32533,     0.32633,     0.32733,     0.32833,     0.32933,     0.33033,     0.33133,     0.33233,     0.33333,     0.33433,     0.33534,\n",
            "           0.33634,     0.33734,     0.33834,     0.33934,     0.34034,     0.34134,     0.34234,     0.34334,     0.34434,     0.34535,     0.34635,     0.34735,     0.34835,     0.34935,     0.35035,     0.35135,     0.35235,     0.35335,     0.35435,     0.35536,     0.35636,     0.35736,     0.35836,     0.35936,\n",
            "           0.36036,     0.36136,     0.36236,     0.36336,     0.36436,     0.36537,     0.36637,     0.36737,     0.36837,     0.36937,     0.37037,     0.37137,     0.37237,     0.37337,     0.37437,     0.37538,     0.37638,     0.37738,     0.37838,     0.37938,     0.38038,     0.38138,     0.38238,     0.38338,\n",
            "           0.38438,     0.38539,     0.38639,     0.38739,     0.38839,     0.38939,     0.39039,     0.39139,     0.39239,     0.39339,     0.39439,      0.3954,      0.3964,      0.3974,      0.3984,      0.3994,      0.4004,      0.4014,      0.4024,      0.4034,      0.4044,     0.40541,     0.40641,     0.40741,\n",
            "           0.40841,     0.40941,     0.41041,     0.41141,     0.41241,     0.41341,     0.41441,     0.41542,     0.41642,     0.41742,     0.41842,     0.41942,     0.42042,     0.42142,     0.42242,     0.42342,     0.42442,     0.42543,     0.42643,     0.42743,     0.42843,     0.42943,     0.43043,     0.43143,\n",
            "           0.43243,     0.43343,     0.43443,     0.43544,     0.43644,     0.43744,     0.43844,     0.43944,     0.44044,     0.44144,     0.44244,     0.44344,     0.44444,     0.44545,     0.44645,     0.44745,     0.44845,     0.44945,     0.45045,     0.45145,     0.45245,     0.45345,     0.45445,     0.45546,\n",
            "           0.45646,     0.45746,     0.45846,     0.45946,     0.46046,     0.46146,     0.46246,     0.46346,     0.46446,     0.46547,     0.46647,     0.46747,     0.46847,     0.46947,     0.47047,     0.47147,     0.47247,     0.47347,     0.47447,     0.47548,     0.47648,     0.47748,     0.47848,     0.47948,\n",
            "           0.48048,     0.48148,     0.48248,     0.48348,     0.48448,     0.48549,     0.48649,     0.48749,     0.48849,     0.48949,     0.49049,     0.49149,     0.49249,     0.49349,     0.49449,      0.4955,      0.4965,      0.4975,      0.4985,      0.4995,      0.5005,      0.5015,      0.5025,      0.5035,\n",
            "            0.5045,     0.50551,     0.50651,     0.50751,     0.50851,     0.50951,     0.51051,     0.51151,     0.51251,     0.51351,     0.51451,     0.51552,     0.51652,     0.51752,     0.51852,     0.51952,     0.52052,     0.52152,     0.52252,     0.52352,     0.52452,     0.52553,     0.52653,     0.52753,\n",
            "           0.52853,     0.52953,     0.53053,     0.53153,     0.53253,     0.53353,     0.53453,     0.53554,     0.53654,     0.53754,     0.53854,     0.53954,     0.54054,     0.54154,     0.54254,     0.54354,     0.54454,     0.54555,     0.54655,     0.54755,     0.54855,     0.54955,     0.55055,     0.55155,\n",
            "           0.55255,     0.55355,     0.55455,     0.55556,     0.55656,     0.55756,     0.55856,     0.55956,     0.56056,     0.56156,     0.56256,     0.56356,     0.56456,     0.56557,     0.56657,     0.56757,     0.56857,     0.56957,     0.57057,     0.57157,     0.57257,     0.57357,     0.57457,     0.57558,\n",
            "           0.57658,     0.57758,     0.57858,     0.57958,     0.58058,     0.58158,     0.58258,     0.58358,     0.58458,     0.58559,     0.58659,     0.58759,     0.58859,     0.58959,     0.59059,     0.59159,     0.59259,     0.59359,     0.59459,      0.5956,      0.5966,      0.5976,      0.5986,      0.5996,\n",
            "            0.6006,      0.6016,      0.6026,      0.6036,      0.6046,     0.60561,     0.60661,     0.60761,     0.60861,     0.60961,     0.61061,     0.61161,     0.61261,     0.61361,     0.61461,     0.61562,     0.61662,     0.61762,     0.61862,     0.61962,     0.62062,     0.62162,     0.62262,     0.62362,\n",
            "           0.62462,     0.62563,     0.62663,     0.62763,     0.62863,     0.62963,     0.63063,     0.63163,     0.63263,     0.63363,     0.63463,     0.63564,     0.63664,     0.63764,     0.63864,     0.63964,     0.64064,     0.64164,     0.64264,     0.64364,     0.64464,     0.64565,     0.64665,     0.64765,\n",
            "           0.64865,     0.64965,     0.65065,     0.65165,     0.65265,     0.65365,     0.65465,     0.65566,     0.65666,     0.65766,     0.65866,     0.65966,     0.66066,     0.66166,     0.66266,     0.66366,     0.66466,     0.66567,     0.66667,     0.66767,     0.66867,     0.66967,     0.67067,     0.67167,\n",
            "           0.67267,     0.67367,     0.67467,     0.67568,     0.67668,     0.67768,     0.67868,     0.67968,     0.68068,     0.68168,     0.68268,     0.68368,     0.68468,     0.68569,     0.68669,     0.68769,     0.68869,     0.68969,     0.69069,     0.69169,     0.69269,     0.69369,     0.69469,      0.6957,\n",
            "            0.6967,      0.6977,      0.6987,      0.6997,      0.7007,      0.7017,      0.7027,      0.7037,      0.7047,     0.70571,     0.70671,     0.70771,     0.70871,     0.70971,     0.71071,     0.71171,     0.71271,     0.71371,     0.71471,     0.71572,     0.71672,     0.71772,     0.71872,     0.71972,\n",
            "           0.72072,     0.72172,     0.72272,     0.72372,     0.72472,     0.72573,     0.72673,     0.72773,     0.72873,     0.72973,     0.73073,     0.73173,     0.73273,     0.73373,     0.73473,     0.73574,     0.73674,     0.73774,     0.73874,     0.73974,     0.74074,     0.74174,     0.74274,     0.74374,\n",
            "           0.74474,     0.74575,     0.74675,     0.74775,     0.74875,     0.74975,     0.75075,     0.75175,     0.75275,     0.75375,     0.75475,     0.75576,     0.75676,     0.75776,     0.75876,     0.75976,     0.76076,     0.76176,     0.76276,     0.76376,     0.76476,     0.76577,     0.76677,     0.76777,\n",
            "           0.76877,     0.76977,     0.77077,     0.77177,     0.77277,     0.77377,     0.77477,     0.77578,     0.77678,     0.77778,     0.77878,     0.77978,     0.78078,     0.78178,     0.78278,     0.78378,     0.78478,     0.78579,     0.78679,     0.78779,     0.78879,     0.78979,     0.79079,     0.79179,\n",
            "           0.79279,     0.79379,     0.79479,      0.7958,      0.7968,      0.7978,      0.7988,      0.7998,      0.8008,      0.8018,      0.8028,      0.8038,      0.8048,     0.80581,     0.80681,     0.80781,     0.80881,     0.80981,     0.81081,     0.81181,     0.81281,     0.81381,     0.81481,     0.81582,\n",
            "           0.81682,     0.81782,     0.81882,     0.81982,     0.82082,     0.82182,     0.82282,     0.82382,     0.82482,     0.82583,     0.82683,     0.82783,     0.82883,     0.82983,     0.83083,     0.83183,     0.83283,     0.83383,     0.83483,     0.83584,     0.83684,     0.83784,     0.83884,     0.83984,\n",
            "           0.84084,     0.84184,     0.84284,     0.84384,     0.84484,     0.84585,     0.84685,     0.84785,     0.84885,     0.84985,     0.85085,     0.85185,     0.85285,     0.85385,     0.85485,     0.85586,     0.85686,     0.85786,     0.85886,     0.85986,     0.86086,     0.86186,     0.86286,     0.86386,\n",
            "           0.86486,     0.86587,     0.86687,     0.86787,     0.86887,     0.86987,     0.87087,     0.87187,     0.87287,     0.87387,     0.87487,     0.87588,     0.87688,     0.87788,     0.87888,     0.87988,     0.88088,     0.88188,     0.88288,     0.88388,     0.88488,     0.88589,     0.88689,     0.88789,\n",
            "           0.88889,     0.88989,     0.89089,     0.89189,     0.89289,     0.89389,     0.89489,      0.8959,      0.8969,      0.8979,      0.8989,      0.8999,      0.9009,      0.9019,      0.9029,      0.9039,      0.9049,     0.90591,     0.90691,     0.90791,     0.90891,     0.90991,     0.91091,     0.91191,\n",
            "           0.91291,     0.91391,     0.91491,     0.91592,     0.91692,     0.91792,     0.91892,     0.91992,     0.92092,     0.92192,     0.92292,     0.92392,     0.92492,     0.92593,     0.92693,     0.92793,     0.92893,     0.92993,     0.93093,     0.93193,     0.93293,     0.93393,     0.93493,     0.93594,\n",
            "           0.93694,     0.93794,     0.93894,     0.93994,     0.94094,     0.94194,     0.94294,     0.94394,     0.94494,     0.94595,     0.94695,     0.94795,     0.94895,     0.94995,     0.95095,     0.95195,     0.95295,     0.95395,     0.95495,     0.95596,     0.95696,     0.95796,     0.95896,     0.95996,\n",
            "           0.96096,     0.96196,     0.96296,     0.96396,     0.96496,     0.96597,     0.96697,     0.96797,     0.96897,     0.96997,     0.97097,     0.97197,     0.97297,     0.97397,     0.97497,     0.97598,     0.97698,     0.97798,     0.97898,     0.97998,     0.98098,     0.98198,     0.98298,     0.98398,\n",
            "           0.98498,     0.98599,     0.98699,     0.98799,     0.98899,     0.98999,     0.99099,     0.99199,     0.99299,     0.99399,     0.99499,       0.996,       0.997,       0.998,       0.999,           1]), array([[    0.97279,     0.97279,     0.97279,     0.96599,     0.96599,     0.96599,     0.96599,     0.96599,     0.96599,     0.96599,     0.96599,     0.96599,     0.96599,     0.96599,     0.96599,     0.96599,     0.96599,     0.96599,     0.96599,     0.96599,     0.96599,     0.96599,     0.96599,\n",
            "            0.96364,     0.95918,     0.95918,     0.95918,     0.95918,     0.95918,     0.95918,     0.95918,     0.95918,     0.95918,     0.95918,     0.95918,     0.95918,     0.95918,     0.95918,     0.95918,     0.95918,     0.95918,     0.95692,     0.95238,     0.95238,     0.95238,     0.95238,\n",
            "            0.95238,     0.95238,     0.95238,     0.95238,     0.95238,     0.95238,     0.95238,     0.95238,     0.95238,     0.95238,     0.95238,     0.95238,     0.95238,     0.95238,     0.95238,     0.95238,     0.95238,     0.95238,     0.95238,     0.95238,     0.95238,     0.95238,     0.95238,\n",
            "            0.95238,     0.95238,     0.95238,     0.95238,     0.95238,     0.95238,     0.95238,     0.95238,     0.95238,     0.95238,     0.95238,     0.95238,     0.94984,     0.94709,     0.94558,     0.94558,     0.94558,     0.94558,     0.94558,     0.94558,     0.94558,     0.94558,     0.94558,\n",
            "            0.94558,     0.94558,     0.94558,     0.94558,     0.94558,     0.94558,     0.94558,     0.94558,     0.94558,     0.94558,     0.94558,     0.94558,     0.94558,     0.94558,     0.94558,     0.94558,     0.94558,     0.94558,     0.93878,     0.93878,     0.93878,     0.93878,     0.93878,\n",
            "            0.93878,     0.93878,     0.93878,     0.93878,     0.93878,     0.93878,     0.93878,     0.93878,     0.93878,     0.93878,     0.93878,     0.93878,     0.93878,     0.93878,     0.93878,     0.93878,     0.93878,     0.93878,     0.93878,     0.93878,     0.93878,     0.93878,     0.93878,\n",
            "            0.93878,     0.93878,     0.93878,     0.93878,     0.93878,     0.93757,     0.93589,     0.93421,     0.93253,     0.93197,     0.93197,     0.93197,     0.93197,     0.93197,     0.93197,     0.93197,     0.93197,     0.93197,     0.93197,     0.93197,     0.93197,     0.93197,     0.93197,\n",
            "            0.93197,     0.93197,     0.93197,     0.93197,     0.93197,     0.93197,     0.93197,     0.93197,     0.93197,     0.93197,     0.93197,     0.93197,     0.93197,     0.93197,     0.93197,     0.93197,     0.93197,     0.93197,     0.93197,     0.93197,     0.93197,     0.93197,     0.93197,\n",
            "            0.93197,     0.93197,     0.93197,     0.93197,     0.93197,     0.93197,     0.93197,     0.93197,     0.93197,     0.93197,     0.93197,     0.93197,     0.93197,     0.93197,     0.93197,     0.93197,     0.93197,     0.93197,     0.93197,     0.93197,     0.93197,     0.93197,     0.93197,\n",
            "            0.93197,     0.93197,     0.93197,     0.93197,     0.93197,     0.93197,     0.93197,     0.93197,     0.93197,     0.93197,     0.93197,     0.93197,     0.93197,     0.93197,     0.93197,     0.93197,     0.93197,     0.93197,     0.93197,     0.93197,     0.93197,     0.93197,     0.93197,\n",
            "            0.93197,     0.93197,     0.93197,     0.93197,     0.93197,     0.93197,     0.93197,     0.93197,     0.93197,     0.92517,     0.92517,     0.92517,     0.92517,     0.92517,     0.92517,     0.92517,     0.92517,     0.92517,     0.92517,     0.92517,     0.92517,     0.92517,     0.92329,\n",
            "            0.91804,     0.91664,     0.91523,     0.91383,     0.91243,     0.91156,     0.91156,     0.91156,     0.91156,     0.91156,      0.9114,     0.91095,     0.91051,     0.91006,     0.90962,     0.90917,     0.90873,     0.90828,     0.90784,     0.90739,     0.90695,     0.90651,     0.90606,\n",
            "            0.90562,     0.90517,     0.90476,     0.90476,     0.90476,     0.90476,     0.90476,     0.90476,     0.90476,     0.90476,     0.90395,     0.90224,     0.90053,     0.89882,     0.89796,     0.89796,     0.89796,     0.89796,     0.89796,     0.89796,     0.89796,     0.89796,     0.89796,\n",
            "            0.89796,     0.89796,     0.89796,     0.89238,     0.89116,     0.89116,     0.89116,     0.89116,     0.89116,     0.89116,     0.89116,     0.89116,     0.89116,     0.89116,     0.89116,     0.89116,     0.89116,     0.89116,     0.88696,      0.8837,     0.88203,     0.88037,      0.8787,\n",
            "            0.87755,     0.87755,     0.87755,     0.87755,     0.87755,     0.87755,     0.87755,     0.87755,     0.87755,     0.87755,     0.87755,     0.87755,     0.87755,     0.87755,     0.87755,     0.87755,     0.87755,     0.87747,     0.87674,     0.87601,     0.87528,     0.87455,     0.87382,\n",
            "            0.87309,     0.87236,     0.87163,     0.87089,     0.86955,     0.86805,     0.86654,     0.86504,     0.86358,     0.86221,     0.86085,     0.85949,     0.85812,     0.85559,     0.85022,     0.84787,     0.84552,      0.8434,      0.8425,      0.8416,      0.8407,      0.8398,      0.8389,\n",
            "              0.838,      0.8371,     0.83606,     0.83492,     0.83378,     0.83264,      0.8315,     0.83036,     0.82993,     0.82993,     0.82993,     0.82993,     0.82993,     0.82993,     0.82993,     0.82993,     0.82993,     0.82993,     0.82993,     0.82993,     0.82993,     0.82993,     0.82993,\n",
            "            0.82993,     0.82993,     0.82993,     0.82993,     0.82993,     0.82708,     0.82313,     0.82313,     0.82313,     0.82313,     0.82313,     0.82313,     0.82313,     0.82313,     0.82313,     0.82313,     0.82313,     0.82313,     0.82313,     0.82313,     0.82313,     0.82313,     0.82313,\n",
            "            0.82313,     0.82313,     0.82313,     0.82165,     0.81919,     0.81674,     0.81633,     0.81538,     0.81361,     0.81184,     0.81008,     0.80892,     0.80804,     0.80716,     0.80627,     0.80539,     0.80451,     0.80363,     0.80275,     0.80272,     0.80272,     0.80272,     0.80272,\n",
            "            0.79871,     0.79504,     0.79236,     0.78968,     0.77978,     0.77514,     0.77352,      0.7719,     0.77028,     0.76871,     0.76871,     0.76871,     0.76871,     0.76706,     0.76446,     0.76187,     0.75959,     0.75731,     0.75304,     0.74688,     0.74534,     0.74381,     0.74227,\n",
            "            0.74085,     0.73954,     0.73824,     0.73693,     0.73563,     0.73372,     0.73031,     0.72695,     0.72369,     0.72071,     0.71886,     0.71701,     0.71516,     0.71248,     0.70908,     0.70748,     0.70748,     0.70748,     0.70748,     0.70748,     0.70748,     0.70748,     0.70748,\n",
            "            0.70748,     0.70748,     0.70748,     0.70748,     0.70748,     0.70748,     0.70748,     0.70748,     0.70748,     0.70748,     0.70748,     0.70748,     0.70748,     0.70748,     0.70748,     0.70748,     0.70748,     0.70748,     0.70748,     0.70748,     0.70748,     0.70748,     0.70748,\n",
            "            0.70678,     0.70568,     0.70459,     0.70349,     0.70239,     0.70129,     0.69905,      0.6954,     0.69224,     0.68943,     0.68641,     0.68227,     0.67809,     0.67387,     0.67347,     0.67347,     0.67347,     0.67347,     0.67347,     0.67302,     0.67223,     0.67145,     0.67066,\n",
            "            0.66987,     0.66909,      0.6683,     0.66751,     0.66672,     0.66667,     0.66667,     0.66667,      0.6662,     0.66527,     0.66434,      0.6634,     0.66247,     0.66154,     0.66061,     0.65986,     0.65986,     0.65986,     0.65986,     0.65986,     0.65986,     0.65986,       0.659,\n",
            "            0.65678,     0.65455,     0.65284,     0.65218,     0.65152,     0.65086,     0.65021,     0.64955,     0.64889,     0.64823,     0.64757,     0.64691,     0.64612,     0.63946,     0.63766,     0.63362,     0.62655,     0.62447,     0.62296,     0.62146,     0.61995,     0.61821,     0.61612,\n",
            "            0.61403,     0.61132,     0.60544,     0.60544,     0.60544,     0.60544,     0.60544,     0.60544,     0.60544,     0.60544,     0.60544,     0.60544,     0.60544,     0.60544,     0.60544,     0.60544,     0.60359,     0.60174,      0.5999,     0.59864,     0.59864,     0.59683,     0.59316,\n",
            "            0.59184,     0.59184,     0.59184,     0.59184,     0.59184,     0.59184,     0.58963,     0.58733,       0.585,     0.57468,     0.57057,     0.56942,     0.56826,     0.56711,     0.56595,      0.5648,     0.56463,     0.56463,     0.56463,     0.56463,     0.56463,     0.56035,     0.55059,\n",
            "            0.54967,     0.54874,     0.54782,     0.54689,     0.54596,     0.54504,     0.54333,      0.5367,     0.53369,     0.53068,     0.52796,     0.52523,     0.52249,     0.51971,     0.51696,     0.51519,     0.51343,     0.51166,     0.50498,     0.50249,     0.50153,     0.50058,     0.49962,\n",
            "            0.49866,      0.4977,     0.49674,      0.4948,     0.48797,     0.48278,     0.48129,     0.47981,     0.47832,     0.47683,     0.47479,     0.47234,     0.46989,     0.46082,     0.45829,     0.45576,     0.45383,     0.45189,     0.44996,     0.44722,     0.44366,     0.42707,     0.42073,\n",
            "            0.41281,     0.40993,     0.40711,     0.40439,     0.40167,     0.40076,     0.40009,     0.39942,     0.39875,     0.39808,     0.39741,     0.39673,     0.39606,     0.39539,     0.39472,     0.39363,      0.3924,     0.39118,     0.38996,     0.38873,       0.385,     0.37732,     0.37302,\n",
            "            0.37009,     0.36718,     0.36443,     0.36169,     0.36027,     0.35979,     0.35931,     0.35883,     0.35836,     0.35788,      0.3574,     0.35692,     0.35645,     0.35597,     0.35549,     0.35502,     0.35454,     0.35406,       0.352,      0.3469,     0.34575,      0.3446,     0.34346,\n",
            "            0.34231,     0.34117,     0.33996,     0.33816,     0.33636,     0.33456,     0.33175,     0.32672,     0.32316,     0.31969,     0.31809,     0.31648,     0.31487,     0.31327,      0.3125,     0.31196,     0.31143,     0.31089,     0.31035,     0.30981,     0.30927,     0.30874,      0.3082,\n",
            "            0.30766,     0.30712,     0.30659,     0.30601,     0.30521,     0.30441,     0.30361,      0.3028,       0.302,      0.3012,      0.3004,      0.2996,     0.29756,     0.29486,     0.29241,      0.2916,      0.2908,     0.28999,     0.28919,     0.28838,     0.28757,     0.28677,     0.28596,\n",
            "            0.28571,     0.28571,     0.28504,     0.28318,     0.28132,     0.27945,     0.27505,     0.27158,     0.27044,     0.26929,     0.26814,       0.267,     0.26585,     0.26091,     0.25725,      0.2555,     0.25374,     0.25199,     0.25072,     0.24954,     0.24837,     0.24719,     0.24601,\n",
            "            0.24485,      0.2439,     0.24295,     0.24201,     0.24106,     0.24011,     0.23916,     0.23822,     0.22862,     0.22267,     0.21965,     0.21679,     0.21424,     0.21168,     0.20864,     0.20537,     0.20311,      0.2015,      0.1999,     0.19829,     0.19472,     0.18296,     0.18032,\n",
            "            0.17768,     0.17558,     0.17373,     0.17187,     0.16926,     0.16258,     0.16168,     0.16078,     0.15987,     0.15897,     0.15807,     0.15717,     0.15529,     0.14979,     0.14819,     0.14669,     0.14519,     0.14369,     0.13357,     0.12843,     0.12728,     0.12612,     0.12497,\n",
            "            0.12382,     0.12267,     0.12041,     0.11789,     0.11556,     0.11471,     0.11386,     0.11301,     0.11217,     0.11132,     0.11047,     0.10962,     0.10734,    0.094386,    0.092067,    0.089749,    0.087526,    0.085427,    0.083329,    0.081515,    0.080904,    0.080293,    0.079682,\n",
            "           0.079071,    0.078461,     0.07785,    0.077239,    0.076628,    0.076017,    0.075406,    0.074787,    0.074043,    0.073298,    0.072554,     0.07181,    0.071065,    0.070321,    0.069577,    0.068832,    0.068088,    0.064337,    0.061002,    0.060015,    0.059028,    0.058041,    0.057054,\n",
            "           0.056067,     0.05508,     0.05427,    0.053814,    0.053358,    0.052902,    0.052446,     0.05199,    0.051534,    0.051077,    0.050621,    0.050165,    0.049709,    0.049253,    0.048797,    0.048341,    0.047885,    0.045902,    0.041781,    0.035108,    0.025811,    0.024133,    0.022454,\n",
            "           0.020776,    0.013877,    0.010972,   0.0082501,           0,           0,           0,           0,           0,           0,           0,           0,           0,           0,           0,           0,           0,           0,           0,           0,           0,           0,           0,\n",
            "                  0,           0,           0,           0,           0,           0,           0,           0,           0,           0,           0,           0,           0,           0,           0,           0,           0,           0,           0,           0,           0,           0,           0,\n",
            "                  0,           0,           0,           0,           0,           0,           0,           0,           0,           0,           0,           0,           0,           0,           0,           0,           0,           0,           0,           0,           0,           0,           0,\n",
            "                  0,           0,           0,           0,           0,           0,           0,           0,           0,           0,           0,           0,           0,           0,           0,           0,           0,           0,           0,           0,           0,           0,           0,\n",
            "                  0,           0,           0,           0,           0,           0,           0,           0,           0,           0,           0]]), 'Confidence', 'Recall']]\n",
            "fitness: 0.5517868851563311\n",
            "keys: ['metrics/precision(B)', 'metrics/recall(B)', 'metrics/mAP50(B)', 'metrics/mAP50-95(B)']\n",
            "maps: array([    0.51303])\n",
            "names: {0: 'smoke'}\n",
            "plot: True\n",
            "results_dict: {'metrics/precision(B)': 0.805781187527856, 'metrics/recall(B)': 0.891156462585034, 'metrics/mAP50(B)': 0.9006079918959273, 'metrics/mAP50-95(B)': 0.5130289844074871, 'fitness': 0.5517868851563311}\n",
            "save_dir: PosixPath('runs/detect/train42')\n",
            "speed: {'preprocess': 0.541344791853509, 'inference': 6.056756389384367, 'loss': 0.0009098831488161671, 'postprocess': 2.930877971000412}\n",
            "task: 'detect'\n"
          ]
        }
      ]
    },
    {
      "cell_type": "code",
      "source": [
        "%cd /content/drive/MyDrive/WildfireSmoke.v1-raw.yolov8"
      ],
      "metadata": {
        "id": "PMnBUVTVPeog",
        "outputId": "49f8cefe-bb07-49ba-b78f-e71d1253289e",
        "colab": {
          "base_uri": "https://localhost:8080/"
        }
      },
      "execution_count": null,
      "outputs": [
        {
          "output_type": "stream",
          "name": "stdout",
          "text": [
            "/content/drive/MyDrive/WildfireSmoke.v1-raw.yolov8\n"
          ]
        }
      ]
    },
    {
      "cell_type": "code",
      "source": [
        "import locale\n",
        "locale.getpreferredencoding = lambda: \"UTF-8\""
      ],
      "metadata": {
        "id": "-rOYZ_vChiNl"
      },
      "execution_count": null,
      "outputs": []
    },
    {
      "cell_type": "code",
      "source": [
        "!yolo task=detect mode=predict model= /content/drive/MyDrive/WildfireSmoke.v1-raw.yolov8/valid save=True"
      ],
      "metadata": {
        "id": "DKWmvvMFhiLA",
        "outputId": "31b4977c-92c7-4ad9-8691-d3a6a0d606cd",
        "colab": {
          "base_uri": "https://localhost:8080/"
        }
      },
      "execution_count": null,
      "outputs": [
        {
          "output_type": "stream",
          "name": "stdout",
          "text": [
            "WARNING ⚠️ 'source' argument is missing. Using default 'source=/usr/local/lib/python3.10/dist-packages/ultralytics/assets'.\n",
            "Ultralytics YOLOv8.2.84 🚀 Python-3.10.12 torch-2.4.0+cu121 CUDA:0 (NVIDIA A100-SXM4-40GB, 40514MiB)\n",
            "Traceback (most recent call last):\n",
            "  File \"/usr/local/bin/yolo\", line 8, in <module>\n",
            "    sys.exit(entrypoint())\n",
            "  File \"/usr/local/lib/python3.10/dist-packages/ultralytics/cfg/__init__.py\", line 830, in entrypoint\n",
            "    getattr(model, mode)(**overrides)  # default args from model\n",
            "  File \"/usr/local/lib/python3.10/dist-packages/ultralytics/engine/model.py\", line 560, in predict\n",
            "    self.predictor.setup_model(model=self.model, verbose=is_cli)\n",
            "  File \"/usr/local/lib/python3.10/dist-packages/ultralytics/engine/predictor.py\", line 303, in setup_model\n",
            "    self.model = AutoBackend(\n",
            "  File \"/usr/local/lib/python3.10/dist-packages/torch/utils/_contextlib.py\", line 116, in decorate_context\n",
            "    return func(*args, **kwargs)\n",
            "  File \"/usr/local/lib/python3.10/dist-packages/ultralytics/nn/autobackend.py\", line 400, in __init__\n",
            "    raise TypeError(\n",
            "TypeError: model='/content/drive/MyDrive/WildfireSmoke.v1-raw.yolov8/valid' is not a supported model format. See https://docs.ultralytics.com/modes/predict for help.\n",
            "\n",
            "                   Format     Argument           Suffix    CPU    GPU\n",
            "0                 PyTorch            -              .pt   True   True\n",
            "1             TorchScript  torchscript     .torchscript   True   True\n",
            "2                    ONNX         onnx            .onnx   True   True\n",
            "3                OpenVINO     openvino  _openvino_model   True  False\n",
            "4                TensorRT       engine          .engine  False   True\n",
            "5                  CoreML       coreml       .mlpackage   True  False\n",
            "6   TensorFlow SavedModel  saved_model     _saved_model   True   True\n",
            "7     TensorFlow GraphDef           pb              .pb   True   True\n",
            "8         TensorFlow Lite       tflite          .tflite   True  False\n",
            "9     TensorFlow Edge TPU      edgetpu  _edgetpu.tflite   True  False\n",
            "10          TensorFlow.js         tfjs       _web_model   True  False\n",
            "11           PaddlePaddle       paddle    _paddle_model   True   True\n",
            "12                   NCNN         ncnn      _ncnn_model   True   True\n"
          ]
        }
      ]
    },
    {
      "cell_type": "code",
      "source": [
        "%cd /content/drive/MyDrive/WildfireSmoke.v1-raw.yolov8/train\n",
        "!yolo task=detect mode=predict model= /content/drive/MyDrive/WildfireSmoke.v1-raw.yolov8/runs/detect/train3/weights/best.pt source= /content/drive/MyDrive/WILDFIRE save=True"
      ],
      "metadata": {
        "id": "0KH3dexahiIq",
        "outputId": "d2d5a6bf-eaae-4f21-803b-048d548d017d",
        "colab": {
          "base_uri": "https://localhost:8080/"
        }
      },
      "execution_count": null,
      "outputs": [
        {
          "output_type": "stream",
          "name": "stdout",
          "text": [
            "/content/drive/MyDrive/WildfireSmoke.v1-raw.yolov8/train\n",
            "Ultralytics YOLOv8.2.84 🚀 Python-3.10.12 torch-2.4.0+cu121 CUDA:0 (NVIDIA A100-SXM4-40GB, 40514MiB)\n",
            "Model summary (fused): 168 layers, 3,005,843 parameters, 0 gradients, 8.1 GFLOPs\n",
            "\n",
            "image 1/7 /content/drive/MyDrive/WILDFIRE/wildfire1.jpg: 384x640 (no detections), 44.8ms\n",
            "image 2/7 /content/drive/MyDrive/WILDFIRE/wildfire2.jpg: 640x640 (no detections), 8.5ms\n",
            "image 3/7 /content/drive/MyDrive/WILDFIRE/wildfire3.jpeg: 384x640 (no detections), 8.6ms\n",
            "image 4/7 /content/drive/MyDrive/WILDFIRE/wildfire4.jpg: 480x640 1 smoke, 45.2ms\n",
            "image 5/7 /content/drive/MyDrive/WILDFIRE/wildfire5.jpg: 448x640 (no detections), 44.4ms\n",
            "image 6/7 /content/drive/MyDrive/WILDFIRE/wildfire6.jpg: 448x640 (no detections), 7.9ms\n",
            "image 7/7 /content/drive/MyDrive/WILDFIRE/wildfire7.jpg: 384x640 (no detections), 8.4ms\n",
            "Speed: 2.9ms preprocess, 24.0ms inference, 80.7ms postprocess per image at shape (1, 3, 384, 640)\n",
            "Results saved to \u001b[1mruns/detect/predict\u001b[0m\n",
            "💡 Learn more at https://docs.ultralytics.com/modes/predict\n"
          ]
        }
      ]
    },
    {
      "cell_type": "code",
      "source": [],
      "metadata": {
        "id": "SPDE8MNjsR9i"
      },
      "execution_count": null,
      "outputs": []
    }
  ],
  "metadata": {
    "colab": {
      "provenance": [],
      "machine_shape": "hm",
      "gpuType": "A100"
    },
    "kernelspec": {
      "display_name": "Python 3",
      "name": "python3"
    },
    "accelerator": "GPU"
  },
  "nbformat": 4,
  "nbformat_minor": 0
}